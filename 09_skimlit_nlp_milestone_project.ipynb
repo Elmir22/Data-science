{
  "nbformat": 4,
  "nbformat_minor": 0,
  "metadata": {
    "colab": {
      "provenance": [],
      "gpuType": "T4",
      "authorship_tag": "ABX9TyOQnfKjuUHGsjqR0z4/gmAj",
      "include_colab_link": true
    },
    "kernelspec": {
      "name": "python3",
      "display_name": "Python 3"
    },
    "language_info": {
      "name": "python"
    },
    "accelerator": "GPU"
  },
  "cells": [
    {
      "cell_type": "markdown",
      "metadata": {
        "id": "view-in-github",
        "colab_type": "text"
      },
      "source": [
        "<a href=\"https://colab.research.google.com/github/Elmir22/Data-science-ML-models-/blob/main/09_skimlit_nlp_milestone_project.ipynb\" target=\"_parent\"><img src=\"https://colab.research.google.com/assets/colab-badge.svg\" alt=\"Open In Colab\"/></a>"
      ]
    },
    {
      "cell_type": "code",
      "execution_count": 27,
      "metadata": {
        "colab": {
          "base_uri": "https://localhost:8080/"
        },
        "id": "AukP4D3yGnwj",
        "outputId": "a19f5c01-7ea0-49a0-c80f-434656d63293"
      },
      "outputs": [
        {
          "output_type": "stream",
          "name": "stdout",
          "text": [
            "fatal: destination path 'pubmed-rct' already exists and is not an empty directory.\n",
            "PubMed_200k_RCT\t\t\t\t       PubMed_20k_RCT_numbers_replaced_with_at_sign\n",
            "PubMed_200k_RCT_numbers_replaced_with_at_sign  README.md\n",
            "PubMed_20k_RCT\n"
          ]
        }
      ],
      "source": [
        "!git clone https://github.com/Franck-Dernoncourt/pubmed-rct\n",
        "!ls pubmed-rct"
      ]
    },
    {
      "cell_type": "code",
      "source": [
        "data_dir = \"/content/pubmed-rct/PubMed_20k_RCT_numbers_replaced_with_at_sign/\""
      ],
      "metadata": {
        "id": "7hrJndXJPLw4"
      },
      "execution_count": 28,
      "outputs": []
    },
    {
      "cell_type": "code",
      "source": [
        "import os\n",
        "file_names = [data_dir + file_name for file_name in os.listdir(data_dir)]\n",
        "file_names"
      ],
      "metadata": {
        "colab": {
          "base_uri": "https://localhost:8080/"
        },
        "id": "pSR7G47cPvDe",
        "outputId": "ab48d287-edfa-48e8-9531-dbf93a7fff32"
      },
      "execution_count": 29,
      "outputs": [
        {
          "output_type": "execute_result",
          "data": {
            "text/plain": [
              "['/content/pubmed-rct/PubMed_20k_RCT_numbers_replaced_with_at_sign/train.txt',\n",
              " '/content/pubmed-rct/PubMed_20k_RCT_numbers_replaced_with_at_sign/test.txt',\n",
              " '/content/pubmed-rct/PubMed_20k_RCT_numbers_replaced_with_at_sign/dev.txt']"
            ]
          },
          "metadata": {},
          "execution_count": 29
        }
      ]
    },
    {
      "cell_type": "code",
      "source": [
        "def get_lines(filename):\n",
        "  with open(filename, 'r') as f:\n",
        "    return f.readlines()"
      ],
      "metadata": {
        "id": "EqxW9M6jP_nm"
      },
      "execution_count": 30,
      "outputs": []
    },
    {
      "cell_type": "code",
      "source": [
        "train_lines = get_lines(data_dir + 'train.txt')\n",
        "train_lines[:20]"
      ],
      "metadata": {
        "colab": {
          "base_uri": "https://localhost:8080/"
        },
        "id": "Va_jcdvtQcT-",
        "outputId": "60e137e4-7570-4fd1-fe50-5c3106f0c6cf"
      },
      "execution_count": 31,
      "outputs": [
        {
          "output_type": "execute_result",
          "data": {
            "text/plain": [
              "['###24293578\\n',\n",
              " 'OBJECTIVE\\tTo investigate the efficacy of @ weeks of daily low-dose oral prednisolone in improving pain , mobility , and systemic low-grade inflammation in the short term and whether the effect would be sustained at @ weeks in older adults with moderate to severe knee osteoarthritis ( OA ) .\\n',\n",
              " 'METHODS\\tA total of @ patients with primary knee OA were randomized @:@ ; @ received @ mg/day of prednisolone and @ received placebo for @ weeks .\\n',\n",
              " 'METHODS\\tOutcome measures included pain reduction and improvement in function scores and systemic inflammation markers .\\n',\n",
              " 'METHODS\\tPain was assessed using the visual analog pain scale ( @-@ mm ) .\\n',\n",
              " 'METHODS\\tSecondary outcome measures included the Western Ontario and McMaster Universities Osteoarthritis Index scores , patient global assessment ( PGA ) of the severity of knee OA , and @-min walk distance ( @MWD ) .\\n',\n",
              " 'METHODS\\tSerum levels of interleukin @ ( IL-@ ) , IL-@ , tumor necrosis factor ( TNF ) - , and high-sensitivity C-reactive protein ( hsCRP ) were measured .\\n',\n",
              " 'RESULTS\\tThere was a clinically relevant reduction in the intervention group compared to the placebo group for knee pain , physical function , PGA , and @MWD at @ weeks .\\n',\n",
              " 'RESULTS\\tThe mean difference between treatment arms ( @ % CI ) was @ ( @-@ @ ) , p < @ ; @ ( @-@ @ ) , p < @ ; @ ( @-@ @ ) , p < @ ; and @ ( @-@ @ ) , p < @ , respectively .\\n',\n",
              " 'RESULTS\\tFurther , there was a clinically relevant reduction in the serum levels of IL-@ , IL-@ , TNF - , and hsCRP at @ weeks in the intervention group when compared to the placebo group .\\n',\n",
              " 'RESULTS\\tThese differences remained significant at @ weeks .\\n',\n",
              " 'RESULTS\\tThe Outcome Measures in Rheumatology Clinical Trials-Osteoarthritis Research Society International responder rate was @ % in the intervention group and @ % in the placebo group ( p < @ ) .\\n',\n",
              " 'CONCLUSIONS\\tLow-dose oral prednisolone had both a short-term and a longer sustained effect resulting in less knee pain , better physical function , and attenuation of systemic inflammation in older patients with knee OA ( ClinicalTrials.gov identifier NCT@ ) .\\n',\n",
              " '\\n',\n",
              " '###24854809\\n',\n",
              " 'BACKGROUND\\tEmotional eating is associated with overeating and the development of obesity .\\n',\n",
              " 'BACKGROUND\\tYet , empirical evidence for individual ( trait ) differences in emotional eating and cognitive mechanisms that contribute to eating during sad mood remain equivocal .\\n',\n",
              " 'OBJECTIVE\\tThe aim of this study was to test if attention bias for food moderates the effect of self-reported emotional eating during sad mood ( vs neutral mood ) on actual food intake .\\n',\n",
              " 'OBJECTIVE\\tIt was expected that emotional eating is predictive of elevated attention for food and higher food intake after an experimentally induced sad mood and that attentional maintenance on food predicts food intake during a sad versus a neutral mood .\\n',\n",
              " 'METHODS\\tParticipants ( N = @ ) were randomly assigned to one of the two experimental mood induction conditions ( sad/neutral ) .\\n']"
            ]
          },
          "metadata": {},
          "execution_count": 31
        }
      ]
    },
    {
      "cell_type": "code",
      "source": [
        "len(train_lines)"
      ],
      "metadata": {
        "colab": {
          "base_uri": "https://localhost:8080/"
        },
        "id": "fTNZI0X-Qmh9",
        "outputId": "88e887b6-58d1-4573-cb30-7901f93e29a8"
      },
      "execution_count": 32,
      "outputs": [
        {
          "output_type": "execute_result",
          "data": {
            "text/plain": [
              "210040"
            ]
          },
          "metadata": {},
          "execution_count": 32
        }
      ]
    },
    {
      "cell_type": "code",
      "source": [
        "def preprocess_text_with_line_numbers(filename):\n",
        "  \"\"\"Returns a list of dictionaries of abstract line data.\n",
        "\n",
        "  Takes in filename, reads its contents and sorts through each line,\n",
        "  extracting things like the target label, the text of the sentence,\n",
        "  how many sentences are in the current abstract and what sentence number\n",
        "  the target line is.\n",
        "\n",
        "  Args:\n",
        "      filename: a string of the target text file to read and extract line data\n",
        "      from.\n",
        "\n",
        "  Returns:\n",
        "      A list of dictionaries each containing a line from an abstract,\n",
        "      the lines label, the lines position in the abstract and the total number\n",
        "      of lines in the abstract where the line is from. For example:\n",
        "\n",
        "      [{\"target\": 'CONCLUSION',\n",
        "        \"text\": The study couldn't have gone better, turns out people are kinder than you think\",\n",
        "        \"line_number\": 8,\n",
        "        \"total_lines\": 8}]\n",
        "  \"\"\"\n",
        "  input_lines = get_lines(filename) # get all lines from filename\n",
        "  abstract_lines = \"\" # create an empty abstract\n",
        "  abstract_samples = [] # create an empty list of abstracts\n",
        "\n",
        "  # Loop through each line in target file\n",
        "  for line in input_lines:\n",
        "    if line.startswith(\"###\"): # check to see if line is an ID line\n",
        "      abstract_id = line\n",
        "      abstract_lines = \"\" # reset abstract string\n",
        "    elif line.isspace(): # check to see if line is a new line\n",
        "      abstract_line_split = abstract_lines.splitlines() # split abstract into separate lines\n",
        "\n",
        "      # Iterate through each line in abstract and count them at the same time\n",
        "      for abstract_line_number, abstract_line in enumerate(abstract_line_split):\n",
        "        line_data = {} # create empty dict to store data from line\n",
        "        target_text_split = abstract_line.split(\"\\t\") # split target label from text\n",
        "        line_data[\"target\"] = target_text_split[0] # get target label\n",
        "        line_data[\"text\"] = target_text_split[1].lower() # get target text and lower it\n",
        "        line_data[\"line_number\"] = abstract_line_number # what number line does the line appear in the abstract?\n",
        "        line_data[\"total_lines\"] = len(abstract_line_split) - 1 # how many total lines are in the abstract? (start from 0)\n",
        "        abstract_samples.append(line_data) # add line data to abstract samples list\n",
        "\n",
        "    else: # if the above conditions aren't fulfilled, the line contains a labelled sentence\n",
        "      abstract_lines += line\n",
        "\n",
        "  return abstract_samples"
      ],
      "metadata": {
        "id": "r0gynurtRqTz"
      },
      "execution_count": 33,
      "outputs": []
    },
    {
      "cell_type": "code",
      "source": [
        "train_samples = preprocess_text_with_line_numbers(data_dir + 'train.txt')\n",
        "val_samples = preprocess_text_with_line_numbers(data_dir + 'dev.txt')\n",
        "test_samples = preprocess_text_with_line_numbers(data_dir + 'test.txt')\n",
        "print(len(train_samples))"
      ],
      "metadata": {
        "colab": {
          "base_uri": "https://localhost:8080/"
        },
        "id": "C3i0DxtDSiO1",
        "outputId": "01061357-2a33-4150-b82a-4f4088f0e733"
      },
      "execution_count": 34,
      "outputs": [
        {
          "output_type": "stream",
          "name": "stdout",
          "text": [
            "180040\n"
          ]
        }
      ]
    },
    {
      "cell_type": "code",
      "source": [
        "import pandas as pd\n",
        "\n",
        "train_df = pd.DataFrame(train_samples)\n",
        "val_df = pd.DataFrame(val_samples)\n",
        "test_df = pd.DataFrame(test_samples)"
      ],
      "metadata": {
        "id": "BhFqbA8-TM_D"
      },
      "execution_count": 35,
      "outputs": []
    },
    {
      "cell_type": "code",
      "source": [
        "train_df.head(14)"
      ],
      "metadata": {
        "colab": {
          "base_uri": "https://localhost:8080/",
          "height": 488
        },
        "id": "m6Cv8JTuTxBp",
        "outputId": "74bcfda8-d639-43c7-a7fa-19aa4c2c99eb"
      },
      "execution_count": 36,
      "outputs": [
        {
          "output_type": "execute_result",
          "data": {
            "text/plain": [
              "         target                                               text  \\\n",
              "0     OBJECTIVE  to investigate the efficacy of @ weeks of dail...   \n",
              "1       METHODS  a total of @ patients with primary knee oa wer...   \n",
              "2       METHODS  outcome measures included pain reduction and i...   \n",
              "3       METHODS  pain was assessed using the visual analog pain...   \n",
              "4       METHODS  secondary outcome measures included the wester...   \n",
              "5       METHODS  serum levels of interleukin @ ( il-@ ) , il-@ ...   \n",
              "6       RESULTS  there was a clinically relevant reduction in t...   \n",
              "7       RESULTS  the mean difference between treatment arms ( @...   \n",
              "8       RESULTS  further , there was a clinically relevant redu...   \n",
              "9       RESULTS  these differences remained significant at @ we...   \n",
              "10      RESULTS  the outcome measures in rheumatology clinical ...   \n",
              "11  CONCLUSIONS  low-dose oral prednisolone had both a short-te...   \n",
              "12   BACKGROUND  emotional eating is associated with overeating...   \n",
              "13   BACKGROUND  yet , empirical evidence for individual ( trai...   \n",
              "\n",
              "    line_number  total_lines  \n",
              "0             0           11  \n",
              "1             1           11  \n",
              "2             2           11  \n",
              "3             3           11  \n",
              "4             4           11  \n",
              "5             5           11  \n",
              "6             6           11  \n",
              "7             7           11  \n",
              "8             8           11  \n",
              "9             9           11  \n",
              "10           10           11  \n",
              "11           11           11  \n",
              "12            0           10  \n",
              "13            1           10  "
            ],
            "text/html": [
              "\n",
              "  <div id=\"df-d864582d-f589-455a-8305-c1a3f864f026\" class=\"colab-df-container\">\n",
              "    <div>\n",
              "<style scoped>\n",
              "    .dataframe tbody tr th:only-of-type {\n",
              "        vertical-align: middle;\n",
              "    }\n",
              "\n",
              "    .dataframe tbody tr th {\n",
              "        vertical-align: top;\n",
              "    }\n",
              "\n",
              "    .dataframe thead th {\n",
              "        text-align: right;\n",
              "    }\n",
              "</style>\n",
              "<table border=\"1\" class=\"dataframe\">\n",
              "  <thead>\n",
              "    <tr style=\"text-align: right;\">\n",
              "      <th></th>\n",
              "      <th>target</th>\n",
              "      <th>text</th>\n",
              "      <th>line_number</th>\n",
              "      <th>total_lines</th>\n",
              "    </tr>\n",
              "  </thead>\n",
              "  <tbody>\n",
              "    <tr>\n",
              "      <th>0</th>\n",
              "      <td>OBJECTIVE</td>\n",
              "      <td>to investigate the efficacy of @ weeks of dail...</td>\n",
              "      <td>0</td>\n",
              "      <td>11</td>\n",
              "    </tr>\n",
              "    <tr>\n",
              "      <th>1</th>\n",
              "      <td>METHODS</td>\n",
              "      <td>a total of @ patients with primary knee oa wer...</td>\n",
              "      <td>1</td>\n",
              "      <td>11</td>\n",
              "    </tr>\n",
              "    <tr>\n",
              "      <th>2</th>\n",
              "      <td>METHODS</td>\n",
              "      <td>outcome measures included pain reduction and i...</td>\n",
              "      <td>2</td>\n",
              "      <td>11</td>\n",
              "    </tr>\n",
              "    <tr>\n",
              "      <th>3</th>\n",
              "      <td>METHODS</td>\n",
              "      <td>pain was assessed using the visual analog pain...</td>\n",
              "      <td>3</td>\n",
              "      <td>11</td>\n",
              "    </tr>\n",
              "    <tr>\n",
              "      <th>4</th>\n",
              "      <td>METHODS</td>\n",
              "      <td>secondary outcome measures included the wester...</td>\n",
              "      <td>4</td>\n",
              "      <td>11</td>\n",
              "    </tr>\n",
              "    <tr>\n",
              "      <th>5</th>\n",
              "      <td>METHODS</td>\n",
              "      <td>serum levels of interleukin @ ( il-@ ) , il-@ ...</td>\n",
              "      <td>5</td>\n",
              "      <td>11</td>\n",
              "    </tr>\n",
              "    <tr>\n",
              "      <th>6</th>\n",
              "      <td>RESULTS</td>\n",
              "      <td>there was a clinically relevant reduction in t...</td>\n",
              "      <td>6</td>\n",
              "      <td>11</td>\n",
              "    </tr>\n",
              "    <tr>\n",
              "      <th>7</th>\n",
              "      <td>RESULTS</td>\n",
              "      <td>the mean difference between treatment arms ( @...</td>\n",
              "      <td>7</td>\n",
              "      <td>11</td>\n",
              "    </tr>\n",
              "    <tr>\n",
              "      <th>8</th>\n",
              "      <td>RESULTS</td>\n",
              "      <td>further , there was a clinically relevant redu...</td>\n",
              "      <td>8</td>\n",
              "      <td>11</td>\n",
              "    </tr>\n",
              "    <tr>\n",
              "      <th>9</th>\n",
              "      <td>RESULTS</td>\n",
              "      <td>these differences remained significant at @ we...</td>\n",
              "      <td>9</td>\n",
              "      <td>11</td>\n",
              "    </tr>\n",
              "    <tr>\n",
              "      <th>10</th>\n",
              "      <td>RESULTS</td>\n",
              "      <td>the outcome measures in rheumatology clinical ...</td>\n",
              "      <td>10</td>\n",
              "      <td>11</td>\n",
              "    </tr>\n",
              "    <tr>\n",
              "      <th>11</th>\n",
              "      <td>CONCLUSIONS</td>\n",
              "      <td>low-dose oral prednisolone had both a short-te...</td>\n",
              "      <td>11</td>\n",
              "      <td>11</td>\n",
              "    </tr>\n",
              "    <tr>\n",
              "      <th>12</th>\n",
              "      <td>BACKGROUND</td>\n",
              "      <td>emotional eating is associated with overeating...</td>\n",
              "      <td>0</td>\n",
              "      <td>10</td>\n",
              "    </tr>\n",
              "    <tr>\n",
              "      <th>13</th>\n",
              "      <td>BACKGROUND</td>\n",
              "      <td>yet , empirical evidence for individual ( trai...</td>\n",
              "      <td>1</td>\n",
              "      <td>10</td>\n",
              "    </tr>\n",
              "  </tbody>\n",
              "</table>\n",
              "</div>\n",
              "    <div class=\"colab-df-buttons\">\n",
              "\n",
              "  <div class=\"colab-df-container\">\n",
              "    <button class=\"colab-df-convert\" onclick=\"convertToInteractive('df-d864582d-f589-455a-8305-c1a3f864f026')\"\n",
              "            title=\"Convert this dataframe to an interactive table.\"\n",
              "            style=\"display:none;\">\n",
              "\n",
              "  <svg xmlns=\"http://www.w3.org/2000/svg\" height=\"24px\" viewBox=\"0 -960 960 960\">\n",
              "    <path d=\"M120-120v-720h720v720H120Zm60-500h600v-160H180v160Zm220 220h160v-160H400v160Zm0 220h160v-160H400v160ZM180-400h160v-160H180v160Zm440 0h160v-160H620v160ZM180-180h160v-160H180v160Zm440 0h160v-160H620v160Z\"/>\n",
              "  </svg>\n",
              "    </button>\n",
              "\n",
              "  <style>\n",
              "    .colab-df-container {\n",
              "      display:flex;\n",
              "      gap: 12px;\n",
              "    }\n",
              "\n",
              "    .colab-df-convert {\n",
              "      background-color: #E8F0FE;\n",
              "      border: none;\n",
              "      border-radius: 50%;\n",
              "      cursor: pointer;\n",
              "      display: none;\n",
              "      fill: #1967D2;\n",
              "      height: 32px;\n",
              "      padding: 0 0 0 0;\n",
              "      width: 32px;\n",
              "    }\n",
              "\n",
              "    .colab-df-convert:hover {\n",
              "      background-color: #E2EBFA;\n",
              "      box-shadow: 0px 1px 2px rgba(60, 64, 67, 0.3), 0px 1px 3px 1px rgba(60, 64, 67, 0.15);\n",
              "      fill: #174EA6;\n",
              "    }\n",
              "\n",
              "    .colab-df-buttons div {\n",
              "      margin-bottom: 4px;\n",
              "    }\n",
              "\n",
              "    [theme=dark] .colab-df-convert {\n",
              "      background-color: #3B4455;\n",
              "      fill: #D2E3FC;\n",
              "    }\n",
              "\n",
              "    [theme=dark] .colab-df-convert:hover {\n",
              "      background-color: #434B5C;\n",
              "      box-shadow: 0px 1px 3px 1px rgba(0, 0, 0, 0.15);\n",
              "      filter: drop-shadow(0px 1px 2px rgba(0, 0, 0, 0.3));\n",
              "      fill: #FFFFFF;\n",
              "    }\n",
              "  </style>\n",
              "\n",
              "    <script>\n",
              "      const buttonEl =\n",
              "        document.querySelector('#df-d864582d-f589-455a-8305-c1a3f864f026 button.colab-df-convert');\n",
              "      buttonEl.style.display =\n",
              "        google.colab.kernel.accessAllowed ? 'block' : 'none';\n",
              "\n",
              "      async function convertToInteractive(key) {\n",
              "        const element = document.querySelector('#df-d864582d-f589-455a-8305-c1a3f864f026');\n",
              "        const dataTable =\n",
              "          await google.colab.kernel.invokeFunction('convertToInteractive',\n",
              "                                                    [key], {});\n",
              "        if (!dataTable) return;\n",
              "\n",
              "        const docLinkHtml = 'Like what you see? Visit the ' +\n",
              "          '<a target=\"_blank\" href=https://colab.research.google.com/notebooks/data_table.ipynb>data table notebook</a>'\n",
              "          + ' to learn more about interactive tables.';\n",
              "        element.innerHTML = '';\n",
              "        dataTable['output_type'] = 'display_data';\n",
              "        await google.colab.output.renderOutput(dataTable, element);\n",
              "        const docLink = document.createElement('div');\n",
              "        docLink.innerHTML = docLinkHtml;\n",
              "        element.appendChild(docLink);\n",
              "      }\n",
              "    </script>\n",
              "  </div>\n",
              "\n",
              "\n",
              "<div id=\"df-82253d85-0eaa-44b0-a260-cfc6b9324d36\">\n",
              "  <button class=\"colab-df-quickchart\" onclick=\"quickchart('df-82253d85-0eaa-44b0-a260-cfc6b9324d36')\"\n",
              "            title=\"Suggest charts\"\n",
              "            style=\"display:none;\">\n",
              "\n",
              "<svg xmlns=\"http://www.w3.org/2000/svg\" height=\"24px\"viewBox=\"0 0 24 24\"\n",
              "     width=\"24px\">\n",
              "    <g>\n",
              "        <path d=\"M19 3H5c-1.1 0-2 .9-2 2v14c0 1.1.9 2 2 2h14c1.1 0 2-.9 2-2V5c0-1.1-.9-2-2-2zM9 17H7v-7h2v7zm4 0h-2V7h2v10zm4 0h-2v-4h2v4z\"/>\n",
              "    </g>\n",
              "</svg>\n",
              "  </button>\n",
              "\n",
              "<style>\n",
              "  .colab-df-quickchart {\n",
              "      --bg-color: #E8F0FE;\n",
              "      --fill-color: #1967D2;\n",
              "      --hover-bg-color: #E2EBFA;\n",
              "      --hover-fill-color: #174EA6;\n",
              "      --disabled-fill-color: #AAA;\n",
              "      --disabled-bg-color: #DDD;\n",
              "  }\n",
              "\n",
              "  [theme=dark] .colab-df-quickchart {\n",
              "      --bg-color: #3B4455;\n",
              "      --fill-color: #D2E3FC;\n",
              "      --hover-bg-color: #434B5C;\n",
              "      --hover-fill-color: #FFFFFF;\n",
              "      --disabled-bg-color: #3B4455;\n",
              "      --disabled-fill-color: #666;\n",
              "  }\n",
              "\n",
              "  .colab-df-quickchart {\n",
              "    background-color: var(--bg-color);\n",
              "    border: none;\n",
              "    border-radius: 50%;\n",
              "    cursor: pointer;\n",
              "    display: none;\n",
              "    fill: var(--fill-color);\n",
              "    height: 32px;\n",
              "    padding: 0;\n",
              "    width: 32px;\n",
              "  }\n",
              "\n",
              "  .colab-df-quickchart:hover {\n",
              "    background-color: var(--hover-bg-color);\n",
              "    box-shadow: 0 1px 2px rgba(60, 64, 67, 0.3), 0 1px 3px 1px rgba(60, 64, 67, 0.15);\n",
              "    fill: var(--button-hover-fill-color);\n",
              "  }\n",
              "\n",
              "  .colab-df-quickchart-complete:disabled,\n",
              "  .colab-df-quickchart-complete:disabled:hover {\n",
              "    background-color: var(--disabled-bg-color);\n",
              "    fill: var(--disabled-fill-color);\n",
              "    box-shadow: none;\n",
              "  }\n",
              "\n",
              "  .colab-df-spinner {\n",
              "    border: 2px solid var(--fill-color);\n",
              "    border-color: transparent;\n",
              "    border-bottom-color: var(--fill-color);\n",
              "    animation:\n",
              "      spin 1s steps(1) infinite;\n",
              "  }\n",
              "\n",
              "  @keyframes spin {\n",
              "    0% {\n",
              "      border-color: transparent;\n",
              "      border-bottom-color: var(--fill-color);\n",
              "      border-left-color: var(--fill-color);\n",
              "    }\n",
              "    20% {\n",
              "      border-color: transparent;\n",
              "      border-left-color: var(--fill-color);\n",
              "      border-top-color: var(--fill-color);\n",
              "    }\n",
              "    30% {\n",
              "      border-color: transparent;\n",
              "      border-left-color: var(--fill-color);\n",
              "      border-top-color: var(--fill-color);\n",
              "      border-right-color: var(--fill-color);\n",
              "    }\n",
              "    40% {\n",
              "      border-color: transparent;\n",
              "      border-right-color: var(--fill-color);\n",
              "      border-top-color: var(--fill-color);\n",
              "    }\n",
              "    60% {\n",
              "      border-color: transparent;\n",
              "      border-right-color: var(--fill-color);\n",
              "    }\n",
              "    80% {\n",
              "      border-color: transparent;\n",
              "      border-right-color: var(--fill-color);\n",
              "      border-bottom-color: var(--fill-color);\n",
              "    }\n",
              "    90% {\n",
              "      border-color: transparent;\n",
              "      border-bottom-color: var(--fill-color);\n",
              "    }\n",
              "  }\n",
              "</style>\n",
              "\n",
              "  <script>\n",
              "    async function quickchart(key) {\n",
              "      const quickchartButtonEl =\n",
              "        document.querySelector('#' + key + ' button');\n",
              "      quickchartButtonEl.disabled = true;  // To prevent multiple clicks.\n",
              "      quickchartButtonEl.classList.add('colab-df-spinner');\n",
              "      try {\n",
              "        const charts = await google.colab.kernel.invokeFunction(\n",
              "            'suggestCharts', [key], {});\n",
              "      } catch (error) {\n",
              "        console.error('Error during call to suggestCharts:', error);\n",
              "      }\n",
              "      quickchartButtonEl.classList.remove('colab-df-spinner');\n",
              "      quickchartButtonEl.classList.add('colab-df-quickchart-complete');\n",
              "    }\n",
              "    (() => {\n",
              "      let quickchartButtonEl =\n",
              "        document.querySelector('#df-82253d85-0eaa-44b0-a260-cfc6b9324d36 button');\n",
              "      quickchartButtonEl.style.display =\n",
              "        google.colab.kernel.accessAllowed ? 'block' : 'none';\n",
              "    })();\n",
              "  </script>\n",
              "</div>\n",
              "\n",
              "    </div>\n",
              "  </div>\n"
            ],
            "application/vnd.google.colaboratory.intrinsic+json": {
              "type": "dataframe",
              "variable_name": "train_df"
            }
          },
          "metadata": {},
          "execution_count": 36
        }
      ]
    },
    {
      "cell_type": "code",
      "source": [
        "val_df.head(14)"
      ],
      "metadata": {
        "colab": {
          "base_uri": "https://localhost:8080/",
          "height": 488
        },
        "id": "IwOB5IfSUAcg",
        "outputId": "ed548cb0-9dc5-4c81-b144-3f7d19265408"
      },
      "execution_count": 37,
      "outputs": [
        {
          "output_type": "execute_result",
          "data": {
            "text/plain": [
              "         target                                               text  \\\n",
              "0    BACKGROUND  ige sensitization to aspergillus fumigatus and...   \n",
              "1    BACKGROUND  it is not clear whether these patients would b...   \n",
              "2     OBJECTIVE  we sought to determine whether a @-month cours...   \n",
              "3       METHODS  asthmatic patients who were ige sensitized to ...   \n",
              "4       METHODS  primary outcomes were improvement in quality o...   \n",
              "5       RESULTS              sixty-five patients were randomized .   \n",
              "6       RESULTS  fifty-nine patients started treatment ( @ rece...   \n",
              "7       RESULTS  fifty-six patients took the full @ months of m...   \n",
              "8       RESULTS  between the voriconazole and placebo groups , ...   \n",
              "9   CONCLUSIONS  we were unable to show a beneficial effect of ...   \n",
              "10   BACKGROUND  opioid antagonists ( e.g. , naltrexone ) and p...   \n",
              "11   BACKGROUND  the use of higher doses to achieve greater eff...   \n",
              "12   BACKGROUND  combining naltrexone and alprazolam might safe...   \n",
              "13    OBJECTIVE  the present pilot study tested the hypothesis ...   \n",
              "\n",
              "    line_number  total_lines  \n",
              "0             0            9  \n",
              "1             1            9  \n",
              "2             2            9  \n",
              "3             3            9  \n",
              "4             4            9  \n",
              "5             5            9  \n",
              "6             6            9  \n",
              "7             7            9  \n",
              "8             8            9  \n",
              "9             9            9  \n",
              "10            0           10  \n",
              "11            1           10  \n",
              "12            2           10  \n",
              "13            3           10  "
            ],
            "text/html": [
              "\n",
              "  <div id=\"df-0219e4c2-36d2-49b1-87f4-7c90f527fd11\" class=\"colab-df-container\">\n",
              "    <div>\n",
              "<style scoped>\n",
              "    .dataframe tbody tr th:only-of-type {\n",
              "        vertical-align: middle;\n",
              "    }\n",
              "\n",
              "    .dataframe tbody tr th {\n",
              "        vertical-align: top;\n",
              "    }\n",
              "\n",
              "    .dataframe thead th {\n",
              "        text-align: right;\n",
              "    }\n",
              "</style>\n",
              "<table border=\"1\" class=\"dataframe\">\n",
              "  <thead>\n",
              "    <tr style=\"text-align: right;\">\n",
              "      <th></th>\n",
              "      <th>target</th>\n",
              "      <th>text</th>\n",
              "      <th>line_number</th>\n",
              "      <th>total_lines</th>\n",
              "    </tr>\n",
              "  </thead>\n",
              "  <tbody>\n",
              "    <tr>\n",
              "      <th>0</th>\n",
              "      <td>BACKGROUND</td>\n",
              "      <td>ige sensitization to aspergillus fumigatus and...</td>\n",
              "      <td>0</td>\n",
              "      <td>9</td>\n",
              "    </tr>\n",
              "    <tr>\n",
              "      <th>1</th>\n",
              "      <td>BACKGROUND</td>\n",
              "      <td>it is not clear whether these patients would b...</td>\n",
              "      <td>1</td>\n",
              "      <td>9</td>\n",
              "    </tr>\n",
              "    <tr>\n",
              "      <th>2</th>\n",
              "      <td>OBJECTIVE</td>\n",
              "      <td>we sought to determine whether a @-month cours...</td>\n",
              "      <td>2</td>\n",
              "      <td>9</td>\n",
              "    </tr>\n",
              "    <tr>\n",
              "      <th>3</th>\n",
              "      <td>METHODS</td>\n",
              "      <td>asthmatic patients who were ige sensitized to ...</td>\n",
              "      <td>3</td>\n",
              "      <td>9</td>\n",
              "    </tr>\n",
              "    <tr>\n",
              "      <th>4</th>\n",
              "      <td>METHODS</td>\n",
              "      <td>primary outcomes were improvement in quality o...</td>\n",
              "      <td>4</td>\n",
              "      <td>9</td>\n",
              "    </tr>\n",
              "    <tr>\n",
              "      <th>5</th>\n",
              "      <td>RESULTS</td>\n",
              "      <td>sixty-five patients were randomized .</td>\n",
              "      <td>5</td>\n",
              "      <td>9</td>\n",
              "    </tr>\n",
              "    <tr>\n",
              "      <th>6</th>\n",
              "      <td>RESULTS</td>\n",
              "      <td>fifty-nine patients started treatment ( @ rece...</td>\n",
              "      <td>6</td>\n",
              "      <td>9</td>\n",
              "    </tr>\n",
              "    <tr>\n",
              "      <th>7</th>\n",
              "      <td>RESULTS</td>\n",
              "      <td>fifty-six patients took the full @ months of m...</td>\n",
              "      <td>7</td>\n",
              "      <td>9</td>\n",
              "    </tr>\n",
              "    <tr>\n",
              "      <th>8</th>\n",
              "      <td>RESULTS</td>\n",
              "      <td>between the voriconazole and placebo groups , ...</td>\n",
              "      <td>8</td>\n",
              "      <td>9</td>\n",
              "    </tr>\n",
              "    <tr>\n",
              "      <th>9</th>\n",
              "      <td>CONCLUSIONS</td>\n",
              "      <td>we were unable to show a beneficial effect of ...</td>\n",
              "      <td>9</td>\n",
              "      <td>9</td>\n",
              "    </tr>\n",
              "    <tr>\n",
              "      <th>10</th>\n",
              "      <td>BACKGROUND</td>\n",
              "      <td>opioid antagonists ( e.g. , naltrexone ) and p...</td>\n",
              "      <td>0</td>\n",
              "      <td>10</td>\n",
              "    </tr>\n",
              "    <tr>\n",
              "      <th>11</th>\n",
              "      <td>BACKGROUND</td>\n",
              "      <td>the use of higher doses to achieve greater eff...</td>\n",
              "      <td>1</td>\n",
              "      <td>10</td>\n",
              "    </tr>\n",
              "    <tr>\n",
              "      <th>12</th>\n",
              "      <td>BACKGROUND</td>\n",
              "      <td>combining naltrexone and alprazolam might safe...</td>\n",
              "      <td>2</td>\n",
              "      <td>10</td>\n",
              "    </tr>\n",
              "    <tr>\n",
              "      <th>13</th>\n",
              "      <td>OBJECTIVE</td>\n",
              "      <td>the present pilot study tested the hypothesis ...</td>\n",
              "      <td>3</td>\n",
              "      <td>10</td>\n",
              "    </tr>\n",
              "  </tbody>\n",
              "</table>\n",
              "</div>\n",
              "    <div class=\"colab-df-buttons\">\n",
              "\n",
              "  <div class=\"colab-df-container\">\n",
              "    <button class=\"colab-df-convert\" onclick=\"convertToInteractive('df-0219e4c2-36d2-49b1-87f4-7c90f527fd11')\"\n",
              "            title=\"Convert this dataframe to an interactive table.\"\n",
              "            style=\"display:none;\">\n",
              "\n",
              "  <svg xmlns=\"http://www.w3.org/2000/svg\" height=\"24px\" viewBox=\"0 -960 960 960\">\n",
              "    <path d=\"M120-120v-720h720v720H120Zm60-500h600v-160H180v160Zm220 220h160v-160H400v160Zm0 220h160v-160H400v160ZM180-400h160v-160H180v160Zm440 0h160v-160H620v160ZM180-180h160v-160H180v160Zm440 0h160v-160H620v160Z\"/>\n",
              "  </svg>\n",
              "    </button>\n",
              "\n",
              "  <style>\n",
              "    .colab-df-container {\n",
              "      display:flex;\n",
              "      gap: 12px;\n",
              "    }\n",
              "\n",
              "    .colab-df-convert {\n",
              "      background-color: #E8F0FE;\n",
              "      border: none;\n",
              "      border-radius: 50%;\n",
              "      cursor: pointer;\n",
              "      display: none;\n",
              "      fill: #1967D2;\n",
              "      height: 32px;\n",
              "      padding: 0 0 0 0;\n",
              "      width: 32px;\n",
              "    }\n",
              "\n",
              "    .colab-df-convert:hover {\n",
              "      background-color: #E2EBFA;\n",
              "      box-shadow: 0px 1px 2px rgba(60, 64, 67, 0.3), 0px 1px 3px 1px rgba(60, 64, 67, 0.15);\n",
              "      fill: #174EA6;\n",
              "    }\n",
              "\n",
              "    .colab-df-buttons div {\n",
              "      margin-bottom: 4px;\n",
              "    }\n",
              "\n",
              "    [theme=dark] .colab-df-convert {\n",
              "      background-color: #3B4455;\n",
              "      fill: #D2E3FC;\n",
              "    }\n",
              "\n",
              "    [theme=dark] .colab-df-convert:hover {\n",
              "      background-color: #434B5C;\n",
              "      box-shadow: 0px 1px 3px 1px rgba(0, 0, 0, 0.15);\n",
              "      filter: drop-shadow(0px 1px 2px rgba(0, 0, 0, 0.3));\n",
              "      fill: #FFFFFF;\n",
              "    }\n",
              "  </style>\n",
              "\n",
              "    <script>\n",
              "      const buttonEl =\n",
              "        document.querySelector('#df-0219e4c2-36d2-49b1-87f4-7c90f527fd11 button.colab-df-convert');\n",
              "      buttonEl.style.display =\n",
              "        google.colab.kernel.accessAllowed ? 'block' : 'none';\n",
              "\n",
              "      async function convertToInteractive(key) {\n",
              "        const element = document.querySelector('#df-0219e4c2-36d2-49b1-87f4-7c90f527fd11');\n",
              "        const dataTable =\n",
              "          await google.colab.kernel.invokeFunction('convertToInteractive',\n",
              "                                                    [key], {});\n",
              "        if (!dataTable) return;\n",
              "\n",
              "        const docLinkHtml = 'Like what you see? Visit the ' +\n",
              "          '<a target=\"_blank\" href=https://colab.research.google.com/notebooks/data_table.ipynb>data table notebook</a>'\n",
              "          + ' to learn more about interactive tables.';\n",
              "        element.innerHTML = '';\n",
              "        dataTable['output_type'] = 'display_data';\n",
              "        await google.colab.output.renderOutput(dataTable, element);\n",
              "        const docLink = document.createElement('div');\n",
              "        docLink.innerHTML = docLinkHtml;\n",
              "        element.appendChild(docLink);\n",
              "      }\n",
              "    </script>\n",
              "  </div>\n",
              "\n",
              "\n",
              "<div id=\"df-34a54d63-477e-4f1c-aad6-a041b2a6795d\">\n",
              "  <button class=\"colab-df-quickchart\" onclick=\"quickchart('df-34a54d63-477e-4f1c-aad6-a041b2a6795d')\"\n",
              "            title=\"Suggest charts\"\n",
              "            style=\"display:none;\">\n",
              "\n",
              "<svg xmlns=\"http://www.w3.org/2000/svg\" height=\"24px\"viewBox=\"0 0 24 24\"\n",
              "     width=\"24px\">\n",
              "    <g>\n",
              "        <path d=\"M19 3H5c-1.1 0-2 .9-2 2v14c0 1.1.9 2 2 2h14c1.1 0 2-.9 2-2V5c0-1.1-.9-2-2-2zM9 17H7v-7h2v7zm4 0h-2V7h2v10zm4 0h-2v-4h2v4z\"/>\n",
              "    </g>\n",
              "</svg>\n",
              "  </button>\n",
              "\n",
              "<style>\n",
              "  .colab-df-quickchart {\n",
              "      --bg-color: #E8F0FE;\n",
              "      --fill-color: #1967D2;\n",
              "      --hover-bg-color: #E2EBFA;\n",
              "      --hover-fill-color: #174EA6;\n",
              "      --disabled-fill-color: #AAA;\n",
              "      --disabled-bg-color: #DDD;\n",
              "  }\n",
              "\n",
              "  [theme=dark] .colab-df-quickchart {\n",
              "      --bg-color: #3B4455;\n",
              "      --fill-color: #D2E3FC;\n",
              "      --hover-bg-color: #434B5C;\n",
              "      --hover-fill-color: #FFFFFF;\n",
              "      --disabled-bg-color: #3B4455;\n",
              "      --disabled-fill-color: #666;\n",
              "  }\n",
              "\n",
              "  .colab-df-quickchart {\n",
              "    background-color: var(--bg-color);\n",
              "    border: none;\n",
              "    border-radius: 50%;\n",
              "    cursor: pointer;\n",
              "    display: none;\n",
              "    fill: var(--fill-color);\n",
              "    height: 32px;\n",
              "    padding: 0;\n",
              "    width: 32px;\n",
              "  }\n",
              "\n",
              "  .colab-df-quickchart:hover {\n",
              "    background-color: var(--hover-bg-color);\n",
              "    box-shadow: 0 1px 2px rgba(60, 64, 67, 0.3), 0 1px 3px 1px rgba(60, 64, 67, 0.15);\n",
              "    fill: var(--button-hover-fill-color);\n",
              "  }\n",
              "\n",
              "  .colab-df-quickchart-complete:disabled,\n",
              "  .colab-df-quickchart-complete:disabled:hover {\n",
              "    background-color: var(--disabled-bg-color);\n",
              "    fill: var(--disabled-fill-color);\n",
              "    box-shadow: none;\n",
              "  }\n",
              "\n",
              "  .colab-df-spinner {\n",
              "    border: 2px solid var(--fill-color);\n",
              "    border-color: transparent;\n",
              "    border-bottom-color: var(--fill-color);\n",
              "    animation:\n",
              "      spin 1s steps(1) infinite;\n",
              "  }\n",
              "\n",
              "  @keyframes spin {\n",
              "    0% {\n",
              "      border-color: transparent;\n",
              "      border-bottom-color: var(--fill-color);\n",
              "      border-left-color: var(--fill-color);\n",
              "    }\n",
              "    20% {\n",
              "      border-color: transparent;\n",
              "      border-left-color: var(--fill-color);\n",
              "      border-top-color: var(--fill-color);\n",
              "    }\n",
              "    30% {\n",
              "      border-color: transparent;\n",
              "      border-left-color: var(--fill-color);\n",
              "      border-top-color: var(--fill-color);\n",
              "      border-right-color: var(--fill-color);\n",
              "    }\n",
              "    40% {\n",
              "      border-color: transparent;\n",
              "      border-right-color: var(--fill-color);\n",
              "      border-top-color: var(--fill-color);\n",
              "    }\n",
              "    60% {\n",
              "      border-color: transparent;\n",
              "      border-right-color: var(--fill-color);\n",
              "    }\n",
              "    80% {\n",
              "      border-color: transparent;\n",
              "      border-right-color: var(--fill-color);\n",
              "      border-bottom-color: var(--fill-color);\n",
              "    }\n",
              "    90% {\n",
              "      border-color: transparent;\n",
              "      border-bottom-color: var(--fill-color);\n",
              "    }\n",
              "  }\n",
              "</style>\n",
              "\n",
              "  <script>\n",
              "    async function quickchart(key) {\n",
              "      const quickchartButtonEl =\n",
              "        document.querySelector('#' + key + ' button');\n",
              "      quickchartButtonEl.disabled = true;  // To prevent multiple clicks.\n",
              "      quickchartButtonEl.classList.add('colab-df-spinner');\n",
              "      try {\n",
              "        const charts = await google.colab.kernel.invokeFunction(\n",
              "            'suggestCharts', [key], {});\n",
              "      } catch (error) {\n",
              "        console.error('Error during call to suggestCharts:', error);\n",
              "      }\n",
              "      quickchartButtonEl.classList.remove('colab-df-spinner');\n",
              "      quickchartButtonEl.classList.add('colab-df-quickchart-complete');\n",
              "    }\n",
              "    (() => {\n",
              "      let quickchartButtonEl =\n",
              "        document.querySelector('#df-34a54d63-477e-4f1c-aad6-a041b2a6795d button');\n",
              "      quickchartButtonEl.style.display =\n",
              "        google.colab.kernel.accessAllowed ? 'block' : 'none';\n",
              "    })();\n",
              "  </script>\n",
              "</div>\n",
              "\n",
              "    </div>\n",
              "  </div>\n"
            ],
            "application/vnd.google.colaboratory.intrinsic+json": {
              "type": "dataframe",
              "variable_name": "val_df",
              "summary": "{\n  \"name\": \"val_df\",\n  \"rows\": 30212,\n  \"fields\": [\n    {\n      \"column\": \"target\",\n      \"properties\": {\n        \"dtype\": \"category\",\n        \"num_unique_values\": 5,\n        \"samples\": [\n          \"OBJECTIVE\",\n          \"CONCLUSIONS\",\n          \"METHODS\"\n        ],\n        \"semantic_type\": \"\",\n        \"description\": \"\"\n      }\n    },\n    {\n      \"column\": \"text\",\n      \"properties\": {\n        \"dtype\": \"string\",\n        \"num_unique_values\": 29870,\n        \"samples\": [\n          \"a reduction in pigment was observed with both lasers during the study period .\",\n          \"ten paramedics with field experience were trained with an ultrasound machine in the performance of the fast scan .\",\n          \"we examined the impact of milk proteins and combined exercise training ( cet ) on bp , arterial function , and muscle strength ( one-repetition maximum ( @-rm ) ) .\"\n        ],\n        \"semantic_type\": \"\",\n        \"description\": \"\"\n      }\n    },\n    {\n      \"column\": \"line_number\",\n      \"properties\": {\n        \"dtype\": \"number\",\n        \"std\": 4,\n        \"min\": 0,\n        \"max\": 26,\n        \"num_unique_values\": 27,\n        \"samples\": [\n          8,\n          13,\n          9\n        ],\n        \"semantic_type\": \"\",\n        \"description\": \"\"\n      }\n    },\n    {\n      \"column\": \"total_lines\",\n      \"properties\": {\n        \"dtype\": \"number\",\n        \"std\": 3,\n        \"min\": 3,\n        \"max\": 26,\n        \"num_unique_values\": 23,\n        \"samples\": [\n          16,\n          20,\n          9\n        ],\n        \"semantic_type\": \"\",\n        \"description\": \"\"\n      }\n    }\n  ]\n}"
            }
          },
          "metadata": {},
          "execution_count": 37
        }
      ]
    },
    {
      "cell_type": "code",
      "source": [
        "test_df.head(14)"
      ],
      "metadata": {
        "colab": {
          "base_uri": "https://localhost:8080/",
          "height": 488
        },
        "id": "1j9cspCZUETP",
        "outputId": "d7934d38-71d0-47bb-afbe-e5bc3f527230"
      },
      "execution_count": 38,
      "outputs": [
        {
          "output_type": "execute_result",
          "data": {
            "text/plain": [
              "         target                                               text  \\\n",
              "0    BACKGROUND  this study analyzed liver function abnormaliti...   \n",
              "1       RESULTS  a post hoc analysis was conducted with the use...   \n",
              "2       RESULTS  liver function tests ( lfts ) were measured at...   \n",
              "3       RESULTS  survival analyses were used to assess the asso...   \n",
              "4       RESULTS  the percentage of patients with abnormal lfts ...   \n",
              "5       RESULTS  when mean hemodynamic profiles were compared i...   \n",
              "6       RESULTS  multivariable analyses revealed that patients ...   \n",
              "7   CONCLUSIONS  abnormal lfts are common in the adhf populatio...   \n",
              "8   CONCLUSIONS  elevated meld-xi scores are associated with po...   \n",
              "9    BACKGROUND  minimally invasive endovascular aneurysm repai...   \n",
              "10   BACKGROUND  the aim of this study was to analyse the cost-...   \n",
              "11      METHODS  resource use was determined from the amsterdam...   \n",
              "12      METHODS  the analysis was performed from a provider per...   \n",
              "13      METHODS  all costs were calculated as if all patients h...   \n",
              "\n",
              "    line_number  total_lines  \n",
              "0             0            8  \n",
              "1             1            8  \n",
              "2             2            8  \n",
              "3             3            8  \n",
              "4             4            8  \n",
              "5             5            8  \n",
              "6             6            8  \n",
              "7             7            8  \n",
              "8             8            8  \n",
              "9             0           12  \n",
              "10            1           12  \n",
              "11            2           12  \n",
              "12            3           12  \n",
              "13            4           12  "
            ],
            "text/html": [
              "\n",
              "  <div id=\"df-fee92427-d2b0-4807-823e-ef6a69db9f4a\" class=\"colab-df-container\">\n",
              "    <div>\n",
              "<style scoped>\n",
              "    .dataframe tbody tr th:only-of-type {\n",
              "        vertical-align: middle;\n",
              "    }\n",
              "\n",
              "    .dataframe tbody tr th {\n",
              "        vertical-align: top;\n",
              "    }\n",
              "\n",
              "    .dataframe thead th {\n",
              "        text-align: right;\n",
              "    }\n",
              "</style>\n",
              "<table border=\"1\" class=\"dataframe\">\n",
              "  <thead>\n",
              "    <tr style=\"text-align: right;\">\n",
              "      <th></th>\n",
              "      <th>target</th>\n",
              "      <th>text</th>\n",
              "      <th>line_number</th>\n",
              "      <th>total_lines</th>\n",
              "    </tr>\n",
              "  </thead>\n",
              "  <tbody>\n",
              "    <tr>\n",
              "      <th>0</th>\n",
              "      <td>BACKGROUND</td>\n",
              "      <td>this study analyzed liver function abnormaliti...</td>\n",
              "      <td>0</td>\n",
              "      <td>8</td>\n",
              "    </tr>\n",
              "    <tr>\n",
              "      <th>1</th>\n",
              "      <td>RESULTS</td>\n",
              "      <td>a post hoc analysis was conducted with the use...</td>\n",
              "      <td>1</td>\n",
              "      <td>8</td>\n",
              "    </tr>\n",
              "    <tr>\n",
              "      <th>2</th>\n",
              "      <td>RESULTS</td>\n",
              "      <td>liver function tests ( lfts ) were measured at...</td>\n",
              "      <td>2</td>\n",
              "      <td>8</td>\n",
              "    </tr>\n",
              "    <tr>\n",
              "      <th>3</th>\n",
              "      <td>RESULTS</td>\n",
              "      <td>survival analyses were used to assess the asso...</td>\n",
              "      <td>3</td>\n",
              "      <td>8</td>\n",
              "    </tr>\n",
              "    <tr>\n",
              "      <th>4</th>\n",
              "      <td>RESULTS</td>\n",
              "      <td>the percentage of patients with abnormal lfts ...</td>\n",
              "      <td>4</td>\n",
              "      <td>8</td>\n",
              "    </tr>\n",
              "    <tr>\n",
              "      <th>5</th>\n",
              "      <td>RESULTS</td>\n",
              "      <td>when mean hemodynamic profiles were compared i...</td>\n",
              "      <td>5</td>\n",
              "      <td>8</td>\n",
              "    </tr>\n",
              "    <tr>\n",
              "      <th>6</th>\n",
              "      <td>RESULTS</td>\n",
              "      <td>multivariable analyses revealed that patients ...</td>\n",
              "      <td>6</td>\n",
              "      <td>8</td>\n",
              "    </tr>\n",
              "    <tr>\n",
              "      <th>7</th>\n",
              "      <td>CONCLUSIONS</td>\n",
              "      <td>abnormal lfts are common in the adhf populatio...</td>\n",
              "      <td>7</td>\n",
              "      <td>8</td>\n",
              "    </tr>\n",
              "    <tr>\n",
              "      <th>8</th>\n",
              "      <td>CONCLUSIONS</td>\n",
              "      <td>elevated meld-xi scores are associated with po...</td>\n",
              "      <td>8</td>\n",
              "      <td>8</td>\n",
              "    </tr>\n",
              "    <tr>\n",
              "      <th>9</th>\n",
              "      <td>BACKGROUND</td>\n",
              "      <td>minimally invasive endovascular aneurysm repai...</td>\n",
              "      <td>0</td>\n",
              "      <td>12</td>\n",
              "    </tr>\n",
              "    <tr>\n",
              "      <th>10</th>\n",
              "      <td>BACKGROUND</td>\n",
              "      <td>the aim of this study was to analyse the cost-...</td>\n",
              "      <td>1</td>\n",
              "      <td>12</td>\n",
              "    </tr>\n",
              "    <tr>\n",
              "      <th>11</th>\n",
              "      <td>METHODS</td>\n",
              "      <td>resource use was determined from the amsterdam...</td>\n",
              "      <td>2</td>\n",
              "      <td>12</td>\n",
              "    </tr>\n",
              "    <tr>\n",
              "      <th>12</th>\n",
              "      <td>METHODS</td>\n",
              "      <td>the analysis was performed from a provider per...</td>\n",
              "      <td>3</td>\n",
              "      <td>12</td>\n",
              "    </tr>\n",
              "    <tr>\n",
              "      <th>13</th>\n",
              "      <td>METHODS</td>\n",
              "      <td>all costs were calculated as if all patients h...</td>\n",
              "      <td>4</td>\n",
              "      <td>12</td>\n",
              "    </tr>\n",
              "  </tbody>\n",
              "</table>\n",
              "</div>\n",
              "    <div class=\"colab-df-buttons\">\n",
              "\n",
              "  <div class=\"colab-df-container\">\n",
              "    <button class=\"colab-df-convert\" onclick=\"convertToInteractive('df-fee92427-d2b0-4807-823e-ef6a69db9f4a')\"\n",
              "            title=\"Convert this dataframe to an interactive table.\"\n",
              "            style=\"display:none;\">\n",
              "\n",
              "  <svg xmlns=\"http://www.w3.org/2000/svg\" height=\"24px\" viewBox=\"0 -960 960 960\">\n",
              "    <path d=\"M120-120v-720h720v720H120Zm60-500h600v-160H180v160Zm220 220h160v-160H400v160Zm0 220h160v-160H400v160ZM180-400h160v-160H180v160Zm440 0h160v-160H620v160ZM180-180h160v-160H180v160Zm440 0h160v-160H620v160Z\"/>\n",
              "  </svg>\n",
              "    </button>\n",
              "\n",
              "  <style>\n",
              "    .colab-df-container {\n",
              "      display:flex;\n",
              "      gap: 12px;\n",
              "    }\n",
              "\n",
              "    .colab-df-convert {\n",
              "      background-color: #E8F0FE;\n",
              "      border: none;\n",
              "      border-radius: 50%;\n",
              "      cursor: pointer;\n",
              "      display: none;\n",
              "      fill: #1967D2;\n",
              "      height: 32px;\n",
              "      padding: 0 0 0 0;\n",
              "      width: 32px;\n",
              "    }\n",
              "\n",
              "    .colab-df-convert:hover {\n",
              "      background-color: #E2EBFA;\n",
              "      box-shadow: 0px 1px 2px rgba(60, 64, 67, 0.3), 0px 1px 3px 1px rgba(60, 64, 67, 0.15);\n",
              "      fill: #174EA6;\n",
              "    }\n",
              "\n",
              "    .colab-df-buttons div {\n",
              "      margin-bottom: 4px;\n",
              "    }\n",
              "\n",
              "    [theme=dark] .colab-df-convert {\n",
              "      background-color: #3B4455;\n",
              "      fill: #D2E3FC;\n",
              "    }\n",
              "\n",
              "    [theme=dark] .colab-df-convert:hover {\n",
              "      background-color: #434B5C;\n",
              "      box-shadow: 0px 1px 3px 1px rgba(0, 0, 0, 0.15);\n",
              "      filter: drop-shadow(0px 1px 2px rgba(0, 0, 0, 0.3));\n",
              "      fill: #FFFFFF;\n",
              "    }\n",
              "  </style>\n",
              "\n",
              "    <script>\n",
              "      const buttonEl =\n",
              "        document.querySelector('#df-fee92427-d2b0-4807-823e-ef6a69db9f4a button.colab-df-convert');\n",
              "      buttonEl.style.display =\n",
              "        google.colab.kernel.accessAllowed ? 'block' : 'none';\n",
              "\n",
              "      async function convertToInteractive(key) {\n",
              "        const element = document.querySelector('#df-fee92427-d2b0-4807-823e-ef6a69db9f4a');\n",
              "        const dataTable =\n",
              "          await google.colab.kernel.invokeFunction('convertToInteractive',\n",
              "                                                    [key], {});\n",
              "        if (!dataTable) return;\n",
              "\n",
              "        const docLinkHtml = 'Like what you see? Visit the ' +\n",
              "          '<a target=\"_blank\" href=https://colab.research.google.com/notebooks/data_table.ipynb>data table notebook</a>'\n",
              "          + ' to learn more about interactive tables.';\n",
              "        element.innerHTML = '';\n",
              "        dataTable['output_type'] = 'display_data';\n",
              "        await google.colab.output.renderOutput(dataTable, element);\n",
              "        const docLink = document.createElement('div');\n",
              "        docLink.innerHTML = docLinkHtml;\n",
              "        element.appendChild(docLink);\n",
              "      }\n",
              "    </script>\n",
              "  </div>\n",
              "\n",
              "\n",
              "<div id=\"df-6959f0d3-de86-4dcc-8118-a878e301ec72\">\n",
              "  <button class=\"colab-df-quickchart\" onclick=\"quickchart('df-6959f0d3-de86-4dcc-8118-a878e301ec72')\"\n",
              "            title=\"Suggest charts\"\n",
              "            style=\"display:none;\">\n",
              "\n",
              "<svg xmlns=\"http://www.w3.org/2000/svg\" height=\"24px\"viewBox=\"0 0 24 24\"\n",
              "     width=\"24px\">\n",
              "    <g>\n",
              "        <path d=\"M19 3H5c-1.1 0-2 .9-2 2v14c0 1.1.9 2 2 2h14c1.1 0 2-.9 2-2V5c0-1.1-.9-2-2-2zM9 17H7v-7h2v7zm4 0h-2V7h2v10zm4 0h-2v-4h2v4z\"/>\n",
              "    </g>\n",
              "</svg>\n",
              "  </button>\n",
              "\n",
              "<style>\n",
              "  .colab-df-quickchart {\n",
              "      --bg-color: #E8F0FE;\n",
              "      --fill-color: #1967D2;\n",
              "      --hover-bg-color: #E2EBFA;\n",
              "      --hover-fill-color: #174EA6;\n",
              "      --disabled-fill-color: #AAA;\n",
              "      --disabled-bg-color: #DDD;\n",
              "  }\n",
              "\n",
              "  [theme=dark] .colab-df-quickchart {\n",
              "      --bg-color: #3B4455;\n",
              "      --fill-color: #D2E3FC;\n",
              "      --hover-bg-color: #434B5C;\n",
              "      --hover-fill-color: #FFFFFF;\n",
              "      --disabled-bg-color: #3B4455;\n",
              "      --disabled-fill-color: #666;\n",
              "  }\n",
              "\n",
              "  .colab-df-quickchart {\n",
              "    background-color: var(--bg-color);\n",
              "    border: none;\n",
              "    border-radius: 50%;\n",
              "    cursor: pointer;\n",
              "    display: none;\n",
              "    fill: var(--fill-color);\n",
              "    height: 32px;\n",
              "    padding: 0;\n",
              "    width: 32px;\n",
              "  }\n",
              "\n",
              "  .colab-df-quickchart:hover {\n",
              "    background-color: var(--hover-bg-color);\n",
              "    box-shadow: 0 1px 2px rgba(60, 64, 67, 0.3), 0 1px 3px 1px rgba(60, 64, 67, 0.15);\n",
              "    fill: var(--button-hover-fill-color);\n",
              "  }\n",
              "\n",
              "  .colab-df-quickchart-complete:disabled,\n",
              "  .colab-df-quickchart-complete:disabled:hover {\n",
              "    background-color: var(--disabled-bg-color);\n",
              "    fill: var(--disabled-fill-color);\n",
              "    box-shadow: none;\n",
              "  }\n",
              "\n",
              "  .colab-df-spinner {\n",
              "    border: 2px solid var(--fill-color);\n",
              "    border-color: transparent;\n",
              "    border-bottom-color: var(--fill-color);\n",
              "    animation:\n",
              "      spin 1s steps(1) infinite;\n",
              "  }\n",
              "\n",
              "  @keyframes spin {\n",
              "    0% {\n",
              "      border-color: transparent;\n",
              "      border-bottom-color: var(--fill-color);\n",
              "      border-left-color: var(--fill-color);\n",
              "    }\n",
              "    20% {\n",
              "      border-color: transparent;\n",
              "      border-left-color: var(--fill-color);\n",
              "      border-top-color: var(--fill-color);\n",
              "    }\n",
              "    30% {\n",
              "      border-color: transparent;\n",
              "      border-left-color: var(--fill-color);\n",
              "      border-top-color: var(--fill-color);\n",
              "      border-right-color: var(--fill-color);\n",
              "    }\n",
              "    40% {\n",
              "      border-color: transparent;\n",
              "      border-right-color: var(--fill-color);\n",
              "      border-top-color: var(--fill-color);\n",
              "    }\n",
              "    60% {\n",
              "      border-color: transparent;\n",
              "      border-right-color: var(--fill-color);\n",
              "    }\n",
              "    80% {\n",
              "      border-color: transparent;\n",
              "      border-right-color: var(--fill-color);\n",
              "      border-bottom-color: var(--fill-color);\n",
              "    }\n",
              "    90% {\n",
              "      border-color: transparent;\n",
              "      border-bottom-color: var(--fill-color);\n",
              "    }\n",
              "  }\n",
              "</style>\n",
              "\n",
              "  <script>\n",
              "    async function quickchart(key) {\n",
              "      const quickchartButtonEl =\n",
              "        document.querySelector('#' + key + ' button');\n",
              "      quickchartButtonEl.disabled = true;  // To prevent multiple clicks.\n",
              "      quickchartButtonEl.classList.add('colab-df-spinner');\n",
              "      try {\n",
              "        const charts = await google.colab.kernel.invokeFunction(\n",
              "            'suggestCharts', [key], {});\n",
              "      } catch (error) {\n",
              "        console.error('Error during call to suggestCharts:', error);\n",
              "      }\n",
              "      quickchartButtonEl.classList.remove('colab-df-spinner');\n",
              "      quickchartButtonEl.classList.add('colab-df-quickchart-complete');\n",
              "    }\n",
              "    (() => {\n",
              "      let quickchartButtonEl =\n",
              "        document.querySelector('#df-6959f0d3-de86-4dcc-8118-a878e301ec72 button');\n",
              "      quickchartButtonEl.style.display =\n",
              "        google.colab.kernel.accessAllowed ? 'block' : 'none';\n",
              "    })();\n",
              "  </script>\n",
              "</div>\n",
              "\n",
              "    </div>\n",
              "  </div>\n"
            ],
            "application/vnd.google.colaboratory.intrinsic+json": {
              "type": "dataframe",
              "variable_name": "test_df",
              "summary": "{\n  \"name\": \"test_df\",\n  \"rows\": 30135,\n  \"fields\": [\n    {\n      \"column\": \"target\",\n      \"properties\": {\n        \"dtype\": \"category\",\n        \"num_unique_values\": 5,\n        \"samples\": [\n          \"RESULTS\",\n          \"OBJECTIVE\",\n          \"CONCLUSIONS\"\n        ],\n        \"semantic_type\": \"\",\n        \"description\": \"\"\n      }\n    },\n    {\n      \"column\": \"text\",\n      \"properties\": {\n        \"dtype\": \"string\",\n        \"num_unique_values\": 29735,\n        \"samples\": [\n          \"in this secondary study of an open-label , @-week , randomized , controlled trial conducted between april @ and august @ , clinically stable patients with schizophrenia ( dsm-iv ) treated with risperidone or olanzapine were randomly assigned to the reduction group ( dose reduced by @ % ) or maintenance group ( dose kept constant ) .\",\n          \"between july , @ , and june , @ , we did a multinational double-blind , randomised , phase @ study comparing vacc-@x with placebo .\",\n          \"a sample of @ participants was interviewed over the telephone for possible cognitive and background moderators .\"\n        ],\n        \"semantic_type\": \"\",\n        \"description\": \"\"\n      }\n    },\n    {\n      \"column\": \"line_number\",\n      \"properties\": {\n        \"dtype\": \"number\",\n        \"std\": 4,\n        \"min\": 0,\n        \"max\": 27,\n        \"num_unique_values\": 28,\n        \"samples\": [\n          9,\n          25,\n          8\n        ],\n        \"semantic_type\": \"\",\n        \"description\": \"\"\n      }\n    },\n    {\n      \"column\": \"total_lines\",\n      \"properties\": {\n        \"dtype\": \"number\",\n        \"std\": 3,\n        \"min\": 3,\n        \"max\": 27,\n        \"num_unique_values\": 23,\n        \"samples\": [\n          24,\n          16,\n          8\n        ],\n        \"semantic_type\": \"\",\n        \"description\": \"\"\n      }\n    }\n  ]\n}"
            }
          },
          "metadata": {},
          "execution_count": 38
        }
      ]
    },
    {
      "cell_type": "code",
      "source": [
        "train_df['target'].value_counts()"
      ],
      "metadata": {
        "colab": {
          "base_uri": "https://localhost:8080/"
        },
        "id": "Brk56fNMUKIr",
        "outputId": "1347f15c-3c2d-4428-f518-cfa94e5a6cdd"
      },
      "execution_count": 39,
      "outputs": [
        {
          "output_type": "execute_result",
          "data": {
            "text/plain": [
              "target\n",
              "METHODS        59353\n",
              "RESULTS        57953\n",
              "CONCLUSIONS    27168\n",
              "BACKGROUND     21727\n",
              "OBJECTIVE      13839\n",
              "Name: count, dtype: int64"
            ]
          },
          "metadata": {},
          "execution_count": 39
        }
      ]
    },
    {
      "cell_type": "code",
      "source": [
        "train_df.total_lines.plot.hist()"
      ],
      "metadata": {
        "colab": {
          "base_uri": "https://localhost:8080/",
          "height": 449
        },
        "id": "8SgiHB2nUdB9",
        "outputId": "4e48e7af-8b08-45f7-d2a6-8685cc1cc2a7"
      },
      "execution_count": 40,
      "outputs": [
        {
          "output_type": "execute_result",
          "data": {
            "text/plain": [
              "<Axes: ylabel='Frequency'>"
            ]
          },
          "metadata": {},
          "execution_count": 40
        },
        {
          "output_type": "display_data",
          "data": {
            "text/plain": [
              "<Figure size 640x480 with 1 Axes>"
            ],
            "image/png": "[encoded data removed]"
          },
          "metadata": {}
        }
      ]
    },
    {
      "cell_type": "code",
      "source": [
        "train_sentences = train_df.text.to_list()\n",
        "val_sentences = val_df.text.to_list()\n",
        "test_sentences = test_df.text.to_list()\n",
        "\n",
        "len(train_sentences), len(val_sentences), len(test_sentences)"
      ],
      "metadata": {
        "colab": {
          "base_uri": "https://localhost:8080/"
        },
        "id": "h6d1ZpuAUseE",
        "outputId": "683adc7f-61b9-4e5b-e115-8c74b7564178"
      },
      "execution_count": 41,
      "outputs": [
        {
          "output_type": "execute_result",
          "data": {
            "text/plain": [
              "(180040, 30212, 30135)"
            ]
          },
          "metadata": {},
          "execution_count": 41
        }
      ]
    },
    {
      "cell_type": "code",
      "source": [
        "from sklearn.preprocessing import OneHotEncoder\n",
        "one_hot_encoder = OneHotEncoder(sparse_output=False)\n",
        "train_labels_one_hot = one_hot_encoder.fit_transform(train_df.target.to_numpy().reshape(-1,1))\n",
        "val_labels_one_hot = one_hot_encoder.transform(val_df.target.to_numpy().reshape(-1,1))\n",
        "test_labels_one_hot = one_hot_encoder.transform(test_df.target.to_numpy().reshape(-1,1))"
      ],
      "metadata": {
        "id": "xwy_e_AWVm41"
      },
      "execution_count": 42,
      "outputs": []
    },
    {
      "cell_type": "code",
      "source": [
        "from sklearn.preprocessing import LabelEncoder\n",
        "label_encoder = LabelEncoder()\n",
        "train_labels_encoded = label_encoder.fit_transform(train_df.target.to_numpy())\n",
        "val_labels_encoded = label_encoder.transform(val_df.target.to_numpy())\n",
        "test_labels_encoded = label_encoder.transform(test_df.target.to_numpy())"
      ],
      "metadata": {
        "id": "8JZcl9aAWsK1"
      },
      "execution_count": 43,
      "outputs": []
    },
    {
      "cell_type": "code",
      "source": [
        "num_classes = len(label_encoder.classes_)\n",
        "class_names = label_encoder.classes_\n",
        "\n",
        "num_classes, class_names"
      ],
      "metadata": {
        "colab": {
          "base_uri": "https://localhost:8080/"
        },
        "id": "dkpxt3jMXspQ",
        "outputId": "76280719-9d28-4ba2-ae02-35c8f9485ce1"
      },
      "execution_count": 44,
      "outputs": [
        {
          "output_type": "execute_result",
          "data": {
            "text/plain": [
              "(5,\n",
              " array(['BACKGROUND', 'CONCLUSIONS', 'METHODS', 'OBJECTIVE', 'RESULTS'],\n",
              "       dtype=object))"
            ]
          },
          "metadata": {},
          "execution_count": 44
        }
      ]
    },
    {
      "cell_type": "code",
      "source": [
        "from sklearn.feature_extraction.text import TfidfVectorizer\n",
        "from sklearn.naive_bayes import MultinomialNB\n",
        "from sklearn.pipeline import Pipeline\n",
        "\n",
        "model_0 = Pipeline([(\"Tf-idf\", TfidfVectorizer()),\n",
        "                    ('clf', MultinomialNB())\n",
        "                    ])\n",
        "model_0.fit(\n",
        "    X=train_sentences,\n",
        "    y= train_labels_encoded\n",
        ")"
      ],
      "metadata": {
        "colab": {
          "base_uri": "https://localhost:8080/",
          "height": 126
        },
        "id": "5BXWryNTZXFR",
        "outputId": "dbd2bf92-b496-4e46-d5ff-a9fee07b082c"
      },
      "execution_count": 45,
      "outputs": [
        {
          "output_type": "execute_result",
          "data": {
            "text/plain": [
              "Pipeline(steps=[('Tf-idf', TfidfVectorizer()), ('clf', MultinomialNB())])"
            ],
            "text/html": [
              "<style>#sk-container-id-2 {color: black;background-color: white;}#sk-container-id-2 pre{padding: 0;}#sk-container-id-2 div.sk-toggleable {background-color: white;}#sk-container-id-2 label.sk-toggleable__label {cursor: pointer;display: block;width: 100%;margin-bottom: 0;padding: 0.3em;box-sizing: border-box;text-align: center;}#sk-container-id-2 label.sk-toggleable__label-arrow:before {content: \"▸\";float: left;margin-right: 0.25em;color: #696969;}#sk-container-id-2 label.sk-toggleable__label-arrow:hover:before {color: black;}#sk-container-id-2 div.sk-estimator:hover label.sk-toggleable__label-arrow:before {color: black;}#sk-container-id-2 div.sk-toggleable__content {max-height: 0;max-width: 0;overflow: hidden;text-align: left;background-color: #f0f8ff;}#sk-container-id-2 div.sk-toggleable__content pre {margin: 0.2em;color: black;border-radius: 0.25em;background-color: #f0f8ff;}#sk-container-id-2 input.sk-toggleable__control:checked~div.sk-toggleable__content {max-height: 200px;max-width: 100%;overflow: auto;}#sk-container-id-2 input.sk-toggleable__control:checked~label.sk-toggleable__label-arrow:before {content: \"▾\";}#sk-container-id-2 div.sk-estimator input.sk-toggleable__control:checked~label.sk-toggleable__label {background-color: #d4ebff;}#sk-container-id-2 div.sk-label input.sk-toggleable__control:checked~label.sk-toggleable__label {background-color: #d4ebff;}#sk-container-id-2 input.sk-hidden--visually {border: 0;clip: rect(1px 1px 1px 1px);clip: rect(1px, 1px, 1px, 1px);height: 1px;margin: -1px;overflow: hidden;padding: 0;position: absolute;width: 1px;}#sk-container-id-2 div.sk-estimator {font-family: monospace;background-color: #f0f8ff;border: 1px dotted black;border-radius: 0.25em;box-sizing: border-box;margin-bottom: 0.5em;}#sk-container-id-2 div.sk-estimator:hover {background-color: #d4ebff;}#sk-container-id-2 div.sk-parallel-item::after {content: \"\";width: 100%;border-bottom: 1px solid gray;flex-grow: 1;}#sk-container-id-2 div.sk-label:hover label.sk-toggleable__label {background-color: #d4ebff;}#sk-container-id-2 div.sk-serial::before {content: \"\";position: absolute;border-left: 1px solid gray;box-sizing: border-box;top: 0;bottom: 0;left: 50%;z-index: 0;}#sk-container-id-2 div.sk-serial {display: flex;flex-direction: column;align-items: center;background-color: white;padding-right: 0.2em;padding-left: 0.2em;position: relative;}#sk-container-id-2 div.sk-item {position: relative;z-index: 1;}#sk-container-id-2 div.sk-parallel {display: flex;align-items: stretch;justify-content: center;background-color: white;position: relative;}#sk-container-id-2 div.sk-item::before, #sk-container-id-2 div.sk-parallel-item::before {content: \"\";position: absolute;border-left: 1px solid gray;box-sizing: border-box;top: 0;bottom: 0;left: 50%;z-index: -1;}#sk-container-id-2 div.sk-parallel-item {display: flex;flex-direction: column;z-index: 1;position: relative;background-color: white;}#sk-container-id-2 div.sk-parallel-item:first-child::after {align-self: flex-end;width: 50%;}#sk-container-id-2 div.sk-parallel-item:last-child::after {align-self: flex-start;width: 50%;}#sk-container-id-2 div.sk-parallel-item:only-child::after {width: 0;}#sk-container-id-2 div.sk-dashed-wrapped {border: 1px dashed gray;margin: 0 0.4em 0.5em 0.4em;box-sizing: border-box;padding-bottom: 0.4em;background-color: white;}#sk-container-id-2 div.sk-label label {font-family: monospace;font-weight: bold;display: inline-block;line-height: 1.2em;}#sk-container-id-2 div.sk-label-container {text-align: center;}#sk-container-id-2 div.sk-container {/* jupyter's `normalize.less` sets `[hidden] { display: none; }` but bootstrap.min.css set `[hidden] { display: none !important; }` so we also need the `!important` here to be able to override the default hidden behavior on the sphinx rendered scikit-learn.org. See: https://github.com/scikit-learn/scikit-learn/issues/21755 */display: inline-block !important;position: relative;}#sk-container-id-2 div.sk-text-repr-fallback {display: none;}</style><div id=\"sk-container-id-2\" class=\"sk-top-container\"><div class=\"sk-text-repr-fallback\"><pre>Pipeline(steps=[(&#x27;Tf-idf&#x27;, TfidfVectorizer()), (&#x27;clf&#x27;, MultinomialNB())])</pre><b>In a Jupyter environment, please rerun this cell to show the HTML representation or trust the notebook. <br />On GitHub, the HTML representation is unable to render, please try loading this page with nbviewer.org.</b></div><div class=\"sk-container\" hidden><div class=\"sk-item sk-dashed-wrapped\"><div class=\"sk-label-container\"><div class=\"sk-label sk-toggleable\"><input class=\"sk-toggleable__control sk-hidden--visually\" id=\"sk-estimator-id-4\" type=\"checkbox\" ><label for=\"sk-estimator-id-4\" class=\"sk-toggleable__label sk-toggleable__label-arrow\">Pipeline</label><div class=\"sk-toggleable__content\"><pre>Pipeline(steps=[(&#x27;Tf-idf&#x27;, TfidfVectorizer()), (&#x27;clf&#x27;, MultinomialNB())])</pre></div></div></div><div class=\"sk-serial\"><div class=\"sk-item\"><div class=\"sk-estimator sk-toggleable\"><input class=\"sk-toggleable__control sk-hidden--visually\" id=\"sk-estimator-id-5\" type=\"checkbox\" ><label for=\"sk-estimator-id-5\" class=\"sk-toggleable__label sk-toggleable__label-arrow\">TfidfVectorizer</label><div class=\"sk-toggleable__content\"><pre>TfidfVectorizer()</pre></div></div></div><div class=\"sk-item\"><div class=\"sk-estimator sk-toggleable\"><input class=\"sk-toggleable__control sk-hidden--visually\" id=\"sk-estimator-id-6\" type=\"checkbox\" ><label for=\"sk-estimator-id-6\" class=\"sk-toggleable__label sk-toggleable__label-arrow\">MultinomialNB</label><div class=\"sk-toggleable__content\"><pre>MultinomialNB()</pre></div></div></div></div></div></div></div>"
            ]
          },
          "metadata": {},
          "execution_count": 45
        }
      ]
    },
    {
      "cell_type": "code",
      "source": [
        "model_0.score(X= val_sentences,\n",
        "              y= val_labels_encoded)"
      ],
      "metadata": {
        "colab": {
          "base_uri": "https://localhost:8080/"
        },
        "id": "wWmcrGPBaAU0",
        "outputId": "afdcf1c9-1c75-4a4a-b793-7d33ebde87c7"
      },
      "execution_count": 46,
      "outputs": [
        {
          "output_type": "execute_result",
          "data": {
            "text/plain": [
              "0.7218323844829869"
            ]
          },
          "metadata": {},
          "execution_count": 46
        }
      ]
    },
    {
      "cell_type": "code",
      "source": [
        "!wget https://raw.githubusercontent.com/databyhuseyn/DeepLearning/main/helper_functions.py"
      ],
      "metadata": {
        "colab": {
          "base_uri": "https://localhost:8080/"
        },
        "id": "x0Jo-oF4cCk7",
        "outputId": "9a532301-5d9d-46e0-fcb0-aa3222da0259"
      },
      "execution_count": 47,
      "outputs": [
        {
          "output_type": "stream",
          "name": "stdout",
          "text": [
            "--2024-06-11 09:51:28--  https://raw.githubusercontent.com/databyhuseyn/DeepLearning/main/helper_functions.py\n",
            "Resolving raw.githubusercontent.com (raw.githubusercontent.com)... 185.199.108.133, 185.199.109.133, 185.199.110.133, ...\n",
            "Connecting to raw.githubusercontent.com (raw.githubusercontent.com)|185.199.108.133|:443... connected.\n",
            "HTTP request sent, awaiting response... 200 OK\n",
            "Length: 10246 (10K) [text/plain]\n",
            "Saving to: ‘helper_functions.py.1’\n",
            "\n",
            "\rhelper_functions.py   0%[                    ]       0  --.-KB/s               \rhelper_functions.py 100%[===================>]  10.01K  --.-KB/s    in 0.001s  \n",
            "\n",
            "2024-06-11 09:51:28 (14.9 MB/s) - ‘helper_functions.py.1’ saved [10246/10246]\n",
            "\n"
          ]
        }
      ]
    },
    {
      "cell_type": "code",
      "source": [
        "from helper_functions import unzip_data, walk_through_dir,plot_loss_curves, calculate_results\n",
        "\n",
        "baseline_preds = model_0.predict(val_sentences)\n",
        "baseline_results = calculate_results(y_true= val_labels_encoded,\n",
        "                                     y_pred = baseline_preds)\n",
        "baseline_results"
      ],
      "metadata": {
        "colab": {
          "base_uri": "https://localhost:8080/"
        },
        "id": "e5LlrDzzcIIE",
        "outputId": "a864179f-b089-4917-c56b-762b37aad147"
      },
      "execution_count": 48,
      "outputs": [
        {
          "output_type": "execute_result",
          "data": {
            "text/plain": [
              "{'accuracy': 72.1832384482987,\n",
              " 'precision': 0.7186466952323352,\n",
              " 'recall': 0.7218323844829869,\n",
              " 'f1': 0.6989250353450294}"
            ]
          },
          "metadata": {},
          "execution_count": 48
        }
      ]
    },
    {
      "cell_type": "code",
      "source": [
        "import tensorflow as tf\n",
        "import numpy as np\n",
        "from tensorflow.keras import layers"
      ],
      "metadata": {
        "id": "PYqdVAmxck5e"
      },
      "execution_count": 49,
      "outputs": []
    },
    {
      "cell_type": "code",
      "source": [
        "sent_lens = [len(sentence.split()) for sentence in train_sentences]\n",
        "avg_sent_len = np.mean(sent_lens)\n",
        "avg_sent_len"
      ],
      "metadata": {
        "colab": {
          "base_uri": "https://localhost:8080/"
        },
        "id": "K2qnMsVpdEDj",
        "outputId": "c2034fd8-4547-4c57-b056-7d0d36a372c1"
      },
      "execution_count": 50,
      "outputs": [
        {
          "output_type": "execute_result",
          "data": {
            "text/plain": [
              "26.338269273494777"
            ]
          },
          "metadata": {},
          "execution_count": 50
        }
      ]
    },
    {
      "cell_type": "code",
      "source": [
        "import matplotlib.pyplot as plt\n",
        "plt.hist(sent_lens, bins=10);"
      ],
      "metadata": {
        "colab": {
          "base_uri": "https://localhost:8080/",
          "height": 430
        },
        "id": "01iWBX3FdTzC",
        "outputId": "81889ea4-6b98-4542-9127-0f0e0e1c0537"
      },
      "execution_count": 51,
      "outputs": [
        {
          "output_type": "display_data",
          "data": {
            "text/plain": [
              "<Figure size 640x480 with 1 Axes>"
            ],
            "image/png": "[encoded data removed]"
          },
          "metadata": {}
        }
      ]
    },
    {
      "cell_type": "code",
      "source": [
        "output_seq_len = int(np.percentile(sent_lens, 95))\n",
        "output_seq_len"
      ],
      "metadata": {
        "colab": {
          "base_uri": "https://localhost:8080/"
        },
        "id": "_IErDsM3eWMI",
        "outputId": "28fa7ac6-8264-4331-9a86-54af86e2acdf"
      },
      "execution_count": 52,
      "outputs": [
        {
          "output_type": "execute_result",
          "data": {
            "text/plain": [
              "55"
            ]
          },
          "metadata": {},
          "execution_count": 52
        }
      ]
    },
    {
      "cell_type": "code",
      "source": [
        "max_tokens = 68000\n",
        "text_vectorizer = layers.TextVectorization(max_tokens= max_tokens,\n",
        "                                           output_sequence_length=55,\n",
        "                                           pad_to_max_tokens= True)"
      ],
      "metadata": {
        "id": "etvIGh3bfagM"
      },
      "execution_count": 53,
      "outputs": []
    },
    {
      "cell_type": "code",
      "source": [
        "text_vectorizer.adapt(train_sentences)"
      ],
      "metadata": {
        "id": "UBvViy2CmloL"
      },
      "execution_count": 54,
      "outputs": []
    },
    {
      "cell_type": "code",
      "source": [
        "import random\n",
        "\n",
        "random_sentence = random.choice(train_sentences)\n",
        "text_vectorizer([random_sentence]), random_sentence"
      ],
      "metadata": {
        "colab": {
          "base_uri": "https://localhost:8080/"
        },
        "id": "VF6R8mE5msRU",
        "outputId": "b0bbde83-dda4-4c7a-ea88-84dde1e79866"
      },
      "execution_count": 55,
      "outputs": [
        {
          "output_type": "execute_result",
          "data": {
            "text/plain": [
              "(<tf.Tensor: shape=(1, 55), dtype=int64, numpy=\n",
              " array([[   2,  934, 1810,   10, 6224,   27,   17, 1769,    0,    0,    0,\n",
              "            0,    0,    0,    0,    0,    0,    0,    0,    0,    0,    0,\n",
              "            0,    0,    0,    0,    0,    0,    0,    0,    0,    0,    0,\n",
              "            0,    0,    0,    0,    0,    0,    0,    0,    0,    0,    0,\n",
              "            0,    0,    0,    0,    0,    0,    0,    0,    0,    0,    0]])>,\n",
              " 'the randomisation sequence was concealed from study investigators .')"
            ]
          },
          "metadata": {},
          "execution_count": 55
        }
      ]
    },
    {
      "cell_type": "code",
      "source": [
        "rct_20k_text_vocab = text_vectorizer.get_vocabulary()\n",
        "rct_20k_text_vocab[:10]"
      ],
      "metadata": {
        "colab": {
          "base_uri": "https://localhost:8080/"
        },
        "id": "ckkn66Vtndtl",
        "outputId": "adafc3c3-f503-4b69-de0e-b29b0424ddc4"
      },
      "execution_count": 56,
      "outputs": [
        {
          "output_type": "execute_result",
          "data": {
            "text/plain": [
              "['', '[UNK]', 'the', 'and', 'of', 'in', 'to', 'with', 'a', 'were']"
            ]
          },
          "metadata": {},
          "execution_count": 56
        }
      ]
    },
    {
      "cell_type": "code",
      "source": [
        "token_embed = layers.Embedding(\n",
        "    input_dim = len(rct_20k_text_vocab),\n",
        "    output_dim = 128,\n",
        "    mask_zero = True,\n",
        "    name= 'token_embedding'\n",
        ")"
      ],
      "metadata": {
        "id": "R1poYfu9nwa4"
      },
      "execution_count": 57,
      "outputs": []
    },
    {
      "cell_type": "code",
      "source": [
        "print(random_sentence)\n",
        "print(text_vectorizer([random_sentence]))\n",
        "print(token_embed(text_vectorizer([random_sentence])))\n",
        "print(token_embed(text_vectorizer([random_sentence])).shape)"
      ],
      "metadata": {
        "colab": {
          "base_uri": "https://localhost:8080/"
        },
        "id": "tXS5vaQEoX8c",
        "outputId": "6795775c-e0a8-4609-967f-4f04be06af82"
      },
      "execution_count": 58,
      "outputs": [
        {
          "output_type": "stream",
          "name": "stdout",
          "text": [
            "the randomisation sequence was concealed from study investigators .\n",
            "tf.Tensor(\n",
            "[[   2  934 1810   10 6224   27   17 1769    0    0    0    0    0    0\n",
            "     0    0    0    0    0    0    0    0    0    0    0    0    0    0\n",
            "     0    0    0    0    0    0    0    0    0    0    0    0    0    0\n",
            "     0    0    0    0    0    0    0    0    0    0    0    0    0]], shape=(1, 55), dtype=int64)\n",
            "tf.Tensor(\n",
            "[[[ 0.02352441 -0.0366041  -0.02107551 ... -0.02204727 -0.01924115\n",
            "   -0.00435032]\n",
            "  [-0.03158446  0.03415951  0.04517419 ...  0.02919615  0.04882671\n",
            "   -0.0123621 ]\n",
            "  [-0.02589221 -0.01492853  0.01466897 ... -0.01128074  0.01319436\n",
            "    0.01957456]\n",
            "  ...\n",
            "  [ 0.0084252   0.01137669  0.03350529 ... -0.03048908  0.04579422\n",
            "    0.02824518]\n",
            "  [ 0.0084252   0.01137669  0.03350529 ... -0.03048908  0.04579422\n",
            "    0.02824518]\n",
            "  [ 0.0084252   0.01137669  0.03350529 ... -0.03048908  0.04579422\n",
            "    0.02824518]]], shape=(1, 55, 128), dtype=float32)\n",
            "(1, 55, 128)\n"
          ]
        }
      ]
    },
    {
      "cell_type": "code",
      "source": [
        "train_dataset = tf.data.Dataset.from_tensor_slices((train_sentences, train_labels_one_hot))\n",
        "val_dataset = tf.data.Dataset.from_tensor_slices((val_sentences, val_labels_one_hot))     #img data seti kimi burdada bele edir fromdirec\n",
        "test_dataset = tf.data.Dataset.from_tensor_slices((test_sentences, test_labels_one_hot))\n",
        "\n",
        "train_dataset"
      ],
      "metadata": {
        "colab": {
          "base_uri": "https://localhost:8080/"
        },
        "id": "UnDHrpSNpDvs",
        "outputId": "b172d45b-76c2-4374-df2c-f4f26e0e7459"
      },
      "execution_count": 59,
      "outputs": [
        {
          "output_type": "execute_result",
          "data": {
            "text/plain": [
              "<_TensorSliceDataset element_spec=(TensorSpec(shape=(), dtype=tf.string, name=None), TensorSpec(shape=(5,), dtype=tf.float64, name=None))>"
            ]
          },
          "metadata": {},
          "execution_count": 59
        }
      ]
    },
    {
      "cell_type": "code",
      "source": [
        "train_dataset = train_dataset.batch(32).prefetch(tf.data.AUTOTUNE)\n",
        "val_dataset   =   val_dataset.batch(32).prefetch(tf.data.AUTOTUNE)    # img data seti kimi burdada bele edir fromdirec\n",
        "test_dateset  =  test_dataset.batch(32).prefetch(tf.data.AUTOTUNE)\n",
        "\n",
        "train_dataset"
      ],
      "metadata": {
        "colab": {
          "base_uri": "https://localhost:8080/"
        },
        "id": "8MBQd59Pps--",
        "outputId": "b244349b-e035-4391-9c6c-ee25ebd3b8ff"
      },
      "execution_count": 60,
      "outputs": [
        {
          "output_type": "execute_result",
          "data": {
            "text/plain": [
              "<_PrefetchDataset element_spec=(TensorSpec(shape=(None,), dtype=tf.string, name=None), TensorSpec(shape=(None, 5), dtype=tf.float64, name=None))>"
            ]
          },
          "metadata": {},
          "execution_count": 60
        }
      ]
    },
    {
      "cell_type": "code",
      "source": [
        "inputs = layers.Input(shape=(1,), dtype=tf.string)\n",
        "x= text_vectorizer(inputs)\n",
        "x=token_embed(x)\n",
        "x=tf.keras.layers.Conv1D(64,5,padding='same', activation='relu')(x)\n",
        "x = tf.keras.layers.GlobalAveragePooling1D()(x)\n",
        "outputs = tf.keras.layers.Dense(num_classes, activation='softmax')(x)\n",
        "\n",
        "model_1 = tf.keras.models.Model(inputs, outputs)"
      ],
      "metadata": {
        "id": "vlH55N9RtgmJ"
      },
      "execution_count": 61,
      "outputs": []
    },
    {
      "cell_type": "code",
      "source": [
        "model_1.summary()"
      ],
      "metadata": {
        "colab": {
          "base_uri": "https://localhost:8080/"
        },
        "id": "_-02XyziuprV",
        "outputId": "222f79a2-0db1-4516-8d32-633f7e6f93e0"
      },
      "execution_count": 62,
      "outputs": [
        {
          "output_type": "stream",
          "name": "stdout",
          "text": [
            "Model: \"model\"\n",
            "_________________________________________________________________\n",
            " Layer (type)                Output Shape              Param #   \n",
            "=================================================================\n",
            " input_1 (InputLayer)        [(None, 1)]               0         \n",
            "                                                                 \n",
            " text_vectorization (TextVe  (None, 55)                0         \n",
            " ctorization)                                                    \n",
            "                                                                 \n",
            " token_embedding (Embedding  (None, 55, 128)           8299648   \n",
            " )                                                               \n",
            "                                                                 \n",
            " conv1d (Conv1D)             (None, 55, 64)            41024     \n",
            "                                                                 \n",
            " global_average_pooling1d (  (None, 64)                0         \n",
            " GlobalAveragePooling1D)                                         \n",
            "                                                                 \n",
            " dense (Dense)               (None, 5)                 325       \n",
            "                                                                 \n",
            "=================================================================\n",
            "Total params: 8340997 (31.82 MB)\n",
            "Trainable params: 8340997 (31.82 MB)\n",
            "Non-trainable params: 0 (0.00 Byte)\n",
            "_________________________________________________________________\n"
          ]
        }
      ]
    },
    {
      "cell_type": "code",
      "source": [
        "model_1.compile(loss=tf.keras.losses.CategoricalCrossentropy(),\n",
        "                optimizer=tf.keras.optimizers.Adam(),\n",
        "                metrics=['accuracy'])"
      ],
      "metadata": {
        "id": "sXmkCGt1usuj"
      },
      "execution_count": 63,
      "outputs": []
    },
    {
      "cell_type": "code",
      "source": [
        "len(train_dataset)"
      ],
      "metadata": {
        "colab": {
          "base_uri": "https://localhost:8080/"
        },
        "id": "AVfxdKaawD9T",
        "outputId": "196967f7-a065-4119-e2b2-0f2de87b2086"
      },
      "execution_count": 64,
      "outputs": [
        {
          "output_type": "execute_result",
          "data": {
            "text/plain": [
              "5627"
            ]
          },
          "metadata": {},
          "execution_count": 64
        }
      ]
    },
    {
      "cell_type": "code",
      "source": [
        "len(train_dataset) * 32"
      ],
      "metadata": {
        "colab": {
          "base_uri": "https://localhost:8080/"
        },
        "id": "nUsDyyYbwGbS",
        "outputId": "2f4afc88-3784-4221-c8bd-1e4c18396755"
      },
      "execution_count": 65,
      "outputs": [
        {
          "output_type": "execute_result",
          "data": {
            "text/plain": [
              "180064"
            ]
          },
          "metadata": {},
          "execution_count": 65
        }
      ]
    },
    {
      "cell_type": "code",
      "source": [
        "history_model_1 = model_1.fit(\n",
        "    train_dataset,\n",
        "    steps_per_epoch = int(0.1 * len(train_dataset)),\n",
        "    epochs =3,\n",
        "    validation_data = val_dataset,\n",
        "    validation_steps = int(0.1 * len(val_dataset))\n",
        ")"
      ],
      "metadata": {
        "colab": {
          "base_uri": "https://localhost:8080/"
        },
        "id": "WVsvu5wnw0jQ",
        "outputId": "223f9125-e7e3-4ec3-922d-2ed5f5850d86"
      },
      "execution_count": 66,
      "outputs": [
        {
          "output_type": "stream",
          "name": "stdout",
          "text": [
            "Epoch 1/3\n",
            "562/562 [==============================] - 36s 54ms/step - loss: 0.9266 - accuracy: 0.6318 - val_loss: 0.6875 - val_accuracy: 0.7374\n",
            "Epoch 2/3\n",
            "562/562 [==============================] - 12s 22ms/step - loss: 0.6562 - accuracy: 0.7605 - val_loss: 0.6272 - val_accuracy: 0.7759\n",
            "Epoch 3/3\n",
            "562/562 [==============================] - 8s 14ms/step - loss: 0.6128 - accuracy: 0.7787 - val_loss: 0.5903 - val_accuracy: 0.7872\n"
          ]
        }
      ]
    },
    {
      "cell_type": "code",
      "source": [
        "model_1.evaluate(val_dataset)"
      ],
      "metadata": {
        "colab": {
          "base_uri": "https://localhost:8080/"
        },
        "id": "-Io1JfwBxeeJ",
        "outputId": "03a6b771-b0b1-4d10-a17f-0c356f5bc2cf"
      },
      "execution_count": 67,
      "outputs": [
        {
          "output_type": "stream",
          "name": "stdout",
          "text": [
            "945/945 [==============================] - 5s 5ms/step - loss: 0.5925 - accuracy: 0.7888\n"
          ]
        },
        {
          "output_type": "execute_result",
          "data": {
            "text/plain": [
              "[0.5925301313400269, 0.7887594103813171]"
            ]
          },
          "metadata": {},
          "execution_count": 67
        }
      ]
    },
    {
      "cell_type": "code",
      "source": [
        "model_1_pred_probs = model_1.predict(val_dataset)\n",
        "model_1_pred_probs"
      ],
      "metadata": {
        "colab": {
          "base_uri": "https://localhost:8080/"
        },
        "id": "UjVbjsVByUUv",
        "outputId": "5646d9a4-4a27-479e-9ec6-2e951307f9ff"
      },
      "execution_count": 68,
      "outputs": [
        {
          "output_type": "stream",
          "name": "stdout",
          "text": [
            "945/945 [==============================] - 3s 3ms/step\n"
          ]
        },
        {
          "output_type": "execute_result",
          "data": {
            "text/plain": [
              "array([[4.66401517e-01, 1.58763185e-01, 7.74120092e-02, 2.64373004e-01,\n",
              "        3.30502912e-02],\n",
              "       [3.93508643e-01, 2.95734733e-01, 1.31949242e-02, 2.86577195e-01,\n",
              "        1.09845297e-02],\n",
              "       [1.31413370e-01, 9.09286924e-03, 1.47628156e-03, 8.57936084e-01,\n",
              "        8.14600862e-05],\n",
              "       ...,\n",
              "       [5.21009542e-06, 5.47692878e-04, 5.36597508e-04, 2.13540238e-06,\n",
              "        9.98908401e-01],\n",
              "       [6.70386702e-02, 4.34480101e-01, 1.19506784e-01, 8.52014497e-02,\n",
              "        2.93772995e-01],\n",
              "       [1.94750130e-01, 6.53189301e-01, 4.09388877e-02, 5.69348112e-02,\n",
              "        5.41867726e-02]], dtype=float32)"
            ]
          },
          "metadata": {},
          "execution_count": 68
        }
      ]
    },
    {
      "cell_type": "code",
      "source": [
        "model_1_preds = tf.argmax(model_1_pred_probs, axis=1)\n",
        "model_1_preds"
      ],
      "metadata": {
        "colab": {
          "base_uri": "https://localhost:8080/"
        },
        "id": "ufoAk97bzgRa",
        "outputId": "db02adc0-2bec-48d4-d9b8-3121f9529399"
      },
      "execution_count": 69,
      "outputs": [
        {
          "output_type": "execute_result",
          "data": {
            "text/plain": [
              "<tf.Tensor: shape=(30212,), dtype=int64, numpy=array([0, 0, 3, ..., 4, 1, 1])>"
            ]
          },
          "metadata": {},
          "execution_count": 69
        }
      ]
    },
    {
      "cell_type": "code",
      "source": [
        "model_1_results = calculate_results(y_true = val_labels_encoded,\n",
        "                                    y_pred = model_1_preds)\n",
        "model_1_results"
      ],
      "metadata": {
        "colab": {
          "base_uri": "https://localhost:8080/"
        },
        "id": "hE4FF8sV0bte",
        "outputId": "90dd0368-79c9-44f1-e195-f68a700a47f7"
      },
      "execution_count": 70,
      "outputs": [
        {
          "output_type": "execute_result",
          "data": {
            "text/plain": [
              "{'accuracy': 78.87594333377466,\n",
              " 'precision': 0.7855180497034329,\n",
              " 'recall': 0.7887594333377466,\n",
              " 'f1': 0.7864422548372049}"
            ]
          },
          "metadata": {},
          "execution_count": 70
        }
      ]
    },
    {
      "cell_type": "code",
      "source": [
        "import tensorflow_hub as hub\n",
        "sentence_encoder_layer = hub.KerasLayer(\n",
        "    'https://tfhub.dev/google/universal-sentence-encoder/4',\n",
        "    trainable=False, name='USE'\n",
        ")"
      ],
      "metadata": {
        "id": "4ifnwv0j1ScH"
      },
      "execution_count": 71,
      "outputs": []
    },
    {
      "cell_type": "code",
      "source": [],
      "metadata": {
        "id": "zMeNxItjr6sW"
      },
      "execution_count": 71,
      "outputs": []
    },
    {
      "cell_type": "code",
      "source": [
        "inputs = tf.keras.layers.Input(shape= [], dtype = tf.string)\n",
        "\n",
        "use = sentence_encoder_layer(inputs)\n",
        "x = layers.Dense(128, activation='relu')(use)\n",
        "outputs = layers.Dense(5, activation= 'softmax')(x)\n",
        "\n",
        "model_2= tf.keras.models.Model(inputs, outputs)"
      ],
      "metadata": {
        "id": "bPwr2xCe2NRv"
      },
      "execution_count": 72,
      "outputs": []
    },
    {
      "cell_type": "code",
      "source": [
        "model_2.compile(loss=tf.keras.losses.CategoricalCrossentropy(),\n",
        "                optimizer=tf.keras.optimizers.Adam(),\n",
        "                metrics=['accuracy'])"
      ],
      "metadata": {
        "id": "Uutg4tNF2xgl"
      },
      "execution_count": 73,
      "outputs": []
    },
    {
      "cell_type": "code",
      "source": [
        "history_model_2 = model_2.fit(\n",
        "    train_dataset,\n",
        "    steps_per_epoch = int(0.1 * len(train_dataset)),\n",
        "    epochs =3,\n",
        "    validation_data = val_dataset,\n",
        "    validation_steps = int(0.1 * len(val_dataset))\n",
        ")"
      ],
      "metadata": {
        "colab": {
          "base_uri": "https://localhost:8080/"
        },
        "id": "-VlVnaf225Dv",
        "outputId": "ea6f2448-ae39-41d0-b392-797058a83dc9"
      },
      "execution_count": 74,
      "outputs": [
        {
          "output_type": "stream",
          "name": "stdout",
          "text": [
            "Epoch 1/3\n",
            "562/562 [==============================] - 21s 21ms/step - loss: 0.9152 - accuracy: 0.6532 - val_loss: 0.7967 - val_accuracy: 0.6858\n",
            "Epoch 2/3\n",
            "562/562 [==============================] - 11s 19ms/step - loss: 0.7690 - accuracy: 0.7033 - val_loss: 0.7559 - val_accuracy: 0.7045\n",
            "Epoch 3/3\n",
            "562/562 [==============================] - 14s 25ms/step - loss: 0.7531 - accuracy: 0.7120 - val_loss: 0.7404 - val_accuracy: 0.7124\n"
          ]
        }
      ]
    },
    {
      "cell_type": "code",
      "source": [
        "model_2.summary()"
      ],
      "metadata": {
        "colab": {
          "base_uri": "https://localhost:8080/"
        },
        "id": "bosfOWE53HP3",
        "outputId": "3bcddbe5-bf12-41a5-a6a3-7bcd797ae680"
      },
      "execution_count": 75,
      "outputs": [
        {
          "output_type": "stream",
          "name": "stdout",
          "text": [
            "Model: \"model_1\"\n",
            "_________________________________________________________________\n",
            " Layer (type)                Output Shape              Param #   \n",
            "=================================================================\n",
            " input_2 (InputLayer)        [(None,)]                 0         \n",
            "                                                                 \n",
            " USE (KerasLayer)            (None, 512)               256797824 \n",
            "                                                                 \n",
            " dense_1 (Dense)             (None, 128)               65664     \n",
            "                                                                 \n",
            " dense_2 (Dense)             (None, 5)                 645       \n",
            "                                                                 \n",
            "=================================================================\n",
            "Total params: 256864133 (979.86 MB)\n",
            "Trainable params: 66309 (259.02 KB)\n",
            "Non-trainable params: 256797824 (979.61 MB)\n",
            "_________________________________________________________________\n"
          ]
        }
      ]
    },
    {
      "cell_type": "code",
      "source": [],
      "metadata": {
        "id": "0iGQAGkc3iMX"
      },
      "execution_count": 75,
      "outputs": []
    },
    {
      "cell_type": "code",
      "source": [
        "model_2.evaluate(val_dataset)"
      ],
      "metadata": {
        "colab": {
          "base_uri": "https://localhost:8080/"
        },
        "id": "KqaliPP15TUi",
        "outputId": "dc470782-7852-4bb5-9c83-91288fc84939"
      },
      "execution_count": 76,
      "outputs": [
        {
          "output_type": "stream",
          "name": "stdout",
          "text": [
            "945/945 [==============================] - 21s 22ms/step - loss: 0.7419 - accuracy: 0.7134\n"
          ]
        },
        {
          "output_type": "execute_result",
          "data": {
            "text/plain": [
              "[0.7419176697731018, 0.7134250998497009]"
            ]
          },
          "metadata": {},
          "execution_count": 76
        }
      ]
    },
    {
      "cell_type": "code",
      "source": [
        "model_2_pred_probs = model_2.predict(val_dataset)\n",
        "model_2_pred_probs"
      ],
      "metadata": {
        "colab": {
          "base_uri": "https://localhost:8080/"
        },
        "id": "5Yd2BQmx5TSO",
        "outputId": "b1ad263e-ddbc-4b0a-889b-2923d5304bd5"
      },
      "execution_count": 77,
      "outputs": [
        {
          "output_type": "stream",
          "name": "stdout",
          "text": [
            "945/945 [==============================] - 17s 17ms/step\n"
          ]
        },
        {
          "output_type": "execute_result",
          "data": {
            "text/plain": [
              "array([[0.41715884, 0.39096484, 0.00257672, 0.18122242, 0.00807722],\n",
              "       [0.36215606, 0.49384853, 0.00405499, 0.13714312, 0.00279734],\n",
              "       [0.23286931, 0.14604059, 0.01818916, 0.5668816 , 0.03601939],\n",
              "       ...,\n",
              "       [0.00244935, 0.00609313, 0.04553197, 0.00103337, 0.94489217],\n",
              "       [0.00454563, 0.04580524, 0.18215413, 0.00150284, 0.7659921 ],\n",
              "       [0.13757643, 0.27812967, 0.52086455, 0.00535439, 0.05807498]],\n",
              "      dtype=float32)"
            ]
          },
          "metadata": {},
          "execution_count": 77
        }
      ]
    },
    {
      "cell_type": "code",
      "source": [
        "model_2_preds = tf.argmax(model_2_pred_probs, axis=1)\n",
        "model_2_preds"
      ],
      "metadata": {
        "colab": {
          "base_uri": "https://localhost:8080/"
        },
        "id": "V51p3prn5TP7",
        "outputId": "5b3578eb-c0e2-44ea-a9c5-bd4c87cb089e"
      },
      "execution_count": 78,
      "outputs": [
        {
          "output_type": "execute_result",
          "data": {
            "text/plain": [
              "<tf.Tensor: shape=(30212,), dtype=int64, numpy=array([0, 1, 3, ..., 4, 4, 2])>"
            ]
          },
          "metadata": {},
          "execution_count": 78
        }
      ]
    },
    {
      "cell_type": "code",
      "source": [
        "model_2_results = calculate_results(y_true = val_labels_encoded,\n",
        "                                    y_pred = model_2_preds)\n",
        "model_2_results"
      ],
      "metadata": {
        "colab": {
          "base_uri": "https://localhost:8080/"
        },
        "id": "2W92x2Le5TJV",
        "outputId": "1495c44d-52fa-4098-9b80-a2950120f4e8"
      },
      "execution_count": 79,
      "outputs": [
        {
          "output_type": "execute_result",
          "data": {
            "text/plain": [
              "{'accuracy': 71.34251290877796,\n",
              " 'precision': 0.7135860813411194,\n",
              " 'recall': 0.7134251290877797,\n",
              " 'f1': 0.7105164796364958}"
            ]
          },
          "metadata": {},
          "execution_count": 79
        }
      ]
    },
    {
      "cell_type": "code",
      "source": [
        "# Replace 'layer_name' with the actual name of the layer you want to access.\n",
        "# For example, if you want to access the 'USE' layer:\n",
        "model_2.get_layer('USE')\n",
        "\n",
        "# To get a layer by index (replace 0 with the desired index):\n",
        "model_2.get_layer(index=0) # Accesses the first layer ('input_3' in this case)"
      ],
      "metadata": {
        "colab": {
          "base_uri": "https://localhost:8080/"
        },
        "id": "ga9dbigA5TGf",
        "outputId": "0310fb65-7fa6-4103-d423-819563c63e35"
      },
      "execution_count": 80,
      "outputs": [
        {
          "output_type": "execute_result",
          "data": {
            "text/plain": [
              "<keras.src.engine.input_layer.InputLayer at 0x787d618ed450>"
            ]
          },
          "metadata": {},
          "execution_count": 80
        }
      ]
    },
    {
      "cell_type": "code",
      "source": [
        "# Print layer names\n",
        "for layer in model_2.layers:\n",
        "    print(layer.name)"
      ],
      "metadata": {
        "colab": {
          "base_uri": "https://localhost:8080/"
        },
        "id": "MSg0Uk0O5S0z",
        "outputId": "aef34a0b-c8ac-4924-a9a4-2cb393eae1eb"
      },
      "execution_count": 81,
      "outputs": [
        {
          "output_type": "stream",
          "name": "stdout",
          "text": [
            "input_2\n",
            "USE\n",
            "dense_1\n",
            "dense_2\n"
          ]
        }
      ]
    },
    {
      "cell_type": "code",
      "source": [
        "def split_chars(text):\n",
        "  return ' '.join(list(text))\n",
        "\n",
        "split_chars(random_sentence)"
      ],
      "metadata": {
        "colab": {
          "base_uri": "https://localhost:8080/",
          "height": 35
        },
        "id": "qtu3GSPr8SdZ",
        "outputId": "217cf69d-2404-4d01-edda-5add1b47b524"
      },
      "execution_count": 82,
      "outputs": [
        {
          "output_type": "execute_result",
          "data": {
            "text/plain": [
              "'t h e   r a n d o m i s a t i o n   s e q u e n c e   w a s   c o n c e a l e d   f r o m   s t u d y   i n v e s t i g a t o r s   .'"
            ],
            "application/vnd.google.colaboratory.intrinsic+json": {
              "type": "string"
            }
          },
          "metadata": {},
          "execution_count": 82
        }
      ]
    },
    {
      "cell_type": "code",
      "source": [
        "train_chars = [split_chars(sentence) for sentence in train_sentences]\n",
        "val_chars = [split_chars(sentence) for sentence in val_sentences]\n",
        "test_chars = [split_chars(sentence) for sentence in test_sentences]\n",
        "\n",
        "train_chars[:5]"
      ],
      "metadata": {
        "id": "zTzA1Lkr8NnU",
        "colab": {
          "base_uri": "https://localhost:8080/"
        },
        "outputId": "0db80f2c-9db0-4840-90ab-1569e6a08079"
      },
      "execution_count": 83,
      "outputs": [
        {
          "output_type": "execute_result",
          "data": {
            "text/plain": [
              "['t o   i n v e s t i g a t e   t h e   e f f i c a c y   o f   @   w e e k s   o f   d a i l y   l o w - d o s e   o r a l   p r e d n i s o l o n e   i n   i m p r o v i n g   p a i n   ,   m o b i l i t y   ,   a n d   s y s t e m i c   l o w - g r a d e   i n f l a m m a t i o n   i n   t h e   s h o r t   t e r m   a n d   w h e t h e r   t h e   e f f e c t   w o u l d   b e   s u s t a i n e d   a t   @   w e e k s   i n   o l d e r   a d u l t s   w i t h   m o d e r a t e   t o   s e v e r e   k n e e   o s t e o a r t h r i t i s   (   o a   )   .',\n",
              " 'a   t o t a l   o f   @   p a t i e n t s   w i t h   p r i m a r y   k n e e   o a   w e r e   r a n d o m i z e d   @ : @   ;   @   r e c e i v e d   @   m g / d a y   o f   p r e d n i s o l o n e   a n d   @   r e c e i v e d   p l a c e b o   f o r   @   w e e k s   .',\n",
              " 'o u t c o m e   m e a s u r e s   i n c l u d e d   p a i n   r e d u c t i o n   a n d   i m p r o v e m e n t   i n   f u n c t i o n   s c o r e s   a n d   s y s t e m i c   i n f l a m m a t i o n   m a r k e r s   .',\n",
              " 'p a i n   w a s   a s s e s s e d   u s i n g   t h e   v i s u a l   a n a l o g   p a i n   s c a l e   (   @ - @   m m   )   .',\n",
              " 's e c o n d a r y   o u t c o m e   m e a s u r e s   i n c l u d e d   t h e   w e s t e r n   o n t a r i o   a n d   m c m a s t e r   u n i v e r s i t i e s   o s t e o a r t h r i t i s   i n d e x   s c o r e s   ,   p a t i e n t   g l o b a l   a s s e s s m e n t   (   p g a   )   o f   t h e   s e v e r i t y   o f   k n e e   o a   ,   a n d   @ - m i n   w a l k   d i s t a n c e   (   @ m w d   )   .']"
            ]
          },
          "metadata": {},
          "execution_count": 83
        }
      ]
    },
    {
      "cell_type": "code",
      "source": [
        "char_lens = [len(sentence) for sentence in train_sentences]\n",
        "mean_char_len = np.mean(char_lens)\n",
        "mean_char_len"
      ],
      "metadata": {
        "colab": {
          "base_uri": "https://localhost:8080/"
        },
        "id": "T64t0Kem6vg5",
        "outputId": "300425a3-81a9-4962-ce54-4cf18ce64690"
      },
      "execution_count": 84,
      "outputs": [
        {
          "output_type": "execute_result",
          "data": {
            "text/plain": [
              "149.3662574983337"
            ]
          },
          "metadata": {},
          "execution_count": 84
        }
      ]
    },
    {
      "cell_type": "code",
      "source": [
        "import matplotlib.pyplot as plt\n",
        "\n",
        "plt.hist(char_lens, bins=7)"
      ],
      "metadata": {
        "colab": {
          "base_uri": "https://localhost:8080/",
          "height": 519
        },
        "id": "bi4KOD0m7ZJG",
        "outputId": "c945d982-f70a-4b3d-ac30-01843fca861e"
      },
      "execution_count": 85,
      "outputs": [
        {
          "output_type": "execute_result",
          "data": {
            "text/plain": [
              "(array([1.41175e+05, 3.71110e+04, 1.60000e+03, 1.27000e+02, 2.10000e+01,\n",
              "        5.00000e+00, 1.00000e+00]),\n",
              " array([1.00000000e+00, 1.98857143e+02, 3.96714286e+02, 5.94571429e+02,\n",
              "        7.92428571e+02, 9.90285714e+02, 1.18814286e+03, 1.38600000e+03]),\n",
              " <BarContainer object of 7 artists>)"
            ]
          },
          "metadata": {},
          "execution_count": 85
        },
        {
          "output_type": "display_data",
          "data": {
            "text/plain": [
              "<Figure size 640x480 with 1 Axes>"
            ],
            "image/png": "[encoded data removed]"
          },
          "metadata": {}
        }
      ]
    },
    {
      "cell_type": "code",
      "source": [
        "output_seq_char_len = int(np.percentile(char_lens, 95))\n",
        "output_seq_char_len"
      ],
      "metadata": {
        "colab": {
          "base_uri": "https://localhost:8080/"
        },
        "id": "7HzBpMU27z-D",
        "outputId": "f57e6b3b-1900-4bed-97d6-cb8104e12ecd"
      },
      "execution_count": 86,
      "outputs": [
        {
          "output_type": "execute_result",
          "data": {
            "text/plain": [
              "290"
            ]
          },
          "metadata": {},
          "execution_count": 86
        }
      ]
    },
    {
      "cell_type": "code",
      "source": [
        "import string\n",
        "\n",
        "alphabet = string.ascii_lowercase + string.digits + string.punctuation\n",
        "alphabet"
      ],
      "metadata": {
        "colab": {
          "base_uri": "https://localhost:8080/",
          "height": 35
        },
        "id": "eLrlgMxx8MdG",
        "outputId": "e4dd3023-8027-456b-ac0e-79c964dcae88"
      },
      "execution_count": 87,
      "outputs": [
        {
          "output_type": "execute_result",
          "data": {
            "text/plain": [
              "'abcdefghijklmnopqrstuvwxyz0123456789!\"#$%&\\'()*+,-./:;<=>?@[\\\\]^_`{|}~'"
            ],
            "application/vnd.google.colaboratory.intrinsic+json": {
              "type": "string"
            }
          },
          "metadata": {},
          "execution_count": 87
        }
      ]
    },
    {
      "cell_type": "code",
      "source": [
        "from keras.layers import TextVectorization\n",
        "NUM_CHAR_TOKENS = len(alphabet) + 1\n",
        "char_vectorizer = TextVectorization(max_tokens = NUM_CHAR_TOKENS,\n",
        "                                    standardize='lower_and_strip_punctuation',\n",
        "                                    output_sequence_length=output_seq_char_len,\n",
        "                                    name = 'char_vectorizer')"
      ],
      "metadata": {
        "id": "2UhWDwKF8yos"
      },
      "execution_count": 88,
      "outputs": []
    },
    {
      "cell_type": "code",
      "source": [
        "char_vectorizer.adapt(train_chars)"
      ],
      "metadata": {
        "id": "ivdMk3W99qCr"
      },
      "execution_count": 89,
      "outputs": []
    },
    {
      "cell_type": "code",
      "source": [
        "char_vocab = char_vectorizer.get_vocabulary()\n",
        "char_vocab, len(char_vocab)"
      ],
      "metadata": {
        "colab": {
          "base_uri": "https://localhost:8080/"
        },
        "id": "uYPcqL6-9xWQ",
        "outputId": "8aa5eedf-3369-45a6-dc0e-4cd206a0bb8c"
      },
      "execution_count": 90,
      "outputs": [
        {
          "output_type": "execute_result",
          "data": {
            "text/plain": [
              "(['',\n",
              "  '[UNK]',\n",
              "  'e',\n",
              "  't',\n",
              "  'i',\n",
              "  'a',\n",
              "  'n',\n",
              "  'o',\n",
              "  'r',\n",
              "  's',\n",
              "  'd',\n",
              "  'c',\n",
              "  'l',\n",
              "  'h',\n",
              "  'p',\n",
              "  'm',\n",
              "  'u',\n",
              "  'f',\n",
              "  'g',\n",
              "  'y',\n",
              "  'w',\n",
              "  'v',\n",
              "  'b',\n",
              "  'k',\n",
              "  'x',\n",
              "  'z',\n",
              "  'q',\n",
              "  'j'],\n",
              " 28)"
            ]
          },
          "metadata": {},
          "execution_count": 90
        }
      ]
    },
    {
      "cell_type": "code",
      "source": [
        "random_train_chars = random.choice(train_chars)\n",
        "char_vectorizer([random_train_chars])"
      ],
      "metadata": {
        "colab": {
          "base_uri": "https://localhost:8080/"
        },
        "id": "vOyzWR_09_t3",
        "outputId": "b50b1ee1-0d07-47d8-f712-e8aa23b06f27"
      },
      "execution_count": 91,
      "outputs": [
        {
          "output_type": "execute_result",
          "data": {
            "text/plain": [
              "<tf.Tensor: shape=(1, 290), dtype=int64, numpy=\n",
              "array([[17,  7, 12, 12,  7, 20,  4,  6, 18,  3, 13,  8,  2,  2, 10,  2,\n",
              "         5,  3, 13,  9,  5,  6, 10,  3, 20,  7, 10,  8,  7, 14,  7, 16,\n",
              "         3,  9,  3, 13,  2,  8,  2, 20,  2,  8,  2, 14,  5,  8,  3,  4,\n",
              "        11,  4, 14,  5,  6,  3,  9, 20, 13,  7, 20,  2,  8,  2,  5, 21,\n",
              "         5,  4, 12,  5, 22, 12,  2,  5,  3,  3, 13,  2, 19,  2,  5,  8,\n",
              "         8,  2, 11,  5, 12, 12,  0,  0,  0,  0,  0,  0,  0,  0,  0,  0,\n",
              "         0,  0,  0,  0,  0,  0,  0,  0,  0,  0,  0,  0,  0,  0,  0,  0,\n",
              "         0,  0,  0,  0,  0,  0,  0,  0,  0,  0,  0,  0,  0,  0,  0,  0,\n",
              "         0,  0,  0,  0,  0,  0,  0,  0,  0,  0,  0,  0,  0,  0,  0,  0,\n",
              "         0,  0,  0,  0,  0,  0,  0,  0,  0,  0,  0,  0,  0,  0,  0,  0,\n",
              "         0,  0,  0,  0,  0,  0,  0,  0,  0,  0,  0,  0,  0,  0,  0,  0,\n",
              "         0,  0,  0,  0,  0,  0,  0,  0,  0,  0,  0,  0,  0,  0,  0,  0,\n",
              "         0,  0,  0,  0,  0,  0,  0,  0,  0,  0,  0,  0,  0,  0,  0,  0,\n",
              "         0,  0,  0,  0,  0,  0,  0,  0,  0,  0,  0,  0,  0,  0,  0,  0,\n",
              "         0,  0,  0,  0,  0,  0,  0,  0,  0,  0,  0,  0,  0,  0,  0,  0,\n",
              "         0,  0,  0,  0,  0,  0,  0,  0,  0,  0,  0,  0,  0,  0,  0,  0,\n",
              "         0,  0,  0,  0,  0,  0,  0,  0,  0,  0,  0,  0,  0,  0,  0,  0,\n",
              "         0,  0,  0,  0,  0,  0,  0,  0,  0,  0,  0,  0,  0,  0,  0,  0,\n",
              "         0,  0]])>"
            ]
          },
          "metadata": {},
          "execution_count": 91
        }
      ]
    },
    {
      "cell_type": "code",
      "source": [
        "char_embed =layers.Embedding(\n",
        "    input_dim =len(char_vocab),\n",
        "    output_dim = 25,\n",
        "    mask_zero = True,\n",
        "    name = 'char_embed'\n",
        ")"
      ],
      "metadata": {
        "id": "qcGsIQhY-VIf"
      },
      "execution_count": 92,
      "outputs": []
    },
    {
      "cell_type": "code",
      "source": [
        "inputs = layers.Input(shape= (1, ), dtype = tf.string)\n",
        "\n",
        "x=char_vectorizer(inputs)\n",
        "x = char_embed(x)\n",
        "\n",
        "x= layers.Conv1D(64, kernel_size=10, padding = 'same', activation='relu')(x)\n",
        "x = layers.Bidirectional(layers.LSTM(64, return_sequences=True))(x)\n",
        "x= layers.Dropout(0.5)(x)\n",
        "x = layers.Bidirectional(layers.LSTM(32, return_sequences=True))(x)\n",
        "x= layers.Conv1D(16, kernel_size=10, padding = 'same', activation='relu')(x)\n",
        "x= layers.GlobalAveragePooling1D()(x)\n",
        "\n",
        "outputs = layers.Dense(num_classes, activation='softmax')(x)\n",
        "\n",
        "model_3 = tf.keras.models.Model(inputs, outputs, name='model_3_conv1d_char_0embedding')\n",
        "\n",
        "\n",
        "\n",
        "model_3.compile(loss='categorical_crossentropy',\n",
        "                optimizer = tf.keras.optimizers.Adam(learning_rate=0.00001),\n",
        "                metrics=['accuracy'])"
      ],
      "metadata": {
        "id": "DEjIUIic_39s"
      },
      "execution_count": 93,
      "outputs": []
    },
    {
      "cell_type": "code",
      "source": [
        "train_char_dataset = tf.data.Dataset.from_tensor_slices((train_chars, train_labels_one_hot))\n",
        "val_char_dataset = tf.data.Dataset.from_tensor_slices((val_chars, val_labels_one_hot))\n",
        "test_char_dataset = tf.data.Dataset.from_tensor_slices((test_chars, test_labels_one_hot))\n",
        "\n",
        "train_char_dataset"
      ],
      "metadata": {
        "colab": {
          "base_uri": "https://localhost:8080/"
        },
        "id": "bjAiauOCBbEq",
        "outputId": "b7861ae5-b1bd-4d81-ed02-87eda4b4d8e2"
      },
      "execution_count": 94,
      "outputs": [
        {
          "output_type": "execute_result",
          "data": {
            "text/plain": [
              "<_TensorSliceDataset element_spec=(TensorSpec(shape=(), dtype=tf.string, name=None), TensorSpec(shape=(5,), dtype=tf.float64, name=None))>"
            ]
          },
          "metadata": {},
          "execution_count": 94
        }
      ]
    },
    {
      "cell_type": "code",
      "source": [
        "train_char_dataset = train_char_dataset.batch(32).prefetch(tf.data.AUTOTUNE)\n",
        "val_char_dataset   = val_char_dataset.batch(32).prefetch(tf.data.AUTOTUNE)\n",
        "test_char_dataset  = test_char_dataset.batch(32).prefetch(tf.data.AUTOTUNE)\n",
        "\n",
        "train_char_dataset"
      ],
      "metadata": {
        "colab": {
          "base_uri": "https://localhost:8080/"
        },
        "id": "TVMWMASnCKfX",
        "outputId": "0196f627-3ab7-4598-e7ae-bcdeecc0bc8f"
      },
      "execution_count": 95,
      "outputs": [
        {
          "output_type": "execute_result",
          "data": {
            "text/plain": [
              "<_PrefetchDataset element_spec=(TensorSpec(shape=(None,), dtype=tf.string, name=None), TensorSpec(shape=(None, 5), dtype=tf.float64, name=None))>"
            ]
          },
          "metadata": {},
          "execution_count": 95
        }
      ]
    },
    {
      "cell_type": "code",
      "source": [
        "model_3_history = model_3.fit(train_char_dataset,\n",
        "                              steps_per_epoch = int(0.1 * len(train_char_dataset)),\n",
        "                              epochs = 10,\n",
        "                              validation_data = val_char_dataset,\n",
        "                              validation_steps = int(0.1* len(val_char_dataset)))"
      ],
      "metadata": {
        "colab": {
          "base_uri": "https://localhost:8080/"
        },
        "id": "dNqTx9IfCvbB",
        "outputId": "530098ec-7f46-4abd-e7f2-a5c2d8f514f5"
      },
      "execution_count": 96,
      "outputs": [
        {
          "output_type": "stream",
          "name": "stdout",
          "text": [
            "Epoch 1/10\n",
            "562/562 [==============================] - 57s 81ms/step - loss: 1.5417 - accuracy: 0.3098 - val_loss: 1.4737 - val_accuracy: 0.3205\n",
            "Epoch 2/10\n",
            "562/562 [==============================] - 44s 78ms/step - loss: 1.4638 - accuracy: 0.3295 - val_loss: 1.4674 - val_accuracy: 0.3258\n",
            "Epoch 3/10\n",
            "562/562 [==============================] - 32s 57ms/step - loss: 1.4643 - accuracy: 0.3324 - val_loss: 1.4662 - val_accuracy: 0.3298\n",
            "Epoch 4/10\n",
            "562/562 [==============================] - 27s 47ms/step - loss: 1.4570 - accuracy: 0.3305 - val_loss: 1.4656 - val_accuracy: 0.3441\n",
            "Epoch 5/10\n",
            "562/562 [==============================] - 30s 54ms/step - loss: 1.4604 - accuracy: 0.3330 - val_loss: 1.4646 - val_accuracy: 0.3338\n",
            "Epoch 6/10\n",
            "562/562 [==============================] - 29s 52ms/step - loss: 1.4574 - accuracy: 0.3273 - val_loss: 1.4638 - val_accuracy: 0.3241\n",
            "Epoch 7/10\n",
            "562/562 [==============================] - 27s 48ms/step - loss: 1.4555 - accuracy: 0.3266 - val_loss: 1.4635 - val_accuracy: 0.3401\n",
            "Epoch 8/10\n",
            "562/562 [==============================] - 28s 50ms/step - loss: 1.4554 - accuracy: 0.3291 - val_loss: 1.4619 - val_accuracy: 0.3261\n",
            "Epoch 9/10\n",
            "562/562 [==============================] - 27s 48ms/step - loss: 1.4587 - accuracy: 0.3305 - val_loss: 1.4602 - val_accuracy: 0.3298\n",
            "Epoch 10/10\n",
            "562/562 [==============================] - 27s 48ms/step - loss: 1.4568 - accuracy: 0.3333 - val_loss: 1.4569 - val_accuracy: 0.3371\n"
          ]
        }
      ]
    },
    {
      "cell_type": "code",
      "source": [
        "model_3_pred_probs = model_3.predict(val_char_dataset)\n",
        "model_3_pred_probs"
      ],
      "metadata": {
        "colab": {
          "base_uri": "https://localhost:8080/"
        },
        "id": "oJZArzOOEC6M",
        "outputId": "cad14357-2c2f-4e59-a3cf-3439616ba7a1"
      },
      "execution_count": 97,
      "outputs": [
        {
          "output_type": "stream",
          "name": "stdout",
          "text": [
            "945/945 [==============================] - 20s 20ms/step\n"
          ]
        },
        {
          "output_type": "execute_result",
          "data": {
            "text/plain": [
              "array([[0.13190876, 0.15109071, 0.3201671 , 0.07182612, 0.3250073 ],\n",
              "       [0.11478741, 0.13234992, 0.34468985, 0.05117187, 0.357001  ],\n",
              "       [0.1312354 , 0.1499627 , 0.32152134, 0.07283181, 0.3244488 ],\n",
              "       ...,\n",
              "       [0.12359825, 0.14173391, 0.33283645, 0.06309249, 0.33873886],\n",
              "       [0.13634937, 0.15540336, 0.3128837 , 0.08095323, 0.3144104 ],\n",
              "       [0.1116927 , 0.12874253, 0.34831303, 0.04729737, 0.36395442]],\n",
              "      dtype=float32)"
            ]
          },
          "metadata": {},
          "execution_count": 97
        }
      ]
    },
    {
      "cell_type": "code",
      "source": [
        "model_3_preds = tf.argmax(model_3_pred_probs, axis=1)\n",
        "model_3_preds"
      ],
      "metadata": {
        "colab": {
          "base_uri": "https://localhost:8080/"
        },
        "id": "7XOeJOb_GX54",
        "outputId": "0ecdbe1f-da8c-4ad5-df38-82677e5a6dd5"
      },
      "execution_count": 98,
      "outputs": [
        {
          "output_type": "execute_result",
          "data": {
            "text/plain": [
              "<tf.Tensor: shape=(30212,), dtype=int64, numpy=array([4, 4, 4, ..., 4, 4, 4])>"
            ]
          },
          "metadata": {},
          "execution_count": 98
        }
      ]
    },
    {
      "cell_type": "code",
      "source": [
        "model_3_results = calculate_results(y_true = val_labels_encoded,\n",
        "                                    y_pred = model_3_preds)\n",
        "model_3_results"
      ],
      "metadata": {
        "colab": {
          "base_uri": "https://localhost:8080/"
        },
        "id": "Ad4tFCcTGg5z",
        "outputId": "a4d69c1e-78aa-4be1-9aad-2cc3bc953e0c"
      },
      "execution_count": 99,
      "outputs": [
        {
          "output_type": "stream",
          "name": "stderr",
          "text": [
            "/usr/local/lib/python3.10/dist-packages/sklearn/metrics/_classification.py:1344: UndefinedMetricWarning: Precision and F-score are ill-defined and being set to 0.0 in labels with no predicted samples. Use `zero_division` parameter to control this behavior.\n",
            "  _warn_prf(average, modifier, msg_start, len(result))\n"
          ]
        },
        {
          "output_type": "execute_result",
          "data": {
            "text/plain": [
              "{'accuracy': 34.300940023831586,\n",
              " 'precision': 0.2249359107318453,\n",
              " 'recall': 0.3430094002383159,\n",
              " 'f1': 0.24262565077893158}"
            ]
          },
          "metadata": {},
          "execution_count": 99
        }
      ]
    },
    {
      "cell_type": "code",
      "source": [
        "#token level embeddiing\n",
        "token_inputs = layers.Input(shape=[], dtype = tf.string, name = 'token_input')\n",
        "token_embedding = sentence_encoder_layer(token_inputs)\n",
        "token_outputs = layers.Dense(128, activation ='relu')(token_embedding)\n",
        "token_model = tf.keras.models.Model(token_inputs, token_outputs)\n",
        "\n",
        "#character level embedding\n",
        "\n",
        "char_inputs = layers.Input(shape=(1,), dtype=tf.string, name='char_input')\n",
        "char_vectors = char_vectorizer(char_inputs)\n",
        "char_embedding = char_embed(char_vectors)\n",
        "char_bi_lstm = layers.Bidirectional(layers.LSTM(24))(char_embedding)\n",
        "char_model = tf.keras.Model(char_inputs,\n",
        "                            char_bi_lstm)\n",
        "\n",
        "#concatenate these two outputs\n",
        "token_char_concat = layers.Concatenate(name = 'token_char_hybrid')([token_model.output, char_model.output])\n",
        "\n",
        "#output layers\n",
        "combined_dropout = layers.Dropout(0.5)(token_char_concat)\n",
        "combined_dense = layers.Dense(128, activation='relu')(combined_dropout)\n",
        "\n",
        "final_dropout = layers.Dropout(0.5)(combined_dense)\n",
        "output_layer = layers.Dense(num_classes, activation='softmax')(final_dropout)\n",
        "\n",
        "model_4 = tf.keras.Model(inputs = [token_model.input, char_model.input],\n",
        "                         outputs = output_layer,\n",
        "                         name='model_4_token_and_char_embedding')"
      ],
      "metadata": {
        "id": "uZZJIX2KG4Km"
      },
      "execution_count": 100,
      "outputs": []
    },
    {
      "cell_type": "code",
      "source": [
        "\n",
        "model_4.summary()"
      ],
      "metadata": {
        "colab": {
          "base_uri": "https://localhost:8080/"
        },
        "id": "GNaVJvPfKSAA",
        "outputId": "8c5cffee-f0a3-4aa6-b60e-126a5bc764a3"
      },
      "execution_count": 101,
      "outputs": [
        {
          "output_type": "stream",
          "name": "stdout",
          "text": [
            "Model: \"model_4_token_and_char_embedding\"\n",
            "__________________________________________________________________________________________________\n",
            " Layer (type)                Output Shape                 Param #   Connected to                  \n",
            "==================================================================================================\n",
            " char_input (InputLayer)     [(None, 1)]                  0         []                            \n",
            "                                                                                                  \n",
            " token_input (InputLayer)    [(None,)]                    0         []                            \n",
            "                                                                                                  \n",
            " char_vectorizer (TextVecto  (None, 290)                  0         ['char_input[0][0]']          \n",
            " rization)                                                                                        \n",
            "                                                                                                  \n",
            " USE (KerasLayer)            (None, 512)                  2567978   ['token_input[0][0]']         \n",
            "                                                          24                                      \n",
            "                                                                                                  \n",
            " char_embed (Embedding)      (None, 290, 25)              700       ['char_vectorizer[1][0]']     \n",
            "                                                                                                  \n",
            " dense_4 (Dense)             (None, 128)                  65664     ['USE[1][0]']                 \n",
            "                                                                                                  \n",
            " bidirectional_2 (Bidirecti  (None, 48)                   9600      ['char_embed[1][0]']          \n",
            " onal)                                                                                            \n",
            "                                                                                                  \n",
            " token_char_hybrid (Concate  (None, 176)                  0         ['dense_4[0][0]',             \n",
            " nate)                                                               'bidirectional_2[0][0]']     \n",
            "                                                                                                  \n",
            " dropout_1 (Dropout)         (None, 176)                  0         ['token_char_hybrid[0][0]']   \n",
            "                                                                                                  \n",
            " dense_5 (Dense)             (None, 128)                  22656     ['dropout_1[0][0]']           \n",
            "                                                                                                  \n",
            " dropout_2 (Dropout)         (None, 128)                  0         ['dense_5[0][0]']             \n",
            "                                                                                                  \n",
            " dense_6 (Dense)             (None, 5)                    645       ['dropout_2[0][0]']           \n",
            "                                                                                                  \n",
            "==================================================================================================\n",
            "Total params: 256897089 (979.98 MB)\n",
            "Trainable params: 99265 (387.75 KB)\n",
            "Non-trainable params: 256797824 (979.61 MB)\n",
            "__________________________________________________________________________________________________\n"
          ]
        }
      ]
    },
    {
      "cell_type": "code",
      "source": [
        "from keras.utils import plot_model\n",
        "plot_model(model_4, show_shapes=True)"
      ],
      "metadata": {
        "colab": {
          "base_uri": "https://localhost:8080/",
          "height": 976
        },
        "id": "m0Dr2jFUKf9O",
        "outputId": "1f082fa4-75e9-4153-a45d-6ed799c3bb16"
      },
      "execution_count": 102,
      "outputs": [
        {
          "output_type": "execute_result",
          "data": {
            "image/png": "[encoded data removed]",
            "text/plain": [
              "<IPython.core.display.Image object>"
            ]
          },
          "metadata": {},
          "execution_count": 102
        }
      ]
    },
    {
      "cell_type": "code",
      "source": [
        "model_4.compile(\n",
        "    loss='categorical_crossentropy',\n",
        "    optimizer= tf.keras.optimizers.Adam(),\n",
        "    metrics=['accuracy']\n",
        ")"
      ],
      "metadata": {
        "id": "ZlzANNeZLywb"
      },
      "execution_count": 103,
      "outputs": []
    },
    {
      "cell_type": "code",
      "source": [
        "train_char_token_data = tf.data.Dataset.from_tensor_slices((train_sentences, train_chars))\n",
        "train_char_token_labels= tf.data.Dataset.from_tensor_slices(train_labels_one_hot)\n",
        "train_char_token_dataset = tf.data.Dataset.zip((train_char_token_data,train_char_token_labels))\n",
        "\n",
        "train_char_token_dataset = train_char_token_dataset.batch(32).prefetch(tf.data.AUTOTUNE)"
      ],
      "metadata": {
        "id": "s-94tzRYMbbd"
      },
      "execution_count": 104,
      "outputs": []
    },
    {
      "cell_type": "code",
      "source": [
        "test_char_token_data = tf.data.Dataset.from_tensor_slices((test_sentences, test_chars))\n",
        "test_char_token_labels= tf.data.Dataset.from_tensor_slices(test_labels_one_hot)\n",
        "test_char_token_dataset = tf.data.Dataset.zip((test_char_token_data,test_char_token_labels))\n",
        "\n",
        "test_char_token_dataset = test_char_token_dataset.batch(32).prefetch(tf.data.AUTOTUNE)"
      ],
      "metadata": {
        "id": "oaEEhe_HNZMl"
      },
      "execution_count": 105,
      "outputs": []
    },
    {
      "cell_type": "code",
      "source": [
        "val_char_token_data = tf.data.Dataset.from_tensor_slices((val_sentences, val_chars))\n",
        "val_char_token_labels= tf.data.Dataset.from_tensor_slices(val_labels_one_hot)\n",
        "val_char_token_dataset = tf.data.Dataset.zip((val_char_token_data,val_char_token_labels))\n",
        "\n",
        "val_char_token_dataset = val_char_token_dataset.batch(32).prefetch(tf.data.AUTOTUNE)"
      ],
      "metadata": {
        "id": "-ei7DnMDNg_3"
      },
      "execution_count": 106,
      "outputs": []
    },
    {
      "cell_type": "code",
      "source": [
        "model_4_history = model_4.fit(train_char_token_dataset,\n",
        "                              steps_per_epoch = int(0.1 * len(train_char_token_dataset)),\n",
        "                              epochs = 10,\n",
        "                              validation_data = val_char_token_dataset,\n",
        "                              validation_steps = int(0.1* len(val_char_token_dataset)))"
      ],
      "metadata": {
        "colab": {
          "base_uri": "https://localhost:8080/"
        },
        "id": "YPBAV7AEOm-w",
        "outputId": "f25d38c0-4c23-4a42-a1cd-f86f4bf1cc25"
      },
      "execution_count": 107,
      "outputs": [
        {
          "output_type": "stream",
          "name": "stdout",
          "text": [
            "Epoch 1/10\n",
            "562/562 [==============================] - 42s 57ms/step - loss: 0.9918 - accuracy: 0.6059 - val_loss: 0.7892 - val_accuracy: 0.6905\n",
            "Epoch 2/10\n",
            "562/562 [==============================] - 44s 79ms/step - loss: 0.8060 - accuracy: 0.6886 - val_loss: 0.7215 - val_accuracy: 0.7294\n",
            "Epoch 3/10\n",
            "562/562 [==============================] - 43s 76ms/step - loss: 0.7798 - accuracy: 0.7031 - val_loss: 0.6988 - val_accuracy: 0.7374\n",
            "Epoch 4/10\n",
            "562/562 [==============================] - 41s 73ms/step - loss: 0.7499 - accuracy: 0.7167 - val_loss: 0.6765 - val_accuracy: 0.7434\n",
            "Epoch 5/10\n",
            "562/562 [==============================] - 26s 46ms/step - loss: 0.7476 - accuracy: 0.7164 - val_loss: 0.6612 - val_accuracy: 0.7480\n",
            "Epoch 6/10\n",
            "562/562 [==============================] - 26s 47ms/step - loss: 0.7465 - accuracy: 0.7169 - val_loss: 0.6439 - val_accuracy: 0.7603\n",
            "Epoch 7/10\n",
            "562/562 [==============================] - 32s 57ms/step - loss: 0.7166 - accuracy: 0.7240 - val_loss: 0.6388 - val_accuracy: 0.7666\n",
            "Epoch 8/10\n",
            "562/562 [==============================] - 29s 51ms/step - loss: 0.7041 - accuracy: 0.7370 - val_loss: 0.6234 - val_accuracy: 0.7650\n",
            "Epoch 9/10\n",
            "562/562 [==============================] - 30s 53ms/step - loss: 0.7054 - accuracy: 0.7324 - val_loss: 0.6336 - val_accuracy: 0.7650\n",
            "Epoch 10/10\n",
            "562/562 [==============================] - 46s 83ms/step - loss: 0.7105 - accuracy: 0.7331 - val_loss: 0.6240 - val_accuracy: 0.7696\n"
          ]
        }
      ]
    },
    {
      "cell_type": "code",
      "source": [
        "model_4_pred_probs = model_4.predict(val_char_token_dataset)\n",
        "model_4_pred_probs"
      ],
      "metadata": {
        "colab": {
          "base_uri": "https://localhost:8080/"
        },
        "id": "XNiuKgl0PVuU",
        "outputId": "15d27001-bb7d-4cba-90bf-ed3105692177"
      },
      "execution_count": 108,
      "outputs": [
        {
          "output_type": "stream",
          "name": "stdout",
          "text": [
            "945/945 [==============================] - 26s 23ms/step\n"
          ]
        },
        {
          "output_type": "execute_result",
          "data": {
            "text/plain": [
              "array([[4.9480090e-01, 3.3756995e-01, 2.1050277e-03, 1.5903041e-01,\n",
              "        6.4937589e-03],\n",
              "       [4.4841409e-01, 4.2086309e-01, 1.9292231e-03, 1.2741326e-01,\n",
              "        1.3802757e-03],\n",
              "       [5.2146584e-01, 2.7597087e-02, 4.6806369e-02, 3.9571744e-01,\n",
              "        8.4132757e-03],\n",
              "       ...,\n",
              "       [4.2991760e-05, 6.5163447e-04, 1.9383514e-02, 2.2366155e-05,\n",
              "        9.7989953e-01],\n",
              "       [4.4206022e-03, 2.8147735e-02, 1.9554614e-01, 2.2477347e-03,\n",
              "        7.6963782e-01],\n",
              "       [1.4944336e-01, 7.8607970e-01, 5.3243905e-02, 5.7145385e-03,\n",
              "        5.5184299e-03]], dtype=float32)"
            ]
          },
          "metadata": {},
          "execution_count": 108
        }
      ]
    },
    {
      "cell_type": "code",
      "source": [
        "model_4_preds =tf.argmax(model_4_pred_probs, axis=1)\n",
        "model_4_preds"
      ],
      "metadata": {
        "colab": {
          "base_uri": "https://localhost:8080/"
        },
        "id": "kbgga908Q3J6",
        "outputId": "11e81c02-96a8-42da-e0ee-b3303ce79df9"
      },
      "execution_count": 109,
      "outputs": [
        {
          "output_type": "execute_result",
          "data": {
            "text/plain": [
              "<tf.Tensor: shape=(30212,), dtype=int64, numpy=array([0, 0, 0, ..., 4, 4, 1])>"
            ]
          },
          "metadata": {},
          "execution_count": 109
        }
      ]
    },
    {
      "cell_type": "code",
      "source": [
        "model_4_results = calculate_results(y_true = val_labels_encoded,\n",
        "                                    y_pred = model_4_preds)\n",
        "model_4_results"
      ],
      "metadata": {
        "colab": {
          "base_uri": "https://localhost:8080/"
        },
        "id": "GljJtjLtRakB",
        "outputId": "fff946b3-3393-413a-8ddd-f9061269042b"
      },
      "execution_count": 110,
      "outputs": [
        {
          "output_type": "execute_result",
          "data": {
            "text/plain": [
              "{'accuracy': 76.15848007414272,\n",
              " 'precision': 0.7600551346533022,\n",
              " 'recall': 0.7615848007414272,\n",
              " 'f1': 0.7572065993044319}"
            ]
          },
          "metadata": {},
          "execution_count": 110
        }
      ]
    },
    {
      "cell_type": "code",
      "source": [
        "model_3_results"
      ],
      "metadata": {
        "colab": {
          "base_uri": "https://localhost:8080/"
        },
        "id": "XGIMQ-eHSI3t",
        "outputId": "22d98e3b-1bd9-4992-e06d-38d7d5f4fe31"
      },
      "execution_count": 111,
      "outputs": [
        {
          "output_type": "execute_result",
          "data": {
            "text/plain": [
              "{'accuracy': 34.300940023831586,\n",
              " 'precision': 0.2249359107318453,\n",
              " 'recall': 0.3430094002383159,\n",
              " 'f1': 0.24262565077893158}"
            ]
          },
          "metadata": {},
          "execution_count": 111
        }
      ]
    },
    {
      "cell_type": "code",
      "source": [
        "model_2_results"
      ],
      "metadata": {
        "colab": {
          "base_uri": "https://localhost:8080/"
        },
        "id": "0NKMzhxxSaWP",
        "outputId": "9fa4b169-3cd0-4f61-f1c9-987ce85e2431"
      },
      "execution_count": 112,
      "outputs": [
        {
          "output_type": "execute_result",
          "data": {
            "text/plain": [
              "{'accuracy': 71.34251290877796,\n",
              " 'precision': 0.7135860813411194,\n",
              " 'recall': 0.7134251290877797,\n",
              " 'f1': 0.7105164796364958}"
            ]
          },
          "metadata": {},
          "execution_count": 112
        }
      ]
    },
    {
      "cell_type": "code",
      "source": [
        "train_df['line_number'].value_counts()"
      ],
      "metadata": {
        "id": "hvguqiu3ScOi",
        "colab": {
          "base_uri": "https://localhost:8080/"
        },
        "outputId": "00cc5955-0926-4e9d-81f6-6cc883814ac7"
      },
      "execution_count": 113,
      "outputs": [
        {
          "output_type": "execute_result",
          "data": {
            "text/plain": [
              "line_number\n",
              "0     15000\n",
              "1     15000\n",
              "2     15000\n",
              "3     15000\n",
              "4     14992\n",
              "5     14949\n",
              "6     14758\n",
              "7     14279\n",
              "8     13346\n",
              "9     11981\n",
              "10    10041\n",
              "11     7892\n",
              "12     5853\n",
              "13     4152\n",
              "14     2835\n",
              "15     1861\n",
              "16     1188\n",
              "17      751\n",
              "18      462\n",
              "19      286\n",
              "20      162\n",
              "21      101\n",
              "22       66\n",
              "23       33\n",
              "24       22\n",
              "25       14\n",
              "26        7\n",
              "27        4\n",
              "28        3\n",
              "29        1\n",
              "30        1\n",
              "Name: count, dtype: int64"
            ]
          },
          "metadata": {},
          "execution_count": 113
        }
      ]
    },
    {
      "cell_type": "code",
      "source": [
        "np.percentile(train_df.line_number, 95)"
      ],
      "metadata": {
        "colab": {
          "base_uri": "https://localhost:8080/"
        },
        "id": "s2EO6kQUTmTU",
        "outputId": "b9bb027d-3e7e-4e75-86de-9e5d50ffa829"
      },
      "execution_count": 114,
      "outputs": [
        {
          "output_type": "execute_result",
          "data": {
            "text/plain": [
              "13.0"
            ]
          },
          "metadata": {},
          "execution_count": 114
        }
      ]
    },
    {
      "cell_type": "markdown",
      "source": [
        "![image.png](data:image/png;base64,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)"
      ],
      "metadata": {
        "id": "8KpELAxgZBAO"
      }
    },
    {
      "cell_type": "code",
      "source": [
        "train_line_numbers_one_hot = tf.one_hot(train_df['line_number'].to_numpy(), depth=15)\n",
        "val_line_numbers_one_hot = tf.one_hot(val_df['line_number'].to_numpy(), depth=15)\n",
        "test_line_numbers_one_hot = tf.one_hot(test_df['line_number'].to_numpy(), depth=15)\n",
        "train_line_numbers_one_hot"
      ],
      "metadata": {
        "colab": {
          "base_uri": "https://localhost:8080/"
        },
        "id": "TsYc8bo1U92C",
        "outputId": "ffb7fc76-079a-4905-b041-d2bd4eefb61e"
      },
      "execution_count": 115,
      "outputs": [
        {
          "output_type": "execute_result",
          "data": {
            "text/plain": [
              "<tf.Tensor: shape=(180040, 15), dtype=float32, numpy=\n",
              "array([[1., 0., 0., ..., 0., 0., 0.],\n",
              "       [0., 1., 0., ..., 0., 0., 0.],\n",
              "       [0., 0., 1., ..., 0., 0., 0.],\n",
              "       ...,\n",
              "       [0., 0., 0., ..., 0., 0., 0.],\n",
              "       [0., 0., 0., ..., 0., 0., 0.],\n",
              "       [0., 0., 0., ..., 0., 0., 0.]], dtype=float32)>"
            ]
          },
          "metadata": {},
          "execution_count": 115
        }
      ]
    },
    {
      "cell_type": "code",
      "source": [
        "train_df.total_lines.value_counts()"
      ],
      "metadata": {
        "colab": {
          "base_uri": "https://localhost:8080/"
        },
        "id": "_9vqnZpDVgUv",
        "outputId": "b859c827-c590-448b-9e5f-1aceaecc3b53"
      },
      "execution_count": 116,
      "outputs": [
        {
          "output_type": "execute_result",
          "data": {
            "text/plain": [
              "total_lines\n",
              "11    24468\n",
              "10    23639\n",
              "12    22113\n",
              "9     19400\n",
              "13    18438\n",
              "14    14610\n",
              "8     12285\n",
              "15    10768\n",
              "7      7464\n",
              "16     7429\n",
              "17     5202\n",
              "6      3353\n",
              "18     3344\n",
              "19     2480\n",
              "20     1281\n",
              "5      1146\n",
              "21      770\n",
              "22      759\n",
              "23      264\n",
              "4       215\n",
              "24      200\n",
              "25      182\n",
              "26       81\n",
              "28       58\n",
              "3        32\n",
              "30       31\n",
              "27       28\n",
              "Name: count, dtype: int64"
            ]
          },
          "metadata": {},
          "execution_count": 116
        }
      ]
    },
    {
      "cell_type": "code",
      "source": [
        "train_df.total_lines.plot.hist()"
      ],
      "metadata": {
        "colab": {
          "base_uri": "https://localhost:8080/",
          "height": 449
        },
        "id": "C5iabnbqaPrE",
        "outputId": "e77896dc-da60-49ec-801a-f06c242f26d5"
      },
      "execution_count": 117,
      "outputs": [
        {
          "output_type": "execute_result",
          "data": {
            "text/plain": [
              "<Axes: ylabel='Frequency'>"
            ]
          },
          "metadata": {},
          "execution_count": 117
        },
        {
          "output_type": "display_data",
          "data": {
            "text/plain": [
              "<Figure size 640x480 with 1 Axes>"
            ],
            "image/png": "[encoded data removed]"
          },
          "metadata": {}
        }
      ]
    },
    {
      "cell_type": "code",
      "source": [
        "np.percentile(train_df.total_lines, 98)"
      ],
      "metadata": {
        "colab": {
          "base_uri": "https://localhost:8080/"
        },
        "id": "_Ptg5kMUahCc",
        "outputId": "905b0458-cc68-43b3-be4e-4c4b2995f64f"
      },
      "execution_count": 118,
      "outputs": [
        {
          "output_type": "execute_result",
          "data": {
            "text/plain": [
              "20.0"
            ]
          },
          "metadata": {},
          "execution_count": 118
        }
      ]
    },
    {
      "cell_type": "code",
      "source": [
        "train_total_lines_one_hot = tf.one_hot(train_df['total_lines'].to_numpy(), depth=20)\n",
        "val_total_lines_one_hot = tf.one_hot(val_df['total_lines'].to_numpy(), depth=20)\n",
        "test_total_lines_one_hot = tf.one_hot(test_df['total_lines'].to_numpy(), depth=20)\n"
      ],
      "metadata": {
        "id": "oU7ArXIsaotI"
      },
      "execution_count": 119,
      "outputs": []
    },
    {
      "cell_type": "code",
      "source": [
        "token_inputs = layers.Input(shape=[], dtype=tf.string, name='token_inputs')\n",
        "token_embedding = sentence_encoder_layer(token_inputs)\n",
        "token_outputs = layers.Dense(128, activation='relu')(token_embedding)\n",
        "\n",
        "token_model = tf.keras.Model(token_inputs, token_outputs)\n",
        "\n",
        "\n",
        "char_inputs = layers.Input(shape=(1,),dtype = tf.string, name= 'char_inputs' )\n",
        "char_vectors = char_vectorizer(char_inputs)\n",
        "char_embedding = char_embed(char_vectors)\n",
        "char_bi_lstm = layers.Bidirectional(layers.LSTM(64))(char_embedding)\n",
        "\n",
        "char_model = tf.keras.Model(char_inputs, char_bi_lstm)"
      ],
      "metadata": {
        "id": "tHfHSn7ebAAx"
      },
      "execution_count": 120,
      "outputs": []
    },
    {
      "cell_type": "code",
      "source": [
        "train_line_numbers_one_hot.shape, train_total_lines_one_hot.dtype"
      ],
      "metadata": {
        "colab": {
          "base_uri": "https://localhost:8080/"
        },
        "id": "kdxeYIeYc_x1",
        "outputId": "8841e0c9-0b80-4f9e-cd2c-565545e5ca54"
      },
      "execution_count": 121,
      "outputs": [
        {
          "output_type": "execute_result",
          "data": {
            "text/plain": [
              "(TensorShape([180040, 15]), tf.float32)"
            ]
          },
          "metadata": {},
          "execution_count": 121
        }
      ]
    },
    {
      "cell_type": "code",
      "source": [
        "line_number_inputs = layers.Input(shape= (15,), dtype = tf.float32, name='line_numbers_inputs')\n",
        "line_number_outputs = layers.Dense(32, activation='relu')(line_number_inputs)\n",
        "line_number_model = tf.keras.Model(line_number_inputs, line_number_outputs)\n",
        "\n",
        "\n",
        "total_lines_inputs = layers.Input(shape= (20,), dtype = tf.float32, name='total_lines_inputs')\n",
        "total_lines_outputs = layers.Dense(32, activation='relu')(total_lines_inputs)\n",
        "total_lines_model = tf.keras.Model(total_lines_inputs, total_lines_outputs)"
      ],
      "metadata": {
        "id": "oNEAaQ6TdNHY"
      },
      "execution_count": 122,
      "outputs": []
    },
    {
      "cell_type": "code",
      "source": [
        "combined_embeddings = layers.Concatenate(name='char_token_hybrid_embedding')([token_model.output, char_model.output])\n",
        "z= layers.Dense(256, activation='relu')(combined_embeddings)\n",
        "z= layers.Dropout(0.5)(z)"
      ],
      "metadata": {
        "id": "uqP1EWjNeaKY"
      },
      "execution_count": 123,
      "outputs": []
    },
    {
      "cell_type": "code",
      "source": [
        "tribrid_embeddings = layers.Concatenate(name='char_token_positional_embedding')([line_number_model.output, total_lines_model.output, z])\n",
        "\n",
        "output_layer = layers.Dense(5, activation=\"softmax\", name = 'outputs_layers')(tribrid_embeddings)\n"
      ],
      "metadata": {
        "id": "R_Ib39ARfAaU"
      },
      "execution_count": 124,
      "outputs": []
    },
    {
      "cell_type": "code",
      "source": [
        "model_5 = tf.keras.Model(inputs= [line_number_model.input,\n",
        "                                  total_lines_model.input,\n",
        "                                  token_model.input,\n",
        "                                  char_model.input],\n",
        "                         outputs= output_layer,\n",
        "                         name='model_5_tribrid_embedding_layer')\n"
      ],
      "metadata": {
        "id": "PuA_U_O7g9rr"
      },
      "execution_count": 125,
      "outputs": []
    },
    {
      "cell_type": "code",
      "source": [
        "model_5.summary()"
      ],
      "metadata": {
        "colab": {
          "base_uri": "https://localhost:8080/"
        },
        "id": "WHDmGQmDhegn",
        "outputId": "bce68f60-60b2-479d-8c41-c489d36e53b3"
      },
      "execution_count": 126,
      "outputs": [
        {
          "output_type": "stream",
          "name": "stdout",
          "text": [
            "Model: \"model_5_tribrid_embedding_layer\"\n",
            "__________________________________________________________________________________________________\n",
            " Layer (type)                Output Shape                 Param #   Connected to                  \n",
            "==================================================================================================\n",
            " char_inputs (InputLayer)    [(None, 1)]                  0         []                            \n",
            "                                                                                                  \n",
            " token_inputs (InputLayer)   [(None,)]                    0         []                            \n",
            "                                                                                                  \n",
            " char_vectorizer (TextVecto  (None, 290)                  0         ['char_inputs[0][0]']         \n",
            " rization)                                                                                        \n",
            "                                                                                                  \n",
            " USE (KerasLayer)            (None, 512)                  2567978   ['token_inputs[0][0]']        \n",
            "                                                          24                                      \n",
            "                                                                                                  \n",
            " char_embed (Embedding)      (None, 290, 25)              700       ['char_vectorizer[2][0]']     \n",
            "                                                                                                  \n",
            " dense_7 (Dense)             (None, 128)                  65664     ['USE[2][0]']                 \n",
            "                                                                                                  \n",
            " bidirectional_3 (Bidirecti  (None, 128)                  46080     ['char_embed[2][0]']          \n",
            " onal)                                                                                            \n",
            "                                                                                                  \n",
            " char_token_hybrid_embeddin  (None, 256)                  0         ['dense_7[0][0]',             \n",
            " g (Concatenate)                                                     'bidirectional_3[0][0]']     \n",
            "                                                                                                  \n",
            " line_numbers_inputs (Input  [(None, 15)]                 0         []                            \n",
            " Layer)                                                                                           \n",
            "                                                                                                  \n",
            " total_lines_inputs (InputL  [(None, 20)]                 0         []                            \n",
            " ayer)                                                                                            \n",
            "                                                                                                  \n",
            " dense_10 (Dense)            (None, 256)                  65792     ['char_token_hybrid_embedding[\n",
            "                                                                    0][0]']                       \n",
            "                                                                                                  \n",
            " dense_8 (Dense)             (None, 32)                   512       ['line_numbers_inputs[0][0]'] \n",
            "                                                                                                  \n",
            " dense_9 (Dense)             (None, 32)                   672       ['total_lines_inputs[0][0]']  \n",
            "                                                                                                  \n",
            " dropout_3 (Dropout)         (None, 256)                  0         ['dense_10[0][0]']            \n",
            "                                                                                                  \n",
            " char_token_positional_embe  (None, 320)                  0         ['dense_8[0][0]',             \n",
            " dding (Concatenate)                                                 'dense_9[0][0]',             \n",
            "                                                                     'dropout_3[0][0]']           \n",
            "                                                                                                  \n",
            " outputs_layers (Dense)      (None, 5)                    1605      ['char_token_positional_embedd\n",
            "                                                                    ing[0][0]']                   \n",
            "                                                                                                  \n",
            "==================================================================================================\n",
            "Total params: 256978849 (980.30 MB)\n",
            "Trainable params: 181025 (707.13 KB)\n",
            "Non-trainable params: 256797824 (979.61 MB)\n",
            "__________________________________________________________________________________________________\n"
          ]
        }
      ]
    },
    {
      "cell_type": "code",
      "source": [
        "plot_model(model_5,show_shapes = True)"
      ],
      "metadata": {
        "colab": {
          "base_uri": "https://localhost:8080/",
          "height": 976
        },
        "id": "xl2Ckgfihhn0",
        "outputId": "81bf0ed2-2984-4660-ff06-2914a9411dde"
      },
      "execution_count": 127,
      "outputs": [
        {
          "output_type": "execute_result",
          "data": {
            "image/png": "[encoded data removed]",
            "text/plain": [
              "<IPython.core.display.Image object>"
            ]
          },
          "metadata": {},
          "execution_count": 127
        }
      ]
    },
    {
      "cell_type": "code",
      "source": [
        "model_5.compile(loss=tf.keras.losses.CategoricalCrossentropy(label_smoothing=0.2),\n",
        "                optimizer=tf.keras.optimizers.Adam(),\n",
        "                metrics=['accuracy'])"
      ],
      "metadata": {
        "id": "VZrUep4riGGi"
      },
      "execution_count": 128,
      "outputs": []
    },
    {
      "cell_type": "code",
      "source": [
        "#create training and validation datasets(with all for kinds os inputs data)\n",
        "train_char_token_pos_data = tf.data.Dataset.from_tensor_slices((train_line_numbers_one_hot,\n",
        "                                                                train_total_lines_one_hot,\n",
        "                                                                train_sentences,\n",
        "                                                                train_chars))\n",
        "\n",
        "\n",
        "train_char_token_pos_labels = tf.data.Dataset.from_tensor_slices(train_labels_one_hot)\n",
        "train_char_token_pos_dataset = tf.data.Dataset.zip((train_char_token_pos_data, train_char_token_pos_labels))\n",
        "train_char_token_pos_dataset = train_char_token_pos_dataset.batch(32).prefetch(tf.data.AUTOTUNE)\n",
        "\n",
        "#do the same as above but for the validation dataset\n",
        "val_char_pos_data = tf.data.Dataset.from_tensor_slices((val_line_numbers_one_hot,\n",
        "                                                       val_total_lines_one_hot,\n",
        "                                                       val_sentences,\n",
        "                                                       val_chars))\n",
        "val_char_token_pos_labels = tf.data.Dataset.from_tensor_slices(val_labels_one_hot)\n",
        "val_char_token_pos_dataset = tf.data.Dataset.zip((val_char_pos_data, val_char_token_pos_labels))\n",
        "val_char_token_pos_dataset = val_char_token_pos_dataset.batch(32).prefetch(tf.data.AUTOTUNE)"
      ],
      "metadata": {
        "id": "6FeleERGiebq"
      },
      "execution_count": 129,
      "outputs": []
    },
    {
      "cell_type": "code",
      "source": [
        "history_model_5 = model_5.fit(train_char_token_pos_dataset,\n",
        "                              epochs=3,\n",
        "                              steps_per_epoch=int(0.1*len(train_char_token_pos_dataset)),\n",
        "                              validation_data=val_char_token_pos_dataset,\n",
        "                              validation_steps=int(0.1*len(val_char_token_pos_dataset)))"
      ],
      "metadata": {
        "colab": {
          "base_uri": "https://localhost:8080/"
        },
        "id": "ZVzFCpO4j1wX",
        "outputId": "dc0df6c8-fcce-486c-dca0-941d84c357e4"
      },
      "execution_count": 130,
      "outputs": [
        {
          "output_type": "stream",
          "name": "stdout",
          "text": [
            "Epoch 1/3\n",
            "562/562 [==============================] - 55s 79ms/step - loss: 1.0905 - accuracy: 0.7295 - val_loss: 0.9805 - val_accuracy: 0.8062\n",
            "Epoch 2/3\n",
            "562/562 [==============================] - 52s 93ms/step - loss: 0.9657 - accuracy: 0.8171 - val_loss: 0.9503 - val_accuracy: 0.8251\n",
            "Epoch 3/3\n",
            "562/562 [==============================] - 26s 47ms/step - loss: 0.9502 - accuracy: 0.8229 - val_loss: 0.9366 - val_accuracy: 0.8318\n"
          ]
        }
      ]
    },
    {
      "cell_type": "code",
      "source": [
        "model_5.evaluate(val_char_token_pos_dataset)"
      ],
      "metadata": {
        "colab": {
          "base_uri": "https://localhost:8080/"
        },
        "id": "FaxJqAQjkfT5",
        "outputId": "08f11c71-f8e8-471b-fdf4-fcc1254ca656"
      },
      "execution_count": 131,
      "outputs": [
        {
          "output_type": "stream",
          "name": "stdout",
          "text": [
            "945/945 [==============================] - 23s 24ms/step - loss: 0.9348 - accuracy: 0.8342\n"
          ]
        },
        {
          "output_type": "execute_result",
          "data": {
            "text/plain": [
              "[0.9347782135009766, 0.8341718316078186]"
            ]
          },
          "metadata": {},
          "execution_count": 131
        }
      ]
    },
    {
      "cell_type": "code",
      "source": [
        "model_5_pred_probs = model_5.predict(val_char_token_pos_dataset)\n",
        "model_5_pred_probs"
      ],
      "metadata": {
        "colab": {
          "base_uri": "https://localhost:8080/"
        },
        "id": "7q_-wY6Bk9bm",
        "outputId": "8b40f9f0-6411-4682-bf79-3534b8d4c813"
      },
      "execution_count": 132,
      "outputs": [
        {
          "output_type": "stream",
          "name": "stdout",
          "text": [
            "945/945 [==============================] - 23s 21ms/step\n"
          ]
        },
        {
          "output_type": "execute_result",
          "data": {
            "text/plain": [
              "array([[0.5203317 , 0.10112694, 0.01117412, 0.3487877 , 0.01857961],\n",
              "       [0.5662017 , 0.08820339, 0.05318113, 0.28049907, 0.01191471],\n",
              "       [0.3092475 , 0.10656906, 0.13077259, 0.3879231 , 0.06548772],\n",
              "       ...,\n",
              "       [0.03639192, 0.09079262, 0.03799522, 0.03413918, 0.80068105],\n",
              "       [0.02820063, 0.2878348 , 0.0848358 , 0.02526959, 0.57385916],\n",
              "       [0.23825173, 0.5701077 , 0.10158782, 0.03581555, 0.05423721]],\n",
              "      dtype=float32)"
            ]
          },
          "metadata": {},
          "execution_count": 132
        }
      ]
    },
    {
      "cell_type": "code",
      "source": [
        "model_5_preds =tf.argmax(model_5_pred_probs, axis=1)\n",
        "model_5_preds"
      ],
      "metadata": {
        "colab": {
          "base_uri": "https://localhost:8080/"
        },
        "id": "KSq3KIe4lxrZ",
        "outputId": "dda5d18b-b626-4126-e56c-0868ca59504a"
      },
      "execution_count": 133,
      "outputs": [
        {
          "output_type": "execute_result",
          "data": {
            "text/plain": [
              "<tf.Tensor: shape=(30212,), dtype=int64, numpy=array([0, 0, 3, ..., 4, 4, 1])>"
            ]
          },
          "metadata": {},
          "execution_count": 133
        }
      ]
    },
    {
      "cell_type": "code",
      "source": [
        "model_5_results = calculate_results(y_true = val_labels_encoded,\n",
        "                                    y_pred = model_5_preds)\n",
        "model_5_results"
      ],
      "metadata": {
        "colab": {
          "base_uri": "https://localhost:8080/"
        },
        "id": "jIGXDJV1lyhh",
        "outputId": "ed74fa54-1d16-4615-bf6e-7b0e9e7f07e2"
      },
      "execution_count": 134,
      "outputs": [
        {
          "output_type": "execute_result",
          "data": {
            "text/plain": [
              "{'accuracy': 83.41718522441414,\n",
              " 'precision': 0.8328455153301989,\n",
              " 'recall': 0.8341718522441414,\n",
              " 'f1': 0.8327860870646383}"
            ]
          },
          "metadata": {},
          "execution_count": 134
        }
      ]
    },
    {
      "cell_type": "markdown",
      "source": [
        "#Full data"
      ],
      "metadata": {
        "id": "5sSZlTkhtbKD"
      }
    },
    {
      "cell_type": "code",
      "source": [
        "model_6 = tf.keras.Model(inputs= [line_number_model.input,\n",
        "                                  total_lines_model.input,\n",
        "                                  token_model.input,\n",
        "                                  char_model.input],\n",
        "                         outputs= output_layer,\n",
        "                         name='model_6_tribrid_embedding_layer')"
      ],
      "metadata": {
        "id": "v9XwtiVhtakj"
      },
      "execution_count": 135,
      "outputs": []
    },
    {
      "cell_type": "code",
      "source": [
        "model_6.compile(loss=tf.keras.losses.CategoricalCrossentropy(label_smoothing=0.2),\n",
        "                optimizer=tf.keras.optimizers.Adam(),\n",
        "                metrics=['accuracy'])"
      ],
      "metadata": {
        "id": "XrPv9MoHtSms"
      },
      "execution_count": 136,
      "outputs": []
    },
    {
      "cell_type": "code",
      "source": [
        "history_model_6 = model_6.fit(train_char_token_pos_dataset,\n",
        "                              epochs=3,\n",
        "                              steps_per_epoch=len(train_char_token_pos_dataset),\n",
        "                              validation_data=val_char_token_pos_dataset,\n",
        "                              validation_steps=len(val_char_token_pos_dataset))"
      ],
      "metadata": {
        "colab": {
          "base_uri": "https://localhost:8080/"
        },
        "id": "mb2l5_QfmBRU",
        "outputId": "f71081ee-0b21-48ab-f8e6-fbb201dcf4c8"
      },
      "execution_count": 137,
      "outputs": [
        {
          "output_type": "stream",
          "name": "stdout",
          "text": [
            "Epoch 1/3\n",
            "5627/5627 [==============================] - 295s 51ms/step - loss: 0.9248 - accuracy: 0.8438 - val_loss: 0.9038 - val_accuracy: 0.8518\n",
            "Epoch 2/3\n",
            "5627/5627 [==============================] - 283s 50ms/step - loss: 0.9043 - accuracy: 0.8580 - val_loss: 0.8971 - val_accuracy: 0.8566\n",
            "Epoch 3/3\n",
            "5627/5627 [==============================] - 283s 50ms/step - loss: 0.8935 - accuracy: 0.8660 - val_loss: 0.8966 - val_accuracy: 0.8569\n"
          ]
        }
      ]
    },
    {
      "cell_type": "code",
      "source": [
        "all_model_results = pd.DataFrame({\"model_0_baseline\": baseline_results,\n",
        "                                  \"model_1_custom_token_embedding\": model_1_results,\n",
        "                                  \"model_2_pretrained_token_embedding\": model_2_results,\n",
        "                                  \"model_3_custom_char_embedding\":model_3_results,\n",
        "                                  \"model_4_hybrid_char_token_embedding\":model_4_results,\n",
        "                                  \"model_5_pos_char_token_embedding\": model_5_results})\n",
        "all_model_results = all_model_results.transpose()\n",
        "all_model_results.columns = [\"loss\", \"accuracy\", \"f1\", \"precision\", \"recall\"]\n",
        "all_model_results"
      ],
      "metadata": {
        "id": "S3jsRR6OtRge",
        "colab": {
          "base_uri": "https://localhost:8080/",
          "height": 216
        },
        "outputId": "81e7d7da-0298-4a5b-f4b5-312fd0457ec3"
      },
      "execution_count": 1,
      "outputs": [
        {
          "output_type": "error",
          "ename": "NameError",
          "evalue": "name 'pd' is not defined",
          "traceback": [
            "\u001b[0;31m---------------------------------------------------------------------------\u001b[0m",
            "\u001b[0;31mNameError\u001b[0m                                 Traceback (most recent call last)",
            "\u001b[0;32m<ipython-input-1-9b74702808dc>\u001b[0m in \u001b[0;36m<cell line: 1>\u001b[0;34m()\u001b[0m\n\u001b[0;32m----> 1\u001b[0;31m all_model_results = pd.DataFrame({\"model_0_baseline\": baseline_results,\n\u001b[0m\u001b[1;32m      2\u001b[0m                                   \u001b[0;34m\"model_1_custom_token_embedding\"\u001b[0m\u001b[0;34m:\u001b[0m \u001b[0mmodel_1_results\u001b[0m\u001b[0;34m,\u001b[0m\u001b[0;34m\u001b[0m\u001b[0;34m\u001b[0m\u001b[0m\n\u001b[1;32m      3\u001b[0m                                   \u001b[0;34m\"model_2_pretrained_token_embedding\"\u001b[0m\u001b[0;34m:\u001b[0m \u001b[0mmodel_2_results\u001b[0m\u001b[0;34m,\u001b[0m\u001b[0;34m\u001b[0m\u001b[0;34m\u001b[0m\u001b[0m\n\u001b[1;32m      4\u001b[0m                                   \u001b[0;34m\"model_3_custom_char_embedding\"\u001b[0m\u001b[0;34m:\u001b[0m\u001b[0mmodel_3_results\u001b[0m\u001b[0;34m,\u001b[0m\u001b[0;34m\u001b[0m\u001b[0;34m\u001b[0m\u001b[0m\n\u001b[1;32m      5\u001b[0m                                   \u001b[0;34m\"model_4_hybrid_char_token_embedding\"\u001b[0m\u001b[0;34m:\u001b[0m\u001b[0mmodel_4_results\u001b[0m\u001b[0;34m,\u001b[0m\u001b[0;34m\u001b[0m\u001b[0;34m\u001b[0m\u001b[0m\n",
            "\u001b[0;31mNameError\u001b[0m: name 'pd' is not defined"
          ]
        }
      ]
    },
    {
      "cell_type": "code",
      "source": [
        "all_model_results[\"accuracy\"] = all_model_results[\"accuracy\"]/100"
      ],
      "metadata": {
        "id": "-vrcA34Ct9oz"
      },
      "execution_count": null,
      "outputs": []
    },
    {
      "cell_type": "code",
      "source": [
        "all_model_results.plot(kind= 'bar', figsize=(10,7)).legend(bbox_to_anchor=(1.0, 1.0))"
      ],
      "metadata": {
        "colab": {
          "base_uri": "https://localhost:8080/",
          "height": 144
        },
        "id": "d-LWErXywDuJ",
        "outputId": "61407100-875f-4eb0-8dfd-1e3fbac135b4"
      },
      "execution_count": 138,
      "outputs": [
        {
          "output_type": "error",
          "ename": "NameError",
          "evalue": "name 'all_model_results' is not defined",
          "traceback": [
            "\u001b[0;31m---------------------------------------------------------------------------\u001b[0m",
            "\u001b[0;31mNameError\u001b[0m                                 Traceback (most recent call last)",
            "\u001b[0;32m<ipython-input-138-e7bc1384cfd2>\u001b[0m in \u001b[0;36m<cell line: 1>\u001b[0;34m()\u001b[0m\n\u001b[0;32m----> 1\u001b[0;31m \u001b[0mall_model_results\u001b[0m\u001b[0;34m.\u001b[0m\u001b[0mplot\u001b[0m\u001b[0;34m(\u001b[0m\u001b[0mkind\u001b[0m\u001b[0;34m=\u001b[0m \u001b[0;34m'bar'\u001b[0m\u001b[0;34m,\u001b[0m \u001b[0mfigsize\u001b[0m\u001b[0;34m=\u001b[0m\u001b[0;34m(\u001b[0m\u001b[0;36m10\u001b[0m\u001b[0;34m,\u001b[0m\u001b[0;36m7\u001b[0m\u001b[0;34m)\u001b[0m\u001b[0;34m)\u001b[0m\u001b[0;34m.\u001b[0m\u001b[0mlegend\u001b[0m\u001b[0;34m(\u001b[0m\u001b[0mbbox_to_anchor\u001b[0m\u001b[0;34m=\u001b[0m\u001b[0;34m(\u001b[0m\u001b[0;36m1.0\u001b[0m\u001b[0;34m,\u001b[0m \u001b[0;36m1.0\u001b[0m\u001b[0;34m)\u001b[0m\u001b[0;34m)\u001b[0m\u001b[0;34m\u001b[0m\u001b[0;34m\u001b[0m\u001b[0m\n\u001b[0m",
            "\u001b[0;31mNameError\u001b[0m: name 'all_model_results' is not defined"
          ]
        }
      ]
    },
    {
      "cell_type": "code",
      "source": [
        "all_model_results.sort_values('f1', ascending = True)['f1'].plot(kind='bar', figsize= (10,7))"
      ],
      "metadata": {
        "id": "KhfVjMbWwQVF"
      },
      "execution_count": null,
      "outputs": []
    },
    {
      "cell_type": "code",
      "source": [
        "model_5.save(\"skimlit_tribrid_model\")"
      ],
      "metadata": {
        "id": "Tkw_75csxK8U"
      },
      "execution_count": null,
      "outputs": []
    },
    {
      "cell_type": "code",
      "source": [
        "loaded_model = tf.keras.models.load_model(\"/content/skimlit_tribrid_model\")"
      ],
      "metadata": {
        "id": "tPTdq-V4xdm3"
      },
      "execution_count": null,
      "outputs": []
    },
    {
      "cell_type": "code",
      "source": [
        "loaded_model.evaluate(val_char_token_pos_dataset)"
      ],
      "metadata": {
        "id": "3KQBgJ1SxoNv"
      },
      "execution_count": null,
      "outputs": []
    },
    {
      "cell_type": "code",
      "source": [
        "loaded_model.summary()"
      ],
      "metadata": {
        "id": "fc8aa8gfxkTP"
      },
      "execution_count": null,
      "outputs": []
    },
    {
      "cell_type": "code",
      "source": [],
      "metadata": {
        "id": "KobcStqLx54w"
      },
      "execution_count": null,
      "outputs": []
    }
  ]
}