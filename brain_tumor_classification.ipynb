{
  "nbformat": 4,
  "nbformat_minor": 0,
  "metadata": {
    "colab": {
      "provenance": [],
      "gpuType": "T4",
      "authorship_tag": "ABX9TyP6ILylUbrZRXup73I37mou",
      "include_colab_link": true
    },
    "kernelspec": {
      "name": "python3",
      "display_name": "Python 3"
    },
    "language_info": {
      "name": "python"
    },
    "accelerator": "GPU"
  },
  "cells": [
    {
      "cell_type": "markdown",
      "metadata": {
        "id": "view-in-github",
        "colab_type": "text"
      },
      "source": [
        "<a href=\"https://colab.research.google.com/github/Elmir22/Data-science-ML-models-/blob/main/brain_tumor_classification.ipynb\" target=\"_parent\"><img src=\"https://colab.research.google.com/assets/colab-badge.svg\" alt=\"Open In Colab\"/></a>"
      ]
    },
    {
      "cell_type": "code",
      "source": [
        "import pandas as pd\n",
        "import numpy as np\n",
        "import matplotlib.pyplot as plt\n",
        "import tensorflow as tf"
      ],
      "metadata": {
        "id": "GR1J7DJm3dCa"
      },
      "execution_count": 1,
      "outputs": []
    },
    {
      "cell_type": "code",
      "execution_count": 2,
      "metadata": {
        "id": "nqHyL4541uYA"
      },
      "outputs": [],
      "source": [
        "!mkdir -p ~/.kaggle\n",
        "!cp kaggle.json ~/.kaggle/"
      ]
    },
    {
      "cell_type": "code",
      "source": [
        "!kaggle datasets download -d sartajbhuvaji/brain-tumor-classification-mri"
      ],
      "metadata": {
        "colab": {
          "base_uri": "https://localhost:8080/"
        },
        "id": "rRWAy37o3Sra",
        "outputId": "90cdf63a-b5e5-41f6-c18c-e00a4024bd38"
      },
      "execution_count": 3,
      "outputs": [
        {
          "output_type": "stream",
          "name": "stdout",
          "text": [
            "Warning: Your Kaggle API key is readable by other users on this system! To fix this, you can run 'chmod 600 /root/.kaggle/kaggle.json'\n",
            "Dataset URL: https://www.kaggle.com/datasets/sartajbhuvaji/brain-tumor-classification-mri\n",
            "License(s): MIT\n",
            "Downloading brain-tumor-classification-mri.zip to /content\n",
            " 94% 82.0M/86.8M [00:00<00:00, 139MB/s]\n",
            "100% 86.8M/86.8M [00:00<00:00, 124MB/s]\n"
          ]
        }
      ]
    },
    {
      "cell_type": "code",
      "source": [
        "!wget https://raw.githubusercontent.com/Rstam59/TaskDataRepoForStudents/main/helper_functions.py"
      ],
      "metadata": {
        "colab": {
          "base_uri": "https://localhost:8080/"
        },
        "id": "pqex2pen3ws3",
        "outputId": "dd7b185d-ebc8-497a-f201-5e0825e2c9fe"
      },
      "execution_count": 4,
      "outputs": [
        {
          "output_type": "stream",
          "name": "stdout",
          "text": [
            "--2024-05-13 15:50:17--  https://raw.githubusercontent.com/Rstam59/TaskDataRepoForStudents/main/helper_functions.py\n",
            "Resolving raw.githubusercontent.com (raw.githubusercontent.com)... 185.199.108.133, 185.199.109.133, 185.199.110.133, ...\n",
            "Connecting to raw.githubusercontent.com (raw.githubusercontent.com)|185.199.108.133|:443... connected.\n",
            "HTTP request sent, awaiting response... 200 OK\n",
            "Length: 10246 (10K) [text/plain]\n",
            "Saving to: ‘helper_functions.py’\n",
            "\n",
            "helper_functions.py 100%[===================>]  10.01K  --.-KB/s    in 0.001s  \n",
            "\n",
            "2024-05-13 15:50:17 (12.7 MB/s) - ‘helper_functions.py’ saved [10246/10246]\n",
            "\n"
          ]
        }
      ]
    },
    {
      "cell_type": "code",
      "source": [
        "from helper_functions import unzip_data, walk_through_dir,plot_loss_curves"
      ],
      "metadata": {
        "id": "4NgStwMJ4EKN"
      },
      "execution_count": 5,
      "outputs": []
    },
    {
      "cell_type": "code",
      "source": [
        "unzip_data('/content/brain-tumor-classification-mri.zip')"
      ],
      "metadata": {
        "id": "cwnLxpQd4QQC"
      },
      "execution_count": 6,
      "outputs": []
    },
    {
      "cell_type": "code",
      "source": [
        "train_dir = '/content/Training'\n",
        "test_dir = '/content/Testing'"
      ],
      "metadata": {
        "id": "kshjXrky4bkJ"
      },
      "execution_count": 7,
      "outputs": []
    },
    {
      "cell_type": "code",
      "source": [
        "walk_through_dir('/content/Testing')"
      ],
      "metadata": {
        "colab": {
          "base_uri": "https://localhost:8080/"
        },
        "id": "STlnZ59Y4WIY",
        "outputId": "e71055bf-cd67-4851-ede7-6b482d30019e"
      },
      "execution_count": 8,
      "outputs": [
        {
          "output_type": "stream",
          "name": "stdout",
          "text": [
            "There are 4 directories and 0 images in '/content/Testing'.\n",
            "There are 0 directories and 100 images in '/content/Testing/glioma_tumor'.\n",
            "There are 0 directories and 105 images in '/content/Testing/no_tumor'.\n",
            "There are 0 directories and 74 images in '/content/Testing/pituitary_tumor'.\n",
            "There are 0 directories and 115 images in '/content/Testing/meningioma_tumor'.\n"
          ]
        }
      ]
    },
    {
      "cell_type": "code",
      "source": [
        "walk_through_dir('/content/Training')"
      ],
      "metadata": {
        "colab": {
          "base_uri": "https://localhost:8080/"
        },
        "id": "IEQfDRtx4ye8",
        "outputId": "7403ddd4-b738-42d2-83f7-93ad71b82cce"
      },
      "execution_count": 9,
      "outputs": [
        {
          "output_type": "stream",
          "name": "stdout",
          "text": [
            "There are 4 directories and 0 images in '/content/Training'.\n",
            "There are 0 directories and 826 images in '/content/Training/glioma_tumor'.\n",
            "There are 0 directories and 395 images in '/content/Training/no_tumor'.\n",
            "There are 0 directories and 827 images in '/content/Training/pituitary_tumor'.\n",
            "There are 0 directories and 822 images in '/content/Training/meningioma_tumor'.\n"
          ]
        }
      ]
    },
    {
      "cell_type": "code",
      "source": [
        "import tensorflow as tf\n",
        "from tensorflow.keras.preprocessing.image import ImageDataGenerator\n",
        "\n",
        "train_data_aug = ImageDataGenerator(rescale=1/255.,\n",
        "                                    rotation_range=0.2,\n",
        "                                    width_shift_range=0.2,\n",
        "                                    height_shift_range=0.2,\n",
        "                                    shear_range=0.1,\n",
        "                                    zoom_range=0.3,\n",
        "                                    horizontal_flip=True,\n",
        "                                    vertical_flip=True)\n",
        "test_data_aug = ImageDataGenerator(rescale=1/255.)"
      ],
      "metadata": {
        "id": "lE8fqZnU43pp"
      },
      "execution_count": 10,
      "outputs": []
    },
    {
      "cell_type": "code",
      "source": [
        "train_data = train_data_aug.flow_from_directory(train_dir,\n",
        "                                                target_size=(224,224),\n",
        "                                                class_mode=\"categorical\",\n",
        "                                                batch_size=32)\n",
        "test_data = test_data_aug.flow_from_directory(test_dir,\n",
        "                                              target_size=(224,224),\n",
        "                                              class_mode='categorical')"
      ],
      "metadata": {
        "colab": {
          "base_uri": "https://localhost:8080/"
        },
        "id": "6_xaEyRS5zcF",
        "outputId": "393da770-2770-4e1c-a2a0-2187775f1c4b"
      },
      "execution_count": 11,
      "outputs": [
        {
          "output_type": "stream",
          "name": "stdout",
          "text": [
            "Found 2870 images belonging to 4 classes.\n",
            "Found 394 images belonging to 4 classes.\n"
          ]
        }
      ]
    },
    {
      "cell_type": "code",
      "source": [
        "model_0= tf.keras.Sequential([\n",
        "    tf.keras.layers.Input(shape=(224,224,3)),\n",
        "    tf.keras.layers.Conv2D(filters=16,\n",
        "                           kernel_size=(4,4),\n",
        "                           padding='valid',\n",
        "                           strides=(1,1),\n",
        "                           activation='relu',\n",
        "                           kernel_initializer='he_normal'),\n",
        "    tf.keras.layers.MaxPooling2D(pool_size=(2,2)),\n",
        "    tf.keras.layers.Conv2D(filters=32,\n",
        "                           kernel_size=(4,4),\n",
        "                           padding='valid',\n",
        "                           strides=(1,1),\n",
        "                           activation='relu',\n",
        "                           kernel_initializer='he_normal'),\n",
        "    tf.keras.layers.MaxPooling2D(pool_size=(2,2)),\n",
        "    tf.keras.layers.Conv2D(filters=32,\n",
        "                           kernel_size=(4,4),\n",
        "                           padding='valid',\n",
        "                           strides=(1,1),\n",
        "                           activation='relu',\n",
        "                           kernel_initializer='he_normal'),\n",
        "    tf.keras.layers.GlobalAveragePooling2D(),\n",
        "    tf.keras.layers.Flatten(),\n",
        "    tf.keras.layers.Dense(4, activation='softmax')\n",
        "])\n"
      ],
      "metadata": {
        "id": "LBHAM9Ud6idu"
      },
      "execution_count": 12,
      "outputs": []
    },
    {
      "cell_type": "code",
      "source": [
        "from PIL import ImageFile\n",
        "ImageFile.LOAD_TRUNCATED_IMAGES = True"
      ],
      "metadata": {
        "id": "PWLiDTHwACWx"
      },
      "execution_count": 13,
      "outputs": []
    },
    {
      "cell_type": "code",
      "source": [
        "optimizer = tf.keras.optimizers.Adam(learning_rate=1e-3)\n",
        "model_0.compile(loss='categorical_crossentropy',\n",
        "                optimizer=optimizer,\n",
        "                metrics=['accuracy'])\n",
        "history_0 = model_0.fit(train_data,\n",
        "            epochs=5,\n",
        "            steps_per_epoch=len(train_data ),\n",
        "            validation_data=test_data,\n",
        "            validation_steps=len(test_data))"
      ],
      "metadata": {
        "colab": {
          "base_uri": "https://localhost:8080/"
        },
        "id": "uXsNKIOp95x-",
        "outputId": "6002031b-b8cb-4648-a7c1-df3e102d1e60"
      },
      "execution_count": 14,
      "outputs": [
        {
          "output_type": "stream",
          "name": "stdout",
          "text": [
            "Epoch 1/5\n",
            "90/90 [==============================] - 47s 459ms/step - loss: 1.3247 - accuracy: 0.3596 - val_loss: 1.6560 - val_accuracy: 0.2284\n",
            "Epoch 2/5\n",
            "90/90 [==============================] - 40s 444ms/step - loss: 1.2579 - accuracy: 0.3965 - val_loss: 1.7340 - val_accuracy: 0.2563\n",
            "Epoch 3/5\n",
            "90/90 [==============================] - 40s 440ms/step - loss: 1.2025 - accuracy: 0.4411 - val_loss: 2.0829 - val_accuracy: 0.2868\n",
            "Epoch 4/5\n",
            "90/90 [==============================] - 40s 443ms/step - loss: 1.1664 - accuracy: 0.4617 - val_loss: 1.7815 - val_accuracy: 0.3223\n",
            "Epoch 5/5\n",
            "90/90 [==============================] - 40s 444ms/step - loss: 1.1101 - accuracy: 0.5153 - val_loss: 2.1277 - val_accuracy: 0.3046\n"
          ]
        }
      ]
    },
    {
      "cell_type": "code",
      "source": [
        "model_1= tf.keras.Sequential([\n",
        "    tf.keras.layers.Input(shape=(224,224,3)),\n",
        "    tf.keras.layers.BatchNormalization(),\n",
        "    tf.keras.layers.Conv2D(filters=16,\n",
        "                           kernel_size=(7,7),\n",
        "                           padding='valid',\n",
        "                           activation='relu',\n",
        "                           kernel_initializer='he_normal'),\n",
        "    tf.keras.layers.Dropout(0.5),\n",
        "    tf.keras.layers.MaxPooling2D(pool_size=(2,2)),\n",
        "    tf.keras.layers.BatchNormalization(),\n",
        "    tf.keras.layers.Conv2D(filters=16,\n",
        "                           kernel_size=(7,7),\n",
        "                           padding='valid',\n",
        "                           activation='relu',\n",
        "                           kernel_initializer='he_normal'),\n",
        "    tf.keras.layers.Dropout(0.5),\n",
        "    tf.keras.layers.MaxPooling2D(pool_size=(2,2)),\n",
        "    tf.keras.layers.BatchNormalization(),\n",
        "    tf.keras.layers.Conv2D(filters=16,\n",
        "                           kernel_size=(7,7),\n",
        "                           padding='valid',\n",
        "                           activation='relu',\n",
        "                           kernel_initializer='he_normal'),\n",
        "    tf.keras.layers.Dropout(0.5),\n",
        "    tf.keras.layers.GlobalAveragePooling2D(),\n",
        "    tf.keras.layers.BatchNormalization(),\n",
        "    tf.keras.layers.Flatten(),\n",
        "    tf.keras.layers.Dense(4, activation='softmax')\n",
        "])\n"
      ],
      "metadata": {
        "id": "9ZztEW6W-n9R"
      },
      "execution_count": 15,
      "outputs": []
    },
    {
      "cell_type": "code",
      "source": [
        "\n",
        "optimizer = tf.keras.optimizers.Adam(learning_rate=1e-3)\n",
        "model_1.compile(loss='categorical_crossentropy',\n",
        "                optimizer=optimizer,\n",
        "                metrics=['accuracy'])\n",
        "history_1 = model_1.fit(train_data,\n",
        "            epochs=5,\n",
        "            steps_per_epoch=len(train_data ),\n",
        "            validation_data=test_data,\n",
        "            validation_steps=len(test_data))"
      ],
      "metadata": {
        "colab": {
          "base_uri": "https://localhost:8080/"
        },
        "id": "0WG5OeNzBpz5",
        "outputId": "1e629175-7adc-48ce-e830-dcf266ba9f36"
      },
      "execution_count": 16,
      "outputs": [
        {
          "output_type": "stream",
          "name": "stdout",
          "text": [
            "Epoch 1/5\n",
            "90/90 [==============================] - 49s 462ms/step - loss: 1.1028 - accuracy: 0.5282 - val_loss: 1.7267 - val_accuracy: 0.1878\n",
            "Epoch 2/5\n",
            "90/90 [==============================] - 41s 460ms/step - loss: 0.9939 - accuracy: 0.5735 - val_loss: 2.5733 - val_accuracy: 0.2132\n",
            "Epoch 3/5\n",
            "90/90 [==============================] - 45s 503ms/step - loss: 0.9749 - accuracy: 0.5826 - val_loss: 2.5978 - val_accuracy: 0.2005\n",
            "Epoch 4/5\n",
            "90/90 [==============================] - 44s 490ms/step - loss: 0.9489 - accuracy: 0.5979 - val_loss: 2.8003 - val_accuracy: 0.1878\n",
            "Epoch 5/5\n",
            "90/90 [==============================] - 43s 476ms/step - loss: 0.9086 - accuracy: 0.6146 - val_loss: 3.9599 - val_accuracy: 0.1878\n"
          ]
        }
      ]
    },
    {
      "cell_type": "code",
      "source": [
        "plot_loss_curves(history_0)"
      ],
      "metadata": {
        "colab": {
          "base_uri": "https://localhost:8080/",
          "height": 927
        },
        "id": "b3gvCVZbBruu",
        "outputId": "61580879-f31e-4953-d1f2-51a3792f8a1e"
      },
      "execution_count": 17,
      "outputs": [
        {
          "output_type": "display_data",
          "data": {
            "text/plain": [
              "<Figure size 640x480 with 1 Axes>"
            ],
            "image/png": "[encoded data removed]"
          },
          "metadata": {}
        },
        {
          "output_type": "display_data",
          "data": {
            "text/plain": [
              "<Figure size 640x480 with 1 Axes>"
            ],
            "image/png": "[encoded data removed]"
          },
          "metadata": {}
        }
      ]
    },
    {
      "cell_type": "code",
      "source": [
        "plot_loss_curves(history_1)"
      ],
      "metadata": {
        "colab": {
          "base_uri": "https://localhost:8080/",
          "height": 927
        },
        "id": "OE1ypN0TCE9a",
        "outputId": "2e7365ef-f715-4066-c16e-12eb62a74197"
      },
      "execution_count": 18,
      "outputs": [
        {
          "output_type": "display_data",
          "data": {
            "text/plain": [
              "<Figure size 640x480 with 1 Axes>"
            ],
            "image/png": "[encoded data removed]"
          },
          "metadata": {}
        },
        {
          "output_type": "display_data",
          "data": {
            "text/plain": [
              "<Figure size 640x480 with 1 Axes>"
            ],
            "image/png": "[encoded data removed]"
          },
          "metadata": {}
        }
      ]
    },
    {
      "cell_type": "code",
      "source": [
        "model_2= tf.keras.Sequential([\n",
        "    tf.keras.layers.Input(shape=(224,224,3)),\n",
        "    tf.keras.layers.Conv2D(filters=16,\n",
        "                           kernel_size=(7,7),\n",
        "                           padding='valid',\n",
        "                           activation='relu',\n",
        "                           kernel_initializer='he_normal'),\n",
        "    tf.keras.layers.MaxPooling2D(pool_size=(2,2)),\n",
        "    tf.keras.layers.Conv2D(filters=16,\n",
        "                           kernel_size=(7,7),\n",
        "                           padding='valid',\n",
        "                           activation='relu',\n",
        "                           kernel_initializer='he_normal'),\n",
        "    tf.keras.layers.MaxPooling2D(pool_size=(2,2)),\n",
        "    tf.keras.layers.Conv2D(filters=16,\n",
        "                           kernel_size=(7,7),\n",
        "                           padding='valid',\n",
        "                           activation='relu',\n",
        "                           kernel_initializer='he_normal'),\n",
        "    tf.keras.layers.MaxPooling2D(pool_size=(2,2)),\n",
        "    tf.keras.layers.Conv2D(filters=16,\n",
        "                           kernel_size=(7,7),\n",
        "                           padding='valid',\n",
        "                           activation='relu',\n",
        "                           kernel_initializer='he_normal'),\n",
        "    tf.keras.layers.GlobalAveragePooling2D(),\n",
        "    tf.keras.layers.Flatten(),\n",
        "    tf.keras.layers.Dense(4, activation='softmax')\n",
        "])\n"
      ],
      "metadata": {
        "id": "O94UooHTCH_q"
      },
      "execution_count": 20,
      "outputs": []
    },
    {
      "cell_type": "code",
      "source": [
        "\n",
        "optimizer = tf.keras.optimizers.Adam(learning_rate=1e-3)\n",
        "model_2.compile(loss='categorical_crossentropy',\n",
        "                optimizer=optimizer,\n",
        "                metrics=['accuracy'])\n",
        "history_2 = model_2.fit(train_data,\n",
        "            epochs=10,\n",
        "            steps_per_epoch=len(train_data ),\n",
        "            validation_data=test_data,\n",
        "            validation_steps=len(test_data))"
      ],
      "metadata": {
        "colab": {
          "base_uri": "https://localhost:8080/"
        },
        "id": "5sCwQnIOrJ9P",
        "outputId": "f3aa28b0-1e64-400e-c4cc-973967a01319"
      },
      "execution_count": 21,
      "outputs": [
        {
          "output_type": "stream",
          "name": "stdout",
          "text": [
            "Epoch 1/10\n",
            "90/90 [==============================] - 41s 433ms/step - loss: 1.3440 - accuracy: 0.3449 - val_loss: 1.4711 - val_accuracy: 0.2030\n",
            "Epoch 2/10\n",
            "90/90 [==============================] - 39s 437ms/step - loss: 1.2863 - accuracy: 0.3951 - val_loss: 1.4556 - val_accuracy: 0.2157\n",
            "Epoch 3/10\n",
            "90/90 [==============================] - 39s 438ms/step - loss: 1.2453 - accuracy: 0.4178 - val_loss: 1.4903 - val_accuracy: 0.2056\n",
            "Epoch 4/10\n",
            "90/90 [==============================] - 40s 439ms/step - loss: 1.1864 - accuracy: 0.4551 - val_loss: 1.5679 - val_accuracy: 0.2843\n",
            "Epoch 5/10\n",
            "90/90 [==============================] - 41s 455ms/step - loss: 1.1557 - accuracy: 0.4808 - val_loss: 1.5136 - val_accuracy: 0.2614\n",
            "Epoch 6/10\n",
            "90/90 [==============================] - 40s 443ms/step - loss: 1.1159 - accuracy: 0.5146 - val_loss: 1.5073 - val_accuracy: 0.2462\n",
            "Epoch 7/10\n",
            "90/90 [==============================] - 39s 433ms/step - loss: 1.0793 - accuracy: 0.5296 - val_loss: 1.5898 - val_accuracy: 0.2690\n",
            "Epoch 8/10\n",
            "90/90 [==============================] - 39s 436ms/step - loss: 1.0274 - accuracy: 0.5491 - val_loss: 1.6362 - val_accuracy: 0.2563\n",
            "Epoch 9/10\n",
            "90/90 [==============================] - 39s 436ms/step - loss: 0.9813 - accuracy: 0.5840 - val_loss: 1.6717 - val_accuracy: 0.3173\n",
            "Epoch 10/10\n",
            "90/90 [==============================] - 40s 443ms/step - loss: 0.9647 - accuracy: 0.5791 - val_loss: 1.7065 - val_accuracy: 0.3198\n"
          ]
        }
      ]
    },
    {
      "cell_type": "code",
      "source": [
        "efficientrel_url = \"https://www.kaggle.com/models/tensorflow/efficientnet/TensorFlow2/b0-feature-vector/1\"\n",
        "resnet_url = \"https://www.kaggle.com/models/google/resnet-v2/TensorFlow2/50-feature-vector/2\""
      ],
      "metadata": {
        "id": "Lv4qNnfcrNlx"
      },
      "execution_count": 28,
      "outputs": []
    },
    {
      "cell_type": "code",
      "source": [
        "import tensorflow as tf\n",
        "import tensorflow_hub as hub\n",
        "from tensorflow.keras import layers\n",
        "\n",
        "IMAGE_SHAPE = (224,224)\n",
        "\n",
        "def create_model(model_url,num_classes=4):\n",
        "  feature_extractor_layer = None\n",
        "  feature_extractor_layer = hub.KerasLayer(model_url,\n",
        "                                           trainable=False,\n",
        "                                           name=feature_extractor_layer,\n",
        "                                           input_shape=IMAGE_SHAPE + (3,))\n",
        "  model_4 = tf.keras.Sequential([\n",
        "      feature_extractor_layer,\n",
        "      tf.keras.layers.Dense(num_classes,activation=\"softmax\", name='output_layer')\n",
        "  ])\n",
        "\n",
        "  return model_4\n",
        "\n"
      ],
      "metadata": {
        "id": "sUVl6Ji7tBgB"
      },
      "execution_count": 43,
      "outputs": []
    },
    {
      "cell_type": "code",
      "source": [
        "resnet_model = create_model(resnet_url,\n",
        "                            num_classes=train_data.num_classes)"
      ],
      "metadata": {
        "id": "CGCtoYOBvVIj"
      },
      "execution_count": 44,
      "outputs": []
    },
    {
      "cell_type": "code",
      "source": [
        "train_data.num_classes"
      ],
      "metadata": {
        "colab": {
          "base_uri": "https://localhost:8080/"
        },
        "id": "z6-7TDBevlTR",
        "outputId": "d8acb366-dfab-4304-d981-00bee7d0ea07"
      },
      "execution_count": 31,
      "outputs": [
        {
          "output_type": "execute_result",
          "data": {
            "text/plain": [
              "4"
            ]
          },
          "metadata": {},
          "execution_count": 31
        }
      ]
    },
    {
      "cell_type": "code",
      "source": [
        "resnet_model.summary()"
      ],
      "metadata": {
        "colab": {
          "base_uri": "https://localhost:8080/"
        },
        "id": "PEqCRhMgvyj-",
        "outputId": "e4b00dcd-b885-43a4-895c-7e511fd2b39a"
      },
      "execution_count": 45,
      "outputs": [
        {
          "output_type": "stream",
          "name": "stdout",
          "text": [
            "Model: \"sequential_3\"\n",
            "_________________________________________________________________\n",
            " Layer (type)                Output Shape              Param #   \n",
            "=================================================================\n",
            " keras_layer (KerasLayer)    (None, 2048)              23564800  \n",
            "                                                                 \n",
            " output_layer (Dense)        (None, 4)                 8196      \n",
            "                                                                 \n",
            "=================================================================\n",
            "Total params: 23572996 (89.92 MB)\n",
            "Trainable params: 8196 (32.02 KB)\n",
            "Non-trainable params: 23564800 (89.89 MB)\n",
            "_________________________________________________________________\n"
          ]
        }
      ]
    },
    {
      "cell_type": "code",
      "source": [
        "resnet_model.compile(optimizer=tf.keras.optimizers.Adam(learning_rate=1e-3),\n",
        "                     loss='categorical_crossentropy',\n",
        "                     metrics=['accuracy'])"
      ],
      "metadata": {
        "id": "ZGvHNE1uxFAk"
      },
      "execution_count": 49,
      "outputs": []
    },
    {
      "cell_type": "code",
      "source": [
        "resnet_history = resnet_model.fit(train_data,\n",
        "            epochs=10,\n",
        "            steps_per_epoch=len(train_data ),\n",
        "            validation_data=test_data,\n",
        "            validation_steps=len(test_data))"
      ],
      "metadata": {
        "colab": {
          "base_uri": "https://localhost:8080/"
        },
        "id": "QdHyPv_fxXzH",
        "outputId": "f8a4a237-e4ee-4498-b39b-d2a5a885421e"
      },
      "execution_count": 50,
      "outputs": [
        {
          "output_type": "stream",
          "name": "stdout",
          "text": [
            "Epoch 1/10\n",
            "90/90 [==============================] - 52s 527ms/step - loss: 0.9323 - accuracy: 0.6254 - val_loss: 1.1025 - val_accuracy: 0.5609\n",
            "Epoch 2/10\n",
            "90/90 [==============================] - 42s 464ms/step - loss: 0.5584 - accuracy: 0.7843 - val_loss: 1.1059 - val_accuracy: 0.6015\n",
            "Epoch 3/10\n",
            "90/90 [==============================] - 41s 458ms/step - loss: 0.4863 - accuracy: 0.8139 - val_loss: 1.1222 - val_accuracy: 0.6320\n",
            "Epoch 4/10\n",
            "90/90 [==============================] - 42s 462ms/step - loss: 0.4563 - accuracy: 0.8334 - val_loss: 1.0104 - val_accuracy: 0.6472\n",
            "Epoch 5/10\n",
            "90/90 [==============================] - 41s 455ms/step - loss: 0.4377 - accuracy: 0.8345 - val_loss: 0.9434 - val_accuracy: 0.6802\n",
            "Epoch 6/10\n",
            "90/90 [==============================] - 42s 464ms/step - loss: 0.4007 - accuracy: 0.8526 - val_loss: 0.9780 - val_accuracy: 0.6777\n",
            "Epoch 7/10\n",
            "90/90 [==============================] - 41s 460ms/step - loss: 0.3837 - accuracy: 0.8530 - val_loss: 0.9975 - val_accuracy: 0.6751\n",
            "Epoch 8/10\n",
            "90/90 [==============================] - 43s 475ms/step - loss: 0.3691 - accuracy: 0.8627 - val_loss: 0.9871 - val_accuracy: 0.6853\n",
            "Epoch 9/10\n",
            "90/90 [==============================] - 43s 480ms/step - loss: 0.3526 - accuracy: 0.8672 - val_loss: 0.8831 - val_accuracy: 0.7259\n",
            "Epoch 10/10\n",
            "90/90 [==============================] - 42s 469ms/step - loss: 0.3464 - accuracy: 0.8672 - val_loss: 0.9073 - val_accuracy: 0.7056\n"
          ]
        }
      ]
    },
    {
      "cell_type": "code",
      "source": [
        "checkpoint_path = \"ten_percent_model_checkpoints_weights/checkpoint.ckpt\"\n",
        "\n",
        "checkpoint_callback = tf.keras.callbacks.ModelCheckpoint(save_weights_only=True,\n",
        "                                                         save_best_only=True,\n",
        "                                                         save_freq=\"epoch\",\n",
        "                                                         filepath=checkpoint_path,\n",
        "                                                         verbose=1)\n",
        "resnet_history = resnet_model.fit(train_data,\n",
        "            epochs=10,\n",
        "            steps_per_epoch=len(train_data ),\n",
        "            validation_data=test_data,\n",
        "            validation_steps=len(test_data),\n",
        "            callbacks=[checkpoint_callback])"
      ],
      "metadata": {
        "colab": {
          "base_uri": "https://localhost:8080/"
        },
        "id": "7nz148G4xo55",
        "outputId": "365242cd-1299-4725-9f45-89f0d1ee511b"
      },
      "execution_count": 52,
      "outputs": [
        {
          "output_type": "stream",
          "name": "stdout",
          "text": [
            "Epoch 1/10\n",
            "90/90 [==============================] - ETA: 0s - loss: 0.3430 - accuracy: 0.8679\n",
            "Epoch 1: val_loss improved from inf to 1.02351, saving model to ten_percent_model_checkpoints_weights/checkpoint.ckpt\n",
            "90/90 [==============================] - 42s 465ms/step - loss: 0.3430 - accuracy: 0.8679 - val_loss: 1.0235 - val_accuracy: 0.6929\n",
            "Epoch 2/10\n",
            "90/90 [==============================] - ETA: 0s - loss: 0.3392 - accuracy: 0.8749\n",
            "Epoch 2: val_loss improved from 1.02351 to 0.89899, saving model to ten_percent_model_checkpoints_weights/checkpoint.ckpt\n",
            "90/90 [==============================] - 45s 496ms/step - loss: 0.3392 - accuracy: 0.8749 - val_loss: 0.8990 - val_accuracy: 0.7183\n",
            "Epoch 3/10\n",
            "90/90 [==============================] - ETA: 0s - loss: 0.3091 - accuracy: 0.8864\n",
            "Epoch 3: val_loss did not improve from 0.89899\n",
            "90/90 [==============================] - 42s 462ms/step - loss: 0.3091 - accuracy: 0.8864 - val_loss: 0.9174 - val_accuracy: 0.7056\n",
            "Epoch 4/10\n",
            "90/90 [==============================] - ETA: 0s - loss: 0.3076 - accuracy: 0.8780\n",
            "Epoch 4: val_loss did not improve from 0.89899\n",
            "90/90 [==============================] - 42s 465ms/step - loss: 0.3076 - accuracy: 0.8780 - val_loss: 0.9209 - val_accuracy: 0.7030\n",
            "Epoch 5/10\n",
            "90/90 [==============================] - ETA: 0s - loss: 0.3065 - accuracy: 0.8840\n",
            "Epoch 5: val_loss did not improve from 0.89899\n",
            "90/90 [==============================] - 42s 462ms/step - loss: 0.3065 - accuracy: 0.8840 - val_loss: 1.0281 - val_accuracy: 0.7005\n",
            "Epoch 6/10\n",
            "90/90 [==============================] - ETA: 0s - loss: 0.3263 - accuracy: 0.8753\n",
            "Epoch 6: val_loss did not improve from 0.89899\n",
            "90/90 [==============================] - 42s 464ms/step - loss: 0.3263 - accuracy: 0.8753 - val_loss: 0.9514 - val_accuracy: 0.7132\n",
            "Epoch 7/10\n",
            "90/90 [==============================] - ETA: 0s - loss: 0.3229 - accuracy: 0.8732\n",
            "Epoch 7: val_loss did not improve from 0.89899\n",
            "90/90 [==============================] - 44s 491ms/step - loss: 0.3229 - accuracy: 0.8732 - val_loss: 0.9964 - val_accuracy: 0.6751\n",
            "Epoch 8/10\n",
            "90/90 [==============================] - ETA: 0s - loss: 0.2962 - accuracy: 0.8889\n",
            "Epoch 8: val_loss did not improve from 0.89899\n",
            "90/90 [==============================] - 42s 470ms/step - loss: 0.2962 - accuracy: 0.8889 - val_loss: 0.9609 - val_accuracy: 0.7107\n",
            "Epoch 9/10\n",
            "90/90 [==============================] - ETA: 0s - loss: 0.3050 - accuracy: 0.8871\n",
            "Epoch 9: val_loss did not improve from 0.89899\n",
            "90/90 [==============================] - 42s 469ms/step - loss: 0.3050 - accuracy: 0.8871 - val_loss: 1.0417 - val_accuracy: 0.6904\n",
            "Epoch 10/10\n",
            "90/90 [==============================] - ETA: 0s - loss: 0.2907 - accuracy: 0.8892\n",
            "Epoch 10: val_loss did not improve from 0.89899\n",
            "90/90 [==============================] - 42s 466ms/step - loss: 0.2907 - accuracy: 0.8892 - val_loss: 0.9002 - val_accuracy: 0.7360\n"
          ]
        }
      ]
    },
    {
      "cell_type": "code",
      "source": [],
      "metadata": {
        "id": "pJxY1rCW1qhc"
      },
      "execution_count": null,
      "outputs": []
    }
  ]
}