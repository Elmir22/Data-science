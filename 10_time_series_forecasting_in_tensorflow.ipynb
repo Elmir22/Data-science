{
  "cells": [
    {
      "cell_type": "markdown",
      "metadata": {
        "id": "view-in-github",
        "colab_type": "text"
      },
      "source": [
        "<a href=\"https://colab.research.google.com/github/Elmir22/Data-science-ML-models-/blob/main/10_time_series_forecasting_in_tensorflow.ipynb\" target=\"_parent\"><img src=\"https://colab.research.google.com/assets/colab-badge.svg\" alt=\"Open In Colab\"/></a>"
      ]
    },
    {
      "cell_type": "code",
      "execution_count": 1,
      "metadata": {
        "colab": {
          "base_uri": "https://localhost:8080/"
        },
        "id": "UqcYSDksVxX9",
        "outputId": "885a4f74-f91a-4e12-bcc1-f434b8277c70"
      },
      "outputs": [
        {
          "output_type": "stream",
          "name": "stdout",
          "text": [
            "--2024-07-10 10:11:56--  https://raw.githubusercontent.com/Rstam59/TaskDataRepoForStudents/main/BTC_USD_2013-10-01_2021-05-18-CoinDesk.csv\n",
            "Resolving raw.githubusercontent.com (raw.githubusercontent.com)... 185.199.108.133, 185.199.109.133, 185.199.110.133, ...\n",
            "Connecting to raw.githubusercontent.com (raw.githubusercontent.com)|185.199.108.133|:443... connected.\n",
            "HTTP request sent, awaiting response... 200 OK\n",
            "Length: 178509 (174K) [text/plain]\n",
            "Saving to: ‘BTC_USD_2013-10-01_2021-05-18-CoinDesk.csv’\n",
            "\n",
            "\r          BTC_USD_2   0%[                    ]       0  --.-KB/s               \rBTC_USD_2013-10-01_ 100%[===================>] 174.33K  --.-KB/s    in 0.004s  \n",
            "\n",
            "2024-07-10 10:11:56 (44.2 MB/s) - ‘BTC_USD_2013-10-01_2021-05-18-CoinDesk.csv’ saved [178509/178509]\n",
            "\n"
          ]
        }
      ],
      "source": [
        "!wget https://raw.githubusercontent.com/Rstam59/TaskDataRepoForStudents/main/BTC_USD_2013-10-01_2021-05-18-CoinDesk.csv"
      ]
    },
    {
      "cell_type": "code",
      "execution_count": 2,
      "metadata": {
        "colab": {
          "base_uri": "https://localhost:8080/",
          "height": 238
        },
        "id": "-9LCJlveeBoa",
        "outputId": "0e400f3f-d612-4106-de0e-1820ef248d00"
      },
      "outputs": [
        {
          "output_type": "execute_result",
          "data": {
            "text/plain": [
              "           Currency  Closing Price (USD)  24h Open (USD)  24h High (USD)  \\\n",
              "Date                                                                       \n",
              "2013-10-01      BTC            123.65499       124.30466       124.75166   \n",
              "2013-10-02      BTC            125.45500       123.65499       125.75850   \n",
              "2013-10-03      BTC            108.58483       125.45500       125.66566   \n",
              "2013-10-04      BTC            118.67466       108.58483       118.67500   \n",
              "2013-10-05      BTC            121.33866       118.67466       121.93633   \n",
              "\n",
              "            24h Low (USD)  \n",
              "Date                       \n",
              "2013-10-01      122.56349  \n",
              "2013-10-02      123.63383  \n",
              "2013-10-03       83.32833  \n",
              "2013-10-04      107.05816  \n",
              "2013-10-05      118.00566  "
            ],
            "text/html": [
              "\n",
              "  <div id=\"df-df0c43c6-7bc0-4c5f-9d9a-26978284e181\" class=\"colab-df-container\">\n",
              "    <div>\n",
              "<style scoped>\n",
              "    .dataframe tbody tr th:only-of-type {\n",
              "        vertical-align: middle;\n",
              "    }\n",
              "\n",
              "    .dataframe tbody tr th {\n",
              "        vertical-align: top;\n",
              "    }\n",
              "\n",
              "    .dataframe thead th {\n",
              "        text-align: right;\n",
              "    }\n",
              "</style>\n",
              "<table border=\"1\" class=\"dataframe\">\n",
              "  <thead>\n",
              "    <tr style=\"text-align: right;\">\n",
              "      <th></th>\n",
              "      <th>Currency</th>\n",
              "      <th>Closing Price (USD)</th>\n",
              "      <th>24h Open (USD)</th>\n",
              "      <th>24h High (USD)</th>\n",
              "      <th>24h Low (USD)</th>\n",
              "    </tr>\n",
              "    <tr>\n",
              "      <th>Date</th>\n",
              "      <th></th>\n",
              "      <th></th>\n",
              "      <th></th>\n",
              "      <th></th>\n",
              "      <th></th>\n",
              "    </tr>\n",
              "  </thead>\n",
              "  <tbody>\n",
              "    <tr>\n",
              "      <th>2013-10-01</th>\n",
              "      <td>BTC</td>\n",
              "      <td>123.65499</td>\n",
              "      <td>124.30466</td>\n",
              "      <td>124.75166</td>\n",
              "      <td>122.56349</td>\n",
              "    </tr>\n",
              "    <tr>\n",
              "      <th>2013-10-02</th>\n",
              "      <td>BTC</td>\n",
              "      <td>125.45500</td>\n",
              "      <td>123.65499</td>\n",
              "      <td>125.75850</td>\n",
              "      <td>123.63383</td>\n",
              "    </tr>\n",
              "    <tr>\n",
              "      <th>2013-10-03</th>\n",
              "      <td>BTC</td>\n",
              "      <td>108.58483</td>\n",
              "      <td>125.45500</td>\n",
              "      <td>125.66566</td>\n",
              "      <td>83.32833</td>\n",
              "    </tr>\n",
              "    <tr>\n",
              "      <th>2013-10-04</th>\n",
              "      <td>BTC</td>\n",
              "      <td>118.67466</td>\n",
              "      <td>108.58483</td>\n",
              "      <td>118.67500</td>\n",
              "      <td>107.05816</td>\n",
              "    </tr>\n",
              "    <tr>\n",
              "      <th>2013-10-05</th>\n",
              "      <td>BTC</td>\n",
              "      <td>121.33866</td>\n",
              "      <td>118.67466</td>\n",
              "      <td>121.93633</td>\n",
              "      <td>118.00566</td>\n",
              "    </tr>\n",
              "  </tbody>\n",
              "</table>\n",
              "</div>\n",
              "    <div class=\"colab-df-buttons\">\n",
              "\n",
              "  <div class=\"colab-df-container\">\n",
              "    <button class=\"colab-df-convert\" onclick=\"convertToInteractive('df-df0c43c6-7bc0-4c5f-9d9a-26978284e181')\"\n",
              "            title=\"Convert this dataframe to an interactive table.\"\n",
              "            style=\"display:none;\">\n",
              "\n",
              "  <svg xmlns=\"http://www.w3.org/2000/svg\" height=\"24px\" viewBox=\"0 -960 960 960\">\n",
              "    <path d=\"M120-120v-720h720v720H120Zm60-500h600v-160H180v160Zm220 220h160v-160H400v160Zm0 220h160v-160H400v160ZM180-400h160v-160H180v160Zm440 0h160v-160H620v160ZM180-180h160v-160H180v160Zm440 0h160v-160H620v160Z\"/>\n",
              "  </svg>\n",
              "    </button>\n",
              "\n",
              "  <style>\n",
              "    .colab-df-container {\n",
              "      display:flex;\n",
              "      gap: 12px;\n",
              "    }\n",
              "\n",
              "    .colab-df-convert {\n",
              "      background-color: #E8F0FE;\n",
              "      border: none;\n",
              "      border-radius: 50%;\n",
              "      cursor: pointer;\n",
              "      display: none;\n",
              "      fill: #1967D2;\n",
              "      height: 32px;\n",
              "      padding: 0 0 0 0;\n",
              "      width: 32px;\n",
              "    }\n",
              "\n",
              "    .colab-df-convert:hover {\n",
              "      background-color: #E2EBFA;\n",
              "      box-shadow: 0px 1px 2px rgba(60, 64, 67, 0.3), 0px 1px 3px 1px rgba(60, 64, 67, 0.15);\n",
              "      fill: #174EA6;\n",
              "    }\n",
              "\n",
              "    .colab-df-buttons div {\n",
              "      margin-bottom: 4px;\n",
              "    }\n",
              "\n",
              "    [theme=dark] .colab-df-convert {\n",
              "      background-color: #3B4455;\n",
              "      fill: #D2E3FC;\n",
              "    }\n",
              "\n",
              "    [theme=dark] .colab-df-convert:hover {\n",
              "      background-color: #434B5C;\n",
              "      box-shadow: 0px 1px 3px 1px rgba(0, 0, 0, 0.15);\n",
              "      filter: drop-shadow(0px 1px 2px rgba(0, 0, 0, 0.3));\n",
              "      fill: #FFFFFF;\n",
              "    }\n",
              "  </style>\n",
              "\n",
              "    <script>\n",
              "      const buttonEl =\n",
              "        document.querySelector('#df-df0c43c6-7bc0-4c5f-9d9a-26978284e181 button.colab-df-convert');\n",
              "      buttonEl.style.display =\n",
              "        google.colab.kernel.accessAllowed ? 'block' : 'none';\n",
              "\n",
              "      async function convertToInteractive(key) {\n",
              "        const element = document.querySelector('#df-df0c43c6-7bc0-4c5f-9d9a-26978284e181');\n",
              "        const dataTable =\n",
              "          await google.colab.kernel.invokeFunction('convertToInteractive',\n",
              "                                                    [key], {});\n",
              "        if (!dataTable) return;\n",
              "\n",
              "        const docLinkHtml = 'Like what you see? Visit the ' +\n",
              "          '<a target=\"_blank\" href=https://colab.research.google.com/notebooks/data_table.ipynb>data table notebook</a>'\n",
              "          + ' to learn more about interactive tables.';\n",
              "        element.innerHTML = '';\n",
              "        dataTable['output_type'] = 'display_data';\n",
              "        await google.colab.output.renderOutput(dataTable, element);\n",
              "        const docLink = document.createElement('div');\n",
              "        docLink.innerHTML = docLinkHtml;\n",
              "        element.appendChild(docLink);\n",
              "      }\n",
              "    </script>\n",
              "  </div>\n",
              "\n",
              "\n",
              "<div id=\"df-f4deaede-70d8-4959-a963-325738cf7440\">\n",
              "  <button class=\"colab-df-quickchart\" onclick=\"quickchart('df-f4deaede-70d8-4959-a963-325738cf7440')\"\n",
              "            title=\"Suggest charts\"\n",
              "            style=\"display:none;\">\n",
              "\n",
              "<svg xmlns=\"http://www.w3.org/2000/svg\" height=\"24px\"viewBox=\"0 0 24 24\"\n",
              "     width=\"24px\">\n",
              "    <g>\n",
              "        <path d=\"M19 3H5c-1.1 0-2 .9-2 2v14c0 1.1.9 2 2 2h14c1.1 0 2-.9 2-2V5c0-1.1-.9-2-2-2zM9 17H7v-7h2v7zm4 0h-2V7h2v10zm4 0h-2v-4h2v4z\"/>\n",
              "    </g>\n",
              "</svg>\n",
              "  </button>\n",
              "\n",
              "<style>\n",
              "  .colab-df-quickchart {\n",
              "      --bg-color: #E8F0FE;\n",
              "      --fill-color: #1967D2;\n",
              "      --hover-bg-color: #E2EBFA;\n",
              "      --hover-fill-color: #174EA6;\n",
              "      --disabled-fill-color: #AAA;\n",
              "      --disabled-bg-color: #DDD;\n",
              "  }\n",
              "\n",
              "  [theme=dark] .colab-df-quickchart {\n",
              "      --bg-color: #3B4455;\n",
              "      --fill-color: #D2E3FC;\n",
              "      --hover-bg-color: #434B5C;\n",
              "      --hover-fill-color: #FFFFFF;\n",
              "      --disabled-bg-color: #3B4455;\n",
              "      --disabled-fill-color: #666;\n",
              "  }\n",
              "\n",
              "  .colab-df-quickchart {\n",
              "    background-color: var(--bg-color);\n",
              "    border: none;\n",
              "    border-radius: 50%;\n",
              "    cursor: pointer;\n",
              "    display: none;\n",
              "    fill: var(--fill-color);\n",
              "    height: 32px;\n",
              "    padding: 0;\n",
              "    width: 32px;\n",
              "  }\n",
              "\n",
              "  .colab-df-quickchart:hover {\n",
              "    background-color: var(--hover-bg-color);\n",
              "    box-shadow: 0 1px 2px rgba(60, 64, 67, 0.3), 0 1px 3px 1px rgba(60, 64, 67, 0.15);\n",
              "    fill: var(--button-hover-fill-color);\n",
              "  }\n",
              "\n",
              "  .colab-df-quickchart-complete:disabled,\n",
              "  .colab-df-quickchart-complete:disabled:hover {\n",
              "    background-color: var(--disabled-bg-color);\n",
              "    fill: var(--disabled-fill-color);\n",
              "    box-shadow: none;\n",
              "  }\n",
              "\n",
              "  .colab-df-spinner {\n",
              "    border: 2px solid var(--fill-color);\n",
              "    border-color: transparent;\n",
              "    border-bottom-color: var(--fill-color);\n",
              "    animation:\n",
              "      spin 1s steps(1) infinite;\n",
              "  }\n",
              "\n",
              "  @keyframes spin {\n",
              "    0% {\n",
              "      border-color: transparent;\n",
              "      border-bottom-color: var(--fill-color);\n",
              "      border-left-color: var(--fill-color);\n",
              "    }\n",
              "    20% {\n",
              "      border-color: transparent;\n",
              "      border-left-color: var(--fill-color);\n",
              "      border-top-color: var(--fill-color);\n",
              "    }\n",
              "    30% {\n",
              "      border-color: transparent;\n",
              "      border-left-color: var(--fill-color);\n",
              "      border-top-color: var(--fill-color);\n",
              "      border-right-color: var(--fill-color);\n",
              "    }\n",
              "    40% {\n",
              "      border-color: transparent;\n",
              "      border-right-color: var(--fill-color);\n",
              "      border-top-color: var(--fill-color);\n",
              "    }\n",
              "    60% {\n",
              "      border-color: transparent;\n",
              "      border-right-color: var(--fill-color);\n",
              "    }\n",
              "    80% {\n",
              "      border-color: transparent;\n",
              "      border-right-color: var(--fill-color);\n",
              "      border-bottom-color: var(--fill-color);\n",
              "    }\n",
              "    90% {\n",
              "      border-color: transparent;\n",
              "      border-bottom-color: var(--fill-color);\n",
              "    }\n",
              "  }\n",
              "</style>\n",
              "\n",
              "  <script>\n",
              "    async function quickchart(key) {\n",
              "      const quickchartButtonEl =\n",
              "        document.querySelector('#' + key + ' button');\n",
              "      quickchartButtonEl.disabled = true;  // To prevent multiple clicks.\n",
              "      quickchartButtonEl.classList.add('colab-df-spinner');\n",
              "      try {\n",
              "        const charts = await google.colab.kernel.invokeFunction(\n",
              "            'suggestCharts', [key], {});\n",
              "      } catch (error) {\n",
              "        console.error('Error during call to suggestCharts:', error);\n",
              "      }\n",
              "      quickchartButtonEl.classList.remove('colab-df-spinner');\n",
              "      quickchartButtonEl.classList.add('colab-df-quickchart-complete');\n",
              "    }\n",
              "    (() => {\n",
              "      let quickchartButtonEl =\n",
              "        document.querySelector('#df-f4deaede-70d8-4959-a963-325738cf7440 button');\n",
              "      quickchartButtonEl.style.display =\n",
              "        google.colab.kernel.accessAllowed ? 'block' : 'none';\n",
              "    })();\n",
              "  </script>\n",
              "</div>\n",
              "\n",
              "    </div>\n",
              "  </div>\n"
            ],
            "application/vnd.google.colaboratory.intrinsic+json": {
              "type": "dataframe",
              "variable_name": "df",
              "summary": "{\n  \"name\": \"df\",\n  \"rows\": 2787,\n  \"fields\": [\n    {\n      \"column\": \"Date\",\n      \"properties\": {\n        \"dtype\": \"date\",\n        \"min\": \"2013-10-01 00:00:00\",\n        \"max\": \"2021-05-18 00:00:00\",\n        \"num_unique_values\": 2787,\n        \"samples\": [\n          \"2019-06-11 00:00:00\",\n          \"2021-05-03 00:00:00\",\n          \"2017-10-05 00:00:00\"\n        ],\n        \"semantic_type\": \"\",\n        \"description\": \"\"\n      }\n    },\n    {\n      \"column\": \"Currency\",\n      \"properties\": {\n        \"dtype\": \"category\",\n        \"num_unique_values\": 1,\n        \"samples\": [\n          \"BTC\"\n        ],\n        \"semantic_type\": \"\",\n        \"description\": \"\"\n      }\n    },\n    {\n      \"column\": \"Closing Price (USD)\",\n      \"properties\": {\n        \"dtype\": \"number\",\n        \"std\": 10887.84744436952,\n        \"min\": 108.58483,\n        \"max\": 63346.7890351052,\n        \"num_unique_values\": 2787,\n        \"samples\": [\n          7954.0062377205\n        ],\n        \"semantic_type\": \"\",\n        \"description\": \"\"\n      }\n    },\n    {\n      \"column\": \"24h Open (USD)\",\n      \"properties\": {\n        \"dtype\": \"number\",\n        \"std\": 10863.80077212387,\n        \"min\": 108.58483,\n        \"max\": 63562.6735446382,\n        \"num_unique_values\": 2787,\n        \"samples\": [\n          7600.9225047785\n        ],\n        \"semantic_type\": \"\",\n        \"description\": \"\"\n      }\n    },\n    {\n      \"column\": \"24h High (USD)\",\n      \"properties\": {\n        \"dtype\": \"number\",\n        \"std\": 11206.779756254151,\n        \"min\": 118.675,\n        \"max\": 64801.787869525,\n        \"num_unique_values\": 2787,\n        \"samples\": [\n          8064.9001353225\n        ],\n        \"semantic_type\": \"\",\n        \"description\": \"\"\n      }\n    },\n    {\n      \"column\": \"24h Low (USD)\",\n      \"properties\": {\n        \"dtype\": \"number\",\n        \"std\": 10475.8112518284,\n        \"min\": 83.32833,\n        \"max\": 62094.6329143272,\n        \"num_unique_values\": 2785,\n        \"samples\": [\n          7714.610306452\n        ],\n        \"semantic_type\": \"\",\n        \"description\": \"\"\n      }\n    }\n  ]\n}"
            }
          },
          "metadata": {},
          "execution_count": 2
        }
      ],
      "source": [
        "#import pandas\n",
        "import pandas as pd\n",
        "df = pd.read_csv('/content/BTC_USD_2013-10-01_2021-05-18-CoinDesk.csv',\n",
        "                 parse_dates=[\"Date\"],\n",
        "                 index_col=[\"Date\"])\n",
        "df.head()"
      ]
    },
    {
      "cell_type": "code",
      "execution_count": 3,
      "metadata": {
        "colab": {
          "base_uri": "https://localhost:8080/"
        },
        "id": "atQbkAYveQz3",
        "outputId": "a4bb22f7-a5a4-416d-f5e4-8434cab5851c"
      },
      "outputs": [
        {
          "output_type": "stream",
          "name": "stdout",
          "text": [
            "<class 'pandas.core.frame.DataFrame'>\n",
            "DatetimeIndex: 2787 entries, 2013-10-01 to 2021-05-18\n",
            "Data columns (total 5 columns):\n",
            " #   Column               Non-Null Count  Dtype  \n",
            "---  ------               --------------  -----  \n",
            " 0   Currency             2787 non-null   object \n",
            " 1   Closing Price (USD)  2787 non-null   float64\n",
            " 2   24h Open (USD)       2787 non-null   float64\n",
            " 3   24h High (USD)       2787 non-null   float64\n",
            " 4   24h Low (USD)        2787 non-null   float64\n",
            "dtypes: float64(4), object(1)\n",
            "memory usage: 130.6+ KB\n"
          ]
        }
      ],
      "source": [
        "df.info()"
      ]
    },
    {
      "cell_type": "code",
      "execution_count": 4,
      "metadata": {
        "colab": {
          "base_uri": "https://localhost:8080/",
          "height": 238
        },
        "id": "AXIMzukYfEsO",
        "outputId": "41cb1047-aa52-4288-bc16-dffc1d1a4913"
      },
      "outputs": [
        {
          "output_type": "execute_result",
          "data": {
            "text/plain": [
              "                Price\n",
              "Date                 \n",
              "2013-10-01  123.65499\n",
              "2013-10-02  125.45500\n",
              "2013-10-03  108.58483\n",
              "2013-10-04  118.67466\n",
              "2013-10-05  121.33866"
            ],
            "text/html": [
              "\n",
              "  <div id=\"df-b3ff7858-b518-496d-9229-3cc764ffcb87\" class=\"colab-df-container\">\n",
              "    <div>\n",
              "<style scoped>\n",
              "    .dataframe tbody tr th:only-of-type {\n",
              "        vertical-align: middle;\n",
              "    }\n",
              "\n",
              "    .dataframe tbody tr th {\n",
              "        vertical-align: top;\n",
              "    }\n",
              "\n",
              "    .dataframe thead th {\n",
              "        text-align: right;\n",
              "    }\n",
              "</style>\n",
              "<table border=\"1\" class=\"dataframe\">\n",
              "  <thead>\n",
              "    <tr style=\"text-align: right;\">\n",
              "      <th></th>\n",
              "      <th>Price</th>\n",
              "    </tr>\n",
              "    <tr>\n",
              "      <th>Date</th>\n",
              "      <th></th>\n",
              "    </tr>\n",
              "  </thead>\n",
              "  <tbody>\n",
              "    <tr>\n",
              "      <th>2013-10-01</th>\n",
              "      <td>123.65499</td>\n",
              "    </tr>\n",
              "    <tr>\n",
              "      <th>2013-10-02</th>\n",
              "      <td>125.45500</td>\n",
              "    </tr>\n",
              "    <tr>\n",
              "      <th>2013-10-03</th>\n",
              "      <td>108.58483</td>\n",
              "    </tr>\n",
              "    <tr>\n",
              "      <th>2013-10-04</th>\n",
              "      <td>118.67466</td>\n",
              "    </tr>\n",
              "    <tr>\n",
              "      <th>2013-10-05</th>\n",
              "      <td>121.33866</td>\n",
              "    </tr>\n",
              "  </tbody>\n",
              "</table>\n",
              "</div>\n",
              "    <div class=\"colab-df-buttons\">\n",
              "\n",
              "  <div class=\"colab-df-container\">\n",
              "    <button class=\"colab-df-convert\" onclick=\"convertToInteractive('df-b3ff7858-b518-496d-9229-3cc764ffcb87')\"\n",
              "            title=\"Convert this dataframe to an interactive table.\"\n",
              "            style=\"display:none;\">\n",
              "\n",
              "  <svg xmlns=\"http://www.w3.org/2000/svg\" height=\"24px\" viewBox=\"0 -960 960 960\">\n",
              "    <path d=\"M120-120v-720h720v720H120Zm60-500h600v-160H180v160Zm220 220h160v-160H400v160Zm0 220h160v-160H400v160ZM180-400h160v-160H180v160Zm440 0h160v-160H620v160ZM180-180h160v-160H180v160Zm440 0h160v-160H620v160Z\"/>\n",
              "  </svg>\n",
              "    </button>\n",
              "\n",
              "  <style>\n",
              "    .colab-df-container {\n",
              "      display:flex;\n",
              "      gap: 12px;\n",
              "    }\n",
              "\n",
              "    .colab-df-convert {\n",
              "      background-color: #E8F0FE;\n",
              "      border: none;\n",
              "      border-radius: 50%;\n",
              "      cursor: pointer;\n",
              "      display: none;\n",
              "      fill: #1967D2;\n",
              "      height: 32px;\n",
              "      padding: 0 0 0 0;\n",
              "      width: 32px;\n",
              "    }\n",
              "\n",
              "    .colab-df-convert:hover {\n",
              "      background-color: #E2EBFA;\n",
              "      box-shadow: 0px 1px 2px rgba(60, 64, 67, 0.3), 0px 1px 3px 1px rgba(60, 64, 67, 0.15);\n",
              "      fill: #174EA6;\n",
              "    }\n",
              "\n",
              "    .colab-df-buttons div {\n",
              "      margin-bottom: 4px;\n",
              "    }\n",
              "\n",
              "    [theme=dark] .colab-df-convert {\n",
              "      background-color: #3B4455;\n",
              "      fill: #D2E3FC;\n",
              "    }\n",
              "\n",
              "    [theme=dark] .colab-df-convert:hover {\n",
              "      background-color: #434B5C;\n",
              "      box-shadow: 0px 1px 3px 1px rgba(0, 0, 0, 0.15);\n",
              "      filter: drop-shadow(0px 1px 2px rgba(0, 0, 0, 0.3));\n",
              "      fill: #FFFFFF;\n",
              "    }\n",
              "  </style>\n",
              "\n",
              "    <script>\n",
              "      const buttonEl =\n",
              "        document.querySelector('#df-b3ff7858-b518-496d-9229-3cc764ffcb87 button.colab-df-convert');\n",
              "      buttonEl.style.display =\n",
              "        google.colab.kernel.accessAllowed ? 'block' : 'none';\n",
              "\n",
              "      async function convertToInteractive(key) {\n",
              "        const element = document.querySelector('#df-b3ff7858-b518-496d-9229-3cc764ffcb87');\n",
              "        const dataTable =\n",
              "          await google.colab.kernel.invokeFunction('convertToInteractive',\n",
              "                                                    [key], {});\n",
              "        if (!dataTable) return;\n",
              "\n",
              "        const docLinkHtml = 'Like what you see? Visit the ' +\n",
              "          '<a target=\"_blank\" href=https://colab.research.google.com/notebooks/data_table.ipynb>data table notebook</a>'\n",
              "          + ' to learn more about interactive tables.';\n",
              "        element.innerHTML = '';\n",
              "        dataTable['output_type'] = 'display_data';\n",
              "        await google.colab.output.renderOutput(dataTable, element);\n",
              "        const docLink = document.createElement('div');\n",
              "        docLink.innerHTML = docLinkHtml;\n",
              "        element.appendChild(docLink);\n",
              "      }\n",
              "    </script>\n",
              "  </div>\n",
              "\n",
              "\n",
              "<div id=\"df-7c54ec4e-cc80-4363-b7e6-812856f9972c\">\n",
              "  <button class=\"colab-df-quickchart\" onclick=\"quickchart('df-7c54ec4e-cc80-4363-b7e6-812856f9972c')\"\n",
              "            title=\"Suggest charts\"\n",
              "            style=\"display:none;\">\n",
              "\n",
              "<svg xmlns=\"http://www.w3.org/2000/svg\" height=\"24px\"viewBox=\"0 0 24 24\"\n",
              "     width=\"24px\">\n",
              "    <g>\n",
              "        <path d=\"M19 3H5c-1.1 0-2 .9-2 2v14c0 1.1.9 2 2 2h14c1.1 0 2-.9 2-2V5c0-1.1-.9-2-2-2zM9 17H7v-7h2v7zm4 0h-2V7h2v10zm4 0h-2v-4h2v4z\"/>\n",
              "    </g>\n",
              "</svg>\n",
              "  </button>\n",
              "\n",
              "<style>\n",
              "  .colab-df-quickchart {\n",
              "      --bg-color: #E8F0FE;\n",
              "      --fill-color: #1967D2;\n",
              "      --hover-bg-color: #E2EBFA;\n",
              "      --hover-fill-color: #174EA6;\n",
              "      --disabled-fill-color: #AAA;\n",
              "      --disabled-bg-color: #DDD;\n",
              "  }\n",
              "\n",
              "  [theme=dark] .colab-df-quickchart {\n",
              "      --bg-color: #3B4455;\n",
              "      --fill-color: #D2E3FC;\n",
              "      --hover-bg-color: #434B5C;\n",
              "      --hover-fill-color: #FFFFFF;\n",
              "      --disabled-bg-color: #3B4455;\n",
              "      --disabled-fill-color: #666;\n",
              "  }\n",
              "\n",
              "  .colab-df-quickchart {\n",
              "    background-color: var(--bg-color);\n",
              "    border: none;\n",
              "    border-radius: 50%;\n",
              "    cursor: pointer;\n",
              "    display: none;\n",
              "    fill: var(--fill-color);\n",
              "    height: 32px;\n",
              "    padding: 0;\n",
              "    width: 32px;\n",
              "  }\n",
              "\n",
              "  .colab-df-quickchart:hover {\n",
              "    background-color: var(--hover-bg-color);\n",
              "    box-shadow: 0 1px 2px rgba(60, 64, 67, 0.3), 0 1px 3px 1px rgba(60, 64, 67, 0.15);\n",
              "    fill: var(--button-hover-fill-color);\n",
              "  }\n",
              "\n",
              "  .colab-df-quickchart-complete:disabled,\n",
              "  .colab-df-quickchart-complete:disabled:hover {\n",
              "    background-color: var(--disabled-bg-color);\n",
              "    fill: var(--disabled-fill-color);\n",
              "    box-shadow: none;\n",
              "  }\n",
              "\n",
              "  .colab-df-spinner {\n",
              "    border: 2px solid var(--fill-color);\n",
              "    border-color: transparent;\n",
              "    border-bottom-color: var(--fill-color);\n",
              "    animation:\n",
              "      spin 1s steps(1) infinite;\n",
              "  }\n",
              "\n",
              "  @keyframes spin {\n",
              "    0% {\n",
              "      border-color: transparent;\n",
              "      border-bottom-color: var(--fill-color);\n",
              "      border-left-color: var(--fill-color);\n",
              "    }\n",
              "    20% {\n",
              "      border-color: transparent;\n",
              "      border-left-color: var(--fill-color);\n",
              "      border-top-color: var(--fill-color);\n",
              "    }\n",
              "    30% {\n",
              "      border-color: transparent;\n",
              "      border-left-color: var(--fill-color);\n",
              "      border-top-color: var(--fill-color);\n",
              "      border-right-color: var(--fill-color);\n",
              "    }\n",
              "    40% {\n",
              "      border-color: transparent;\n",
              "      border-right-color: var(--fill-color);\n",
              "      border-top-color: var(--fill-color);\n",
              "    }\n",
              "    60% {\n",
              "      border-color: transparent;\n",
              "      border-right-color: var(--fill-color);\n",
              "    }\n",
              "    80% {\n",
              "      border-color: transparent;\n",
              "      border-right-color: var(--fill-color);\n",
              "      border-bottom-color: var(--fill-color);\n",
              "    }\n",
              "    90% {\n",
              "      border-color: transparent;\n",
              "      border-bottom-color: var(--fill-color);\n",
              "    }\n",
              "  }\n",
              "</style>\n",
              "\n",
              "  <script>\n",
              "    async function quickchart(key) {\n",
              "      const quickchartButtonEl =\n",
              "        document.querySelector('#' + key + ' button');\n",
              "      quickchartButtonEl.disabled = true;  // To prevent multiple clicks.\n",
              "      quickchartButtonEl.classList.add('colab-df-spinner');\n",
              "      try {\n",
              "        const charts = await google.colab.kernel.invokeFunction(\n",
              "            'suggestCharts', [key], {});\n",
              "      } catch (error) {\n",
              "        console.error('Error during call to suggestCharts:', error);\n",
              "      }\n",
              "      quickchartButtonEl.classList.remove('colab-df-spinner');\n",
              "      quickchartButtonEl.classList.add('colab-df-quickchart-complete');\n",
              "    }\n",
              "    (() => {\n",
              "      let quickchartButtonEl =\n",
              "        document.querySelector('#df-7c54ec4e-cc80-4363-b7e6-812856f9972c button');\n",
              "      quickchartButtonEl.style.display =\n",
              "        google.colab.kernel.accessAllowed ? 'block' : 'none';\n",
              "    })();\n",
              "  </script>\n",
              "</div>\n",
              "\n",
              "    </div>\n",
              "  </div>\n"
            ],
            "application/vnd.google.colaboratory.intrinsic+json": {
              "type": "dataframe",
              "variable_name": "bitcoin_prices",
              "summary": "{\n  \"name\": \"bitcoin_prices\",\n  \"rows\": 2787,\n  \"fields\": [\n    {\n      \"column\": \"Date\",\n      \"properties\": {\n        \"dtype\": \"date\",\n        \"min\": \"2013-10-01 00:00:00\",\n        \"max\": \"2021-05-18 00:00:00\",\n        \"num_unique_values\": 2787,\n        \"samples\": [\n          \"2019-06-11 00:00:00\",\n          \"2021-05-03 00:00:00\",\n          \"2017-10-05 00:00:00\"\n        ],\n        \"semantic_type\": \"\",\n        \"description\": \"\"\n      }\n    },\n    {\n      \"column\": \"Price\",\n      \"properties\": {\n        \"dtype\": \"number\",\n        \"std\": 10887.84744436952,\n        \"min\": 108.58483,\n        \"max\": 63346.7890351052,\n        \"num_unique_values\": 2787,\n        \"samples\": [\n          7954.0062377205,\n          56427.0431250152,\n          4186.78374\n        ],\n        \"semantic_type\": \"\",\n        \"description\": \"\"\n      }\n    }\n  ]\n}"
            }
          },
          "metadata": {},
          "execution_count": 4
        }
      ],
      "source": [
        "#only want closing price for\n",
        "bitcoin_prices = pd.DataFrame(df[\"Closing Price (USD)\"]).rename(columns={\"Closing Price (USD)\": \"Price\"})\n",
        "bitcoin_prices.head()"
      ]
    },
    {
      "cell_type": "code",
      "execution_count": 5,
      "metadata": {
        "colab": {
          "base_uri": "https://localhost:8080/",
          "height": 657
        },
        "id": "nWKAjh81fq2t",
        "outputId": "41b83925-89ab-4304-b41f-d34a2ba96f9c"
      },
      "outputs": [
        {
          "output_type": "display_data",
          "data": {
            "text/plain": [
              "<Figure size 1000x700 with 1 Axes>"
            ],
            "image/png": "[encoded data removed]"
          },
          "metadata": {}
        }
      ],
      "source": [
        "import matplotlib.pyplot as plt\n",
        "bitcoin_prices.plot(figsize=(10, 7))\n",
        "plt.title(\"Prices of Bitcoin from 1 oct 2013 to 18 may 2021\", fontsize=16)\n",
        "plt.xlabel(\"Date\", fontsize=20)\n",
        "plt.ylabel(\"Price\", fontsize=20)\n",
        "plt.legend(fontsize=16)\n",
        "plt.show()"
      ]
    },
    {
      "cell_type": "code",
      "execution_count": 6,
      "metadata": {
        "colab": {
          "base_uri": "https://localhost:8080/"
        },
        "id": "G1OZdOcIgK_V",
        "outputId": "3a4fe70e-c745-48d5-a444-71194c1575de"
      },
      "outputs": [
        {
          "output_type": "execute_result",
          "data": {
            "text/plain": [
              "([datetime.datetime(2013, 10, 1, 0, 0),\n",
              "  datetime.datetime(2013, 10, 2, 0, 0),\n",
              "  datetime.datetime(2013, 10, 3, 0, 0),\n",
              "  datetime.datetime(2013, 10, 4, 0, 0),\n",
              "  datetime.datetime(2013, 10, 5, 0, 0),\n",
              "  datetime.datetime(2013, 10, 6, 0, 0),\n",
              "  datetime.datetime(2013, 10, 7, 0, 0),\n",
              "  datetime.datetime(2013, 10, 8, 0, 0),\n",
              "  datetime.datetime(2013, 10, 9, 0, 0),\n",
              "  datetime.datetime(2013, 10, 10, 0, 0)],\n",
              " [123.65499,\n",
              "  125.455,\n",
              "  108.58483,\n",
              "  118.67466,\n",
              "  121.33866,\n",
              "  120.65533,\n",
              "  121.795,\n",
              "  123.033,\n",
              "  124.049,\n",
              "  125.96116])"
            ]
          },
          "metadata": {},
          "execution_count": 6
        }
      ],
      "source": [
        "import csv\n",
        "from datetime import datetime\n",
        "\n",
        "timesteps = []\n",
        "btc_price = []\n",
        "with open(\"/content/BTC_USD_2013-10-01_2021-05-18-CoinDesk.csv\", \"r\")  as f:\n",
        "  csv_reader = csv.reader(f, delimiter=\",\")\n",
        "  next(csv_reader) #skip first line(this gets rid of the column titles)\n",
        "  for line in csv_reader:\n",
        "    timesteps.append(datetime.strptime(line[1], \"%Y-%m-%d\")) #get the dates as dates ( not strings), strptime\n",
        "    btc_price.append(float(line[2])) #get the closing price as float\n",
        "\n",
        "#View frist 10 of each\n",
        "timesteps[:10], btc_price[:10]"
      ]
    },
    {
      "cell_type": "code",
      "execution_count": 6,
      "metadata": {
        "id": "vJyHNu92kSHG"
      },
      "outputs": [],
      "source": []
    },
    {
      "cell_type": "code",
      "execution_count": 7,
      "metadata": {
        "colab": {
          "base_uri": "https://localhost:8080/"
        },
        "id": "-NILv03Vj_Pk",
        "outputId": "419bfbb7-2ebc-44ce-c447-55f83c538df0"
      },
      "outputs": [
        {
          "output_type": "execute_result",
          "data": {
            "text/plain": [
              "(array(['2013-10-01T00:00:00.000000000', '2013-10-02T00:00:00.000000000',\n",
              "        '2013-10-03T00:00:00.000000000', '2013-10-04T00:00:00.000000000',\n",
              "        '2013-10-05T00:00:00.000000000', '2013-10-06T00:00:00.000000000',\n",
              "        '2013-10-07T00:00:00.000000000', '2013-10-08T00:00:00.000000000',\n",
              "        '2013-10-09T00:00:00.000000000', '2013-10-10T00:00:00.000000000'],\n",
              "       dtype='datetime64[ns]'),\n",
              " array([123.65499, 125.455  , 108.58483, 118.67466, 121.33866, 120.65533,\n",
              "        121.795  , 123.033  , 124.049  , 125.96116]))"
            ]
          },
          "metadata": {},
          "execution_count": 7
        }
      ],
      "source": [
        "#get bitcoin date array\n",
        "timesteps = bitcoin_prices.index.to_numpy()\n",
        "prices = bitcoin_prices[\"Price\"].to_numpy()\n",
        "\n",
        "timesteps[:10], prices[:10]"
      ]
    },
    {
      "cell_type": "code",
      "execution_count": 8,
      "metadata": {
        "colab": {
          "base_uri": "https://localhost:8080/"
        },
        "id": "bCynSU5RkkQK",
        "outputId": "ad0f4a48-406b-47f3-b35d-0d52f52c56f7"
      },
      "outputs": [
        {
          "output_type": "execute_result",
          "data": {
            "text/plain": [
              "((2229,), (558,), (2229,), (558,))"
            ]
          },
          "metadata": {},
          "execution_count": 8
        }
      ],
      "source": [
        "# wrong way to make train/test sets for timr series\n",
        "\n",
        "from sklearn.model_selection import train_test_split\n",
        "\n",
        "X_train, X_test, y_train, y_test = train_test_split(timesteps, #dates\n",
        "                                                    prices, #prices\n",
        "                                                    test_size=0.2,\n",
        "                                                    random_state=42)\n",
        "X_train.shape, X_test.shape, y_train.shape, y_test.shape"
      ]
    },
    {
      "cell_type": "code",
      "execution_count": 9,
      "metadata": {
        "colab": {
          "base_uri": "https://localhost:8080/",
          "height": 649
        },
        "id": "em7XcHUFlSUv",
        "outputId": "084e7c21-3c2a-4cd7-eb3e-0e74fc446d5f"
      },
      "outputs": [
        {
          "output_type": "display_data",
          "data": {
            "text/plain": [
              "<Figure size 1000x700 with 1 Axes>"
            ],
            "image/png": "[encoded data removed]"
          },
          "metadata": {}
        }
      ],
      "source": [
        "plt.figure(figsize=(10, 7))\n",
        "plt.title(\"Bitcoin Prices\", fontsize=16)\n",
        "plt.xlabel(\"Date\", fontsize=16)\n",
        "plt.ylabel(\"Price\", fontsize=16)\n",
        "plt.scatter(X_train, y_train, s=5, label=\"Train data\")\n",
        "plt.scatter(X_test, y_test,s=5 ,label=\"Test data\")\n",
        "plt.legend()\n",
        "plt.show()"
      ]
    },
    {
      "cell_type": "code",
      "execution_count": 10,
      "metadata": {
        "colab": {
          "base_uri": "https://localhost:8080/"
        },
        "id": "Jy0PM5hxl2kf",
        "outputId": "de134125-e419-4041-d562-aa93b6c69fe8"
      },
      "outputs": [
        {
          "output_type": "execute_result",
          "data": {
            "text/plain": [
              "(2229, 558, 2229, 558)"
            ]
          },
          "metadata": {},
          "execution_count": 10
        }
      ],
      "source": [
        "#create train and test splits the right way for time series data\n",
        "split_size = int(0.80 * len(prices))\n",
        "# Create train data\n",
        "X_train, y_train = timesteps[:split_size], prices[:split_size]\n",
        "X_test, y_test = timesteps[split_size:], prices[split_size:]\n",
        "\n",
        "len(X_train), len(X_test), len(y_train), len(y_test)"
      ]
    },
    {
      "cell_type": "code",
      "execution_count": 11,
      "metadata": {
        "colab": {
          "base_uri": "https://localhost:8080/",
          "height": 647
        },
        "id": "FmFWibkKnc7N",
        "outputId": "cb4d01f4-6138-4455-abaf-0de98c7504d2"
      },
      "outputs": [
        {
          "output_type": "display_data",
          "data": {
            "text/plain": [
              "<Figure size 1000x700 with 1 Axes>"
            ],
            "image/png": "[encoded data removed]"
          },
          "metadata": {}
        }
      ],
      "source": [
        "plt.figure(figsize=(10, 7))\n",
        "plt.title(\"Bitcoin Prices\", fontsize=14)\n",
        "plt.xlabel(\"Date\", fontsize=14)\n",
        "plt.ylabel(\"Price\", fontsize=14)\n",
        "plt.scatter(X_train, y_train, s=2, label=\"Train data\")\n",
        "plt.scatter(X_test, y_test, s=2, label=\"Test data\")\n",
        "plt.legend()\n",
        "plt.show()"
      ]
    },
    {
      "cell_type": "code",
      "execution_count": 12,
      "metadata": {
        "id": "Lo0fPld-pGa5"
      },
      "outputs": [],
      "source": [
        "# Create a function to plot time series data\n",
        "def plot_time_series(timesteps, values, format='.', start=0, end=None, label=None):\n",
        "  \"\"\"\n",
        "  Plots a timesteps (a series of points in time) against values (a series of values across timesteps).\n",
        "\n",
        "  Parameters\n",
        "  ---------\n",
        "  timesteps : array of timesteps\n",
        "  values : array of values across time\n",
        "  format : style of plot, default \".\"\n",
        "  start : where to start the plot (setting a value will index from start of timesteps & values)\n",
        "  end : where to end the plot (setting a value will index from end of timesteps & values)\n",
        "  label : label to show on plot of values\n",
        "  \"\"\"\n",
        "  # Plot the series\n",
        "  plt.plot(timesteps[start:end], values[start:end], format, label=label)\n",
        "  plt.xlabel(\"Time\")\n",
        "  plt.ylabel(\"BTC Price\")\n",
        "  if label:\n",
        "    plt.legend(fontsize=14) # make label bigger\n",
        "  plt.grid(True)"
      ]
    },
    {
      "cell_type": "code",
      "execution_count": 13,
      "metadata": {
        "colab": {
          "base_uri": "https://localhost:8080/",
          "height": 619
        },
        "id": "89zj5HMXpz60",
        "outputId": "880e37ef-41c8-4611-dea1-f031ade3f9ce"
      },
      "outputs": [
        {
          "output_type": "display_data",
          "data": {
            "text/plain": [
              "<Figure size 1000x700 with 1 Axes>"
            ],
            "image/png": "[encoded data removed]"
          },
          "metadata": {}
        }
      ],
      "source": [
        "# Try out our plotting function\n",
        "plt.figure(figsize=(10, 7))\n",
        "plot_time_series(timesteps=X_train, values=y_train, label=\"Train data\")\n",
        "plot_time_series(timesteps=X_test, values=y_test, label=\"Test data\")"
      ]
    },
    {
      "cell_type": "code",
      "execution_count": 14,
      "metadata": {
        "colab": {
          "base_uri": "https://localhost:8080/"
        },
        "id": "Pk4mCBU8p2Cj",
        "outputId": "baa1d875-c17a-45b8-d31a-47b2f91036c3"
      },
      "outputs": [
        {
          "output_type": "execute_result",
          "data": {
            "text/plain": [
              "(array([9226.48582088, 8794.35864452, 8798.04205463, 9081.18687849,\n",
              "        8711.53433917, 8760.89271814, 8749.52059102, 8656.97092235,\n",
              "        8500.64355816, 8469.2608989 ]),\n",
              " array([57107.12067189, 58788.20967893, 58102.19142623, 55715.54665129,\n",
              "        56573.5554719 , 52147.82118698, 49764.1320816 , 50032.69313676,\n",
              "        47885.62525472, 45604.61575361]))"
            ]
          },
          "metadata": {},
          "execution_count": 14
        }
      ],
      "source": [
        "#naive a neaive forecast\n",
        "naive_forecast = y_test[:-1] # Naive forecast values\n",
        "naive_forecast[:10], naive_forecast[-10:] # View first 10 and last 10"
      ]
    },
    {
      "cell_type": "code",
      "execution_count": 15,
      "metadata": {
        "colab": {
          "base_uri": "https://localhost:8080/",
          "height": 619
        },
        "id": "mcWHhBD-rQPu",
        "outputId": "c4b402de-fba2-4d2b-c781-57d40b0b0259"
      },
      "outputs": [
        {
          "output_type": "display_data",
          "data": {
            "text/plain": [
              "<Figure size 1000x700 with 1 Axes>"
            ],
            "image/png": "[encoded data removed]"
          },
          "metadata": {}
        }
      ],
      "source": [
        "#plot naive forecast\n",
        "plt.figure(figsize=(10, 7))\n",
        "plot_time_series(timesteps=X_train, values=y_train, label=\"Train data\")\n",
        "plot_time_series(timesteps=X_test, values=y_test, label=\"Test data\")\n",
        "plot_time_series(timesteps=X_test[1:], values=naive_forecast, format=\"-\", label=\"Naive forecast\")"
      ]
    },
    {
      "cell_type": "code",
      "execution_count": 16,
      "metadata": {
        "colab": {
          "base_uri": "https://localhost:8080/",
          "height": 619
        },
        "id": "-J38GVsor2gb",
        "outputId": "203065b8-4c43-4ca6-b966-7395e0693899"
      },
      "outputs": [
        {
          "output_type": "display_data",
          "data": {
            "text/plain": [
              "<Figure size 1000x700 with 1 Axes>"
            ],
            "image/png": "[encoded data removed]"
          },
          "metadata": {}
        }
      ],
      "source": [
        "plt.figure(figsize=(10,7))\n",
        "offset = 300\n",
        "plot_time_series(timesteps=X_test, values=y_test, start=offset, format = '-',  label=\"Test data\")\n",
        "plot_time_series(timesteps=X_test[1:], values=naive_forecast, start=offset, format=\"-\", label=\"Naive forecast\")"
      ]
    },
    {
      "cell_type": "code",
      "execution_count": 17,
      "metadata": {
        "id": "OdhPgzzO0aZv"
      },
      "outputs": [],
      "source": [
        "import tensorflow as tf"
      ]
    },
    {
      "cell_type": "code",
      "execution_count": 18,
      "metadata": {
        "id": "tShud1UT0vBs"
      },
      "outputs": [],
      "source": [
        "#https://github.com/alan-turing-institute/sktime/blob/ee7a06843a44f4aaec7582d847e36073a9ab0566/sktime/performance_metrics/forecasting/_functions.py#L16\n",
        "\n",
        "def mean_absolute_percentage_error(y_true, y_pred):\n",
        "  \"\"\"\n",
        "  Implement MASE (assuming no seasonality of data).\n",
        "\n",
        "  \"\"\"\n",
        "  mae = tf.reduce_mean(tf.abs(y_true - y_pred))\n",
        "\n",
        "  #find mae of naive forecast ( no seasonality)\n",
        "  mae_naive_no_season = tf.reduce_mean(tf.abs(y_true[1:] - y_true[:-1])) #our seasonality is 1 day (hence the shifting of 1 day)\n",
        "\n",
        "  return mae/mae_naive_no_season\n",
        "\n"
      ]
    },
    {
      "cell_type": "code",
      "execution_count": 19,
      "metadata": {
        "id": "EUJkQJ_M1v-A"
      },
      "outputs": [],
      "source": [
        "def evaluate_preds(y_true, y_pred):\n",
        "  #make sure float32(for metric calculations)\n",
        "  y_true = tf.cast(y_true, dtype=tf.float32)\n",
        "  y_pred = tf.cast(y_pred, dtype=tf.float32)\n",
        "\n",
        "  #Calculate various metrics\n",
        "  mae = tf.keras.metrics.mean_absolute_error(y_true, y_pred)\n",
        "  mse = tf.keras.metrics.mean_squared_error(y_true, y_pred) # puts and emphasis on outliers (all errors get squared\n",
        "  rmse = tf.sqrt(mse)\n",
        "  mape = tf.keras.metrics.mean_absolute_percentage_error(y_true, y_pred)\n",
        "  mase = mean_absolute_percentage_error(y_true, y_pred)\n",
        "\n",
        "  return {\"mae\":mae.numpy(),\n",
        "          \"mse\":mse.numpy(),\n",
        "          \"rmse\":rmse.numpy(),\n",
        "          \"mape\":mape.numpy(),\n",
        "          \"mase\":mase.numpy()}"
      ]
    },
    {
      "cell_type": "code",
      "execution_count": 20,
      "metadata": {
        "colab": {
          "base_uri": "https://localhost:8080/"
        },
        "id": "n1ngj5Dk20Fx",
        "outputId": "0370cee5-a0af-4066-a628-952d6ee690c2"
      },
      "outputs": [
        {
          "output_type": "execute_result",
          "data": {
            "text/plain": [
              "{'mae': 567.9802,\n",
              " 'mse': 1147547.0,\n",
              " 'rmse': 1071.2362,\n",
              " 'mape': 2.5165248,\n",
              " 'mase': 0.99957}"
            ]
          },
          "metadata": {},
          "execution_count": 20
        }
      ],
      "source": [
        "naive_results = evaluate_preds(y_true=y_test[1:],\n",
        "                               y_pred=naive_forecast)\n",
        "naive_results"
      ]
    },
    {
      "cell_type": "code",
      "execution_count": 21,
      "metadata": {
        "colab": {
          "base_uri": "https://localhost:8080/"
        },
        "id": "KlHOMyIs26XA",
        "outputId": "94cc90c4-8efd-46cc-8231-6887003befff"
      },
      "outputs": [
        {
          "output_type": "execute_result",
          "data": {
            "text/plain": [
              "20056.632963737226"
            ]
          },
          "metadata": {},
          "execution_count": 21
        }
      ],
      "source": [
        "tf.reduce_mean(y_test).numpy()"
      ]
    },
    {
      "cell_type": "markdown",
      "metadata": {
        "id": "vWkX8p683huS"
      },
      "source": [
        "#format data part 2: Windowing datasets"
      ]
    },
    {
      "cell_type": "code",
      "execution_count": 22,
      "metadata": {
        "id": "TXHiY_qW4kLU"
      },
      "outputs": [],
      "source": [
        "HORIZON =1\n",
        "WINDOW_SIZE =7"
      ]
    },
    {
      "cell_type": "code",
      "execution_count": 23,
      "metadata": {
        "id": "6HjV_M4K65dg"
      },
      "outputs": [],
      "source": [
        "import numpy as np\n"
      ]
    },
    {
      "cell_type": "code",
      "execution_count": 24,
      "metadata": {
        "id": "bBZwgYnU4980"
      },
      "outputs": [],
      "source": [
        "def get_labelled_window(x, horizon=1):\n",
        "  \"\"\"\n",
        "  Create labels for windowed dataset.\n",
        "  E.g. if horizon=1 then input\n",
        "  input: [1,2,3,4,5] -> output: ([1,2,3,4], [5])\n",
        "  \"\"\"\n",
        "  return x[:, :-horizon], x[:, -horizon:]"
      ]
    },
    {
      "cell_type": "code",
      "execution_count": 25,
      "metadata": {
        "colab": {
          "base_uri": "https://localhost:8080/"
        },
        "id": "yD5kUXHy5fyr",
        "outputId": "8ec1ff85-a9b8-444c-d8bc-aaf0369ac123"
      },
      "outputs": [
        {
          "output_type": "stream",
          "name": "stdout",
          "text": [
            "Window: [ 4  5  6  7  8  9 10] -> Label: 11\n"
          ]
        }
      ],
      "source": [
        "#test out the window labelling function\n",
        "test_window, test_label = get_labelled_window(tf.expand_dims(tf.range(8)+4, axis=0), horizon=HORIZON)\n",
        "print(f\"Window: {tf.squeeze(test_window).numpy()} -> Label: {tf.squeeze(test_label).numpy()}\")"
      ]
    },
    {
      "cell_type": "code",
      "execution_count": 26,
      "metadata": {
        "id": "Pdcxf3WT6_3-"
      },
      "outputs": [],
      "source": [
        "#create function to view NumPy arrays as windoms\n",
        "def make_windows(x, window_size=7, horizon=1):\n",
        "  \"\"\"\n",
        "  Turns a 1D array into a 2D array of sequential labelled windows of window_size.\n",
        "  \"\"\"\n",
        "\n",
        "  window_step = np.expand_dims(np.arange(window_size+horizon), axis=0)\n",
        "  #print(f\"Wimdow step:\\n{window_step}\"\")\n",
        "\n",
        "  #2. Create a 2D array of multiple window steps (minus 1 to acouunt for indexing)\n",
        "  window_indexes = window_step + np.expand_dims(np.arange(len(x)-(window_size+horizon-1)), axis=0).T #create 2D array of windows of size window_size\n",
        "  #print(f\"Window indexes:\\n{window_indexes[:3], window_indexes[-3:], window_indexes.shape}\")\n",
        "\n",
        "  #3. Index on the target array (times series ) with 2D array of multipe window steps\n",
        "  windowed_array = x[window_indexes]\n",
        "\n",
        "  #4. Get the labelled windows\n",
        "  windows, labels = get_labelled_window(windowed_array, horizon=horizon)\n",
        "  return windows, labels"
      ]
    },
    {
      "cell_type": "code",
      "execution_count": 27,
      "metadata": {
        "colab": {
          "base_uri": "https://localhost:8080/"
        },
        "id": "Knr2zmwT6AW7",
        "outputId": "b43d8f7c-1a69-4f8c-b9aa-72792fbe5728"
      },
      "outputs": [
        {
          "output_type": "execute_result",
          "data": {
            "text/plain": [
              "(2780, 2780)"
            ]
          },
          "metadata": {},
          "execution_count": 27
        }
      ],
      "source": [
        "full_windows, full_labels = make_windows(prices, window_size=WINDOW_SIZE, horizon=HORIZON)\n",
        "len(full_windows), len(full_labels)"
      ]
    },
    {
      "cell_type": "code",
      "execution_count": 28,
      "metadata": {
        "colab": {
          "base_uri": "https://localhost:8080/"
        },
        "id": "fEXnCXtC8q_5",
        "outputId": "06167f46-8049-4eaf-cd3b-865d451a2f5d"
      },
      "outputs": [
        {
          "output_type": "stream",
          "name": "stdout",
          "text": [
            "Window: [123.65499 125.455   108.58483 118.67466 121.33866 120.65533 121.795  ] -> Label: [123.033]\n",
            "Window: [125.455   108.58483 118.67466 121.33866 120.65533 121.795   123.033  ] -> Label: [124.049]\n",
            "Window: [108.58483 118.67466 121.33866 120.65533 121.795   123.033   124.049  ] -> Label: [125.96116]\n"
          ]
        }
      ],
      "source": [
        "# view the first 3 windows/labels\n",
        "for i in range(3):\n",
        "  print(f\"Window: {full_windows[i]} -> Label: {full_labels[i]}\")"
      ]
    },
    {
      "cell_type": "code",
      "execution_count": 29,
      "metadata": {
        "colab": {
          "base_uri": "https://localhost:8080/"
        },
        "id": "opn_KdGm9SnU",
        "outputId": "6431abf7-7ee9-4bd7-a044-2a13cd391ea5"
      },
      "outputs": [
        {
          "output_type": "stream",
          "name": "stdout",
          "text": [
            "Window: [58788.20967893 58102.19142623 55715.54665129 56573.5554719\n",
            " 52147.82118698 49764.1320816  50032.69313676]--> label: [47885.62525472]\n",
            "Window: [58102.19142623 55715.54665129 56573.5554719  52147.82118698\n",
            " 49764.1320816  50032.69313676 47885.62525472]--> label: [45604.61575361]\n",
            "Window: [55715.54665129 56573.5554719  52147.82118698 49764.1320816\n",
            " 50032.69313676 47885.62525472 45604.61575361]--> label: [43144.47129086]\n"
          ]
        }
      ],
      "source": [
        "#view the last 3 windows/labels\n",
        "for i in range(3):\n",
        "  print(f\"Window: {full_windows[i-3]}--> label: {full_labels[i-3]}\")"
      ]
    },
    {
      "cell_type": "code",
      "execution_count": 30,
      "metadata": {
        "id": "BYSXK7id_pbg"
      },
      "outputs": [],
      "source": [
        "#Make the train/test splits\n",
        "def make_train_test_splits(windows, labels, test_split=0.2):\n",
        "  \"\"\"\n",
        "  Splits matching pairs of windows and labels into train and test splits.\n",
        "  \"\"\"\n",
        "  split_size = int(len(windows) * (1-test_split)) # this will default to 80% train/20% test\n",
        "  train_windows = windows[:split_size]\n",
        "  train_labels = labels[:split_size]\n",
        "  test_windows = windows[split_size:]\n",
        "  test_labels = labels[split_size:]\n",
        "  return train_windows, test_windows, train_labels, test_labels"
      ]
    },
    {
      "cell_type": "code",
      "execution_count": 31,
      "metadata": {
        "colab": {
          "base_uri": "https://localhost:8080/"
        },
        "id": "s5JuRmmKAtcE",
        "outputId": "5a773c72-524c-4c46-d6eb-7c6f4b03a46c"
      },
      "outputs": [
        {
          "output_type": "execute_result",
          "data": {
            "text/plain": [
              "(2224, 556, 2224, 556)"
            ]
          },
          "metadata": {},
          "execution_count": 31
        }
      ],
      "source": [
        "train_windows, test_windows, train_labels, test_labels = make_train_test_splits(full_windows, full_labels)\n",
        "len(train_windows), len(test_windows), len(train_labels), len(test_labels)"
      ]
    },
    {
      "cell_type": "code",
      "execution_count": 32,
      "metadata": {
        "colab": {
          "base_uri": "https://localhost:8080/"
        },
        "id": "k38nM2R9Bfzs",
        "outputId": "453c7f52-07b3-479f-e147-012bf0b3cb6e"
      },
      "outputs": [
        {
          "output_type": "execute_result",
          "data": {
            "text/plain": [
              "(array([[123.65499, 125.455  , 108.58483, 118.67466, 121.33866, 120.65533,\n",
              "         121.795  ],\n",
              "        [125.455  , 108.58483, 118.67466, 121.33866, 120.65533, 121.795  ,\n",
              "         123.033  ],\n",
              "        [108.58483, 118.67466, 121.33866, 120.65533, 121.795  , 123.033  ,\n",
              "         124.049  ],\n",
              "        [118.67466, 121.33866, 120.65533, 121.795  , 123.033  , 124.049  ,\n",
              "         125.96116],\n",
              "        [121.33866, 120.65533, 121.795  , 123.033  , 124.049  , 125.96116,\n",
              "         125.27966]]),\n",
              " array([[123.033  ],\n",
              "        [124.049  ],\n",
              "        [125.96116],\n",
              "        [125.27966],\n",
              "        [125.9275 ]]))"
            ]
          },
          "metadata": {},
          "execution_count": 32
        }
      ],
      "source": [
        "train_windows[:5], train_labels[:5]"
      ]
    },
    {
      "cell_type": "code",
      "execution_count": 33,
      "metadata": {
        "id": "k75tko6ZBn_r"
      },
      "outputs": [],
      "source": [
        "import os\n",
        "#create a function to implement a ModelCheckpoint callback with specific filename\n",
        "def create_model_checkpoint(model_name, save_path=\"model_experiments\"):\n",
        "  return tf.keras.callbacks.ModelCheckpoint(filepath=os.path.join(save_path, model_name), #create filepath to save model\n",
        "                                            verbose=0, # only output a limited amount of text\n",
        "                                            save_best_only=True) # save only the best model to file"
      ]
    },
    {
      "cell_type": "markdown",
      "metadata": {
        "id": "zX_2eqDTC5_H"
      },
      "source": [
        "#Model 1 : Dense Model(window =7 , horizon= 1)"
      ]
    },
    {
      "cell_type": "code",
      "execution_count": 34,
      "metadata": {
        "colab": {
          "base_uri": "https://localhost:8080/"
        },
        "id": "SwEhZvBTDFiR",
        "outputId": "b5618e88-936d-412d-f4f8-2501500047b9"
      },
      "outputs": [
        {
          "output_type": "stream",
          "name": "stdout",
          "text": [
            "Epoch 1/100\n",
            "18/18 [==============================] - 6s 163ms/step - loss: 1306.9731 - mae: 1306.9731 - val_loss: 2974.3489 - val_mae: 2974.3489\n",
            "Epoch 2/100\n",
            "18/18 [==============================] - 2s 88ms/step - loss: 328.3396 - mae: 328.3396 - val_loss: 1397.9098 - val_mae: 1397.9098\n",
            "Epoch 3/100\n",
            "18/18 [==============================] - 1s 34ms/step - loss: 200.0437 - mae: 200.0437 - val_loss: 1163.2460 - val_mae: 1163.2460\n",
            "Epoch 4/100\n",
            "18/18 [==============================] - 1s 31ms/step - loss: 164.0226 - mae: 164.0226 - val_loss: 909.2021 - val_mae: 909.2021\n",
            "Epoch 5/100\n",
            "18/18 [==============================] - 1s 52ms/step - loss: 154.5507 - mae: 154.5507 - val_loss: 824.4680 - val_mae: 824.4680\n",
            "Epoch 6/100\n",
            "18/18 [==============================] - 0s 5ms/step - loss: 151.3284 - mae: 151.3284 - val_loss: 854.7235 - val_mae: 854.7235\n",
            "Epoch 7/100\n",
            "18/18 [==============================] - 1s 34ms/step - loss: 144.7657 - mae: 144.7657 - val_loss: 768.7689 - val_mae: 768.7689\n",
            "Epoch 8/100\n",
            "18/18 [==============================] - 1s 33ms/step - loss: 141.2283 - mae: 141.2283 - val_loss: 756.1894 - val_mae: 756.1894\n",
            "Epoch 9/100\n",
            "18/18 [==============================] - 0s 5ms/step - loss: 136.9185 - mae: 136.9185 - val_loss: 773.0387 - val_mae: 773.0387\n",
            "Epoch 10/100\n",
            "18/18 [==============================] - 0s 4ms/step - loss: 132.9169 - mae: 132.9169 - val_loss: 772.7852 - val_mae: 772.7852\n",
            "Epoch 11/100\n",
            "18/18 [==============================] - 1s 34ms/step - loss: 134.9298 - mae: 134.9298 - val_loss: 713.4041 - val_mae: 713.4041\n",
            "Epoch 12/100\n",
            "18/18 [==============================] - 1s 37ms/step - loss: 129.3946 - mae: 129.3946 - val_loss: 702.3661 - val_mae: 702.3661\n",
            "Epoch 13/100\n",
            "18/18 [==============================] - 0s 5ms/step - loss: 126.7121 - mae: 126.7121 - val_loss: 727.5344 - val_mae: 727.5344\n",
            "Epoch 14/100\n",
            "18/18 [==============================] - 0s 6ms/step - loss: 125.2391 - mae: 125.2391 - val_loss: 772.1069 - val_mae: 772.1069\n",
            "Epoch 15/100\n",
            "18/18 [==============================] - 0s 6ms/step - loss: 133.4814 - mae: 133.4814 - val_loss: 810.7421 - val_mae: 810.7421\n",
            "Epoch 16/100\n",
            "18/18 [==============================] - 0s 4ms/step - loss: 131.7543 - mae: 131.7543 - val_loss: 715.8368 - val_mae: 715.8368\n",
            "Epoch 17/100\n",
            "18/18 [==============================] - 1s 36ms/step - loss: 127.0909 - mae: 127.0909 - val_loss: 667.8060 - val_mae: 667.8060\n",
            "Epoch 18/100\n",
            "18/18 [==============================] - 1s 34ms/step - loss: 123.0021 - mae: 123.0021 - val_loss: 656.2072 - val_mae: 656.2072\n",
            "Epoch 19/100\n",
            "18/18 [==============================] - 1s 40ms/step - loss: 120.7618 - mae: 120.7618 - val_loss: 652.6922 - val_mae: 652.6922\n",
            "Epoch 20/100\n",
            "18/18 [==============================] - 1s 52ms/step - loss: 119.2595 - mae: 119.2595 - val_loss: 646.0246 - val_mae: 646.0246\n",
            "Epoch 21/100\n",
            "18/18 [==============================] - 0s 8ms/step - loss: 118.2015 - mae: 118.2015 - val_loss: 664.6271 - val_mae: 664.6271\n",
            "Epoch 22/100\n",
            "18/18 [==============================] - 1s 55ms/step - loss: 118.0164 - mae: 118.0164 - val_loss: 640.0322 - val_mae: 640.0322\n",
            "Epoch 23/100\n",
            "18/18 [==============================] - 0s 8ms/step - loss: 116.7287 - mae: 116.7287 - val_loss: 686.8013 - val_mae: 686.8013\n",
            "Epoch 24/100\n",
            "18/18 [==============================] - 0s 11ms/step - loss: 125.0928 - mae: 125.0928 - val_loss: 663.9709 - val_mae: 663.9709\n",
            "Epoch 25/100\n",
            "18/18 [==============================] - 0s 10ms/step - loss: 118.6883 - mae: 118.6883 - val_loss: 722.7554 - val_mae: 722.7554\n",
            "Epoch 26/100\n",
            "18/18 [==============================] - 1s 37ms/step - loss: 124.9942 - mae: 124.9942 - val_loss: 625.7676 - val_mae: 625.7676\n",
            "Epoch 27/100\n",
            "18/18 [==============================] - 0s 4ms/step - loss: 120.6159 - mae: 120.6159 - val_loss: 708.5919 - val_mae: 708.5919\n",
            "Epoch 28/100\n",
            "18/18 [==============================] - 0s 5ms/step - loss: 121.2071 - mae: 121.2071 - val_loss: 632.2807 - val_mae: 632.2807\n",
            "Epoch 29/100\n",
            "18/18 [==============================] - 0s 5ms/step - loss: 119.4307 - mae: 119.4307 - val_loss: 634.1349 - val_mae: 634.1349\n",
            "Epoch 30/100\n",
            "18/18 [==============================] - 0s 4ms/step - loss: 115.4341 - mae: 115.4341 - val_loss: 638.7138 - val_mae: 638.7138\n",
            "Epoch 31/100\n",
            "18/18 [==============================] - 1s 30ms/step - loss: 113.4362 - mae: 113.4362 - val_loss: 614.0718 - val_mae: 614.0718\n",
            "Epoch 32/100\n",
            "18/18 [==============================] - 1s 35ms/step - loss: 113.4204 - mae: 113.4204 - val_loss: 609.7945 - val_mae: 609.7945\n",
            "Epoch 33/100\n",
            "18/18 [==============================] - 1s 34ms/step - loss: 113.1115 - mae: 113.1115 - val_loss: 606.8458 - val_mae: 606.8458\n",
            "Epoch 34/100\n",
            "18/18 [==============================] - 0s 6ms/step - loss: 113.4478 - mae: 113.4478 - val_loss: 638.8286 - val_mae: 638.8286\n",
            "Epoch 35/100\n",
            "18/18 [==============================] - 0s 5ms/step - loss: 114.6181 - mae: 114.6181 - val_loss: 660.4328 - val_mae: 660.4328\n",
            "Epoch 36/100\n",
            "18/18 [==============================] - 0s 5ms/step - loss: 114.9486 - mae: 114.9486 - val_loss: 713.9968 - val_mae: 713.9968\n",
            "Epoch 37/100\n",
            "18/18 [==============================] - 1s 32ms/step - loss: 118.7148 - mae: 118.7148 - val_loss: 599.8897 - val_mae: 599.8897\n",
            "Epoch 38/100\n",
            "18/18 [==============================] - 0s 4ms/step - loss: 114.6063 - mae: 114.6063 - val_loss: 722.7454 - val_mae: 722.7454\n",
            "Epoch 39/100\n",
            "18/18 [==============================] - 0s 5ms/step - loss: 119.2722 - mae: 119.2722 - val_loss: 605.8197 - val_mae: 605.8197\n",
            "Epoch 40/100\n",
            "18/18 [==============================] - 0s 5ms/step - loss: 117.1052 - mae: 117.1052 - val_loss: 617.2772 - val_mae: 617.2772\n",
            "Epoch 41/100\n",
            "18/18 [==============================] - 0s 4ms/step - loss: 112.9727 - mae: 112.9727 - val_loss: 622.8723 - val_mae: 622.8723\n",
            "Epoch 42/100\n",
            "18/18 [==============================] - 1s 29ms/step - loss: 115.2147 - mae: 115.2147 - val_loss: 590.8765 - val_mae: 590.8765\n",
            "Epoch 43/100\n",
            "18/18 [==============================] - 0s 5ms/step - loss: 112.0734 - mae: 112.0734 - val_loss: 591.8622 - val_mae: 591.8622\n",
            "Epoch 44/100\n",
            "18/18 [==============================] - 0s 4ms/step - loss: 110.4704 - mae: 110.4704 - val_loss: 597.7560 - val_mae: 597.7560\n",
            "Epoch 45/100\n",
            "18/18 [==============================] - 0s 5ms/step - loss: 112.0291 - mae: 112.0291 - val_loss: 676.6176 - val_mae: 676.6176\n",
            "Epoch 46/100\n",
            "18/18 [==============================] - 1s 31ms/step - loss: 113.7819 - mae: 113.7819 - val_loss: 589.0162 - val_mae: 589.0162\n",
            "Epoch 47/100\n",
            "18/18 [==============================] - 0s 5ms/step - loss: 114.1111 - mae: 114.1111 - val_loss: 598.0008 - val_mae: 598.0008\n",
            "Epoch 48/100\n",
            "18/18 [==============================] - 0s 4ms/step - loss: 112.7428 - mae: 112.7428 - val_loss: 649.2944 - val_mae: 649.2944\n",
            "Epoch 49/100\n",
            "18/18 [==============================] - 0s 5ms/step - loss: 114.9903 - mae: 114.9903 - val_loss: 597.1830 - val_mae: 597.1830\n",
            "Epoch 50/100\n",
            "18/18 [==============================] - 1s 37ms/step - loss: 111.4820 - mae: 111.4820 - val_loss: 588.9664 - val_mae: 588.9664\n",
            "Epoch 51/100\n",
            "18/18 [==============================] - 0s 5ms/step - loss: 110.0095 - mae: 110.0095 - val_loss: 613.6652 - val_mae: 613.6652\n",
            "Epoch 52/100\n",
            "18/18 [==============================] - 0s 6ms/step - loss: 117.4629 - mae: 117.4629 - val_loss: 632.5303 - val_mae: 632.5303\n",
            "Epoch 53/100\n",
            "18/18 [==============================] - 0s 5ms/step - loss: 114.2986 - mae: 114.2986 - val_loss: 643.3134 - val_mae: 643.3134\n",
            "Epoch 54/100\n",
            "18/18 [==============================] - 0s 6ms/step - loss: 112.3100 - mae: 112.3100 - val_loss: 620.4312 - val_mae: 620.4312\n",
            "Epoch 55/100\n",
            "18/18 [==============================] - 0s 6ms/step - loss: 112.7841 - mae: 112.7841 - val_loss: 619.9732 - val_mae: 619.9732\n",
            "Epoch 56/100\n",
            "18/18 [==============================] - 0s 8ms/step - loss: 109.3605 - mae: 109.3605 - val_loss: 630.3349 - val_mae: 630.3349\n",
            "Epoch 57/100\n",
            "18/18 [==============================] - 0s 7ms/step - loss: 111.1667 - mae: 111.1667 - val_loss: 610.6238 - val_mae: 610.6238\n",
            "Epoch 58/100\n",
            "18/18 [==============================] - 1s 34ms/step - loss: 110.7421 - mae: 110.7421 - val_loss: 580.4698 - val_mae: 580.4698\n",
            "Epoch 59/100\n",
            "18/18 [==============================] - 1s 30ms/step - loss: 108.5884 - mae: 108.5884 - val_loss: 576.0599 - val_mae: 576.0599\n",
            "Epoch 60/100\n",
            "18/18 [==============================] - 0s 5ms/step - loss: 109.4315 - mae: 109.4315 - val_loss: 627.1172 - val_mae: 627.1172\n",
            "Epoch 61/100\n",
            "18/18 [==============================] - 0s 4ms/step - loss: 116.0126 - mae: 116.0126 - val_loss: 607.4105 - val_mae: 607.4105\n",
            "Epoch 62/100\n",
            "18/18 [==============================] - 0s 4ms/step - loss: 118.0263 - mae: 118.0263 - val_loss: 614.4973 - val_mae: 614.4973\n",
            "Epoch 63/100\n",
            "18/18 [==============================] - 0s 5ms/step - loss: 109.3590 - mae: 109.3590 - val_loss: 617.5067 - val_mae: 617.5067\n",
            "Epoch 64/100\n",
            "18/18 [==============================] - 0s 4ms/step - loss: 110.1076 - mae: 110.1076 - val_loss: 612.5934 - val_mae: 612.5934\n",
            "Epoch 65/100\n",
            "18/18 [==============================] - 0s 5ms/step - loss: 109.0006 - mae: 109.0006 - val_loss: 723.1840 - val_mae: 723.1840\n",
            "Epoch 66/100\n",
            "18/18 [==============================] - 0s 5ms/step - loss: 119.3287 - mae: 119.3287 - val_loss: 641.2501 - val_mae: 641.2501\n",
            "Epoch 67/100\n",
            "18/18 [==============================] - 0s 8ms/step - loss: 108.0418 - mae: 108.0418 - val_loss: 592.8900 - val_mae: 592.8900\n",
            "Epoch 68/100\n",
            "18/18 [==============================] - 0s 6ms/step - loss: 108.8654 - mae: 108.8654 - val_loss: 621.8875 - val_mae: 621.8875\n",
            "Epoch 69/100\n",
            "18/18 [==============================] - 0s 5ms/step - loss: 117.2975 - mae: 117.2975 - val_loss: 653.8900 - val_mae: 653.8900\n",
            "Epoch 70/100\n",
            "18/18 [==============================] - 0s 5ms/step - loss: 114.4427 - mae: 114.4427 - val_loss: 608.9371 - val_mae: 608.9371\n",
            "Epoch 71/100\n",
            "18/18 [==============================] - 0s 5ms/step - loss: 111.8668 - mae: 111.8668 - val_loss: 717.9551 - val_mae: 717.9551\n",
            "Epoch 72/100\n",
            "18/18 [==============================] - 0s 8ms/step - loss: 112.8378 - mae: 112.8378 - val_loss: 582.0279 - val_mae: 582.0279\n",
            "Epoch 73/100\n",
            "18/18 [==============================] - 1s 32ms/step - loss: 106.7527 - mae: 106.7527 - val_loss: 573.2272 - val_mae: 573.2272\n",
            "Epoch 74/100\n",
            "18/18 [==============================] - 0s 4ms/step - loss: 112.8669 - mae: 112.8669 - val_loss: 621.2775 - val_mae: 621.2775\n",
            "Epoch 75/100\n",
            "18/18 [==============================] - 1s 44ms/step - loss: 109.1599 - mae: 109.1599 - val_loss: 570.7241 - val_mae: 570.7241\n",
            "Epoch 76/100\n",
            "18/18 [==============================] - 0s 11ms/step - loss: 106.5843 - mae: 106.5843 - val_loss: 581.4861 - val_mae: 581.4861\n",
            "Epoch 77/100\n",
            "18/18 [==============================] - 0s 9ms/step - loss: 107.5406 - mae: 107.5406 - val_loss: 579.1420 - val_mae: 579.1420\n",
            "Epoch 78/100\n",
            "18/18 [==============================] - 0s 8ms/step - loss: 109.6915 - mae: 109.6915 - val_loss: 572.6098 - val_mae: 572.6098\n",
            "Epoch 79/100\n",
            "18/18 [==============================] - 0s 9ms/step - loss: 106.2902 - mae: 106.2902 - val_loss: 614.4898 - val_mae: 614.4898\n",
            "Epoch 80/100\n",
            "18/18 [==============================] - 0s 7ms/step - loss: 114.5707 - mae: 114.5707 - val_loss: 831.5101 - val_mae: 831.5101\n",
            "Epoch 81/100\n",
            "18/18 [==============================] - 0s 14ms/step - loss: 121.4072 - mae: 121.4072 - val_loss: 654.0693 - val_mae: 654.0693\n",
            "Epoch 82/100\n",
            "18/18 [==============================] - 0s 9ms/step - loss: 111.9118 - mae: 111.9118 - val_loss: 649.6119 - val_mae: 649.6119\n",
            "Epoch 83/100\n",
            "18/18 [==============================] - 1s 61ms/step - loss: 109.9666 - mae: 109.9666 - val_loss: 570.1994 - val_mae: 570.1994\n",
            "Epoch 84/100\n",
            "18/18 [==============================] - 0s 9ms/step - loss: 108.1178 - mae: 108.1178 - val_loss: 573.4092 - val_mae: 573.4092\n",
            "Epoch 85/100\n",
            "18/18 [==============================] - 0s 9ms/step - loss: 108.0791 - mae: 108.0791 - val_loss: 596.9565 - val_mae: 596.9565\n",
            "Epoch 86/100\n",
            "18/18 [==============================] - 1s 40ms/step - loss: 110.6876 - mae: 110.6876 - val_loss: 568.1757 - val_mae: 568.1757\n",
            "Epoch 87/100\n",
            "18/18 [==============================] - 0s 5ms/step - loss: 108.5933 - mae: 108.5933 - val_loss: 570.2365 - val_mae: 570.2365\n",
            "Epoch 88/100\n",
            "18/18 [==============================] - 1s 38ms/step - loss: 105.8236 - mae: 105.8236 - val_loss: 567.4927 - val_mae: 567.4927\n",
            "Epoch 89/100\n",
            "18/18 [==============================] - 0s 5ms/step - loss: 106.5884 - mae: 106.5884 - val_loss: 590.8369 - val_mae: 590.8369\n",
            "Epoch 90/100\n",
            "18/18 [==============================] - 0s 6ms/step - loss: 114.1529 - mae: 114.1529 - val_loss: 573.1130 - val_mae: 573.1130\n",
            "Epoch 91/100\n",
            "18/18 [==============================] - 0s 5ms/step - loss: 108.3890 - mae: 108.3890 - val_loss: 598.4229 - val_mae: 598.4229\n",
            "Epoch 92/100\n",
            "18/18 [==============================] - 0s 5ms/step - loss: 109.1965 - mae: 109.1965 - val_loss: 568.1165 - val_mae: 568.1165\n",
            "Epoch 93/100\n",
            "18/18 [==============================] - 0s 6ms/step - loss: 114.4814 - mae: 114.4814 - val_loss: 618.9685 - val_mae: 618.9685\n",
            "Epoch 94/100\n",
            "18/18 [==============================] - 0s 5ms/step - loss: 109.9271 - mae: 109.9271 - val_loss: 594.9678 - val_mae: 594.9678\n",
            "Epoch 95/100\n",
            "18/18 [==============================] - 0s 5ms/step - loss: 105.9853 - mae: 105.9853 - val_loss: 568.9415 - val_mae: 568.9415\n",
            "Epoch 96/100\n",
            "18/18 [==============================] - 0s 8ms/step - loss: 105.4423 - mae: 105.4423 - val_loss: 567.5867 - val_mae: 567.5867\n",
            "Epoch 97/100\n",
            "18/18 [==============================] - 0s 7ms/step - loss: 105.9445 - mae: 105.9445 - val_loss: 626.0443 - val_mae: 626.0443\n",
            "Epoch 98/100\n",
            "18/18 [==============================] - 0s 5ms/step - loss: 107.6539 - mae: 107.6539 - val_loss: 595.6238 - val_mae: 595.6238\n",
            "Epoch 99/100\n",
            "18/18 [==============================] - 0s 6ms/step - loss: 109.0336 - mae: 109.0336 - val_loss: 591.5461 - val_mae: 591.5461\n",
            "Epoch 100/100\n",
            "18/18 [==============================] - 0s 5ms/step - loss: 108.4119 - mae: 108.4119 - val_loss: 587.3733 - val_mae: 587.3733\n"
          ]
        },
        {
          "output_type": "execute_result",
          "data": {
            "text/plain": [
              "<keras.src.callbacks.History at 0x7eab521d2e00>"
            ]
          },
          "metadata": {},
          "execution_count": 34
        }
      ],
      "source": [
        "import tensorflow as tf\n",
        "from tensorflow.keras import layers\n",
        "\n",
        "\n",
        "model_1 = tf.keras.Sequential([\n",
        "    layers.Dense(128, activation=\"relu\"),\n",
        "    layers.Dense(HORIZON, activation=\"linear\")\n",
        "], name=\"model_1_dense\")\n",
        "\n",
        "#compile model\n",
        "model_1.compile(loss=\"mae\",\n",
        "               optimizer=tf.keras.optimizers.Adam(),\n",
        "               metrics=[\"mae\"])\n",
        "\n",
        "#fit model\n",
        "model_1.fit(x=train_windows,\n",
        "                        y=train_labels,\n",
        "                        epochs=100,\n",
        "                        verbose=1,\n",
        "                        batch_size=128,\n",
        "                        validation_data=(test_windows, test_labels),\n",
        "                        callbacks=[create_model_checkpoint(model_name=model_1.name)])"
      ]
    },
    {
      "cell_type": "code",
      "execution_count": 35,
      "metadata": {
        "colab": {
          "base_uri": "https://localhost:8080/"
        },
        "id": "o0tGZCX5EDDy",
        "outputId": "40843f1a-a71d-4ceb-fd9d-44f4068d13f9"
      },
      "outputs": [
        {
          "output_type": "stream",
          "name": "stdout",
          "text": [
            "18/18 [==============================] - 0s 3ms/step - loss: 587.3732 - mae: 587.3732\n"
          ]
        },
        {
          "output_type": "execute_result",
          "data": {
            "text/plain": [
              "[587.3732299804688, 587.3732299804688]"
            ]
          },
          "metadata": {},
          "execution_count": 35
        }
      ],
      "source": [
        "model_1.evaluate(test_windows, test_labels)"
      ]
    },
    {
      "cell_type": "code",
      "execution_count": 36,
      "metadata": {
        "colab": {
          "base_uri": "https://localhost:8080/"
        },
        "id": "0d7lC3kSGHPg",
        "outputId": "9f602169-b243-46e4-d9b7-c19bbbeeb89b"
      },
      "outputs": [
        {
          "output_type": "stream",
          "name": "stdout",
          "text": [
            "18/18 [==============================] - 0s 2ms/step - loss: 567.4927 - mae: 567.4927\n"
          ]
        },
        {
          "output_type": "execute_result",
          "data": {
            "text/plain": [
              "[567.49267578125, 567.49267578125]"
            ]
          },
          "metadata": {},
          "execution_count": 36
        }
      ],
      "source": [
        "model_1 = tf.keras.models.load_model(\"model_experiments/model_1_dense\")\n",
        "model_1.evaluate(test_windows, test_labels)"
      ]
    },
    {
      "cell_type": "code",
      "execution_count": 37,
      "metadata": {
        "id": "C0yIXF4kGyTD"
      },
      "outputs": [],
      "source": [
        "def make_preds(model, input_data):\n",
        "  \"\"\"\n",
        "  Uses model to make predictions on input data.\n",
        "  \"\"\"\n",
        "  forecast = model.predict(input_data)\n",
        "  return tf.squeeze(forecast)"
      ]
    },
    {
      "cell_type": "code",
      "execution_count": 38,
      "metadata": {
        "colab": {
          "base_uri": "https://localhost:8080/"
        },
        "id": "KYLomef7HpLw",
        "outputId": "36bf7e4f-44dc-4f44-d9db-1675942d581d"
      },
      "outputs": [
        {
          "output_type": "stream",
          "name": "stdout",
          "text": [
            "18/18 [==============================] - 0s 4ms/step\n"
          ]
        },
        {
          "output_type": "execute_result",
          "data": {
            "text/plain": [
              "<tf.Tensor: shape=(10,), dtype=float32, numpy=\n",
              "array([8867.048, 8779.414, 9037.186, 8780.754, 8723.793, 8759.504,\n",
              "       8678.27 , 8528.223, 8461.803, 8531.347], dtype=float32)>"
            ]
          },
          "metadata": {},
          "execution_count": 38
        }
      ],
      "source": [
        "#make prediction using mdoel_1 on the test datasets and view teh resukts\n",
        "\n",
        "model_1_preds = make_preds(model_1, test_windows)\n",
        "model_1_preds[:10]"
      ]
    },
    {
      "cell_type": "code",
      "execution_count": 39,
      "metadata": {
        "colab": {
          "base_uri": "https://localhost:8080/"
        },
        "id": "fsn5A8JvHnzV",
        "outputId": "a9dbeca6-01b4-47f4-9d6d-5e515e130c36"
      },
      "outputs": [
        {
          "output_type": "execute_result",
          "data": {
            "text/plain": [
              "{'mae': 567.4927,\n",
              " 'mse': 1170158.5,\n",
              " 'rmse': 1081.7386,\n",
              " 'mape': 2.536585,\n",
              " 'mase': 0.99692744}"
            ]
          },
          "metadata": {},
          "execution_count": 39
        }
      ],
      "source": [
        "#evaluate preds\n",
        "model_1_results = evaluate_preds(y_true=tf.squeeze(test_labels), # reduce to right shape\n",
        "                                y_pred=model_1_preds)\n",
        "model_1_results"
      ]
    },
    {
      "cell_type": "code",
      "execution_count": 40,
      "metadata": {
        "colab": {
          "base_uri": "https://localhost:8080/"
        },
        "id": "4rAX0-4zImhC",
        "outputId": "0ab696f2-41be-4ac7-9771-d64d99eab7fb"
      },
      "outputs": [
        {
          "output_type": "execute_result",
          "data": {
            "text/plain": [
              "{'mae': 567.9802,\n",
              " 'mse': 1147547.0,\n",
              " 'rmse': 1071.2362,\n",
              " 'mape': 2.5165248,\n",
              " 'mase': 0.99957}"
            ]
          },
          "metadata": {},
          "execution_count": 40
        }
      ],
      "source": [
        "naive_results"
      ]
    },
    {
      "cell_type": "markdown",
      "metadata": {
        "id": "gigIJzhzJVnC"
      },
      "source": [
        "#model_2"
      ]
    },
    {
      "cell_type": "code",
      "execution_count": 41,
      "metadata": {
        "id": "baeRKIb4J--v"
      },
      "outputs": [],
      "source": [
        "HORIZON =1\n",
        "WINDOW_SIZE =30"
      ]
    },
    {
      "cell_type": "code",
      "execution_count": 42,
      "metadata": {
        "colab": {
          "base_uri": "https://localhost:8080/"
        },
        "id": "y0ExRidFDe_d",
        "outputId": "528b1c1e-e991-47b1-d86e-b1815da6777d"
      },
      "outputs": [
        {
          "output_type": "execute_result",
          "data": {
            "text/plain": [
              "(2757, 2757)"
            ]
          },
          "metadata": {},
          "execution_count": 42
        }
      ],
      "source": [
        "full_windows, full_labels = make_windows(prices, window_size=WINDOW_SIZE, horizon=HORIZON)\n",
        "len(full_windows), len(full_labels)"
      ]
    },
    {
      "cell_type": "code",
      "execution_count": 43,
      "metadata": {
        "colab": {
          "base_uri": "https://localhost:8080/"
        },
        "id": "e5hgAe5XDkc9",
        "outputId": "43df409e-79f6-4031-d48f-d618a0963c9e"
      },
      "outputs": [
        {
          "output_type": "execute_result",
          "data": {
            "text/plain": [
              "(2205, 552, 2205, 552)"
            ]
          },
          "metadata": {},
          "execution_count": 43
        }
      ],
      "source": [
        "train_windows, test_windows, train_labels, test_labels = make_train_test_splits(full_windows, full_labels)\n",
        "len(train_windows), len(test_windows), len(train_labels), len(test_labels)"
      ]
    },
    {
      "cell_type": "code",
      "execution_count": 44,
      "metadata": {
        "colab": {
          "base_uri": "https://localhost:8080/"
        },
        "id": "PQ3hWCMxKTIw",
        "outputId": "fb9a791b-1194-422c-975d-58b7fc7d0e12"
      },
      "outputs": [
        {
          "output_type": "stream",
          "name": "stdout",
          "text": [
            "Epoch 1/100\n",
            "18/18 [==============================] - 2s 51ms/step - loss: 1118.7654 - val_loss: 4382.4370\n",
            "Epoch 2/100\n",
            "18/18 [==============================] - 1s 36ms/step - loss: 412.0276 - val_loss: 1726.6001\n",
            "Epoch 3/100\n",
            "18/18 [==============================] - 1s 33ms/step - loss: 293.7319 - val_loss: 1355.3373\n",
            "Epoch 4/100\n",
            "18/18 [==============================] - 1s 34ms/step - loss: 239.6823 - val_loss: 1220.3809\n",
            "Epoch 5/100\n",
            "18/18 [==============================] - 1s 33ms/step - loss: 202.4864 - val_loss: 1072.6035\n",
            "Epoch 6/100\n",
            "18/18 [==============================] - 0s 28ms/step - loss: 205.9414 - val_loss: 978.9050\n",
            "Epoch 7/100\n",
            "18/18 [==============================] - 0s 5ms/step - loss: 180.1791 - val_loss: 1148.7480\n",
            "Epoch 8/100\n",
            "18/18 [==============================] - 1s 32ms/step - loss: 172.3245 - val_loss: 977.9073\n",
            "Epoch 9/100\n",
            "18/18 [==============================] - 1s 41ms/step - loss: 155.9037 - val_loss: 852.5694\n",
            "Epoch 10/100\n",
            "18/18 [==============================] - 1s 49ms/step - loss: 155.0647 - val_loss: 835.7827\n",
            "Epoch 11/100\n",
            "18/18 [==============================] - 1s 50ms/step - loss: 148.1179 - val_loss: 810.5888\n",
            "Epoch 12/100\n",
            "18/18 [==============================] - 0s 7ms/step - loss: 140.3345 - val_loss: 811.5654\n",
            "Epoch 13/100\n",
            "18/18 [==============================] - 1s 52ms/step - loss: 142.8427 - val_loss: 789.0919\n",
            "Epoch 14/100\n",
            "18/18 [==============================] - 0s 8ms/step - loss: 148.8540 - val_loss: 923.3103\n",
            "Epoch 15/100\n",
            "18/18 [==============================] - 0s 6ms/step - loss: 138.1064 - val_loss: 883.2610\n",
            "Epoch 16/100\n",
            "18/18 [==============================] - 1s 30ms/step - loss: 155.9202 - val_loss: 771.1708\n",
            "Epoch 17/100\n",
            "18/18 [==============================] - 0s 4ms/step - loss: 138.8079 - val_loss: 992.6122\n",
            "Epoch 18/100\n",
            "18/18 [==============================] - 0s 4ms/step - loss: 139.2986 - val_loss: 781.1323\n",
            "Epoch 19/100\n",
            "18/18 [==============================] - 0s 4ms/step - loss: 137.1335 - val_loss: 1230.2183\n",
            "Epoch 20/100\n",
            "18/18 [==============================] - 1s 35ms/step - loss: 142.7673 - val_loss: 711.1237\n",
            "Epoch 21/100\n",
            "18/18 [==============================] - 0s 7ms/step - loss: 148.3837 - val_loss: 717.6201\n",
            "Epoch 22/100\n",
            "18/18 [==============================] - 0s 6ms/step - loss: 142.5289 - val_loss: 887.2515\n",
            "Epoch 23/100\n",
            "18/18 [==============================] - 0s 6ms/step - loss: 148.4836 - val_loss: 1186.3176\n",
            "Epoch 24/100\n",
            "18/18 [==============================] - 1s 37ms/step - loss: 139.3090 - val_loss: 687.3880\n",
            "Epoch 25/100\n",
            "18/18 [==============================] - 1s 36ms/step - loss: 123.8659 - val_loss: 680.0441\n",
            "Epoch 26/100\n",
            "18/18 [==============================] - 0s 5ms/step - loss: 129.2174 - val_loss: 933.3029\n",
            "Epoch 27/100\n",
            "18/18 [==============================] - 0s 5ms/step - loss: 144.9460 - val_loss: 751.4529\n",
            "Epoch 28/100\n",
            "18/18 [==============================] - 0s 5ms/step - loss: 121.2171 - val_loss: 680.8051\n",
            "Epoch 29/100\n",
            "18/18 [==============================] - 0s 5ms/step - loss: 128.8604 - val_loss: 1073.5867\n",
            "Epoch 30/100\n",
            "18/18 [==============================] - 0s 6ms/step - loss: 153.0400 - val_loss: 1169.7632\n",
            "Epoch 31/100\n",
            "18/18 [==============================] - 0s 5ms/step - loss: 167.8831 - val_loss: 1082.0602\n",
            "Epoch 32/100\n",
            "18/18 [==============================] - 1s 35ms/step - loss: 162.1227 - val_loss: 672.4414\n",
            "Epoch 33/100\n",
            "18/18 [==============================] - 1s 32ms/step - loss: 119.1421 - val_loss: 659.0527\n",
            "Epoch 34/100\n",
            "18/18 [==============================] - 0s 5ms/step - loss: 122.2275 - val_loss: 678.6656\n",
            "Epoch 35/100\n",
            "18/18 [==============================] - 0s 5ms/step - loss: 129.3952 - val_loss: 785.2358\n",
            "Epoch 36/100\n",
            "18/18 [==============================] - 0s 4ms/step - loss: 122.5247 - val_loss: 759.7455\n",
            "Epoch 37/100\n",
            "18/18 [==============================] - 0s 5ms/step - loss: 129.4884 - val_loss: 676.4233\n",
            "Epoch 38/100\n",
            "18/18 [==============================] - 0s 5ms/step - loss: 119.2364 - val_loss: 715.3991\n",
            "Epoch 39/100\n",
            "18/18 [==============================] - 0s 5ms/step - loss: 120.7042 - val_loss: 1087.9735\n",
            "Epoch 40/100\n",
            "18/18 [==============================] - 0s 5ms/step - loss: 180.0916 - val_loss: 665.5126\n",
            "Epoch 41/100\n",
            "18/18 [==============================] - 0s 5ms/step - loss: 136.1564 - val_loss: 735.3391\n",
            "Epoch 42/100\n",
            "18/18 [==============================] - 1s 33ms/step - loss: 130.8582 - val_loss: 656.2076\n",
            "Epoch 43/100\n",
            "18/18 [==============================] - 0s 5ms/step - loss: 116.9227 - val_loss: 704.2267\n",
            "Epoch 44/100\n",
            "18/18 [==============================] - 0s 5ms/step - loss: 124.6226 - val_loss: 685.1390\n",
            "Epoch 45/100\n",
            "18/18 [==============================] - 0s 4ms/step - loss: 129.5869 - val_loss: 843.2908\n",
            "Epoch 46/100\n",
            "18/18 [==============================] - 1s 30ms/step - loss: 134.7734 - val_loss: 652.2447\n",
            "Epoch 47/100\n",
            "18/18 [==============================] - 0s 4ms/step - loss: 145.5927 - val_loss: 657.5115\n",
            "Epoch 48/100\n",
            "18/18 [==============================] - 0s 5ms/step - loss: 140.0658 - val_loss: 804.0373\n",
            "Epoch 49/100\n",
            "18/18 [==============================] - 0s 4ms/step - loss: 139.7225 - val_loss: 1007.0471\n",
            "Epoch 50/100\n",
            "18/18 [==============================] - 0s 4ms/step - loss: 168.9012 - val_loss: 798.7843\n",
            "Epoch 51/100\n",
            "18/18 [==============================] - 1s 37ms/step - loss: 129.3493 - val_loss: 646.2706\n",
            "Epoch 52/100\n",
            "18/18 [==============================] - 0s 6ms/step - loss: 120.6168 - val_loss: 675.9237\n",
            "Epoch 53/100\n",
            "18/18 [==============================] - 0s 5ms/step - loss: 120.6635 - val_loss: 754.7113\n",
            "Epoch 54/100\n",
            "18/18 [==============================] - 0s 5ms/step - loss: 129.5149 - val_loss: 768.2773\n",
            "Epoch 55/100\n",
            "18/18 [==============================] - 0s 6ms/step - loss: 132.2711 - val_loss: 735.2827\n",
            "Epoch 56/100\n",
            "18/18 [==============================] - 0s 6ms/step - loss: 124.8773 - val_loss: 705.6774\n",
            "Epoch 57/100\n",
            "18/18 [==============================] - 0s 6ms/step - loss: 126.0157 - val_loss: 661.3132\n",
            "Epoch 58/100\n",
            "18/18 [==============================] - 0s 7ms/step - loss: 117.4753 - val_loss: 699.1224\n",
            "Epoch 59/100\n",
            "18/18 [==============================] - 1s 40ms/step - loss: 143.9613 - val_loss: 632.5461\n",
            "Epoch 60/100\n",
            "18/18 [==============================] - 0s 7ms/step - loss: 117.9341 - val_loss: 676.0327\n",
            "Epoch 61/100\n",
            "18/18 [==============================] - 0s 5ms/step - loss: 115.0418 - val_loss: 651.4261\n",
            "Epoch 62/100\n",
            "18/18 [==============================] - 0s 6ms/step - loss: 116.2882 - val_loss: 733.3893\n",
            "Epoch 63/100\n",
            "18/18 [==============================] - 0s 5ms/step - loss: 126.6327 - val_loss: 683.9309\n",
            "Epoch 64/100\n",
            "18/18 [==============================] - 0s 9ms/step - loss: 124.6349 - val_loss: 791.0949\n",
            "Epoch 65/100\n",
            "18/18 [==============================] - 0s 8ms/step - loss: 132.2656 - val_loss: 641.3787\n",
            "Epoch 66/100\n",
            "18/18 [==============================] - 0s 9ms/step - loss: 124.9253 - val_loss: 753.0935\n",
            "Epoch 67/100\n",
            "18/18 [==============================] - 0s 8ms/step - loss: 130.2057 - val_loss: 787.7993\n",
            "Epoch 68/100\n",
            "18/18 [==============================] - 1s 52ms/step - loss: 116.1645 - val_loss: 631.8354\n",
            "Epoch 69/100\n",
            "18/18 [==============================] - 0s 10ms/step - loss: 114.4223 - val_loss: 885.0109\n",
            "Epoch 70/100\n",
            "18/18 [==============================] - 0s 8ms/step - loss: 118.2896 - val_loss: 691.6492\n",
            "Epoch 71/100\n",
            "18/18 [==============================] - 0s 9ms/step - loss: 114.7919 - val_loss: 742.6434\n",
            "Epoch 72/100\n",
            "18/18 [==============================] - 0s 9ms/step - loss: 133.2595 - val_loss: 643.5372\n",
            "Epoch 73/100\n",
            "18/18 [==============================] - 0s 8ms/step - loss: 115.6934 - val_loss: 713.4844\n",
            "Epoch 74/100\n",
            "18/18 [==============================] - 0s 9ms/step - loss: 131.9029 - val_loss: 728.9053\n",
            "Epoch 75/100\n",
            "18/18 [==============================] - 1s 52ms/step - loss: 117.6090 - val_loss: 623.9296\n",
            "Epoch 76/100\n",
            "18/18 [==============================] - 0s 5ms/step - loss: 113.4145 - val_loss: 647.3175\n",
            "Epoch 77/100\n",
            "18/18 [==============================] - 1s 66ms/step - loss: 118.3631 - val_loss: 622.2941\n",
            "Epoch 78/100\n",
            "18/18 [==============================] - 0s 5ms/step - loss: 115.7710 - val_loss: 625.2182\n",
            "Epoch 79/100\n",
            "18/18 [==============================] - 0s 5ms/step - loss: 114.5676 - val_loss: 663.6868\n",
            "Epoch 80/100\n",
            "18/18 [==============================] - 0s 5ms/step - loss: 122.5580 - val_loss: 663.7402\n",
            "Epoch 81/100\n",
            "18/18 [==============================] - 0s 6ms/step - loss: 115.6434 - val_loss: 629.0412\n",
            "Epoch 82/100\n",
            "18/18 [==============================] - 0s 6ms/step - loss: 113.6452 - val_loss: 761.8371\n",
            "Epoch 83/100\n",
            "18/18 [==============================] - 0s 6ms/step - loss: 125.8264 - val_loss: 622.6948\n",
            "Epoch 84/100\n",
            "18/18 [==============================] - 0s 6ms/step - loss: 128.4325 - val_loss: 990.7941\n",
            "Epoch 85/100\n",
            "18/18 [==============================] - 0s 5ms/step - loss: 163.0972 - val_loss: 908.2344\n",
            "Epoch 86/100\n",
            "18/18 [==============================] - 1s 33ms/step - loss: 140.5254 - val_loss: 620.8759\n",
            "Epoch 87/100\n",
            "18/18 [==============================] - 0s 5ms/step - loss: 124.3319 - val_loss: 644.3674\n",
            "Epoch 88/100\n",
            "18/18 [==============================] - 0s 5ms/step - loss: 121.1149 - val_loss: 1028.0798\n",
            "Epoch 89/100\n",
            "18/18 [==============================] - 0s 5ms/step - loss: 135.7369 - val_loss: 710.0410\n",
            "Epoch 90/100\n",
            "18/18 [==============================] - 0s 6ms/step - loss: 122.5069 - val_loss: 685.3275\n",
            "Epoch 91/100\n",
            "18/18 [==============================] - 0s 6ms/step - loss: 115.7496 - val_loss: 633.0621\n",
            "Epoch 92/100\n",
            "18/18 [==============================] - 1s 37ms/step - loss: 108.4692 - val_loss: 612.5333\n",
            "Epoch 93/100\n",
            "18/18 [==============================] - 0s 6ms/step - loss: 110.4419 - val_loss: 624.1116\n",
            "Epoch 94/100\n",
            "18/18 [==============================] - 0s 6ms/step - loss: 109.8125 - val_loss: 718.8114\n",
            "Epoch 95/100\n",
            "18/18 [==============================] - 0s 5ms/step - loss: 124.2077 - val_loss: 619.6993\n",
            "Epoch 96/100\n",
            "18/18 [==============================] - 0s 7ms/step - loss: 110.1765 - val_loss: 614.0327\n",
            "Epoch 97/100\n",
            "18/18 [==============================] - 0s 5ms/step - loss: 113.6694 - val_loss: 639.0274\n",
            "Epoch 98/100\n",
            "18/18 [==============================] - 0s 5ms/step - loss: 122.2625 - val_loss: 789.7969\n",
            "Epoch 99/100\n",
            "18/18 [==============================] - 0s 25ms/step - loss: 124.4823 - val_loss: 691.1455\n",
            "Epoch 100/100\n",
            "18/18 [==============================] - 0s 13ms/step - loss: 114.6769 - val_loss: 663.2904\n"
          ]
        },
        {
          "output_type": "execute_result",
          "data": {
            "text/plain": [
              "<keras.src.callbacks.History at 0x7eab422d2920>"
            ]
          },
          "metadata": {},
          "execution_count": 44
        }
      ],
      "source": [
        "tf.random.set_seed(42)\n",
        "\n",
        "model_2 = tf.keras.Sequential([\n",
        "    layers.Dense(128, activation=\"relu\"),\n",
        "    layers.Dense(HORIZON, activation=\"linear\")\n",
        "], name=\"model_1_dense\")\n",
        "\n",
        "#compile model\n",
        "model_2.compile(loss=\"mae\",\n",
        "               optimizer=tf.keras.optimizers.Adam())\n",
        "\n",
        "#fit model\n",
        "model_2.fit(x=train_windows,\n",
        "                        y=train_labels,\n",
        "                        epochs=100,\n",
        "                        verbose=1,\n",
        "                        batch_size=128,\n",
        "                        validation_data=(test_windows, test_labels),\n",
        "                        callbacks=[create_model_checkpoint(model_name=model_2.name)])"
      ]
    },
    {
      "cell_type": "code",
      "execution_count": 45,
      "metadata": {
        "colab": {
          "base_uri": "https://localhost:8080/"
        },
        "id": "JWRS7OyJKcAW",
        "outputId": "f31988d3-cfb9-4cf0-d53e-372c72a291b2"
      },
      "outputs": [
        {
          "output_type": "stream",
          "name": "stdout",
          "text": [
            "18/18 [==============================] - 0s 2ms/step - loss: 663.2904\n"
          ]
        },
        {
          "output_type": "execute_result",
          "data": {
            "text/plain": [
              "663.2904052734375"
            ]
          },
          "metadata": {},
          "execution_count": 45
        }
      ],
      "source": [
        "model_2.evaluate(test_windows, test_labels)"
      ]
    },
    {
      "cell_type": "code",
      "execution_count": 46,
      "metadata": {
        "colab": {
          "base_uri": "https://localhost:8080/"
        },
        "id": "ZxIy-I29ETTq",
        "outputId": "20b0e118-a8d1-4c09-bd7b-57653167749d"
      },
      "outputs": [
        {
          "output_type": "stream",
          "name": "stdout",
          "text": [
            "18/18 [==============================] - 0s 5ms/step - loss: 663.2904\n"
          ]
        },
        {
          "output_type": "execute_result",
          "data": {
            "text/plain": [
              "663.2904052734375"
            ]
          },
          "metadata": {},
          "execution_count": 46
        }
      ],
      "source": [
        "# Make sure to save the model after training in the previous code block\n",
        "model_2.save(\"model_experiments/model_2_dense\")\n",
        "\n",
        "# Load the model\n",
        "model_2 = tf.keras.models.load_model(\"model_experiments/model_2_dense\")\n",
        "model_2.evaluate(test_windows, test_labels)"
      ]
    },
    {
      "cell_type": "code",
      "execution_count": 47,
      "metadata": {
        "colab": {
          "base_uri": "https://localhost:8080/"
        },
        "id": "g-8UDoUrKhQF",
        "outputId": "80331e4a-65cb-495f-a2d9-684562553395"
      },
      "outputs": [
        {
          "output_type": "stream",
          "name": "stdout",
          "text": [
            "18/18 [==============================] - 0s 2ms/step\n"
          ]
        },
        {
          "output_type": "execute_result",
          "data": {
            "text/plain": [
              "<tf.Tensor: shape=(10,), dtype=float32, numpy=\n",
              "array([8611.398 , 8698.898 , 8614.198 , 8443.353 , 8279.415 , 8274.735 ,\n",
              "       8022.293 , 7933.9937, 8092.9956, 7583.1694], dtype=float32)>"
            ]
          },
          "metadata": {},
          "execution_count": 47
        }
      ],
      "source": [
        "model_2_preds = make_preds(model_2, test_windows)\n",
        "model_2_preds[:10]"
      ]
    },
    {
      "cell_type": "code",
      "execution_count": 48,
      "metadata": {
        "colab": {
          "base_uri": "https://localhost:8080/"
        },
        "id": "JsK7R22fKqhw",
        "outputId": "3bf2e32e-be03-4f0d-b61e-ca63484a767a"
      },
      "outputs": [
        {
          "output_type": "execute_result",
          "data": {
            "text/plain": [
              "{'mae': 663.2904,\n",
              " 'mse': 1379611.2,\n",
              " 'rmse': 1174.5685,\n",
              " 'mape': 3.002339,\n",
              " 'mase': 1.159438}"
            ]
          },
          "metadata": {},
          "execution_count": 48
        }
      ],
      "source": [
        "model_2_results = evaluate_preds(y_true=tf.squeeze(test_labels), # reduce to right shape\n",
        "                                y_pred=model_2_preds)\n",
        "model_2_results"
      ]
    },
    {
      "cell_type": "code",
      "execution_count": 49,
      "metadata": {
        "colab": {
          "base_uri": "https://localhost:8080/",
          "height": 931
        },
        "id": "dx9dgK3bK0mR",
        "outputId": "43b13f30-a45b-4749-bbaa-aef5fde7c528"
      },
      "outputs": [
        {
          "output_type": "error",
          "ename": "ValueError",
          "evalue": "x and y must have same first dimension, but have shapes (258,) and (252,)",
          "traceback": [
            "\u001b[0;31m---------------------------------------------------------------------------\u001b[0m",
            "\u001b[0;31mValueError\u001b[0m                                Traceback (most recent call last)",
            "\u001b[0;32m<ipython-input-49-a13b16a759c8>\u001b[0m in \u001b[0;36m<cell line: 5>\u001b[0;34m()\u001b[0m\n\u001b[1;32m      3\u001b[0m \u001b[0mplot_time_series\u001b[0m\u001b[0;34m(\u001b[0m\u001b[0mtimesteps\u001b[0m\u001b[0;34m=\u001b[0m\u001b[0mX_train\u001b[0m\u001b[0;34m[\u001b[0m\u001b[0;34m-\u001b[0m\u001b[0mlen\u001b[0m\u001b[0;34m(\u001b[0m\u001b[0mtrain_windows\u001b[0m\u001b[0;34m)\u001b[0m\u001b[0;34m:\u001b[0m\u001b[0;34m]\u001b[0m\u001b[0;34m,\u001b[0m \u001b[0mvalues\u001b[0m\u001b[0;34m=\u001b[0m \u001b[0my_train\u001b[0m\u001b[0;34m[\u001b[0m\u001b[0;34m-\u001b[0m\u001b[0mlen\u001b[0m\u001b[0;34m(\u001b[0m\u001b[0mtrain_windows\u001b[0m\u001b[0;34m)\u001b[0m\u001b[0;34m:\u001b[0m\u001b[0;34m]\u001b[0m\u001b[0;34m,\u001b[0m \u001b[0mstart\u001b[0m\u001b[0;34m=\u001b[0m\u001b[0moffset\u001b[0m\u001b[0;34m,\u001b[0m \u001b[0mlabel\u001b[0m\u001b[0;34m=\u001b[0m\u001b[0;34m\"Train data\"\u001b[0m\u001b[0;34m)\u001b[0m\u001b[0;34m\u001b[0m\u001b[0;34m\u001b[0m\u001b[0m\n\u001b[1;32m      4\u001b[0m \u001b[0mplot_time_series\u001b[0m\u001b[0;34m(\u001b[0m\u001b[0mtimesteps\u001b[0m\u001b[0;34m=\u001b[0m\u001b[0mX_test\u001b[0m\u001b[0;34m,\u001b[0m \u001b[0mvalues\u001b[0m\u001b[0;34m=\u001b[0m \u001b[0my_test\u001b[0m\u001b[0;34m,\u001b[0m \u001b[0mstart\u001b[0m\u001b[0;34m=\u001b[0m\u001b[0moffset\u001b[0m\u001b[0;34m,\u001b[0m \u001b[0mlabel\u001b[0m\u001b[0;34m=\u001b[0m\u001b[0;34m\"Test data\"\u001b[0m\u001b[0;34m)\u001b[0m\u001b[0;34m\u001b[0m\u001b[0;34m\u001b[0m\u001b[0m\n\u001b[0;32m----> 5\u001b[0;31m \u001b[0mplot_time_series\u001b[0m\u001b[0;34m(\u001b[0m\u001b[0mtimesteps\u001b[0m\u001b[0;34m=\u001b[0m\u001b[0mX_test\u001b[0m\u001b[0;34m,\u001b[0m \u001b[0mvalues\u001b[0m\u001b[0;34m=\u001b[0m\u001b[0mmodel_2_preds\u001b[0m\u001b[0;34m,\u001b[0m \u001b[0mstart\u001b[0m\u001b[0;34m=\u001b[0m\u001b[0moffset\u001b[0m\u001b[0;34m,\u001b[0m \u001b[0mformat\u001b[0m\u001b[0;34m=\u001b[0m\u001b[0;34m\"-\"\u001b[0m\u001b[0;34m,\u001b[0m \u001b[0mlabel\u001b[0m\u001b[0;34m=\u001b[0m\u001b[0;34m\"model_2_preds\"\u001b[0m\u001b[0;34m)\u001b[0m \u001b[0;31m# Use the full X_test array for timesteps\u001b[0m\u001b[0;34m\u001b[0m\u001b[0;34m\u001b[0m\u001b[0m\n\u001b[0m",
            "\u001b[0;32m<ipython-input-12-bd36cee5f393>\u001b[0m in \u001b[0;36mplot_time_series\u001b[0;34m(timesteps, values, format, start, end, label)\u001b[0m\n\u001b[1;32m     14\u001b[0m   \"\"\"\n\u001b[1;32m     15\u001b[0m   \u001b[0;31m# Plot the series\u001b[0m\u001b[0;34m\u001b[0m\u001b[0;34m\u001b[0m\u001b[0m\n\u001b[0;32m---> 16\u001b[0;31m   \u001b[0mplt\u001b[0m\u001b[0;34m.\u001b[0m\u001b[0mplot\u001b[0m\u001b[0;34m(\u001b[0m\u001b[0mtimesteps\u001b[0m\u001b[0;34m[\u001b[0m\u001b[0mstart\u001b[0m\u001b[0;34m:\u001b[0m\u001b[0mend\u001b[0m\u001b[0;34m]\u001b[0m\u001b[0;34m,\u001b[0m \u001b[0mvalues\u001b[0m\u001b[0;34m[\u001b[0m\u001b[0mstart\u001b[0m\u001b[0;34m:\u001b[0m\u001b[0mend\u001b[0m\u001b[0;34m]\u001b[0m\u001b[0;34m,\u001b[0m \u001b[0mformat\u001b[0m\u001b[0;34m,\u001b[0m \u001b[0mlabel\u001b[0m\u001b[0;34m=\u001b[0m\u001b[0mlabel\u001b[0m\u001b[0;34m)\u001b[0m\u001b[0;34m\u001b[0m\u001b[0;34m\u001b[0m\u001b[0m\n\u001b[0m\u001b[1;32m     17\u001b[0m   \u001b[0mplt\u001b[0m\u001b[0;34m.\u001b[0m\u001b[0mxlabel\u001b[0m\u001b[0;34m(\u001b[0m\u001b[0;34m\"Time\"\u001b[0m\u001b[0;34m)\u001b[0m\u001b[0;34m\u001b[0m\u001b[0;34m\u001b[0m\u001b[0m\n\u001b[1;32m     18\u001b[0m   \u001b[0mplt\u001b[0m\u001b[0;34m.\u001b[0m\u001b[0mylabel\u001b[0m\u001b[0;34m(\u001b[0m\u001b[0;34m\"BTC Price\"\u001b[0m\u001b[0;34m)\u001b[0m\u001b[0;34m\u001b[0m\u001b[0;34m\u001b[0m\u001b[0m\n",
            "\u001b[0;32m/usr/local/lib/python3.10/dist-packages/matplotlib/pyplot.py\u001b[0m in \u001b[0;36mplot\u001b[0;34m(scalex, scaley, data, *args, **kwargs)\u001b[0m\n\u001b[1;32m   2810\u001b[0m \u001b[0;34m@\u001b[0m\u001b[0m_copy_docstring_and_deprecators\u001b[0m\u001b[0;34m(\u001b[0m\u001b[0mAxes\u001b[0m\u001b[0;34m.\u001b[0m\u001b[0mplot\u001b[0m\u001b[0;34m)\u001b[0m\u001b[0;34m\u001b[0m\u001b[0;34m\u001b[0m\u001b[0m\n\u001b[1;32m   2811\u001b[0m \u001b[0;32mdef\u001b[0m \u001b[0mplot\u001b[0m\u001b[0;34m(\u001b[0m\u001b[0;34m*\u001b[0m\u001b[0margs\u001b[0m\u001b[0;34m,\u001b[0m \u001b[0mscalex\u001b[0m\u001b[0;34m=\u001b[0m\u001b[0;32mTrue\u001b[0m\u001b[0;34m,\u001b[0m \u001b[0mscaley\u001b[0m\u001b[0;34m=\u001b[0m\u001b[0;32mTrue\u001b[0m\u001b[0;34m,\u001b[0m \u001b[0mdata\u001b[0m\u001b[0;34m=\u001b[0m\u001b[0;32mNone\u001b[0m\u001b[0;34m,\u001b[0m \u001b[0;34m**\u001b[0m\u001b[0mkwargs\u001b[0m\u001b[0;34m)\u001b[0m\u001b[0;34m:\u001b[0m\u001b[0;34m\u001b[0m\u001b[0;34m\u001b[0m\u001b[0m\n\u001b[0;32m-> 2812\u001b[0;31m     return gca().plot(\n\u001b[0m\u001b[1;32m   2813\u001b[0m         \u001b[0;34m*\u001b[0m\u001b[0margs\u001b[0m\u001b[0;34m,\u001b[0m \u001b[0mscalex\u001b[0m\u001b[0;34m=\u001b[0m\u001b[0mscalex\u001b[0m\u001b[0;34m,\u001b[0m \u001b[0mscaley\u001b[0m\u001b[0;34m=\u001b[0m\u001b[0mscaley\u001b[0m\u001b[0;34m,\u001b[0m\u001b[0;34m\u001b[0m\u001b[0;34m\u001b[0m\u001b[0m\n\u001b[1;32m   2814\u001b[0m         **({\"data\": data} if data is not None else {}), **kwargs)\n",
            "\u001b[0;32m/usr/local/lib/python3.10/dist-packages/matplotlib/axes/_axes.py\u001b[0m in \u001b[0;36mplot\u001b[0;34m(self, scalex, scaley, data, *args, **kwargs)\u001b[0m\n\u001b[1;32m   1686\u001b[0m         \"\"\"\n\u001b[1;32m   1687\u001b[0m         \u001b[0mkwargs\u001b[0m \u001b[0;34m=\u001b[0m \u001b[0mcbook\u001b[0m\u001b[0;34m.\u001b[0m\u001b[0mnormalize_kwargs\u001b[0m\u001b[0;34m(\u001b[0m\u001b[0mkwargs\u001b[0m\u001b[0;34m,\u001b[0m \u001b[0mmlines\u001b[0m\u001b[0;34m.\u001b[0m\u001b[0mLine2D\u001b[0m\u001b[0;34m)\u001b[0m\u001b[0;34m\u001b[0m\u001b[0;34m\u001b[0m\u001b[0m\n\u001b[0;32m-> 1688\u001b[0;31m         \u001b[0mlines\u001b[0m \u001b[0;34m=\u001b[0m \u001b[0;34m[\u001b[0m\u001b[0;34m*\u001b[0m\u001b[0mself\u001b[0m\u001b[0;34m.\u001b[0m\u001b[0m_get_lines\u001b[0m\u001b[0;34m(\u001b[0m\u001b[0;34m*\u001b[0m\u001b[0margs\u001b[0m\u001b[0;34m,\u001b[0m \u001b[0mdata\u001b[0m\u001b[0;34m=\u001b[0m\u001b[0mdata\u001b[0m\u001b[0;34m,\u001b[0m \u001b[0;34m**\u001b[0m\u001b[0mkwargs\u001b[0m\u001b[0;34m)\u001b[0m\u001b[0;34m]\u001b[0m\u001b[0;34m\u001b[0m\u001b[0;34m\u001b[0m\u001b[0m\n\u001b[0m\u001b[1;32m   1689\u001b[0m         \u001b[0;32mfor\u001b[0m \u001b[0mline\u001b[0m \u001b[0;32min\u001b[0m \u001b[0mlines\u001b[0m\u001b[0;34m:\u001b[0m\u001b[0;34m\u001b[0m\u001b[0;34m\u001b[0m\u001b[0m\n\u001b[1;32m   1690\u001b[0m             \u001b[0mself\u001b[0m\u001b[0;34m.\u001b[0m\u001b[0madd_line\u001b[0m\u001b[0;34m(\u001b[0m\u001b[0mline\u001b[0m\u001b[0;34m)\u001b[0m\u001b[0;34m\u001b[0m\u001b[0;34m\u001b[0m\u001b[0m\n",
            "\u001b[0;32m/usr/local/lib/python3.10/dist-packages/matplotlib/axes/_base.py\u001b[0m in \u001b[0;36m__call__\u001b[0;34m(self, data, *args, **kwargs)\u001b[0m\n\u001b[1;32m    309\u001b[0m                 \u001b[0mthis\u001b[0m \u001b[0;34m+=\u001b[0m \u001b[0margs\u001b[0m\u001b[0;34m[\u001b[0m\u001b[0;36m0\u001b[0m\u001b[0;34m]\u001b[0m\u001b[0;34m,\u001b[0m\u001b[0;34m\u001b[0m\u001b[0;34m\u001b[0m\u001b[0m\n\u001b[1;32m    310\u001b[0m                 \u001b[0margs\u001b[0m \u001b[0;34m=\u001b[0m \u001b[0margs\u001b[0m\u001b[0;34m[\u001b[0m\u001b[0;36m1\u001b[0m\u001b[0;34m:\u001b[0m\u001b[0;34m]\u001b[0m\u001b[0;34m\u001b[0m\u001b[0;34m\u001b[0m\u001b[0m\n\u001b[0;32m--> 311\u001b[0;31m             yield from self._plot_args(\n\u001b[0m\u001b[1;32m    312\u001b[0m                 this, kwargs, ambiguous_fmt_datakey=ambiguous_fmt_datakey)\n\u001b[1;32m    313\u001b[0m \u001b[0;34m\u001b[0m\u001b[0m\n",
            "\u001b[0;32m/usr/local/lib/python3.10/dist-packages/matplotlib/axes/_base.py\u001b[0m in \u001b[0;36m_plot_args\u001b[0;34m(self, tup, kwargs, return_kwargs, ambiguous_fmt_datakey)\u001b[0m\n\u001b[1;32m    502\u001b[0m \u001b[0;34m\u001b[0m\u001b[0m\n\u001b[1;32m    503\u001b[0m         \u001b[0;32mif\u001b[0m \u001b[0mx\u001b[0m\u001b[0;34m.\u001b[0m\u001b[0mshape\u001b[0m\u001b[0;34m[\u001b[0m\u001b[0;36m0\u001b[0m\u001b[0;34m]\u001b[0m \u001b[0;34m!=\u001b[0m \u001b[0my\u001b[0m\u001b[0;34m.\u001b[0m\u001b[0mshape\u001b[0m\u001b[0;34m[\u001b[0m\u001b[0;36m0\u001b[0m\u001b[0;34m]\u001b[0m\u001b[0;34m:\u001b[0m\u001b[0;34m\u001b[0m\u001b[0;34m\u001b[0m\u001b[0m\n\u001b[0;32m--> 504\u001b[0;31m             raise ValueError(f\"x and y must have same first dimension, but \"\n\u001b[0m\u001b[1;32m    505\u001b[0m                              f\"have shapes {x.shape} and {y.shape}\")\n\u001b[1;32m    506\u001b[0m         \u001b[0;32mif\u001b[0m \u001b[0mx\u001b[0m\u001b[0;34m.\u001b[0m\u001b[0mndim\u001b[0m \u001b[0;34m>\u001b[0m \u001b[0;36m2\u001b[0m \u001b[0;32mor\u001b[0m \u001b[0my\u001b[0m\u001b[0;34m.\u001b[0m\u001b[0mndim\u001b[0m \u001b[0;34m>\u001b[0m \u001b[0;36m2\u001b[0m\u001b[0;34m:\u001b[0m\u001b[0;34m\u001b[0m\u001b[0;34m\u001b[0m\u001b[0m\n",
            "\u001b[0;31mValueError\u001b[0m: x and y must have same first dimension, but have shapes (258,) and (252,)"
          ]
        },
        {
          "output_type": "display_data",
          "data": {
            "text/plain": [
              "<Figure size 1000x700 with 1 Axes>"
            ],
            "image/png": "[encoded data removed]"
          },
          "metadata": {}
        }
      ],
      "source": [
        "offset =300\n",
        "plt.figure(figsize=(10, 7))\n",
        "plot_time_series(timesteps=X_train[-len(train_windows):], values= y_train[-len(train_windows):], start=offset, label=\"Train data\")\n",
        "plot_time_series(timesteps=X_test, values= y_test, start=offset, label=\"Test data\")\n",
        "plot_time_series(timesteps=X_test, values=model_2_preds, start=offset, format=\"-\", label=\"model_2_preds\") # Use the full X_test array for timesteps"
      ]
    },
    {
      "cell_type": "code",
      "execution_count": 51,
      "metadata": {
        "id": "qhVK5PU0FyEv"
      },
      "outputs": [],
      "source": [
        "def evaluate_preds(y_true, y_pred):\n",
        "  #make sure float32(for metric calculations)\n",
        "  y_true = tf.cast(y_true, dtype=tf.float32)\n",
        "  y_pred = tf.cast(y_pred, dtype=tf.float32)\n",
        "\n",
        "  #calculate various metrics\n",
        "  mae = tf.keras.metrics.mean_absolute_error(y_true, y_pred)\n",
        "  mse = tf.keras.metrics.mean_squared_error(y_true, y_pred)\n",
        "  rmse = tf.sqrt(mse)\n",
        "  mape = tf.keras.metrics.mean_absolute_percentage_error(y_true, y_pred)\n",
        "  mase = mean_absolute_percentage_error(y_true, y_pred)\n",
        "\n",
        "  #Account for different sized metrics( for longer horizons, reduce to single number)\n",
        "  if mae.ndim > 0:\n",
        "    mae = tf.reduce_mean(mae)\n",
        "    mse = tf.reduce_mean(mse)\n",
        "    rmse = tf.reduce_mean(rmse)\n",
        "    mape = tf.reduce_mean(mape)\n",
        "    mase = tf.reduce_mean(mase)\n",
        "\n",
        "  return {\"mae\":mae.numpy(),\n",
        "          \"mse\":mse.numpy(),\n",
        "          \"rmse\":rmse.numpy(),\n",
        "          \"mape\":mape.numpy(),\n",
        "          \"mase\":mase.numpy()}"
      ]
    },
    {
      "cell_type": "code",
      "execution_count": 52,
      "metadata": {
        "colab": {
          "base_uri": "https://localhost:8080/"
        },
        "id": "hV9jpzg8IPHr",
        "outputId": "59cec6e0-71f3-4fd9-ccb2-e4308b9cb388"
      },
      "outputs": [
        {
          "output_type": "execute_result",
          "data": {
            "text/plain": [
              "{'mae': 663.2904,\n",
              " 'mse': 1379611.2,\n",
              " 'rmse': 1174.5685,\n",
              " 'mape': 3.002339,\n",
              " 'mase': 1.159438}"
            ]
          },
          "metadata": {},
          "execution_count": 52
        }
      ],
      "source": [
        "#get model_3 results aggregated to single values\n",
        "model_2_results = evaluate_preds(y_true=tf.squeeze(test_labels), # reduce to right shape\n",
        "                                y_pred=model_2_preds)\n",
        "model_2_results"
      ]
    },
    {
      "cell_type": "code",
      "execution_count": 53,
      "metadata": {
        "colab": {
          "base_uri": "https://localhost:8080/",
          "height": 634
        },
        "id": "ucx8U5x-It6z",
        "outputId": "cb8af396-169a-451d-e4a2-ec7568e22304"
      },
      "outputs": [
        {
          "output_type": "execute_result",
          "data": {
            "text/plain": [
              "<Axes: >"
            ]
          },
          "metadata": {},
          "execution_count": 53
        },
        {
          "output_type": "display_data",
          "data": {
            "text/plain": [
              "<Figure size 1000x700 with 1 Axes>"
            ],
            "image/png": "[encoded data removed]"
          },
          "metadata": {}
        }
      ],
      "source": [
        "pd.DataFrame({\"naive\": naive_results[\"mae\"],\n",
        "              \"horizon_1_window_7\": model_1_results[\"mae\"],\n",
        "              \"horizon_2_window_30\": model_2_results[\"mae\"]},index=[\"mae\"]).plot(figsize=(10,7), kind='bar')"
      ]
    },
    {
      "cell_type": "markdown",
      "metadata": {
        "id": "14lWPMYOLTUO"
      },
      "source": [
        "#CONV1D"
      ]
    },
    {
      "cell_type": "code",
      "execution_count": 54,
      "metadata": {
        "id": "q9d0M0i5Ivqk"
      },
      "outputs": [],
      "source": [
        "HORIZON =1\n",
        "WINDOW_SIZE =7"
      ]
    },
    {
      "cell_type": "code",
      "execution_count": 55,
      "metadata": {
        "colab": {
          "base_uri": "https://localhost:8080/"
        },
        "id": "4iWW7I4jIue1",
        "outputId": "4b693658-5d39-4253-d780-7f367ace6abf"
      },
      "outputs": [
        {
          "output_type": "execute_result",
          "data": {
            "text/plain": [
              "(2780, 2780)"
            ]
          },
          "metadata": {},
          "execution_count": 55
        }
      ],
      "source": [
        "#create windowed dataset\n",
        "full_windows, full_labels = make_windows(prices, window_size=WINDOW_SIZE, horizon=HORIZON)\n",
        "len(full_windows), len(full_labels)"
      ]
    },
    {
      "cell_type": "code",
      "execution_count": 56,
      "metadata": {
        "colab": {
          "base_uri": "https://localhost:8080/"
        },
        "id": "X8S913SKLit7",
        "outputId": "965b8140-c65a-4d3b-d076-02c3daa9ec34"
      },
      "outputs": [
        {
          "output_type": "execute_result",
          "data": {
            "text/plain": [
              "(2224, 556, 2224, 556)"
            ]
          },
          "metadata": {},
          "execution_count": 56
        }
      ],
      "source": [
        "#create train/test splits\n",
        "train_windows, test_windows, train_labels, test_labels = make_train_test_splits(full_windows, full_labels)\n",
        "len(train_windows), len(test_windows), len(train_labels), len(test_labels)"
      ]
    },
    {
      "cell_type": "markdown",
      "metadata": {
        "id": "vcPloWmULodQ"
      },
      "source": [
        "#Data windowed"
      ]
    },
    {
      "cell_type": "code",
      "execution_count": 57,
      "metadata": {
        "colab": {
          "base_uri": "https://localhost:8080/"
        },
        "id": "yqogOifXLz6s",
        "outputId": "886d0975-17ff-45a2-8eaa-3ea38e023c90"
      },
      "outputs": [
        {
          "output_type": "execute_result",
          "data": {
            "text/plain": [
              "(7,)"
            ]
          },
          "metadata": {},
          "execution_count": 57
        }
      ],
      "source": [
        "train_windows[0].shape #window_size"
      ]
    },
    {
      "cell_type": "code",
      "execution_count": 58,
      "metadata": {
        "colab": {
          "base_uri": "https://localhost:8080/"
        },
        "id": "82tNwE1sNHbX",
        "outputId": "9565b01f-f7c5-4296-9063-6a77923ba5a3"
      },
      "outputs": [
        {
          "output_type": "stream",
          "name": "stdout",
          "text": [
            "Original shape: (7,)\n",
            "Expanded shape: (7, 1)\n",
            "Original values with expand shape:\n",
            " [[123.65499]\n",
            " [125.455  ]\n",
            " [108.58483]\n",
            " [118.67466]\n",
            " [121.33866]\n",
            " [120.65533]\n",
            " [121.795  ]]\n"
          ]
        }
      ],
      "source": [
        "#before we pass our data ti the convqd layer , we have to reshape it in order to make sure it works\n",
        "\n",
        "x = tf.constant(train_windows[0])\n",
        "expand_dims_layer = layers.Lambda(lambda x: tf.expand_dims(x, axis=1)) # add an extra dimension for timesteps\n",
        "print(f\"Original shape: {x.shape}\") #(Windows_size)\n",
        "print(f\"Expanded shape: {expand_dims_layer(x).shape}\") #(window_size, input_dims)\n",
        "print(f\"Original values with expand shape:\\n {expand_dims_layer(x)}\")"
      ]
    },
    {
      "cell_type": "code",
      "execution_count": 59,
      "metadata": {
        "colab": {
          "base_uri": "https://localhost:8080/"
        },
        "id": "GTFCnrTSN8w-",
        "outputId": "d549d70a-df10-4a3c-ab8b-53b471d3971e"
      },
      "outputs": [
        {
          "output_type": "execute_result",
          "data": {
            "text/plain": [
              "<keras.src.callbacks.History at 0x7eab3dfd36a0>"
            ]
          },
          "metadata": {},
          "execution_count": 59
        }
      ],
      "source": [
        "tf.random.set_seed(42)\n",
        "\n",
        "#craete model\n",
        "model_4 = tf.keras.Sequential([\n",
        "    #create lambda layer to reshape inputs, without this layer, the model wil error\n",
        "    layers.Lambda(lambda x: tf.expand_dims(x, axis=1)), # add an extra dimension for\n",
        "    layers.Conv1D(filters=128, kernel_size=5, strides=1, padding=\"causal\", activation=\"relu\"),\n",
        "    layers.Dense(HORIZON)\n",
        "], name=\"model_4_conv1d\")\n",
        "\n",
        "#compile model\n",
        "model_4.compile(loss=\"mae\",\n",
        "               optimizer=tf.keras.optimizers.Adam())\n",
        "\n",
        "#fit model\n",
        "model_4.fit(train_windows,\n",
        "            train_labels,\n",
        "            epochs=100,\n",
        "            verbose=0,\n",
        "            batch_size=128,\n",
        "            validation_data=(test_windows, test_labels),\n",
        "            callbacks=[create_model_checkpoint(model_name=model_4.name)])"
      ]
    },
    {
      "cell_type": "code",
      "execution_count": 60,
      "metadata": {
        "colab": {
          "base_uri": "https://localhost:8080/"
        },
        "id": "-CGICd4HP4ex",
        "outputId": "eb43f250-97cf-4c6f-b814-8a622594e79a"
      },
      "outputs": [
        {
          "output_type": "stream",
          "name": "stdout",
          "text": [
            "Model: \"model_4_conv1d\"\n",
            "_________________________________________________________________\n",
            " Layer (type)                Output Shape              Param #   \n",
            "=================================================================\n",
            " lambda_1 (Lambda)           (None, 1, 7)              0         \n",
            "                                                                 \n",
            " conv1d (Conv1D)             (None, 1, 128)            4608      \n",
            "                                                                 \n",
            " dense_4 (Dense)             (None, 1, 1)              129       \n",
            "                                                                 \n",
            "=================================================================\n",
            "Total params: 4737 (18.50 KB)\n",
            "Trainable params: 4737 (18.50 KB)\n",
            "Non-trainable params: 0 (0.00 Byte)\n",
            "_________________________________________________________________\n"
          ]
        }
      ],
      "source": [
        "model_4.summary()"
      ]
    },
    {
      "cell_type": "code",
      "execution_count": 61,
      "metadata": {
        "colab": {
          "base_uri": "https://localhost:8080/"
        },
        "id": "2_ae92WfSahH",
        "outputId": "00d12491-0560-4dbf-b6b4-f6cfac5ae36a"
      },
      "outputs": [
        {
          "output_type": "stream",
          "name": "stdout",
          "text": [
            "18/18 [==============================] - 0s 4ms/step - loss: 567.1049\n"
          ]
        },
        {
          "output_type": "execute_result",
          "data": {
            "text/plain": [
              "567.1048583984375"
            ]
          },
          "metadata": {},
          "execution_count": 61
        }
      ],
      "source": [
        "model_4 = tf.keras.models.load_model(\"model_experiments/model_4_conv1d\")\n",
        "model_4.evaluate(test_windows, test_labels)"
      ]
    },
    {
      "cell_type": "code",
      "execution_count": 62,
      "metadata": {
        "colab": {
          "base_uri": "https://localhost:8080/"
        },
        "id": "NfMV7bCuSbRQ",
        "outputId": "8d9d8efd-dae3-4de7-ae82-45530361b920"
      },
      "outputs": [
        {
          "output_type": "stream",
          "name": "stdout",
          "text": [
            "18/18 [==============================] - 0s 4ms/step\n"
          ]
        },
        {
          "output_type": "execute_result",
          "data": {
            "text/plain": [
              "<tf.Tensor: shape=(10,), dtype=float32, numpy=\n",
              "array([8907.3  , 8819.97 , 9022.452, 8801.393, 8788.382, 8756.072,\n",
              "       8698.108, 8566.721, 8485.235, 8541.177], dtype=float32)>"
            ]
          },
          "metadata": {},
          "execution_count": 62
        }
      ],
      "source": [
        "#make predictions\n",
        "model_4_preds = make_preds(model_4, test_windows)\n",
        "model_4_preds[:10]"
      ]
    },
    {
      "cell_type": "code",
      "execution_count": 63,
      "metadata": {
        "colab": {
          "base_uri": "https://localhost:8080/"
        },
        "id": "V0ABXIbcSbtX",
        "outputId": "9e0d4635-4f09-4cea-90e9-8e82e669b3da"
      },
      "outputs": [
        {
          "output_type": "execute_result",
          "data": {
            "text/plain": [
              "{'mae': 567.105,\n",
              " 'mse': 1172335.8,\n",
              " 'rmse': 1082.7445,\n",
              " 'mape': 2.5472736,\n",
              " 'mase': 0.9962464}"
            ]
          },
          "metadata": {},
          "execution_count": 63
        }
      ],
      "source": [
        "#Evaluate predictions\n",
        "model_4_results = evaluate_preds(y_true=tf.squeeze(test_labels), # reduce to right shape\n",
        "                                y_pred=model_4_preds)\n",
        "model_4_results"
      ]
    },
    {
      "cell_type": "markdown",
      "metadata": {
        "id": "sWWL9EKbSa_V"
      },
      "source": [
        "#Multi modal\n"
      ]
    },
    {
      "cell_type": "code",
      "execution_count": 64,
      "metadata": {
        "id": "Pxbb99ooSZ9C"
      },
      "outputs": [],
      "source": [
        "#block reward values\n",
        "block_reward_1 = 50 # 3 January 2009 (2009-01-03) - this block reward isn't in our dataset(it starts from)\n",
        "block_reward_2 = 25\n",
        "block_reward_3 = 12.5\n",
        "block_reward_4 = 6.25\n",
        "\n",
        "#block reward dates ( datetime form of the above date stamps)\n",
        "block_reward_2_datetime = np.datetime64(\"2012-11-28\")\n",
        "block_reward_3_datetime = np.datetime64(\"2016-07-09\")\n",
        "block_reward_4_datetime = np.datetime64(\"2020-05-11\")"
      ]
    },
    {
      "cell_type": "code",
      "execution_count": 65,
      "metadata": {
        "colab": {
          "base_uri": "https://localhost:8080/"
        },
        "id": "7tvv7wiFV6ua",
        "outputId": "b227ac06-b719-4640-9691-3af558f0d71e"
      },
      "outputs": [
        {
          "output_type": "execute_result",
          "data": {
            "text/plain": [
              "(1012, 2414)"
            ]
          },
          "metadata": {},
          "execution_count": 65
        }
      ],
      "source": [
        "block_reward_2_days = (block_reward_3_datetime - bitcoin_prices.index[0]).days\n",
        "block_reward_3_days = (block_reward_4_datetime - bitcoin_prices.index[0]).days\n",
        "block_reward_2_days, block_reward_3_days"
      ]
    },
    {
      "cell_type": "code",
      "execution_count": 66,
      "metadata": {
        "colab": {
          "base_uri": "https://localhost:8080/",
          "height": 394
        },
        "id": "08ca3FdNWPB5",
        "outputId": "53daab0d-dc9e-4d8b-be18-3acb0dc87e97"
      },
      "outputs": [
        {
          "output_type": "execute_result",
          "data": {
            "text/plain": [
              "                   Price block_reward\n",
              "Date                                 \n",
              "2017-01-04   1047.099990         12.5\n",
              "2018-06-01   7490.621250         12.5\n",
              "2020-08-11  11832.227308         6.25\n",
              "2014-04-28    426.781660           25\n",
              "2016-08-14    581.650000         12.5\n",
              "2015-09-23    231.309830           25\n",
              "2017-11-17   7924.182500         12.5\n",
              "2017-02-03   1020.090000         12.5\n",
              "2014-09-02    477.983750           25\n",
              "2016-06-15    685.442000           25"
            ],
            "text/html": [
              "\n",
              "  <div id=\"df-049997da-0310-498c-a9bf-c7888ddc8797\" class=\"colab-df-container\">\n",
              "    <div>\n",
              "<style scoped>\n",
              "    .dataframe tbody tr th:only-of-type {\n",
              "        vertical-align: middle;\n",
              "    }\n",
              "\n",
              "    .dataframe tbody tr th {\n",
              "        vertical-align: top;\n",
              "    }\n",
              "\n",
              "    .dataframe thead th {\n",
              "        text-align: right;\n",
              "    }\n",
              "</style>\n",
              "<table border=\"1\" class=\"dataframe\">\n",
              "  <thead>\n",
              "    <tr style=\"text-align: right;\">\n",
              "      <th></th>\n",
              "      <th>Price</th>\n",
              "      <th>block_reward</th>\n",
              "    </tr>\n",
              "    <tr>\n",
              "      <th>Date</th>\n",
              "      <th></th>\n",
              "      <th></th>\n",
              "    </tr>\n",
              "  </thead>\n",
              "  <tbody>\n",
              "    <tr>\n",
              "      <th>2017-01-04</th>\n",
              "      <td>1047.099990</td>\n",
              "      <td>12.5</td>\n",
              "    </tr>\n",
              "    <tr>\n",
              "      <th>2018-06-01</th>\n",
              "      <td>7490.621250</td>\n",
              "      <td>12.5</td>\n",
              "    </tr>\n",
              "    <tr>\n",
              "      <th>2020-08-11</th>\n",
              "      <td>11832.227308</td>\n",
              "      <td>6.25</td>\n",
              "    </tr>\n",
              "    <tr>\n",
              "      <th>2014-04-28</th>\n",
              "      <td>426.781660</td>\n",
              "      <td>25</td>\n",
              "    </tr>\n",
              "    <tr>\n",
              "      <th>2016-08-14</th>\n",
              "      <td>581.650000</td>\n",
              "      <td>12.5</td>\n",
              "    </tr>\n",
              "    <tr>\n",
              "      <th>2015-09-23</th>\n",
              "      <td>231.309830</td>\n",
              "      <td>25</td>\n",
              "    </tr>\n",
              "    <tr>\n",
              "      <th>2017-11-17</th>\n",
              "      <td>7924.182500</td>\n",
              "      <td>12.5</td>\n",
              "    </tr>\n",
              "    <tr>\n",
              "      <th>2017-02-03</th>\n",
              "      <td>1020.090000</td>\n",
              "      <td>12.5</td>\n",
              "    </tr>\n",
              "    <tr>\n",
              "      <th>2014-09-02</th>\n",
              "      <td>477.983750</td>\n",
              "      <td>25</td>\n",
              "    </tr>\n",
              "    <tr>\n",
              "      <th>2016-06-15</th>\n",
              "      <td>685.442000</td>\n",
              "      <td>25</td>\n",
              "    </tr>\n",
              "  </tbody>\n",
              "</table>\n",
              "</div>\n",
              "    <div class=\"colab-df-buttons\">\n",
              "\n",
              "  <div class=\"colab-df-container\">\n",
              "    <button class=\"colab-df-convert\" onclick=\"convertToInteractive('df-049997da-0310-498c-a9bf-c7888ddc8797')\"\n",
              "            title=\"Convert this dataframe to an interactive table.\"\n",
              "            style=\"display:none;\">\n",
              "\n",
              "  <svg xmlns=\"http://www.w3.org/2000/svg\" height=\"24px\" viewBox=\"0 -960 960 960\">\n",
              "    <path d=\"M120-120v-720h720v720H120Zm60-500h600v-160H180v160Zm220 220h160v-160H400v160Zm0 220h160v-160H400v160ZM180-400h160v-160H180v160Zm440 0h160v-160H620v160ZM180-180h160v-160H180v160Zm440 0h160v-160H620v160Z\"/>\n",
              "  </svg>\n",
              "    </button>\n",
              "\n",
              "  <style>\n",
              "    .colab-df-container {\n",
              "      display:flex;\n",
              "      gap: 12px;\n",
              "    }\n",
              "\n",
              "    .colab-df-convert {\n",
              "      background-color: #E8F0FE;\n",
              "      border: none;\n",
              "      border-radius: 50%;\n",
              "      cursor: pointer;\n",
              "      display: none;\n",
              "      fill: #1967D2;\n",
              "      height: 32px;\n",
              "      padding: 0 0 0 0;\n",
              "      width: 32px;\n",
              "    }\n",
              "\n",
              "    .colab-df-convert:hover {\n",
              "      background-color: #E2EBFA;\n",
              "      box-shadow: 0px 1px 2px rgba(60, 64, 67, 0.3), 0px 1px 3px 1px rgba(60, 64, 67, 0.15);\n",
              "      fill: #174EA6;\n",
              "    }\n",
              "\n",
              "    .colab-df-buttons div {\n",
              "      margin-bottom: 4px;\n",
              "    }\n",
              "\n",
              "    [theme=dark] .colab-df-convert {\n",
              "      background-color: #3B4455;\n",
              "      fill: #D2E3FC;\n",
              "    }\n",
              "\n",
              "    [theme=dark] .colab-df-convert:hover {\n",
              "      background-color: #434B5C;\n",
              "      box-shadow: 0px 1px 3px 1px rgba(0, 0, 0, 0.15);\n",
              "      filter: drop-shadow(0px 1px 2px rgba(0, 0, 0, 0.3));\n",
              "      fill: #FFFFFF;\n",
              "    }\n",
              "  </style>\n",
              "\n",
              "    <script>\n",
              "      const buttonEl =\n",
              "        document.querySelector('#df-049997da-0310-498c-a9bf-c7888ddc8797 button.colab-df-convert');\n",
              "      buttonEl.style.display =\n",
              "        google.colab.kernel.accessAllowed ? 'block' : 'none';\n",
              "\n",
              "      async function convertToInteractive(key) {\n",
              "        const element = document.querySelector('#df-049997da-0310-498c-a9bf-c7888ddc8797');\n",
              "        const dataTable =\n",
              "          await google.colab.kernel.invokeFunction('convertToInteractive',\n",
              "                                                    [key], {});\n",
              "        if (!dataTable) return;\n",
              "\n",
              "        const docLinkHtml = 'Like what you see? Visit the ' +\n",
              "          '<a target=\"_blank\" href=https://colab.research.google.com/notebooks/data_table.ipynb>data table notebook</a>'\n",
              "          + ' to learn more about interactive tables.';\n",
              "        element.innerHTML = '';\n",
              "        dataTable['output_type'] = 'display_data';\n",
              "        await google.colab.output.renderOutput(dataTable, element);\n",
              "        const docLink = document.createElement('div');\n",
              "        docLink.innerHTML = docLinkHtml;\n",
              "        element.appendChild(docLink);\n",
              "      }\n",
              "    </script>\n",
              "  </div>\n",
              "\n",
              "\n",
              "<div id=\"df-e3a968f1-5579-4336-8f2f-5a402fe0889e\">\n",
              "  <button class=\"colab-df-quickchart\" onclick=\"quickchart('df-e3a968f1-5579-4336-8f2f-5a402fe0889e')\"\n",
              "            title=\"Suggest charts\"\n",
              "            style=\"display:none;\">\n",
              "\n",
              "<svg xmlns=\"http://www.w3.org/2000/svg\" height=\"24px\"viewBox=\"0 0 24 24\"\n",
              "     width=\"24px\">\n",
              "    <g>\n",
              "        <path d=\"M19 3H5c-1.1 0-2 .9-2 2v14c0 1.1.9 2 2 2h14c1.1 0 2-.9 2-2V5c0-1.1-.9-2-2-2zM9 17H7v-7h2v7zm4 0h-2V7h2v10zm4 0h-2v-4h2v4z\"/>\n",
              "    </g>\n",
              "</svg>\n",
              "  </button>\n",
              "\n",
              "<style>\n",
              "  .colab-df-quickchart {\n",
              "      --bg-color: #E8F0FE;\n",
              "      --fill-color: #1967D2;\n",
              "      --hover-bg-color: #E2EBFA;\n",
              "      --hover-fill-color: #174EA6;\n",
              "      --disabled-fill-color: #AAA;\n",
              "      --disabled-bg-color: #DDD;\n",
              "  }\n",
              "\n",
              "  [theme=dark] .colab-df-quickchart {\n",
              "      --bg-color: #3B4455;\n",
              "      --fill-color: #D2E3FC;\n",
              "      --hover-bg-color: #434B5C;\n",
              "      --hover-fill-color: #FFFFFF;\n",
              "      --disabled-bg-color: #3B4455;\n",
              "      --disabled-fill-color: #666;\n",
              "  }\n",
              "\n",
              "  .colab-df-quickchart {\n",
              "    background-color: var(--bg-color);\n",
              "    border: none;\n",
              "    border-radius: 50%;\n",
              "    cursor: pointer;\n",
              "    display: none;\n",
              "    fill: var(--fill-color);\n",
              "    height: 32px;\n",
              "    padding: 0;\n",
              "    width: 32px;\n",
              "  }\n",
              "\n",
              "  .colab-df-quickchart:hover {\n",
              "    background-color: var(--hover-bg-color);\n",
              "    box-shadow: 0 1px 2px rgba(60, 64, 67, 0.3), 0 1px 3px 1px rgba(60, 64, 67, 0.15);\n",
              "    fill: var(--button-hover-fill-color);\n",
              "  }\n",
              "\n",
              "  .colab-df-quickchart-complete:disabled,\n",
              "  .colab-df-quickchart-complete:disabled:hover {\n",
              "    background-color: var(--disabled-bg-color);\n",
              "    fill: var(--disabled-fill-color);\n",
              "    box-shadow: none;\n",
              "  }\n",
              "\n",
              "  .colab-df-spinner {\n",
              "    border: 2px solid var(--fill-color);\n",
              "    border-color: transparent;\n",
              "    border-bottom-color: var(--fill-color);\n",
              "    animation:\n",
              "      spin 1s steps(1) infinite;\n",
              "  }\n",
              "\n",
              "  @keyframes spin {\n",
              "    0% {\n",
              "      border-color: transparent;\n",
              "      border-bottom-color: var(--fill-color);\n",
              "      border-left-color: var(--fill-color);\n",
              "    }\n",
              "    20% {\n",
              "      border-color: transparent;\n",
              "      border-left-color: var(--fill-color);\n",
              "      border-top-color: var(--fill-color);\n",
              "    }\n",
              "    30% {\n",
              "      border-color: transparent;\n",
              "      border-left-color: var(--fill-color);\n",
              "      border-top-color: var(--fill-color);\n",
              "      border-right-color: var(--fill-color);\n",
              "    }\n",
              "    40% {\n",
              "      border-color: transparent;\n",
              "      border-right-color: var(--fill-color);\n",
              "      border-top-color: var(--fill-color);\n",
              "    }\n",
              "    60% {\n",
              "      border-color: transparent;\n",
              "      border-right-color: var(--fill-color);\n",
              "    }\n",
              "    80% {\n",
              "      border-color: transparent;\n",
              "      border-right-color: var(--fill-color);\n",
              "      border-bottom-color: var(--fill-color);\n",
              "    }\n",
              "    90% {\n",
              "      border-color: transparent;\n",
              "      border-bottom-color: var(--fill-color);\n",
              "    }\n",
              "  }\n",
              "</style>\n",
              "\n",
              "  <script>\n",
              "    async function quickchart(key) {\n",
              "      const quickchartButtonEl =\n",
              "        document.querySelector('#' + key + ' button');\n",
              "      quickchartButtonEl.disabled = true;  // To prevent multiple clicks.\n",
              "      quickchartButtonEl.classList.add('colab-df-spinner');\n",
              "      try {\n",
              "        const charts = await google.colab.kernel.invokeFunction(\n",
              "            'suggestCharts', [key], {});\n",
              "      } catch (error) {\n",
              "        console.error('Error during call to suggestCharts:', error);\n",
              "      }\n",
              "      quickchartButtonEl.classList.remove('colab-df-spinner');\n",
              "      quickchartButtonEl.classList.add('colab-df-quickchart-complete');\n",
              "    }\n",
              "    (() => {\n",
              "      let quickchartButtonEl =\n",
              "        document.querySelector('#df-e3a968f1-5579-4336-8f2f-5a402fe0889e button');\n",
              "      quickchartButtonEl.style.display =\n",
              "        google.colab.kernel.accessAllowed ? 'block' : 'none';\n",
              "    })();\n",
              "  </script>\n",
              "</div>\n",
              "\n",
              "    </div>\n",
              "  </div>\n"
            ],
            "application/vnd.google.colaboratory.intrinsic+json": {
              "type": "dataframe",
              "summary": "{\n  \"name\": \"bitcoin_prices_block\",\n  \"rows\": 10,\n  \"fields\": [\n    {\n      \"column\": \"Date\",\n      \"properties\": {\n        \"dtype\": \"date\",\n        \"min\": \"2014-04-28 00:00:00\",\n        \"max\": \"2020-08-11 00:00:00\",\n        \"num_unique_values\": 10,\n        \"samples\": [\n          \"2014-09-02 00:00:00\",\n          \"2018-06-01 00:00:00\",\n          \"2015-09-23 00:00:00\"\n        ],\n        \"semantic_type\": \"\",\n        \"description\": \"\"\n      }\n    },\n    {\n      \"column\": \"Price\",\n      \"properties\": {\n        \"dtype\": \"number\",\n        \"std\": 4238.88967166004,\n        \"min\": 231.30983,\n        \"max\": 11832.2273081293,\n        \"num_unique_values\": 10,\n        \"samples\": [\n          477.98375,\n          7490.62125,\n          231.30983\n        ],\n        \"semantic_type\": \"\",\n        \"description\": \"\"\n      }\n    },\n    {\n      \"column\": \"block_reward\",\n      \"properties\": {\n        \"dtype\": \"date\",\n        \"min\": 6.25,\n        \"max\": 25,\n        \"num_unique_values\": 3,\n        \"samples\": [\n          12.5,\n          6.25,\n          25\n        ],\n        \"semantic_type\": \"\",\n        \"description\": \"\"\n      }\n    }\n  ]\n}"
            }
          },
          "metadata": {},
          "execution_count": 66
        }
      ],
      "source": [
        "#Add block_reward column\n",
        "bitcoin_prices_block = bitcoin_prices.copy()\n",
        "bitcoin_prices_block[\"block_reward\"] = None\n",
        "\n",
        "#set values of block column\n",
        "bitcoin_prices_block.iloc[:block_reward_2_days, -1] = block_reward_2\n",
        "bitcoin_prices_block.iloc[block_reward_2_days:block_reward_3_days, -1] = block_reward_3\n",
        "bitcoin_prices_block.iloc[block_reward_3_days:, -1] = block_reward_4\n",
        "bitcoin_prices_block.sample(10)"
      ]
    },
    {
      "cell_type": "code",
      "execution_count": 67,
      "metadata": {
        "colab": {
          "base_uri": "https://localhost:8080/",
          "height": 637
        },
        "id": "BFbWVS8YW-Iz",
        "outputId": "3f0c219d-c760-4e63-9d92-e03094ce8333"
      },
      "outputs": [
        {
          "output_type": "execute_result",
          "data": {
            "text/plain": [
              "<Axes: xlabel='Date'>"
            ]
          },
          "metadata": {},
          "execution_count": 67
        },
        {
          "output_type": "display_data",
          "data": {
            "text/plain": [
              "<Figure size 1000x700 with 1 Axes>"
            ],
            "image/png": "[encoded data removed]"
          },
          "metadata": {}
        }
      ],
      "source": [
        "#plot the block reward /price\n",
        "#Note: Because of the different scales of our values we'll scale them to be between 0 and 1.\n",
        "from sklearn.preprocessing import minmax_scale\n",
        "scaled_price_block_df = pd.DataFrame(minmax_scale(bitcoin_prices_block[[\"Price\", \"block_reward\"]]),\n",
        "                                     columns = bitcoin_prices_block.columns,\n",
        "                                     index=bitcoin_prices_block.index)\n",
        "\n",
        "\n",
        "scaled_price_block_df.plot(figsize=(10,7))\n"
      ]
    },
    {
      "cell_type": "code",
      "execution_count": 68,
      "metadata": {
        "id": "Tx8NCWwSYdEh"
      },
      "outputs": [],
      "source": [
        "\n",
        "#setup dataset hyperparamets\n",
        "\n",
        "HORIZON = 1\n",
        "WINDOW_SIZE = 7"
      ]
    },
    {
      "cell_type": "code",
      "execution_count": 69,
      "metadata": {
        "colab": {
          "base_uri": "https://localhost:8080/",
          "height": 394
        },
        "id": "91qDpFocZQ5y",
        "outputId": "f57373b4-2bb5-4cae-dce6-ee8b304586f5"
      },
      "outputs": [
        {
          "output_type": "execute_result",
          "data": {
            "text/plain": [
              "                Price block_reward    Price+1    Price+2    Price+3  \\\n",
              "Date                                                                  \n",
              "2013-10-01  123.65499           25        NaN        NaN        NaN   \n",
              "2013-10-02  125.45500           25  123.65499        NaN        NaN   \n",
              "2013-10-03  108.58483           25  125.45500  123.65499        NaN   \n",
              "2013-10-04  118.67466           25  108.58483  125.45500  123.65499   \n",
              "2013-10-05  121.33866           25  118.67466  108.58483  125.45500   \n",
              "2013-10-06  120.65533           25  121.33866  118.67466  108.58483   \n",
              "2013-10-07  121.79500           25  120.65533  121.33866  118.67466   \n",
              "2013-10-08  123.03300           25  121.79500  120.65533  121.33866   \n",
              "2013-10-09  124.04900           25  123.03300  121.79500  120.65533   \n",
              "2013-10-10  125.96116           25  124.04900  123.03300  121.79500   \n",
              "\n",
              "              Price+4    Price+5    Price+6    Price+7  \n",
              "Date                                                    \n",
              "2013-10-01        NaN        NaN        NaN        NaN  \n",
              "2013-10-02        NaN        NaN        NaN        NaN  \n",
              "2013-10-03        NaN        NaN        NaN        NaN  \n",
              "2013-10-04        NaN        NaN        NaN        NaN  \n",
              "2013-10-05  123.65499        NaN        NaN        NaN  \n",
              "2013-10-06  125.45500  123.65499        NaN        NaN  \n",
              "2013-10-07  108.58483  125.45500  123.65499        NaN  \n",
              "2013-10-08  118.67466  108.58483  125.45500  123.65499  \n",
              "2013-10-09  121.33866  118.67466  108.58483  125.45500  \n",
              "2013-10-10  120.65533  121.33866  118.67466  108.58483  "
            ],
            "text/html": [
              "\n",
              "  <div id=\"df-bf137a2b-4701-47f7-a429-368bf4b79205\" class=\"colab-df-container\">\n",
              "    <div>\n",
              "<style scoped>\n",
              "    .dataframe tbody tr th:only-of-type {\n",
              "        vertical-align: middle;\n",
              "    }\n",
              "\n",
              "    .dataframe tbody tr th {\n",
              "        vertical-align: top;\n",
              "    }\n",
              "\n",
              "    .dataframe thead th {\n",
              "        text-align: right;\n",
              "    }\n",
              "</style>\n",
              "<table border=\"1\" class=\"dataframe\">\n",
              "  <thead>\n",
              "    <tr style=\"text-align: right;\">\n",
              "      <th></th>\n",
              "      <th>Price</th>\n",
              "      <th>block_reward</th>\n",
              "      <th>Price+1</th>\n",
              "      <th>Price+2</th>\n",
              "      <th>Price+3</th>\n",
              "      <th>Price+4</th>\n",
              "      <th>Price+5</th>\n",
              "      <th>Price+6</th>\n",
              "      <th>Price+7</th>\n",
              "    </tr>\n",
              "    <tr>\n",
              "      <th>Date</th>\n",
              "      <th></th>\n",
              "      <th></th>\n",
              "      <th></th>\n",
              "      <th></th>\n",
              "      <th></th>\n",
              "      <th></th>\n",
              "      <th></th>\n",
              "      <th></th>\n",
              "      <th></th>\n",
              "    </tr>\n",
              "  </thead>\n",
              "  <tbody>\n",
              "    <tr>\n",
              "      <th>2013-10-01</th>\n",
              "      <td>123.65499</td>\n",
              "      <td>25</td>\n",
              "      <td>NaN</td>\n",
              "      <td>NaN</td>\n",
              "      <td>NaN</td>\n",
              "      <td>NaN</td>\n",
              "      <td>NaN</td>\n",
              "      <td>NaN</td>\n",
              "      <td>NaN</td>\n",
              "    </tr>\n",
              "    <tr>\n",
              "      <th>2013-10-02</th>\n",
              "      <td>125.45500</td>\n",
              "      <td>25</td>\n",
              "      <td>123.65499</td>\n",
              "      <td>NaN</td>\n",
              "      <td>NaN</td>\n",
              "      <td>NaN</td>\n",
              "      <td>NaN</td>\n",
              "      <td>NaN</td>\n",
              "      <td>NaN</td>\n",
              "    </tr>\n",
              "    <tr>\n",
              "      <th>2013-10-03</th>\n",
              "      <td>108.58483</td>\n",
              "      <td>25</td>\n",
              "      <td>125.45500</td>\n",
              "      <td>123.65499</td>\n",
              "      <td>NaN</td>\n",
              "      <td>NaN</td>\n",
              "      <td>NaN</td>\n",
              "      <td>NaN</td>\n",
              "      <td>NaN</td>\n",
              "    </tr>\n",
              "    <tr>\n",
              "      <th>2013-10-04</th>\n",
              "      <td>118.67466</td>\n",
              "      <td>25</td>\n",
              "      <td>108.58483</td>\n",
              "      <td>125.45500</td>\n",
              "      <td>123.65499</td>\n",
              "      <td>NaN</td>\n",
              "      <td>NaN</td>\n",
              "      <td>NaN</td>\n",
              "      <td>NaN</td>\n",
              "    </tr>\n",
              "    <tr>\n",
              "      <th>2013-10-05</th>\n",
              "      <td>121.33866</td>\n",
              "      <td>25</td>\n",
              "      <td>118.67466</td>\n",
              "      <td>108.58483</td>\n",
              "      <td>125.45500</td>\n",
              "      <td>123.65499</td>\n",
              "      <td>NaN</td>\n",
              "      <td>NaN</td>\n",
              "      <td>NaN</td>\n",
              "    </tr>\n",
              "    <tr>\n",
              "      <th>2013-10-06</th>\n",
              "      <td>120.65533</td>\n",
              "      <td>25</td>\n",
              "      <td>121.33866</td>\n",
              "      <td>118.67466</td>\n",
              "      <td>108.58483</td>\n",
              "      <td>125.45500</td>\n",
              "      <td>123.65499</td>\n",
              "      <td>NaN</td>\n",
              "      <td>NaN</td>\n",
              "    </tr>\n",
              "    <tr>\n",
              "      <th>2013-10-07</th>\n",
              "      <td>121.79500</td>\n",
              "      <td>25</td>\n",
              "      <td>120.65533</td>\n",
              "      <td>121.33866</td>\n",
              "      <td>118.67466</td>\n",
              "      <td>108.58483</td>\n",
              "      <td>125.45500</td>\n",
              "      <td>123.65499</td>\n",
              "      <td>NaN</td>\n",
              "    </tr>\n",
              "    <tr>\n",
              "      <th>2013-10-08</th>\n",
              "      <td>123.03300</td>\n",
              "      <td>25</td>\n",
              "      <td>121.79500</td>\n",
              "      <td>120.65533</td>\n",
              "      <td>121.33866</td>\n",
              "      <td>118.67466</td>\n",
              "      <td>108.58483</td>\n",
              "      <td>125.45500</td>\n",
              "      <td>123.65499</td>\n",
              "    </tr>\n",
              "    <tr>\n",
              "      <th>2013-10-09</th>\n",
              "      <td>124.04900</td>\n",
              "      <td>25</td>\n",
              "      <td>123.03300</td>\n",
              "      <td>121.79500</td>\n",
              "      <td>120.65533</td>\n",
              "      <td>121.33866</td>\n",
              "      <td>118.67466</td>\n",
              "      <td>108.58483</td>\n",
              "      <td>125.45500</td>\n",
              "    </tr>\n",
              "    <tr>\n",
              "      <th>2013-10-10</th>\n",
              "      <td>125.96116</td>\n",
              "      <td>25</td>\n",
              "      <td>124.04900</td>\n",
              "      <td>123.03300</td>\n",
              "      <td>121.79500</td>\n",
              "      <td>120.65533</td>\n",
              "      <td>121.33866</td>\n",
              "      <td>118.67466</td>\n",
              "      <td>108.58483</td>\n",
              "    </tr>\n",
              "  </tbody>\n",
              "</table>\n",
              "</div>\n",
              "    <div class=\"colab-df-buttons\">\n",
              "\n",
              "  <div class=\"colab-df-container\">\n",
              "    <button class=\"colab-df-convert\" onclick=\"convertToInteractive('df-bf137a2b-4701-47f7-a429-368bf4b79205')\"\n",
              "            title=\"Convert this dataframe to an interactive table.\"\n",
              "            style=\"display:none;\">\n",
              "\n",
              "  <svg xmlns=\"http://www.w3.org/2000/svg\" height=\"24px\" viewBox=\"0 -960 960 960\">\n",
              "    <path d=\"M120-120v-720h720v720H120Zm60-500h600v-160H180v160Zm220 220h160v-160H400v160Zm0 220h160v-160H400v160ZM180-400h160v-160H180v160Zm440 0h160v-160H620v160ZM180-180h160v-160H180v160Zm440 0h160v-160H620v160Z\"/>\n",
              "  </svg>\n",
              "    </button>\n",
              "\n",
              "  <style>\n",
              "    .colab-df-container {\n",
              "      display:flex;\n",
              "      gap: 12px;\n",
              "    }\n",
              "\n",
              "    .colab-df-convert {\n",
              "      background-color: #E8F0FE;\n",
              "      border: none;\n",
              "      border-radius: 50%;\n",
              "      cursor: pointer;\n",
              "      display: none;\n",
              "      fill: #1967D2;\n",
              "      height: 32px;\n",
              "      padding: 0 0 0 0;\n",
              "      width: 32px;\n",
              "    }\n",
              "\n",
              "    .colab-df-convert:hover {\n",
              "      background-color: #E2EBFA;\n",
              "      box-shadow: 0px 1px 2px rgba(60, 64, 67, 0.3), 0px 1px 3px 1px rgba(60, 64, 67, 0.15);\n",
              "      fill: #174EA6;\n",
              "    }\n",
              "\n",
              "    .colab-df-buttons div {\n",
              "      margin-bottom: 4px;\n",
              "    }\n",
              "\n",
              "    [theme=dark] .colab-df-convert {\n",
              "      background-color: #3B4455;\n",
              "      fill: #D2E3FC;\n",
              "    }\n",
              "\n",
              "    [theme=dark] .colab-df-convert:hover {\n",
              "      background-color: #434B5C;\n",
              "      box-shadow: 0px 1px 3px 1px rgba(0, 0, 0, 0.15);\n",
              "      filter: drop-shadow(0px 1px 2px rgba(0, 0, 0, 0.3));\n",
              "      fill: #FFFFFF;\n",
              "    }\n",
              "  </style>\n",
              "\n",
              "    <script>\n",
              "      const buttonEl =\n",
              "        document.querySelector('#df-bf137a2b-4701-47f7-a429-368bf4b79205 button.colab-df-convert');\n",
              "      buttonEl.style.display =\n",
              "        google.colab.kernel.accessAllowed ? 'block' : 'none';\n",
              "\n",
              "      async function convertToInteractive(key) {\n",
              "        const element = document.querySelector('#df-bf137a2b-4701-47f7-a429-368bf4b79205');\n",
              "        const dataTable =\n",
              "          await google.colab.kernel.invokeFunction('convertToInteractive',\n",
              "                                                    [key], {});\n",
              "        if (!dataTable) return;\n",
              "\n",
              "        const docLinkHtml = 'Like what you see? Visit the ' +\n",
              "          '<a target=\"_blank\" href=https://colab.research.google.com/notebooks/data_table.ipynb>data table notebook</a>'\n",
              "          + ' to learn more about interactive tables.';\n",
              "        element.innerHTML = '';\n",
              "        dataTable['output_type'] = 'display_data';\n",
              "        await google.colab.output.renderOutput(dataTable, element);\n",
              "        const docLink = document.createElement('div');\n",
              "        docLink.innerHTML = docLinkHtml;\n",
              "        element.appendChild(docLink);\n",
              "      }\n",
              "    </script>\n",
              "  </div>\n",
              "\n",
              "\n",
              "<div id=\"df-dd35c56c-332c-4743-8bc8-839b7e62122a\">\n",
              "  <button class=\"colab-df-quickchart\" onclick=\"quickchart('df-dd35c56c-332c-4743-8bc8-839b7e62122a')\"\n",
              "            title=\"Suggest charts\"\n",
              "            style=\"display:none;\">\n",
              "\n",
              "<svg xmlns=\"http://www.w3.org/2000/svg\" height=\"24px\"viewBox=\"0 0 24 24\"\n",
              "     width=\"24px\">\n",
              "    <g>\n",
              "        <path d=\"M19 3H5c-1.1 0-2 .9-2 2v14c0 1.1.9 2 2 2h14c1.1 0 2-.9 2-2V5c0-1.1-.9-2-2-2zM9 17H7v-7h2v7zm4 0h-2V7h2v10zm4 0h-2v-4h2v4z\"/>\n",
              "    </g>\n",
              "</svg>\n",
              "  </button>\n",
              "\n",
              "<style>\n",
              "  .colab-df-quickchart {\n",
              "      --bg-color: #E8F0FE;\n",
              "      --fill-color: #1967D2;\n",
              "      --hover-bg-color: #E2EBFA;\n",
              "      --hover-fill-color: #174EA6;\n",
              "      --disabled-fill-color: #AAA;\n",
              "      --disabled-bg-color: #DDD;\n",
              "  }\n",
              "\n",
              "  [theme=dark] .colab-df-quickchart {\n",
              "      --bg-color: #3B4455;\n",
              "      --fill-color: #D2E3FC;\n",
              "      --hover-bg-color: #434B5C;\n",
              "      --hover-fill-color: #FFFFFF;\n",
              "      --disabled-bg-color: #3B4455;\n",
              "      --disabled-fill-color: #666;\n",
              "  }\n",
              "\n",
              "  .colab-df-quickchart {\n",
              "    background-color: var(--bg-color);\n",
              "    border: none;\n",
              "    border-radius: 50%;\n",
              "    cursor: pointer;\n",
              "    display: none;\n",
              "    fill: var(--fill-color);\n",
              "    height: 32px;\n",
              "    padding: 0;\n",
              "    width: 32px;\n",
              "  }\n",
              "\n",
              "  .colab-df-quickchart:hover {\n",
              "    background-color: var(--hover-bg-color);\n",
              "    box-shadow: 0 1px 2px rgba(60, 64, 67, 0.3), 0 1px 3px 1px rgba(60, 64, 67, 0.15);\n",
              "    fill: var(--button-hover-fill-color);\n",
              "  }\n",
              "\n",
              "  .colab-df-quickchart-complete:disabled,\n",
              "  .colab-df-quickchart-complete:disabled:hover {\n",
              "    background-color: var(--disabled-bg-color);\n",
              "    fill: var(--disabled-fill-color);\n",
              "    box-shadow: none;\n",
              "  }\n",
              "\n",
              "  .colab-df-spinner {\n",
              "    border: 2px solid var(--fill-color);\n",
              "    border-color: transparent;\n",
              "    border-bottom-color: var(--fill-color);\n",
              "    animation:\n",
              "      spin 1s steps(1) infinite;\n",
              "  }\n",
              "\n",
              "  @keyframes spin {\n",
              "    0% {\n",
              "      border-color: transparent;\n",
              "      border-bottom-color: var(--fill-color);\n",
              "      border-left-color: var(--fill-color);\n",
              "    }\n",
              "    20% {\n",
              "      border-color: transparent;\n",
              "      border-left-color: var(--fill-color);\n",
              "      border-top-color: var(--fill-color);\n",
              "    }\n",
              "    30% {\n",
              "      border-color: transparent;\n",
              "      border-left-color: var(--fill-color);\n",
              "      border-top-color: var(--fill-color);\n",
              "      border-right-color: var(--fill-color);\n",
              "    }\n",
              "    40% {\n",
              "      border-color: transparent;\n",
              "      border-right-color: var(--fill-color);\n",
              "      border-top-color: var(--fill-color);\n",
              "    }\n",
              "    60% {\n",
              "      border-color: transparent;\n",
              "      border-right-color: var(--fill-color);\n",
              "    }\n",
              "    80% {\n",
              "      border-color: transparent;\n",
              "      border-right-color: var(--fill-color);\n",
              "      border-bottom-color: var(--fill-color);\n",
              "    }\n",
              "    90% {\n",
              "      border-color: transparent;\n",
              "      border-bottom-color: var(--fill-color);\n",
              "    }\n",
              "  }\n",
              "</style>\n",
              "\n",
              "  <script>\n",
              "    async function quickchart(key) {\n",
              "      const quickchartButtonEl =\n",
              "        document.querySelector('#' + key + ' button');\n",
              "      quickchartButtonEl.disabled = true;  // To prevent multiple clicks.\n",
              "      quickchartButtonEl.classList.add('colab-df-spinner');\n",
              "      try {\n",
              "        const charts = await google.colab.kernel.invokeFunction(\n",
              "            'suggestCharts', [key], {});\n",
              "      } catch (error) {\n",
              "        console.error('Error during call to suggestCharts:', error);\n",
              "      }\n",
              "      quickchartButtonEl.classList.remove('colab-df-spinner');\n",
              "      quickchartButtonEl.classList.add('colab-df-quickchart-complete');\n",
              "    }\n",
              "    (() => {\n",
              "      let quickchartButtonEl =\n",
              "        document.querySelector('#df-dd35c56c-332c-4743-8bc8-839b7e62122a button');\n",
              "      quickchartButtonEl.style.display =\n",
              "        google.colab.kernel.accessAllowed ? 'block' : 'none';\n",
              "    })();\n",
              "  </script>\n",
              "</div>\n",
              "\n",
              "    </div>\n",
              "  </div>\n"
            ],
            "application/vnd.google.colaboratory.intrinsic+json": {
              "type": "dataframe",
              "variable_name": "bitcoin_prices_windowed",
              "summary": "{\n  \"name\": \"bitcoin_prices_windowed\",\n  \"rows\": 2787,\n  \"fields\": [\n    {\n      \"column\": \"Date\",\n      \"properties\": {\n        \"dtype\": \"date\",\n        \"min\": \"2013-10-01 00:00:00\",\n        \"max\": \"2021-05-18 00:00:00\",\n        \"num_unique_values\": 2787,\n        \"samples\": [\n          \"2019-06-11 00:00:00\",\n          \"2021-05-03 00:00:00\",\n          \"2017-10-05 00:00:00\"\n        ],\n        \"semantic_type\": \"\",\n        \"description\": \"\"\n      }\n    },\n    {\n      \"column\": \"Price\",\n      \"properties\": {\n        \"dtype\": \"number\",\n        \"std\": 10887.84744436952,\n        \"min\": 108.58483,\n        \"max\": 63346.7890351052,\n        \"num_unique_values\": 2787,\n        \"samples\": [\n          7954.0062377205,\n          56427.0431250152,\n          4186.78374\n        ],\n        \"semantic_type\": \"\",\n        \"description\": \"\"\n      }\n    },\n    {\n      \"column\": \"block_reward\",\n      \"properties\": {\n        \"dtype\": \"date\",\n        \"min\": 6.25,\n        \"max\": 25,\n        \"num_unique_values\": 3,\n        \"samples\": [\n          25,\n          12.5,\n          6.25\n        ],\n        \"semantic_type\": \"\",\n        \"description\": \"\"\n      }\n    },\n    {\n      \"column\": \"Price+1\",\n      \"properties\": {\n        \"dtype\": \"number\",\n        \"std\": 10867.669449725987,\n        \"min\": 108.58483,\n        \"max\": 63346.7890351052,\n        \"num_unique_values\": 2786,\n        \"samples\": [\n          7600.9224920885,\n          57677.9752218988,\n          4186.78374\n        ],\n        \"semantic_type\": \"\",\n        \"description\": \"\"\n      }\n    },\n    {\n      \"column\": \"Price+2\",\n      \"properties\": {\n        \"dtype\": \"number\",\n        \"std\": 10844.337848303785,\n        \"min\": 108.58483,\n        \"max\": 63346.7890351052,\n        \"num_unique_values\": 2785,\n        \"samples\": [\n          7600.9224920885,\n          57302.6464240813,\n          4186.78374\n        ],\n        \"semantic_type\": \"\",\n        \"description\": \"\"\n      }\n    },\n    {\n      \"column\": \"Price+3\",\n      \"properties\": {\n        \"dtype\": \"number\",\n        \"std\": 10817.871229715483,\n        \"min\": 108.58483,\n        \"max\": 63346.7890351052,\n        \"num_unique_values\": 2784,\n        \"samples\": [\n          241.07183,\n          6883.4963937703,\n          9126.6368222216\n        ],\n        \"semantic_type\": \"\",\n        \"description\": \"\"\n      }\n    },\n    {\n      \"column\": \"Price+4\",\n      \"properties\": {\n        \"dtype\": \"number\",\n        \"std\": 10788.261115483672,\n        \"min\": 108.58483,\n        \"max\": 63346.7890351052,\n        \"num_unique_values\": 2783,\n        \"samples\": [\n          241.07183,\n          15374.0443857602,\n          9078.5787771302\n        ],\n        \"semantic_type\": \"\",\n        \"description\": \"\"\n      }\n    },\n    {\n      \"column\": \"Price+5\",\n      \"properties\": {\n        \"dtype\": \"number\",\n        \"std\": 10758.915269128049,\n        \"min\": 108.58483,\n        \"max\": 63346.7890351052,\n        \"num_unique_values\": 2782,\n        \"samples\": [\n          6181.7442069566,\n          10691.31129913,\n          3920.99125\n        ],\n        \"semantic_type\": \"\",\n        \"description\": \"\"\n      }\n    },\n    {\n      \"column\": \"Price+6\",\n      \"properties\": {\n        \"dtype\": \"number\",\n        \"std\": 10725.887328798459,\n        \"min\": 108.58483,\n        \"max\": 63346.7890351052,\n        \"num_unique_values\": 2781,\n        \"samples\": [\n          15242.93625,\n          609.495,\n          3753.435\n        ],\n        \"semantic_type\": \"\",\n        \"description\": \"\"\n      }\n    },\n    {\n      \"column\": \"Price+7\",\n      \"properties\": {\n        \"dtype\": \"number\",\n        \"std\": 10685.56601239665,\n        \"min\": 108.58483,\n        \"max\": 63346.7890351052,\n        \"num_unique_values\": 2780,\n        \"samples\": [\n          15242.93625,\n          609.495,\n          3753.435\n        ],\n        \"semantic_type\": \"\",\n        \"description\": \"\"\n      }\n    }\n  ]\n}"
            }
          },
          "metadata": {},
          "execution_count": 69
        }
      ],
      "source": [
        "#MAKE A COPY OF THE BITOCIN HISTORYCAL DATA WITH BLOCK reward feature\n",
        "bitcoin_prices_windowed = bitcoin_prices_block.copy()\n",
        "\n",
        "#Add windowed columns\n",
        "for i in range(WINDOW_SIZE): #shift values for each step in window size\n",
        "  bitcoin_prices_windowed[f\"Price+{i+1}\"] = bitcoin_prices_windowed[\"Price\"].shift(periods=i+1)\n",
        "bitcoin_prices_windowed.head(10)"
      ]
    },
    {
      "cell_type": "code",
      "execution_count": 70,
      "metadata": {
        "colab": {
          "base_uri": "https://localhost:8080/",
          "height": 238
        },
        "id": "XsdNwcvNZRM8",
        "outputId": "b6b7d209-cbfa-43b2-a9c5-3ddcd325892c"
      },
      "outputs": [
        {
          "output_type": "execute_result",
          "data": {
            "text/plain": [
              "            block_reward     Price+1     Price+2     Price+3     Price+4  \\\n",
              "Date                                                                       \n",
              "2013-10-08          25.0  121.794998  120.655327  121.338661  118.674660   \n",
              "2013-10-09          25.0  123.032997  121.794998  120.655327  121.338661   \n",
              "2013-10-10          25.0  124.049004  123.032997  121.794998  120.655327   \n",
              "2013-10-11          25.0  125.961159  124.049004  123.032997  121.794998   \n",
              "2013-10-12          25.0  125.279663  125.961159  124.049004  123.032997   \n",
              "\n",
              "               Price+5     Price+6     Price+7  \n",
              "Date                                            \n",
              "2013-10-08  108.584831  125.455002  123.654991  \n",
              "2013-10-09  118.674660  108.584831  125.455002  \n",
              "2013-10-10  121.338661  118.674660  108.584831  \n",
              "2013-10-11  120.655327  121.338661  118.674660  \n",
              "2013-10-12  121.794998  120.655327  121.338661  "
            ],
            "text/html": [
              "\n",
              "  <div id=\"df-2f3472bf-6682-4a09-88ef-1ec531e4bb92\" class=\"colab-df-container\">\n",
              "    <div>\n",
              "<style scoped>\n",
              "    .dataframe tbody tr th:only-of-type {\n",
              "        vertical-align: middle;\n",
              "    }\n",
              "\n",
              "    .dataframe tbody tr th {\n",
              "        vertical-align: top;\n",
              "    }\n",
              "\n",
              "    .dataframe thead th {\n",
              "        text-align: right;\n",
              "    }\n",
              "</style>\n",
              "<table border=\"1\" class=\"dataframe\">\n",
              "  <thead>\n",
              "    <tr style=\"text-align: right;\">\n",
              "      <th></th>\n",
              "      <th>block_reward</th>\n",
              "      <th>Price+1</th>\n",
              "      <th>Price+2</th>\n",
              "      <th>Price+3</th>\n",
              "      <th>Price+4</th>\n",
              "      <th>Price+5</th>\n",
              "      <th>Price+6</th>\n",
              "      <th>Price+7</th>\n",
              "    </tr>\n",
              "    <tr>\n",
              "      <th>Date</th>\n",
              "      <th></th>\n",
              "      <th></th>\n",
              "      <th></th>\n",
              "      <th></th>\n",
              "      <th></th>\n",
              "      <th></th>\n",
              "      <th></th>\n",
              "      <th></th>\n",
              "    </tr>\n",
              "  </thead>\n",
              "  <tbody>\n",
              "    <tr>\n",
              "      <th>2013-10-08</th>\n",
              "      <td>25.0</td>\n",
              "      <td>121.794998</td>\n",
              "      <td>120.655327</td>\n",
              "      <td>121.338661</td>\n",
              "      <td>118.674660</td>\n",
              "      <td>108.584831</td>\n",
              "      <td>125.455002</td>\n",
              "      <td>123.654991</td>\n",
              "    </tr>\n",
              "    <tr>\n",
              "      <th>2013-10-09</th>\n",
              "      <td>25.0</td>\n",
              "      <td>123.032997</td>\n",
              "      <td>121.794998</td>\n",
              "      <td>120.655327</td>\n",
              "      <td>121.338661</td>\n",
              "      <td>118.674660</td>\n",
              "      <td>108.584831</td>\n",
              "      <td>125.455002</td>\n",
              "    </tr>\n",
              "    <tr>\n",
              "      <th>2013-10-10</th>\n",
              "      <td>25.0</td>\n",
              "      <td>124.049004</td>\n",
              "      <td>123.032997</td>\n",
              "      <td>121.794998</td>\n",
              "      <td>120.655327</td>\n",
              "      <td>121.338661</td>\n",
              "      <td>118.674660</td>\n",
              "      <td>108.584831</td>\n",
              "    </tr>\n",
              "    <tr>\n",
              "      <th>2013-10-11</th>\n",
              "      <td>25.0</td>\n",
              "      <td>125.961159</td>\n",
              "      <td>124.049004</td>\n",
              "      <td>123.032997</td>\n",
              "      <td>121.794998</td>\n",
              "      <td>120.655327</td>\n",
              "      <td>121.338661</td>\n",
              "      <td>118.674660</td>\n",
              "    </tr>\n",
              "    <tr>\n",
              "      <th>2013-10-12</th>\n",
              "      <td>25.0</td>\n",
              "      <td>125.279663</td>\n",
              "      <td>125.961159</td>\n",
              "      <td>124.049004</td>\n",
              "      <td>123.032997</td>\n",
              "      <td>121.794998</td>\n",
              "      <td>120.655327</td>\n",
              "      <td>121.338661</td>\n",
              "    </tr>\n",
              "  </tbody>\n",
              "</table>\n",
              "</div>\n",
              "    <div class=\"colab-df-buttons\">\n",
              "\n",
              "  <div class=\"colab-df-container\">\n",
              "    <button class=\"colab-df-convert\" onclick=\"convertToInteractive('df-2f3472bf-6682-4a09-88ef-1ec531e4bb92')\"\n",
              "            title=\"Convert this dataframe to an interactive table.\"\n",
              "            style=\"display:none;\">\n",
              "\n",
              "  <svg xmlns=\"http://www.w3.org/2000/svg\" height=\"24px\" viewBox=\"0 -960 960 960\">\n",
              "    <path d=\"M120-120v-720h720v720H120Zm60-500h600v-160H180v160Zm220 220h160v-160H400v160Zm0 220h160v-160H400v160ZM180-400h160v-160H180v160Zm440 0h160v-160H620v160ZM180-180h160v-160H180v160Zm440 0h160v-160H620v160Z\"/>\n",
              "  </svg>\n",
              "    </button>\n",
              "\n",
              "  <style>\n",
              "    .colab-df-container {\n",
              "      display:flex;\n",
              "      gap: 12px;\n",
              "    }\n",
              "\n",
              "    .colab-df-convert {\n",
              "      background-color: #E8F0FE;\n",
              "      border: none;\n",
              "      border-radius: 50%;\n",
              "      cursor: pointer;\n",
              "      display: none;\n",
              "      fill: #1967D2;\n",
              "      height: 32px;\n",
              "      padding: 0 0 0 0;\n",
              "      width: 32px;\n",
              "    }\n",
              "\n",
              "    .colab-df-convert:hover {\n",
              "      background-color: #E2EBFA;\n",
              "      box-shadow: 0px 1px 2px rgba(60, 64, 67, 0.3), 0px 1px 3px 1px rgba(60, 64, 67, 0.15);\n",
              "      fill: #174EA6;\n",
              "    }\n",
              "\n",
              "    .colab-df-buttons div {\n",
              "      margin-bottom: 4px;\n",
              "    }\n",
              "\n",
              "    [theme=dark] .colab-df-convert {\n",
              "      background-color: #3B4455;\n",
              "      fill: #D2E3FC;\n",
              "    }\n",
              "\n",
              "    [theme=dark] .colab-df-convert:hover {\n",
              "      background-color: #434B5C;\n",
              "      box-shadow: 0px 1px 3px 1px rgba(0, 0, 0, 0.15);\n",
              "      filter: drop-shadow(0px 1px 2px rgba(0, 0, 0, 0.3));\n",
              "      fill: #FFFFFF;\n",
              "    }\n",
              "  </style>\n",
              "\n",
              "    <script>\n",
              "      const buttonEl =\n",
              "        document.querySelector('#df-2f3472bf-6682-4a09-88ef-1ec531e4bb92 button.colab-df-convert');\n",
              "      buttonEl.style.display =\n",
              "        google.colab.kernel.accessAllowed ? 'block' : 'none';\n",
              "\n",
              "      async function convertToInteractive(key) {\n",
              "        const element = document.querySelector('#df-2f3472bf-6682-4a09-88ef-1ec531e4bb92');\n",
              "        const dataTable =\n",
              "          await google.colab.kernel.invokeFunction('convertToInteractive',\n",
              "                                                    [key], {});\n",
              "        if (!dataTable) return;\n",
              "\n",
              "        const docLinkHtml = 'Like what you see? Visit the ' +\n",
              "          '<a target=\"_blank\" href=https://colab.research.google.com/notebooks/data_table.ipynb>data table notebook</a>'\n",
              "          + ' to learn more about interactive tables.';\n",
              "        element.innerHTML = '';\n",
              "        dataTable['output_type'] = 'display_data';\n",
              "        await google.colab.output.renderOutput(dataTable, element);\n",
              "        const docLink = document.createElement('div');\n",
              "        docLink.innerHTML = docLinkHtml;\n",
              "        element.appendChild(docLink);\n",
              "      }\n",
              "    </script>\n",
              "  </div>\n",
              "\n",
              "\n",
              "<div id=\"df-9100ad43-abca-4e5b-b6ea-c2243f8bfed3\">\n",
              "  <button class=\"colab-df-quickchart\" onclick=\"quickchart('df-9100ad43-abca-4e5b-b6ea-c2243f8bfed3')\"\n",
              "            title=\"Suggest charts\"\n",
              "            style=\"display:none;\">\n",
              "\n",
              "<svg xmlns=\"http://www.w3.org/2000/svg\" height=\"24px\"viewBox=\"0 0 24 24\"\n",
              "     width=\"24px\">\n",
              "    <g>\n",
              "        <path d=\"M19 3H5c-1.1 0-2 .9-2 2v14c0 1.1.9 2 2 2h14c1.1 0 2-.9 2-2V5c0-1.1-.9-2-2-2zM9 17H7v-7h2v7zm4 0h-2V7h2v10zm4 0h-2v-4h2v4z\"/>\n",
              "    </g>\n",
              "</svg>\n",
              "  </button>\n",
              "\n",
              "<style>\n",
              "  .colab-df-quickchart {\n",
              "      --bg-color: #E8F0FE;\n",
              "      --fill-color: #1967D2;\n",
              "      --hover-bg-color: #E2EBFA;\n",
              "      --hover-fill-color: #174EA6;\n",
              "      --disabled-fill-color: #AAA;\n",
              "      --disabled-bg-color: #DDD;\n",
              "  }\n",
              "\n",
              "  [theme=dark] .colab-df-quickchart {\n",
              "      --bg-color: #3B4455;\n",
              "      --fill-color: #D2E3FC;\n",
              "      --hover-bg-color: #434B5C;\n",
              "      --hover-fill-color: #FFFFFF;\n",
              "      --disabled-bg-color: #3B4455;\n",
              "      --disabled-fill-color: #666;\n",
              "  }\n",
              "\n",
              "  .colab-df-quickchart {\n",
              "    background-color: var(--bg-color);\n",
              "    border: none;\n",
              "    border-radius: 50%;\n",
              "    cursor: pointer;\n",
              "    display: none;\n",
              "    fill: var(--fill-color);\n",
              "    height: 32px;\n",
              "    padding: 0;\n",
              "    width: 32px;\n",
              "  }\n",
              "\n",
              "  .colab-df-quickchart:hover {\n",
              "    background-color: var(--hover-bg-color);\n",
              "    box-shadow: 0 1px 2px rgba(60, 64, 67, 0.3), 0 1px 3px 1px rgba(60, 64, 67, 0.15);\n",
              "    fill: var(--button-hover-fill-color);\n",
              "  }\n",
              "\n",
              "  .colab-df-quickchart-complete:disabled,\n",
              "  .colab-df-quickchart-complete:disabled:hover {\n",
              "    background-color: var(--disabled-bg-color);\n",
              "    fill: var(--disabled-fill-color);\n",
              "    box-shadow: none;\n",
              "  }\n",
              "\n",
              "  .colab-df-spinner {\n",
              "    border: 2px solid var(--fill-color);\n",
              "    border-color: transparent;\n",
              "    border-bottom-color: var(--fill-color);\n",
              "    animation:\n",
              "      spin 1s steps(1) infinite;\n",
              "  }\n",
              "\n",
              "  @keyframes spin {\n",
              "    0% {\n",
              "      border-color: transparent;\n",
              "      border-bottom-color: var(--fill-color);\n",
              "      border-left-color: var(--fill-color);\n",
              "    }\n",
              "    20% {\n",
              "      border-color: transparent;\n",
              "      border-left-color: var(--fill-color);\n",
              "      border-top-color: var(--fill-color);\n",
              "    }\n",
              "    30% {\n",
              "      border-color: transparent;\n",
              "      border-left-color: var(--fill-color);\n",
              "      border-top-color: var(--fill-color);\n",
              "      border-right-color: var(--fill-color);\n",
              "    }\n",
              "    40% {\n",
              "      border-color: transparent;\n",
              "      border-right-color: var(--fill-color);\n",
              "      border-top-color: var(--fill-color);\n",
              "    }\n",
              "    60% {\n",
              "      border-color: transparent;\n",
              "      border-right-color: var(--fill-color);\n",
              "    }\n",
              "    80% {\n",
              "      border-color: transparent;\n",
              "      border-right-color: var(--fill-color);\n",
              "      border-bottom-color: var(--fill-color);\n",
              "    }\n",
              "    90% {\n",
              "      border-color: transparent;\n",
              "      border-bottom-color: var(--fill-color);\n",
              "    }\n",
              "  }\n",
              "</style>\n",
              "\n",
              "  <script>\n",
              "    async function quickchart(key) {\n",
              "      const quickchartButtonEl =\n",
              "        document.querySelector('#' + key + ' button');\n",
              "      quickchartButtonEl.disabled = true;  // To prevent multiple clicks.\n",
              "      quickchartButtonEl.classList.add('colab-df-spinner');\n",
              "      try {\n",
              "        const charts = await google.colab.kernel.invokeFunction(\n",
              "            'suggestCharts', [key], {});\n",
              "      } catch (error) {\n",
              "        console.error('Error during call to suggestCharts:', error);\n",
              "      }\n",
              "      quickchartButtonEl.classList.remove('colab-df-spinner');\n",
              "      quickchartButtonEl.classList.add('colab-df-quickchart-complete');\n",
              "    }\n",
              "    (() => {\n",
              "      let quickchartButtonEl =\n",
              "        document.querySelector('#df-9100ad43-abca-4e5b-b6ea-c2243f8bfed3 button');\n",
              "      quickchartButtonEl.style.display =\n",
              "        google.colab.kernel.accessAllowed ? 'block' : 'none';\n",
              "    })();\n",
              "  </script>\n",
              "</div>\n",
              "\n",
              "    </div>\n",
              "  </div>\n"
            ],
            "application/vnd.google.colaboratory.intrinsic+json": {
              "type": "dataframe",
              "variable_name": "X",
              "summary": "{\n  \"name\": \"X\",\n  \"rows\": 2780,\n  \"fields\": [\n    {\n      \"column\": \"Date\",\n      \"properties\": {\n        \"dtype\": \"date\",\n        \"min\": \"2013-10-08 00:00:00\",\n        \"max\": \"2021-05-18 00:00:00\",\n        \"num_unique_values\": 2780,\n        \"samples\": [\n          \"2018-01-16 00:00:00\",\n          \"2016-10-11 00:00:00\",\n          \"2017-10-02 00:00:00\"\n        ],\n        \"semantic_type\": \"\",\n        \"description\": \"\"\n      }\n    },\n    {\n      \"column\": \"block_reward\",\n      \"properties\": {\n        \"dtype\": \"float32\",\n        \"num_unique_values\": 3,\n        \"samples\": [\n          25.0,\n          12.5,\n          6.25\n        ],\n        \"semantic_type\": \"\",\n        \"description\": \"\"\n      }\n    },\n    {\n      \"column\": \"Price+1\",\n      \"properties\": {\n        \"dtype\": \"float32\",\n        \"num_unique_values\": 2780,\n        \"samples\": [\n          13519.92578125,\n          615.916259765625,\n          4300.55126953125\n        ],\n        \"semantic_type\": \"\",\n        \"description\": \"\"\n      }\n    },\n    {\n      \"column\": \"Price+2\",\n      \"properties\": {\n        \"dtype\": \"float32\",\n        \"num_unique_values\": 2780,\n        \"samples\": [\n          14217.3623046875,\n          614.5962524414062,\n          4207.8251953125\n        ],\n        \"semantic_type\": \"\",\n        \"description\": \"\"\n      }\n    },\n    {\n      \"column\": \"Price+3\",\n      \"properties\": {\n        \"dtype\": \"float32\",\n        \"num_unique_values\": 2780,\n        \"samples\": [\n          14165.90625,\n          617.4450073242188,\n          4062.203857421875\n        ],\n        \"semantic_type\": \"\",\n        \"description\": \"\"\n      }\n    },\n    {\n      \"column\": \"Price+4\",\n      \"properties\": {\n        \"dtype\": \"float32\",\n        \"num_unique_values\": 2780,\n        \"samples\": [\n          13633.36328125,\n          610.2337646484375,\n          4220.27978515625\n        ],\n        \"semantic_type\": \"\",\n        \"description\": \"\"\n      }\n    },\n    {\n      \"column\": \"Price+5\",\n      \"properties\": {\n        \"dtype\": \"float32\",\n        \"num_unique_values\": 2780,\n        \"samples\": [\n          13269.59765625,\n          610.5700073242188,\n          3939.514892578125\n        ],\n        \"semantic_type\": \"\",\n        \"description\": \"\"\n      }\n    },\n    {\n      \"column\": \"Price+6\",\n      \"properties\": {\n        \"dtype\": \"float32\",\n        \"num_unique_values\": 2780,\n        \"samples\": [\n          14122.8251953125,\n          608.125,\n          3920.9912109375\n        ],\n        \"semantic_type\": \"\",\n        \"description\": \"\"\n      }\n    },\n    {\n      \"column\": \"Price+7\",\n      \"properties\": {\n        \"dtype\": \"float32\",\n        \"num_unique_values\": 2780,\n        \"samples\": [\n          15242.9365234375,\n          609.4949951171875,\n          3753.43505859375\n        ],\n        \"semantic_type\": \"\",\n        \"description\": \"\"\n      }\n    }\n  ]\n}"
            }
          },
          "metadata": {},
          "execution_count": 70
        }
      ],
      "source": [
        "X = bitcoin_prices_windowed.dropna().drop(\"Price\", axis=1).astype(np.float32)\n",
        "y = bitcoin_prices_windowed.dropna()[\"Price\"].astype(np.float32)\n",
        "X.head()"
      ]
    },
    {
      "cell_type": "code",
      "execution_count": 71,
      "metadata": {
        "colab": {
          "base_uri": "https://localhost:8080/"
        },
        "id": "EXyTxLfnZShh",
        "outputId": "c4d52bdc-a346-4761-bb89-82fa71220e71"
      },
      "outputs": [
        {
          "output_type": "execute_result",
          "data": {
            "text/plain": [
              "Date\n",
              "2013-10-08    123.032997\n",
              "2013-10-09    124.049004\n",
              "2013-10-10    125.961159\n",
              "2013-10-11    125.279663\n",
              "2013-10-12    125.927498\n",
              "Name: Price, dtype: float32"
            ]
          },
          "metadata": {},
          "execution_count": 71
        }
      ],
      "source": [
        "y.head()"
      ]
    },
    {
      "cell_type": "code",
      "execution_count": 72,
      "metadata": {
        "colab": {
          "base_uri": "https://localhost:8080/"
        },
        "id": "jgQWP-imZTcp",
        "outputId": "126d48a5-9070-45ee-ca0d-e08b4594ac14"
      },
      "outputs": [
        {
          "output_type": "execute_result",
          "data": {
            "text/plain": [
              "(2224, 2224, 556, 556)"
            ]
          },
          "metadata": {},
          "execution_count": 72
        }
      ],
      "source": [
        "#make train and test sets\n",
        "split_size = int(len(X)*0.8)\n",
        "X_train, y_train = X[:split_size], y[:split_size]\n",
        "X_test, y_test = X[split_size:], y[split_size:]\n",
        "len(X_train), len(y_train), len(X_test), len(y_test)"
      ]
    },
    {
      "cell_type": "markdown",
      "metadata": {
        "id": "_baP0zzuZRxU"
      },
      "source": [
        "#Model 6"
      ]
    },
    {
      "cell_type": "code",
      "execution_count": 73,
      "metadata": {
        "colab": {
          "base_uri": "https://localhost:8080/"
        },
        "id": "wnDFs7gSdhvr",
        "outputId": "b24d0669-565b-4e0c-ef88-cf4a07efcd4a"
      },
      "outputs": [
        {
          "output_type": "stream",
          "name": "stdout",
          "text": [
            "Epoch 1/100\n",
            "18/18 [==============================] - 2s 56ms/step - loss: 615.8705 - val_loss: 2257.9128\n",
            "Epoch 2/100\n",
            "18/18 [==============================] - 1s 42ms/step - loss: 236.0269 - val_loss: 1090.0966\n",
            "Epoch 3/100\n",
            "18/18 [==============================] - 1s 45ms/step - loss: 155.7144 - val_loss: 929.3660\n",
            "Epoch 4/100\n",
            "18/18 [==============================] - 1s 49ms/step - loss: 141.8660 - val_loss: 658.6451\n",
            "Epoch 5/100\n",
            "18/18 [==============================] - 1s 48ms/step - loss: 129.4023 - val_loss: 640.4214\n",
            "Epoch 6/100\n",
            "18/18 [==============================] - 0s 6ms/step - loss: 127.3082 - val_loss: 656.8605\n",
            "Epoch 7/100\n",
            "18/18 [==============================] - 0s 7ms/step - loss: 126.3543 - val_loss: 643.8448\n",
            "Epoch 8/100\n",
            "18/18 [==============================] - 0s 6ms/step - loss: 129.8977 - val_loss: 753.6140\n",
            "Epoch 9/100\n",
            "18/18 [==============================] - 0s 6ms/step - loss: 144.2842 - val_loss: 823.6026\n",
            "Epoch 10/100\n",
            "18/18 [==============================] - 0s 7ms/step - loss: 240.3591 - val_loss: 2646.1489\n",
            "Epoch 11/100\n",
            "18/18 [==============================] - 0s 7ms/step - loss: 317.0254 - val_loss: 672.1032\n",
            "Epoch 12/100\n",
            "18/18 [==============================] - 0s 9ms/step - loss: 142.9720 - val_loss: 746.7887\n",
            "Epoch 13/100\n",
            "18/18 [==============================] - 0s 7ms/step - loss: 133.5246 - val_loss: 914.0864\n",
            "Epoch 14/100\n",
            "18/18 [==============================] - 0s 7ms/step - loss: 171.5494 - val_loss: 2115.4653\n",
            "Epoch 15/100\n",
            "18/18 [==============================] - 0s 6ms/step - loss: 303.3856 - val_loss: 1466.1837\n",
            "Epoch 16/100\n",
            "18/18 [==============================] - 0s 7ms/step - loss: 225.8025 - val_loss: 2254.1831\n",
            "Epoch 17/100\n",
            "18/18 [==============================] - 1s 45ms/step - loss: 146.3793 - val_loss: 592.5787\n",
            "Epoch 18/100\n",
            "18/18 [==============================] - 0s 6ms/step - loss: 117.8581 - val_loss: 954.2335\n",
            "Epoch 19/100\n",
            "18/18 [==============================] - 0s 5ms/step - loss: 161.1132 - val_loss: 1108.1300\n",
            "Epoch 20/100\n",
            "18/18 [==============================] - 0s 6ms/step - loss: 125.1102 - val_loss: 622.6026\n",
            "Epoch 21/100\n",
            "18/18 [==============================] - 0s 7ms/step - loss: 135.1469 - val_loss: 599.9037\n",
            "Epoch 22/100\n",
            "18/18 [==============================] - 1s 42ms/step - loss: 136.8912 - val_loss: 587.8106\n",
            "Epoch 23/100\n",
            "18/18 [==============================] - 0s 6ms/step - loss: 112.6607 - val_loss: 602.0396\n",
            "Epoch 24/100\n",
            "18/18 [==============================] - 0s 5ms/step - loss: 134.2751 - val_loss: 1665.0983\n",
            "Epoch 25/100\n",
            "18/18 [==============================] - 0s 6ms/step - loss: 254.4120 - val_loss: 1788.2678\n",
            "Epoch 26/100\n",
            "18/18 [==============================] - 0s 7ms/step - loss: 174.7870 - val_loss: 1105.2305\n",
            "Epoch 27/100\n",
            "18/18 [==============================] - 0s 5ms/step - loss: 140.2309 - val_loss: 612.6100\n",
            "Epoch 28/100\n",
            "18/18 [==============================] - 0s 7ms/step - loss: 119.9629 - val_loss: 655.4450\n",
            "Epoch 29/100\n",
            "18/18 [==============================] - 1s 35ms/step - loss: 142.5301 - val_loss: 581.9962\n",
            "Epoch 30/100\n",
            "18/18 [==============================] - 0s 6ms/step - loss: 135.2258 - val_loss: 685.2429\n",
            "Epoch 31/100\n",
            "18/18 [==============================] - 0s 6ms/step - loss: 119.5015 - val_loss: 638.4825\n",
            "Epoch 32/100\n",
            "18/18 [==============================] - 0s 6ms/step - loss: 123.8942 - val_loss: 1508.0140\n",
            "Epoch 33/100\n",
            "18/18 [==============================] - 0s 5ms/step - loss: 163.2601 - val_loss: 603.0366\n",
            "Epoch 34/100\n",
            "18/18 [==============================] - 0s 5ms/step - loss: 124.8078 - val_loss: 1031.8251\n",
            "Epoch 35/100\n",
            "18/18 [==============================] - 0s 9ms/step - loss: 118.8931 - val_loss: 591.9318\n",
            "Epoch 36/100\n",
            "18/18 [==============================] - 0s 10ms/step - loss: 118.6987 - val_loss: 1268.1400\n",
            "Epoch 37/100\n",
            "18/18 [==============================] - 0s 11ms/step - loss: 152.5155 - val_loss: 789.0699\n",
            "Epoch 38/100\n",
            "18/18 [==============================] - 0s 11ms/step - loss: 173.9674 - val_loss: 1848.9769\n",
            "Epoch 39/100\n",
            "18/18 [==============================] - 0s 13ms/step - loss: 202.5042 - val_loss: 652.9342\n",
            "Epoch 40/100\n",
            "18/18 [==============================] - 0s 8ms/step - loss: 157.1286 - val_loss: 620.4026\n",
            "Epoch 41/100\n",
            "18/18 [==============================] - 0s 10ms/step - loss: 146.7052 - val_loss: 909.3251\n",
            "Epoch 42/100\n",
            "18/18 [==============================] - 0s 9ms/step - loss: 165.3226 - val_loss: 590.8010\n",
            "Epoch 43/100\n",
            "18/18 [==============================] - 0s 12ms/step - loss: 109.4863 - val_loss: 603.1602\n",
            "Epoch 44/100\n",
            "18/18 [==============================] - 0s 12ms/step - loss: 111.9851 - val_loss: 650.6934\n",
            "Epoch 45/100\n",
            "18/18 [==============================] - 0s 10ms/step - loss: 130.5683 - val_loss: 846.8350\n",
            "Epoch 46/100\n",
            "18/18 [==============================] - 0s 10ms/step - loss: 157.7719 - val_loss: 1371.7102\n",
            "Epoch 47/100\n",
            "18/18 [==============================] - 0s 12ms/step - loss: 148.2479 - val_loss: 614.1420\n",
            "Epoch 48/100\n",
            "18/18 [==============================] - 0s 15ms/step - loss: 146.6226 - val_loss: 1044.7439\n",
            "Epoch 49/100\n",
            "18/18 [==============================] - 0s 12ms/step - loss: 139.4056 - val_loss: 660.8105\n",
            "Epoch 50/100\n",
            "18/18 [==============================] - 0s 10ms/step - loss: 122.0152 - val_loss: 640.7630\n",
            "Epoch 51/100\n",
            "18/18 [==============================] - 0s 10ms/step - loss: 131.2259 - val_loss: 608.5742\n",
            "Epoch 52/100\n",
            "18/18 [==============================] - 0s 9ms/step - loss: 133.2298 - val_loss: 963.4708\n",
            "Epoch 53/100\n",
            "18/18 [==============================] - 0s 7ms/step - loss: 134.6825 - val_loss: 622.6409\n",
            "Epoch 54/100\n",
            "18/18 [==============================] - 0s 6ms/step - loss: 123.5328 - val_loss: 796.1722\n",
            "Epoch 55/100\n",
            "18/18 [==============================] - 0s 7ms/step - loss: 121.3546 - val_loss: 591.9668\n",
            "Epoch 56/100\n",
            "18/18 [==============================] - 0s 7ms/step - loss: 133.8334 - val_loss: 668.5423\n",
            "Epoch 57/100\n",
            "18/18 [==============================] - 0s 6ms/step - loss: 130.4156 - val_loss: 647.2914\n",
            "Epoch 58/100\n",
            "18/18 [==============================] - 0s 5ms/step - loss: 119.2517 - val_loss: 632.2633\n",
            "Epoch 59/100\n",
            "18/18 [==============================] - 0s 5ms/step - loss: 113.0074 - val_loss: 709.4301\n",
            "Epoch 60/100\n",
            "18/18 [==============================] - 0s 4ms/step - loss: 112.7641 - val_loss: 667.7319\n",
            "Epoch 61/100\n",
            "18/18 [==============================] - 0s 7ms/step - loss: 138.6070 - val_loss: 774.5824\n",
            "Epoch 62/100\n",
            "18/18 [==============================] - 0s 7ms/step - loss: 130.7521 - val_loss: 671.0181\n",
            "Epoch 63/100\n",
            "18/18 [==============================] - 0s 6ms/step - loss: 118.6874 - val_loss: 662.2133\n",
            "Epoch 64/100\n",
            "18/18 [==============================] - 0s 4ms/step - loss: 119.1640 - val_loss: 586.1724\n",
            "Epoch 65/100\n",
            "18/18 [==============================] - 0s 4ms/step - loss: 110.6847 - val_loss: 590.5267\n",
            "Epoch 66/100\n",
            "18/18 [==============================] - 0s 5ms/step - loss: 116.3129 - val_loss: 627.8071\n",
            "Epoch 67/100\n",
            "18/18 [==============================] - 0s 7ms/step - loss: 112.0291 - val_loss: 1014.7305\n",
            "Epoch 68/100\n",
            "18/18 [==============================] - 0s 6ms/step - loss: 140.5267 - val_loss: 1125.6234\n",
            "Epoch 69/100\n",
            "18/18 [==============================] - 0s 6ms/step - loss: 153.5670 - val_loss: 883.4681\n",
            "Epoch 70/100\n",
            "18/18 [==============================] - 0s 8ms/step - loss: 107.8345 - val_loss: 1115.9097\n",
            "Epoch 71/100\n",
            "18/18 [==============================] - 0s 9ms/step - loss: 136.3953 - val_loss: 919.6676\n",
            "Epoch 72/100\n",
            "18/18 [==============================] - 0s 7ms/step - loss: 121.1307 - val_loss: 1021.4208\n",
            "Epoch 73/100\n",
            "18/18 [==============================] - 0s 7ms/step - loss: 148.5397 - val_loss: 995.1234\n",
            "Epoch 74/100\n",
            "18/18 [==============================] - 0s 7ms/step - loss: 140.9667 - val_loss: 638.5786\n",
            "Epoch 75/100\n",
            "18/18 [==============================] - 0s 6ms/step - loss: 111.7762 - val_loss: 857.3979\n",
            "Epoch 76/100\n",
            "18/18 [==============================] - 0s 6ms/step - loss: 137.4446 - val_loss: 582.5805\n",
            "Epoch 77/100\n",
            "18/18 [==============================] - 0s 8ms/step - loss: 114.5716 - val_loss: 589.9016\n",
            "Epoch 78/100\n",
            "18/18 [==============================] - 1s 44ms/step - loss: 111.6818 - val_loss: 577.5735\n",
            "Epoch 79/100\n",
            "18/18 [==============================] - 0s 7ms/step - loss: 145.8394 - val_loss: 580.7081\n",
            "Epoch 80/100\n",
            "18/18 [==============================] - 0s 8ms/step - loss: 113.5022 - val_loss: 580.1918\n",
            "Epoch 81/100\n",
            "18/18 [==============================] - 0s 6ms/step - loss: 115.4016 - val_loss: 726.2368\n",
            "Epoch 82/100\n",
            "18/18 [==============================] - 0s 7ms/step - loss: 200.3833 - val_loss: 1526.6901\n",
            "Epoch 83/100\n",
            "18/18 [==============================] - 0s 7ms/step - loss: 134.2024 - val_loss: 640.2057\n",
            "Epoch 84/100\n",
            "18/18 [==============================] - 0s 7ms/step - loss: 114.4415 - val_loss: 582.0284\n",
            "Epoch 85/100\n",
            "18/18 [==============================] - 0s 6ms/step - loss: 121.9514 - val_loss: 880.6448\n",
            "Epoch 86/100\n",
            "18/18 [==============================] - 0s 6ms/step - loss: 115.7424 - val_loss: 601.4827\n",
            "Epoch 87/100\n",
            "18/18 [==============================] - 0s 6ms/step - loss: 174.6210 - val_loss: 846.9116\n",
            "Epoch 88/100\n",
            "18/18 [==============================] - 0s 8ms/step - loss: 197.3277 - val_loss: 983.0808\n",
            "Epoch 89/100\n",
            "18/18 [==============================] - 0s 7ms/step - loss: 140.0699 - val_loss: 1255.2605\n",
            "Epoch 90/100\n",
            "18/18 [==============================] - 0s 6ms/step - loss: 166.1677 - val_loss: 1301.0789\n",
            "Epoch 91/100\n",
            "18/18 [==============================] - 0s 7ms/step - loss: 188.4969 - val_loss: 1249.4512\n",
            "Epoch 92/100\n",
            "18/18 [==============================] - 0s 7ms/step - loss: 147.7918 - val_loss: 951.7383\n",
            "Epoch 93/100\n",
            "18/18 [==============================] - 0s 6ms/step - loss: 172.1019 - val_loss: 1052.7754\n",
            "Epoch 94/100\n",
            "18/18 [==============================] - 0s 6ms/step - loss: 145.6842 - val_loss: 651.4981\n",
            "Epoch 95/100\n",
            "18/18 [==============================] - 0s 7ms/step - loss: 117.6012 - val_loss: 1108.4277\n",
            "Epoch 96/100\n",
            "18/18 [==============================] - 0s 7ms/step - loss: 177.5816 - val_loss: 1824.7150\n",
            "Epoch 97/100\n",
            "18/18 [==============================] - 0s 7ms/step - loss: 183.1067 - val_loss: 672.6133\n",
            "Epoch 98/100\n",
            "18/18 [==============================] - 0s 7ms/step - loss: 122.2762 - val_loss: 721.6715\n",
            "Epoch 99/100\n",
            "18/18 [==============================] - 0s 7ms/step - loss: 138.6669 - val_loss: 976.7545\n",
            "Epoch 100/100\n",
            "18/18 [==============================] - 0s 6ms/step - loss: 126.5692 - val_loss: 670.8057\n"
          ]
        },
        {
          "output_type": "execute_result",
          "data": {
            "text/plain": [
              "<keras.src.callbacks.History at 0x7eab52ae1510>"
            ]
          },
          "metadata": {},
          "execution_count": 73
        }
      ],
      "source": [
        "tf.random.set_seed(42)\n",
        "\n",
        "#make multivariate time series model\n",
        "model_6 = tf.keras.Sequential([\n",
        "    layers.Dense(128, activation=\"relu\", kernel_initializer=\"he_normal\"),\n",
        "    layers.Dense(128, activation=\"relu\", kernel_initializer=\"he_normal\"),\n",
        "    layers.Dense(HORIZON)\n",
        "], name =\"model_6_dense_multivariate\")\n",
        "\n",
        "#compile\n",
        "model_6.compile(loss=\"mae\",\n",
        "                optimizer=tf.keras.optimizers.Adam())\n",
        "\n",
        "#Fit\n",
        "model_6.fit(X_train, y_train,\n",
        "            epochs=100,\n",
        "            batch_size=128,\n",
        "            verbose=1, #only print 1 line per epoch\n",
        "            validation_data=(X_test,y_test),\n",
        "            callbacks=[create_model_checkpoint(model_name=model_6.name)])"
      ]
    },
    {
      "cell_type": "code",
      "execution_count": 74,
      "metadata": {
        "colab": {
          "base_uri": "https://localhost:8080/"
        },
        "id": "TEAP0f9Xdg5G",
        "outputId": "87b8600f-c910-40ce-eddc-19b2d14f9ab4"
      },
      "outputs": [
        {
          "output_type": "stream",
          "name": "stdout",
          "text": [
            "18/18 [==============================] - 0s 2ms/step - loss: 577.5736\n"
          ]
        },
        {
          "output_type": "execute_result",
          "data": {
            "text/plain": [
              "577.5736083984375"
            ]
          },
          "metadata": {},
          "execution_count": 74
        }
      ],
      "source": [
        "model_6 = tf.keras.models.load_model(\"model_experiments/model_6_dense_multivariate\")\n",
        "model_6.evaluate(X_test,y_test)"
      ]
    },
    {
      "cell_type": "code",
      "execution_count": 75,
      "metadata": {
        "colab": {
          "base_uri": "https://localhost:8080/"
        },
        "id": "iD45rMBCZQda",
        "outputId": "ef3727d7-d0d9-411b-aa88-74720b653960"
      },
      "outputs": [
        {
          "output_type": "stream",
          "name": "stdout",
          "text": [
            "18/18 [==============================] - 0s 2ms/step\n"
          ]
        },
        {
          "output_type": "execute_result",
          "data": {
            "text/plain": [
              "<tf.Tensor: shape=(10,), dtype=float32, numpy=\n",
              "array([8792.223, 8768.111, 9075.577, 8771.826, 8760.748, 8743.555,\n",
              "       8669.959, 8509.311, 8464.968, 8541.344], dtype=float32)>"
            ]
          },
          "metadata": {},
          "execution_count": 75
        }
      ],
      "source": [
        "#make prediction on multivariate data\n",
        "model_6_preds = tf.squeeze(model_6.predict(X_test))\n",
        "model_6_preds[:10]"
      ]
    },
    {
      "cell_type": "code",
      "execution_count": 76,
      "metadata": {
        "colab": {
          "base_uri": "https://localhost:8080/"
        },
        "id": "3ZsHKPn7hqE5",
        "outputId": "f277c9c8-4753-4d97-ba05-c5760d11e717"
      },
      "outputs": [
        {
          "output_type": "execute_result",
          "data": {
            "text/plain": [
              "{'mae': 577.5738,\n",
              " 'mse': 1174569.1,\n",
              " 'rmse': 1083.7754,\n",
              " 'mape': 2.6052053,\n",
              " 'mase': 1.0146372}"
            ]
          },
          "metadata": {},
          "execution_count": 76
        }
      ],
      "source": [
        "#evaluate preds\n",
        "model_6_results = evaluate_preds(y_true=y_test,\n",
        "                                 y_pred=model_6_preds)\n",
        "model_6_results"
      ]
    },
    {
      "cell_type": "code",
      "execution_count": 77,
      "metadata": {
        "colab": {
          "base_uri": "https://localhost:8080/"
        },
        "id": "V_4Db4rQi-In",
        "outputId": "775eee0d-4505-41b5-c85d-c1421806eafe"
      },
      "outputs": [
        {
          "output_type": "execute_result",
          "data": {
            "text/plain": [
              "{'mae': 567.4927,\n",
              " 'mse': 1170158.5,\n",
              " 'rmse': 1081.7386,\n",
              " 'mape': 2.536585,\n",
              " 'mase': 0.99692744}"
            ]
          },
          "metadata": {},
          "execution_count": 77
        }
      ],
      "source": [
        "model_1_results"
      ]
    },
    {
      "cell_type": "markdown",
      "metadata": {
        "id": "TepCv2byjbMG"
      },
      "source": [
        "#MODEL 7: N-BEATS algorithm"
      ]
    },
    {
      "cell_type": "code",
      "execution_count": 78,
      "metadata": {
        "id": "5DujTHgr1_rX"
      },
      "outputs": [],
      "source": [
        "class NBeatsBlock(tf.keras.layers.Layer):\n",
        "  def __init__(self,#the constructor takes all the hyperparamets for the layer\n",
        "               input_size: int,\n",
        "               theta_size: int,\n",
        "               horizon: int,\n",
        "               n_neurons: int,\n",
        "               n_layers: int,\n",
        "               **kwargs): #the **kwargs argument takes care of all of the arguments for the\n",
        "    super().__init__(**kwargs)\n",
        "    self.input_size = input_size\n",
        "    self.theta_size = theta_size\n",
        "    self.horizon = horizon\n",
        "    self.n_neurons = n_neurons\n",
        "    self.n_layers = n_layers\n",
        "\n",
        "    #block contains stack of 4 fully connected layers each has relu activation\n",
        "    self.hidden = [tf.keras.layers.Dense(n_neurons, activation=\"relu\") for _ in range(n_layers)]\n",
        "    #output of block is theta layer with linear activation\n",
        "    self.theta_layer = tf.keras.layers.Dense(theta_size, activation=\"linear\", name=\"theta\") # Fix: Renamed to self.theta_layer\n",
        "  def call(self, inputs): #the call method is what runs when the layer is called\n",
        "    x = inputs\n",
        "    for layer in self.hidden: #pass inputs through each hidden layer\n",
        "      x = layer(x)\n",
        "    theta = self.theta_layer(x) # Fix: Use self.theta_layer\n",
        "    #output the backcast and forecast from theta\n",
        "    backcast, forecast = theta[:, :self.input_size], theta[:, -self.horizon:]\n",
        "    return backcast, forecast"
      ]
    },
    {
      "cell_type": "code",
      "execution_count": 79,
      "metadata": {
        "id": "hCCAalyCozDI"
      },
      "outputs": [],
      "source": [
        "#set up dummy NBEATSBLOK layer to represent inputs and outputs\n",
        "dummy_nbeats_block_layer = NBeatsBlock(input_size=WINDOW_SIZE,\n",
        "                              theta_size=WINDOW_SIZE+HORIZON,\n",
        "                              horizon=HORIZON,\n",
        "                              n_neurons=128,\n",
        "                              n_layers=4)\n"
      ]
    },
    {
      "cell_type": "code",
      "execution_count": 80,
      "metadata": {
        "colab": {
          "base_uri": "https://localhost:8080/"
        },
        "id": "p9sIY5EJuDyt",
        "outputId": "d1b4b1ef-0ced-48aa-ac71-f390ec912799"
      },
      "outputs": [
        {
          "output_type": "execute_result",
          "data": {
            "text/plain": [
              "<tf.Tensor: shape=(1, 7), dtype=int32, numpy=array([[1, 2, 3, 4, 5, 6, 7]], dtype=int32)>"
            ]
          },
          "metadata": {},
          "execution_count": 80
        }
      ],
      "source": [
        "#Create dummy inputs (have to be same size as input_size)\n",
        "dummy_inputs = tf.expand_dims(tf.range(WINDOW_SIZE) + 1, axis=0) #input shape to the model\n",
        "dummy_inputs"
      ]
    },
    {
      "cell_type": "code",
      "execution_count": 81,
      "metadata": {
        "colab": {
          "base_uri": "https://localhost:8080/"
        },
        "id": "Rdnp26axud3x",
        "outputId": "278e33c3-3aad-47b7-bc53-4b657305968b"
      },
      "outputs": [
        {
          "output_type": "stream",
          "name": "stdout",
          "text": [
            "backcast [ 0.994438   -0.53887093 -0.67932266  0.55513847 -0.87361664  1.6549933\n",
            " -0.209694  ]\n",
            "forecast -0.17894965410232544\n"
          ]
        }
      ],
      "source": [
        "#pass dummy inputs to dummy NBeatsBlock layer\n",
        "backcast, forecast = dummy_nbeats_block_layer(dummy_inputs)\n",
        "#these are the activation outputs of the thetra layer (they'll be random due to no training of the model)\n",
        "print(f\"backcast {tf.squeeze(backcast.numpy())}\")\n",
        "print(f\"forecast {tf.squeeze(forecast.numpy())}\")"
      ]
    },
    {
      "cell_type": "code",
      "execution_count": 82,
      "metadata": {
        "id": "Krt_x5aC1P-h"
      },
      "outputs": [],
      "source": [
        "HORIZON = 1\n",
        "WINDOW_SIZE = 7 # how far to"
      ]
    },
    {
      "cell_type": "code",
      "execution_count": 83,
      "metadata": {
        "colab": {
          "base_uri": "https://localhost:8080/",
          "height": 238
        },
        "id": "Y8-JJVpD2ODs",
        "outputId": "26d3c996-4921-466e-ba5f-a68030afebe6"
      },
      "outputs": [
        {
          "output_type": "execute_result",
          "data": {
            "text/plain": [
              "                Price\n",
              "Date                 \n",
              "2013-10-01  123.65499\n",
              "2013-10-02  125.45500\n",
              "2013-10-03  108.58483\n",
              "2013-10-04  118.67466\n",
              "2013-10-05  121.33866"
            ],
            "text/html": [
              "\n",
              "  <div id=\"df-a458bba6-77c3-40b9-83af-84d74c658b27\" class=\"colab-df-container\">\n",
              "    <div>\n",
              "<style scoped>\n",
              "    .dataframe tbody tr th:only-of-type {\n",
              "        vertical-align: middle;\n",
              "    }\n",
              "\n",
              "    .dataframe tbody tr th {\n",
              "        vertical-align: top;\n",
              "    }\n",
              "\n",
              "    .dataframe thead th {\n",
              "        text-align: right;\n",
              "    }\n",
              "</style>\n",
              "<table border=\"1\" class=\"dataframe\">\n",
              "  <thead>\n",
              "    <tr style=\"text-align: right;\">\n",
              "      <th></th>\n",
              "      <th>Price</th>\n",
              "    </tr>\n",
              "    <tr>\n",
              "      <th>Date</th>\n",
              "      <th></th>\n",
              "    </tr>\n",
              "  </thead>\n",
              "  <tbody>\n",
              "    <tr>\n",
              "      <th>2013-10-01</th>\n",
              "      <td>123.65499</td>\n",
              "    </tr>\n",
              "    <tr>\n",
              "      <th>2013-10-02</th>\n",
              "      <td>125.45500</td>\n",
              "    </tr>\n",
              "    <tr>\n",
              "      <th>2013-10-03</th>\n",
              "      <td>108.58483</td>\n",
              "    </tr>\n",
              "    <tr>\n",
              "      <th>2013-10-04</th>\n",
              "      <td>118.67466</td>\n",
              "    </tr>\n",
              "    <tr>\n",
              "      <th>2013-10-05</th>\n",
              "      <td>121.33866</td>\n",
              "    </tr>\n",
              "  </tbody>\n",
              "</table>\n",
              "</div>\n",
              "    <div class=\"colab-df-buttons\">\n",
              "\n",
              "  <div class=\"colab-df-container\">\n",
              "    <button class=\"colab-df-convert\" onclick=\"convertToInteractive('df-a458bba6-77c3-40b9-83af-84d74c658b27')\"\n",
              "            title=\"Convert this dataframe to an interactive table.\"\n",
              "            style=\"display:none;\">\n",
              "\n",
              "  <svg xmlns=\"http://www.w3.org/2000/svg\" height=\"24px\" viewBox=\"0 -960 960 960\">\n",
              "    <path d=\"M120-120v-720h720v720H120Zm60-500h600v-160H180v160Zm220 220h160v-160H400v160Zm0 220h160v-160H400v160ZM180-400h160v-160H180v160Zm440 0h160v-160H620v160ZM180-180h160v-160H180v160Zm440 0h160v-160H620v160Z\"/>\n",
              "  </svg>\n",
              "    </button>\n",
              "\n",
              "  <style>\n",
              "    .colab-df-container {\n",
              "      display:flex;\n",
              "      gap: 12px;\n",
              "    }\n",
              "\n",
              "    .colab-df-convert {\n",
              "      background-color: #E8F0FE;\n",
              "      border: none;\n",
              "      border-radius: 50%;\n",
              "      cursor: pointer;\n",
              "      display: none;\n",
              "      fill: #1967D2;\n",
              "      height: 32px;\n",
              "      padding: 0 0 0 0;\n",
              "      width: 32px;\n",
              "    }\n",
              "\n",
              "    .colab-df-convert:hover {\n",
              "      background-color: #E2EBFA;\n",
              "      box-shadow: 0px 1px 2px rgba(60, 64, 67, 0.3), 0px 1px 3px 1px rgba(60, 64, 67, 0.15);\n",
              "      fill: #174EA6;\n",
              "    }\n",
              "\n",
              "    .colab-df-buttons div {\n",
              "      margin-bottom: 4px;\n",
              "    }\n",
              "\n",
              "    [theme=dark] .colab-df-convert {\n",
              "      background-color: #3B4455;\n",
              "      fill: #D2E3FC;\n",
              "    }\n",
              "\n",
              "    [theme=dark] .colab-df-convert:hover {\n",
              "      background-color: #434B5C;\n",
              "      box-shadow: 0px 1px 3px 1px rgba(0, 0, 0, 0.15);\n",
              "      filter: drop-shadow(0px 1px 2px rgba(0, 0, 0, 0.3));\n",
              "      fill: #FFFFFF;\n",
              "    }\n",
              "  </style>\n",
              "\n",
              "    <script>\n",
              "      const buttonEl =\n",
              "        document.querySelector('#df-a458bba6-77c3-40b9-83af-84d74c658b27 button.colab-df-convert');\n",
              "      buttonEl.style.display =\n",
              "        google.colab.kernel.accessAllowed ? 'block' : 'none';\n",
              "\n",
              "      async function convertToInteractive(key) {\n",
              "        const element = document.querySelector('#df-a458bba6-77c3-40b9-83af-84d74c658b27');\n",
              "        const dataTable =\n",
              "          await google.colab.kernel.invokeFunction('convertToInteractive',\n",
              "                                                    [key], {});\n",
              "        if (!dataTable) return;\n",
              "\n",
              "        const docLinkHtml = 'Like what you see? Visit the ' +\n",
              "          '<a target=\"_blank\" href=https://colab.research.google.com/notebooks/data_table.ipynb>data table notebook</a>'\n",
              "          + ' to learn more about interactive tables.';\n",
              "        element.innerHTML = '';\n",
              "        dataTable['output_type'] = 'display_data';\n",
              "        await google.colab.output.renderOutput(dataTable, element);\n",
              "        const docLink = document.createElement('div');\n",
              "        docLink.innerHTML = docLinkHtml;\n",
              "        element.appendChild(docLink);\n",
              "      }\n",
              "    </script>\n",
              "  </div>\n",
              "\n",
              "\n",
              "<div id=\"df-ac0d26ef-d16c-41f4-a21a-657aeba507fa\">\n",
              "  <button class=\"colab-df-quickchart\" onclick=\"quickchart('df-ac0d26ef-d16c-41f4-a21a-657aeba507fa')\"\n",
              "            title=\"Suggest charts\"\n",
              "            style=\"display:none;\">\n",
              "\n",
              "<svg xmlns=\"http://www.w3.org/2000/svg\" height=\"24px\"viewBox=\"0 0 24 24\"\n",
              "     width=\"24px\">\n",
              "    <g>\n",
              "        <path d=\"M19 3H5c-1.1 0-2 .9-2 2v14c0 1.1.9 2 2 2h14c1.1 0 2-.9 2-2V5c0-1.1-.9-2-2-2zM9 17H7v-7h2v7zm4 0h-2V7h2v10zm4 0h-2v-4h2v4z\"/>\n",
              "    </g>\n",
              "</svg>\n",
              "  </button>\n",
              "\n",
              "<style>\n",
              "  .colab-df-quickchart {\n",
              "      --bg-color: #E8F0FE;\n",
              "      --fill-color: #1967D2;\n",
              "      --hover-bg-color: #E2EBFA;\n",
              "      --hover-fill-color: #174EA6;\n",
              "      --disabled-fill-color: #AAA;\n",
              "      --disabled-bg-color: #DDD;\n",
              "  }\n",
              "\n",
              "  [theme=dark] .colab-df-quickchart {\n",
              "      --bg-color: #3B4455;\n",
              "      --fill-color: #D2E3FC;\n",
              "      --hover-bg-color: #434B5C;\n",
              "      --hover-fill-color: #FFFFFF;\n",
              "      --disabled-bg-color: #3B4455;\n",
              "      --disabled-fill-color: #666;\n",
              "  }\n",
              "\n",
              "  .colab-df-quickchart {\n",
              "    background-color: var(--bg-color);\n",
              "    border: none;\n",
              "    border-radius: 50%;\n",
              "    cursor: pointer;\n",
              "    display: none;\n",
              "    fill: var(--fill-color);\n",
              "    height: 32px;\n",
              "    padding: 0;\n",
              "    width: 32px;\n",
              "  }\n",
              "\n",
              "  .colab-df-quickchart:hover {\n",
              "    background-color: var(--hover-bg-color);\n",
              "    box-shadow: 0 1px 2px rgba(60, 64, 67, 0.3), 0 1px 3px 1px rgba(60, 64, 67, 0.15);\n",
              "    fill: var(--button-hover-fill-color);\n",
              "  }\n",
              "\n",
              "  .colab-df-quickchart-complete:disabled,\n",
              "  .colab-df-quickchart-complete:disabled:hover {\n",
              "    background-color: var(--disabled-bg-color);\n",
              "    fill: var(--disabled-fill-color);\n",
              "    box-shadow: none;\n",
              "  }\n",
              "\n",
              "  .colab-df-spinner {\n",
              "    border: 2px solid var(--fill-color);\n",
              "    border-color: transparent;\n",
              "    border-bottom-color: var(--fill-color);\n",
              "    animation:\n",
              "      spin 1s steps(1) infinite;\n",
              "  }\n",
              "\n",
              "  @keyframes spin {\n",
              "    0% {\n",
              "      border-color: transparent;\n",
              "      border-bottom-color: var(--fill-color);\n",
              "      border-left-color: var(--fill-color);\n",
              "    }\n",
              "    20% {\n",
              "      border-color: transparent;\n",
              "      border-left-color: var(--fill-color);\n",
              "      border-top-color: var(--fill-color);\n",
              "    }\n",
              "    30% {\n",
              "      border-color: transparent;\n",
              "      border-left-color: var(--fill-color);\n",
              "      border-top-color: var(--fill-color);\n",
              "      border-right-color: var(--fill-color);\n",
              "    }\n",
              "    40% {\n",
              "      border-color: transparent;\n",
              "      border-right-color: var(--fill-color);\n",
              "      border-top-color: var(--fill-color);\n",
              "    }\n",
              "    60% {\n",
              "      border-color: transparent;\n",
              "      border-right-color: var(--fill-color);\n",
              "    }\n",
              "    80% {\n",
              "      border-color: transparent;\n",
              "      border-right-color: var(--fill-color);\n",
              "      border-bottom-color: var(--fill-color);\n",
              "    }\n",
              "    90% {\n",
              "      border-color: transparent;\n",
              "      border-bottom-color: var(--fill-color);\n",
              "    }\n",
              "  }\n",
              "</style>\n",
              "\n",
              "  <script>\n",
              "    async function quickchart(key) {\n",
              "      const quickchartButtonEl =\n",
              "        document.querySelector('#' + key + ' button');\n",
              "      quickchartButtonEl.disabled = true;  // To prevent multiple clicks.\n",
              "      quickchartButtonEl.classList.add('colab-df-spinner');\n",
              "      try {\n",
              "        const charts = await google.colab.kernel.invokeFunction(\n",
              "            'suggestCharts', [key], {});\n",
              "      } catch (error) {\n",
              "        console.error('Error during call to suggestCharts:', error);\n",
              "      }\n",
              "      quickchartButtonEl.classList.remove('colab-df-spinner');\n",
              "      quickchartButtonEl.classList.add('colab-df-quickchart-complete');\n",
              "    }\n",
              "    (() => {\n",
              "      let quickchartButtonEl =\n",
              "        document.querySelector('#df-ac0d26ef-d16c-41f4-a21a-657aeba507fa button');\n",
              "      quickchartButtonEl.style.display =\n",
              "        google.colab.kernel.accessAllowed ? 'block' : 'none';\n",
              "    })();\n",
              "  </script>\n",
              "</div>\n",
              "\n",
              "    </div>\n",
              "  </div>\n"
            ],
            "application/vnd.google.colaboratory.intrinsic+json": {
              "type": "dataframe",
              "variable_name": "bitcoin_prices",
              "summary": "{\n  \"name\": \"bitcoin_prices\",\n  \"rows\": 2787,\n  \"fields\": [\n    {\n      \"column\": \"Date\",\n      \"properties\": {\n        \"dtype\": \"date\",\n        \"min\": \"2013-10-01 00:00:00\",\n        \"max\": \"2021-05-18 00:00:00\",\n        \"num_unique_values\": 2787,\n        \"samples\": [\n          \"2019-06-11 00:00:00\",\n          \"2021-05-03 00:00:00\",\n          \"2017-10-05 00:00:00\"\n        ],\n        \"semantic_type\": \"\",\n        \"description\": \"\"\n      }\n    },\n    {\n      \"column\": \"Price\",\n      \"properties\": {\n        \"dtype\": \"number\",\n        \"std\": 10887.84744436952,\n        \"min\": 108.58483,\n        \"max\": 63346.7890351052,\n        \"num_unique_values\": 2787,\n        \"samples\": [\n          7954.0062377205,\n          56427.0431250152,\n          4186.78374\n        ],\n        \"semantic_type\": \"\",\n        \"description\": \"\"\n      }\n    }\n  ]\n}"
            }
          },
          "metadata": {},
          "execution_count": 83
        }
      ],
      "source": [
        "bitcoin_prices.head()"
      ]
    },
    {
      "cell_type": "code",
      "execution_count": 84,
      "metadata": {
        "colab": {
          "base_uri": "https://localhost:8080/",
          "height": 238
        },
        "id": "COrvMyNs2QbI",
        "outputId": "8b2de8b9-e412-4cb2-c77f-f84099c42df7"
      },
      "outputs": [
        {
          "output_type": "execute_result",
          "data": {
            "text/plain": [
              "                Price    Price+1    Price+2    Price+3    Price+4    Price+5  \\\n",
              "Date                                                                           \n",
              "2013-10-08  123.03300  121.79500  120.65533  121.33866  118.67466  108.58483   \n",
              "2013-10-09  124.04900  123.03300  121.79500  120.65533  121.33866  118.67466   \n",
              "2013-10-10  125.96116  124.04900  123.03300  121.79500  120.65533  121.33866   \n",
              "2013-10-11  125.27966  125.96116  124.04900  123.03300  121.79500  120.65533   \n",
              "2013-10-12  125.92750  125.27966  125.96116  124.04900  123.03300  121.79500   \n",
              "\n",
              "              Price+6    Price+7  \n",
              "Date                              \n",
              "2013-10-08  125.45500  123.65499  \n",
              "2013-10-09  108.58483  125.45500  \n",
              "2013-10-10  118.67466  108.58483  \n",
              "2013-10-11  121.33866  118.67466  \n",
              "2013-10-12  120.65533  121.33866  "
            ],
            "text/html": [
              "\n",
              "  <div id=\"df-00360fd3-3f3a-4736-bd2c-29134998b402\" class=\"colab-df-container\">\n",
              "    <div>\n",
              "<style scoped>\n",
              "    .dataframe tbody tr th:only-of-type {\n",
              "        vertical-align: middle;\n",
              "    }\n",
              "\n",
              "    .dataframe tbody tr th {\n",
              "        vertical-align: top;\n",
              "    }\n",
              "\n",
              "    .dataframe thead th {\n",
              "        text-align: right;\n",
              "    }\n",
              "</style>\n",
              "<table border=\"1\" class=\"dataframe\">\n",
              "  <thead>\n",
              "    <tr style=\"text-align: right;\">\n",
              "      <th></th>\n",
              "      <th>Price</th>\n",
              "      <th>Price+1</th>\n",
              "      <th>Price+2</th>\n",
              "      <th>Price+3</th>\n",
              "      <th>Price+4</th>\n",
              "      <th>Price+5</th>\n",
              "      <th>Price+6</th>\n",
              "      <th>Price+7</th>\n",
              "    </tr>\n",
              "    <tr>\n",
              "      <th>Date</th>\n",
              "      <th></th>\n",
              "      <th></th>\n",
              "      <th></th>\n",
              "      <th></th>\n",
              "      <th></th>\n",
              "      <th></th>\n",
              "      <th></th>\n",
              "      <th></th>\n",
              "    </tr>\n",
              "  </thead>\n",
              "  <tbody>\n",
              "    <tr>\n",
              "      <th>2013-10-08</th>\n",
              "      <td>123.03300</td>\n",
              "      <td>121.79500</td>\n",
              "      <td>120.65533</td>\n",
              "      <td>121.33866</td>\n",
              "      <td>118.67466</td>\n",
              "      <td>108.58483</td>\n",
              "      <td>125.45500</td>\n",
              "      <td>123.65499</td>\n",
              "    </tr>\n",
              "    <tr>\n",
              "      <th>2013-10-09</th>\n",
              "      <td>124.04900</td>\n",
              "      <td>123.03300</td>\n",
              "      <td>121.79500</td>\n",
              "      <td>120.65533</td>\n",
              "      <td>121.33866</td>\n",
              "      <td>118.67466</td>\n",
              "      <td>108.58483</td>\n",
              "      <td>125.45500</td>\n",
              "    </tr>\n",
              "    <tr>\n",
              "      <th>2013-10-10</th>\n",
              "      <td>125.96116</td>\n",
              "      <td>124.04900</td>\n",
              "      <td>123.03300</td>\n",
              "      <td>121.79500</td>\n",
              "      <td>120.65533</td>\n",
              "      <td>121.33866</td>\n",
              "      <td>118.67466</td>\n",
              "      <td>108.58483</td>\n",
              "    </tr>\n",
              "    <tr>\n",
              "      <th>2013-10-11</th>\n",
              "      <td>125.27966</td>\n",
              "      <td>125.96116</td>\n",
              "      <td>124.04900</td>\n",
              "      <td>123.03300</td>\n",
              "      <td>121.79500</td>\n",
              "      <td>120.65533</td>\n",
              "      <td>121.33866</td>\n",
              "      <td>118.67466</td>\n",
              "    </tr>\n",
              "    <tr>\n",
              "      <th>2013-10-12</th>\n",
              "      <td>125.92750</td>\n",
              "      <td>125.27966</td>\n",
              "      <td>125.96116</td>\n",
              "      <td>124.04900</td>\n",
              "      <td>123.03300</td>\n",
              "      <td>121.79500</td>\n",
              "      <td>120.65533</td>\n",
              "      <td>121.33866</td>\n",
              "    </tr>\n",
              "  </tbody>\n",
              "</table>\n",
              "</div>\n",
              "    <div class=\"colab-df-buttons\">\n",
              "\n",
              "  <div class=\"colab-df-container\">\n",
              "    <button class=\"colab-df-convert\" onclick=\"convertToInteractive('df-00360fd3-3f3a-4736-bd2c-29134998b402')\"\n",
              "            title=\"Convert this dataframe to an interactive table.\"\n",
              "            style=\"display:none;\">\n",
              "\n",
              "  <svg xmlns=\"http://www.w3.org/2000/svg\" height=\"24px\" viewBox=\"0 -960 960 960\">\n",
              "    <path d=\"M120-120v-720h720v720H120Zm60-500h600v-160H180v160Zm220 220h160v-160H400v160Zm0 220h160v-160H400v160ZM180-400h160v-160H180v160Zm440 0h160v-160H620v160ZM180-180h160v-160H180v160Zm440 0h160v-160H620v160Z\"/>\n",
              "  </svg>\n",
              "    </button>\n",
              "\n",
              "  <style>\n",
              "    .colab-df-container {\n",
              "      display:flex;\n",
              "      gap: 12px;\n",
              "    }\n",
              "\n",
              "    .colab-df-convert {\n",
              "      background-color: #E8F0FE;\n",
              "      border: none;\n",
              "      border-radius: 50%;\n",
              "      cursor: pointer;\n",
              "      display: none;\n",
              "      fill: #1967D2;\n",
              "      height: 32px;\n",
              "      padding: 0 0 0 0;\n",
              "      width: 32px;\n",
              "    }\n",
              "\n",
              "    .colab-df-convert:hover {\n",
              "      background-color: #E2EBFA;\n",
              "      box-shadow: 0px 1px 2px rgba(60, 64, 67, 0.3), 0px 1px 3px 1px rgba(60, 64, 67, 0.15);\n",
              "      fill: #174EA6;\n",
              "    }\n",
              "\n",
              "    .colab-df-buttons div {\n",
              "      margin-bottom: 4px;\n",
              "    }\n",
              "\n",
              "    [theme=dark] .colab-df-convert {\n",
              "      background-color: #3B4455;\n",
              "      fill: #D2E3FC;\n",
              "    }\n",
              "\n",
              "    [theme=dark] .colab-df-convert:hover {\n",
              "      background-color: #434B5C;\n",
              "      box-shadow: 0px 1px 3px 1px rgba(0, 0, 0, 0.15);\n",
              "      filter: drop-shadow(0px 1px 2px rgba(0, 0, 0, 0.3));\n",
              "      fill: #FFFFFF;\n",
              "    }\n",
              "  </style>\n",
              "\n",
              "    <script>\n",
              "      const buttonEl =\n",
              "        document.querySelector('#df-00360fd3-3f3a-4736-bd2c-29134998b402 button.colab-df-convert');\n",
              "      buttonEl.style.display =\n",
              "        google.colab.kernel.accessAllowed ? 'block' : 'none';\n",
              "\n",
              "      async function convertToInteractive(key) {\n",
              "        const element = document.querySelector('#df-00360fd3-3f3a-4736-bd2c-29134998b402');\n",
              "        const dataTable =\n",
              "          await google.colab.kernel.invokeFunction('convertToInteractive',\n",
              "                                                    [key], {});\n",
              "        if (!dataTable) return;\n",
              "\n",
              "        const docLinkHtml = 'Like what you see? Visit the ' +\n",
              "          '<a target=\"_blank\" href=https://colab.research.google.com/notebooks/data_table.ipynb>data table notebook</a>'\n",
              "          + ' to learn more about interactive tables.';\n",
              "        element.innerHTML = '';\n",
              "        dataTable['output_type'] = 'display_data';\n",
              "        await google.colab.output.renderOutput(dataTable, element);\n",
              "        const docLink = document.createElement('div');\n",
              "        docLink.innerHTML = docLinkHtml;\n",
              "        element.appendChild(docLink);\n",
              "      }\n",
              "    </script>\n",
              "  </div>\n",
              "\n",
              "\n",
              "<div id=\"df-354ba4b9-c583-44b3-8381-786c8b1dc9e9\">\n",
              "  <button class=\"colab-df-quickchart\" onclick=\"quickchart('df-354ba4b9-c583-44b3-8381-786c8b1dc9e9')\"\n",
              "            title=\"Suggest charts\"\n",
              "            style=\"display:none;\">\n",
              "\n",
              "<svg xmlns=\"http://www.w3.org/2000/svg\" height=\"24px\"viewBox=\"0 0 24 24\"\n",
              "     width=\"24px\">\n",
              "    <g>\n",
              "        <path d=\"M19 3H5c-1.1 0-2 .9-2 2v14c0 1.1.9 2 2 2h14c1.1 0 2-.9 2-2V5c0-1.1-.9-2-2-2zM9 17H7v-7h2v7zm4 0h-2V7h2v10zm4 0h-2v-4h2v4z\"/>\n",
              "    </g>\n",
              "</svg>\n",
              "  </button>\n",
              "\n",
              "<style>\n",
              "  .colab-df-quickchart {\n",
              "      --bg-color: #E8F0FE;\n",
              "      --fill-color: #1967D2;\n",
              "      --hover-bg-color: #E2EBFA;\n",
              "      --hover-fill-color: #174EA6;\n",
              "      --disabled-fill-color: #AAA;\n",
              "      --disabled-bg-color: #DDD;\n",
              "  }\n",
              "\n",
              "  [theme=dark] .colab-df-quickchart {\n",
              "      --bg-color: #3B4455;\n",
              "      --fill-color: #D2E3FC;\n",
              "      --hover-bg-color: #434B5C;\n",
              "      --hover-fill-color: #FFFFFF;\n",
              "      --disabled-bg-color: #3B4455;\n",
              "      --disabled-fill-color: #666;\n",
              "  }\n",
              "\n",
              "  .colab-df-quickchart {\n",
              "    background-color: var(--bg-color);\n",
              "    border: none;\n",
              "    border-radius: 50%;\n",
              "    cursor: pointer;\n",
              "    display: none;\n",
              "    fill: var(--fill-color);\n",
              "    height: 32px;\n",
              "    padding: 0;\n",
              "    width: 32px;\n",
              "  }\n",
              "\n",
              "  .colab-df-quickchart:hover {\n",
              "    background-color: var(--hover-bg-color);\n",
              "    box-shadow: 0 1px 2px rgba(60, 64, 67, 0.3), 0 1px 3px 1px rgba(60, 64, 67, 0.15);\n",
              "    fill: var(--button-hover-fill-color);\n",
              "  }\n",
              "\n",
              "  .colab-df-quickchart-complete:disabled,\n",
              "  .colab-df-quickchart-complete:disabled:hover {\n",
              "    background-color: var(--disabled-bg-color);\n",
              "    fill: var(--disabled-fill-color);\n",
              "    box-shadow: none;\n",
              "  }\n",
              "\n",
              "  .colab-df-spinner {\n",
              "    border: 2px solid var(--fill-color);\n",
              "    border-color: transparent;\n",
              "    border-bottom-color: var(--fill-color);\n",
              "    animation:\n",
              "      spin 1s steps(1) infinite;\n",
              "  }\n",
              "\n",
              "  @keyframes spin {\n",
              "    0% {\n",
              "      border-color: transparent;\n",
              "      border-bottom-color: var(--fill-color);\n",
              "      border-left-color: var(--fill-color);\n",
              "    }\n",
              "    20% {\n",
              "      border-color: transparent;\n",
              "      border-left-color: var(--fill-color);\n",
              "      border-top-color: var(--fill-color);\n",
              "    }\n",
              "    30% {\n",
              "      border-color: transparent;\n",
              "      border-left-color: var(--fill-color);\n",
              "      border-top-color: var(--fill-color);\n",
              "      border-right-color: var(--fill-color);\n",
              "    }\n",
              "    40% {\n",
              "      border-color: transparent;\n",
              "      border-right-color: var(--fill-color);\n",
              "      border-top-color: var(--fill-color);\n",
              "    }\n",
              "    60% {\n",
              "      border-color: transparent;\n",
              "      border-right-color: var(--fill-color);\n",
              "    }\n",
              "    80% {\n",
              "      border-color: transparent;\n",
              "      border-right-color: var(--fill-color);\n",
              "      border-bottom-color: var(--fill-color);\n",
              "    }\n",
              "    90% {\n",
              "      border-color: transparent;\n",
              "      border-bottom-color: var(--fill-color);\n",
              "    }\n",
              "  }\n",
              "</style>\n",
              "\n",
              "  <script>\n",
              "    async function quickchart(key) {\n",
              "      const quickchartButtonEl =\n",
              "        document.querySelector('#' + key + ' button');\n",
              "      quickchartButtonEl.disabled = true;  // To prevent multiple clicks.\n",
              "      quickchartButtonEl.classList.add('colab-df-spinner');\n",
              "      try {\n",
              "        const charts = await google.colab.kernel.invokeFunction(\n",
              "            'suggestCharts', [key], {});\n",
              "      } catch (error) {\n",
              "        console.error('Error during call to suggestCharts:', error);\n",
              "      }\n",
              "      quickchartButtonEl.classList.remove('colab-df-spinner');\n",
              "      quickchartButtonEl.classList.add('colab-df-quickchart-complete');\n",
              "    }\n",
              "    (() => {\n",
              "      let quickchartButtonEl =\n",
              "        document.querySelector('#df-354ba4b9-c583-44b3-8381-786c8b1dc9e9 button');\n",
              "      quickchartButtonEl.style.display =\n",
              "        google.colab.kernel.accessAllowed ? 'block' : 'none';\n",
              "    })();\n",
              "  </script>\n",
              "</div>\n",
              "\n",
              "    </div>\n",
              "  </div>\n"
            ],
            "application/vnd.google.colaboratory.intrinsic+json": {
              "type": "dataframe",
              "summary": "{\n  \"name\": \"bitcoin_prices_nbeats\",\n  \"rows\": 5,\n  \"fields\": [\n    {\n      \"column\": \"Date\",\n      \"properties\": {\n        \"dtype\": \"date\",\n        \"min\": \"2013-10-08 00:00:00\",\n        \"max\": \"2013-10-12 00:00:00\",\n        \"num_unique_values\": 5,\n        \"samples\": [\n          \"2013-10-09 00:00:00\",\n          \"2013-10-12 00:00:00\",\n          \"2013-10-10 00:00:00\"\n        ],\n        \"semantic_type\": \"\",\n        \"description\": \"\"\n      }\n    },\n    {\n      \"column\": \"Price\",\n      \"properties\": {\n        \"dtype\": \"number\",\n        \"std\": 1.2770454661757342,\n        \"min\": 123.033,\n        \"max\": 125.96116,\n        \"num_unique_values\": 5,\n        \"samples\": [\n          124.049,\n          125.9275,\n          125.96116\n        ],\n        \"semantic_type\": \"\",\n        \"description\": \"\"\n      }\n    },\n    {\n      \"column\": \"Price+1\",\n      \"properties\": {\n        \"dtype\": \"number\",\n        \"std\": 1.6793165984054372,\n        \"min\": 121.795,\n        \"max\": 125.96116,\n        \"num_unique_values\": 5,\n        \"samples\": [\n          123.033,\n          125.27966,\n          124.049\n        ],\n        \"semantic_type\": \"\",\n        \"description\": \"\"\n      }\n    },\n    {\n      \"column\": \"Price+2\",\n      \"properties\": {\n        \"dtype\": \"number\",\n        \"std\": 2.0476055820445507,\n        \"min\": 120.65533,\n        \"max\": 125.96116,\n        \"num_unique_values\": 5,\n        \"samples\": [\n          121.795,\n          125.96116,\n          123.033\n        ],\n        \"semantic_type\": \"\",\n        \"description\": \"\"\n      }\n    },\n    {\n      \"column\": \"Price+3\",\n      \"properties\": {\n        \"dtype\": \"number\",\n        \"std\": 1.3602663607249867,\n        \"min\": 120.65533,\n        \"max\": 124.049,\n        \"num_unique_values\": 5,\n        \"samples\": [\n          120.65533,\n          124.049,\n          121.795\n        ],\n        \"semantic_type\": \"\",\n        \"description\": \"\"\n      }\n    },\n    {\n      \"column\": \"Price+4\",\n      \"properties\": {\n        \"dtype\": \"number\",\n        \"std\": 1.609073947617075,\n        \"min\": 118.67466,\n        \"max\": 123.033,\n        \"num_unique_values\": 5,\n        \"samples\": [\n          121.33866,\n          123.033,\n          120.65533\n        ],\n        \"semantic_type\": \"\",\n        \"description\": \"\"\n      }\n    },\n    {\n      \"column\": \"Price+5\",\n      \"properties\": {\n        \"dtype\": \"number\",\n        \"std\": 5.510902448486094,\n        \"min\": 108.58483,\n        \"max\": 121.795,\n        \"num_unique_values\": 5,\n        \"samples\": [\n          118.67466,\n          121.795,\n          121.33866\n        ],\n        \"semantic_type\": \"\",\n        \"description\": \"\"\n      }\n    },\n    {\n      \"column\": \"Price+6\",\n      \"properties\": {\n        \"dtype\": \"number\",\n        \"std\": 6.293669209350776,\n        \"min\": 108.58483,\n        \"max\": 125.455,\n        \"num_unique_values\": 5,\n        \"samples\": [\n          108.58483,\n          120.65533,\n          118.67466\n        ],\n        \"semantic_type\": \"\",\n        \"description\": \"\"\n      }\n    },\n    {\n      \"column\": \"Price+7\",\n      \"properties\": {\n        \"dtype\": \"number\",\n        \"std\": 6.631743648699791,\n        \"min\": 108.58483,\n        \"max\": 125.455,\n        \"num_unique_values\": 5,\n        \"samples\": [\n          125.455,\n          121.33866,\n          108.58483\n        ],\n        \"semantic_type\": \"\",\n        \"description\": \"\"\n      }\n    }\n  ]\n}"
            }
          },
          "metadata": {},
          "execution_count": 84
        }
      ],
      "source": [
        "# add windowed columns\n",
        "bitcoin_prices_nbeats = bitcoin_prices.copy()\n",
        "for i in range(WINDOW_SIZE):\n",
        "  bitcoin_prices_nbeats[f\"Price+{i+1}\"] = bitcoin_prices_nbeats[\"Price\"].shift(periods=i+1)\n",
        "bitcoin_prices_nbeats.dropna().head()"
      ]
    },
    {
      "cell_type": "code",
      "execution_count": 85,
      "metadata": {
        "colab": {
          "base_uri": "https://localhost:8080/"
        },
        "id": "YJ2x7Et92qfu",
        "outputId": "c1d3f262-73dd-4566-a9dc-2a435f9437b8"
      },
      "outputs": [
        {
          "output_type": "execute_result",
          "data": {
            "text/plain": [
              "(2224, 2224, 556, 556)"
            ]
          },
          "metadata": {},
          "execution_count": 85
        }
      ],
      "source": [
        "#Make features and labels\n",
        "X = bitcoin_prices_nbeats.dropna().drop(\"Price\", axis=1)\n",
        "y = bitcoin_prices_nbeats.dropna()[\"Price\"]\n",
        "\n",
        "#Make split train and test\n",
        "split_size = int(len(X)*0.8)\n",
        "X_train, y_train = X[:split_size], y[:split_size]\n",
        "X_test, y_test = X[split_size:], y[split_size:]\n",
        "len(X_train), len(y_train), len(X_test), len(y_test)"
      ]
    },
    {
      "cell_type": "code",
      "execution_count": 86,
      "metadata": {
        "colab": {
          "base_uri": "https://localhost:8080/"
        },
        "id": "jdtOiYXb3jIf",
        "outputId": "b730885c-0e74-4984-868e-e5020f9ace69"
      },
      "outputs": [
        {
          "output_type": "execute_result",
          "data": {
            "text/plain": [
              "(<_PrefetchDataset element_spec=(TensorSpec(shape=(None, 7), dtype=tf.float64, name=None), TensorSpec(shape=(None,), dtype=tf.float64, name=None))>,\n",
              " <_PrefetchDataset element_spec=(TensorSpec(shape=(None, 7), dtype=tf.float64, name=None), TensorSpec(shape=(None,), dtype=tf.float64, name=None))>)"
            ]
          },
          "metadata": {},
          "execution_count": 86
        }
      ],
      "source": [
        "#1. turn train and test arrays into tensor Datasets\n",
        "train_features_dataset = tf.data.Dataset.from_tensor_slices(X_train)\n",
        "train_labels_dataset = tf.data.Dataset.from_tensor_slices(y_train)\n",
        "\n",
        "test_features_dataset = tf.data.Dataset.from_tensor_slices(X_test)\n",
        "test_labels_dataset = tf.data.Dataset.from_tensor_slices(y_test)\n",
        "\n",
        "#2. Combine features & lables\n",
        "train_dataset = tf.data.Dataset.zip((train_features_dataset, train_labels_dataset))\n",
        "test_dataset = tf.data.Dataset.zip( (test_features_dataset, test_labels_dataset))\n",
        "\n",
        "\n",
        "#3. batch and prefetch for optimal performance\n",
        "BATCH_SIZE = 1024 # taken from Appendix D in N-BEATS paper\n",
        "train_dataset = train_dataset.batch(BATCH_SIZE).prefetch(tf.data.AUTOTUNE)\n",
        "test_dataset = test_dataset.batch(BATCH_SIZE).prefetch(tf.data.AUTOTUNE)\n",
        "\n",
        "train_dataset, test_dataset"
      ]
    },
    {
      "cell_type": "code",
      "execution_count": 87,
      "metadata": {
        "colab": {
          "base_uri": "https://localhost:8080/"
        },
        "id": "rv3Bv-d48hB_",
        "outputId": "701de3ed-a3b7-49ef-f524-d48c6bebf2e2"
      },
      "outputs": [
        {
          "output_type": "execute_result",
          "data": {
            "text/plain": [
              "(7, 8)"
            ]
          },
          "metadata": {},
          "execution_count": 87
        }
      ],
      "source": [
        "#values from N-BEATS paper figure 1 and Table 18/ Appendix D\n",
        "N_EPOCHS = 5000 #CALLED \"iternations\"\n",
        "N_NEURONS = 512 #CALLED \"WIDTH\" IN TABLE 18\n",
        "N_LAYERS = 4\n",
        "N_STACKS = 30\n",
        "\n",
        "INPUT_SIZE = WINDOW_SIZE * HORIZON #CALLED \"LOOKBACK\" IN TABLE 18\n",
        "THETA_SIZE = INPUT_SIZE + HORIZON\n",
        "\n",
        "INPUT_SIZE, THETA_SIZE"
      ]
    },
    {
      "cell_type": "code",
      "execution_count": 88,
      "metadata": {
        "colab": {
          "base_uri": "https://localhost:8080/"
        },
        "id": "xAt1y42B_ZI0",
        "outputId": "8b66e410-ebfe-40f2-c66e-4601fd1d56dd"
      },
      "outputs": [
        {
          "output_type": "stream",
          "name": "stdout",
          "text": [
            "input tensors: [10 11 12 13 14 15 16 17 18 19] & [0 1 2 3 4 5 6 7 8 9]\n",
            "subtracted: [10 10 10 10 10 10 10 10 10 10]\n",
            "added: [10 12 14 16 18 20 22 24 26 28]\n"
          ]
        }
      ],
      "source": [
        "#make tensors\n",
        "tensor_1 = tf.range(10) +10\n",
        "tensor_2 = tf.range(10)\n",
        "\n",
        "#subtract\n",
        "subtracted = layers.subtract([tensor_1, tensor_2])\n",
        "\n",
        "#ADD\n",
        "added = layers.add([tensor_1, tensor_2])\n",
        "\n",
        "print(f\"input tensors: {tensor_1.numpy()} & {tensor_2.numpy()}\")\n",
        "print(f\"subtracted: {subtracted.numpy()}\")\n",
        "print(f\"added: {added.numpy()}\")"
      ]
    },
    {
      "cell_type": "code",
      "execution_count": 89,
      "metadata": {
        "colab": {
          "base_uri": "https://localhost:8080/"
        },
        "id": "9onn_6pGAbSc",
        "outputId": "80f78c0d-aab8-4a4c-849e-f32cdf557a71"
      },
      "outputs": [
        {
          "output_type": "stream",
          "name": "stdout",
          "text": [
            "\n",
            "Epoch 877: ReduceLROnPlateau reducing learning rate to 0.00010000000474974513.\n",
            "\n",
            "Epoch 1109: ReduceLROnPlateau reducing learning rate to 1.0000000474974514e-05.\n",
            "\n",
            "Epoch 1209: ReduceLROnPlateau reducing learning rate to 1.0000000656873453e-06.\n",
            "CPU times: user 8min 31s, sys: 8.85 s, total: 8min 40s\n",
            "Wall time: 7min 12s\n"
          ]
        },
        {
          "output_type": "execute_result",
          "data": {
            "text/plain": [
              "<keras.src.callbacks.History at 0x7eab43646620>"
            ]
          },
          "metadata": {},
          "execution_count": 89
        }
      ],
      "source": [
        "%%time\n",
        "\n",
        "tf.random.set_seed(42)\n",
        "\n",
        "# 1 setup n-beats block layer\n",
        "nbeats_block_layer = NBeatsBlock(input_size=INPUT_SIZE,\n",
        "                             theta_size=THETA_SIZE,\n",
        "                             horizon=HORIZON,\n",
        "                             n_neurons=N_NEURONS,\n",
        "                             n_layers=N_LAYERS,\n",
        "                             name='InitialBlock')\n",
        "\n",
        "# 2 create input to stacks\n",
        "stack_input = layers.Input(shape=(INPUT_SIZE), name=\"stack_input\")\n",
        "\n",
        "# 3 Create initial backcast and forecast input (backwards predictions are referred to as residuals inn the paper)\n",
        "backcast, forecast = nbeats_block_layer(stack_input)\n",
        "\n",
        "residuals = layers.subtract([stack_input, forecast], name=f\"subtract_00\") #subtract the input from the forecast\n",
        "\n",
        "#4. Create stacks of blocks\n",
        "for i, _ in enumerate(range(N_STACKS-1)): #first stack is already creted in (3)\n",
        "\n",
        "  #5.use the NBEATSBLOCK TO calculate the backcast as well as block forecast\n",
        "  backcast, block_forecast = NBeatsBlock(\n",
        "      input_size = INPUT_SIZE,\n",
        "      theta_size = THETA_SIZE,\n",
        "      horizon = HORIZON,\n",
        "      n_neurons = N_NEURONS,\n",
        "      n_layers = N_LAYERS,\n",
        "      name = f\"NBeatsBlock_{i}\")(residuals) #pass it in residuals(the backcast)\n",
        "\n",
        "  # 6 create the double residual stacking\n",
        "  residuals = layers.subtract([residuals, backcast], name=f\"subtract_{i}\")\n",
        "  residuals = layers.add([residuals, backcast], name=f\"add_{i}\")\n",
        "\n",
        "#7. put the stack model together\n",
        "model_7 = tf.keras.Model(inputs = stack_input,\n",
        "                         outputs = forecast,\n",
        "                         name=\"model_7_N-BEATS\")\n",
        "\n",
        "\n",
        "#8. COMPILE WITH MAE loss and Adam optimizer\n",
        "model_7.compile(loss=\"mae\",\n",
        "                optimizer = tf.keras.optimizers.Adam(0.001),\n",
        "                metrics = [\"mae\", \"mse\"])\n",
        "\n",
        "#9. fit the model with EarlyStopping and Reducelronplateau callbacks\n",
        "\n",
        "model_7.fit(train_dataset,\n",
        "            epochs = N_EPOCHS,\n",
        "            validation_data = test_dataset,\n",
        "            verbose =0, #prevent large amounts of training outputs\n",
        "            #callbacks = [craate_model_checkpoint(model_name=stack_model.name)] # saving model every epoch consumes far too much time\n",
        "            callbacks = [tf.keras.callbacks.EarlyStopping(monitor=\"val_loss\", patience=200, restore_best_weights=True),\n",
        "                         tf.keras.callbacks.ReduceLROnPlateau(monitor=\"val_loss\", patience=100,  verbose=1)])"
      ]
    },
    {
      "cell_type": "code",
      "execution_count": 90,
      "metadata": {
        "colab": {
          "base_uri": "https://localhost:8080/",
          "height": 174
        },
        "id": "Maw98buTHYyQ",
        "outputId": "bb1e521c-abcb-4248-c687-3742beb90045"
      },
      "outputs": [
        {
          "output_type": "execute_result",
          "data": {
            "image/png": "[encoded data removed]",
            "text/plain": [
              "<IPython.core.display.Image object>"
            ]
          },
          "metadata": {},
          "execution_count": 90
        }
      ],
      "source": [
        "from tensorflow.keras.utils import plot_model\n",
        "plot_model(model_7)"
      ]
    },
    {
      "cell_type": "code",
      "execution_count": 91,
      "metadata": {
        "colab": {
          "base_uri": "https://localhost:8080/"
        },
        "id": "PlNrEDJgKzLa",
        "outputId": "6fb0a213-492e-4383-e122-f3abeeee0c4c"
      },
      "outputs": [
        {
          "output_type": "stream",
          "name": "stdout",
          "text": [
            "1/1 [==============================] - 0s 66ms/step - loss: 577.8917 - mae: 577.8917 - mse: 1170492.7500\n"
          ]
        },
        {
          "output_type": "execute_result",
          "data": {
            "text/plain": [
              "[577.8917236328125, 577.8917236328125, 1170492.75]"
            ]
          },
          "metadata": {},
          "execution_count": 91
        }
      ],
      "source": [
        "model_7.evaluate(test_dataset)"
      ]
    },
    {
      "cell_type": "code",
      "execution_count": 92,
      "metadata": {
        "colab": {
          "base_uri": "https://localhost:8080/"
        },
        "id": "jfERKaNLK9DO",
        "outputId": "400e93a2-b05d-454a-d27e-a8d648d50efd"
      },
      "outputs": [
        {
          "output_type": "stream",
          "name": "stdout",
          "text": [
            "Model: \"model_7_N-BEATS\"\n",
            "_________________________________________________________________\n",
            " Layer (type)                Output Shape              Param #   \n",
            "=================================================================\n",
            " stack_input (InputLayer)    [(None, 7)]               0         \n",
            "                                                                 \n",
            " InitialBlock (NBeatsBlock)  ((None, 7),               796168    \n",
            "                              (None, 1))                         \n",
            "                                                                 \n",
            "=================================================================\n",
            "Total params: 796168 (3.04 MB)\n",
            "Trainable params: 796168 (3.04 MB)\n",
            "Non-trainable params: 0 (0.00 Byte)\n",
            "_________________________________________________________________\n"
          ]
        }
      ],
      "source": [
        "model_7.summary()"
      ]
    },
    {
      "cell_type": "code",
      "execution_count": 93,
      "metadata": {
        "colab": {
          "base_uri": "https://localhost:8080/"
        },
        "id": "JKB3uBDfLANs",
        "outputId": "d82f701d-24df-4ead-90b9-1bade660f990"
      },
      "outputs": [
        {
          "output_type": "stream",
          "name": "stdout",
          "text": [
            "1/1 [==============================] - 0s 113ms/step\n"
          ]
        },
        {
          "output_type": "execute_result",
          "data": {
            "text/plain": [
              "<tf.Tensor: shape=(10,), dtype=float32, numpy=\n",
              "array([8834.197, 8768.548, 9024.19 , 8755.542, 8729.891, 8737.986,\n",
              "       8653.344, 8498.157, 8457.964, 8509.353], dtype=float32)>"
            ]
          },
          "metadata": {},
          "execution_count": 93
        }
      ],
      "source": [
        "model_7_preds = make_preds(model_7, test_dataset)\n",
        "model_7_preds[:10]"
      ]
    },
    {
      "cell_type": "code",
      "execution_count": 94,
      "metadata": {
        "colab": {
          "base_uri": "https://localhost:8080/"
        },
        "id": "qy-rZEFILPvv",
        "outputId": "becc8f29-f754-4680-d6b2-83f60dbd9dca"
      },
      "outputs": [
        {
          "output_type": "execute_result",
          "data": {
            "text/plain": [
              "{'mae': 577.8917,\n",
              " 'mse': 1170492.8,\n",
              " 'rmse': 1081.8932,\n",
              " 'mape': 2.6054354,\n",
              " 'mase': 1.0151957}"
            ]
          },
          "metadata": {},
          "execution_count": 94
        }
      ],
      "source": [
        "model_7_results = evaluate_preds(y_true=y_test,\n",
        "                                 y_pred=model_7_preds)\n",
        "model_7_results"
      ]
    },
    {
      "cell_type": "code",
      "execution_count": 95,
      "metadata": {
        "id": "aJikbBEPLafU"
      },
      "outputs": [],
      "source": [
        "\n",
        "model_7.save(\"model_7_N-BEATS\")"
      ]
    },
    {
      "cell_type": "markdown",
      "source": [
        "#ensemble of models"
      ],
      "metadata": {
        "id": "P__WZ3YgMkuz"
      }
    },
    {
      "cell_type": "code",
      "source": [
        "def get_ensemble_models(horizon=HORIZON,\n",
        "                        train_data = train_dataset,\n",
        "                        test_data = test_dataset,\n",
        "                        num_iter=10,\n",
        "                        num_epochs=100,\n",
        "                        loss_fns=[\"mae\", \"mse\", \"mape\"]):\n",
        "  ensemble_models = []\n",
        "  for i in range(num_iter):\n",
        "    for loss_function in loss_fns:\n",
        "      print(f\"optimizing model by reducing: {loss_function} for {num_epochs} epochs, model number: {i}\")\n",
        "\n",
        "\n",
        "      model = tf.keras.Sequential([\n",
        "          layers.Dense(128, activation=\"relu\", kernel_initializer=\"he_normal\"),\n",
        "          layers.Dense(128, activation=\"relu\", kernel_initializer=\"he_normal\"),\n",
        "          layers.Dense(HORIZON)\n",
        "      ])\n",
        "\n",
        "      #compile simple model with current loss function\n",
        "      model.compile(loss=loss_function,\n",
        "                    optimizer=tf.keras.optimizers.Adam(),\n",
        "                    metrics=[\"mae\", \"mse\"])\n",
        "\n",
        "      #fit model\n",
        "      model.fit(train_data,\n",
        "                epochs=num_epochs,\n",
        "                verbose=0,\n",
        "                validation_data = test_data,\n",
        "                #add callbacks to prevent training from going/stalling for too long\n",
        "                callbacks = [tf.keras.callbacks.EarlyStopping(monitor=\"val_loss\",\n",
        "                                                              patience=200,\n",
        "                                                              restore_best_weights=True),\n",
        "                             tf.keras.callbacks.ReduceLROnPlateau(monitor=\"val_loss\",\n",
        "                                                                  patience=100,\n",
        "                                                                  verbose=1)])\n",
        "      ensemble_models.append(model)\n",
        "  return ensemble_models"
      ],
      "metadata": {
        "id": "cmtQ8dUNImLF"
      },
      "execution_count": 98,
      "outputs": []
    },
    {
      "cell_type": "code",
      "source": [
        "%%time\n",
        "# get list of trained enseble models\n",
        "ensemble_models = get_ensemble_models(num_iter=5,\n",
        "                                      num_epochs=1000)"
      ],
      "metadata": {
        "colab": {
          "base_uri": "https://localhost:8080/"
        },
        "id": "nb5gz_UPLuCg",
        "outputId": "685c1ce5-7b92-4397-a310-a9b76a89594f"
      },
      "execution_count": 99,
      "outputs": [
        {
          "output_type": "stream",
          "name": "stdout",
          "text": [
            "optimizing model by reducing: mae for 1000 epochs, model number: 0\n",
            "\n",
            "Epoch 451: ReduceLROnPlateau reducing learning rate to 0.00010000000474974513.\n",
            "\n",
            "Epoch 551: ReduceLROnPlateau reducing learning rate to 1.0000000474974514e-05.\n",
            "optimizing model by reducing: mse for 1000 epochs, model number: 0\n",
            "\n",
            "Epoch 420: ReduceLROnPlateau reducing learning rate to 0.00010000000474974513.\n",
            "\n",
            "Epoch 520: ReduceLROnPlateau reducing learning rate to 1.0000000474974514e-05.\n",
            "optimizing model by reducing: mape for 1000 epochs, model number: 0\n",
            "\n",
            "Epoch 205: ReduceLROnPlateau reducing learning rate to 0.00010000000474974513.\n",
            "\n",
            "Epoch 305: ReduceLROnPlateau reducing learning rate to 1.0000000474974514e-05.\n",
            "optimizing model by reducing: mae for 1000 epochs, model number: 1\n",
            "\n",
            "Epoch 116: ReduceLROnPlateau reducing learning rate to 0.00010000000474974513.\n",
            "\n",
            "Epoch 833: ReduceLROnPlateau reducing learning rate to 1.0000000474974514e-05.\n",
            "\n",
            "Epoch 933: ReduceLROnPlateau reducing learning rate to 1.0000000656873453e-06.\n",
            "optimizing model by reducing: mse for 1000 epochs, model number: 1\n",
            "\n",
            "Epoch 271: ReduceLROnPlateau reducing learning rate to 0.00010000000474974513.\n",
            "\n",
            "Epoch 575: ReduceLROnPlateau reducing learning rate to 1.0000000474974514e-05.\n",
            "\n",
            "Epoch 675: ReduceLROnPlateau reducing learning rate to 1.0000000656873453e-06.\n",
            "optimizing model by reducing: mape for 1000 epochs, model number: 1\n",
            "\n",
            "Epoch 170: ReduceLROnPlateau reducing learning rate to 0.00010000000474974513.\n",
            "\n",
            "Epoch 270: ReduceLROnPlateau reducing learning rate to 1.0000000474974514e-05.\n",
            "optimizing model by reducing: mae for 1000 epochs, model number: 2\n",
            "\n",
            "Epoch 695: ReduceLROnPlateau reducing learning rate to 0.00010000000474974513.\n",
            "optimizing model by reducing: mse for 1000 epochs, model number: 2\n",
            "\n",
            "Epoch 571: ReduceLROnPlateau reducing learning rate to 0.00010000000474974513.\n",
            "\n",
            "Epoch 671: ReduceLROnPlateau reducing learning rate to 1.0000000474974514e-05.\n",
            "optimizing model by reducing: mape for 1000 epochs, model number: 2\n",
            "\n",
            "Epoch 200: ReduceLROnPlateau reducing learning rate to 0.00010000000474974513.\n",
            "\n",
            "Epoch 625: ReduceLROnPlateau reducing learning rate to 1.0000000474974514e-05.\n",
            "\n",
            "Epoch 733: ReduceLROnPlateau reducing learning rate to 1.0000000656873453e-06.\n",
            "\n",
            "Epoch 833: ReduceLROnPlateau reducing learning rate to 1.0000001111620805e-07.\n",
            "optimizing model by reducing: mae for 1000 epochs, model number: 3\n",
            "\n",
            "Epoch 326: ReduceLROnPlateau reducing learning rate to 0.00010000000474974513.\n",
            "optimizing model by reducing: mse for 1000 epochs, model number: 3\n",
            "\n",
            "Epoch 789: ReduceLROnPlateau reducing learning rate to 0.00010000000474974513.\n",
            "\n",
            "Epoch 889: ReduceLROnPlateau reducing learning rate to 1.0000000474974514e-05.\n",
            "optimizing model by reducing: mape for 1000 epochs, model number: 3\n",
            "\n",
            "Epoch 185: ReduceLROnPlateau reducing learning rate to 0.00010000000474974513.\n",
            "\n",
            "Epoch 285: ReduceLROnPlateau reducing learning rate to 1.0000000474974514e-05.\n",
            "optimizing model by reducing: mae for 1000 epochs, model number: 4\n",
            "optimizing model by reducing: mse for 1000 epochs, model number: 4\n",
            "\n",
            "Epoch 610: ReduceLROnPlateau reducing learning rate to 0.00010000000474974513.\n",
            "\n",
            "Epoch 710: ReduceLROnPlateau reducing learning rate to 1.0000000474974514e-05.\n",
            "optimizing model by reducing: mape for 1000 epochs, model number: 4\n",
            "\n",
            "Epoch 388: ReduceLROnPlateau reducing learning rate to 0.00010000000474974513.\n",
            "\n",
            "Epoch 488: ReduceLROnPlateau reducing learning rate to 1.0000000474974514e-05.\n",
            "CPU times: user 8min 55s, sys: 22.5 s, total: 9min 18s\n",
            "Wall time: 11min 6s\n"
          ]
        }
      ]
    },
    {
      "cell_type": "markdown",
      "source": [
        "#making predictions with an enseble model"
      ],
      "metadata": {
        "id": "JFW3oMbVL_P4"
      }
    },
    {
      "cell_type": "code",
      "source": [
        "def make_ensemble_preds(ensemble_models, data):\n",
        "  ensemble_preds = []\n",
        "  for model in ensemble_models:\n",
        "    preds = model.predict(data)\n",
        "    ensemble_preds.append(preds)\n",
        "  return tf.constant(tf.squeeze(ensemble_preds))"
      ],
      "metadata": {
        "id": "VVpoot-2NUBF"
      },
      "execution_count": 108,
      "outputs": []
    },
    {
      "cell_type": "code",
      "source": [
        "ensemble_preds = make_ensemble_preds(ensemble_models=ensemble_models,\n",
        "                                     data=test_dataset)\n",
        "ensemble_preds[:10]"
      ],
      "metadata": {
        "colab": {
          "base_uri": "https://localhost:8080/"
        },
        "id": "FdwuU5P5NrOK",
        "outputId": "d9c8bc18-4f7c-481e-d4da-503a928dfbbe"
      },
      "execution_count": 109,
      "outputs": [
        {
          "output_type": "stream",
          "name": "stdout",
          "text": [
            "1/1 [==============================] - 0s 103ms/step\n",
            "1/1 [==============================] - 0s 93ms/step\n"
          ]
        },
        {
          "output_type": "stream",
          "name": "stderr",
          "text": [
            "WARNING:tensorflow:5 out of the last 22 calls to <function Model.make_predict_function.<locals>.predict_function at 0x7eab38812170> triggered tf.function retracing. Tracing is expensive and the excessive number of tracings could be due to (1) creating @tf.function repeatedly in a loop, (2) passing tensors with different shapes, (3) passing Python objects instead of tensors. For (1), please define your @tf.function outside of the loop. For (2), @tf.function has reduce_retracing=True option that can avoid unnecessary retracing. For (3), please refer to https://www.tensorflow.org/guide/function#controlling_retracing and https://www.tensorflow.org/api_docs/python/tf/function for  more details.\n"
          ]
        },
        {
          "output_type": "stream",
          "name": "stdout",
          "text": [
            "1/1 [==============================] - 0s 116ms/step\n"
          ]
        },
        {
          "output_type": "stream",
          "name": "stderr",
          "text": [
            "WARNING:tensorflow:6 out of the last 23 calls to <function Model.make_predict_function.<locals>.predict_function at 0x7eab38811ab0> triggered tf.function retracing. Tracing is expensive and the excessive number of tracings could be due to (1) creating @tf.function repeatedly in a loop, (2) passing tensors with different shapes, (3) passing Python objects instead of tensors. For (1), please define your @tf.function outside of the loop. For (2), @tf.function has reduce_retracing=True option that can avoid unnecessary retracing. For (3), please refer to https://www.tensorflow.org/guide/function#controlling_retracing and https://www.tensorflow.org/api_docs/python/tf/function for  more details.\n"
          ]
        },
        {
          "output_type": "stream",
          "name": "stdout",
          "text": [
            "1/1 [==============================] - 0s 323ms/step\n",
            "1/1 [==============================] - 0s 287ms/step\n",
            "1/1 [==============================] - 0s 137ms/step\n",
            "1/1 [==============================] - 0s 54ms/step\n",
            "1/1 [==============================] - 0s 65ms/step\n",
            "1/1 [==============================] - 0s 63ms/step\n",
            "1/1 [==============================] - 0s 51ms/step\n",
            "1/1 [==============================] - 0s 54ms/step\n",
            "1/1 [==============================] - 0s 57ms/step\n",
            "1/1 [==============================] - 0s 50ms/step\n",
            "1/1 [==============================] - 0s 78ms/step\n",
            "1/1 [==============================] - 0s 55ms/step\n"
          ]
        },
        {
          "output_type": "execute_result",
          "data": {
            "text/plain": [
              "<tf.Tensor: shape=(10, 556), dtype=float32, numpy=\n",
              "array([[ 8830.462,  8718.713,  8997.216, ..., 50038.023, 48961.22 ,\n",
              "        45920.39 ],\n",
              "       [ 8785.186,  8746.311,  9056.589, ..., 49864.387, 48366.766,\n",
              "        45973.703],\n",
              "       [ 8807.268,  8786.119,  9029.666, ..., 49924.277, 48057.363,\n",
              "        46194.77 ],\n",
              "       ...,\n",
              "       [ 8755.418,  8752.407,  8977.487, ..., 49701.664, 48257.45 ,\n",
              "        46396.965],\n",
              "       [ 8770.206,  8788.813,  9077.632, ..., 50199.973, 47909.734,\n",
              "        45832.156],\n",
              "       [ 8803.205,  8810.661,  9085.966, ..., 49767.18 , 48322.316,\n",
              "        45642.082]], dtype=float32)>"
            ]
          },
          "metadata": {},
          "execution_count": 109
        }
      ]
    },
    {
      "cell_type": "code",
      "source": [
        "#evaluate ensemble  model(s) predictions\n",
        "ensemble_results = evaluate_preds(y_true=y_test,\n",
        "                                      y_pred=np.median(ensemble_preds, axis=0)) #take the median across all ensemble\n",
        "ensemble_results"
      ],
      "metadata": {
        "colab": {
          "base_uri": "https://localhost:8080/"
        },
        "id": "dOh6lbm7N5ZT",
        "outputId": "13f73929-2480-4f27-83d7-7ddd6bf1ac95"
      },
      "execution_count": 110,
      "outputs": [
        {
          "output_type": "execute_result",
          "data": {
            "text/plain": [
              "{'mae': 568.0565,\n",
              " 'mse': 1137575.1,\n",
              " 'rmse': 1066.5717,\n",
              " 'mape': 2.5741258,\n",
              " 'mase': 0.99791795}"
            ]
          },
          "metadata": {},
          "execution_count": 110
        }
      ]
    },
    {
      "cell_type": "markdown",
      "source": [
        "#Plotiing the prediction intervals"
      ],
      "metadata": {
        "id": "OdCTNNlMOn8c"
      }
    },
    {
      "cell_type": "code",
      "source": [
        "def get_upper_lower(preds): # 1. take the predictions of multiple eandomly initialized deep learning neural networks\n",
        "\n",
        "  #2. Measure the standard deviation of the predictions\n",
        "  std = tf.math.reduce_std(preds, axis=0)\n",
        "\n",
        "  #3. Multiple the standard deviation by 1.96\n",
        "  interval = 1.96 * std\n",
        "\n",
        "  #4. Get the prediction interval upper and lower bounds\n",
        "  preds_mean = tf.reduce_mean(preds, axis=0)\n",
        "  lower, upper = preds_mean - interval, preds_mean + interval\n",
        "  return lower, upper\n",
        "\n",
        "#get the upper and lower bounds of the 95%\n",
        "lower, upper = get_upper_lower(preds=ensemble_preds)"
      ],
      "metadata": {
        "id": "CvW-nn2wPbsW"
      },
      "execution_count": 111,
      "outputs": []
    },
    {
      "cell_type": "code",
      "source": [
        "# get the median values of our ensemble preds\n",
        "ensemble_median = np.median(ensemble_preds, axis=0)\n",
        "\n",
        "#plot the median of our ensemble preds along with the prediction intervals (where the predictions fall between)\n",
        "offset = 500\n",
        "plt.figure(figsize=(10,7))\n",
        "plt.plot(X_test.index[offset:], y_test[offset:], \"g\", label=\"Test Data\")\n",
        "plt.plot(X_test.index[offset:], ensemble_median[offset:], \"k-\", label=\"Ensemble Median\")\n",
        "plt.xlabel(\"Date\")\n",
        "plt.ylabel(\"BTC PRICE\")\n",
        "plt.fill_between(X_test.index[offset:],\n",
        "                 (lower)[offset:],\n",
        "                 (upper)[offset:],\n",
        "                 label = \"Predictions Intervals\")\n",
        "plt.legend(loc=\"upper left\", fontsize=14)"
      ],
      "metadata": {
        "colab": {
          "base_uri": "https://localhost:8080/",
          "height": 637
        },
        "id": "5G5eBx3kQ043",
        "outputId": "2f662339-5f56-42d6-da5e-aaef56eaaefb"
      },
      "execution_count": 112,
      "outputs": [
        {
          "output_type": "execute_result",
          "data": {
            "text/plain": [
              "<matplotlib.legend.Legend at 0x7eab35168b20>"
            ]
          },
          "metadata": {},
          "execution_count": 112
        },
        {
          "output_type": "display_data",
          "data": {
            "text/plain": [
              "<Figure size 1000x700 with 1 Axes>"
            ],
            "image/png": "[encoded data removed]"
          },
          "metadata": {}
        }
      ]
    },
    {
      "cell_type": "code",
      "source": [],
      "metadata": {
        "id": "7t3lQIXOSzuX"
      },
      "execution_count": null,
      "outputs": []
    }
  ],
  "metadata": {
    "accelerator": "GPU",
    "colab": {
      "gpuType": "T4",
      "provenance": [],
      "authorship_tag": "ABX9TyMXmyrVpwPcNc2KjP1FN0ra",
      "include_colab_link": true
    },
    "kernelspec": {
      "display_name": "Python 3",
      "name": "python3"
    },
    "language_info": {
      "name": "python"
    }
  },
  "nbformat": 4,
  "nbformat_minor": 0
}