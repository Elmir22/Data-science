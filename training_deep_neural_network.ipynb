{
  "nbformat": 4,
  "nbformat_minor": 0,
  "metadata": {
    "colab": {
      "provenance": [],
      "authorship_tag": "ABX9TyO+CR4a0EQ4Mai9OMtILeKi",
      "include_colab_link": true
    },
    "kernelspec": {
      "name": "python3",
      "display_name": "Python 3"
    },
    "language_info": {
      "name": "python"
    }
  },
  "cells": [
    {
      "cell_type": "markdown",
      "metadata": {
        "id": "view-in-github",
        "colab_type": "text"
      },
      "source": [
        "<a href=\"https://colab.research.google.com/github/Elmir22/Data-science-ML-models-/blob/main/training_deep_neural_network.ipynb\" target=\"_parent\"><img src=\"https://colab.research.google.com/assets/colab-badge.svg\" alt=\"Open In Colab\"/></a>"
      ]
    },
    {
      "cell_type": "code",
      "execution_count": 1,
      "metadata": {
        "id": "enTCLjUuWroW"
      },
      "outputs": [],
      "source": [
        "import numpy as np\n",
        "import matplotlib.pyplot as plt\n",
        "\n",
        "def sigmoid(z):\n",
        "  return1/(1+np.exp(-z))"
      ]
    },
    {
      "cell_type": "markdown",
      "source": [
        "#Xavier and he initialization"
      ],
      "metadata": {
        "id": "rrcjwzo9XZvR"
      }
    },
    {
      "cell_type": "code",
      "source": [
        "import tensorflow as tf\n",
        "dense= tf.keras.layers.Dense(50, activation=\"relu\",\n",
        "                             kernel_initializer=\"he_normal\")"
      ],
      "metadata": {
        "id": "AT3FSzDuXfGx"
      },
      "execution_count": 2,
      "outputs": []
    },
    {
      "cell_type": "code",
      "source": [
        "he_avg_init = tf.keras.initializers.VarianceScaling(scale=2., mode='fan_avg',\n",
        "                                                    distribution='uniform')\n",
        "dense=tf.keras.layers.Dense(50, activation='sigmoid',\n",
        "                            kernel_initializer=he_avg_init)"
      ],
      "metadata": {
        "id": "OFhSHphbXwpK"
      },
      "execution_count": 3,
      "outputs": []
    },
    {
      "cell_type": "code",
      "source": [
        "def leaky_relu(z,alpha):\n",
        "  return np.maximum(alpha*z,z)"
      ],
      "metadata": {
        "id": "R3DlfchFaYXG"
      },
      "execution_count": 4,
      "outputs": []
    },
    {
      "cell_type": "code",
      "source": [
        "np.maximum"
      ],
      "metadata": {
        "colab": {
          "base_uri": "https://localhost:8080/"
        },
        "id": "rqfAWUFnar1f",
        "outputId": "398914ec-f4f2-4e94-e272-3b5b729839d1"
      },
      "execution_count": 5,
      "outputs": [
        {
          "output_type": "execute_result",
          "data": {
            "text/plain": [
              "<ufunc 'maximum'>"
            ]
          },
          "metadata": {},
          "execution_count": 5
        }
      ]
    },
    {
      "cell_type": "code",
      "source": [
        "leaky_relu = tf.keras.layers.LeakyReLU(alpha=0.2)\n",
        "dense= tf.keras.layers.Dense(50,activation=leaky_relu,\n",
        "                             kernel_initializer='he_normal')"
      ],
      "metadata": {
        "id": "MqQHez9SawmI"
      },
      "execution_count": 6,
      "outputs": []
    },
    {
      "cell_type": "code",
      "source": [
        "model = tf.keras.models.Sequential([\n",
        "    tf.keras.layers.Dense(50,kernel_initializer='he_normal'),\n",
        "    tf.keras.layers.LeakyReLU(alpha=0.2)\n",
        "])"
      ],
      "metadata": {
        "id": "Y7uljdnIbZNZ"
      },
      "execution_count": 7,
      "outputs": []
    },
    {
      "cell_type": "markdown",
      "source": [
        "#ELU"
      ],
      "metadata": {
        "id": "eQCzavWRcSSa"
      }
    },
    {
      "cell_type": "code",
      "source": [
        "dense = tf.keras.layers.Dense(50, activation='elu',\n",
        "                              kernel_initializer='he_normal')"
      ],
      "metadata": {
        "id": "DHnsZmmmcUB3"
      },
      "execution_count": 8,
      "outputs": []
    },
    {
      "cell_type": "code",
      "source": [
        "dense = tf.keras.layers.Dense(50, activation='selu',\n",
        "                              kernel_initializer='lecun_normal')"
      ],
      "metadata": {
        "id": "MsDJu1pNdE12"
      },
      "execution_count": 9,
      "outputs": []
    },
    {
      "cell_type": "code",
      "source": [
        "tf.random.set_seed(42)\n",
        "model =tf.keras.Sequential()\n",
        "model.add(tf.keras.layers.Flatten(input_shape=[28,28]))\n",
        "for layer in range(100):\n",
        "  model.add(tf.keras.layers.Dense(100, activation='selu',\n",
        "                                  kernel_initializer='lecun_normal'))\n",
        "model.add(tf.keras.layers.Dense(10, activation='softmax'))"
      ],
      "metadata": {
        "id": "uPcrpuDHdWxg"
      },
      "execution_count": 10,
      "outputs": []
    },
    {
      "cell_type": "code",
      "source": [
        "model.compile(loss=\"sparse_categorical_crossentropy\",\n",
        "              optimizer=tf.keras.optimizers.SGD(learning_rate=0.001),\n",
        "              metrics=[\"accuracy\"])"
      ],
      "metadata": {
        "id": "OOBsMUvoeNCr"
      },
      "execution_count": 11,
      "outputs": []
    },
    {
      "cell_type": "code",
      "source": [
        "fashion_mnist = tf.keras.datasets.fashion_mnist.load_data()\n",
        "(X_train_full, y_train_full), (X_test, y_test) = fashion_mnist\n",
        "X_train, y_train =X_train_full[:-5000], y_train_full[:-5000]\n",
        "X_valid, y_valid =X_train_full[-5000:], y_train_full[-5000:]\n",
        "X_train, X_valid, X_test = X_train/255, X_valid / 255 , X_test /255"
      ],
      "metadata": {
        "id": "ar2XJss0ewRI",
        "colab": {
          "base_uri": "https://localhost:8080/"
        },
        "outputId": "46289a39-8b2f-4a00-fb4e-5f28556bb58e"
      },
      "execution_count": 12,
      "outputs": [
        {
          "output_type": "stream",
          "name": "stdout",
          "text": [
            "Downloading data from https://storage.googleapis.com/tensorflow/tf-keras-datasets/train-labels-idx1-ubyte.gz\n",
            "29515/29515 [==============================] - 0s 0us/step\n",
            "Downloading data from https://storage.googleapis.com/tensorflow/tf-keras-datasets/train-images-idx3-ubyte.gz\n",
            "26421880/26421880 [==============================] - 2s 0us/step\n",
            "Downloading data from https://storage.googleapis.com/tensorflow/tf-keras-datasets/t10k-labels-idx1-ubyte.gz\n",
            "5148/5148 [==============================] - 0s 0us/step\n",
            "Downloading data from https://storage.googleapis.com/tensorflow/tf-keras-datasets/t10k-images-idx3-ubyte.gz\n",
            "4422102/4422102 [==============================] - 1s 0us/step\n"
          ]
        }
      ]
    },
    {
      "cell_type": "code",
      "source": [
        "class_names = ['T-shirt/top', 'Trouser', 'Pullover', 'Dress', 'Coat',\n",
        "               'Sandal', 'Shirt', 'Sneaker', 'Bag', 'Ankle boot']"
      ],
      "metadata": {
        "id": "J2pIaZg4fvd-"
      },
      "execution_count": 13,
      "outputs": []
    },
    {
      "cell_type": "code",
      "source": [
        "pixel_means = X_train.mean(axis=0, keepdims=True)\n",
        "pixels_stds = X_train.std(axis=0, keepdims=True)\n",
        "X_train_scaled = (X_train - pixel_means) / pixels_stds\n",
        "X_valid_scaled = (X_valid - pixel_means) / pixels_stds\n",
        "X_test_scaled = (X_test - pixel_means) / pixels_stds"
      ],
      "metadata": {
        "id": "hAYf_jxPf8qN"
      },
      "execution_count": 14,
      "outputs": []
    },
    {
      "cell_type": "code",
      "source": [
        "history = model.fit(X_train_scaled, y_train, epochs=5,\n",
        "                    validation_data=(X_valid_scaled, y_valid))"
      ],
      "metadata": {
        "colab": {
          "base_uri": "https://localhost:8080/"
        },
        "id": "4rV3DVUCid_U",
        "outputId": "7aa5b083-1462-4c85-dc8b-d9d98d10e6ba"
      },
      "execution_count": 15,
      "outputs": [
        {
          "output_type": "stream",
          "name": "stdout",
          "text": [
            "Epoch 1/5\n",
            "1719/1719 [==============================] - 38s 17ms/step - loss: 1.4747 - accuracy: 0.4111 - val_loss: 1.1550 - val_accuracy: 0.5522\n",
            "Epoch 2/5\n",
            "1719/1719 [==============================] - 29s 17ms/step - loss: 1.2762 - accuracy: 0.5039 - val_loss: 1.0305 - val_accuracy: 0.6106\n",
            "Epoch 3/5\n",
            "1719/1719 [==============================] - 28s 16ms/step - loss: 0.9076 - accuracy: 0.6472 - val_loss: 0.7429 - val_accuracy: 0.7186\n",
            "Epoch 4/5\n",
            "1719/1719 [==============================] - 28s 17ms/step - loss: 0.7191 - accuracy: 0.7378 - val_loss: 0.6430 - val_accuracy: 0.7630\n",
            "Epoch 5/5\n",
            "1719/1719 [==============================] - 29s 17ms/step - loss: 0.7416 - accuracy: 0.7331 - val_loss: 1.1270 - val_accuracy: 0.6010\n"
          ]
        }
      ]
    },
    {
      "cell_type": "code",
      "source": [
        "tf.random.set_seed(42)"
      ],
      "metadata": {
        "id": "AqN-q1K1iybo"
      },
      "execution_count": 16,
      "outputs": []
    },
    {
      "cell_type": "code",
      "source": [],
      "metadata": {
        "id": "Xktd_ipuoIF1"
      },
      "execution_count": 16,
      "outputs": []
    },
    {
      "cell_type": "code",
      "source": [],
      "metadata": {
        "id": "mcvhZPaRoITd"
      },
      "execution_count": 16,
      "outputs": []
    },
    {
      "cell_type": "code",
      "source": [
        "model = tf.keras.Sequential()\n",
        "model.add(tf.keras.layers.Flatten(input_shape=[28,28]))\n",
        "for layer in range(100):\n",
        "  model.add(tf.keras.layers.Dense(100, activation=\"relu\",\n",
        "                                  kernel_initializer=\"he_normal\"))\n",
        "model.add(tf.keras.layers.Dense(10, activation=\"softmax\"))"
      ],
      "metadata": {
        "id": "VgpaVNbyi7E5"
      },
      "execution_count": 17,
      "outputs": []
    },
    {
      "cell_type": "code",
      "source": [
        "model.compile(loss=\"sparse_categorical_crossentropy\",\n",
        "              optimizer=tf.keras.optimizers.SGD(learning_rate=0.001),\n",
        "              metrics=[\"accuracy\"])"
      ],
      "metadata": {
        "id": "5avDiTUgmvFL"
      },
      "execution_count": 18,
      "outputs": []
    },
    {
      "cell_type": "code",
      "source": [
        "history = model.fit(X_train_scaled, y_train, epochs=5,\n",
        "                    validation_data=(X_valid_scaled, y_valid))"
      ],
      "metadata": {
        "colab": {
          "base_uri": "https://localhost:8080/"
        },
        "id": "qyjCruGqmxLC",
        "outputId": "189afcaa-a930-49ab-9755-391753d73b4a"
      },
      "execution_count": 19,
      "outputs": [
        {
          "output_type": "stream",
          "name": "stdout",
          "text": [
            "Epoch 1/5\n",
            "1719/1719 [==============================] - 34s 16ms/step - loss: 1.9081 - accuracy: 0.2143 - val_loss: 2.1792 - val_accuracy: 0.1988\n",
            "Epoch 2/5\n",
            "1719/1719 [==============================] - 26s 15ms/step - loss: 1.2516 - accuracy: 0.4768 - val_loss: 0.9808 - val_accuracy: 0.5866\n",
            "Epoch 3/5\n",
            "1719/1719 [==============================] - 27s 16ms/step - loss: 0.8830 - accuracy: 0.6413 - val_loss: 0.8894 - val_accuracy: 0.6122\n",
            "Epoch 4/5\n",
            "1719/1719 [==============================] - 27s 15ms/step - loss: 0.8524 - accuracy: 0.6574 - val_loss: 0.7417 - val_accuracy: 0.7002\n",
            "Epoch 5/5\n",
            "1719/1719 [==============================] - 27s 16ms/step - loss: 0.7807 - accuracy: 0.6824 - val_loss: 1.3844 - val_accuracy: 0.4258\n"
          ]
        }
      ]
    },
    {
      "cell_type": "code",
      "source": [
        "def swish(z, beta=1):\n",
        "  return z*sigmoid(beta * z)\n",
        "\n",
        "def approx_gelu(z):\n",
        "  return swish(z, beta=1.702)\n",
        "\n",
        "def soft_plus(z):\n",
        "  return np.log(1+np.exp(z))\n",
        "\n",
        "def mish(z):\n",
        "  return z * np.tanh(solfplus(z))"
      ],
      "metadata": {
        "id": "so37I1pGn_NU"
      },
      "execution_count": 20,
      "outputs": []
    },
    {
      "cell_type": "markdown",
      "source": [
        "#batch Nomalization"
      ],
      "metadata": {
        "id": "5DK3qIBdyIys"
      }
    },
    {
      "cell_type": "code",
      "source": [
        "tf.keras.backend.clear_session()\n",
        "tf.random.set_seed(42)"
      ],
      "metadata": {
        "id": "OMCtnxUCyVFq"
      },
      "execution_count": 21,
      "outputs": []
    },
    {
      "cell_type": "code",
      "source": [
        "model= tf.keras.Sequential([\n",
        "    tf.keras.layers.Flatten(input_shape=[28,28]),\n",
        "    tf.keras.layers.BatchNormalization(),\n",
        "    tf.keras.layers.Dense(300, activation=\"relu\",\n",
        "                          kernel_initializer=\"he_normal\"),\n",
        "    tf.keras.layers.BatchNormalization(),\n",
        "    tf.keras.layers.Dense(100, activation=\"relu\",\n",
        "                          kernel_initializer=\"he_normal\"),\n",
        "    tf.keras.layers.BatchNormalization(),\n",
        "    tf.keras.layers.Dense(10, activation=\"softmax\")\n",
        "])"
      ],
      "metadata": {
        "id": "BDs__pjHyet0"
      },
      "execution_count": 22,
      "outputs": []
    },
    {
      "cell_type": "code",
      "source": [
        "[(var.name, var.trainable) for var in model.layers[1].variables]"
      ],
      "metadata": {
        "colab": {
          "base_uri": "https://localhost:8080/"
        },
        "id": "ynirsKDF0avJ",
        "outputId": "e4c3cc60-0621-4a4e-8165-c7d8d9795620"
      },
      "execution_count": 23,
      "outputs": [
        {
          "output_type": "execute_result",
          "data": {
            "text/plain": [
              "[('batch_normalization/gamma:0', True),\n",
              " ('batch_normalization/beta:0', True),\n",
              " ('batch_normalization/moving_mean:0', False),\n",
              " ('batch_normalization/moving_variance:0', False)]"
            ]
          },
          "metadata": {},
          "execution_count": 23
        }
      ]
    },
    {
      "cell_type": "code",
      "source": [
        "model.compile(loss=\"sparse_categorical_crossentropy\", optimizer=\"sgd\",\n",
        "              metrics=\"accuracy\")\n",
        "model.fit(X_train, y_train, epochs=2,validation_data=(X_valid, y_valid))"
      ],
      "metadata": {
        "colab": {
          "base_uri": "https://localhost:8080/"
        },
        "id": "WzalAbIT14ud",
        "outputId": "2ccb33b4-eac2-49c7-bcf8-5393033f55e3"
      },
      "execution_count": 24,
      "outputs": [
        {
          "output_type": "stream",
          "name": "stdout",
          "text": [
            "Epoch 1/2\n",
            "1719/1719 [==============================] - 11s 6ms/step - loss: 0.5464 - accuracy: 0.8123 - val_loss: 0.4045 - val_accuracy: 0.8586\n",
            "Epoch 2/2\n",
            "1719/1719 [==============================] - 9s 5ms/step - loss: 0.4019 - accuracy: 0.8581 - val_loss: 0.3647 - val_accuracy: 0.8710\n"
          ]
        },
        {
          "output_type": "execute_result",
          "data": {
            "text/plain": [
              "<keras.src.callbacks.History at 0x7f82aebcc610>"
            ]
          },
          "metadata": {},
          "execution_count": 24
        }
      ]
    },
    {
      "cell_type": "code",
      "source": [
        "tf.keras.backend.clear_session()\n",
        "tf.random.set_seed(42)"
      ],
      "metadata": {
        "id": "NCHAcudZ2alG"
      },
      "execution_count": 25,
      "outputs": []
    },
    {
      "cell_type": "code",
      "source": [
        "model= tf.keras.Sequential([\n",
        "    tf.keras.layers.Flatten(input_shape=[28,28]),\n",
        "    tf.keras.layers.BatchNormalization(),\n",
        "    tf.keras.layers.Dense(300, kernel_initializer=\"he_normal\", use_bias=False),\n",
        "    tf.keras.layers.BatchNormalization(),\n",
        "    tf.keras.layers.Activation(\"relu\"),\n",
        "    tf.keras.layers.Dense(100,kernel_initializer=\"he_normal\", use_bias=False),\n",
        "    tf.keras.layers.BatchNormalization(),\n",
        "    tf.keras.layers.Activation(\"relu\"),\n",
        "    tf.keras.layers.Dense(10, activation=\"softmax\")\n",
        "])"
      ],
      "metadata": {
        "id": "RIDoInGJ2mFF"
      },
      "execution_count": 26,
      "outputs": []
    },
    {
      "cell_type": "code",
      "source": [
        "model.compile(loss=\"sparse_categorical_crossentropy\", optimizer=\"sgd\",\n",
        "              metrics=\"accuracy\")\n",
        "model.fit(X_train, y_train, epochs=2,validation_data=(X_valid, y_valid))"
      ],
      "metadata": {
        "colab": {
          "base_uri": "https://localhost:8080/"
        },
        "id": "-EeM7DwJ3aCm",
        "outputId": "a7f28d93-3862-4b7c-e6a9-26c290b8dd87"
      },
      "execution_count": 28,
      "outputs": [
        {
          "output_type": "stream",
          "name": "stdout",
          "text": [
            "Epoch 1/2\n",
            "1719/1719 [==============================] - 12s 6ms/step - loss: 0.6187 - accuracy: 0.7925 - val_loss: 0.4214 - val_accuracy: 0.8446\n",
            "Epoch 2/2\n",
            "1719/1719 [==============================] - 12s 7ms/step - loss: 0.4315 - accuracy: 0.8492 - val_loss: 0.3718 - val_accuracy: 0.8658\n"
          ]
        },
        {
          "output_type": "execute_result",
          "data": {
            "text/plain": [
              "<keras.src.callbacks.History at 0x7f82aeb1bc10>"
            ]
          },
          "metadata": {},
          "execution_count": 28
        }
      ]
    },
    {
      "cell_type": "markdown",
      "source": [
        "#Gradient Clipping"
      ],
      "metadata": {
        "id": "8V4YruAQ4EJb"
      }
    },
    {
      "cell_type": "code",
      "source": [
        "optimizer = tf.keras.optimizers.SGD(clipvalue=1.0)\n",
        "model.compile(loss=\"sparse_categorical_crossentropy\", optimizer=optimizer)\n",
        "\n",
        "\n"
      ],
      "metadata": {
        "id": "qm87iklA4IDJ"
      },
      "execution_count": 29,
      "outputs": []
    },
    {
      "cell_type": "code",
      "source": [
        "\n",
        "\n",
        "optimizer = tf.keras.optimizers.SGD(clipnorm=1.0)\n",
        "model.compile(loss=\"sparse_categorical_crossentropy\", optimizer=optimizer)"
      ],
      "metadata": {
        "id": "H843dKCm4dYQ"
      },
      "execution_count": 30,
      "outputs": []
    },
    {
      "cell_type": "markdown",
      "source": [
        "#Reusing Pretrained Layers Transfer learning\n"
      ],
      "metadata": {
        "id": "T_ZUDk8S5EIS"
      }
    },
    {
      "cell_type": "code",
      "source": [
        "pos_class_id = class_names.index(\"Pullover\")\n",
        "neg_class_id = class_names.index(\"T-shirt/top\")\n",
        "\n",
        "def split_dataset(X, y):\n",
        "    y_for_B = (y == pos_class_id) | (y == neg_class_id)\n",
        "    y_A = y[~y_for_B]\n",
        "    y_B = (y[y_for_B] == pos_class_id).astype(np.float32)\n",
        "    old_class_ids = list(set(range(10)) - set([neg_class_id, pos_class_id]))\n",
        "    for old_class_id, new_class_id in zip(old_class_ids, range(8)):\n",
        "        y_A[y_A == old_class_id] = new_class_id  # reorder class ids for A\n",
        "    return ((X[~y_for_B], y_A), (X[y_for_B], y_B))\n",
        "\n",
        "(X_train_A, y_train_A), (X_train_B, y_train_B) = split_dataset(X_train, y_train)\n",
        "(X_valid_A, y_valid_A), (X_valid_B, y_valid_B) = split_dataset(X_valid, y_valid)\n",
        "(X_test_A, y_test_A), (X_test_B, y_test_B) = split_dataset(X_test, y_test)\n",
        "X_train_B = X_train_B[:200]\n",
        "y_train_B = y_train_B[:200]\n",
        "\n",
        "tf.random.set_seed(42)\n",
        "\n",
        "model_A = tf.keras.Sequential([\n",
        "    tf.keras.layers.Flatten(input_shape=[28,28]),\n",
        "    tf.keras.layers.Dense(100,activation=\"relu\",\n",
        "                          kernel_initializer=\"he_normal\"),\n",
        "    tf.keras.layers.Dense(100,activation=\"relu\",\n",
        "                          kernel_initializer=\"he_normal\"),\n",
        "    tf.keras.layers.Dense(100,activation=\"relu\",\n",
        "                          kernel_initializer=\"he_normal\"),\n",
        "    tf.keras.layers.Dense(8, activation=\"softmax\")\n",
        "])\n",
        "\n",
        "model_A.compile(loss=\"sparse_categorical_crossentropy\",\n",
        "                optimizer=tf.keras.optimizers.SGD(learning_rate=0.001),\n",
        "                metrics=[\"accuracy\"])\n",
        "history = model_A.fit(X_train_A,y_train_A, epochs=20,\n",
        "                      validation_data=(X_valid_A, y_valid_A))\n",
        "model_A.save(\"my_model_A\")"
      ],
      "metadata": {
        "colab": {
          "base_uri": "https://localhost:8080/"
        },
        "id": "4wQgJGrw5KG_",
        "outputId": "6827d3db-79e8-4b0a-f751-f4f619d9f252"
      },
      "execution_count": 31,
      "outputs": [
        {
          "output_type": "stream",
          "name": "stdout",
          "text": [
            "Epoch 1/20\n",
            "1376/1376 [==============================] - 5s 3ms/step - loss: 1.0281 - accuracy: 0.6803 - val_loss: 0.6712 - val_accuracy: 0.7809\n",
            "Epoch 2/20\n",
            "1376/1376 [==============================] - 3s 3ms/step - loss: 0.5891 - accuracy: 0.8083 - val_loss: 0.5106 - val_accuracy: 0.8373\n",
            "Epoch 3/20\n",
            "1376/1376 [==============================] - 4s 3ms/step - loss: 0.4792 - accuracy: 0.8491 - val_loss: 0.4395 - val_accuracy: 0.8521\n",
            "Epoch 4/20\n",
            "1376/1376 [==============================] - 4s 3ms/step - loss: 0.4209 - accuracy: 0.8652 - val_loss: 0.3965 - val_accuracy: 0.8669\n",
            "Epoch 5/20\n",
            "1376/1376 [==============================] - 4s 3ms/step - loss: 0.3847 - accuracy: 0.8736 - val_loss: 0.3701 - val_accuracy: 0.8716\n",
            "Epoch 6/20\n",
            "1376/1376 [==============================] - 3s 2ms/step - loss: 0.3597 - accuracy: 0.8805 - val_loss: 0.3513 - val_accuracy: 0.8767\n",
            "Epoch 7/20\n",
            "1376/1376 [==============================] - 4s 3ms/step - loss: 0.3416 - accuracy: 0.8862 - val_loss: 0.3362 - val_accuracy: 0.8784\n",
            "Epoch 8/20\n",
            "1376/1376 [==============================] - 4s 3ms/step - loss: 0.3270 - accuracy: 0.8900 - val_loss: 0.3297 - val_accuracy: 0.8812\n",
            "Epoch 9/20\n",
            "1376/1376 [==============================] - 3s 2ms/step - loss: 0.3156 - accuracy: 0.8928 - val_loss: 0.3164 - val_accuracy: 0.8864\n",
            "Epoch 10/20\n",
            "1376/1376 [==============================] - 4s 3ms/step - loss: 0.3057 - accuracy: 0.8963 - val_loss: 0.3117 - val_accuracy: 0.8920\n",
            "Epoch 11/20\n",
            "1376/1376 [==============================] - 4s 3ms/step - loss: 0.2972 - accuracy: 0.8996 - val_loss: 0.3062 - val_accuracy: 0.8940\n",
            "Epoch 12/20\n",
            "1376/1376 [==============================] - 4s 3ms/step - loss: 0.2899 - accuracy: 0.9014 - val_loss: 0.3019 - val_accuracy: 0.8942\n",
            "Epoch 13/20\n",
            "1376/1376 [==============================] - 3s 2ms/step - loss: 0.2843 - accuracy: 0.9038 - val_loss: 0.2923 - val_accuracy: 0.8957\n",
            "Epoch 14/20\n",
            "1376/1376 [==============================] - 4s 3ms/step - loss: 0.2783 - accuracy: 0.9050 - val_loss: 0.2857 - val_accuracy: 0.8995\n",
            "Epoch 15/20\n",
            "1376/1376 [==============================] - 3s 2ms/step - loss: 0.2733 - accuracy: 0.9074 - val_loss: 0.2824 - val_accuracy: 0.9052\n",
            "Epoch 16/20\n",
            "1376/1376 [==============================] - 3s 2ms/step - loss: 0.2685 - accuracy: 0.9092 - val_loss: 0.2784 - val_accuracy: 0.9025\n",
            "Epoch 17/20\n",
            "1376/1376 [==============================] - 4s 3ms/step - loss: 0.2645 - accuracy: 0.9104 - val_loss: 0.2756 - val_accuracy: 0.9042\n",
            "Epoch 18/20\n",
            "1376/1376 [==============================] - 3s 2ms/step - loss: 0.2599 - accuracy: 0.9116 - val_loss: 0.2726 - val_accuracy: 0.9067\n",
            "Epoch 19/20\n",
            "1376/1376 [==============================] - 3s 2ms/step - loss: 0.2565 - accuracy: 0.9132 - val_loss: 0.2698 - val_accuracy: 0.9085\n",
            "Epoch 20/20\n",
            "1376/1376 [==============================] - 4s 3ms/step - loss: 0.2528 - accuracy: 0.9137 - val_loss: 0.2703 - val_accuracy: 0.9087\n"
          ]
        }
      ]
    },
    {
      "cell_type": "code",
      "source": [
        "tf.random.set_seed(42)\n",
        "model_B = tf.keras.Sequential([\n",
        "    tf.keras.layers.Flatten(input_shape=[28,28]),\n",
        "    tf.keras.layers.Dense(100,activation=\"relu\",\n",
        "                          kernel_initializer=\"he_normal\"),\n",
        "    tf.keras.layers.Dense(100,activation=\"relu\",\n",
        "                          kernel_initializer=\"he_normal\"),\n",
        "    tf.keras.layers.Dense(100,activation=\"relu\",\n",
        "                          kernel_initializer=\"he_normal\"),\n",
        "    tf.keras.layers.Dense(1, activation=\"sigmoid\")\n",
        "])\n",
        "\n",
        "model_B.compile(loss=\"binary_crossentropy\",\n",
        "                optimizer=tf.keras.optimizers.SGD(learning_rate=0.001),\n",
        "                metrics=[\"accuracy\"])\n",
        "history = model_B.fit(X_train_B, y_train_B, epochs=20,\n",
        "                      validation_data=(X_valid_B, y_valid_B))\n",
        "model_B.evaluate(X_test_B, y_test_B)"
      ],
      "metadata": {
        "colab": {
          "base_uri": "https://localhost:8080/"
        },
        "id": "xewiOW_Q8U94",
        "outputId": "7c121e13-bc37-4a4c-ffbd-98d556e6d36f"
      },
      "execution_count": 32,
      "outputs": [
        {
          "output_type": "stream",
          "name": "stdout",
          "text": [
            "Epoch 1/20\n",
            "7/7 [==============================] - 1s 46ms/step - loss: 0.6081 - accuracy: 0.8050 - val_loss: 0.6055 - val_accuracy: 0.8012\n",
            "Epoch 2/20\n",
            "7/7 [==============================] - 0s 15ms/step - loss: 0.5897 - accuracy: 0.8450 - val_loss: 0.5895 - val_accuracy: 0.8467\n",
            "Epoch 3/20\n",
            "7/7 [==============================] - 0s 17ms/step - loss: 0.5740 - accuracy: 0.8900 - val_loss: 0.5755 - val_accuracy: 0.8605\n",
            "Epoch 4/20\n",
            "7/7 [==============================] - 0s 17ms/step - loss: 0.5586 - accuracy: 0.8950 - val_loss: 0.5617 - val_accuracy: 0.8714\n",
            "Epoch 5/20\n",
            "7/7 [==============================] - 0s 15ms/step - loss: 0.5446 - accuracy: 0.9050 - val_loss: 0.5471 - val_accuracy: 0.8773\n",
            "Epoch 6/20\n",
            "7/7 [==============================] - 0s 17ms/step - loss: 0.5299 - accuracy: 0.9150 - val_loss: 0.5338 - val_accuracy: 0.8882\n",
            "Epoch 7/20\n",
            "7/7 [==============================] - 0s 17ms/step - loss: 0.5162 - accuracy: 0.9250 - val_loss: 0.5203 - val_accuracy: 0.8981\n",
            "Epoch 8/20\n",
            "7/7 [==============================] - 0s 14ms/step - loss: 0.5034 - accuracy: 0.9350 - val_loss: 0.5085 - val_accuracy: 0.9031\n",
            "Epoch 9/20\n",
            "7/7 [==============================] - 0s 15ms/step - loss: 0.4908 - accuracy: 0.9400 - val_loss: 0.4968 - val_accuracy: 0.9100\n",
            "Epoch 10/20\n",
            "7/7 [==============================] - 0s 16ms/step - loss: 0.4787 - accuracy: 0.9450 - val_loss: 0.4854 - val_accuracy: 0.9130\n",
            "Epoch 11/20\n",
            "7/7 [==============================] - 0s 14ms/step - loss: 0.4672 - accuracy: 0.9450 - val_loss: 0.4748 - val_accuracy: 0.9189\n",
            "Epoch 12/20\n",
            "7/7 [==============================] - 0s 16ms/step - loss: 0.4559 - accuracy: 0.9500 - val_loss: 0.4641 - val_accuracy: 0.9199\n",
            "Epoch 13/20\n",
            "7/7 [==============================] - 0s 17ms/step - loss: 0.4448 - accuracy: 0.9500 - val_loss: 0.4548 - val_accuracy: 0.9219\n",
            "Epoch 14/20\n",
            "7/7 [==============================] - 0s 14ms/step - loss: 0.4349 - accuracy: 0.9550 - val_loss: 0.4457 - val_accuracy: 0.9209\n",
            "Epoch 15/20\n",
            "7/7 [==============================] - 0s 14ms/step - loss: 0.4256 - accuracy: 0.9550 - val_loss: 0.4369 - val_accuracy: 0.9248\n",
            "Epoch 16/20\n",
            "7/7 [==============================] - 0s 14ms/step - loss: 0.4163 - accuracy: 0.9600 - val_loss: 0.4288 - val_accuracy: 0.9238\n",
            "Epoch 17/20\n",
            "7/7 [==============================] - 0s 18ms/step - loss: 0.4079 - accuracy: 0.9650 - val_loss: 0.4208 - val_accuracy: 0.9258\n",
            "Epoch 18/20\n",
            "7/7 [==============================] - 0s 17ms/step - loss: 0.3994 - accuracy: 0.9650 - val_loss: 0.4125 - val_accuracy: 0.9258\n",
            "Epoch 19/20\n",
            "7/7 [==============================] - 0s 15ms/step - loss: 0.3911 - accuracy: 0.9650 - val_loss: 0.4049 - val_accuracy: 0.9258\n",
            "Epoch 20/20\n",
            "7/7 [==============================] - 0s 14ms/step - loss: 0.3836 - accuracy: 0.9650 - val_loss: 0.3980 - val_accuracy: 0.9288\n",
            "63/63 [==============================] - 0s 2ms/step - loss: 0.4106 - accuracy: 0.9070\n"
          ]
        },
        {
          "output_type": "execute_result",
          "data": {
            "text/plain": [
              "[0.41064754128456116, 0.9070000052452087]"
            ]
          },
          "metadata": {},
          "execution_count": 32
        }
      ]
    },
    {
      "cell_type": "code",
      "source": [
        "model_A =tf.keras.models.load_model(\"my_model_A\")\n",
        "model_B_on_A = tf.keras.Sequential(model_A.layers[:-1])\n",
        "model_B_on_A.add(tf.keras.layers.Dense(1, activation=\"sigmoid\"))"
      ],
      "metadata": {
        "id": "AhReFF8U-Ay4"
      },
      "execution_count": 33,
      "outputs": []
    },
    {
      "cell_type": "code",
      "source": [
        "tf.random.set_seed(42)"
      ],
      "metadata": {
        "id": "0IG8hXzx-ow-"
      },
      "execution_count": 34,
      "outputs": []
    },
    {
      "cell_type": "code",
      "source": [
        "model_A_clone = tf.keras.models.clone_model(model_A)\n",
        "model_A_clone.set_weights(model_A.get_weights())"
      ],
      "metadata": {
        "id": "XEjpi4Tx-voi"
      },
      "execution_count": 35,
      "outputs": []
    },
    {
      "cell_type": "code",
      "source": [
        "model_B_on_A = tf.keras.Sequential(model_A_clone.layers[:-1])\n",
        "model_B_on_A.add(tf.keras.layers.Dense(1, activation=\"sigmoid\"))"
      ],
      "metadata": {
        "id": "cNF9u8s2_odg"
      },
      "execution_count": 36,
      "outputs": []
    },
    {
      "cell_type": "code",
      "source": [
        "for layer in model_B_on_A.layers[:-1]:\n",
        "  layer.trainable = False\n",
        "optimizer = tf.keras.optimizers.SGD(learning_rate=0.001)\n",
        "model_B_on_A.compile(loss=\"binary_crossentropy\", optimizer=optimizer,\n",
        "                     metrics=[\"accuracy\"])"
      ],
      "metadata": {
        "id": "sDjutvMq_1di"
      },
      "execution_count": 37,
      "outputs": []
    },
    {
      "cell_type": "code",
      "source": [
        "\n",
        "history = model_B_on_A.fit(X_train_B, y_train_B, epochs=4,\n",
        "                           validation_data=(X_valid_B, y_valid_B))\n",
        "\n",
        "for layer in model_B_on_A.layers[:-1]:\n",
        "  layer.trainable =True\n",
        "\n",
        "optimizer = tf.keras.optimizers.SGD(learning_rate=0.001)\n",
        "model_B_on_A.compile(loss=\"binary_crossentropy\", optimizer=optimizer,\n",
        "                     metrics=[\"accuracy\"])\n",
        "history = model_B_on_A.fit(X_train_B, y_train_B, epochs=16,\n",
        "                           validation_data=(X_valid_B, y_valid_B))"
      ],
      "metadata": {
        "colab": {
          "base_uri": "https://localhost:8080/"
        },
        "id": "P90UgwQzB4D5",
        "outputId": "40db3f79-21f8-4e65-ba31-350b955b3c68"
      },
      "execution_count": 38,
      "outputs": [
        {
          "output_type": "stream",
          "name": "stdout",
          "text": [
            "Epoch 1/4\n",
            "7/7 [==============================] - 1s 46ms/step - loss: 1.7057 - accuracy: 0.4450 - val_loss: 1.1840 - val_accuracy: 0.4896\n",
            "Epoch 2/4\n",
            "7/7 [==============================] - 0s 14ms/step - loss: 0.9168 - accuracy: 0.5100 - val_loss: 0.6492 - val_accuracy: 0.5757\n",
            "Epoch 3/4\n",
            "7/7 [==============================] - 0s 16ms/step - loss: 0.5292 - accuracy: 0.7000 - val_loss: 0.4812 - val_accuracy: 0.8012\n",
            "Epoch 4/4\n",
            "7/7 [==============================] - 0s 16ms/step - loss: 0.4288 - accuracy: 0.8650 - val_loss: 0.4566 - val_accuracy: 0.8724\n",
            "Epoch 1/16\n",
            "7/7 [==============================] - 1s 41ms/step - loss: 0.4069 - accuracy: 0.8950 - val_loss: 0.4336 - val_accuracy: 0.8813\n",
            "Epoch 2/16\n",
            "7/7 [==============================] - 0s 15ms/step - loss: 0.3810 - accuracy: 0.9200 - val_loss: 0.4037 - val_accuracy: 0.9011\n",
            "Epoch 3/16\n",
            "7/7 [==============================] - 0s 17ms/step - loss: 0.3567 - accuracy: 0.9300 - val_loss: 0.3843 - val_accuracy: 0.9139\n",
            "Epoch 4/16\n",
            "7/7 [==============================] - 0s 15ms/step - loss: 0.3363 - accuracy: 0.9400 - val_loss: 0.3661 - val_accuracy: 0.9219\n",
            "Epoch 5/16\n",
            "7/7 [==============================] - 0s 17ms/step - loss: 0.3205 - accuracy: 0.9400 - val_loss: 0.3514 - val_accuracy: 0.9238\n",
            "Epoch 6/16\n",
            "7/7 [==============================] - 0s 17ms/step - loss: 0.3082 - accuracy: 0.9400 - val_loss: 0.3374 - val_accuracy: 0.9318\n",
            "Epoch 7/16\n",
            "7/7 [==============================] - 0s 16ms/step - loss: 0.2935 - accuracy: 0.9400 - val_loss: 0.3296 - val_accuracy: 0.9228\n",
            "Epoch 8/16\n",
            "7/7 [==============================] - 0s 14ms/step - loss: 0.2868 - accuracy: 0.9550 - val_loss: 0.3164 - val_accuracy: 0.9318\n",
            "Epoch 9/16\n",
            "7/7 [==============================] - 0s 17ms/step - loss: 0.2726 - accuracy: 0.9550 - val_loss: 0.3045 - val_accuracy: 0.9387\n",
            "Epoch 10/16\n",
            "7/7 [==============================] - 0s 15ms/step - loss: 0.2633 - accuracy: 0.9550 - val_loss: 0.2958 - val_accuracy: 0.9357\n",
            "Epoch 11/16\n",
            "7/7 [==============================] - 0s 17ms/step - loss: 0.2560 - accuracy: 0.9550 - val_loss: 0.2866 - val_accuracy: 0.9377\n",
            "Epoch 12/16\n",
            "7/7 [==============================] - 0s 17ms/step - loss: 0.2477 - accuracy: 0.9550 - val_loss: 0.2788 - val_accuracy: 0.9387\n",
            "Epoch 13/16\n",
            "7/7 [==============================] - 0s 17ms/step - loss: 0.2397 - accuracy: 0.9550 - val_loss: 0.2726 - val_accuracy: 0.9416\n",
            "Epoch 14/16\n",
            "7/7 [==============================] - 0s 15ms/step - loss: 0.2342 - accuracy: 0.9550 - val_loss: 0.2666 - val_accuracy: 0.9416\n",
            "Epoch 15/16\n",
            "7/7 [==============================] - 0s 15ms/step - loss: 0.2285 - accuracy: 0.9550 - val_loss: 0.2615 - val_accuracy: 0.9426\n",
            "Epoch 16/16\n",
            "7/7 [==============================] - 0s 14ms/step - loss: 0.2236 - accuracy: 0.9550 - val_loss: 0.2562 - val_accuracy: 0.9416\n"
          ]
        }
      ]
    },
    {
      "cell_type": "code",
      "source": [
        "model_B_on_A.evaluate(X_test_B, y_test_B)"
      ],
      "metadata": {
        "colab": {
          "base_uri": "https://localhost:8080/"
        },
        "id": "sIQh2I1THYXw",
        "outputId": "204aa02f-7231-40af-c311-cd01763d7d56"
      },
      "execution_count": 39,
      "outputs": [
        {
          "output_type": "stream",
          "name": "stdout",
          "text": [
            "63/63 [==============================] - 0s 2ms/step - loss: 0.2692 - accuracy: 0.9350\n"
          ]
        },
        {
          "output_type": "execute_result",
          "data": {
            "text/plain": [
              "[0.2691744863986969, 0.9350000023841858]"
            ]
          },
          "metadata": {},
          "execution_count": 39
        }
      ]
    },
    {
      "cell_type": "code",
      "source": [
        "(1-(100-91.95)/(100-91.50))*100"
      ],
      "metadata": {
        "colab": {
          "base_uri": "https://localhost:8080/"
        },
        "id": "m8GoURx_HsEa",
        "outputId": "11a1c4f2-9afd-478e-d717-fc9fc6400d1a"
      },
      "execution_count": 40,
      "outputs": [
        {
          "output_type": "execute_result",
          "data": {
            "text/plain": [
              "5.29411764705886"
            ]
          },
          "metadata": {},
          "execution_count": 40
        }
      ]
    },
    {
      "cell_type": "code",
      "source": [
        "def build_model(seed=42):\n",
        "  tf.random.set_seed(seed)\n",
        "  return tf.keras.Sequential([\n",
        "    tf.keras.layers.Flatten(input_shape=[28,28]),\n",
        "    tf.keras.layers.Dense(100,activation=\"relu\",\n",
        "                          kernel_initializer=\"he_normal\"),\n",
        "    tf.keras.layers.Dense(100,activation=\"relu\",\n",
        "                          kernel_initializer=\"he_normal\"),\n",
        "    tf.keras.layers.Dense(100,activation=\"relu\",\n",
        "                          kernel_initializer=\"he_normal\"),\n",
        "    tf.keras.layers.Dense(10, activation=\"sigmoid\")\n",
        "  ])\n",
        "def build_and_train_model(optimizer):\n",
        "  model=build_model()\n",
        "  model.compile(loss=\"sparse_categorical_crossentropy\", optimizer=optimizer,\n",
        "                metrics=[\"accuracy\"])\n",
        "  return model.fit(X_train, y_train, epochs=10,\n",
        "                   validation_data=(X_valid, y_valid))"
      ],
      "metadata": {
        "id": "qXimplIfIjuY"
      },
      "execution_count": 41,
      "outputs": []
    },
    {
      "cell_type": "markdown",
      "source": [
        "#Momentum optimization"
      ],
      "metadata": {
        "id": "9zU8LZhsJ-wO"
      }
    },
    {
      "cell_type": "code",
      "source": [
        "optimizer = tf.keras.optimizers.SGD(learning_rate=0.001, momentum=0.9)"
      ],
      "metadata": {
        "id": "cpy_b_F_KCcr"
      },
      "execution_count": 42,
      "outputs": []
    },
    {
      "cell_type": "code",
      "source": [
        "history_sgd = build_and_train_model(optimizer)"
      ],
      "metadata": {
        "colab": {
          "base_uri": "https://localhost:8080/"
        },
        "id": "lZUykyztKNbk",
        "outputId": "bd153217-e5b8-4234-ef21-c764fabf020b"
      },
      "execution_count": 43,
      "outputs": [
        {
          "output_type": "stream",
          "name": "stdout",
          "text": [
            "Epoch 1/10\n",
            "1719/1719 [==============================] - 6s 3ms/step - loss: 0.7037 - accuracy: 0.7587 - val_loss: 0.5063 - val_accuracy: 0.8206\n",
            "Epoch 2/10\n",
            "1719/1719 [==============================] - 4s 3ms/step - loss: 0.4664 - accuracy: 0.8352 - val_loss: 0.4486 - val_accuracy: 0.8376\n",
            "Epoch 3/10\n",
            "1719/1719 [==============================] - 5s 3ms/step - loss: 0.4194 - accuracy: 0.8514 - val_loss: 0.4110 - val_accuracy: 0.8548\n",
            "Epoch 4/10\n",
            "1719/1719 [==============================] - 5s 3ms/step - loss: 0.3916 - accuracy: 0.8622 - val_loss: 0.3810 - val_accuracy: 0.8626\n",
            "Epoch 5/10\n",
            "1719/1719 [==============================] - 4s 3ms/step - loss: 0.3707 - accuracy: 0.8684 - val_loss: 0.3674 - val_accuracy: 0.8668\n",
            "Epoch 6/10\n",
            "1719/1719 [==============================] - 6s 3ms/step - loss: 0.3573 - accuracy: 0.8716 - val_loss: 0.3688 - val_accuracy: 0.8652\n",
            "Epoch 7/10\n",
            "1719/1719 [==============================] - 5s 3ms/step - loss: 0.3410 - accuracy: 0.8770 - val_loss: 0.3622 - val_accuracy: 0.8698\n",
            "Epoch 8/10\n",
            "1719/1719 [==============================] - 8s 5ms/step - loss: 0.3302 - accuracy: 0.8808 - val_loss: 0.3448 - val_accuracy: 0.8768\n",
            "Epoch 9/10\n",
            "1719/1719 [==============================] - 5s 3ms/step - loss: 0.3208 - accuracy: 0.8844 - val_loss: 0.3584 - val_accuracy: 0.8692\n",
            "Epoch 10/10\n",
            "1719/1719 [==============================] - 6s 4ms/step - loss: 0.3101 - accuracy: 0.8877 - val_loss: 0.3761 - val_accuracy: 0.8618\n"
          ]
        }
      ]
    },
    {
      "cell_type": "markdown",
      "source": [
        "#Nesterov accelerated gradient"
      ],
      "metadata": {
        "id": "8PqY2NgVL3Fd"
      }
    },
    {
      "cell_type": "code",
      "source": [
        "optimizer = tf.keras.optimizers.SGD(learning_rate=0.001, momentum=0.9,\n",
        "                                    nesterov= True)"
      ],
      "metadata": {
        "id": "Dl4rpmflL9_p"
      },
      "execution_count": 44,
      "outputs": []
    },
    {
      "cell_type": "code",
      "source": [
        "history_nesterov = build_and_train_model(optimizer)"
      ],
      "metadata": {
        "colab": {
          "base_uri": "https://localhost:8080/"
        },
        "id": "kaY8A1q9MOsY",
        "outputId": "5978be08-3ade-415e-af71-4962bac9e1fe"
      },
      "execution_count": 45,
      "outputs": [
        {
          "output_type": "stream",
          "name": "stdout",
          "text": [
            "Epoch 1/10\n",
            "1719/1719 [==============================] - 6s 3ms/step - loss: 0.6949 - accuracy: 0.7615 - val_loss: 0.4944 - val_accuracy: 0.8218\n",
            "Epoch 2/10\n",
            "1719/1719 [==============================] - 6s 3ms/step - loss: 0.4624 - accuracy: 0.8386 - val_loss: 0.4412 - val_accuracy: 0.8400\n",
            "Epoch 3/10\n",
            "1719/1719 [==============================] - 5s 3ms/step - loss: 0.4197 - accuracy: 0.8529 - val_loss: 0.3990 - val_accuracy: 0.8580\n",
            "Epoch 4/10\n",
            "1719/1719 [==============================] - 5s 3ms/step - loss: 0.3935 - accuracy: 0.8621 - val_loss: 0.3823 - val_accuracy: 0.8594\n",
            "Epoch 5/10\n",
            "1719/1719 [==============================] - 8s 5ms/step - loss: 0.3733 - accuracy: 0.8682 - val_loss: 0.3739 - val_accuracy: 0.8638\n",
            "Epoch 6/10\n",
            "1719/1719 [==============================] - 5s 3ms/step - loss: 0.3600 - accuracy: 0.8712 - val_loss: 0.3882 - val_accuracy: 0.8600\n",
            "Epoch 7/10\n",
            "1719/1719 [==============================] - 6s 3ms/step - loss: 0.3458 - accuracy: 0.8752 - val_loss: 0.3688 - val_accuracy: 0.8664\n",
            "Epoch 8/10\n",
            "1719/1719 [==============================] - 5s 3ms/step - loss: 0.3366 - accuracy: 0.8792 - val_loss: 0.3664 - val_accuracy: 0.8686\n",
            "Epoch 9/10\n",
            "1719/1719 [==============================] - 5s 3ms/step - loss: 0.3279 - accuracy: 0.8822 - val_loss: 0.3564 - val_accuracy: 0.8678\n",
            "Epoch 10/10\n",
            "1719/1719 [==============================] - 7s 4ms/step - loss: 0.3176 - accuracy: 0.8858 - val_loss: 0.3677 - val_accuracy: 0.8638\n"
          ]
        }
      ]
    },
    {
      "cell_type": "markdown",
      "source": [
        "#Adagrad"
      ],
      "metadata": {
        "id": "2JOAA27wMWyE"
      }
    },
    {
      "cell_type": "code",
      "source": [
        "optimizer = tf.keras.optimizers.Adagrad(learning_rate=0.001)\n"
      ],
      "metadata": {
        "id": "JLYLgAo9NV3t"
      },
      "execution_count": 46,
      "outputs": []
    },
    {
      "cell_type": "code",
      "source": [
        "history_adagrad = build_and_train_model(optimizer)"
      ],
      "metadata": {
        "colab": {
          "base_uri": "https://localhost:8080/"
        },
        "id": "EVavtkOcNfvv",
        "outputId": "7aed7363-ad56-42fd-a2ac-7a440aff2d54"
      },
      "execution_count": 47,
      "outputs": [
        {
          "output_type": "stream",
          "name": "stdout",
          "text": [
            "Epoch 1/10\n",
            "1719/1719 [==============================] - 9s 5ms/step - loss: 0.9967 - accuracy: 0.6913 - val_loss: 0.6760 - val_accuracy: 0.7774\n",
            "Epoch 2/10\n",
            "1719/1719 [==============================] - 6s 4ms/step - loss: 0.6323 - accuracy: 0.7896 - val_loss: 0.5770 - val_accuracy: 0.8060\n",
            "Epoch 3/10\n",
            "1719/1719 [==============================] - 6s 4ms/step - loss: 0.5662 - accuracy: 0.8088 - val_loss: 0.5328 - val_accuracy: 0.8188\n",
            "Epoch 4/10\n",
            "1719/1719 [==============================] - 5s 3ms/step - loss: 0.5310 - accuracy: 0.8205 - val_loss: 0.5084 - val_accuracy: 0.8254\n",
            "Epoch 5/10\n",
            "1719/1719 [==============================] - 6s 4ms/step - loss: 0.5079 - accuracy: 0.8269 - val_loss: 0.4905 - val_accuracy: 0.8292\n",
            "Epoch 6/10\n",
            "1719/1719 [==============================] - 5s 3ms/step - loss: 0.4913 - accuracy: 0.8322 - val_loss: 0.4783 - val_accuracy: 0.8296\n",
            "Epoch 7/10\n",
            "1719/1719 [==============================] - 7s 4ms/step - loss: 0.4784 - accuracy: 0.8355 - val_loss: 0.4661 - val_accuracy: 0.8336\n",
            "Epoch 8/10\n",
            "1719/1719 [==============================] - 6s 3ms/step - loss: 0.4682 - accuracy: 0.8395 - val_loss: 0.4574 - val_accuracy: 0.8364\n",
            "Epoch 9/10\n",
            "1719/1719 [==============================] - 7s 4ms/step - loss: 0.4596 - accuracy: 0.8425 - val_loss: 0.4504 - val_accuracy: 0.8384\n",
            "Epoch 10/10\n",
            "1719/1719 [==============================] - 6s 3ms/step - loss: 0.4520 - accuracy: 0.8446 - val_loss: 0.4434 - val_accuracy: 0.8398\n"
          ]
        }
      ]
    },
    {
      "cell_type": "markdown",
      "source": [
        "#RMSPROP"
      ],
      "metadata": {
        "id": "nyvn_WU2N0Li"
      }
    },
    {
      "cell_type": "code",
      "source": [
        "optimizer = tf.keras.optimizers.RMSprop(learning_rate=0.001, rho=0.9)\n"
      ],
      "metadata": {
        "id": "zTzHm2-2N47b"
      },
      "execution_count": 48,
      "outputs": []
    },
    {
      "cell_type": "code",
      "source": [
        "history_rmsprop = build_and_train_model(optimizer)"
      ],
      "metadata": {
        "colab": {
          "base_uri": "https://localhost:8080/"
        },
        "id": "-XnJRgq8OB0g",
        "outputId": "82f7415e-49d0-405d-eb61-4c0ffeffcddd"
      },
      "execution_count": 49,
      "outputs": [
        {
          "output_type": "stream",
          "name": "stdout",
          "text": [
            "Epoch 1/10\n",
            "1719/1719 [==============================] - 6s 3ms/step - loss: 0.5160 - accuracy: 0.8123 - val_loss: 0.3951 - val_accuracy: 0.8542\n",
            "Epoch 2/10\n",
            "1719/1719 [==============================] - 6s 4ms/step - loss: 0.3906 - accuracy: 0.8582 - val_loss: 0.4159 - val_accuracy: 0.8522\n",
            "Epoch 3/10\n",
            "1719/1719 [==============================] - 6s 3ms/step - loss: 0.3624 - accuracy: 0.8699 - val_loss: 0.3662 - val_accuracy: 0.8718\n",
            "Epoch 4/10\n",
            "1719/1719 [==============================] - 6s 4ms/step - loss: 0.3544 - accuracy: 0.8752 - val_loss: 0.3773 - val_accuracy: 0.8724\n",
            "Epoch 5/10\n",
            "1719/1719 [==============================] - 6s 3ms/step - loss: 0.3469 - accuracy: 0.8781 - val_loss: 0.3680 - val_accuracy: 0.8662\n",
            "Epoch 6/10\n",
            "1719/1719 [==============================] - 7s 4ms/step - loss: 0.3427 - accuracy: 0.8804 - val_loss: 0.4229 - val_accuracy: 0.8640\n",
            "Epoch 7/10\n",
            "1719/1719 [==============================] - 6s 3ms/step - loss: 0.3431 - accuracy: 0.8807 - val_loss: 0.4303 - val_accuracy: 0.8622\n",
            "Epoch 8/10\n",
            "1719/1719 [==============================] - 7s 4ms/step - loss: 0.3405 - accuracy: 0.8827 - val_loss: 0.4635 - val_accuracy: 0.8610\n",
            "Epoch 9/10\n",
            "1719/1719 [==============================] - 6s 4ms/step - loss: 0.3404 - accuracy: 0.8829 - val_loss: 0.4488 - val_accuracy: 0.8706\n",
            "Epoch 10/10\n",
            "1719/1719 [==============================] - 8s 4ms/step - loss: 0.3385 - accuracy: 0.8849 - val_loss: 0.4648 - val_accuracy: 0.8676\n"
          ]
        }
      ]
    },
    {
      "cell_type": "markdown",
      "source": [
        "#Adam Optimization"
      ],
      "metadata": {
        "id": "mPMxxwOdOIM7"
      }
    },
    {
      "cell_type": "code",
      "source": [
        "optimizer = tf.keras.optimizers.Adam(learning_rate=0.001, beta_1=0.9,\n",
        "                                     beta_2=0.999)\n",
        "history_adam = build_and_train_model(optimizer)"
      ],
      "metadata": {
        "colab": {
          "base_uri": "https://localhost:8080/"
        },
        "id": "-BzA_RAiO_vK",
        "outputId": "b3522c96-b48d-43a1-f7f3-b1f9a1c88704"
      },
      "execution_count": 50,
      "outputs": [
        {
          "output_type": "stream",
          "name": "stdout",
          "text": [
            "Epoch 1/10\n",
            "1719/1719 [==============================] - 8s 4ms/step - loss: 0.4996 - accuracy: 0.8199 - val_loss: 0.4245 - val_accuracy: 0.8314\n",
            "Epoch 2/10\n",
            "1719/1719 [==============================] - 8s 5ms/step - loss: 0.3731 - accuracy: 0.8643 - val_loss: 0.3773 - val_accuracy: 0.8576\n",
            "Epoch 3/10\n",
            "1719/1719 [==============================] - 7s 4ms/step - loss: 0.3381 - accuracy: 0.8760 - val_loss: 0.3476 - val_accuracy: 0.8728\n",
            "Epoch 4/10\n",
            "1719/1719 [==============================] - 8s 5ms/step - loss: 0.3173 - accuracy: 0.8827 - val_loss: 0.3424 - val_accuracy: 0.8752\n",
            "Epoch 5/10\n",
            "1719/1719 [==============================] - 8s 4ms/step - loss: 0.2998 - accuracy: 0.8880 - val_loss: 0.3250 - val_accuracy: 0.8756\n",
            "Epoch 6/10\n",
            "1719/1719 [==============================] - 5s 3ms/step - loss: 0.2865 - accuracy: 0.8929 - val_loss: 0.3381 - val_accuracy: 0.8750\n",
            "Epoch 7/10\n",
            "1719/1719 [==============================] - 6s 4ms/step - loss: 0.2723 - accuracy: 0.8973 - val_loss: 0.3362 - val_accuracy: 0.8824\n",
            "Epoch 8/10\n",
            "1719/1719 [==============================] - 5s 3ms/step - loss: 0.2641 - accuracy: 0.9012 - val_loss: 0.3317 - val_accuracy: 0.8878\n",
            "Epoch 9/10\n",
            "1719/1719 [==============================] - 7s 4ms/step - loss: 0.2538 - accuracy: 0.9052 - val_loss: 0.3564 - val_accuracy: 0.8716\n",
            "Epoch 10/10\n",
            "1719/1719 [==============================] - 7s 4ms/step - loss: 0.2470 - accuracy: 0.9066 - val_loss: 0.4003 - val_accuracy: 0.8702\n"
          ]
        }
      ]
    },
    {
      "cell_type": "markdown",
      "source": [
        "#Adamax Optimizers"
      ],
      "metadata": {
        "id": "lvwoYJ0cP8OM"
      }
    },
    {
      "cell_type": "code",
      "source": [
        "optimizer = tf.keras.optimizers.Adamax(learning_rate=0.001, beta_1=0.9,\n",
        "                                       beta_2=0.999)\n",
        "history_adamax = build_and_train_model(optimizer)"
      ],
      "metadata": {
        "colab": {
          "base_uri": "https://localhost:8080/"
        },
        "id": "zOhX-5-4QAaq",
        "outputId": "9f485cdf-7e60-40cf-b375-09e533899969"
      },
      "execution_count": 51,
      "outputs": [
        {
          "output_type": "stream",
          "name": "stdout",
          "text": [
            "Epoch 1/10\n",
            "1719/1719 [==============================] - 9s 5ms/step - loss: 0.5349 - accuracy: 0.8131 - val_loss: 0.4438 - val_accuracy: 0.8334\n",
            "Epoch 2/10\n",
            "1719/1719 [==============================] - 7s 4ms/step - loss: 0.3998 - accuracy: 0.8588 - val_loss: 0.4032 - val_accuracy: 0.8452\n",
            "Epoch 3/10\n",
            "1719/1719 [==============================] - 7s 4ms/step - loss: 0.3621 - accuracy: 0.8695 - val_loss: 0.3661 - val_accuracy: 0.8670\n",
            "Epoch 4/10\n",
            "1719/1719 [==============================] - 8s 4ms/step - loss: 0.3374 - accuracy: 0.8790 - val_loss: 0.3505 - val_accuracy: 0.8732\n",
            "Epoch 5/10\n",
            "1719/1719 [==============================] - 5s 3ms/step - loss: 0.3163 - accuracy: 0.8855 - val_loss: 0.3358 - val_accuracy: 0.8782\n",
            "Epoch 6/10\n",
            "1719/1719 [==============================] - 6s 3ms/step - loss: 0.3027 - accuracy: 0.8897 - val_loss: 0.3364 - val_accuracy: 0.8756\n",
            "Epoch 7/10\n",
            "1719/1719 [==============================] - 6s 3ms/step - loss: 0.2896 - accuracy: 0.8930 - val_loss: 0.3565 - val_accuracy: 0.8734\n",
            "Epoch 8/10\n",
            "1719/1719 [==============================] - 6s 4ms/step - loss: 0.2796 - accuracy: 0.8971 - val_loss: 0.3227 - val_accuracy: 0.8820\n",
            "Epoch 9/10\n",
            "1719/1719 [==============================] - 6s 4ms/step - loss: 0.2706 - accuracy: 0.9021 - val_loss: 0.3483 - val_accuracy: 0.8716\n",
            "Epoch 10/10\n",
            "1719/1719 [==============================] - 10s 6ms/step - loss: 0.2588 - accuracy: 0.9051 - val_loss: 0.3479 - val_accuracy: 0.8760\n"
          ]
        }
      ]
    },
    {
      "cell_type": "markdown",
      "source": [
        "#AdamW Optimization"
      ],
      "metadata": {
        "id": "DE1FGYaDQaaT"
      }
    },
    {
      "cell_type": "code",
      "source": [
        "optimizer = tf.keras.optimizers.AdamW(weight_decay = 1e-5, learning_rate=0.001,\n",
        "                                      beta_1=0.9, beta_2=0.999)\n",
        "history_adamw = build_and_train_model(optimizer)"
      ],
      "metadata": {
        "colab": {
          "base_uri": "https://localhost:8080/"
        },
        "id": "7KFBL2ihQgSw",
        "outputId": "1887eacc-d594-4ed6-c8e9-0d0ab6222275"
      },
      "execution_count": 52,
      "outputs": [
        {
          "output_type": "stream",
          "name": "stdout",
          "text": [
            "Epoch 1/10\n",
            "1719/1719 [==============================] - 7s 3ms/step - loss: 0.5017 - accuracy: 0.8206 - val_loss: 0.4054 - val_accuracy: 0.8460\n",
            "Epoch 2/10\n",
            "1719/1719 [==============================] - 7s 4ms/step - loss: 0.3745 - accuracy: 0.8635 - val_loss: 0.3945 - val_accuracy: 0.8482\n",
            "Epoch 3/10\n",
            "1719/1719 [==============================] - 5s 3ms/step - loss: 0.3399 - accuracy: 0.8758 - val_loss: 0.3614 - val_accuracy: 0.8688\n",
            "Epoch 4/10\n",
            "1719/1719 [==============================] - 6s 4ms/step - loss: 0.3168 - accuracy: 0.8833 - val_loss: 0.3498 - val_accuracy: 0.8704\n",
            "Epoch 5/10\n",
            "1719/1719 [==============================] - 5s 3ms/step - loss: 0.2978 - accuracy: 0.8884 - val_loss: 0.3282 - val_accuracy: 0.8748\n",
            "Epoch 6/10\n",
            "1719/1719 [==============================] - 7s 4ms/step - loss: 0.2845 - accuracy: 0.8949 - val_loss: 0.3434 - val_accuracy: 0.8782\n",
            "Epoch 7/10\n",
            "1719/1719 [==============================] - 5s 3ms/step - loss: 0.2724 - accuracy: 0.8980 - val_loss: 0.3435 - val_accuracy: 0.8792\n",
            "Epoch 8/10\n",
            "1719/1719 [==============================] - 6s 4ms/step - loss: 0.2615 - accuracy: 0.9014 - val_loss: 0.3275 - val_accuracy: 0.8822\n",
            "Epoch 9/10\n",
            "1719/1719 [==============================] - 5s 3ms/step - loss: 0.2528 - accuracy: 0.9053 - val_loss: 0.3511 - val_accuracy: 0.8740\n",
            "Epoch 10/10\n",
            "1719/1719 [==============================] - 7s 4ms/step - loss: 0.2439 - accuracy: 0.9074 - val_loss: 0.3750 - val_accuracy: 0.8806\n"
          ]
        }
      ]
    },
    {
      "cell_type": "markdown",
      "source": [
        "#Learning RAte scheduling"
      ],
      "metadata": {
        "id": "ahXhwQ0xSekt"
      }
    },
    {
      "cell_type": "code",
      "source": [
        "# DEPRECAT\n",
        "optimizer = tf.keras.optimizers.legacy.SGD(learning_rate=0.001, decay=1e-4)\n"
      ],
      "metadata": {
        "id": "ekgmwwsBSlA9"
      },
      "execution_count": 53,
      "outputs": []
    },
    {
      "cell_type": "code",
      "source": [
        "#REcommended\n",
        "lr_schedule = tf.keras.optimizers.schedules.InverseTimeDecay(\n",
        "    initial_learning_rate=0.001,\n",
        "    decay_steps = 10_000,\n",
        "    decay_rate=1.0,\n",
        "    staircase=False\n",
        ")\n",
        "optimizer = tf.keras.optimizers.SGD(learning_rate=lr_schedule)"
      ],
      "metadata": {
        "id": "B8XljU-RTBPN"
      },
      "execution_count": 54,
      "outputs": []
    },
    {
      "cell_type": "code",
      "source": [
        "history_power_scheduling = build_and_train_model(optimizer)"
      ],
      "metadata": {
        "colab": {
          "base_uri": "https://localhost:8080/"
        },
        "id": "t6avDb8bTw-b",
        "outputId": "ec275ca8-7e7b-461d-b20b-de28cf055cec"
      },
      "execution_count": 55,
      "outputs": [
        {
          "output_type": "stream",
          "name": "stdout",
          "text": [
            "Epoch 1/10\n",
            "1719/1719 [==============================] - 5s 3ms/step - loss: 1.3742 - accuracy: 0.5690 - val_loss: 0.8985 - val_accuracy: 0.7062\n",
            "Epoch 2/10\n",
            "1719/1719 [==============================] - 4s 2ms/step - loss: 0.8134 - accuracy: 0.7172 - val_loss: 0.7253 - val_accuracy: 0.7500\n",
            "Epoch 3/10\n",
            "1719/1719 [==============================] - 5s 3ms/step - loss: 0.7027 - accuracy: 0.7545 - val_loss: 0.6517 - val_accuracy: 0.7736\n",
            "Epoch 4/10\n",
            "1719/1719 [==============================] - 4s 2ms/step - loss: 0.6449 - accuracy: 0.7775 - val_loss: 0.6098 - val_accuracy: 0.7908\n",
            "Epoch 5/10\n",
            "1719/1719 [==============================] - 5s 3ms/step - loss: 0.6079 - accuracy: 0.7909 - val_loss: 0.5830 - val_accuracy: 0.7982\n",
            "Epoch 6/10\n",
            "1719/1719 [==============================] - 4s 3ms/step - loss: 0.5820 - accuracy: 0.8014 - val_loss: 0.5654 - val_accuracy: 0.8032\n",
            "Epoch 7/10\n",
            "1719/1719 [==============================] - 4s 2ms/step - loss: 0.5629 - accuracy: 0.8069 - val_loss: 0.5467 - val_accuracy: 0.8076\n",
            "Epoch 8/10\n",
            "1719/1719 [==============================] - 6s 4ms/step - loss: 0.5483 - accuracy: 0.8124 - val_loss: 0.5334 - val_accuracy: 0.8130\n",
            "Epoch 9/10\n",
            "1719/1719 [==============================] - 4s 2ms/step - loss: 0.5363 - accuracy: 0.8177 - val_loss: 0.5246 - val_accuracy: 0.8130\n",
            "Epoch 10/10\n",
            "1719/1719 [==============================] - 5s 3ms/step - loss: 0.5263 - accuracy: 0.8200 - val_loss: 0.5154 - val_accuracy: 0.8188\n"
          ]
        }
      ]
    },
    {
      "cell_type": "markdown",
      "source": [
        "#Avoiding Overfitting Thorough Regularization"
      ],
      "metadata": {
        "id": "z1dUi7FMPy4p"
      }
    },
    {
      "cell_type": "code",
      "source": [
        "layer= tf.keras.layers.Dense(100, activation=\"relu\",\n",
        "                             kernel_initializer=\"he_normal\",\n",
        "                             kernel_regularizer=tf.keras.regularizers.l2(0.01))\n"
      ],
      "metadata": {
        "id": "ZtaRpxORQbWp"
      },
      "execution_count": 56,
      "outputs": []
    },
    {
      "cell_type": "code",
      "source": [
        "tf.random.set_seed(42)"
      ],
      "metadata": {
        "id": "Yf0hd9b_RDHy"
      },
      "execution_count": 57,
      "outputs": []
    },
    {
      "cell_type": "code",
      "source": [
        "from functools import partial\n",
        "\n",
        "RegularizedDense = partial(tf.keras.layers.Dense,\n",
        "                           activation = \"relu\",\n",
        "                           kernel_initializer=\"he_normal\",\n",
        "                           kernel_regularizer= tf.keras.regularizers.l2(0.01))\n",
        "\n",
        "model =tf.keras.Sequential([\n",
        "    tf.keras.layers.Flatten(input_shape=[28,28]),\n",
        "    RegularizedDense(100),\n",
        "    RegularizedDense(100),\n",
        "    RegularizedDense(10,activation=\"softmax\")\n",
        "])"
      ],
      "metadata": {
        "id": "xoSCS3pjRHJZ"
      },
      "execution_count": 58,
      "outputs": []
    },
    {
      "cell_type": "code",
      "source": [
        "optimizer = tf.keras.optimizers.SGD(learning_rate=0.02)\n",
        "model.compile(loss=\"sparse_categorical_crossentropy\", optimizer=optimizer,\n",
        "              metrics=[\"accuracy\"])\n",
        "history = model.fit(X_train, y_train, epochs=2,\n",
        "                    validation_data=(X_valid, y_valid))"
      ],
      "metadata": {
        "colab": {
          "base_uri": "https://localhost:8080/"
        },
        "id": "wJ5U4EQqS4ps",
        "outputId": "113c3624-1696-4336-e71e-e8185e058fe0"
      },
      "execution_count": 59,
      "outputs": [
        {
          "output_type": "stream",
          "name": "stdout",
          "text": [
            "Epoch 1/2\n",
            "1719/1719 [==============================] - 6s 3ms/step - loss: 3.1424 - accuracy: 0.7709 - val_loss: 1.8668 - val_accuracy: 0.8216\n",
            "Epoch 2/2\n",
            "1719/1719 [==============================] - 5s 3ms/step - loss: 1.4318 - accuracy: 0.8133 - val_loss: 1.1293 - val_accuracy: 0.8170\n"
          ]
        }
      ]
    },
    {
      "cell_type": "markdown",
      "source": [
        "#Dropout"
      ],
      "metadata": {
        "id": "x5OJookQVlCZ"
      }
    },
    {
      "cell_type": "code",
      "source": [
        "tf.random.set_seed(42)"
      ],
      "metadata": {
        "id": "c8L0UwAvVni1"
      },
      "execution_count": 60,
      "outputs": []
    },
    {
      "cell_type": "code",
      "source": [
        "model=tf.keras.Sequential([\n",
        "    tf.keras.layers.Flatten(input_shape=[28,28]),\n",
        "    tf.keras.layers.Dropout(rate=0.2),\n",
        "    tf.keras.layers.Dense(100,activation=\"relu\",\n",
        "                          kernel_initializer=\"he_normal\"),\n",
        "    tf.keras.layers.Dropout(rate=0.2),\n",
        "    tf.keras.layers.Dense(100,activation=\"relu\",\n",
        "                          kernel_initializer=\"he_normal\"),\n",
        "    tf.keras.layers.Dropout(rate=0.2),\n",
        "    tf.keras.layers.Dense(10, activation=\"softmax\")\n",
        "])"
      ],
      "metadata": {
        "id": "Ld03xDV5Vq5E"
      },
      "execution_count": 61,
      "outputs": []
    },
    {
      "cell_type": "code",
      "source": [
        "optimizer = tf.keras.optimizers.SGD(learning_rate=0.01, momentum=0.9)\n",
        "model.compile(loss=\"sparse_categorical_crossentropy\", optimizer=optimizer,\n",
        "              metrics=[\"accuracy\"])\n",
        "history = model.fit(X_train, y_train, epochs=10,\n",
        "                    validation_data=(X_valid, y_valid))"
      ],
      "metadata": {
        "colab": {
          "base_uri": "https://localhost:8080/"
        },
        "id": "gVQn04WxWtPu",
        "outputId": "7dc87be2-f517-4ed4-bb96-b93bca66a0ed"
      },
      "execution_count": 62,
      "outputs": [
        {
          "output_type": "stream",
          "name": "stdout",
          "text": [
            "Epoch 1/10\n",
            "1719/1719 [==============================] - 6s 3ms/step - loss: 0.6749 - accuracy: 0.7515 - val_loss: 0.4504 - val_accuracy: 0.8386\n",
            "Epoch 2/10\n",
            "1719/1719 [==============================] - 6s 3ms/step - loss: 0.5117 - accuracy: 0.8131 - val_loss: 0.3994 - val_accuracy: 0.8508\n",
            "Epoch 3/10\n",
            "1719/1719 [==============================] - 5s 3ms/step - loss: 0.4741 - accuracy: 0.8267 - val_loss: 0.4033 - val_accuracy: 0.8480\n",
            "Epoch 4/10\n",
            "1719/1719 [==============================] - 5s 3ms/step - loss: 0.4500 - accuracy: 0.8341 - val_loss: 0.3835 - val_accuracy: 0.8602\n",
            "Epoch 5/10\n",
            "1719/1719 [==============================] - 6s 4ms/step - loss: 0.4378 - accuracy: 0.8385 - val_loss: 0.3624 - val_accuracy: 0.8640\n",
            "Epoch 6/10\n",
            "1719/1719 [==============================] - 5s 3ms/step - loss: 0.4285 - accuracy: 0.8421 - val_loss: 0.3601 - val_accuracy: 0.8620\n",
            "Epoch 7/10\n",
            "1719/1719 [==============================] - 6s 4ms/step - loss: 0.4150 - accuracy: 0.8469 - val_loss: 0.3544 - val_accuracy: 0.8684\n",
            "Epoch 8/10\n",
            "1719/1719 [==============================] - 5s 3ms/step - loss: 0.4088 - accuracy: 0.8491 - val_loss: 0.3528 - val_accuracy: 0.8700\n",
            "Epoch 9/10\n",
            "1719/1719 [==============================] - 6s 3ms/step - loss: 0.4062 - accuracy: 0.8519 - val_loss: 0.3406 - val_accuracy: 0.8712\n",
            "Epoch 10/10\n",
            "1719/1719 [==============================] - 5s 3ms/step - loss: 0.3963 - accuracy: 0.8534 - val_loss: 0.3500 - val_accuracy: 0.8710\n"
          ]
        }
      ]
    },
    {
      "cell_type": "code",
      "source": [
        "model.evaluate(X_train, y_train)"
      ],
      "metadata": {
        "colab": {
          "base_uri": "https://localhost:8080/"
        },
        "id": "39VWpsdIXQmz",
        "outputId": "1bc0b0b2-412c-428c-8722-bdb6d36fc7b5"
      },
      "execution_count": 63,
      "outputs": [
        {
          "output_type": "stream",
          "name": "stdout",
          "text": [
            "1719/1719 [==============================] - 4s 2ms/step - loss: 0.3121 - accuracy: 0.8835\n"
          ]
        },
        {
          "output_type": "execute_result",
          "data": {
            "text/plain": [
              "[0.31214404106140137, 0.8834545612335205]"
            ]
          },
          "metadata": {},
          "execution_count": 63
        }
      ]
    },
    {
      "cell_type": "code",
      "source": [
        "model.evaluate(X_test, y_test)"
      ],
      "metadata": {
        "colab": {
          "base_uri": "https://localhost:8080/"
        },
        "id": "XgmUHry3XcPo",
        "outputId": "da12f971-d899-4a1c-ecc6-8fef01a6829a"
      },
      "execution_count": 64,
      "outputs": [
        {
          "output_type": "stream",
          "name": "stdout",
          "text": [
            "313/313 [==============================] - 1s 3ms/step - loss: 0.3647 - accuracy: 0.8681\n"
          ]
        },
        {
          "output_type": "execute_result",
          "data": {
            "text/plain": [
              "[0.36473900079727173, 0.8680999875068665]"
            ]
          },
          "metadata": {},
          "execution_count": 64
        }
      ]
    },
    {
      "cell_type": "markdown",
      "source": [
        "#MC dropout"
      ],
      "metadata": {
        "id": "ArbgF2a6X-jc"
      }
    },
    {
      "cell_type": "code",
      "source": [
        "tf.random.set_seed(42)"
      ],
      "metadata": {
        "id": "zBZip53sYybi"
      },
      "execution_count": 65,
      "outputs": []
    },
    {
      "cell_type": "code",
      "source": [
        "y_probas = np.stack([model(X_test, training=True)\n",
        "                     for sample in range(100)])\n",
        "\n",
        "y_proba = y_probas.mean(axis=0)"
      ],
      "metadata": {
        "id": "sh6-DrCSZKa7"
      },
      "execution_count": 66,
      "outputs": []
    },
    {
      "cell_type": "code",
      "source": [
        "model.predict(X_test[:1]).round(3)"
      ],
      "metadata": {
        "colab": {
          "base_uri": "https://localhost:8080/"
        },
        "id": "9k7mX6fTZ2E2",
        "outputId": "50a3b776-2217-482d-d475-094d99ce536f"
      },
      "execution_count": 67,
      "outputs": [
        {
          "output_type": "stream",
          "name": "stdout",
          "text": [
            "1/1 [==============================] - 0s 102ms/step\n"
          ]
        },
        {
          "output_type": "execute_result",
          "data": {
            "text/plain": [
              "array([[0.   , 0.   , 0.   , 0.   , 0.   , 0.032, 0.   , 0.114, 0.   ,\n",
              "        0.854]], dtype=float32)"
            ]
          },
          "metadata": {},
          "execution_count": 67
        }
      ]
    },
    {
      "cell_type": "code",
      "source": [
        "y_proba[0].round(3)"
      ],
      "metadata": {
        "colab": {
          "base_uri": "https://localhost:8080/"
        },
        "id": "s9qEwXDeZ_fy",
        "outputId": "e425f751-f938-428e-96da-6a2890bed5b2"
      },
      "execution_count": 68,
      "outputs": [
        {
          "output_type": "execute_result",
          "data": {
            "text/plain": [
              "array([0.   , 0.   , 0.   , 0.   , 0.   , 0.101, 0.   , 0.15 , 0.001,\n",
              "       0.749], dtype=float32)"
            ]
          },
          "metadata": {},
          "execution_count": 68
        }
      ]
    },
    {
      "cell_type": "code",
      "source": [
        "y_std = y_probas.std(axis=0)\n",
        "y_std[0].round(3)"
      ],
      "metadata": {
        "colab": {
          "base_uri": "https://localhost:8080/"
        },
        "id": "KdA8IKPca1Sb",
        "outputId": "195fbc9f-7dd6-4a35-84d5-a190be51616b"
      },
      "execution_count": 69,
      "outputs": [
        {
          "output_type": "execute_result",
          "data": {
            "text/plain": [
              "array([0.   , 0.   , 0.   , 0.   , 0.   , 0.142, 0.   , 0.129, 0.004,\n",
              "       0.182], dtype=float32)"
            ]
          },
          "metadata": {},
          "execution_count": 69
        }
      ]
    },
    {
      "cell_type": "code",
      "source": [
        "y_pred = y_proba.argmax(axis=1)\n",
        "accuracy = (y_pred==y_test).sum()/len(y_test)\n",
        "accuracy"
      ],
      "metadata": {
        "colab": {
          "base_uri": "https://localhost:8080/"
        },
        "id": "WL4rOPPobY4h",
        "outputId": "76bb7b1d-1c14-4311-e058-c0caead7ac8d"
      },
      "execution_count": 70,
      "outputs": [
        {
          "output_type": "execute_result",
          "data": {
            "text/plain": [
              "0.8678"
            ]
          },
          "metadata": {},
          "execution_count": 70
        }
      ]
    },
    {
      "cell_type": "markdown",
      "source": [
        "#Maxnorm"
      ],
      "metadata": {
        "id": "TvGgAYb8cCjb"
      }
    },
    {
      "cell_type": "code",
      "source": [
        "dense = tf.keras.layers.Dense(\n",
        "    100, activation=\"relu\", kernel_initializer=\"he_normal\",\n",
        "    kernel_constraint=tf.keras.constraints.max_norm(1.))\n",
        "\n",
        "MaxNormDense = partial(tf.keras.layers.Dense,\n",
        "                       activation=\"relu\", kernel_initializer=\"he_normal\",\n",
        "                       kernel_constraint=tf.keras.constraints.max_norm(1.))\n",
        "\n",
        "tf.random.set_seed(42)\n",
        "model=tf.keras.Sequential([\n",
        "    tf.keras.layers.Flatten(input_shape=[28,28]),\n",
        "    MaxNormDense(100),\n",
        "    MaxNormDense(100),\n",
        "    tf.keras.layers.Dense(10,activation=\"softmax\")\n",
        "])\n",
        "\n",
        "optimizer = tf.keras.optimizers.SGD(learning_rate=0.01, momentum=0.9)\n",
        "model.compile(loss=\"sparse_categorical_crossentropy\", optimizer=optimizer,\n",
        "              metrics=[\"accuracy\"])"
      ],
      "metadata": {
        "id": "SlLQBZo_cBXK"
      },
      "execution_count": 72,
      "outputs": []
    },
    {
      "cell_type": "code",
      "source": [
        "history = model.fit(X_train, y_train, epochs=10,\n",
        "                    validation_data=(X_valid, y_valid))"
      ],
      "metadata": {
        "colab": {
          "base_uri": "https://localhost:8080/"
        },
        "id": "rInKcTbed0Wf",
        "outputId": "5740ddcf-ebde-4357-fe8e-9447145605dd"
      },
      "execution_count": 73,
      "outputs": [
        {
          "output_type": "stream",
          "name": "stdout",
          "text": [
            "Epoch 1/10\n",
            "1719/1719 [==============================] - 5s 3ms/step - loss: 0.5487 - accuracy: 0.8037 - val_loss: 0.4472 - val_accuracy: 0.8280\n",
            "Epoch 2/10\n",
            "1719/1719 [==============================] - 5s 3ms/step - loss: 0.4112 - accuracy: 0.8501 - val_loss: 0.4340 - val_accuracy: 0.8292\n",
            "Epoch 3/10\n",
            "1719/1719 [==============================] - 5s 3ms/step - loss: 0.3794 - accuracy: 0.8597 - val_loss: 0.3744 - val_accuracy: 0.8644\n",
            "Epoch 4/10\n",
            "1719/1719 [==============================] - 5s 3ms/step - loss: 0.3636 - accuracy: 0.8656 - val_loss: 0.3619 - val_accuracy: 0.8676\n",
            "Epoch 5/10\n",
            "1719/1719 [==============================] - 6s 3ms/step - loss: 0.3491 - accuracy: 0.8708 - val_loss: 0.3475 - val_accuracy: 0.8664\n",
            "Epoch 6/10\n",
            "1719/1719 [==============================] - 5s 3ms/step - loss: 0.3406 - accuracy: 0.8737 - val_loss: 0.4142 - val_accuracy: 0.8534\n",
            "Epoch 7/10\n",
            "1719/1719 [==============================] - 5s 3ms/step - loss: 0.3310 - accuracy: 0.8751 - val_loss: 0.4040 - val_accuracy: 0.8480\n",
            "Epoch 8/10\n",
            "1719/1719 [==============================] - 5s 3ms/step - loss: 0.3310 - accuracy: 0.8756 - val_loss: 0.3600 - val_accuracy: 0.8628\n",
            "Epoch 9/10\n",
            "1719/1719 [==============================] - 5s 3ms/step - loss: 0.3297 - accuracy: 0.8766 - val_loss: 0.3715 - val_accuracy: 0.8596\n",
            "Epoch 10/10\n",
            "1719/1719 [==============================] - 5s 3ms/step - loss: 0.3208 - accuracy: 0.8805 - val_loss: 0.3857 - val_accuracy: 0.8640\n"
          ]
        }
      ]
    }
  ]
}