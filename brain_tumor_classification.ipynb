{
  "nbformat": 4,
  "nbformat_minor": 0,
  "metadata": {
    "colab": {
      "provenance": [],
      "gpuType": "T4",
      "authorship_tag": "ABX9TyNv3bONv13aTAiB3rv1ys3g",
      "include_colab_link": true
    },
    "kernelspec": {
      "name": "python3",
      "display_name": "Python 3"
    },
    "language_info": {
      "name": "python"
    },
    "accelerator": "GPU"
  },
  "cells": [
    {
      "cell_type": "markdown",
      "metadata": {
        "id": "view-in-github",
        "colab_type": "text"
      },
      "source": [
        "<a href=\"https://colab.research.google.com/github/Elmir22/Data-science-ML-models-/blob/main/brain_tumor_classification.ipynb\" target=\"_parent\"><img src=\"https://colab.research.google.com/assets/colab-badge.svg\" alt=\"Open In Colab\"/></a>"
      ]
    },
    {
      "cell_type": "code",
      "source": [
        "import pandas as pd\n",
        "import numpy as np\n",
        "import matplotlib.pyplot as plt\n",
        "import tensorflow as tf"
      ],
      "metadata": {
        "id": "GR1J7DJm3dCa"
      },
      "execution_count": 1,
      "outputs": []
    },
    {
      "cell_type": "code",
      "execution_count": 2,
      "metadata": {
        "id": "nqHyL4541uYA",
        "colab": {
          "base_uri": "https://localhost:8080/"
        },
        "outputId": "983b7894-48e9-4187-e20f-ead882ec08c7"
      },
      "outputs": [
        {
          "output_type": "stream",
          "name": "stdout",
          "text": [
            "cp: cannot stat 'kaggle.json': No such file or directory\n"
          ]
        }
      ],
      "source": [
        "!mkdir -p ~/.kaggle\n",
        "!cp kaggle.json ~/.kaggle/"
      ]
    },
    {
      "cell_type": "code",
      "source": [
        "!kaggle datasets download -d sartajbhuvaji/brain-tumor-classification-mri"
      ],
      "metadata": {
        "colab": {
          "base_uri": "https://localhost:8080/"
        },
        "id": "rRWAy37o3Sra",
        "outputId": "43fbbd07-ebf3-4a47-c15d-0dae51554bfd"
      },
      "execution_count": 3,
      "outputs": [
        {
          "output_type": "stream",
          "name": "stdout",
          "text": [
            "Dataset URL: https://www.kaggle.com/datasets/sartajbhuvaji/brain-tumor-classification-mri\n",
            "License(s): MIT\n",
            "Downloading brain-tumor-classification-mri.zip to /content\n",
            "100% 86.8M/86.8M [00:05<00:00, 23.1MB/s]\n",
            "100% 86.8M/86.8M [00:05<00:00, 16.9MB/s]\n"
          ]
        }
      ]
    },
    {
      "cell_type": "code",
      "source": [
        "!wget https://raw.githubusercontent.com/Rstam59/TaskDataRepoForStudents/main/helper_functions.py"
      ],
      "metadata": {
        "colab": {
          "base_uri": "https://localhost:8080/"
        },
        "id": "pqex2pen3ws3",
        "outputId": "91342c2e-89d9-4eda-fcae-817867030c42"
      },
      "execution_count": 4,
      "outputs": [
        {
          "output_type": "stream",
          "name": "stdout",
          "text": [
            "--2024-05-14 08:21:36--  https://raw.githubusercontent.com/Rstam59/TaskDataRepoForStudents/main/helper_functions.py\n",
            "Resolving raw.githubusercontent.com (raw.githubusercontent.com)... 185.199.108.133, 185.199.109.133, 185.199.110.133, ...\n",
            "Connecting to raw.githubusercontent.com (raw.githubusercontent.com)|185.199.108.133|:443... connected.\n",
            "HTTP request sent, awaiting response... 200 OK\n",
            "Length: 10246 (10K) [text/plain]\n",
            "Saving to: ‘helper_functions.py’\n",
            "\n",
            "helper_functions.py 100%[===================>]  10.01K  --.-KB/s    in 0s      \n",
            "\n",
            "2024-05-14 08:21:37 (89.1 MB/s) - ‘helper_functions.py’ saved [10246/10246]\n",
            "\n"
          ]
        }
      ]
    },
    {
      "cell_type": "code",
      "source": [
        "from helper_functions import unzip_data, walk_through_dir,plot_loss_curves"
      ],
      "metadata": {
        "id": "4NgStwMJ4EKN"
      },
      "execution_count": 5,
      "outputs": []
    },
    {
      "cell_type": "code",
      "source": [
        "unzip_data('/content/brain-tumor-classification-mri.zip')"
      ],
      "metadata": {
        "id": "cwnLxpQd4QQC"
      },
      "execution_count": 6,
      "outputs": []
    },
    {
      "cell_type": "code",
      "source": [
        "train_dir = '/content/Training'\n",
        "test_dir = '/content/Testing'"
      ],
      "metadata": {
        "id": "kshjXrky4bkJ"
      },
      "execution_count": 7,
      "outputs": []
    },
    {
      "cell_type": "code",
      "source": [
        "walk_through_dir('/content/Testing')"
      ],
      "metadata": {
        "colab": {
          "base_uri": "https://localhost:8080/"
        },
        "id": "STlnZ59Y4WIY",
        "outputId": "7251ef84-819d-4016-9dfd-7727e52e4606"
      },
      "execution_count": 8,
      "outputs": [
        {
          "output_type": "stream",
          "name": "stdout",
          "text": [
            "There are 4 directories and 0 images in '/content/Testing'.\n",
            "There are 0 directories and 100 images in '/content/Testing/glioma_tumor'.\n",
            "There are 0 directories and 105 images in '/content/Testing/no_tumor'.\n",
            "There are 0 directories and 74 images in '/content/Testing/pituitary_tumor'.\n",
            "There are 0 directories and 115 images in '/content/Testing/meningioma_tumor'.\n"
          ]
        }
      ]
    },
    {
      "cell_type": "code",
      "source": [
        "walk_through_dir('/content/Training')"
      ],
      "metadata": {
        "colab": {
          "base_uri": "https://localhost:8080/"
        },
        "id": "IEQfDRtx4ye8",
        "outputId": "9d502d8f-722c-4790-fb71-3310e21dcf1c"
      },
      "execution_count": 9,
      "outputs": [
        {
          "output_type": "stream",
          "name": "stdout",
          "text": [
            "There are 4 directories and 0 images in '/content/Training'.\n",
            "There are 0 directories and 826 images in '/content/Training/glioma_tumor'.\n",
            "There are 0 directories and 395 images in '/content/Training/no_tumor'.\n",
            "There are 0 directories and 827 images in '/content/Training/pituitary_tumor'.\n",
            "There are 0 directories and 822 images in '/content/Training/meningioma_tumor'.\n"
          ]
        }
      ]
    },
    {
      "cell_type": "code",
      "source": [
        "import tensorflow as tf\n",
        "from tensorflow.keras.preprocessing.image import ImageDataGenerator\n",
        "\n",
        "train_data_aug = ImageDataGenerator(rescale=1/255.,\n",
        "                                    rotation_range=0.2,\n",
        "                                    width_shift_range=0.2,\n",
        "                                    height_shift_range=0.2,\n",
        "                                    shear_range=0.1,\n",
        "                                    zoom_range=0.3,\n",
        "                                    horizontal_flip=True,\n",
        "                                    vertical_flip=True)\n",
        "test_data_aug = ImageDataGenerator(rescale=1/255.)"
      ],
      "metadata": {
        "id": "lE8fqZnU43pp"
      },
      "execution_count": 10,
      "outputs": []
    },
    {
      "cell_type": "code",
      "source": [
        "train_data = train_data_aug.flow_from_directory(train_dir,\n",
        "                                                target_size=(224,224),\n",
        "                                                class_mode=\"categorical\",\n",
        "                                                batch_size=32)\n",
        "test_data = test_data_aug.flow_from_directory(test_dir,\n",
        "                                              target_size=(224,224),\n",
        "                                              class_mode='categorical')"
      ],
      "metadata": {
        "colab": {
          "base_uri": "https://localhost:8080/"
        },
        "id": "6_xaEyRS5zcF",
        "outputId": "0bbf0546-b1e9-4bbf-9286-b4a8bf9d1f51"
      },
      "execution_count": 11,
      "outputs": [
        {
          "output_type": "stream",
          "name": "stdout",
          "text": [
            "Found 2870 images belonging to 4 classes.\n",
            "Found 394 images belonging to 4 classes.\n"
          ]
        }
      ]
    },
    {
      "cell_type": "code",
      "source": [
        "model_0= tf.keras.Sequential([\n",
        "    tf.keras.layers.Input(shape=(224,224,3)),\n",
        "    tf.keras.layers.Conv2D(filters=16,\n",
        "                           kernel_size=(4,4),\n",
        "                           padding='valid',\n",
        "                           strides=(1,1),\n",
        "                           activation='relu',\n",
        "                           kernel_initializer='he_normal'),\n",
        "    tf.keras.layers.MaxPooling2D(pool_size=(2,2)),\n",
        "    tf.keras.layers.Conv2D(filters=32,\n",
        "                           kernel_size=(4,4),\n",
        "                           padding='valid',\n",
        "                           strides=(1,1),\n",
        "                           activation='relu',\n",
        "                           kernel_initializer='he_normal'),\n",
        "    tf.keras.layers.MaxPooling2D(pool_size=(2,2)),\n",
        "    tf.keras.layers.Conv2D(filters=32,\n",
        "                           kernel_size=(4,4),\n",
        "                           padding='valid',\n",
        "                           strides=(1,1),\n",
        "                           activation='relu',\n",
        "                           kernel_initializer='he_normal'),\n",
        "    tf.keras.layers.GlobalAveragePooling2D(),\n",
        "    tf.keras.layers.Flatten(),\n",
        "    tf.keras.layers.Dense(4, activation='softmax')\n",
        "])\n"
      ],
      "metadata": {
        "id": "LBHAM9Ud6idu"
      },
      "execution_count": 12,
      "outputs": []
    },
    {
      "cell_type": "code",
      "source": [
        "from PIL import ImageFile\n",
        "ImageFile.LOAD_TRUNCATED_IMAGES = True"
      ],
      "metadata": {
        "id": "PWLiDTHwACWx"
      },
      "execution_count": 13,
      "outputs": []
    },
    {
      "cell_type": "code",
      "source": [
        "optimizer = tf.keras.optimizers.Adam(learning_rate=1e-3)\n",
        "model_0.compile(loss='categorical_crossentropy',\n",
        "                optimizer=optimizer,\n",
        "                metrics=['accuracy'])\n",
        "history_0 = model_0.fit(train_data,\n",
        "            epochs=5,\n",
        "            steps_per_epoch=len(train_data ),\n",
        "            validation_data=test_data,\n",
        "            validation_steps=len(test_data))"
      ],
      "metadata": {
        "colab": {
          "base_uri": "https://localhost:8080/"
        },
        "id": "uXsNKIOp95x-",
        "outputId": "23a2b69d-b0c5-4148-b208-0f61b6900146"
      },
      "execution_count": 14,
      "outputs": [
        {
          "output_type": "stream",
          "name": "stdout",
          "text": [
            "Epoch 1/5\n",
            "90/90 [==============================] - 45s 446ms/step - loss: 1.3242 - accuracy: 0.3627 - val_loss: 1.5709 - val_accuracy: 0.2360\n",
            "Epoch 2/5\n",
            "90/90 [==============================] - 39s 430ms/step - loss: 1.2334 - accuracy: 0.4111 - val_loss: 1.6659 - val_accuracy: 0.2234\n",
            "Epoch 3/5\n",
            "90/90 [==============================] - 39s 433ms/step - loss: 1.1773 - accuracy: 0.4554 - val_loss: 2.1074 - val_accuracy: 0.3020\n",
            "Epoch 4/5\n",
            "90/90 [==============================] - 43s 476ms/step - loss: 1.1338 - accuracy: 0.4850 - val_loss: 2.4372 - val_accuracy: 0.3096\n",
            "Epoch 5/5\n",
            "90/90 [==============================] - 46s 515ms/step - loss: 1.0992 - accuracy: 0.5157 - val_loss: 2.4600 - val_accuracy: 0.2919\n"
          ]
        }
      ]
    },
    {
      "cell_type": "code",
      "source": [
        "model_1= tf.keras.Sequential([\n",
        "    tf.keras.layers.Input(shape=(224,224,3)),\n",
        "    tf.keras.layers.BatchNormalization(),\n",
        "    tf.keras.layers.Conv2D(filters=16,\n",
        "                           kernel_size=(7,7),\n",
        "                           padding='valid',\n",
        "                           activation='relu',\n",
        "                           kernel_initializer='he_normal'),\n",
        "    tf.keras.layers.Dropout(0.5),\n",
        "    tf.keras.layers.MaxPooling2D(pool_size=(2,2)),\n",
        "    tf.keras.layers.BatchNormalization(),\n",
        "    tf.keras.layers.Conv2D(filters=16,\n",
        "                           kernel_size=(7,7),\n",
        "                           padding='valid',\n",
        "                           activation='relu',\n",
        "                           kernel_initializer='he_normal'),\n",
        "    tf.keras.layers.Dropout(0.5),\n",
        "    tf.keras.layers.MaxPooling2D(pool_size=(2,2)),\n",
        "    tf.keras.layers.BatchNormalization(),\n",
        "    tf.keras.layers.Conv2D(filters=16,\n",
        "                           kernel_size=(7,7),\n",
        "                           padding='valid',\n",
        "                           activation='relu',\n",
        "                           kernel_initializer='he_normal'),\n",
        "    tf.keras.layers.Dropout(0.5),\n",
        "    tf.keras.layers.GlobalAveragePooling2D(),\n",
        "    tf.keras.layers.BatchNormalization(),\n",
        "    tf.keras.layers.Flatten(),\n",
        "    tf.keras.layers.Dense(4, activation='softmax')\n",
        "])\n"
      ],
      "metadata": {
        "id": "9ZztEW6W-n9R"
      },
      "execution_count": 15,
      "outputs": []
    },
    {
      "cell_type": "code",
      "source": [
        "\n",
        "optimizer = tf.keras.optimizers.Adam(learning_rate=1e-3)\n",
        "model_1.compile(loss='categorical_crossentropy',\n",
        "                optimizer=optimizer,\n",
        "                metrics=['accuracy'])\n",
        "history_1 = model_1.fit(train_data,\n",
        "            epochs=5,\n",
        "            steps_per_epoch=len(train_data ),\n",
        "            validation_data=test_data,\n",
        "            validation_steps=len(test_data))"
      ],
      "metadata": {
        "colab": {
          "base_uri": "https://localhost:8080/"
        },
        "id": "0WG5OeNzBpz5",
        "outputId": "ef1ca78e-034b-40d9-f1b2-e8b61598a9a1"
      },
      "execution_count": 16,
      "outputs": [
        {
          "output_type": "stream",
          "name": "stdout",
          "text": [
            "Epoch 1/5\n",
            "90/90 [==============================] - 53s 482ms/step - loss: 1.1091 - accuracy: 0.5251 - val_loss: 2.1706 - val_accuracy: 0.1878\n",
            "Epoch 2/5\n",
            "90/90 [==============================] - 46s 506ms/step - loss: 0.9943 - accuracy: 0.5850 - val_loss: 3.0854 - val_accuracy: 0.1878\n",
            "Epoch 3/5\n",
            "90/90 [==============================] - 43s 469ms/step - loss: 0.9278 - accuracy: 0.6160 - val_loss: 4.5541 - val_accuracy: 0.1878\n",
            "Epoch 4/5\n",
            "90/90 [==============================] - 44s 489ms/step - loss: 0.9380 - accuracy: 0.6115 - val_loss: 3.1007 - val_accuracy: 0.1929\n",
            "Epoch 5/5\n",
            "90/90 [==============================] - 43s 476ms/step - loss: 0.8860 - accuracy: 0.6314 - val_loss: 4.0867 - val_accuracy: 0.1878\n"
          ]
        }
      ]
    },
    {
      "cell_type": "code",
      "source": [
        "plot_loss_curves(history_0)"
      ],
      "metadata": {
        "colab": {
          "base_uri": "https://localhost:8080/",
          "height": 927
        },
        "id": "b3gvCVZbBruu",
        "outputId": "1683a3d9-e2c1-41ea-eeb5-192198f18b5f"
      },
      "execution_count": 17,
      "outputs": [
        {
          "output_type": "display_data",
          "data": {
            "text/plain": [
              "<Figure size 640x480 with 1 Axes>"
            ],
            "image/png": "[encoded data removed]"
          },
          "metadata": {}
        },
        {
          "output_type": "display_data",
          "data": {
            "text/plain": [
              "<Figure size 640x480 with 1 Axes>"
            ],
            "image/png": "[encoded data removed]"
          },
          "metadata": {}
        }
      ]
    },
    {
      "cell_type": "code",
      "source": [
        "plot_loss_curves(history_1)"
      ],
      "metadata": {
        "colab": {
          "base_uri": "https://localhost:8080/",
          "height": 927
        },
        "id": "OE1ypN0TCE9a",
        "outputId": "ad22cebf-481f-40a4-a130-1e735dc42037"
      },
      "execution_count": 18,
      "outputs": [
        {
          "output_type": "display_data",
          "data": {
            "text/plain": [
              "<Figure size 640x480 with 1 Axes>"
            ],
            "image/png": "[encoded data removed]"
          },
          "metadata": {}
        },
        {
          "output_type": "display_data",
          "data": {
            "text/plain": [
              "<Figure size 640x480 with 1 Axes>"
            ],
            "image/png": "[encoded data removed]"
          },
          "metadata": {}
        }
      ]
    },
    {
      "cell_type": "code",
      "source": [
        "model_2= tf.keras.Sequential([\n",
        "    tf.keras.layers.Input(shape=(224,224,3)),\n",
        "    tf.keras.layers.Conv2D(filters=16,\n",
        "                           kernel_size=(7,7),\n",
        "                           padding='valid',\n",
        "                           activation='relu',\n",
        "                           kernel_initializer='he_normal'),\n",
        "    tf.keras.layers.MaxPooling2D(pool_size=(2,2)),\n",
        "    tf.keras.layers.Conv2D(filters=16,\n",
        "                           kernel_size=(7,7),\n",
        "                           padding='valid',\n",
        "                           activation='relu',\n",
        "                           kernel_initializer='he_normal'),\n",
        "    tf.keras.layers.MaxPooling2D(pool_size=(2,2)),\n",
        "    tf.keras.layers.Conv2D(filters=16,\n",
        "                           kernel_size=(7,7),\n",
        "                           padding='valid',\n",
        "                           activation='relu',\n",
        "                           kernel_initializer='he_normal'),\n",
        "    tf.keras.layers.MaxPooling2D(pool_size=(2,2)),\n",
        "    tf.keras.layers.Conv2D(filters=16,\n",
        "                           kernel_size=(7,7),\n",
        "                           padding='valid',\n",
        "                           activation='relu',\n",
        "                           kernel_initializer='he_normal'),\n",
        "    tf.keras.layers.GlobalAveragePooling2D(),\n",
        "    tf.keras.layers.Flatten(),\n",
        "    tf.keras.layers.Dense(4, activation='softmax')\n",
        "])\n"
      ],
      "metadata": {
        "id": "O94UooHTCH_q"
      },
      "execution_count": 19,
      "outputs": []
    },
    {
      "cell_type": "code",
      "source": [
        "\n",
        "optimizer = tf.keras.optimizers.Adam(learning_rate=1e-3)\n",
        "model_2.compile(loss='categorical_crossentropy',\n",
        "                optimizer=optimizer,\n",
        "                metrics=['accuracy'])\n",
        "history_2 = model_2.fit(train_data,\n",
        "            epochs=10,\n",
        "            steps_per_epoch=len(train_data ),\n",
        "            validation_data=test_data,\n",
        "            validation_steps=len(test_data))"
      ],
      "metadata": {
        "colab": {
          "base_uri": "https://localhost:8080/"
        },
        "id": "5sCwQnIOrJ9P",
        "outputId": "ac552529-feea-4b8a-d8ab-9553223fb580"
      },
      "execution_count": 20,
      "outputs": [
        {
          "output_type": "stream",
          "name": "stdout",
          "text": [
            "Epoch 1/10\n",
            "90/90 [==============================] - 42s 443ms/step - loss: 1.3676 - accuracy: 0.3066 - val_loss: 1.4454 - val_accuracy: 0.3071\n",
            "Epoch 2/10\n",
            "90/90 [==============================] - 42s 467ms/step - loss: 1.3096 - accuracy: 0.3815 - val_loss: 1.4304 - val_accuracy: 0.2056\n",
            "Epoch 3/10\n",
            "90/90 [==============================] - 41s 453ms/step - loss: 1.2659 - accuracy: 0.4233 - val_loss: 1.4544 - val_accuracy: 0.2005\n",
            "Epoch 4/10\n",
            "90/90 [==============================] - 41s 456ms/step - loss: 1.2303 - accuracy: 0.4578 - val_loss: 1.4575 - val_accuracy: 0.1878\n",
            "Epoch 5/10\n",
            "90/90 [==============================] - 43s 475ms/step - loss: 1.1582 - accuracy: 0.5007 - val_loss: 1.4508 - val_accuracy: 0.2183\n",
            "Epoch 6/10\n",
            "90/90 [==============================] - 42s 463ms/step - loss: 1.0826 - accuracy: 0.5355 - val_loss: 1.5466 - val_accuracy: 0.2335\n",
            "Epoch 7/10\n",
            "90/90 [==============================] - 42s 464ms/step - loss: 1.0008 - accuracy: 0.5840 - val_loss: 1.8064 - val_accuracy: 0.3071\n",
            "Epoch 8/10\n",
            "90/90 [==============================] - 42s 465ms/step - loss: 0.9894 - accuracy: 0.5850 - val_loss: 1.7408 - val_accuracy: 0.3071\n",
            "Epoch 9/10\n",
            "90/90 [==============================] - 40s 444ms/step - loss: 0.9366 - accuracy: 0.6125 - val_loss: 1.9021 - val_accuracy: 0.2817\n",
            "Epoch 10/10\n",
            "90/90 [==============================] - 42s 463ms/step - loss: 0.9174 - accuracy: 0.6077 - val_loss: 1.6989 - val_accuracy: 0.3249\n"
          ]
        }
      ]
    },
    {
      "cell_type": "code",
      "source": [
        "efficientrel_url = \"https://www.kaggle.com/models/tensorflow/efficientnet/TensorFlow2/b0-feature-vector/1\"\n",
        "resnet_url = \"https://www.kaggle.com/models/google/resnet-v2/TensorFlow2/50-feature-vector/2\""
      ],
      "metadata": {
        "id": "Lv4qNnfcrNlx"
      },
      "execution_count": 21,
      "outputs": []
    },
    {
      "cell_type": "code",
      "source": [
        "import tensorflow as tf\n",
        "import tensorflow_hub as hub\n",
        "from tensorflow.keras import layers\n",
        "\n",
        "IMAGE_SHAPE = (224,224)\n",
        "\n",
        "def create_model(model_url,num_classes=4):\n",
        "  feature_extractor_layer = None\n",
        "  feature_extractor_layer = hub.KerasLayer(model_url,\n",
        "                                           trainable=False,\n",
        "                                           name=feature_extractor_layer,\n",
        "                                           input_shape=IMAGE_SHAPE + (3,))\n",
        "  model_4 = tf.keras.Sequential([\n",
        "      feature_extractor_layer,\n",
        "      tf.keras.layers.Dense(num_classes,activation=\"softmax\", name='output_layer')\n",
        "  ])\n",
        "\n",
        "  return model_4\n",
        "\n"
      ],
      "metadata": {
        "id": "sUVl6Ji7tBgB"
      },
      "execution_count": 22,
      "outputs": []
    },
    {
      "cell_type": "code",
      "source": [
        "resnet_model = create_model(resnet_url,\n",
        "                            num_classes=train_data.num_classes)"
      ],
      "metadata": {
        "id": "CGCtoYOBvVIj"
      },
      "execution_count": 23,
      "outputs": []
    },
    {
      "cell_type": "code",
      "source": [
        "train_data.num_classes"
      ],
      "metadata": {
        "colab": {
          "base_uri": "https://localhost:8080/"
        },
        "id": "z6-7TDBevlTR",
        "outputId": "a2f0373b-6965-4555-c03e-411ba2a60400"
      },
      "execution_count": 24,
      "outputs": [
        {
          "output_type": "execute_result",
          "data": {
            "text/plain": [
              "4"
            ]
          },
          "metadata": {},
          "execution_count": 24
        }
      ]
    },
    {
      "cell_type": "code",
      "source": [
        "resnet_model.summary()"
      ],
      "metadata": {
        "colab": {
          "base_uri": "https://localhost:8080/"
        },
        "id": "PEqCRhMgvyj-",
        "outputId": "5de801cb-53a9-4a8e-a918-226b4352ad3d"
      },
      "execution_count": 25,
      "outputs": [
        {
          "output_type": "stream",
          "name": "stdout",
          "text": [
            "Model: \"sequential_3\"\n",
            "_________________________________________________________________\n",
            " Layer (type)                Output Shape              Param #   \n",
            "=================================================================\n",
            " keras_layer (KerasLayer)    (None, 2048)              23564800  \n",
            "                                                                 \n",
            " output_layer (Dense)        (None, 4)                 8196      \n",
            "                                                                 \n",
            "=================================================================\n",
            "Total params: 23572996 (89.92 MB)\n",
            "Trainable params: 8196 (32.02 KB)\n",
            "Non-trainable params: 23564800 (89.89 MB)\n",
            "_________________________________________________________________\n"
          ]
        }
      ]
    },
    {
      "cell_type": "code",
      "source": [
        "resnet_model.compile(optimizer=tf.keras.optimizers.Adam(learning_rate=1e-3),\n",
        "                     loss='categorical_crossentropy',\n",
        "                     metrics=['accuracy'])"
      ],
      "metadata": {
        "id": "ZGvHNE1uxFAk"
      },
      "execution_count": 26,
      "outputs": []
    },
    {
      "cell_type": "code",
      "source": [
        "resnet_history = resnet_model.fit(train_data,\n",
        "            epochs=10,\n",
        "            steps_per_epoch=len(train_data ),\n",
        "            validation_data=test_data,\n",
        "            validation_steps=len(test_data))"
      ],
      "metadata": {
        "colab": {
          "base_uri": "https://localhost:8080/"
        },
        "id": "QdHyPv_fxXzH",
        "outputId": "4678e5c8-1b60-45f4-fb35-4ce4a1ccbb30"
      },
      "execution_count": 27,
      "outputs": [
        {
          "output_type": "stream",
          "name": "stdout",
          "text": [
            "Epoch 1/10\n",
            "90/90 [==============================] - 57s 551ms/step - loss: 0.8548 - accuracy: 0.6564 - val_loss: 1.1018 - val_accuracy: 0.5939\n",
            "Epoch 2/10\n",
            "90/90 [==============================] - 45s 502ms/step - loss: 0.5372 - accuracy: 0.7990 - val_loss: 1.1135 - val_accuracy: 0.6066\n",
            "Epoch 3/10\n",
            "90/90 [==============================] - 43s 478ms/step - loss: 0.4670 - accuracy: 0.8328 - val_loss: 1.0237 - val_accuracy: 0.6675\n",
            "Epoch 4/10\n",
            "90/90 [==============================] - 44s 485ms/step - loss: 0.4444 - accuracy: 0.8397 - val_loss: 1.0089 - val_accuracy: 0.6675\n",
            "Epoch 5/10\n",
            "90/90 [==============================] - 41s 460ms/step - loss: 0.4158 - accuracy: 0.8449 - val_loss: 0.9604 - val_accuracy: 0.6929\n",
            "Epoch 6/10\n",
            "90/90 [==============================] - 42s 465ms/step - loss: 0.4007 - accuracy: 0.8481 - val_loss: 1.0072 - val_accuracy: 0.6726\n",
            "Epoch 7/10\n",
            "90/90 [==============================] - 44s 489ms/step - loss: 0.3736 - accuracy: 0.8575 - val_loss: 0.9325 - val_accuracy: 0.6929\n",
            "Epoch 8/10\n",
            "90/90 [==============================] - 43s 483ms/step - loss: 0.3641 - accuracy: 0.8631 - val_loss: 0.9275 - val_accuracy: 0.6624\n",
            "Epoch 9/10\n",
            "90/90 [==============================] - 42s 469ms/step - loss: 0.3669 - accuracy: 0.8631 - val_loss: 0.9164 - val_accuracy: 0.7056\n",
            "Epoch 10/10\n",
            "90/90 [==============================] - 42s 464ms/step - loss: 0.3463 - accuracy: 0.8763 - val_loss: 0.9269 - val_accuracy: 0.7030\n"
          ]
        }
      ]
    },
    {
      "cell_type": "code",
      "source": [
        "checkpoint_path = \"ten_percent_model_checkpoints_weights/checkpoint.ckpt\"\n",
        "\n",
        "checkpoint_callback = tf.keras.callbacks.ModelCheckpoint(save_weights_only=True,\n",
        "                                                         save_best_only=True,\n",
        "                                                         save_freq=\"epoch\",\n",
        "                                                         filepath=checkpoint_path,\n",
        "                                                         verbose=1)\n",
        "resnet_history = resnet_model.fit(train_data,\n",
        "            epochs=10,\n",
        "            steps_per_epoch=len(train_data ),\n",
        "            validation_data=test_data,\n",
        "            validation_steps=len(test_data),\n",
        "            callbacks=[checkpoint_callback])"
      ],
      "metadata": {
        "colab": {
          "base_uri": "https://localhost:8080/"
        },
        "id": "7nz148G4xo55",
        "outputId": "3b09d357-490f-48cc-fd25-eea9cc107f9c"
      },
      "execution_count": 28,
      "outputs": [
        {
          "output_type": "stream",
          "name": "stdout",
          "text": [
            "Epoch 1/10\n",
            "90/90 [==============================] - ETA: 0s - loss: 0.3290 - accuracy: 0.8808\n",
            "Epoch 1: val_loss improved from inf to 0.90549, saving model to ten_percent_model_checkpoints_weights/checkpoint.ckpt\n",
            "90/90 [==============================] - 43s 476ms/step - loss: 0.3290 - accuracy: 0.8808 - val_loss: 0.9055 - val_accuracy: 0.7183\n",
            "Epoch 2/10\n",
            "90/90 [==============================] - ETA: 0s - loss: 0.3400 - accuracy: 0.8672\n",
            "Epoch 2: val_loss did not improve from 0.90549\n",
            "90/90 [==============================] - 44s 490ms/step - loss: 0.3400 - accuracy: 0.8672 - val_loss: 1.0619 - val_accuracy: 0.6701\n",
            "Epoch 3/10\n",
            "90/90 [==============================] - ETA: 0s - loss: 0.3280 - accuracy: 0.8746\n",
            "Epoch 3: val_loss did not improve from 0.90549\n",
            "90/90 [==============================] - 42s 468ms/step - loss: 0.3280 - accuracy: 0.8746 - val_loss: 0.9562 - val_accuracy: 0.6827\n",
            "Epoch 4/10\n",
            "90/90 [==============================] - ETA: 0s - loss: 0.3062 - accuracy: 0.8920\n",
            "Epoch 4: val_loss improved from 0.90549 to 0.86582, saving model to ten_percent_model_checkpoints_weights/checkpoint.ckpt\n",
            "90/90 [==============================] - 42s 471ms/step - loss: 0.3062 - accuracy: 0.8920 - val_loss: 0.8658 - val_accuracy: 0.7107\n",
            "Epoch 5/10\n",
            "90/90 [==============================] - ETA: 0s - loss: 0.3082 - accuracy: 0.8836\n",
            "Epoch 5: val_loss did not improve from 0.86582\n",
            "90/90 [==============================] - 42s 462ms/step - loss: 0.3082 - accuracy: 0.8836 - val_loss: 0.8681 - val_accuracy: 0.7284\n",
            "Epoch 6/10\n",
            "90/90 [==============================] - ETA: 0s - loss: 0.3158 - accuracy: 0.8819\n",
            "Epoch 6: val_loss did not improve from 0.86582\n",
            "90/90 [==============================] - 42s 462ms/step - loss: 0.3158 - accuracy: 0.8819 - val_loss: 0.8933 - val_accuracy: 0.7234\n",
            "Epoch 7/10\n",
            "90/90 [==============================] - ETA: 0s - loss: 0.3015 - accuracy: 0.8861\n",
            "Epoch 7: val_loss did not improve from 0.86582\n",
            "90/90 [==============================] - 42s 462ms/step - loss: 0.3015 - accuracy: 0.8861 - val_loss: 1.0197 - val_accuracy: 0.6701\n",
            "Epoch 8/10\n",
            "90/90 [==============================] - ETA: 0s - loss: 0.3069 - accuracy: 0.8822\n",
            "Epoch 8: val_loss did not improve from 0.86582\n",
            "90/90 [==============================] - 41s 457ms/step - loss: 0.3069 - accuracy: 0.8822 - val_loss: 0.9708 - val_accuracy: 0.7081\n",
            "Epoch 9/10\n",
            "90/90 [==============================] - ETA: 0s - loss: 0.2994 - accuracy: 0.8885\n",
            "Epoch 9: val_loss did not improve from 0.86582\n",
            "90/90 [==============================] - 43s 475ms/step - loss: 0.2994 - accuracy: 0.8885 - val_loss: 0.9423 - val_accuracy: 0.7030\n",
            "Epoch 10/10\n",
            "90/90 [==============================] - ETA: 0s - loss: 0.2865 - accuracy: 0.8882\n",
            "Epoch 10: val_loss did not improve from 0.86582\n",
            "90/90 [==============================] - 42s 462ms/step - loss: 0.2865 - accuracy: 0.8882 - val_loss: 0.9818 - val_accuracy: 0.7005\n"
          ]
        }
      ]
    },
    {
      "cell_type": "code",
      "source": [
        "\n",
        "                                     )"
      ],
      "metadata": {
        "id": "JtnJcaU4Onzr"
      },
      "execution_count": 31,
      "outputs": []
    },
    {
      "cell_type": "code",
      "source": [],
      "metadata": {
        "id": "pJxY1rCW1qhc",
        "colab": {
          "base_uri": "https://localhost:8080/",
          "height": 581
        },
        "outputId": "fd6d1466-dde3-4a23-9a3f-19e7810698aa"
      },
      "execution_count": 34,
      "outputs": [
        {
          "output_type": "stream",
          "name": "stdout",
          "text": [
            "Epoch 1/5\n",
            "90/90 [==============================] - 112s 1s/step - loss: 1.3724 - accuracy: 0.2979 - val_loss: 1.4769 - val_accuracy: 0.1878\n",
            "Epoch 2/5\n",
            "90/90 [==============================] - 70s 769ms/step - loss: 1.3611 - accuracy: 0.2934 - val_loss: 1.4775 - val_accuracy: 0.2538\n",
            "Epoch 3/5\n",
            "90/90 [==============================] - 64s 705ms/step - loss: 1.3651 - accuracy: 0.2997 - val_loss: 1.4156 - val_accuracy: 0.1878\n",
            "Epoch 4/5\n",
            "90/90 [==============================] - 59s 648ms/step - loss: 1.3663 - accuracy: 0.2749 - val_loss: 1.4539 - val_accuracy: 0.1878\n",
            "Epoch 5/5\n",
            "71/90 [======================>.......] - ETA: 12s - loss: 1.3618 - accuracy: 0.2785"
          ]
        },
        {
          "output_type": "error",
          "ename": "KeyboardInterrupt",
          "evalue": "",
          "traceback": [
            "\u001b[0;31m---------------------------------------------------------------------------\u001b[0m",
            "\u001b[0;31mKeyboardInterrupt\u001b[0m                         Traceback (most recent call last)",
            "\u001b[0;32m<ipython-input-34-1c6f35329bdc>\u001b[0m in \u001b[0;36m<cell line: 16>\u001b[0;34m()\u001b[0m\n\u001b[1;32m     14\u001b[0m                 metrics=['accuracy'])\n\u001b[1;32m     15\u001b[0m \u001b[0;34m\u001b[0m\u001b[0m\n\u001b[0;32m---> 16\u001b[0;31m efficient_history=model_3.fit(train_data,\n\u001b[0m\u001b[1;32m     17\u001b[0m                               \u001b[0mepochs\u001b[0m\u001b[0;34m=\u001b[0m\u001b[0;36m5\u001b[0m\u001b[0;34m,\u001b[0m\u001b[0;34m\u001b[0m\u001b[0;34m\u001b[0m\u001b[0m\n\u001b[1;32m     18\u001b[0m                               \u001b[0msteps_per_epoch\u001b[0m\u001b[0;34m=\u001b[0m\u001b[0mlen\u001b[0m\u001b[0;34m(\u001b[0m\u001b[0mtrain_data\u001b[0m\u001b[0;34m)\u001b[0m\u001b[0;34m,\u001b[0m\u001b[0;34m\u001b[0m\u001b[0;34m\u001b[0m\u001b[0m\n",
            "\u001b[0;32m/usr/local/lib/python3.10/dist-packages/keras/src/utils/traceback_utils.py\u001b[0m in \u001b[0;36merror_handler\u001b[0;34m(*args, **kwargs)\u001b[0m\n\u001b[1;32m     63\u001b[0m         \u001b[0mfiltered_tb\u001b[0m \u001b[0;34m=\u001b[0m \u001b[0;32mNone\u001b[0m\u001b[0;34m\u001b[0m\u001b[0;34m\u001b[0m\u001b[0m\n\u001b[1;32m     64\u001b[0m         \u001b[0;32mtry\u001b[0m\u001b[0;34m:\u001b[0m\u001b[0;34m\u001b[0m\u001b[0;34m\u001b[0m\u001b[0m\n\u001b[0;32m---> 65\u001b[0;31m             \u001b[0;32mreturn\u001b[0m \u001b[0mfn\u001b[0m\u001b[0;34m(\u001b[0m\u001b[0;34m*\u001b[0m\u001b[0margs\u001b[0m\u001b[0;34m,\u001b[0m \u001b[0;34m**\u001b[0m\u001b[0mkwargs\u001b[0m\u001b[0;34m)\u001b[0m\u001b[0;34m\u001b[0m\u001b[0;34m\u001b[0m\u001b[0m\n\u001b[0m\u001b[1;32m     66\u001b[0m         \u001b[0;32mexcept\u001b[0m \u001b[0mException\u001b[0m \u001b[0;32mas\u001b[0m \u001b[0me\u001b[0m\u001b[0;34m:\u001b[0m\u001b[0;34m\u001b[0m\u001b[0;34m\u001b[0m\u001b[0m\n\u001b[1;32m     67\u001b[0m             \u001b[0mfiltered_tb\u001b[0m \u001b[0;34m=\u001b[0m \u001b[0m_process_traceback_frames\u001b[0m\u001b[0;34m(\u001b[0m\u001b[0me\u001b[0m\u001b[0;34m.\u001b[0m\u001b[0m__traceback__\u001b[0m\u001b[0;34m)\u001b[0m\u001b[0;34m\u001b[0m\u001b[0;34m\u001b[0m\u001b[0m\n",
            "\u001b[0;32m/usr/local/lib/python3.10/dist-packages/keras/src/engine/training.py\u001b[0m in \u001b[0;36mfit\u001b[0;34m(self, x, y, batch_size, epochs, verbose, callbacks, validation_split, validation_data, shuffle, class_weight, sample_weight, initial_epoch, steps_per_epoch, validation_steps, validation_batch_size, validation_freq, max_queue_size, workers, use_multiprocessing)\u001b[0m\n\u001b[1;32m   1805\u001b[0m                         ):\n\u001b[1;32m   1806\u001b[0m                             \u001b[0mcallbacks\u001b[0m\u001b[0;34m.\u001b[0m\u001b[0mon_train_batch_begin\u001b[0m\u001b[0;34m(\u001b[0m\u001b[0mstep\u001b[0m\u001b[0;34m)\u001b[0m\u001b[0;34m\u001b[0m\u001b[0;34m\u001b[0m\u001b[0m\n\u001b[0;32m-> 1807\u001b[0;31m                             \u001b[0mtmp_logs\u001b[0m \u001b[0;34m=\u001b[0m \u001b[0mself\u001b[0m\u001b[0;34m.\u001b[0m\u001b[0mtrain_function\u001b[0m\u001b[0;34m(\u001b[0m\u001b[0miterator\u001b[0m\u001b[0;34m)\u001b[0m\u001b[0;34m\u001b[0m\u001b[0;34m\u001b[0m\u001b[0m\n\u001b[0m\u001b[1;32m   1808\u001b[0m                             \u001b[0;32mif\u001b[0m \u001b[0mdata_handler\u001b[0m\u001b[0;34m.\u001b[0m\u001b[0mshould_sync\u001b[0m\u001b[0;34m:\u001b[0m\u001b[0;34m\u001b[0m\u001b[0;34m\u001b[0m\u001b[0m\n\u001b[1;32m   1809\u001b[0m                                 \u001b[0mcontext\u001b[0m\u001b[0;34m.\u001b[0m\u001b[0masync_wait\u001b[0m\u001b[0;34m(\u001b[0m\u001b[0;34m)\u001b[0m\u001b[0;34m\u001b[0m\u001b[0;34m\u001b[0m\u001b[0m\n",
            "\u001b[0;32m/usr/local/lib/python3.10/dist-packages/tensorflow/python/util/traceback_utils.py\u001b[0m in \u001b[0;36merror_handler\u001b[0;34m(*args, **kwargs)\u001b[0m\n\u001b[1;32m    148\u001b[0m     \u001b[0mfiltered_tb\u001b[0m \u001b[0;34m=\u001b[0m \u001b[0;32mNone\u001b[0m\u001b[0;34m\u001b[0m\u001b[0;34m\u001b[0m\u001b[0m\n\u001b[1;32m    149\u001b[0m     \u001b[0;32mtry\u001b[0m\u001b[0;34m:\u001b[0m\u001b[0;34m\u001b[0m\u001b[0;34m\u001b[0m\u001b[0m\n\u001b[0;32m--> 150\u001b[0;31m       \u001b[0;32mreturn\u001b[0m \u001b[0mfn\u001b[0m\u001b[0;34m(\u001b[0m\u001b[0;34m*\u001b[0m\u001b[0margs\u001b[0m\u001b[0;34m,\u001b[0m \u001b[0;34m**\u001b[0m\u001b[0mkwargs\u001b[0m\u001b[0;34m)\u001b[0m\u001b[0;34m\u001b[0m\u001b[0;34m\u001b[0m\u001b[0m\n\u001b[0m\u001b[1;32m    151\u001b[0m     \u001b[0;32mexcept\u001b[0m \u001b[0mException\u001b[0m \u001b[0;32mas\u001b[0m \u001b[0me\u001b[0m\u001b[0;34m:\u001b[0m\u001b[0;34m\u001b[0m\u001b[0;34m\u001b[0m\u001b[0m\n\u001b[1;32m    152\u001b[0m       \u001b[0mfiltered_tb\u001b[0m \u001b[0;34m=\u001b[0m \u001b[0m_process_traceback_frames\u001b[0m\u001b[0;34m(\u001b[0m\u001b[0me\u001b[0m\u001b[0;34m.\u001b[0m\u001b[0m__traceback__\u001b[0m\u001b[0;34m)\u001b[0m\u001b[0;34m\u001b[0m\u001b[0;34m\u001b[0m\u001b[0m\n",
            "\u001b[0;32m/usr/local/lib/python3.10/dist-packages/tensorflow/python/eager/polymorphic_function/polymorphic_function.py\u001b[0m in \u001b[0;36m__call__\u001b[0;34m(self, *args, **kwds)\u001b[0m\n\u001b[1;32m    830\u001b[0m \u001b[0;34m\u001b[0m\u001b[0m\n\u001b[1;32m    831\u001b[0m       \u001b[0;32mwith\u001b[0m \u001b[0mOptionalXlaContext\u001b[0m\u001b[0;34m(\u001b[0m\u001b[0mself\u001b[0m\u001b[0;34m.\u001b[0m\u001b[0m_jit_compile\u001b[0m\u001b[0;34m)\u001b[0m\u001b[0;34m:\u001b[0m\u001b[0;34m\u001b[0m\u001b[0;34m\u001b[0m\u001b[0m\n\u001b[0;32m--> 832\u001b[0;31m         \u001b[0mresult\u001b[0m \u001b[0;34m=\u001b[0m \u001b[0mself\u001b[0m\u001b[0;34m.\u001b[0m\u001b[0m_call\u001b[0m\u001b[0;34m(\u001b[0m\u001b[0;34m*\u001b[0m\u001b[0margs\u001b[0m\u001b[0;34m,\u001b[0m \u001b[0;34m**\u001b[0m\u001b[0mkwds\u001b[0m\u001b[0;34m)\u001b[0m\u001b[0;34m\u001b[0m\u001b[0;34m\u001b[0m\u001b[0m\n\u001b[0m\u001b[1;32m    833\u001b[0m \u001b[0;34m\u001b[0m\u001b[0m\n\u001b[1;32m    834\u001b[0m       \u001b[0mnew_tracing_count\u001b[0m \u001b[0;34m=\u001b[0m \u001b[0mself\u001b[0m\u001b[0;34m.\u001b[0m\u001b[0mexperimental_get_tracing_count\u001b[0m\u001b[0;34m(\u001b[0m\u001b[0;34m)\u001b[0m\u001b[0;34m\u001b[0m\u001b[0;34m\u001b[0m\u001b[0m\n",
            "\u001b[0;32m/usr/local/lib/python3.10/dist-packages/tensorflow/python/eager/polymorphic_function/polymorphic_function.py\u001b[0m in \u001b[0;36m_call\u001b[0;34m(self, *args, **kwds)\u001b[0m\n\u001b[1;32m    866\u001b[0m       \u001b[0;31m# In this case we have created variables on the first call, so we run the\u001b[0m\u001b[0;34m\u001b[0m\u001b[0;34m\u001b[0m\u001b[0m\n\u001b[1;32m    867\u001b[0m       \u001b[0;31m# defunned version which is guaranteed to never create variables.\u001b[0m\u001b[0;34m\u001b[0m\u001b[0;34m\u001b[0m\u001b[0m\n\u001b[0;32m--> 868\u001b[0;31m       return tracing_compilation.call_function(\n\u001b[0m\u001b[1;32m    869\u001b[0m           \u001b[0margs\u001b[0m\u001b[0;34m,\u001b[0m \u001b[0mkwds\u001b[0m\u001b[0;34m,\u001b[0m \u001b[0mself\u001b[0m\u001b[0;34m.\u001b[0m\u001b[0m_no_variable_creation_config\u001b[0m\u001b[0;34m\u001b[0m\u001b[0;34m\u001b[0m\u001b[0m\n\u001b[1;32m    870\u001b[0m       )\n",
            "\u001b[0;32m/usr/local/lib/python3.10/dist-packages/tensorflow/python/eager/polymorphic_function/tracing_compilation.py\u001b[0m in \u001b[0;36mcall_function\u001b[0;34m(args, kwargs, tracing_options)\u001b[0m\n\u001b[1;32m    137\u001b[0m   \u001b[0mbound_args\u001b[0m \u001b[0;34m=\u001b[0m \u001b[0mfunction\u001b[0m\u001b[0;34m.\u001b[0m\u001b[0mfunction_type\u001b[0m\u001b[0;34m.\u001b[0m\u001b[0mbind\u001b[0m\u001b[0;34m(\u001b[0m\u001b[0;34m*\u001b[0m\u001b[0margs\u001b[0m\u001b[0;34m,\u001b[0m \u001b[0;34m**\u001b[0m\u001b[0mkwargs\u001b[0m\u001b[0;34m)\u001b[0m\u001b[0;34m\u001b[0m\u001b[0;34m\u001b[0m\u001b[0m\n\u001b[1;32m    138\u001b[0m   \u001b[0mflat_inputs\u001b[0m \u001b[0;34m=\u001b[0m \u001b[0mfunction\u001b[0m\u001b[0;34m.\u001b[0m\u001b[0mfunction_type\u001b[0m\u001b[0;34m.\u001b[0m\u001b[0munpack_inputs\u001b[0m\u001b[0;34m(\u001b[0m\u001b[0mbound_args\u001b[0m\u001b[0;34m)\u001b[0m\u001b[0;34m\u001b[0m\u001b[0;34m\u001b[0m\u001b[0m\n\u001b[0;32m--> 139\u001b[0;31m   return function._call_flat(  # pylint: disable=protected-access\n\u001b[0m\u001b[1;32m    140\u001b[0m       \u001b[0mflat_inputs\u001b[0m\u001b[0;34m,\u001b[0m \u001b[0mcaptured_inputs\u001b[0m\u001b[0;34m=\u001b[0m\u001b[0mfunction\u001b[0m\u001b[0;34m.\u001b[0m\u001b[0mcaptured_inputs\u001b[0m\u001b[0;34m\u001b[0m\u001b[0;34m\u001b[0m\u001b[0m\n\u001b[1;32m    141\u001b[0m   )\n",
            "\u001b[0;32m/usr/local/lib/python3.10/dist-packages/tensorflow/python/eager/polymorphic_function/concrete_function.py\u001b[0m in \u001b[0;36m_call_flat\u001b[0;34m(self, tensor_inputs, captured_inputs)\u001b[0m\n\u001b[1;32m   1321\u001b[0m         and executing_eagerly):\n\u001b[1;32m   1322\u001b[0m       \u001b[0;31m# No tape is watching; skip to running the function.\u001b[0m\u001b[0;34m\u001b[0m\u001b[0;34m\u001b[0m\u001b[0m\n\u001b[0;32m-> 1323\u001b[0;31m       \u001b[0;32mreturn\u001b[0m \u001b[0mself\u001b[0m\u001b[0;34m.\u001b[0m\u001b[0m_inference_function\u001b[0m\u001b[0;34m.\u001b[0m\u001b[0mcall_preflattened\u001b[0m\u001b[0;34m(\u001b[0m\u001b[0margs\u001b[0m\u001b[0;34m)\u001b[0m\u001b[0;34m\u001b[0m\u001b[0;34m\u001b[0m\u001b[0m\n\u001b[0m\u001b[1;32m   1324\u001b[0m     forward_backward = self._select_forward_and_backward_functions(\n\u001b[1;32m   1325\u001b[0m         \u001b[0margs\u001b[0m\u001b[0;34m,\u001b[0m\u001b[0;34m\u001b[0m\u001b[0;34m\u001b[0m\u001b[0m\n",
            "\u001b[0;32m/usr/local/lib/python3.10/dist-packages/tensorflow/python/eager/polymorphic_function/atomic_function.py\u001b[0m in \u001b[0;36mcall_preflattened\u001b[0;34m(self, args)\u001b[0m\n\u001b[1;32m    214\u001b[0m   \u001b[0;32mdef\u001b[0m \u001b[0mcall_preflattened\u001b[0m\u001b[0;34m(\u001b[0m\u001b[0mself\u001b[0m\u001b[0;34m,\u001b[0m \u001b[0margs\u001b[0m\u001b[0;34m:\u001b[0m \u001b[0mSequence\u001b[0m\u001b[0;34m[\u001b[0m\u001b[0mcore\u001b[0m\u001b[0;34m.\u001b[0m\u001b[0mTensor\u001b[0m\u001b[0;34m]\u001b[0m\u001b[0;34m)\u001b[0m \u001b[0;34m->\u001b[0m \u001b[0mAny\u001b[0m\u001b[0;34m:\u001b[0m\u001b[0;34m\u001b[0m\u001b[0;34m\u001b[0m\u001b[0m\n\u001b[1;32m    215\u001b[0m     \u001b[0;34m\"\"\"Calls with flattened tensor inputs and returns the structured output.\"\"\"\u001b[0m\u001b[0;34m\u001b[0m\u001b[0;34m\u001b[0m\u001b[0m\n\u001b[0;32m--> 216\u001b[0;31m     \u001b[0mflat_outputs\u001b[0m \u001b[0;34m=\u001b[0m \u001b[0mself\u001b[0m\u001b[0;34m.\u001b[0m\u001b[0mcall_flat\u001b[0m\u001b[0;34m(\u001b[0m\u001b[0;34m*\u001b[0m\u001b[0margs\u001b[0m\u001b[0;34m)\u001b[0m\u001b[0;34m\u001b[0m\u001b[0;34m\u001b[0m\u001b[0m\n\u001b[0m\u001b[1;32m    217\u001b[0m     \u001b[0;32mreturn\u001b[0m \u001b[0mself\u001b[0m\u001b[0;34m.\u001b[0m\u001b[0mfunction_type\u001b[0m\u001b[0;34m.\u001b[0m\u001b[0mpack_output\u001b[0m\u001b[0;34m(\u001b[0m\u001b[0mflat_outputs\u001b[0m\u001b[0;34m)\u001b[0m\u001b[0;34m\u001b[0m\u001b[0;34m\u001b[0m\u001b[0m\n\u001b[1;32m    218\u001b[0m \u001b[0;34m\u001b[0m\u001b[0m\n",
            "\u001b[0;32m/usr/local/lib/python3.10/dist-packages/tensorflow/python/eager/polymorphic_function/atomic_function.py\u001b[0m in \u001b[0;36mcall_flat\u001b[0;34m(self, *args)\u001b[0m\n\u001b[1;32m    249\u001b[0m         \u001b[0;32mwith\u001b[0m \u001b[0mrecord\u001b[0m\u001b[0;34m.\u001b[0m\u001b[0mstop_recording\u001b[0m\u001b[0;34m(\u001b[0m\u001b[0;34m)\u001b[0m\u001b[0;34m:\u001b[0m\u001b[0;34m\u001b[0m\u001b[0;34m\u001b[0m\u001b[0m\n\u001b[1;32m    250\u001b[0m           \u001b[0;32mif\u001b[0m \u001b[0mself\u001b[0m\u001b[0;34m.\u001b[0m\u001b[0m_bound_context\u001b[0m\u001b[0;34m.\u001b[0m\u001b[0mexecuting_eagerly\u001b[0m\u001b[0;34m(\u001b[0m\u001b[0;34m)\u001b[0m\u001b[0;34m:\u001b[0m\u001b[0;34m\u001b[0m\u001b[0;34m\u001b[0m\u001b[0m\n\u001b[0;32m--> 251\u001b[0;31m             outputs = self._bound_context.call_function(\n\u001b[0m\u001b[1;32m    252\u001b[0m                 \u001b[0mself\u001b[0m\u001b[0;34m.\u001b[0m\u001b[0mname\u001b[0m\u001b[0;34m,\u001b[0m\u001b[0;34m\u001b[0m\u001b[0;34m\u001b[0m\u001b[0m\n\u001b[1;32m    253\u001b[0m                 \u001b[0mlist\u001b[0m\u001b[0;34m(\u001b[0m\u001b[0margs\u001b[0m\u001b[0;34m)\u001b[0m\u001b[0;34m,\u001b[0m\u001b[0;34m\u001b[0m\u001b[0;34m\u001b[0m\u001b[0m\n",
            "\u001b[0;32m/usr/local/lib/python3.10/dist-packages/tensorflow/python/eager/context.py\u001b[0m in \u001b[0;36mcall_function\u001b[0;34m(self, name, tensor_inputs, num_outputs)\u001b[0m\n\u001b[1;32m   1484\u001b[0m     \u001b[0mcancellation_context\u001b[0m \u001b[0;34m=\u001b[0m \u001b[0mcancellation\u001b[0m\u001b[0;34m.\u001b[0m\u001b[0mcontext\u001b[0m\u001b[0;34m(\u001b[0m\u001b[0;34m)\u001b[0m\u001b[0;34m\u001b[0m\u001b[0;34m\u001b[0m\u001b[0m\n\u001b[1;32m   1485\u001b[0m     \u001b[0;32mif\u001b[0m \u001b[0mcancellation_context\u001b[0m \u001b[0;32mis\u001b[0m \u001b[0;32mNone\u001b[0m\u001b[0;34m:\u001b[0m\u001b[0;34m\u001b[0m\u001b[0;34m\u001b[0m\u001b[0m\n\u001b[0;32m-> 1486\u001b[0;31m       outputs = execute.execute(\n\u001b[0m\u001b[1;32m   1487\u001b[0m           \u001b[0mname\u001b[0m\u001b[0;34m.\u001b[0m\u001b[0mdecode\u001b[0m\u001b[0;34m(\u001b[0m\u001b[0;34m\"utf-8\"\u001b[0m\u001b[0;34m)\u001b[0m\u001b[0;34m,\u001b[0m\u001b[0;34m\u001b[0m\u001b[0;34m\u001b[0m\u001b[0m\n\u001b[1;32m   1488\u001b[0m           \u001b[0mnum_outputs\u001b[0m\u001b[0;34m=\u001b[0m\u001b[0mnum_outputs\u001b[0m\u001b[0;34m,\u001b[0m\u001b[0;34m\u001b[0m\u001b[0;34m\u001b[0m\u001b[0m\n",
            "\u001b[0;32m/usr/local/lib/python3.10/dist-packages/tensorflow/python/eager/execute.py\u001b[0m in \u001b[0;36mquick_execute\u001b[0;34m(op_name, num_outputs, inputs, attrs, ctx, name)\u001b[0m\n\u001b[1;32m     51\u001b[0m   \u001b[0;32mtry\u001b[0m\u001b[0;34m:\u001b[0m\u001b[0;34m\u001b[0m\u001b[0;34m\u001b[0m\u001b[0m\n\u001b[1;32m     52\u001b[0m     \u001b[0mctx\u001b[0m\u001b[0;34m.\u001b[0m\u001b[0mensure_initialized\u001b[0m\u001b[0;34m(\u001b[0m\u001b[0;34m)\u001b[0m\u001b[0;34m\u001b[0m\u001b[0;34m\u001b[0m\u001b[0m\n\u001b[0;32m---> 53\u001b[0;31m     tensors = pywrap_tfe.TFE_Py_Execute(ctx._handle, device_name, op_name,\n\u001b[0m\u001b[1;32m     54\u001b[0m                                         inputs, attrs, num_outputs)\n\u001b[1;32m     55\u001b[0m   \u001b[0;32mexcept\u001b[0m \u001b[0mcore\u001b[0m\u001b[0;34m.\u001b[0m\u001b[0m_NotOkStatusException\u001b[0m \u001b[0;32mas\u001b[0m \u001b[0me\u001b[0m\u001b[0;34m:\u001b[0m\u001b[0;34m\u001b[0m\u001b[0;34m\u001b[0m\u001b[0m\n",
            "\u001b[0;31mKeyboardInterrupt\u001b[0m: "
          ]
        }
      ]
    },
    {
      "cell_type": "code",
      "source": [],
      "metadata": {
        "id": "wWXlA7s_YoTe"
      },
      "execution_count": null,
      "outputs": []
    }
  ]
}