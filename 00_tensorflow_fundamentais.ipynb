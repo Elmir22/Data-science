{
  "nbformat": 4,
  "nbformat_minor": 0,
  "metadata": {
    "colab": {
      "provenance": [],
      "authorship_tag": "ABX9TyMND83drOeDi4Wr7RCME37K",
      "include_colab_link": true
    },
    "kernelspec": {
      "name": "python3",
      "display_name": "Python 3"
    },
    "language_info": {
      "name": "python"
    }
  },
  "cells": [
    {
      "cell_type": "markdown",
      "metadata": {
        "id": "view-in-github",
        "colab_type": "text"
      },
      "source": [
        "<a href=\"https://colab.research.google.com/github/Elmir22/Data-science-ML-models-/blob/main/00_tensorflow_fundamentais.ipynb\" target=\"_parent\"><img src=\"https://colab.research.google.com/assets/colab-badge.svg\" alt=\"Open In Colab\"/></a>"
      ]
    },
    {
      "cell_type": "markdown",
      "source": [
        "#TENSORFLOW"
      ],
      "metadata": {
        "id": "CFjYMQ9IMLnt"
      }
    },
    {
      "cell_type": "code",
      "source": [
        "import tensorflow as tf\n",
        "print(tf.__version__)"
      ],
      "metadata": {
        "colab": {
          "base_uri": "https://localhost:8080/"
        },
        "id": "6gAp5HfVP8To",
        "outputId": "c3ef6851-709f-4be4-d9aa-c6851cbd8e69"
      },
      "execution_count": 54,
      "outputs": [
        {
          "output_type": "stream",
          "name": "stdout",
          "text": [
            "2.15.0\n"
          ]
        }
      ]
    },
    {
      "cell_type": "code",
      "source": [
        "scalar = tf.constant(7)\n",
        "scalar"
      ],
      "metadata": {
        "colab": {
          "base_uri": "https://localhost:8080/"
        },
        "id": "9HJfp_j8QtPd",
        "outputId": "0ad12b6f-fbd2-451f-fbfb-be3f147e5713"
      },
      "execution_count": 55,
      "outputs": [
        {
          "output_type": "execute_result",
          "data": {
            "text/plain": [
              "<tf.Tensor: shape=(), dtype=int32, numpy=7>"
            ]
          },
          "metadata": {},
          "execution_count": 55
        }
      ]
    },
    {
      "cell_type": "code",
      "source": [
        "scalar.ndim"
      ],
      "metadata": {
        "colab": {
          "base_uri": "https://localhost:8080/"
        },
        "id": "cqgcld4WQ9GU",
        "outputId": "663602c0-08df-48e1-a3f2-b8438fc3a126"
      },
      "execution_count": 56,
      "outputs": [
        {
          "output_type": "execute_result",
          "data": {
            "text/plain": [
              "0"
            ]
          },
          "metadata": {},
          "execution_count": 56
        }
      ]
    },
    {
      "cell_type": "code",
      "source": [
        "vector = tf.constant([10,10])\n",
        "vector"
      ],
      "metadata": {
        "colab": {
          "base_uri": "https://localhost:8080/"
        },
        "id": "KPBEVDd8RMHy",
        "outputId": "5acc3566-b963-488e-d662-c1cfd70ca079"
      },
      "execution_count": 57,
      "outputs": [
        {
          "output_type": "execute_result",
          "data": {
            "text/plain": [
              "<tf.Tensor: shape=(2,), dtype=int32, numpy=array([10, 10], dtype=int32)>"
            ]
          },
          "metadata": {},
          "execution_count": 57
        }
      ]
    },
    {
      "cell_type": "code",
      "source": [],
      "metadata": {
        "id": "o5lZJChgRglQ"
      },
      "execution_count": 57,
      "outputs": []
    },
    {
      "cell_type": "code",
      "source": [
        "vector.ndim"
      ],
      "metadata": {
        "colab": {
          "base_uri": "https://localhost:8080/"
        },
        "id": "Cq0t6wwaRVm1",
        "outputId": "d8662f78-0a4f-4e8d-d250-a53a08f275ea"
      },
      "execution_count": 58,
      "outputs": [
        {
          "output_type": "execute_result",
          "data": {
            "text/plain": [
              "1"
            ]
          },
          "metadata": {},
          "execution_count": 58
        }
      ]
    },
    {
      "cell_type": "code",
      "source": [
        "matrix = tf.constant([[10,7],\n",
        "                       [7,10]])\n",
        "\n",
        "matrix"
      ],
      "metadata": {
        "colab": {
          "base_uri": "https://localhost:8080/"
        },
        "id": "per55vXDRjVw",
        "outputId": "ef762cb6-dc93-4062-9332-6b6a10cd3f8b"
      },
      "execution_count": 59,
      "outputs": [
        {
          "output_type": "execute_result",
          "data": {
            "text/plain": [
              "<tf.Tensor: shape=(2, 2), dtype=int32, numpy=\n",
              "array([[10,  7],\n",
              "       [ 7, 10]], dtype=int32)>"
            ]
          },
          "metadata": {},
          "execution_count": 59
        }
      ]
    },
    {
      "cell_type": "code",
      "source": [
        "another_matrix = tf.constant([[5., 5.],\n",
        "                              [5., 5.],\n",
        "                              [5., 5.]], dtype = tf.float32)\n",
        "\n",
        "another_matrix"
      ],
      "metadata": {
        "colab": {
          "base_uri": "https://localhost:8080/"
        },
        "id": "hzvpFD_AR7MV",
        "outputId": "03b72c55-5b93-4841-a8f7-7c879072410e"
      },
      "execution_count": 60,
      "outputs": [
        {
          "output_type": "execute_result",
          "data": {
            "text/plain": [
              "<tf.Tensor: shape=(3, 2), dtype=float32, numpy=\n",
              "array([[5., 5.],\n",
              "       [5., 5.],\n",
              "       [5., 5.]], dtype=float32)>"
            ]
          },
          "metadata": {},
          "execution_count": 60
        }
      ]
    },
    {
      "cell_type": "code",
      "source": [
        "changeable_tensor = tf.Variable([5, 7])\n",
        "unchangeable_tensor = tf.constant([5,7])\n",
        "changeable_tensor, unchangeable_tensor"
      ],
      "metadata": {
        "colab": {
          "base_uri": "https://localhost:8080/"
        },
        "id": "cKnMl4HASdxY",
        "outputId": "567dc2f1-664e-4da6-ee85-2a3046832b2e"
      },
      "execution_count": 61,
      "outputs": [
        {
          "output_type": "execute_result",
          "data": {
            "text/plain": [
              "(<tf.Variable 'Variable:0' shape=(2,) dtype=int32, numpy=array([5, 7], dtype=int32)>,\n",
              " <tf.Tensor: shape=(2,), dtype=int32, numpy=array([5, 7], dtype=int32)>)"
            ]
          },
          "metadata": {},
          "execution_count": 61
        }
      ]
    },
    {
      "cell_type": "code",
      "source": [
        "changeable_tensor[0]"
      ],
      "metadata": {
        "colab": {
          "base_uri": "https://localhost:8080/"
        },
        "id": "ZL0O2xZvTb3q",
        "outputId": "2a1ffa95-812b-4e22-d131-f3456fadce7a"
      },
      "execution_count": 62,
      "outputs": [
        {
          "output_type": "execute_result",
          "data": {
            "text/plain": [
              "<tf.Tensor: shape=(), dtype=int32, numpy=5>"
            ]
          },
          "metadata": {},
          "execution_count": 62
        }
      ]
    },
    {
      "cell_type": "code",
      "source": [
        "changeable_tensor[0].assign(2)\n",
        "changeable_tensor"
      ],
      "metadata": {
        "colab": {
          "base_uri": "https://localhost:8080/"
        },
        "id": "0zdWcF6rTp0n",
        "outputId": "a1170e69-a556-45af-f5fb-889f2dde1705"
      },
      "execution_count": 63,
      "outputs": [
        {
          "output_type": "execute_result",
          "data": {
            "text/plain": [
              "<tf.Variable 'Variable:0' shape=(2,) dtype=int32, numpy=array([2, 7], dtype=int32)>"
            ]
          },
          "metadata": {},
          "execution_count": 63
        }
      ]
    },
    {
      "cell_type": "code",
      "source": [
        "random_1 = tf.random.Generator.from_seed(42)\n",
        "random_1 = random_1.normal(shape = (3,3))\n",
        "random_1"
      ],
      "metadata": {
        "colab": {
          "base_uri": "https://localhost:8080/"
        },
        "id": "yaqgJUOuTxWp",
        "outputId": "4ca3eee1-193e-409d-c22c-409e620566cb"
      },
      "execution_count": 64,
      "outputs": [
        {
          "output_type": "execute_result",
          "data": {
            "text/plain": [
              "<tf.Tensor: shape=(3, 3), dtype=float32, numpy=\n",
              "array([[-0.7565803 , -0.06854702,  0.07595026],\n",
              "       [-1.2573844 , -0.23193763, -1.8107855 ],\n",
              "       [ 0.09988727, -0.50998646, -0.7535805 ]], dtype=float32)>"
            ]
          },
          "metadata": {},
          "execution_count": 64
        }
      ]
    },
    {
      "cell_type": "code",
      "source": [
        "not_shuffled = tf.constant([[1,5],\n",
        "                            [7,9],\n",
        "                            [3,8]])\n",
        "\n",
        "not_shuffled"
      ],
      "metadata": {
        "colab": {
          "base_uri": "https://localhost:8080/"
        },
        "id": "XT-RiPFiUQKh",
        "outputId": "04d42e00-30f4-4b38-add8-f98194a732a5"
      },
      "execution_count": 65,
      "outputs": [
        {
          "output_type": "execute_result",
          "data": {
            "text/plain": [
              "<tf.Tensor: shape=(3, 2), dtype=int32, numpy=\n",
              "array([[1, 5],\n",
              "       [7, 9],\n",
              "       [3, 8]], dtype=int32)>"
            ]
          },
          "metadata": {},
          "execution_count": 65
        }
      ]
    },
    {
      "cell_type": "code",
      "source": [
        "tf.random.shuffle(not_shuffled)"
      ],
      "metadata": {
        "colab": {
          "base_uri": "https://localhost:8080/"
        },
        "id": "JLSdQb_nW_bm",
        "outputId": "f962f64f-ec03-4ec1-8ec0-a8b2234140da"
      },
      "execution_count": 66,
      "outputs": [
        {
          "output_type": "execute_result",
          "data": {
            "text/plain": [
              "<tf.Tensor: shape=(3, 2), dtype=int32, numpy=\n",
              "array([[3, 8],\n",
              "       [1, 5],\n",
              "       [7, 9]], dtype=int32)>"
            ]
          },
          "metadata": {},
          "execution_count": 66
        }
      ]
    },
    {
      "cell_type": "code",
      "source": [
        "tf.random.set_seed(42)\n",
        "tf.random.shuffle(not_shuffled, seed=42)"
      ],
      "metadata": {
        "colab": {
          "base_uri": "https://localhost:8080/"
        },
        "id": "HVreZinuXeKO",
        "outputId": "a6163edd-b36e-444e-907d-b31843eb2f1e"
      },
      "execution_count": 67,
      "outputs": [
        {
          "output_type": "execute_result",
          "data": {
            "text/plain": [
              "<tf.Tensor: shape=(3, 2), dtype=int32, numpy=\n",
              "array([[1, 5],\n",
              "       [7, 9],\n",
              "       [3, 8]], dtype=int32)>"
            ]
          },
          "metadata": {},
          "execution_count": 67
        }
      ]
    },
    {
      "cell_type": "code",
      "source": [
        "tf.ones([3,4])"
      ],
      "metadata": {
        "colab": {
          "base_uri": "https://localhost:8080/"
        },
        "id": "p_cFkVl2YEYF",
        "outputId": "2ee50ef2-52ab-4969-d854-c27d4fef437d"
      },
      "execution_count": 68,
      "outputs": [
        {
          "output_type": "execute_result",
          "data": {
            "text/plain": [
              "<tf.Tensor: shape=(3, 4), dtype=float32, numpy=\n",
              "array([[1., 1., 1., 1.],\n",
              "       [1., 1., 1., 1.],\n",
              "       [1., 1., 1., 1.]], dtype=float32)>"
            ]
          },
          "metadata": {},
          "execution_count": 68
        }
      ]
    },
    {
      "cell_type": "code",
      "source": [
        "tf.zeros([3,4])"
      ],
      "metadata": {
        "colab": {
          "base_uri": "https://localhost:8080/"
        },
        "id": "Le0z_GFEYIQw",
        "outputId": "4bb2de5c-7067-49d4-d5bf-71aaa1b679bd"
      },
      "execution_count": 69,
      "outputs": [
        {
          "output_type": "execute_result",
          "data": {
            "text/plain": [
              "<tf.Tensor: shape=(3, 4), dtype=float32, numpy=\n",
              "array([[0., 0., 0., 0.],\n",
              "       [0., 0., 0., 0.],\n",
              "       [0., 0., 0., 0.]], dtype=float32)>"
            ]
          },
          "metadata": {},
          "execution_count": 69
        }
      ]
    },
    {
      "cell_type": "code",
      "source": [
        "import numpy as np\n",
        "\n",
        "numpy_A = np.arange(1, 25, dtype=np.int32)\n",
        "\n",
        "numpy_A"
      ],
      "metadata": {
        "colab": {
          "base_uri": "https://localhost:8080/"
        },
        "id": "y8NplaWOYLzk",
        "outputId": "51be5cc8-c612-4116-d6e9-79303a73a8eb"
      },
      "execution_count": 70,
      "outputs": [
        {
          "output_type": "execute_result",
          "data": {
            "text/plain": [
              "array([ 1,  2,  3,  4,  5,  6,  7,  8,  9, 10, 11, 12, 13, 14, 15, 16, 17,\n",
              "       18, 19, 20, 21, 22, 23, 24], dtype=int32)"
            ]
          },
          "metadata": {},
          "execution_count": 70
        }
      ]
    },
    {
      "cell_type": "code",
      "source": [
        "A = tf.constant(numpy_A, shape=(2,2,2,3))\n",
        "A"
      ],
      "metadata": {
        "colab": {
          "base_uri": "https://localhost:8080/"
        },
        "id": "3hYZfmjtYgWA",
        "outputId": "f6a93fab-6285-4af9-cc9c-bcca3c90a8c9"
      },
      "execution_count": 71,
      "outputs": [
        {
          "output_type": "execute_result",
          "data": {
            "text/plain": [
              "<tf.Tensor: shape=(2, 2, 2, 3), dtype=int32, numpy=\n",
              "array([[[[ 1,  2,  3],\n",
              "         [ 4,  5,  6]],\n",
              "\n",
              "        [[ 7,  8,  9],\n",
              "         [10, 11, 12]]],\n",
              "\n",
              "\n",
              "       [[[13, 14, 15],\n",
              "         [16, 17, 18]],\n",
              "\n",
              "        [[19, 20, 21],\n",
              "         [22, 23, 24]]]], dtype=int32)>"
            ]
          },
          "metadata": {},
          "execution_count": 71
        }
      ]
    },
    {
      "cell_type": "code",
      "source": [
        "zeros = tf.zeros([1,2,3,4,5,4])\n",
        "zeros"
      ],
      "metadata": {
        "colab": {
          "base_uri": "https://localhost:8080/"
        },
        "id": "qqQVszbgZX8f",
        "outputId": "84c8c6f9-c5e6-4b32-dbbc-07add150994a"
      },
      "execution_count": 72,
      "outputs": [
        {
          "output_type": "execute_result",
          "data": {
            "text/plain": [
              "<tf.Tensor: shape=(1, 2, 3, 4, 5, 4), dtype=float32, numpy=\n",
              "array([[[[[[0., 0., 0., 0.],\n",
              "           [0., 0., 0., 0.],\n",
              "           [0., 0., 0., 0.],\n",
              "           [0., 0., 0., 0.],\n",
              "           [0., 0., 0., 0.]],\n",
              "\n",
              "          [[0., 0., 0., 0.],\n",
              "           [0., 0., 0., 0.],\n",
              "           [0., 0., 0., 0.],\n",
              "           [0., 0., 0., 0.],\n",
              "           [0., 0., 0., 0.]],\n",
              "\n",
              "          [[0., 0., 0., 0.],\n",
              "           [0., 0., 0., 0.],\n",
              "           [0., 0., 0., 0.],\n",
              "           [0., 0., 0., 0.],\n",
              "           [0., 0., 0., 0.]],\n",
              "\n",
              "          [[0., 0., 0., 0.],\n",
              "           [0., 0., 0., 0.],\n",
              "           [0., 0., 0., 0.],\n",
              "           [0., 0., 0., 0.],\n",
              "           [0., 0., 0., 0.]]],\n",
              "\n",
              "\n",
              "         [[[0., 0., 0., 0.],\n",
              "           [0., 0., 0., 0.],\n",
              "           [0., 0., 0., 0.],\n",
              "           [0., 0., 0., 0.],\n",
              "           [0., 0., 0., 0.]],\n",
              "\n",
              "          [[0., 0., 0., 0.],\n",
              "           [0., 0., 0., 0.],\n",
              "           [0., 0., 0., 0.],\n",
              "           [0., 0., 0., 0.],\n",
              "           [0., 0., 0., 0.]],\n",
              "\n",
              "          [[0., 0., 0., 0.],\n",
              "           [0., 0., 0., 0.],\n",
              "           [0., 0., 0., 0.],\n",
              "           [0., 0., 0., 0.],\n",
              "           [0., 0., 0., 0.]],\n",
              "\n",
              "          [[0., 0., 0., 0.],\n",
              "           [0., 0., 0., 0.],\n",
              "           [0., 0., 0., 0.],\n",
              "           [0., 0., 0., 0.],\n",
              "           [0., 0., 0., 0.]]],\n",
              "\n",
              "\n",
              "         [[[0., 0., 0., 0.],\n",
              "           [0., 0., 0., 0.],\n",
              "           [0., 0., 0., 0.],\n",
              "           [0., 0., 0., 0.],\n",
              "           [0., 0., 0., 0.]],\n",
              "\n",
              "          [[0., 0., 0., 0.],\n",
              "           [0., 0., 0., 0.],\n",
              "           [0., 0., 0., 0.],\n",
              "           [0., 0., 0., 0.],\n",
              "           [0., 0., 0., 0.]],\n",
              "\n",
              "          [[0., 0., 0., 0.],\n",
              "           [0., 0., 0., 0.],\n",
              "           [0., 0., 0., 0.],\n",
              "           [0., 0., 0., 0.],\n",
              "           [0., 0., 0., 0.]],\n",
              "\n",
              "          [[0., 0., 0., 0.],\n",
              "           [0., 0., 0., 0.],\n",
              "           [0., 0., 0., 0.],\n",
              "           [0., 0., 0., 0.],\n",
              "           [0., 0., 0., 0.]]]],\n",
              "\n",
              "\n",
              "\n",
              "        [[[[0., 0., 0., 0.],\n",
              "           [0., 0., 0., 0.],\n",
              "           [0., 0., 0., 0.],\n",
              "           [0., 0., 0., 0.],\n",
              "           [0., 0., 0., 0.]],\n",
              "\n",
              "          [[0., 0., 0., 0.],\n",
              "           [0., 0., 0., 0.],\n",
              "           [0., 0., 0., 0.],\n",
              "           [0., 0., 0., 0.],\n",
              "           [0., 0., 0., 0.]],\n",
              "\n",
              "          [[0., 0., 0., 0.],\n",
              "           [0., 0., 0., 0.],\n",
              "           [0., 0., 0., 0.],\n",
              "           [0., 0., 0., 0.],\n",
              "           [0., 0., 0., 0.]],\n",
              "\n",
              "          [[0., 0., 0., 0.],\n",
              "           [0., 0., 0., 0.],\n",
              "           [0., 0., 0., 0.],\n",
              "           [0., 0., 0., 0.],\n",
              "           [0., 0., 0., 0.]]],\n",
              "\n",
              "\n",
              "         [[[0., 0., 0., 0.],\n",
              "           [0., 0., 0., 0.],\n",
              "           [0., 0., 0., 0.],\n",
              "           [0., 0., 0., 0.],\n",
              "           [0., 0., 0., 0.]],\n",
              "\n",
              "          [[0., 0., 0., 0.],\n",
              "           [0., 0., 0., 0.],\n",
              "           [0., 0., 0., 0.],\n",
              "           [0., 0., 0., 0.],\n",
              "           [0., 0., 0., 0.]],\n",
              "\n",
              "          [[0., 0., 0., 0.],\n",
              "           [0., 0., 0., 0.],\n",
              "           [0., 0., 0., 0.],\n",
              "           [0., 0., 0., 0.],\n",
              "           [0., 0., 0., 0.]],\n",
              "\n",
              "          [[0., 0., 0., 0.],\n",
              "           [0., 0., 0., 0.],\n",
              "           [0., 0., 0., 0.],\n",
              "           [0., 0., 0., 0.],\n",
              "           [0., 0., 0., 0.]]],\n",
              "\n",
              "\n",
              "         [[[0., 0., 0., 0.],\n",
              "           [0., 0., 0., 0.],\n",
              "           [0., 0., 0., 0.],\n",
              "           [0., 0., 0., 0.],\n",
              "           [0., 0., 0., 0.]],\n",
              "\n",
              "          [[0., 0., 0., 0.],\n",
              "           [0., 0., 0., 0.],\n",
              "           [0., 0., 0., 0.],\n",
              "           [0., 0., 0., 0.],\n",
              "           [0., 0., 0., 0.]],\n",
              "\n",
              "          [[0., 0., 0., 0.],\n",
              "           [0., 0., 0., 0.],\n",
              "           [0., 0., 0., 0.],\n",
              "           [0., 0., 0., 0.],\n",
              "           [0., 0., 0., 0.]],\n",
              "\n",
              "          [[0., 0., 0., 0.],\n",
              "           [0., 0., 0., 0.],\n",
              "           [0., 0., 0., 0.],\n",
              "           [0., 0., 0., 0.],\n",
              "           [0., 0., 0., 0.]]]]]], dtype=float32)>"
            ]
          },
          "metadata": {},
          "execution_count": 72
        }
      ]
    },
    {
      "cell_type": "code",
      "source": [
        "tf.rank(zeros)"
      ],
      "metadata": {
        "colab": {
          "base_uri": "https://localhost:8080/"
        },
        "id": "jjmUnLHgZ1SE",
        "outputId": "caa6eeea-2c8e-4213-92fe-65367c393e2d"
      },
      "execution_count": 73,
      "outputs": [
        {
          "output_type": "execute_result",
          "data": {
            "text/plain": [
              "<tf.Tensor: shape=(), dtype=int32, numpy=6>"
            ]
          },
          "metadata": {},
          "execution_count": 73
        }
      ]
    },
    {
      "cell_type": "code",
      "source": [
        "A.shape, A.ndim, tf.size(A), tf.rank(A)"
      ],
      "metadata": {
        "colab": {
          "base_uri": "https://localhost:8080/"
        },
        "id": "ZlDRbzt7Z4Mj",
        "outputId": "31168b43-b051-4dc3-9d65-44214950c56a"
      },
      "execution_count": 74,
      "outputs": [
        {
          "output_type": "execute_result",
          "data": {
            "text/plain": [
              "(TensorShape([2, 2, 2, 3]),\n",
              " 4,\n",
              " <tf.Tensor: shape=(), dtype=int32, numpy=24>,\n",
              " <tf.Tensor: shape=(), dtype=int32, numpy=4>)"
            ]
          },
          "metadata": {},
          "execution_count": 74
        }
      ]
    },
    {
      "cell_type": "code",
      "source": [
        "def info_about_tensor(tensor):\n",
        "  print(\"Data type of every element\", tensor.dtype)\n",
        "  print(\"Number of dimensions( Rank)\", tf.rank(tensor))\n",
        "  print(\"shape of tensor\", tensor.shape)\n",
        "  print(\"element along the 0 axis\", tensor.shape[0])\n",
        "  print(\"element along the last axis\", tensor.shape[-1])\n",
        "  print(\"total number of elements in our tensor\", tf.size(tensor).numpy())"
      ],
      "metadata": {
        "id": "qfrAdzliaOQh"
      },
      "execution_count": 75,
      "outputs": []
    },
    {
      "cell_type": "code",
      "source": [
        "info_about_tensor(A)"
      ],
      "metadata": {
        "colab": {
          "base_uri": "https://localhost:8080/"
        },
        "id": "EXbGRwRybQ0s",
        "outputId": "ae709785-3b5b-48ab-f9d0-3e8f02a69038"
      },
      "execution_count": 76,
      "outputs": [
        {
          "output_type": "stream",
          "name": "stdout",
          "text": [
            "Data type of every element <dtype: 'int32'>\n",
            "Number of dimensions( Rank) tf.Tensor(4, shape=(), dtype=int32)\n",
            "shape of tensor (2, 2, 2, 3)\n",
            "element along the 0 axis 2\n",
            "element along the last axis 3\n",
            "total number of elements in our tensor 24\n"
          ]
        }
      ]
    },
    {
      "cell_type": "code",
      "source": [
        "rank_2_tensor = tf.ones(shape=(2,3))\n",
        "rank_2_tensor"
      ],
      "metadata": {
        "colab": {
          "base_uri": "https://localhost:8080/"
        },
        "id": "HgHjHb4pbUyV",
        "outputId": "041caea6-4854-4515-86b8-6858af2e7aa9"
      },
      "execution_count": 77,
      "outputs": [
        {
          "output_type": "execute_result",
          "data": {
            "text/plain": [
              "<tf.Tensor: shape=(2, 3), dtype=float32, numpy=\n",
              "array([[1., 1., 1.],\n",
              "       [1., 1., 1.]], dtype=float32)>"
            ]
          },
          "metadata": {},
          "execution_count": 77
        }
      ]
    },
    {
      "cell_type": "code",
      "source": [
        "tf.rank(rank_2_tensor)"
      ],
      "metadata": {
        "colab": {
          "base_uri": "https://localhost:8080/"
        },
        "id": "AKlrbVYHbh4Y",
        "outputId": "6820ef63-c551-4a0a-a0b0-3b2a755d4d53"
      },
      "execution_count": 78,
      "outputs": [
        {
          "output_type": "execute_result",
          "data": {
            "text/plain": [
              "<tf.Tensor: shape=(), dtype=int32, numpy=2>"
            ]
          },
          "metadata": {},
          "execution_count": 78
        }
      ]
    },
    {
      "cell_type": "code",
      "source": [
        "rank_3_tensor = rank_2_tensor[..., tf.newaxis]\n",
        "rank_3_tensor"
      ],
      "metadata": {
        "colab": {
          "base_uri": "https://localhost:8080/"
        },
        "id": "plW0E1sFbmMr",
        "outputId": "a64a3ead-1a5d-4a1d-f2cc-cf0375c2d2ed"
      },
      "execution_count": 79,
      "outputs": [
        {
          "output_type": "execute_result",
          "data": {
            "text/plain": [
              "<tf.Tensor: shape=(2, 3, 1), dtype=float32, numpy=\n",
              "array([[[1.],\n",
              "        [1.],\n",
              "        [1.]],\n",
              "\n",
              "       [[1.],\n",
              "        [1.],\n",
              "        [1.]]], dtype=float32)>"
            ]
          },
          "metadata": {},
          "execution_count": 79
        }
      ]
    },
    {
      "cell_type": "code",
      "source": [
        "tf.expand_dims(rank_2_tensor, axis=2)"
      ],
      "metadata": {
        "colab": {
          "base_uri": "https://localhost:8080/"
        },
        "id": "WC2IJegwcDst",
        "outputId": "54815b0c-a3d1-4fba-f3e1-1920c6021262"
      },
      "execution_count": 80,
      "outputs": [
        {
          "output_type": "execute_result",
          "data": {
            "text/plain": [
              "<tf.Tensor: shape=(2, 3, 1), dtype=float32, numpy=\n",
              "array([[[1.],\n",
              "        [1.],\n",
              "        [1.]],\n",
              "\n",
              "       [[1.],\n",
              "        [1.],\n",
              "        [1.]]], dtype=float32)>"
            ]
          },
          "metadata": {},
          "execution_count": 80
        }
      ]
    },
    {
      "cell_type": "code",
      "source": [
        "tensor = tf.constant([[1,5],\n",
        "                      [7,9]])"
      ],
      "metadata": {
        "id": "Vf6I0yPacloS"
      },
      "execution_count": 81,
      "outputs": []
    },
    {
      "cell_type": "code",
      "source": [
        "tf.multiply(tensor,10)"
      ],
      "metadata": {
        "colab": {
          "base_uri": "https://localhost:8080/"
        },
        "id": "gs3X1NercdPl",
        "outputId": "eced029f-11e8-41b2-d401-1206aee7bd35"
      },
      "execution_count": 82,
      "outputs": [
        {
          "output_type": "execute_result",
          "data": {
            "text/plain": [
              "<tf.Tensor: shape=(2, 2), dtype=int32, numpy=\n",
              "array([[10, 50],\n",
              "       [70, 90]], dtype=int32)>"
            ]
          },
          "metadata": {},
          "execution_count": 82
        }
      ]
    },
    {
      "cell_type": "code",
      "source": [
        "tf.matmul(tensor, tensor)"
      ],
      "metadata": {
        "colab": {
          "base_uri": "https://localhost:8080/"
        },
        "id": "cIEXUvZWcpHN",
        "outputId": "79b15cc9-6e50-49c1-cf2b-62f38d3824f5"
      },
      "execution_count": 83,
      "outputs": [
        {
          "output_type": "execute_result",
          "data": {
            "text/plain": [
              "<tf.Tensor: shape=(2, 2), dtype=int32, numpy=\n",
              "array([[ 36,  50],\n",
              "       [ 70, 116]], dtype=int32)>"
            ]
          },
          "metadata": {},
          "execution_count": 83
        }
      ]
    },
    {
      "cell_type": "code",
      "source": [
        "tensor @ tensor"
      ],
      "metadata": {
        "colab": {
          "base_uri": "https://localhost:8080/"
        },
        "id": "YLzWOjJPdBqj",
        "outputId": "afac6d8f-2e96-46aa-fb7a-cf4ca1dd2f7a"
      },
      "execution_count": 84,
      "outputs": [
        {
          "output_type": "execute_result",
          "data": {
            "text/plain": [
              "<tf.Tensor: shape=(2, 2), dtype=int32, numpy=\n",
              "array([[ 36,  50],\n",
              "       [ 70, 116]], dtype=int32)>"
            ]
          },
          "metadata": {},
          "execution_count": 84
        }
      ]
    },
    {
      "cell_type": "code",
      "source": [
        "X = tf.constant([[1,2,3],\n",
        "                 [4,5,6]])\n",
        "Y = tf.constant([[7,8,9],\n",
        "                 [10,11,12]])\n",
        "X,Y"
      ],
      "metadata": {
        "colab": {
          "base_uri": "https://localhost:8080/"
        },
        "id": "6nPNwBMedEMR",
        "outputId": "afed04bc-6242-4e32-a2f8-d34e8eae11bc"
      },
      "execution_count": 85,
      "outputs": [
        {
          "output_type": "execute_result",
          "data": {
            "text/plain": [
              "(<tf.Tensor: shape=(2, 3), dtype=int32, numpy=\n",
              " array([[1, 2, 3],\n",
              "        [4, 5, 6]], dtype=int32)>,\n",
              " <tf.Tensor: shape=(2, 3), dtype=int32, numpy=\n",
              " array([[ 7,  8,  9],\n",
              "        [10, 11, 12]], dtype=int32)>)"
            ]
          },
          "metadata": {},
          "execution_count": 85
        }
      ]
    },
    {
      "cell_type": "code",
      "source": [
        "Y = tf.transpose(Y)\n",
        "Y"
      ],
      "metadata": {
        "colab": {
          "base_uri": "https://localhost:8080/"
        },
        "id": "2LnGdxqEdjn_",
        "outputId": "2e923bb5-ac60-4ee2-e44a-851123af2093"
      },
      "execution_count": 86,
      "outputs": [
        {
          "output_type": "execute_result",
          "data": {
            "text/plain": [
              "<tf.Tensor: shape=(3, 2), dtype=int32, numpy=\n",
              "array([[ 7, 10],\n",
              "       [ 8, 11],\n",
              "       [ 9, 12]], dtype=int32)>"
            ]
          },
          "metadata": {},
          "execution_count": 86
        }
      ]
    },
    {
      "cell_type": "code",
      "source": [
        "tf.matmul(X,Y)"
      ],
      "metadata": {
        "colab": {
          "base_uri": "https://localhost:8080/"
        },
        "id": "0RNMzdmrd0p2",
        "outputId": "05fd1b7a-14a5-477f-f2e7-523009624d47"
      },
      "execution_count": 87,
      "outputs": [
        {
          "output_type": "execute_result",
          "data": {
            "text/plain": [
              "<tf.Tensor: shape=(2, 2), dtype=int32, numpy=\n",
              "array([[ 50,  68],\n",
              "       [122, 167]], dtype=int32)>"
            ]
          },
          "metadata": {},
          "execution_count": 87
        }
      ]
    },
    {
      "cell_type": "code",
      "source": [
        "X@Y"
      ],
      "metadata": {
        "colab": {
          "base_uri": "https://localhost:8080/"
        },
        "id": "urfsKP32esa1",
        "outputId": "dff81fdd-9065-4500-c226-3bc7af5d6a3b"
      },
      "execution_count": 88,
      "outputs": [
        {
          "output_type": "execute_result",
          "data": {
            "text/plain": [
              "<tf.Tensor: shape=(2, 2), dtype=int32, numpy=\n",
              "array([[ 50,  68],\n",
              "       [122, 167]], dtype=int32)>"
            ]
          },
          "metadata": {},
          "execution_count": 88
        }
      ]
    },
    {
      "cell_type": "code",
      "source": [
        "tf.reshape(Y, shape=(2,3))"
      ],
      "metadata": {
        "colab": {
          "base_uri": "https://localhost:8080/"
        },
        "id": "0zq33phoeGP4",
        "outputId": "b4731c55-629b-4416-bf01-17051aece09f"
      },
      "execution_count": 89,
      "outputs": [
        {
          "output_type": "execute_result",
          "data": {
            "text/plain": [
              "<tf.Tensor: shape=(2, 3), dtype=int32, numpy=\n",
              "array([[ 7, 10,  8],\n",
              "       [11,  9, 12]], dtype=int32)>"
            ]
          },
          "metadata": {},
          "execution_count": 89
        }
      ]
    },
    {
      "cell_type": "code",
      "source": [
        "tf.tensordot(X,Y, axes=1)"
      ],
      "metadata": {
        "colab": {
          "base_uri": "https://localhost:8080/"
        },
        "id": "7KPI5tf3egGT",
        "outputId": "ec198379-d4a4-458d-9423-dbea14b751ba"
      },
      "execution_count": 90,
      "outputs": [
        {
          "output_type": "execute_result",
          "data": {
            "text/plain": [
              "<tf.Tensor: shape=(2, 2), dtype=int32, numpy=\n",
              "array([[ 50,  68],\n",
              "       [122, 167]], dtype=int32)>"
            ]
          },
          "metadata": {},
          "execution_count": 90
        }
      ]
    },
    {
      "cell_type": "code",
      "source": [
        "A = tf.constant([4,5])\n",
        "A.dtype"
      ],
      "metadata": {
        "colab": {
          "base_uri": "https://localhost:8080/"
        },
        "id": "2SUNGArOe1h6",
        "outputId": "22f325b6-9019-4233-cf03-75fafa6f9b14"
      },
      "execution_count": 91,
      "outputs": [
        {
          "output_type": "execute_result",
          "data": {
            "text/plain": [
              "tf.int32"
            ]
          },
          "metadata": {},
          "execution_count": 91
        }
      ]
    },
    {
      "cell_type": "code",
      "source": [
        "A = tf.cast(A, dtype=tf.int16)"
      ],
      "metadata": {
        "id": "-xd4JSaqe9bp"
      },
      "execution_count": 92,
      "outputs": []
    },
    {
      "cell_type": "code",
      "source": [
        "A.dtype"
      ],
      "metadata": {
        "colab": {
          "base_uri": "https://localhost:8080/"
        },
        "id": "WdPXDyb9fJxP",
        "outputId": "b48087a9-03c5-471f-fac4-834aab2ca373"
      },
      "execution_count": 93,
      "outputs": [
        {
          "output_type": "execute_result",
          "data": {
            "text/plain": [
              "tf.int16"
            ]
          },
          "metadata": {},
          "execution_count": 93
        }
      ]
    },
    {
      "cell_type": "code",
      "source": [
        "tf.random.set_seed(42)\n",
        "G = tf.constant(tf.random.uniform(shape = [50]), shape=[1,1,1,1,50])\n",
        "G"
      ],
      "metadata": {
        "colab": {
          "base_uri": "https://localhost:8080/"
        },
        "id": "4aH-5nh4fKpP",
        "outputId": "85a16146-9e39-4228-d126-b0a1c2be97c9"
      },
      "execution_count": 94,
      "outputs": [
        {
          "output_type": "execute_result",
          "data": {
            "text/plain": [
              "<tf.Tensor: shape=(1, 1, 1, 1, 50), dtype=float32, numpy=\n",
              "array([[[[[0.6645621 , 0.44100678, 0.3528825 , 0.46448255, 0.03366041,\n",
              "           0.68467236, 0.74011743, 0.8724445 , 0.22632635, 0.22319686,\n",
              "           0.3103881 , 0.7223358 , 0.13318717, 0.5480639 , 0.5746088 ,\n",
              "           0.8996835 , 0.00946367, 0.5212307 , 0.6345445 , 0.1993283 ,\n",
              "           0.72942245, 0.54583454, 0.10756552, 0.6767061 , 0.6602763 ,\n",
              "           0.33695042, 0.60141766, 0.21062577, 0.8527372 , 0.44062173,\n",
              "           0.9485276 , 0.23752594, 0.81179297, 0.5263394 , 0.494308  ,\n",
              "           0.21612847, 0.8457197 , 0.8718841 , 0.3083862 , 0.6868038 ,\n",
              "           0.23764038, 0.7817228 , 0.9671384 , 0.06870162, 0.79873943,\n",
              "           0.66028714, 0.5871513 , 0.16461694, 0.7381023 , 0.32054043]]]]],\n",
              "      dtype=float32)>"
            ]
          },
          "metadata": {},
          "execution_count": 94
        }
      ]
    },
    {
      "cell_type": "code",
      "source": [
        "G.shape"
      ],
      "metadata": {
        "colab": {
          "base_uri": "https://localhost:8080/"
        },
        "id": "B3yHdIHAf32L",
        "outputId": "48dfc2a1-4308-4119-93e6-038531066195"
      },
      "execution_count": 95,
      "outputs": [
        {
          "output_type": "execute_result",
          "data": {
            "text/plain": [
              "TensorShape([1, 1, 1, 1, 50])"
            ]
          },
          "metadata": {},
          "execution_count": 95
        }
      ]
    },
    {
      "cell_type": "code",
      "source": [
        "G_squeezed = tf.squeeze(G)\n",
        "G_squeezed, G_squeezed.shape"
      ],
      "metadata": {
        "colab": {
          "base_uri": "https://localhost:8080/"
        },
        "id": "Nk5rFBaNgAb6",
        "outputId": "45a32a8d-ee2f-4391-9962-c1b6a49fc394"
      },
      "execution_count": 96,
      "outputs": [
        {
          "output_type": "execute_result",
          "data": {
            "text/plain": [
              "(<tf.Tensor: shape=(50,), dtype=float32, numpy=\n",
              " array([0.6645621 , 0.44100678, 0.3528825 , 0.46448255, 0.03366041,\n",
              "        0.68467236, 0.74011743, 0.8724445 , 0.22632635, 0.22319686,\n",
              "        0.3103881 , 0.7223358 , 0.13318717, 0.5480639 , 0.5746088 ,\n",
              "        0.8996835 , 0.00946367, 0.5212307 , 0.6345445 , 0.1993283 ,\n",
              "        0.72942245, 0.54583454, 0.10756552, 0.6767061 , 0.6602763 ,\n",
              "        0.33695042, 0.60141766, 0.21062577, 0.8527372 , 0.44062173,\n",
              "        0.9485276 , 0.23752594, 0.81179297, 0.5263394 , 0.494308  ,\n",
              "        0.21612847, 0.8457197 , 0.8718841 , 0.3083862 , 0.6868038 ,\n",
              "        0.23764038, 0.7817228 , 0.9671384 , 0.06870162, 0.79873943,\n",
              "        0.66028714, 0.5871513 , 0.16461694, 0.7381023 , 0.32054043],\n",
              "       dtype=float32)>,\n",
              " TensorShape([50]))"
            ]
          },
          "metadata": {},
          "execution_count": 96
        }
      ]
    },
    {
      "cell_type": "code",
      "source": [
        "tf.config.list_physical_devices()"
      ],
      "metadata": {
        "colab": {
          "base_uri": "https://localhost:8080/"
        },
        "id": "7bUww450gYa0",
        "outputId": "d01c360f-2f6f-4862-88eb-42686554fbf4"
      },
      "execution_count": 97,
      "outputs": [
        {
          "output_type": "execute_result",
          "data": {
            "text/plain": [
              "[PhysicalDevice(name='/physical_device:CPU:0', device_type='CPU')]"
            ]
          },
          "metadata": {},
          "execution_count": 97
        }
      ]
    },
    {
      "cell_type": "code",
      "source": [
        "!nvidia-smi"
      ],
      "metadata": {
        "colab": {
          "base_uri": "https://localhost:8080/"
        },
        "id": "uaC7Smt7gkQo",
        "outputId": "ead76c7c-1973-4259-b975-86105dd1bca0"
      },
      "execution_count": 98,
      "outputs": [
        {
          "output_type": "stream",
          "name": "stdout",
          "text": [
            "/bin/bash: line 1: nvidia-smi: command not found\n"
          ]
        }
      ]
    },
    {
      "cell_type": "code",
      "source": [
        "scalar = tf.constant(10)\n",
        "scalar"
      ],
      "metadata": {
        "colab": {
          "base_uri": "https://localhost:8080/"
        },
        "id": "0XzlKbiThyE2",
        "outputId": "800a3503-2f0a-4b74-db19-ae6de15c9538"
      },
      "execution_count": 99,
      "outputs": [
        {
          "output_type": "execute_result",
          "data": {
            "text/plain": [
              "<tf.Tensor: shape=(), dtype=int32, numpy=10>"
            ]
          },
          "metadata": {},
          "execution_count": 99
        }
      ]
    },
    {
      "cell_type": "code",
      "source": [
        "vector = tf.constant([10,10])\n",
        "vector"
      ],
      "metadata": {
        "colab": {
          "base_uri": "https://localhost:8080/"
        },
        "id": "RMOYORjQiDOf",
        "outputId": "d5b2a088-37e2-4f48-b114-c251ae93bfa0"
      },
      "execution_count": 100,
      "outputs": [
        {
          "output_type": "execute_result",
          "data": {
            "text/plain": [
              "<tf.Tensor: shape=(2,), dtype=int32, numpy=array([10, 10], dtype=int32)>"
            ]
          },
          "metadata": {},
          "execution_count": 100
        }
      ]
    },
    {
      "cell_type": "code",
      "source": [
        "matrix = tf.constant([[1,2],\n",
        "                      [3,4]])\n",
        "\n",
        "matrix"
      ],
      "metadata": {
        "colab": {
          "base_uri": "https://localhost:8080/"
        },
        "id": "mQ8I1SQRiO7d",
        "outputId": "c9c9c286-93fa-4a68-b798-26fed6c4dae1"
      },
      "execution_count": 101,
      "outputs": [
        {
          "output_type": "execute_result",
          "data": {
            "text/plain": [
              "<tf.Tensor: shape=(2, 2), dtype=int32, numpy=\n",
              "array([[1, 2],\n",
              "       [3, 4]], dtype=int32)>"
            ]
          },
          "metadata": {},
          "execution_count": 101
        }
      ]
    },
    {
      "cell_type": "code",
      "source": [
        "vector.shape"
      ],
      "metadata": {
        "colab": {
          "base_uri": "https://localhost:8080/"
        },
        "id": "AGBTsLIGiXcy",
        "outputId": "0a3917b4-7cfe-4e4b-8bd1-cb937cc83575"
      },
      "execution_count": 102,
      "outputs": [
        {
          "output_type": "execute_result",
          "data": {
            "text/plain": [
              "TensorShape([2])"
            ]
          },
          "metadata": {},
          "execution_count": 102
        }
      ]
    },
    {
      "cell_type": "code",
      "source": [
        "tf.rank(vector)"
      ],
      "metadata": {
        "colab": {
          "base_uri": "https://localhost:8080/"
        },
        "id": "J8ReqjCkifvQ",
        "outputId": "999d06b0-a21b-4c9e-ee51-4d5afea31e2c"
      },
      "execution_count": 103,
      "outputs": [
        {
          "output_type": "execute_result",
          "data": {
            "text/plain": [
              "<tf.Tensor: shape=(), dtype=int32, numpy=1>"
            ]
          },
          "metadata": {},
          "execution_count": 103
        }
      ]
    },
    {
      "cell_type": "code",
      "source": [
        "tf.size(matrix)"
      ],
      "metadata": {
        "colab": {
          "base_uri": "https://localhost:8080/"
        },
        "id": "GJIDKoM1isEU",
        "outputId": "49e710f6-6a3b-4fa4-9d56-efa3a5fae66f"
      },
      "execution_count": 104,
      "outputs": [
        {
          "output_type": "execute_result",
          "data": {
            "text/plain": [
              "<tf.Tensor: shape=(), dtype=int32, numpy=4>"
            ]
          },
          "metadata": {},
          "execution_count": 104
        }
      ]
    },
    {
      "cell_type": "code",
      "source": [
        "A = tf.random.normal(shape = (5,300))\n",
        "B = tf.random.normal(shape=(5,300))\n",
        "A\n",
        "B"
      ],
      "metadata": {
        "colab": {
          "base_uri": "https://localhost:8080/"
        },
        "id": "CAJfCBdDjQZj",
        "outputId": "ea99db24-dc27-4444-f97b-9142b7f50783"
      },
      "execution_count": 108,
      "outputs": [
        {
          "output_type": "execute_result",
          "data": {
            "text/plain": [
              "<tf.Tensor: shape=(5, 300), dtype=float32, numpy=\n",
              "array([[ 0.65648675, -0.4130517 ,  0.33997506, ...,  1.5067012 ,\n",
              "        -1.7496731 , -0.43718383],\n",
              "       [-1.8551657 ,  0.77431184, -1.4388843 , ...,  1.297969  ,\n",
              "         0.5977896 ,  1.4488887 ],\n",
              "       [ 0.21232678, -1.5755495 ,  0.51170474, ..., -0.26204854,\n",
              "         0.32715818, -0.9001915 ],\n",
              "       [-2.728014  ,  0.5940714 ,  1.7169899 , ..., -0.01683606,\n",
              "         0.20941465, -1.2812121 ],\n",
              "       [ 0.09398963,  1.6349261 ,  1.7401077 , ..., -1.4561347 ,\n",
              "         0.08837848, -0.06626268]], dtype=float32)>"
            ]
          },
          "metadata": {},
          "execution_count": 108
        }
      ]
    },
    {
      "cell_type": "code",
      "source": [
        "B= tf.transpose(B)"
      ],
      "metadata": {
        "id": "88OY58CmjlPJ"
      },
      "execution_count": 110,
      "outputs": []
    },
    {
      "cell_type": "code",
      "source": [
        "A@B"
      ],
      "metadata": {
        "colab": {
          "base_uri": "https://localhost:8080/"
        },
        "id": "WLdb4qUfkJNA",
        "outputId": "52bdc70c-cba1-4924-a027-2d53e45384bb"
      },
      "execution_count": 111,
      "outputs": [
        {
          "output_type": "execute_result",
          "data": {
            "text/plain": [
              "<tf.Tensor: shape=(5, 5), dtype=float32, numpy=\n",
              "array([[  1.1065745 , -22.983181  , -21.469358  , -13.420372  ,\n",
              "         23.215508  ],\n",
              "       [ -5.7122965 , -10.096172  ,  28.399124  , -12.702354  ,\n",
              "        -18.722439  ],\n",
              "       [-23.494946  ,  14.154114  ,   1.6560097 , -15.851512  ,\n",
              "        -37.578484  ],\n",
              "       [-21.221027  ,  33.993355  ,  14.518611  ,  -0.87672234,\n",
              "          7.129793  ],\n",
              "       [ 12.1591625 ,   9.512866  , -15.867203  ,  14.077565  ,\n",
              "         26.852705  ]], dtype=float32)>"
            ]
          },
          "metadata": {},
          "execution_count": 111
        }
      ]
    },
    {
      "cell_type": "code",
      "source": [
        "tf.tensordot(A,B, axes=1)"
      ],
      "metadata": {
        "colab": {
          "base_uri": "https://localhost:8080/"
        },
        "id": "T0k7iqHukMYm",
        "outputId": "c5f3992a-84f0-4359-f257-3849a5cf5c62"
      },
      "execution_count": 113,
      "outputs": [
        {
          "output_type": "execute_result",
          "data": {
            "text/plain": [
              "<tf.Tensor: shape=(5, 5), dtype=float32, numpy=\n",
              "array([[  1.1065745 , -22.983181  , -21.469358  , -13.420372  ,\n",
              "         23.215508  ],\n",
              "       [ -5.7122965 , -10.096172  ,  28.399124  , -12.702354  ,\n",
              "        -18.722439  ],\n",
              "       [-23.494946  ,  14.154114  ,   1.6560097 , -15.851512  ,\n",
              "        -37.578484  ],\n",
              "       [-21.221027  ,  33.993355  ,  14.518611  ,  -0.87672234,\n",
              "          7.129793  ],\n",
              "       [ 12.1591625 ,   9.512866  , -15.867203  ,  14.077565  ,\n",
              "         26.852705  ]], dtype=float32)>"
            ]
          },
          "metadata": {},
          "execution_count": 113
        }
      ]
    },
    {
      "cell_type": "code",
      "source": [
        "a = tf.random.uniform([224, 224, 3])\n",
        "a"
      ],
      "metadata": {
        "colab": {
          "base_uri": "https://localhost:8080/"
        },
        "id": "1jBmBzggkfJI",
        "outputId": "eb5472bc-c6d8-4870-a37c-8970953c3d8b"
      },
      "execution_count": 122,
      "outputs": [
        {
          "output_type": "execute_result",
          "data": {
            "text/plain": [
              "<tf.Tensor: shape=(224, 224, 3), dtype=float32, numpy=\n",
              "array([[[0.2046014 , 0.82478166, 0.81674874],\n",
              "        [0.57813525, 0.72301936, 0.9893687 ],\n",
              "        [0.33879173, 0.4470011 , 0.24898088],\n",
              "        ...,\n",
              "        [0.574314  , 0.6185826 , 0.4371407 ],\n",
              "        [0.45086288, 0.673488  , 0.19694173],\n",
              "        [0.7261505 , 0.4120711 , 0.11013401]],\n",
              "\n",
              "       [[0.6134424 , 0.91840196, 0.6838045 ],\n",
              "        [0.89331627, 0.67425346, 0.60953534],\n",
              "        [0.36227953, 0.00483751, 0.22489178],\n",
              "        ...,\n",
              "        [0.84603393, 0.24309051, 0.18531716],\n",
              "        [0.5195565 , 0.6304064 , 0.7182379 ],\n",
              "        [0.22715592, 0.4978919 , 0.8341614 ]],\n",
              "\n",
              "       [[0.15624535, 0.1719867 , 0.6037985 ],\n",
              "        [0.86916864, 0.16423154, 0.9619628 ],\n",
              "        [0.37755537, 0.9332715 , 0.8822973 ],\n",
              "        ...,\n",
              "        [0.82203424, 0.9220053 , 0.45980155],\n",
              "        [0.66036093, 0.23616183, 0.37692404],\n",
              "        [0.05016053, 0.35180223, 0.3742    ]],\n",
              "\n",
              "       ...,\n",
              "\n",
              "       [[0.08419359, 0.1039772 , 0.10614038],\n",
              "        [0.76690435, 0.1748004 , 0.90624845],\n",
              "        [0.14625955, 0.73118234, 0.9288664 ],\n",
              "        ...,\n",
              "        [0.5202912 , 0.24843848, 0.3308599 ],\n",
              "        [0.8984262 , 0.5088519 , 0.04869831],\n",
              "        [0.6854204 , 0.19121027, 0.10687745]],\n",
              "\n",
              "       [[0.05885875, 0.26065063, 0.59566724],\n",
              "        [0.66117096, 0.15126562, 0.863932  ],\n",
              "        [0.83801186, 0.04528403, 0.40604365],\n",
              "        ...,\n",
              "        [0.7675276 , 0.7469387 , 0.0471561 ],\n",
              "        [0.66339207, 0.46347725, 0.7286333 ],\n",
              "        [0.9598675 , 0.64756024, 0.32247138]],\n",
              "\n",
              "       [[0.88301   , 0.6767136 , 0.8521973 ],\n",
              "        [0.68337905, 0.8854543 , 0.24606872],\n",
              "        [0.626539  , 0.7273047 , 0.37921572],\n",
              "        ...,\n",
              "        [0.47842324, 0.415146  , 0.92559075],\n",
              "        [0.16227007, 0.17625594, 0.7387748 ],\n",
              "        [0.42276406, 0.62422204, 0.14089334]]], dtype=float32)>"
            ]
          },
          "metadata": {},
          "execution_count": 122
        }
      ]
    },
    {
      "cell_type": "code",
      "source": [
        "tf.reduce_max(a)"
      ],
      "metadata": {
        "colab": {
          "base_uri": "https://localhost:8080/"
        },
        "id": "tY3jKx0Vkz8c",
        "outputId": "168596a4-1f81-45de-b689-5cf395da32ce"
      },
      "execution_count": 126,
      "outputs": [
        {
          "output_type": "execute_result",
          "data": {
            "text/plain": [
              "<tf.Tensor: shape=(), dtype=float32, numpy=0.9999887>"
            ]
          },
          "metadata": {},
          "execution_count": 126
        }
      ]
    },
    {
      "cell_type": "code",
      "source": [
        "tf.reduce_min(a)"
      ],
      "metadata": {
        "colab": {
          "base_uri": "https://localhost:8080/"
        },
        "id": "kjtIqQ7jmmiO",
        "outputId": "3d00cfe4-6a0b-42c3-ae1c-fc483e1f3417"
      },
      "execution_count": 127,
      "outputs": [
        {
          "output_type": "execute_result",
          "data": {
            "text/plain": [
              "<tf.Tensor: shape=(), dtype=float32, numpy=8.34465e-07>"
            ]
          },
          "metadata": {},
          "execution_count": 127
        }
      ]
    },
    {
      "cell_type": "code",
      "source": [
        "a = tf.random.uniform([1,224, 224, 3])\n",
        "a"
      ],
      "metadata": {
        "colab": {
          "base_uri": "https://localhost:8080/"
        },
        "id": "sJe8mP7vmyIq",
        "outputId": "f590c01a-92bd-4a88-dfcf-07982fc26280"
      },
      "execution_count": 128,
      "outputs": [
        {
          "output_type": "execute_result",
          "data": {
            "text/plain": [
              "<tf.Tensor: shape=(1, 224, 224, 3), dtype=float32, numpy=\n",
              "array([[[[0.12780273, 0.86230123, 0.41563296],\n",
              "         [0.10028672, 0.6078365 , 0.79052174],\n",
              "         [0.06068337, 0.85674644, 0.72001266],\n",
              "         ...,\n",
              "         [0.42501688, 0.777889  , 0.7029644 ],\n",
              "         [0.00265503, 0.4391595 , 0.89044964],\n",
              "         [0.63493025, 0.87544703, 0.943701  ]],\n",
              "\n",
              "        [[0.6613052 , 0.37710202, 0.51483595],\n",
              "         [0.50989354, 0.9679649 , 0.45765674],\n",
              "         [0.2590027 , 0.3557694 , 0.26365137],\n",
              "         ...,\n",
              "         [0.3261726 , 0.49975753, 0.1813755 ],\n",
              "         [0.6064073 , 0.8051214 , 0.320701  ],\n",
              "         [0.32923293, 0.5298729 , 0.39044487]],\n",
              "\n",
              "        [[0.34140837, 0.47335994, 0.01272404],\n",
              "         [0.47659898, 0.47509444, 0.8660991 ],\n",
              "         [0.16929126, 0.09049737, 0.09263301],\n",
              "         ...,\n",
              "         [0.15332878, 0.2546159 , 0.9531114 ],\n",
              "         [0.10869956, 0.5302429 , 0.8690088 ],\n",
              "         [0.6384195 , 0.19085515, 0.35851824]],\n",
              "\n",
              "        ...,\n",
              "\n",
              "        [[0.62105274, 0.22180116, 0.71062243],\n",
              "         [0.2760619 , 0.534371  , 0.57929456],\n",
              "         [0.6951517 , 0.4360646 , 0.36224568],\n",
              "         ...,\n",
              "         [0.7310444 , 0.16223037, 0.15594482],\n",
              "         [0.6054821 , 0.1953907 , 0.40999198],\n",
              "         [0.40544462, 0.5209774 , 0.67243516]],\n",
              "\n",
              "        [[0.7837734 , 0.88498044, 0.02635729],\n",
              "         [0.4288063 , 0.79856837, 0.46096778],\n",
              "         [0.32964838, 0.7818209 , 0.01215923],\n",
              "         ...,\n",
              "         [0.66016924, 0.5416131 , 0.37710178],\n",
              "         [0.36280656, 0.9870597 , 0.7095666 ],\n",
              "         [0.10434592, 0.7066307 , 0.45667446]],\n",
              "\n",
              "        [[0.6604539 , 0.88204646, 0.4301014 ],\n",
              "         [0.84370863, 0.74285805, 0.69202363],\n",
              "         [0.03373718, 0.90288174, 0.66989625],\n",
              "         ...,\n",
              "         [0.7885982 , 0.71563256, 0.01616442],\n",
              "         [0.13505852, 0.93135524, 0.18757498],\n",
              "         [0.48897624, 0.6072701 , 0.5179914 ]]]], dtype=float32)>"
            ]
          },
          "metadata": {},
          "execution_count": 128
        }
      ]
    },
    {
      "cell_type": "code",
      "source": [
        "a_squeezed = tf.squeeze(a)\n",
        "a_squeezed, a_squeezed.shape"
      ],
      "metadata": {
        "colab": {
          "base_uri": "https://localhost:8080/"
        },
        "id": "qTDqv_Ngm-rz",
        "outputId": "99e55224-2df2-4efd-db8d-8ce06b218e09"
      },
      "execution_count": 129,
      "outputs": [
        {
          "output_type": "execute_result",
          "data": {
            "text/plain": [
              "(<tf.Tensor: shape=(224, 224, 3), dtype=float32, numpy=\n",
              " array([[[0.12780273, 0.86230123, 0.41563296],\n",
              "         [0.10028672, 0.6078365 , 0.79052174],\n",
              "         [0.06068337, 0.85674644, 0.72001266],\n",
              "         ...,\n",
              "         [0.42501688, 0.777889  , 0.7029644 ],\n",
              "         [0.00265503, 0.4391595 , 0.89044964],\n",
              "         [0.63493025, 0.87544703, 0.943701  ]],\n",
              " \n",
              "        [[0.6613052 , 0.37710202, 0.51483595],\n",
              "         [0.50989354, 0.9679649 , 0.45765674],\n",
              "         [0.2590027 , 0.3557694 , 0.26365137],\n",
              "         ...,\n",
              "         [0.3261726 , 0.49975753, 0.1813755 ],\n",
              "         [0.6064073 , 0.8051214 , 0.320701  ],\n",
              "         [0.32923293, 0.5298729 , 0.39044487]],\n",
              " \n",
              "        [[0.34140837, 0.47335994, 0.01272404],\n",
              "         [0.47659898, 0.47509444, 0.8660991 ],\n",
              "         [0.16929126, 0.09049737, 0.09263301],\n",
              "         ...,\n",
              "         [0.15332878, 0.2546159 , 0.9531114 ],\n",
              "         [0.10869956, 0.5302429 , 0.8690088 ],\n",
              "         [0.6384195 , 0.19085515, 0.35851824]],\n",
              " \n",
              "        ...,\n",
              " \n",
              "        [[0.62105274, 0.22180116, 0.71062243],\n",
              "         [0.2760619 , 0.534371  , 0.57929456],\n",
              "         [0.6951517 , 0.4360646 , 0.36224568],\n",
              "         ...,\n",
              "         [0.7310444 , 0.16223037, 0.15594482],\n",
              "         [0.6054821 , 0.1953907 , 0.40999198],\n",
              "         [0.40544462, 0.5209774 , 0.67243516]],\n",
              " \n",
              "        [[0.7837734 , 0.88498044, 0.02635729],\n",
              "         [0.4288063 , 0.79856837, 0.46096778],\n",
              "         [0.32964838, 0.7818209 , 0.01215923],\n",
              "         ...,\n",
              "         [0.66016924, 0.5416131 , 0.37710178],\n",
              "         [0.36280656, 0.9870597 , 0.7095666 ],\n",
              "         [0.10434592, 0.7066307 , 0.45667446]],\n",
              " \n",
              "        [[0.6604539 , 0.88204646, 0.4301014 ],\n",
              "         [0.84370863, 0.74285805, 0.69202363],\n",
              "         [0.03373718, 0.90288174, 0.66989625],\n",
              "         ...,\n",
              "         [0.7885982 , 0.71563256, 0.01616442],\n",
              "         [0.13505852, 0.93135524, 0.18757498],\n",
              "         [0.48897624, 0.6072701 , 0.5179914 ]]], dtype=float32)>,\n",
              " TensorShape([224, 224, 3]))"
            ]
          },
          "metadata": {},
          "execution_count": 129
        }
      ]
    },
    {
      "cell_type": "code",
      "source": [
        "A = tf.constant([2, 20, 30, 3, 50])\n",
        "tf.argmax(A)"
      ],
      "metadata": {
        "colab": {
          "base_uri": "https://localhost:8080/"
        },
        "id": "0cB2od8BnS0Y",
        "outputId": "4150786f-7e0c-4a47-a118-fcc50e223edb"
      },
      "execution_count": 132,
      "outputs": [
        {
          "output_type": "execute_result",
          "data": {
            "text/plain": [
              "<tf.Tensor: shape=(), dtype=int64, numpy=4>"
            ]
          },
          "metadata": {},
          "execution_count": 132
        }
      ]
    }
  ]
}