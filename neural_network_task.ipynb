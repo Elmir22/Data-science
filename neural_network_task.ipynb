{
  "cells": [
    {
      "cell_type": "markdown",
      "metadata": {
        "id": "view-in-github",
        "colab_type": "text"
      },
      "source": [
        "<a href=\"https://colab.research.google.com/github/Elmir22/Data-science-ML-models-/blob/main/neural_network_task.ipynb\" target=\"_parent\"><img src=\"https://colab.research.google.com/assets/colab-badge.svg\" alt=\"Open In Colab\"/></a>"
      ]
    },
    {
      "cell_type": "code",
      "execution_count": 1,
      "metadata": {
        "id": "VlC2jdgqmQgR"
      },
      "outputs": [],
      "source": [
        "import numpy as np\n",
        "from sklearn.linear_model import Perceptron\n",
        "import tensorflow as tf\n",
        "from tensorflow.keras.datasets import mnist\n",
        "from tensorflow.keras.models import Sequential\n",
        "from tensorflow.keras.layers import Flatten, Dense\n",
        "from tensorflow import keras\n",
        "from tensorflow.keras.optimizers import Adam\n",
        "from tensorflow.keras.callbacks import ModelCheckpoint, EarlyStopping, TensorBoard\n",
        "import datetime\n"
      ]
    },
    {
      "cell_type": "code",
      "execution_count": 2,
      "metadata": {
        "id": "qu1uWD3mnP6W",
        "colab": {
          "base_uri": "https://localhost:8080/"
        },
        "outputId": "43ec1891-014a-481e-b5cc-165b1af7bdf9"
      },
      "outputs": [
        {
          "output_type": "stream",
          "name": "stdout",
          "text": [
            "Downloading data from https://storage.googleapis.com/tensorflow/tf-keras-datasets/mnist.npz\n",
            "11490434/11490434 [==============================] - 0s 0us/step\n"
          ]
        }
      ],
      "source": [
        "(X_train, y_train), (X_test, y_test) = mnist.load_data()\n"
      ]
    },
    {
      "cell_type": "code",
      "execution_count": 3,
      "metadata": {
        "colab": {
          "base_uri": "https://localhost:8080/",
          "height": 185
        },
        "id": "atBLfGTZyM-r",
        "outputId": "b0f13743-1252-40a3-8e7a-949126749a3d"
      },
      "outputs": [
        {
          "output_type": "execute_result",
          "data": {
            "text/plain": [
              "<function keras.src.datasets.mnist.load_data(path='mnist.npz')>"
            ],
            "text/html": [
              "<div style=\"max-width:800px; border: 1px solid var(--colab-border-color);\"><style>\n",
              "      pre.function-repr-contents {\n",
              "        overflow-x: auto;\n",
              "        padding: 8px 12px;\n",
              "        max-height: 500px;\n",
              "      }\n",
              "\n",
              "      pre.function-repr-contents.function-repr-contents-collapsed {\n",
              "        cursor: pointer;\n",
              "        max-height: 100px;\n",
              "      }\n",
              "    </style>\n",
              "    <pre style=\"white-space: initial; background:\n",
              "         var(--colab-secondary-surface-color); padding: 8px 12px;\n",
              "         border-bottom: 1px solid var(--colab-border-color);\"><b>keras.src.datasets.mnist.load_data</b><br/>def load_data(path=&#x27;mnist.npz&#x27;)</pre><pre class=\"function-repr-contents function-repr-contents-collapsed\" style=\"\"><a class=\"filepath\" style=\"display:none\" href=\"#\">/usr/local/lib/python3.10/dist-packages/keras/src/datasets/mnist.py</a>Loads the MNIST dataset.\n",
              "\n",
              "This is a dataset of 60,000 28x28 grayscale images of the 10 digits,\n",
              "along with a test set of 10,000 images.\n",
              "More info can be found at the\n",
              "[MNIST homepage](http://yann.lecun.com/exdb/mnist/).\n",
              "\n",
              "Args:\n",
              "  path: path where to cache the dataset locally\n",
              "    (relative to `~/.keras/datasets`).\n",
              "\n",
              "Returns:\n",
              "  Tuple of NumPy arrays: `(x_train, y_train), (x_test, y_test)`.\n",
              "\n",
              "**x_train**: uint8 NumPy array of grayscale image data with shapes\n",
              "  `(60000, 28, 28)`, containing the training data. Pixel values range\n",
              "  from 0 to 255.\n",
              "\n",
              "**y_train**: uint8 NumPy array of digit labels (integers in range 0-9)\n",
              "  with shape `(60000,)` for the training data.\n",
              "\n",
              "**x_test**: uint8 NumPy array of grayscale image data with shapes\n",
              "  (10000, 28, 28), containing the test data. Pixel values range\n",
              "  from 0 to 255.\n",
              "\n",
              "**y_test**: uint8 NumPy array of digit labels (integers in range 0-9)\n",
              "  with shape `(10000,)` for the test data.\n",
              "\n",
              "Example:\n",
              "\n",
              "```python\n",
              "(x_train, y_train), (x_test, y_test) = keras.datasets.mnist.load_data()\n",
              "assert x_train.shape == (60000, 28, 28)\n",
              "assert x_test.shape == (10000, 28, 28)\n",
              "assert y_train.shape == (60000,)\n",
              "assert y_test.shape == (10000,)\n",
              "```\n",
              "\n",
              "License:\n",
              "  Yann LeCun and Corinna Cortes hold the copyright of MNIST dataset,\n",
              "  which is a derivative work from original NIST datasets.\n",
              "  MNIST dataset is made available under the terms of the\n",
              "  [Creative Commons Attribution-Share Alike 3.0 license.](\n",
              "  https://creativecommons.org/licenses/by-sa/3.0/)</pre>\n",
              "      <script>\n",
              "      if (google.colab.kernel.accessAllowed && google.colab.files && google.colab.files.view) {\n",
              "        for (const element of document.querySelectorAll('.filepath')) {\n",
              "          element.style.display = 'block'\n",
              "          element.onclick = (event) => {\n",
              "            event.preventDefault();\n",
              "            event.stopPropagation();\n",
              "            google.colab.files.view(element.textContent, 25);\n",
              "          };\n",
              "        }\n",
              "      }\n",
              "      for (const element of document.querySelectorAll('.function-repr-contents')) {\n",
              "        element.onclick = (event) => {\n",
              "          event.preventDefault();\n",
              "          event.stopPropagation();\n",
              "          element.classList.toggle('function-repr-contents-collapsed');\n",
              "        };\n",
              "      }\n",
              "      </script>\n",
              "      </div>"
            ]
          },
          "metadata": {},
          "execution_count": 3
        }
      ],
      "source": [
        "mnist.load_data"
      ]
    },
    {
      "cell_type": "code",
      "execution_count": 4,
      "metadata": {
        "id": "nxJ1y0TloXvw"
      },
      "outputs": [],
      "source": [
        "X_train = X_train / 255.0\n",
        "X_test = X_test / 255.0"
      ]
    },
    {
      "cell_type": "code",
      "execution_count": 5,
      "metadata": {
        "id": "q4KlKa1GsGbg"
      },
      "outputs": [],
      "source": [
        "from sklearn.model_selection import train_test_split\n",
        "X_train, X_val, y_train, y_val = train_test_split(X_train, y_train, random_state=42)"
      ]
    },
    {
      "cell_type": "code",
      "execution_count": 6,
      "metadata": {
        "colab": {
          "base_uri": "https://localhost:8080/"
        },
        "id": "hhz2BGTopp0D",
        "outputId": "dd22ef07-04ce-4641-bf3b-64568236a98c"
      },
      "outputs": [
        {
          "output_type": "stream",
          "name": "stdout",
          "text": [
            "Epoch 1/20\n",
            "1407/1407 [==============================] - 36s 24ms/step - loss: 2.1564 - accuracy: 0.3260 - val_loss: 1.9100 - val_accuracy: 0.6310\n",
            "Epoch 2/20\n",
            "1407/1407 [==============================] - 24s 17ms/step - loss: 1.3939 - accuracy: 0.7347 - val_loss: 0.9007 - val_accuracy: 0.7987\n",
            "Epoch 3/20\n",
            "1407/1407 [==============================] - 24s 17ms/step - loss: 0.6867 - accuracy: 0.8345 - val_loss: 0.5530 - val_accuracy: 0.8521\n",
            "Epoch 4/20\n",
            "1407/1407 [==============================] - 25s 18ms/step - loss: 0.4845 - accuracy: 0.8726 - val_loss: 0.4349 - val_accuracy: 0.8829\n",
            "Epoch 5/20\n",
            "1407/1407 [==============================] - 25s 18ms/step - loss: 0.3986 - accuracy: 0.8918 - val_loss: 0.3753 - val_accuracy: 0.8964\n",
            "Epoch 6/20\n",
            "1407/1407 [==============================] - 24s 17ms/step - loss: 0.3501 - accuracy: 0.9038 - val_loss: 0.3385 - val_accuracy: 0.9051\n",
            "Epoch 7/20\n",
            "1407/1407 [==============================] - 25s 17ms/step - loss: 0.3182 - accuracy: 0.9096 - val_loss: 0.3104 - val_accuracy: 0.9134\n",
            "Epoch 8/20\n",
            "1407/1407 [==============================] - 25s 18ms/step - loss: 0.2945 - accuracy: 0.9166 - val_loss: 0.2882 - val_accuracy: 0.9182\n",
            "Epoch 9/20\n",
            "1407/1407 [==============================] - 24s 17ms/step - loss: 0.2756 - accuracy: 0.9204 - val_loss: 0.2832 - val_accuracy: 0.9193\n",
            "Epoch 10/20\n",
            "1407/1407 [==============================] - 25s 18ms/step - loss: 0.2598 - accuracy: 0.9259 - val_loss: 0.2629 - val_accuracy: 0.9257\n",
            "Epoch 11/20\n",
            "1407/1407 [==============================] - 25s 18ms/step - loss: 0.2457 - accuracy: 0.9292 - val_loss: 0.2520 - val_accuracy: 0.9288\n",
            "Epoch 12/20\n",
            "1407/1407 [==============================] - 25s 18ms/step - loss: 0.2335 - accuracy: 0.9337 - val_loss: 0.2381 - val_accuracy: 0.9327\n",
            "Epoch 13/20\n",
            "1407/1407 [==============================] - 25s 18ms/step - loss: 0.2224 - accuracy: 0.9363 - val_loss: 0.2262 - val_accuracy: 0.9367\n",
            "Epoch 14/20\n",
            "1407/1407 [==============================] - 25s 18ms/step - loss: 0.2123 - accuracy: 0.9396 - val_loss: 0.2176 - val_accuracy: 0.9390\n",
            "Epoch 15/20\n",
            "1407/1407 [==============================] - 25s 18ms/step - loss: 0.2031 - accuracy: 0.9420 - val_loss: 0.2118 - val_accuracy: 0.9407\n",
            "Epoch 16/20\n",
            "1407/1407 [==============================] - 25s 18ms/step - loss: 0.1945 - accuracy: 0.9444 - val_loss: 0.2069 - val_accuracy: 0.9421\n",
            "Epoch 17/20\n",
            "1407/1407 [==============================] - 25s 17ms/step - loss: 0.1866 - accuracy: 0.9468 - val_loss: 0.1961 - val_accuracy: 0.9451\n",
            "Epoch 18/20\n",
            "1407/1407 [==============================] - 25s 18ms/step - loss: 0.1793 - accuracy: 0.9495 - val_loss: 0.1970 - val_accuracy: 0.9446\n",
            "Epoch 19/20\n",
            "1407/1407 [==============================] - 26s 18ms/step - loss: 0.1726 - accuracy: 0.9512 - val_loss: 0.1867 - val_accuracy: 0.9481\n",
            "Epoch 20/20\n",
            "1407/1407 [==============================] - 24s 17ms/step - loss: 0.1664 - accuracy: 0.9530 - val_loss: 0.1787 - val_accuracy: 0.9500\n"
          ]
        }
      ],
      "source": [
        "model = tf.keras.Sequential([\n",
        "    Flatten(input_shape=(28, 28)),\n",
        "    tf.keras.layers.Dense(1024, activation = \"relu\"),\n",
        "    tf.keras.layers.Dense(512, activation = \"relu\"),\n",
        "    tf.keras.layers.Dense(256,activation = \"relu\"),\n",
        "    tf.keras.layers.Dense(128,activation = \"relu\"),\n",
        "    tf.keras.layers.Dense(64,activation = \"relu\"),\n",
        "    tf.keras.layers.Dense(10,activation = \"softmax\")\n",
        "])\n",
        "optimizer = tf.keras.optimizers.SGD(learning_rate=1e-3)\n",
        "model.compile(loss=\"sparse_categorical_crossentropy\", optimizer=optimizer,metrics=['accuracy'])\n",
        "mnist_data = model.fit(X_train, y_train, epochs=20,\n",
        "                    validation_data = (X_val, y_val))"
      ]
    },
    {
      "cell_type": "code",
      "execution_count": 7,
      "metadata": {
        "id": "B1lMZKZD02mU"
      },
      "outputs": [],
      "source": [
        "def build_model(hp):\n",
        "    model = Sequential()\n",
        "    model.add(Flatten(input_shape=(28, 28)))\n",
        "    model.add(Dense(units=hp.Int('units', min_value=128, max_value=1024, step=64), activation='relu'))\n",
        "    model.add(Dense(10, activation='softmax'))\n",
        "\n",
        "    hp_learning_rate = hp.Choice('learning_rate', values=[1e-2, 1e-3, 1e-4])\n",
        "\n",
        "    model.compile(optimizer=Adam(learning_rate=hp_learning_rate),\n",
        "                  loss='sparse_categorical_crossentropy',\n",
        "                  metrics=['accuracy'])\n",
        "\n",
        "    return model"
      ]
    },
    {
      "cell_type": "code",
      "execution_count": 8,
      "metadata": {
        "id": "iV8iO-XN7EcT",
        "colab": {
          "base_uri": "https://localhost:8080/"
        },
        "outputId": "ee6fd12f-f67f-4e3c-9c56-b24204d29cfd"
      },
      "outputs": [
        {
          "output_type": "stream",
          "name": "stdout",
          "text": [
            "\u001b[?25l     \u001b[90m━━━━━━━━━━━━━━━━━━━━━━━━━━━━━━━━━━━━━━━━\u001b[0m \u001b[32m0.0/129.1 kB\u001b[0m \u001b[31m?\u001b[0m eta \u001b[36m-:--:--\u001b[0m\r\u001b[2K     \u001b[91m━━━━━━━━━━━━━━━━━━━━━━━━━━━━━━━━━━━━━━\u001b[0m\u001b[90m╺\u001b[0m\u001b[90m━\u001b[0m \u001b[32m122.9/129.1 kB\u001b[0m \u001b[31m4.0 MB/s\u001b[0m eta \u001b[36m0:00:01\u001b[0m\r\u001b[2K     \u001b[90m━━━━━━━━━━━━━━━━━━━━━━━━━━━━━━━━━━━━━━━━\u001b[0m \u001b[32m129.1/129.1 kB\u001b[0m \u001b[31m3.3 MB/s\u001b[0m eta \u001b[36m0:00:00\u001b[0m\n",
            "\u001b[?25h"
          ]
        }
      ],
      "source": [
        "!pip install -q -U keras-tuner\n",
        "from keras_tuner import RandomSearch\n",
        "tuner = RandomSearch(\n",
        "    build_model,\n",
        "    objective='val_accuracy',\n",
        "    max_trials=10,\n",
        "    executions_per_trial=1,\n",
        "    directory='keras_tuner_logs',\n",
        "    project_name='mnist_hyperparameter_tuning'\n",
        ")"
      ]
    },
    {
      "cell_type": "code",
      "execution_count": 9,
      "metadata": {
        "colab": {
          "base_uri": "https://localhost:8080/"
        },
        "id": "TIcPW9MH7cuN",
        "outputId": "8097bae5-e7d5-4eac-f378-4567380cdd65"
      },
      "outputs": [
        {
          "output_type": "stream",
          "name": "stdout",
          "text": [
            "Trial 10 Complete [00h 02m 34s]\n",
            "val_accuracy: 0.9610666632652283\n",
            "\n",
            "Best val_accuracy So Far: 0.9811333417892456\n",
            "Total elapsed time: 00h 27m 09s\n"
          ]
        }
      ],
      "source": [
        "tuner.search(X_train, y_train,\n",
        "             epochs=10,\n",
        "             validation_data=(X_val, y_val),\n",
        "             callbacks=[EarlyStopping('val_accuracy', patience=3),\n",
        "                        TensorBoard(log_dir='logs/fit/' + datetime.datetime.now().strftime(\"%Y%m%d-%H%M%S\"))])"
      ]
    }
  ],
  "metadata": {
    "colab": {
      "provenance": [],
      "authorship_tag": "ABX9TyM7QdziJOUtVBKZvgcYSlnG",
      "include_colab_link": true
    },
    "kernelspec": {
      "display_name": "Python 3",
      "name": "python3"
    },
    "language_info": {
      "name": "python"
    }
  },
  "nbformat": 4,
  "nbformat_minor": 0
}