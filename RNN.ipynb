{
  "cells": [
    {
      "cell_type": "markdown",
      "metadata": {
        "id": "view-in-github",
        "colab_type": "text"
      },
      "source": [
        "<a href=\"https://colab.research.google.com/github/Elmir22/Data-science-ML-models-/blob/main/RNN.ipynb\" target=\"_parent\"><img src=\"https://colab.research.google.com/assets/colab-badge.svg\" alt=\"Open In Colab\"/></a>"
      ]
    },
    {
      "cell_type": "code",
      "execution_count": 1,
      "metadata": {
        "colab": {
          "base_uri": "https://localhost:8080/"
        },
        "id": "tJ50i6GOf1ub",
        "outputId": "45122586-ed8b-434f-aa10-f1e34cf7da45"
      },
      "outputs": [
        {
          "output_type": "stream",
          "name": "stdout",
          "text": [
            "Downloading data from https://homl.info/shakespeare\n",
            "1115394/1115394 [==============================] - 0s 0us/step\n"
          ]
        }
      ],
      "source": [
        "import tensorflow as tf\n",
        "\n",
        "shakespeare_url = \"https://homl.info/shakespeare\"  # shortcut URL\n",
        "filepath = tf.keras.utils.get_file(\"shakespeare.txt\", shakespeare_url)\n",
        "with open(filepath) as f:\n",
        "    shakespeare_text = f.read()"
      ]
    },
    {
      "cell_type": "code",
      "execution_count": 2,
      "metadata": {
        "colab": {
          "base_uri": "https://localhost:8080/"
        },
        "id": "oW0-GiLbf-zJ",
        "outputId": "a763e81e-200f-4b89-c32d-5e86c64d7f40"
      },
      "outputs": [
        {
          "output_type": "stream",
          "name": "stdout",
          "text": [
            "First Citizen:\n",
            "Before we proceed any further, hear me speak.\n",
            "\n",
            "All:\n",
            "Speak, speak.\n"
          ]
        }
      ],
      "source": [
        "print(shakespeare_text[:80])"
      ]
    },
    {
      "cell_type": "code",
      "execution_count": 3,
      "metadata": {
        "colab": {
          "base_uri": "https://localhost:8080/",
          "height": 35
        },
        "id": "7-7JxDr8gDbb",
        "outputId": "20fc4f6a-629f-4612-99b7-2db2c0709807"
      },
      "outputs": [
        {
          "output_type": "execute_result",
          "data": {
            "text/plain": [
              "\"\\n !$&',-.3:;?abcdefghijklmnopqrstuvwxyz\""
            ],
            "application/vnd.google.colaboratory.intrinsic+json": {
              "type": "string"
            }
          },
          "metadata": {},
          "execution_count": 3
        }
      ],
      "source": [
        "\"\".join(sorted(set(shakespeare_text.lower())))"
      ]
    },
    {
      "cell_type": "code",
      "execution_count": 4,
      "metadata": {
        "id": "83Y8kLOmhJtJ"
      },
      "outputs": [],
      "source": [
        "text_vec_layer = tf.keras.layers.TextVectorization(split=\"character\",\n",
        "                                                   standardize=\"lower\")\n",
        "text_vec_layer.adapt([shakespeare_text])\n",
        "encoded = text_vec_layer([shakespeare_text])[0]"
      ]
    },
    {
      "cell_type": "code",
      "execution_count": 5,
      "metadata": {
        "colab": {
          "base_uri": "https://localhost:8080/"
        },
        "id": "54prrHV102lb",
        "outputId": "b27b5b91-8e28-440f-9293-804903c0162d"
      },
      "outputs": [
        {
          "output_type": "execute_result",
          "data": {
            "text/plain": [
              "['',\n",
              " '[UNK]',\n",
              " ' ',\n",
              " 'e',\n",
              " 't',\n",
              " 'o',\n",
              " 'a',\n",
              " 'i',\n",
              " 'h',\n",
              " 's',\n",
              " 'r',\n",
              " 'n',\n",
              " '\\n',\n",
              " 'l',\n",
              " 'd',\n",
              " 'u',\n",
              " 'm',\n",
              " 'y',\n",
              " 'w',\n",
              " ',',\n",
              " 'c',\n",
              " 'f',\n",
              " 'g',\n",
              " 'b',\n",
              " 'p',\n",
              " ':',\n",
              " 'k',\n",
              " 'v',\n",
              " '.',\n",
              " \"'\",\n",
              " ';',\n",
              " '?',\n",
              " '!',\n",
              " '-',\n",
              " 'j',\n",
              " 'q',\n",
              " 'x',\n",
              " 'z',\n",
              " '3',\n",
              " '&',\n",
              " '$']"
            ]
          },
          "metadata": {},
          "execution_count": 5
        }
      ],
      "source": [
        "text_vec_layer.get_vocabulary()"
      ]
    },
    {
      "cell_type": "code",
      "execution_count": 6,
      "metadata": {
        "id": "OY1UxUJ2hNYa"
      },
      "outputs": [],
      "source": [
        "encoded -= 2  # drop tokens 0 (pad) and 1 (unknown), which we will not use\n",
        "n_tokens = text_vec_layer.vocabulary_size() - 2  # number of distinct chars = 39\n",
        "dataset_size = len(encoded)  #"
      ]
    },
    {
      "cell_type": "code",
      "execution_count": 7,
      "metadata": {
        "colab": {
          "base_uri": "https://localhost:8080/"
        },
        "id": "0DUQcC26hP5i",
        "outputId": "e4775395-12c6-45b5-ae0b-bdb07609625f"
      },
      "outputs": [
        {
          "output_type": "execute_result",
          "data": {
            "text/plain": [
              "39"
            ]
          },
          "metadata": {},
          "execution_count": 7
        }
      ],
      "source": [
        "n_tokens"
      ]
    },
    {
      "cell_type": "code",
      "execution_count": 8,
      "metadata": {
        "colab": {
          "base_uri": "https://localhost:8080/"
        },
        "id": "XWrTy5bphSSk",
        "outputId": "abb5dc46-7a98-45df-8660-2a1574b803e7"
      },
      "outputs": [
        {
          "output_type": "execute_result",
          "data": {
            "text/plain": [
              "1115394"
            ]
          },
          "metadata": {},
          "execution_count": 8
        }
      ],
      "source": [
        "dataset_size"
      ]
    },
    {
      "cell_type": "code",
      "execution_count": 9,
      "metadata": {
        "id": "yBvsgOIRkmUY"
      },
      "outputs": [],
      "source": [
        "def to_dataset(sequence, length, shuffle=False, seed=None, batch_size=32):\n",
        "    ds = tf.data.Dataset.from_tensor_slices(sequence)\n",
        "    ds = ds.window(length + 1, shift=1, drop_remainder=True)\n",
        "    ds = ds.flat_map(lambda window_ds: window_ds.batch(length + 1))\n",
        "    if shuffle:\n",
        "        ds = ds.shuffle(100_000, seed=seed)\n",
        "    ds = ds.batch(batch_size)\n",
        "    return ds.map(lambda window: (window[:, :-1], window[:, 1:])).prefetch(1)"
      ]
    },
    {
      "cell_type": "code",
      "execution_count": 10,
      "metadata": {
        "id": "kImp0M_eUib5"
      },
      "outputs": [],
      "source": [
        "# sequence = [0, 1, 2, 3, 4, 5]\n",
        "\n",
        "# windows: [[0, 1, 2, 3], [1, 2, 3, 4], [2, 3, 4, 5]]\n",
        "\n",
        "# input-target pairs: [([0, 1, 2], [1, 2, 3]), ([1, 2, 3], [2, 3, 4]), ([2, 3, 4], [3, 4, 5])]\n",
        "\n",
        "# [[[1, 2, 3], [2, 3, 4]], [[3, 4, 5]]] (inputs)\n",
        "# [[[2, 3, 4], [3, 4, 5]], [[4, 5, 6]]] (targets)\n"
      ]
    },
    {
      "cell_type": "code",
      "execution_count": 11,
      "metadata": {
        "colab": {
          "base_uri": "https://localhost:8080/"
        },
        "id": "SaPCcHhMcSaM",
        "outputId": "18ee884e-7629-402e-93e3-912d81692fd1"
      },
      "outputs": [
        {
          "output_type": "execute_result",
          "data": {
            "text/plain": [
              "[(<tf.Tensor: shape=(7, 3), dtype=int32, numpy=\n",
              "  array([[0, 1, 2],\n",
              "         [1, 2, 3],\n",
              "         [2, 3, 4],\n",
              "         [3, 4, 5],\n",
              "         [4, 5, 6],\n",
              "         [5, 6, 7],\n",
              "         [6, 7, 8]], dtype=int32)>,\n",
              "  <tf.Tensor: shape=(7, 3), dtype=int32, numpy=\n",
              "  array([[1, 2, 3],\n",
              "         [2, 3, 4],\n",
              "         [3, 4, 5],\n",
              "         [4, 5, 6],\n",
              "         [5, 6, 7],\n",
              "         [6, 7, 8],\n",
              "         [7, 8, 9]], dtype=int32)>)]"
            ]
          },
          "metadata": {},
          "execution_count": 11
        }
      ],
      "source": [
        "list(to_dataset(tf.range(10), 3))"
      ]
    },
    {
      "cell_type": "code",
      "execution_count": 12,
      "metadata": {
        "colab": {
          "base_uri": "https://localhost:8080/"
        },
        "id": "HdS4DlsBkohp",
        "outputId": "26e7ecc6-e32e-4a46-a375-2d64a1cf8412"
      },
      "outputs": [
        {
          "output_type": "execute_result",
          "data": {
            "text/plain": [
              "[(<tf.Tensor: shape=(1, 4), dtype=int64, numpy=array([[ 4,  5,  2, 23]])>,\n",
              "  <tf.Tensor: shape=(1, 4), dtype=int64, numpy=array([[ 5,  2, 23,  3]])>)]"
            ]
          },
          "metadata": {},
          "execution_count": 12
        }
      ],
      "source": [
        "list(to_dataset(text_vec_layer([\"To be\"])[0], length=4))"
      ]
    },
    {
      "cell_type": "code",
      "execution_count": 13,
      "metadata": {
        "id": "clbBIl3lkqj3"
      },
      "outputs": [],
      "source": [
        "length = 100\n",
        "tf.random.set_seed(42)\n",
        "train_set = to_dataset(encoded[:1_000_000], length=length, shuffle=True,\n",
        "                       seed=42)\n",
        "valid_set = to_dataset(encoded[1_000_000:1_060_000], length=length)\n",
        "test_set = to_dataset(encoded[1_060_000:], length=length)"
      ]
    },
    {
      "cell_type": "markdown",
      "metadata": {
        "id": "V5dAu7uHksgM"
      },
      "source": [
        "# Building and Training the Char-RNN Mode"
      ]
    },
    {
      "cell_type": "code",
      "execution_count": 14,
      "metadata": {
        "colab": {
          "base_uri": "https://localhost:8080/"
        },
        "id": "MlyDbQ6Ekyvq",
        "outputId": "e0359ddf-b597-4a57-81e3-56d6627c4e55"
      },
      "outputs": [
        {
          "output_type": "stream",
          "name": "stdout",
          "text": [
            "Epoch 1/3\n",
            "31247/31247 [==============================] - 517s 15ms/step - loss: 1.4115 - accuracy: 0.5686 - val_loss: 1.6387 - val_accuracy: 0.5257\n",
            "Epoch 2/3\n",
            "31247/31247 [==============================] - 447s 14ms/step - loss: 1.3139 - accuracy: 0.5915 - val_loss: 1.6125 - val_accuracy: 0.5321\n",
            "Epoch 3/3\n",
            "31247/31247 [==============================] - 517s 16ms/step - loss: 1.2950 - accuracy: 0.5954 - val_loss: 1.5960 - val_accuracy: 0.5355\n"
          ]
        }
      ],
      "source": [
        "tf.random.set_seed(42)  # extra code – ensures reproducibility on CPU\n",
        "model = tf.keras.Sequential([\n",
        "    tf.keras.layers.Embedding(input_dim=n_tokens, output_dim=16),\n",
        "    tf.keras.layers.GRU(128, return_sequences=True),\n",
        "    tf.keras.layers.Dense(n_tokens, activation=\"softmax\")\n",
        "])\n",
        "model.compile(loss=\"sparse_categorical_crossentropy\", optimizer=\"nadam\",\n",
        "              metrics=[\"accuracy\"])\n",
        "model_ckpt = tf.keras.callbacks.ModelCheckpoint(\n",
        "    \"my_shakespeare_model\", monitor=\"val_accuracy\", save_best_only=True)\n",
        "history = model.fit(train_set, validation_data=valid_set, epochs=3,\n",
        "                    callbacks=[model_ckpt])"
      ]
    },
    {
      "cell_type": "code",
      "execution_count": 15,
      "metadata": {
        "id": "_IGF3Ik2qFy7"
      },
      "outputs": [],
      "source": [
        "shakespeare_model = tf.keras.Sequential([\n",
        "    text_vec_layer,\n",
        "    tf.keras.layers.Lambda(lambda X: X - 2),  # no <PAD> or <UNK> tokens\n",
        "    model\n",
        "])"
      ]
    },
    {
      "cell_type": "code",
      "execution_count": 15,
      "metadata": {
        "id": "mq8z_OYs7kGK"
      },
      "outputs": [],
      "source": []
    },
    {
      "cell_type": "code",
      "execution_count": 16,
      "metadata": {
        "colab": {
          "base_uri": "https://localhost:8080/"
        },
        "id": "R1__y3LyqINb",
        "outputId": "0e30384b-3fb4-4421-85cf-05a83b6a4d58"
      },
      "outputs": [
        {
          "output_type": "stream",
          "name": "stdout",
          "text": [
            "Downloading data from https://github.com/ageron/data/raw/main/shakespeare_model.tgz\n",
            "352865/352865 [==============================] - 0s 0us/step\n"
          ]
        }
      ],
      "source": [
        "# extra code – downloads a pretrained model\n",
        "from pathlib import Path\n",
        "url = \"https://github.com/ageron/data/raw/main/shakespeare_model.tgz\"\n",
        "path = tf.keras.utils.get_file(\"shakespeare_model.tgz\", url, extract=True)\n",
        "model_path = Path(path).with_name(\"shakespeare_model\")\n",
        "shakespeare_model = tf.keras.models.load_model(model_path)"
      ]
    },
    {
      "cell_type": "code",
      "execution_count": 17,
      "metadata": {
        "colab": {
          "base_uri": "https://localhost:8080/",
          "height": 53
        },
        "id": "qOIRuDmzqSoY",
        "outputId": "61097a0b-c892-4819-dcac-d15d9adb013d"
      },
      "outputs": [
        {
          "output_type": "stream",
          "name": "stdout",
          "text": [
            "1/1 [==============================] - 0s 413ms/step\n"
          ]
        },
        {
          "output_type": "execute_result",
          "data": {
            "text/plain": [
              "'e'"
            ],
            "application/vnd.google.colaboratory.intrinsic+json": {
              "type": "string"
            }
          },
          "metadata": {},
          "execution_count": 17
        }
      ],
      "source": [
        "y_proba = shakespeare_model.predict([\"To be or not to b\"])[0, -1]\n",
        "y_pred = tf.argmax(y_proba)  # choose the most probable character ID\n",
        "text_vec_layer.get_vocabulary()[y_pred + 2]"
      ]
    },
    {
      "cell_type": "markdown",
      "metadata": {
        "id": "frdzkdlEqU-W"
      },
      "source": [
        "# Generating Fake Shakespearean Text"
      ]
    },
    {
      "cell_type": "code",
      "execution_count": 18,
      "metadata": {
        "colab": {
          "base_uri": "https://localhost:8080/"
        },
        "id": "fpBCxrDHqZrB",
        "outputId": "a0408318-dac6-4105-ef03-7e1165729dbe"
      },
      "outputs": [
        {
          "output_type": "execute_result",
          "data": {
            "text/plain": [
              "<tf.Tensor: shape=(1, 8), dtype=int64, numpy=array([[0, 0, 1, 1, 1, 0, 0, 0]])>"
            ]
          },
          "metadata": {},
          "execution_count": 18
        }
      ],
      "source": [
        "\n",
        "log_probas = tf.math.log([[0.5, 0.4, 0.1]])  # probas = 50%, 40%, and 10%\n",
        "tf.random.set_seed(42)\n",
        "tf.random.categorical(log_probas, num_samples=8)"
      ]
    },
    {
      "cell_type": "code",
      "execution_count": 19,
      "metadata": {
        "id": "Ee35EQvfqbrC"
      },
      "outputs": [],
      "source": [
        "def next_char(text, temperature=1):\n",
        "    y_proba = shakespeare_model.predict([text])[0, -1:]\n",
        "    rescaled_logits = tf.math.log(y_proba) / temperature\n",
        "    char_id = tf.random.categorical(rescaled_logits, num_samples=1)[0, 0]\n",
        "    return text_vec_layer.get_vocabulary()[char_id + 2]"
      ]
    },
    {
      "cell_type": "code",
      "execution_count": 20,
      "metadata": {
        "id": "T7jR1ovGqdrj"
      },
      "outputs": [],
      "source": [
        "def extend_text(text, n_chars=100, temperature=1):\n",
        "    for _ in range(n_chars):\n",
        "        text += next_char(text, temperature)\n",
        "    return text"
      ]
    },
    {
      "cell_type": "code",
      "execution_count": 21,
      "metadata": {
        "id": "toPG24BRqf0B"
      },
      "outputs": [],
      "source": [
        "tf.random.set_seed(42)"
      ]
    },
    {
      "cell_type": "code",
      "execution_count": 21,
      "metadata": {
        "id": "quMpR1UCqvhm"
      },
      "outputs": [],
      "source": []
    },
    {
      "cell_type": "code",
      "execution_count": 22,
      "metadata": {
        "colab": {
          "base_uri": "https://localhost:8080/"
        },
        "id": "Iu-cizolqjrI",
        "outputId": "17e4a34c-3564-45fa-8488-f9a72b631c44"
      },
      "outputs": [
        {
          "output_type": "stream",
          "name": "stdout",
          "text": [
            "1/1 [==============================] - 0s 184ms/step\n",
            "1/1 [==============================] - 0s 31ms/step\n",
            "1/1 [==============================] - 0s 31ms/step\n",
            "1/1 [==============================] - 0s 34ms/step\n",
            "1/1 [==============================] - 0s 33ms/step\n",
            "1/1 [==============================] - 0s 38ms/step\n",
            "1/1 [==============================] - 0s 33ms/step\n",
            "1/1 [==============================] - 0s 41ms/step\n",
            "1/1 [==============================] - 0s 35ms/step\n",
            "1/1 [==============================] - 0s 38ms/step\n",
            "1/1 [==============================] - 0s 31ms/step\n",
            "1/1 [==============================] - 0s 34ms/step\n",
            "1/1 [==============================] - 0s 35ms/step\n",
            "1/1 [==============================] - 0s 33ms/step\n",
            "1/1 [==============================] - 0s 32ms/step\n",
            "1/1 [==============================] - 0s 30ms/step\n",
            "1/1 [==============================] - 0s 30ms/step\n",
            "1/1 [==============================] - 0s 39ms/step\n",
            "1/1 [==============================] - 0s 30ms/step\n",
            "1/1 [==============================] - 0s 30ms/step\n",
            "1/1 [==============================] - 0s 30ms/step\n",
            "1/1 [==============================] - 0s 32ms/step\n",
            "1/1 [==============================] - 0s 33ms/step\n",
            "1/1 [==============================] - 0s 31ms/step\n",
            "1/1 [==============================] - 0s 31ms/step\n",
            "1/1 [==============================] - 0s 41ms/step\n",
            "1/1 [==============================] - 0s 31ms/step\n",
            "1/1 [==============================] - 0s 31ms/step\n",
            "1/1 [==============================] - 0s 30ms/step\n",
            "1/1 [==============================] - 0s 32ms/step\n",
            "1/1 [==============================] - 0s 39ms/step\n",
            "1/1 [==============================] - 0s 30ms/step\n",
            "1/1 [==============================] - 0s 32ms/step\n",
            "1/1 [==============================] - 0s 29ms/step\n",
            "1/1 [==============================] - 0s 31ms/step\n",
            "1/1 [==============================] - 0s 31ms/step\n",
            "1/1 [==============================] - 0s 30ms/step\n",
            "1/1 [==============================] - 0s 31ms/step\n",
            "1/1 [==============================] - 0s 33ms/step\n",
            "1/1 [==============================] - 0s 30ms/step\n",
            "1/1 [==============================] - 0s 32ms/step\n",
            "1/1 [==============================] - 0s 30ms/step\n",
            "1/1 [==============================] - 0s 30ms/step\n",
            "1/1 [==============================] - 0s 38ms/step\n",
            "1/1 [==============================] - 0s 30ms/step\n",
            "1/1 [==============================] - 0s 30ms/step\n",
            "1/1 [==============================] - 0s 30ms/step\n",
            "1/1 [==============================] - 0s 30ms/step\n",
            "1/1 [==============================] - 0s 35ms/step\n",
            "1/1 [==============================] - 0s 31ms/step\n",
            "1/1 [==============================] - 0s 32ms/step\n",
            "1/1 [==============================] - 0s 30ms/step\n",
            "1/1 [==============================] - 0s 38ms/step\n",
            "1/1 [==============================] - 0s 30ms/step\n",
            "1/1 [==============================] - 0s 30ms/step\n",
            "1/1 [==============================] - 0s 32ms/step\n",
            "1/1 [==============================] - 0s 39ms/step\n",
            "1/1 [==============================] - 0s 33ms/step\n",
            "1/1 [==============================] - 0s 32ms/step\n",
            "1/1 [==============================] - 0s 30ms/step\n",
            "1/1 [==============================] - 0s 48ms/step\n",
            "1/1 [==============================] - 0s 53ms/step\n",
            "1/1 [==============================] - 0s 48ms/step\n",
            "1/1 [==============================] - 0s 49ms/step\n",
            "1/1 [==============================] - 0s 48ms/step\n",
            "1/1 [==============================] - 0s 44ms/step\n",
            "1/1 [==============================] - 0s 62ms/step\n",
            "1/1 [==============================] - 0s 44ms/step\n",
            "1/1 [==============================] - 0s 45ms/step\n",
            "1/1 [==============================] - 0s 44ms/step\n",
            "1/1 [==============================] - 0s 47ms/step\n",
            "1/1 [==============================] - 0s 51ms/step\n",
            "1/1 [==============================] - 0s 46ms/step\n",
            "1/1 [==============================] - 0s 55ms/step\n",
            "1/1 [==============================] - 0s 55ms/step\n",
            "1/1 [==============================] - 0s 62ms/step\n",
            "1/1 [==============================] - 0s 47ms/step\n",
            "1/1 [==============================] - 0s 47ms/step\n",
            "1/1 [==============================] - 0s 64ms/step\n",
            "1/1 [==============================] - 0s 47ms/step\n",
            "1/1 [==============================] - 0s 49ms/step\n",
            "1/1 [==============================] - 0s 43ms/step\n",
            "1/1 [==============================] - 0s 32ms/step\n",
            "1/1 [==============================] - 0s 35ms/step\n",
            "1/1 [==============================] - 0s 40ms/step\n",
            "1/1 [==============================] - 0s 34ms/step\n",
            "1/1 [==============================] - 0s 30ms/step\n",
            "1/1 [==============================] - 0s 30ms/step\n",
            "1/1 [==============================] - 0s 35ms/step\n",
            "1/1 [==============================] - 0s 31ms/step\n",
            "1/1 [==============================] - 0s 33ms/step\n",
            "1/1 [==============================] - 0s 32ms/step\n",
            "1/1 [==============================] - 0s 32ms/step\n",
            "1/1 [==============================] - 0s 34ms/step\n",
            "1/1 [==============================] - 0s 30ms/step\n",
            "1/1 [==============================] - 0s 31ms/step\n",
            "1/1 [==============================] - 0s 31ms/step\n",
            "1/1 [==============================] - 0s 38ms/step\n",
            "1/1 [==============================] - 0s 32ms/step\n",
            "1/1 [==============================] - 0s 32ms/step\n",
            "Now we are even to the death,\n",
            "and then the sea to the death, and the duke and the death,\n",
            "and then the strange daugh\n"
          ]
        }
      ],
      "source": [
        "print(extend_text('''Now we are even''', temperature=0.01))"
      ]
    },
    {
      "cell_type": "code",
      "execution_count": 23,
      "metadata": {
        "colab": {
          "base_uri": "https://localhost:8080/"
        },
        "id": "OJstMzMjqlUp",
        "outputId": "7ade05d0-51eb-4f22-9783-937e49d6a52c"
      },
      "outputs": [
        {
          "output_type": "stream",
          "name": "stdout",
          "text": [
            "1/1 [==============================] - 0s 31ms/step\n",
            "1/1 [==============================] - 0s 30ms/step\n",
            "1/1 [==============================] - 0s 36ms/step\n",
            "1/1 [==============================] - 0s 31ms/step\n",
            "1/1 [==============================] - 0s 29ms/step\n",
            "1/1 [==============================] - 0s 30ms/step\n",
            "1/1 [==============================] - 0s 30ms/step\n",
            "1/1 [==============================] - 0s 39ms/step\n",
            "1/1 [==============================] - 0s 31ms/step\n",
            "1/1 [==============================] - 0s 39ms/step\n",
            "1/1 [==============================] - 0s 31ms/step\n",
            "1/1 [==============================] - 0s 32ms/step\n",
            "1/1 [==============================] - 0s 31ms/step\n",
            "1/1 [==============================] - 0s 33ms/step\n",
            "1/1 [==============================] - 0s 30ms/step\n",
            "1/1 [==============================] - 0s 32ms/step\n",
            "1/1 [==============================] - 0s 30ms/step\n",
            "1/1 [==============================] - 0s 30ms/step\n",
            "1/1 [==============================] - 0s 30ms/step\n",
            "1/1 [==============================] - 0s 30ms/step\n",
            "1/1 [==============================] - 0s 40ms/step\n",
            "1/1 [==============================] - 0s 30ms/step\n",
            "1/1 [==============================] - 0s 36ms/step\n",
            "1/1 [==============================] - 0s 29ms/step\n",
            "1/1 [==============================] - 0s 29ms/step\n",
            "1/1 [==============================] - 0s 29ms/step\n",
            "1/1 [==============================] - 0s 30ms/step\n",
            "1/1 [==============================] - 0s 31ms/step\n",
            "1/1 [==============================] - 0s 30ms/step\n",
            "1/1 [==============================] - 0s 33ms/step\n",
            "1/1 [==============================] - 0s 30ms/step\n",
            "1/1 [==============================] - 0s 32ms/step\n",
            "1/1 [==============================] - 0s 30ms/step\n",
            "1/1 [==============================] - 0s 30ms/step\n",
            "1/1 [==============================] - 0s 30ms/step\n",
            "1/1 [==============================] - 0s 38ms/step\n",
            "1/1 [==============================] - 0s 30ms/step\n",
            "1/1 [==============================] - 0s 35ms/step\n",
            "1/1 [==============================] - 0s 30ms/step\n",
            "1/1 [==============================] - 0s 30ms/step\n",
            "1/1 [==============================] - 0s 31ms/step\n",
            "1/1 [==============================] - 0s 29ms/step\n",
            "1/1 [==============================] - 0s 32ms/step\n",
            "1/1 [==============================] - 0s 30ms/step\n",
            "1/1 [==============================] - 0s 31ms/step\n",
            "1/1 [==============================] - 0s 32ms/step\n",
            "1/1 [==============================] - 0s 31ms/step\n",
            "1/1 [==============================] - 0s 32ms/step\n",
            "1/1 [==============================] - 0s 38ms/step\n",
            "1/1 [==============================] - 0s 30ms/step\n",
            "1/1 [==============================] - 0s 30ms/step\n",
            "1/1 [==============================] - 0s 30ms/step\n",
            "1/1 [==============================] - 0s 30ms/step\n",
            "1/1 [==============================] - 0s 33ms/step\n",
            "1/1 [==============================] - 0s 32ms/step\n",
            "1/1 [==============================] - 0s 32ms/step\n",
            "1/1 [==============================] - 0s 30ms/step\n",
            "1/1 [==============================] - 0s 31ms/step\n",
            "1/1 [==============================] - 0s 30ms/step\n",
            "1/1 [==============================] - 0s 30ms/step\n",
            "1/1 [==============================] - 0s 38ms/step\n",
            "1/1 [==============================] - 0s 37ms/step\n",
            "1/1 [==============================] - 0s 56ms/step\n",
            "1/1 [==============================] - 0s 166ms/step\n",
            "1/1 [==============================] - 0s 130ms/step\n",
            "1/1 [==============================] - 0s 91ms/step\n",
            "1/1 [==============================] - 0s 33ms/step\n",
            "1/1 [==============================] - 0s 30ms/step\n",
            "1/1 [==============================] - 0s 30ms/step\n",
            "1/1 [==============================] - 0s 30ms/step\n",
            "1/1 [==============================] - 0s 30ms/step\n",
            "1/1 [==============================] - 0s 31ms/step\n",
            "1/1 [==============================] - 0s 31ms/step\n",
            "1/1 [==============================] - 0s 31ms/step\n",
            "1/1 [==============================] - 0s 32ms/step\n",
            "1/1 [==============================] - 0s 30ms/step\n",
            "1/1 [==============================] - 0s 30ms/step\n",
            "1/1 [==============================] - 0s 32ms/step\n",
            "1/1 [==============================] - 0s 30ms/step\n",
            "1/1 [==============================] - 0s 48ms/step\n",
            "1/1 [==============================] - 0s 34ms/step\n",
            "1/1 [==============================] - 0s 32ms/step\n",
            "1/1 [==============================] - 0s 30ms/step\n",
            "1/1 [==============================] - 0s 31ms/step\n",
            "1/1 [==============================] - 0s 36ms/step\n",
            "1/1 [==============================] - 0s 32ms/step\n",
            "1/1 [==============================] - 0s 31ms/step\n",
            "1/1 [==============================] - 0s 30ms/step\n",
            "1/1 [==============================] - 0s 31ms/step\n",
            "1/1 [==============================] - 0s 32ms/step\n",
            "1/1 [==============================] - 0s 32ms/step\n",
            "1/1 [==============================] - 0s 32ms/step\n",
            "1/1 [==============================] - 0s 50ms/step\n",
            "1/1 [==============================] - 0s 32ms/step\n",
            "1/1 [==============================] - 0s 33ms/step\n",
            "1/1 [==============================] - 0s 31ms/step\n",
            "1/1 [==============================] - 0s 31ms/step\n",
            "1/1 [==============================] - 0s 31ms/step\n",
            "1/1 [==============================] - 0s 32ms/step\n",
            "1/1 [==============================] - 0s 33ms/step\n",
            "now we are even.\n",
            "\n",
            "dorcas:\n",
            "what ignora from his grief:\n",
            "truly--a praise and men take him of assistion do thee?\n",
            "\n",
            "hermi\n"
          ]
        }
      ],
      "source": [
        "print(extend_text(\"now we are even\", temperature=1))"
      ]
    },
    {
      "cell_type": "code",
      "execution_count": 24,
      "metadata": {
        "colab": {
          "base_uri": "https://localhost:8080/"
        },
        "id": "rjFVB39mraRc",
        "outputId": "6388f71e-ae2b-4149-f355-1c5494059a3b"
      },
      "outputs": [
        {
          "output_type": "stream",
          "name": "stdout",
          "text": [
            "1/1 [==============================] - 0s 32ms/step\n",
            "1/1 [==============================] - 0s 30ms/step\n",
            "1/1 [==============================] - 0s 52ms/step\n",
            "1/1 [==============================] - 0s 55ms/step\n",
            "1/1 [==============================] - 0s 60ms/step\n",
            "1/1 [==============================] - 0s 44ms/step\n",
            "1/1 [==============================] - 0s 44ms/step\n",
            "1/1 [==============================] - 0s 48ms/step\n",
            "1/1 [==============================] - 0s 43ms/step\n",
            "1/1 [==============================] - 0s 46ms/step\n",
            "1/1 [==============================] - 0s 42ms/step\n",
            "1/1 [==============================] - 0s 46ms/step\n",
            "1/1 [==============================] - 0s 50ms/step\n",
            "1/1 [==============================] - 0s 54ms/step\n",
            "1/1 [==============================] - 0s 42ms/step\n",
            "1/1 [==============================] - 0s 47ms/step\n",
            "1/1 [==============================] - 0s 50ms/step\n",
            "1/1 [==============================] - 0s 56ms/step\n",
            "1/1 [==============================] - 0s 52ms/step\n",
            "1/1 [==============================] - 0s 52ms/step\n",
            "1/1 [==============================] - 0s 50ms/step\n",
            "1/1 [==============================] - 0s 58ms/step\n",
            "1/1 [==============================] - 0s 40ms/step\n",
            "1/1 [==============================] - 0s 30ms/step\n",
            "1/1 [==============================] - 0s 30ms/step\n",
            "1/1 [==============================] - 0s 31ms/step\n",
            "1/1 [==============================] - 0s 34ms/step\n",
            "1/1 [==============================] - 0s 31ms/step\n",
            "1/1 [==============================] - 0s 30ms/step\n",
            "1/1 [==============================] - 0s 32ms/step\n",
            "1/1 [==============================] - 0s 30ms/step\n",
            "1/1 [==============================] - 0s 31ms/step\n",
            "1/1 [==============================] - 0s 31ms/step\n",
            "1/1 [==============================] - 0s 38ms/step\n",
            "1/1 [==============================] - 0s 31ms/step\n",
            "1/1 [==============================] - 0s 33ms/step\n",
            "1/1 [==============================] - 0s 33ms/step\n",
            "1/1 [==============================] - 0s 32ms/step\n",
            "1/1 [==============================] - 0s 31ms/step\n",
            "1/1 [==============================] - 0s 30ms/step\n",
            "1/1 [==============================] - 0s 30ms/step\n",
            "1/1 [==============================] - 0s 32ms/step\n",
            "1/1 [==============================] - 0s 30ms/step\n",
            "1/1 [==============================] - 0s 32ms/step\n",
            "1/1 [==============================] - 0s 31ms/step\n",
            "1/1 [==============================] - 0s 32ms/step\n",
            "1/1 [==============================] - 0s 38ms/step\n",
            "1/1 [==============================] - 0s 30ms/step\n",
            "1/1 [==============================] - 0s 35ms/step\n",
            "1/1 [==============================] - 0s 30ms/step\n",
            "1/1 [==============================] - 0s 30ms/step\n",
            "1/1 [==============================] - 0s 31ms/step\n",
            "1/1 [==============================] - 0s 34ms/step\n",
            "1/1 [==============================] - 0s 32ms/step\n",
            "1/1 [==============================] - 0s 30ms/step\n",
            "1/1 [==============================] - 0s 31ms/step\n",
            "1/1 [==============================] - 0s 31ms/step\n",
            "1/1 [==============================] - 0s 31ms/step\n",
            "1/1 [==============================] - 0s 30ms/step\n",
            "1/1 [==============================] - 0s 39ms/step\n",
            "1/1 [==============================] - 0s 30ms/step\n",
            "1/1 [==============================] - 0s 37ms/step\n",
            "1/1 [==============================] - 0s 32ms/step\n",
            "1/1 [==============================] - 0s 32ms/step\n",
            "1/1 [==============================] - 0s 32ms/step\n",
            "1/1 [==============================] - 0s 32ms/step\n",
            "1/1 [==============================] - 0s 34ms/step\n",
            "1/1 [==============================] - 0s 30ms/step\n",
            "1/1 [==============================] - 0s 30ms/step\n",
            "1/1 [==============================] - 0s 30ms/step\n",
            "1/1 [==============================] - 0s 31ms/step\n",
            "1/1 [==============================] - 0s 31ms/step\n",
            "1/1 [==============================] - 0s 39ms/step\n",
            "1/1 [==============================] - 0s 31ms/step\n",
            "1/1 [==============================] - 0s 31ms/step\n",
            "1/1 [==============================] - 0s 30ms/step\n",
            "1/1 [==============================] - 0s 30ms/step\n",
            "1/1 [==============================] - 0s 31ms/step\n",
            "1/1 [==============================] - 0s 32ms/step\n",
            "1/1 [==============================] - 0s 32ms/step\n",
            "1/1 [==============================] - 0s 33ms/step\n",
            "1/1 [==============================] - 0s 31ms/step\n",
            "1/1 [==============================] - 0s 32ms/step\n",
            "1/1 [==============================] - 0s 31ms/step\n",
            "1/1 [==============================] - 0s 31ms/step\n",
            "1/1 [==============================] - 0s 37ms/step\n",
            "1/1 [==============================] - 0s 30ms/step\n",
            "1/1 [==============================] - 0s 31ms/step\n",
            "1/1 [==============================] - 0s 31ms/step\n",
            "1/1 [==============================] - 0s 31ms/step\n",
            "1/1 [==============================] - 0s 32ms/step\n",
            "1/1 [==============================] - 0s 36ms/step\n",
            "1/1 [==============================] - 0s 31ms/step\n",
            "1/1 [==============================] - 0s 31ms/step\n",
            "1/1 [==============================] - 0s 30ms/step\n",
            "1/1 [==============================] - 0s 34ms/step\n",
            "1/1 [==============================] - 0s 30ms/step\n",
            "1/1 [==============================] - 0s 37ms/step\n",
            "1/1 [==============================] - 0s 37ms/step\n",
            "1/1 [==============================] - 0s 32ms/step\n",
            "To be or not to betas'xosq;!jorar:p?i.ies;astsz-;jbrpi!deqs?cp;??\n",
            ":sbkjd3c$;mqm?hebxzwc33efy,bopkyi3,r'g,m:,:qn-grns;w\n"
          ]
        }
      ],
      "source": [
        "print(extend_text(\"To be or not to be\", temperature=100))"
      ]
    },
    {
      "cell_type": "markdown",
      "metadata": {
        "id": "LoKf0E86Z2-W"
      },
      "source": [
        "# Stateful RNN"
      ]
    },
    {
      "cell_type": "code",
      "execution_count": 25,
      "metadata": {
        "id": "eOOTJ3qrbe2X"
      },
      "outputs": [],
      "source": [
        "def to_dataset_for_stateful_rnn(sequence, length):\n",
        "    ds = tf.data.Dataset.from_tensor_slices(sequence)\n",
        "    ds = ds.window(length + 1, shift=length, drop_remainder=True)\n",
        "    ds = ds.flat_map(lambda window: window.batch(length + 1)).batch(1)\n",
        "    return ds.map(lambda window: (window[:, :-1], window[:, 1:])).prefetch(1)\n",
        "\n",
        "stateful_train_set = to_dataset_for_stateful_rnn(encoded[:1_000_000], length)\n",
        "stateful_valid_set = to_dataset_for_stateful_rnn(encoded[1_000_000:1_060_000],\n",
        "                                                 length)\n",
        "stateful_test_set = to_dataset_for_stateful_rnn(encoded[1_060_000:], length)"
      ]
    },
    {
      "cell_type": "code",
      "execution_count": 26,
      "metadata": {
        "colab": {
          "base_uri": "https://localhost:8080/"
        },
        "id": "Xgw0ab12bha5",
        "outputId": "9ee0dcaa-5bc4-461f-d23e-64cfa5c6bec0"
      },
      "outputs": [
        {
          "output_type": "execute_result",
          "data": {
            "text/plain": [
              "[(<tf.Tensor: shape=(1, 3), dtype=int32, numpy=array([[0, 1, 2]], dtype=int32)>,\n",
              "  <tf.Tensor: shape=(1, 3), dtype=int32, numpy=array([[1, 2, 3]], dtype=int32)>),\n",
              " (<tf.Tensor: shape=(1, 3), dtype=int32, numpy=array([[3, 4, 5]], dtype=int32)>,\n",
              "  <tf.Tensor: shape=(1, 3), dtype=int32, numpy=array([[4, 5, 6]], dtype=int32)>),\n",
              " (<tf.Tensor: shape=(1, 3), dtype=int32, numpy=array([[6, 7, 8]], dtype=int32)>,\n",
              "  <tf.Tensor: shape=(1, 3), dtype=int32, numpy=array([[7, 8, 9]], dtype=int32)>)]"
            ]
          },
          "metadata": {},
          "execution_count": 26
        }
      ],
      "source": [
        "list(to_dataset_for_stateful_rnn(tf.range(10), 3))"
      ]
    },
    {
      "cell_type": "code",
      "execution_count": 27,
      "metadata": {
        "colab": {
          "base_uri": "https://localhost:8080/"
        },
        "id": "p3IkJEsScJR_",
        "outputId": "245299e0-0a7f-4a5d-dde5-f22160fe070f"
      },
      "outputs": [
        {
          "output_type": "execute_result",
          "data": {
            "text/plain": [
              "[(<tf.Tensor: shape=(2, 3), dtype=int32, numpy=\n",
              "  array([[ 0,  1,  2],\n",
              "         [10, 11, 12]], dtype=int32)>,\n",
              "  <tf.Tensor: shape=(2, 3), dtype=int32, numpy=\n",
              "  array([[ 1,  2,  3],\n",
              "         [11, 12, 13]], dtype=int32)>),\n",
              " (<tf.Tensor: shape=(2, 3), dtype=int32, numpy=\n",
              "  array([[ 3,  4,  5],\n",
              "         [13, 14, 15]], dtype=int32)>,\n",
              "  <tf.Tensor: shape=(2, 3), dtype=int32, numpy=\n",
              "  array([[ 4,  5,  6],\n",
              "         [14, 15, 16]], dtype=int32)>),\n",
              " (<tf.Tensor: shape=(2, 3), dtype=int32, numpy=\n",
              "  array([[ 6,  7,  8],\n",
              "         [16, 17, 18]], dtype=int32)>,\n",
              "  <tf.Tensor: shape=(2, 3), dtype=int32, numpy=\n",
              "  array([[ 7,  8,  9],\n",
              "         [17, 18, 19]], dtype=int32)>)]"
            ]
          },
          "metadata": {},
          "execution_count": 27
        }
      ],
      "source": [
        "# extra code – shows one way to prepare a batched dataset for a stateful RNN\n",
        "\n",
        "import numpy as np\n",
        "\n",
        "def to_non_overlapping_windows(sequence, length):\n",
        "    ds = tf.data.Dataset.from_tensor_slices(sequence)\n",
        "    ds = ds.window(length + 1, shift=length, drop_remainder=True)\n",
        "    return ds.flat_map(lambda window: window.batch(length + 1))\n",
        "\n",
        "def to_batched_dataset_for_stateful_rnn(sequence, length, batch_size=32):\n",
        "    parts = np.array_split(sequence, batch_size)\n",
        "    datasets = tuple(to_non_overlapping_windows(part, length) for part in parts)\n",
        "    ds = tf.data.Dataset.zip(datasets).map(lambda *windows: tf.stack(windows))\n",
        "    return ds.map(lambda window: (window[:, :-1], window[:, 1:])).prefetch(1)\n",
        "\n",
        "list(to_batched_dataset_for_stateful_rnn(tf.range(20), length=3, batch_size=2))"
      ]
    },
    {
      "cell_type": "code",
      "execution_count": 28,
      "metadata": {
        "id": "B1vv2g_wcyg4"
      },
      "outputs": [],
      "source": [
        "class ResetStatesCallback(tf.keras.callbacks.Callback):\n",
        "    def on_epoch_begin(self, epoch, logs):\n",
        "        self.model.reset_states()"
      ]
    },
    {
      "cell_type": "code",
      "execution_count": 29,
      "metadata": {
        "id": "JCKW8QBOgxXM"
      },
      "outputs": [],
      "source": [
        "model_ckpt = tf.keras.callbacks.ModelCheckpoint(\n",
        "    \"my_stateful_shakespeare_model\",\n",
        "    monitor=\"val_accuracy\",\n",
        "    save_best_only=True)"
      ]
    },
    {
      "cell_type": "code",
      "execution_count": 30,
      "metadata": {
        "colab": {
          "base_uri": "https://localhost:8080/"
        },
        "id": "QHbSDZB9g0pM",
        "outputId": "f1ee7eec-bcdb-4baf-b7fc-a5bc2499f2c1"
      },
      "outputs": [
        {
          "output_type": "stream",
          "name": "stdout",
          "text": [
            "Epoch 1/7\n",
            "9999/9999 [==============================] - 93s 9ms/step - loss: 1.4873 - accuracy: 0.5446 - val_loss: 1.6190 - val_accuracy: 0.5187\n",
            "Epoch 2/7\n",
            "9999/9999 [==============================] - 86s 9ms/step - loss: 1.4556 - accuracy: 0.5509 - val_loss: 1.6047 - val_accuracy: 0.5241\n",
            "Epoch 3/7\n",
            "9999/9999 [==============================] - 90s 9ms/step - loss: 1.4422 - accuracy: 0.5540 - val_loss: 1.5979 - val_accuracy: 0.5210\n",
            "Epoch 4/7\n",
            "9999/9999 [==============================] - 95s 10ms/step - loss: 1.4332 - accuracy: 0.5564 - val_loss: 1.5840 - val_accuracy: 0.5251\n",
            "Epoch 5/7\n",
            "9999/9999 [==============================] - 97s 10ms/step - loss: 1.4266 - accuracy: 0.5584 - val_loss: 1.5872 - val_accuracy: 0.5237\n",
            "Epoch 6/7\n",
            "9999/9999 [==============================] - 93s 9ms/step - loss: 1.4226 - accuracy: 0.5597 - val_loss: 1.5870 - val_accuracy: 0.5208\n",
            "Epoch 7/7\n",
            "9999/9999 [==============================] - 88s 9ms/step - loss: 1.4199 - accuracy: 0.5603 - val_loss: 1.5737 - val_accuracy: 0.5270\n"
          ]
        }
      ],
      "source": [
        "# Warning: the following cell will take a while to run (possibly an hour if you are not using a GPU).\n",
        "model.compile(loss=\"sparse_categorical_crossentropy\", optimizer=\"nadam\",\n",
        "              metrics=[\"accuracy\"])\n",
        "history = model.fit(stateful_train_set, validation_data=stateful_valid_set,\n",
        "                    epochs=7, callbacks=[ResetStatesCallback(), model_ckpt])"
      ]
    },
    {
      "cell_type": "code",
      "execution_count": 31,
      "metadata": {
        "id": "i6zzYDzJhGZz",
        "colab": {
          "base_uri": "https://localhost:8080/"
        },
        "outputId": "a2e779e0-fced-4796-a068-814cbe953eab"
      },
      "outputs": [
        {
          "output_type": "stream",
          "name": "stderr",
          "text": [
            "WARNING:tensorflow:Layer gru_1 will not use cuDNN kernels since it doesn't meet the criteria. It will use a generic GPU kernel as fallback when running on GPU.\n"
          ]
        }
      ],
      "source": [
        "stateless_model = tf.keras.Sequential([\n",
        "    tf.keras.layers.Embedding(input_dim=n_tokens, output_dim=16),\n",
        "    tf.keras.layers.GRU(128, return_sequences=True),\n",
        "    tf.keras.layers.Dense(n_tokens, activation=\"softmax\")\n",
        "])"
      ]
    },
    {
      "cell_type": "code",
      "execution_count": 32,
      "metadata": {
        "id": "SB9h19iohbGx"
      },
      "outputs": [],
      "source": [
        "\n",
        "stateless_model.build(tf.TensorShape([None, None]))"
      ]
    },
    {
      "cell_type": "code",
      "execution_count": 33,
      "metadata": {
        "id": "TzDcHon7hYWf"
      },
      "outputs": [],
      "source": [
        "stateless_model.set_weights(model.get_weights())"
      ]
    },
    {
      "cell_type": "code",
      "execution_count": 34,
      "metadata": {
        "id": "skO-k1qJhfs4"
      },
      "outputs": [],
      "source": [
        "shakespeare_model = tf.keras.Sequential([\n",
        "    text_vec_layer,\n",
        "    tf.keras.layers.Lambda(lambda X: X - 2),  # no <PAD> or <UNK> tokens\n",
        "    stateless_model\n",
        "])"
      ]
    },
    {
      "cell_type": "code",
      "execution_count": 35,
      "metadata": {
        "colab": {
          "base_uri": "https://localhost:8080/"
        },
        "id": "WTJpRPVkhgOC",
        "outputId": "979bfc14-5433-469c-ef96-9c1accfb8948"
      },
      "outputs": [
        {
          "output_type": "stream",
          "name": "stdout",
          "text": [
            "1/1 [==============================] - 0s 465ms/step\n",
            "1/1 [==============================] - 0s 67ms/step\n",
            "1/1 [==============================] - 0s 80ms/step\n",
            "1/1 [==============================] - 0s 36ms/step\n",
            "1/1 [==============================] - 0s 62ms/step\n",
            "1/1 [==============================] - 0s 35ms/step\n",
            "1/1 [==============================] - 0s 48ms/step\n",
            "1/1 [==============================] - 0s 43ms/step\n",
            "1/1 [==============================] - 0s 38ms/step\n",
            "1/1 [==============================] - 0s 37ms/step\n",
            "1/1 [==============================] - 0s 36ms/step\n",
            "1/1 [==============================] - 0s 47ms/step\n",
            "1/1 [==============================] - 0s 55ms/step\n",
            "1/1 [==============================] - 0s 51ms/step\n",
            "1/1 [==============================] - 0s 96ms/step\n",
            "1/1 [==============================] - 0s 107ms/step\n",
            "1/1 [==============================] - 0s 65ms/step\n",
            "1/1 [==============================] - 0s 66ms/step\n",
            "1/1 [==============================] - 0s 37ms/step\n",
            "1/1 [==============================] - 0s 101ms/step\n",
            "1/1 [==============================] - 0s 82ms/step\n",
            "1/1 [==============================] - 0s 136ms/step\n",
            "1/1 [==============================] - 0s 93ms/step\n",
            "1/1 [==============================] - 0s 129ms/step\n",
            "1/1 [==============================] - 0s 147ms/step\n",
            "1/1 [==============================] - 0s 53ms/step\n",
            "1/1 [==============================] - 0s 74ms/step\n",
            "1/1 [==============================] - 0s 105ms/step\n",
            "1/1 [==============================] - 0s 124ms/step\n",
            "1/1 [==============================] - 0s 66ms/step\n",
            "1/1 [==============================] - 0s 100ms/step\n",
            "1/1 [==============================] - 0s 59ms/step\n",
            "1/1 [==============================] - 0s 59ms/step\n",
            "1/1 [==============================] - 0s 80ms/step\n",
            "1/1 [==============================] - 0s 100ms/step\n",
            "1/1 [==============================] - 0s 103ms/step\n",
            "1/1 [==============================] - 0s 68ms/step\n",
            "1/1 [==============================] - 0s 80ms/step\n",
            "1/1 [==============================] - 0s 67ms/step\n",
            "1/1 [==============================] - 0s 73ms/step\n",
            "1/1 [==============================] - 0s 94ms/step\n",
            "1/1 [==============================] - 0s 90ms/step\n",
            "1/1 [==============================] - 0s 41ms/step\n",
            "1/1 [==============================] - 0s 59ms/step\n",
            "1/1 [==============================] - 0s 73ms/step\n",
            "1/1 [==============================] - 0s 69ms/step\n",
            "1/1 [==============================] - 0s 69ms/step\n",
            "1/1 [==============================] - 0s 94ms/step\n",
            "1/1 [==============================] - 0s 67ms/step\n",
            "1/1 [==============================] - 0s 41ms/step\n",
            "1/1 [==============================] - 0s 48ms/step\n",
            "1/1 [==============================] - 0s 63ms/step\n",
            "1/1 [==============================] - 0s 47ms/step\n",
            "1/1 [==============================] - 0s 42ms/step\n",
            "1/1 [==============================] - 0s 70ms/step\n",
            "1/1 [==============================] - 0s 87ms/step\n",
            "1/1 [==============================] - 0s 43ms/step\n",
            "1/1 [==============================] - 0s 46ms/step\n",
            "1/1 [==============================] - 0s 69ms/step\n",
            "1/1 [==============================] - 0s 76ms/step\n",
            "1/1 [==============================] - 0s 56ms/step\n",
            "1/1 [==============================] - 0s 43ms/step\n",
            "1/1 [==============================] - 0s 45ms/step\n",
            "1/1 [==============================] - 0s 56ms/step\n",
            "1/1 [==============================] - 0s 50ms/step\n",
            "1/1 [==============================] - 0s 79ms/step\n",
            "1/1 [==============================] - 0s 89ms/step\n",
            "1/1 [==============================] - 0s 95ms/step\n",
            "1/1 [==============================] - 0s 124ms/step\n",
            "1/1 [==============================] - 0s 77ms/step\n",
            "1/1 [==============================] - 0s 90ms/step\n",
            "1/1 [==============================] - 0s 225ms/step\n",
            "1/1 [==============================] - 0s 309ms/step\n",
            "1/1 [==============================] - 0s 222ms/step\n",
            "1/1 [==============================] - 0s 245ms/step\n",
            "1/1 [==============================] - 0s 78ms/step\n",
            "1/1 [==============================] - 0s 84ms/step\n",
            "1/1 [==============================] - 0s 149ms/step\n",
            "1/1 [==============================] - 0s 70ms/step\n",
            "1/1 [==============================] - 0s 51ms/step\n",
            "1/1 [==============================] - 0s 45ms/step\n",
            "1/1 [==============================] - 0s 90ms/step\n",
            "1/1 [==============================] - 0s 82ms/step\n",
            "1/1 [==============================] - 0s 95ms/step\n",
            "1/1 [==============================] - 0s 144ms/step\n",
            "1/1 [==============================] - 0s 78ms/step\n",
            "1/1 [==============================] - 0s 168ms/step\n",
            "1/1 [==============================] - 0s 81ms/step\n",
            "1/1 [==============================] - 0s 117ms/step\n",
            "1/1 [==============================] - 0s 102ms/step\n",
            "1/1 [==============================] - 0s 155ms/step\n",
            "1/1 [==============================] - 0s 86ms/step\n",
            "1/1 [==============================] - 0s 141ms/step\n",
            "1/1 [==============================] - 0s 187ms/step\n",
            "1/1 [==============================] - 0s 94ms/step\n",
            "1/1 [==============================] - 0s 184ms/step\n",
            "1/1 [==============================] - 0s 120ms/step\n",
            "1/1 [==============================] - 0s 204ms/step\n",
            "1/1 [==============================] - 0s 150ms/step\n",
            "1/1 [==============================] - 0s 143ms/step\n",
            "to be or not to be a sounds and heard\n",
            "and heard her be a gentleman in the world heard to her and heard\n",
            "and heard her b\n"
          ]
        }
      ],
      "source": [
        "tf.random.set_seed(42)\n",
        "\n",
        "print(extend_text(\"to be or not to be\", temperature=0.01))"
      ]
    },
    {
      "cell_type": "markdown",
      "metadata": {
        "id": "ZdQnF1kohoGd"
      },
      "source": [
        "# Sentiment Analysis"
      ]
    },
    {
      "cell_type": "code",
      "execution_count": 36,
      "metadata": {
        "colab": {
          "base_uri": "https://localhost:8080/",
          "height": 137,
          "referenced_widgets": [
            "1d28bebd3ebe4c34bdbaccd6ff428f30",
            "34659a77fbbb4caf8f6f6618d35808ba",
            "217a88a8c5674571b1c23ab385ac36fd",
            "06bd55562e6b4c0786440904d95fe493",
            "5815ded85f504ef1b86324fe15836458",
            "1bcf6a35c08348ef9b2c3584ee2d3db3",
            "c05ef6f3b36f4a30af07b52ea0adb8dc",
            "37b8b6f8635a42478014c6b6be13e3df",
            "62b63a7e493846e5b59812551588e66d",
            "22037a9feecc4cad94c7e13d225c36e5",
            "abdade4345a54aab9ef392b0067938b6",
            "047536395adf4bfd9596ebc696856dc9",
            "f19e5c73b2b14d7ea3d2a595a10322d9",
            "869a509d20394775ac533ada9b94fd5d",
            "041705da9769411fa73b8c589d4ac471",
            "e2c78cd1f89e4fcea8929c1de5060917",
            "eaf758a3ad8b47e8b7992b4aecede519",
            "2301e39965534dc6ab3ea49d1d2faf1b",
            "502156f1382a449f8d58171599ad9283",
            "71f3625bded44ccb94d1049779f95f0b",
            "7da872f859394af78ce97e2af9cc8434",
            "748eab943dfd4ba4bffa7bf38067e4a4",
            "31cef85f4b5142ddad257264e6c8daf2",
            "47fa24dd1fdc4f10b6b1a777f8c674a3",
            "254a2e440b7340f891ff14a0e924c59e",
            "78b4dc09dcca42989c486470eed44acf",
            "d088b68512ed430c85b1929f54ed42e5",
            "c2c7bdd26b23449b9ca755169c5ccfa3",
            "00b5147b6af746d4aab2fa827c402007",
            "f2737879529143d48269020d1cf72137",
            "f72b0b8c9e5e43f39da52ed0e6818e86",
            "7c96cc6ad2ed4e46b12c290cdf74ae94",
            "3832b4fa503847ecb463ad4a20725297",
            "eb2280aa356e4c0fb9df36ba138711d9",
            "411a21699aae4d5480e778c673919ec5",
            "b54885c3fe164ffcb1466dfbd67cc147",
            "d0b225cff420424c9cf1ccff42e2f75c",
            "5b3f8a257c9d4f39aed97a005507225b",
            "e0af5089d21c4b339b40e7878ab7e3aa",
            "57da18e31dd14d78978e2e2f06c31264",
            "d0580ad6274c4549bb69adb712482082",
            "5a9fb9b1330241e082be751cb31a7918",
            "d6a196eec9fc4a3186c2a51e6003f8da",
            "c9d0abcb39cf451ab4589936ada973eb",
            "7783fc41691b4aaf8219f3fff7a91260",
            "95bad77bc6094f15810b91829d2b0565",
            "227e62e9d96948a7821f7e0296df483a",
            "bc5b887c4bc4484696792bc2368c4adc",
            "33671689aa76442bb44d10402530d9b4",
            "d1a721c5e2044f6ead0d9db0c690e3b0",
            "47cba1e21f8844bf9a944ed40d13dfcf",
            "d2d8d2fa4fc740e3bc0bd6009a587536",
            "8a3e9e30e79a4078943d376cca416cca",
            "591adb230e29468d9e48c67ac2436eb8",
            "01d4285a0e734cc888934a96ef83cb3e",
            "9e2556d19cba42638995838e9ae20090",
            "8f6ff7c37d6b4e56881f009c7d89ed3f",
            "2a38512661c14926858d7a252d973268",
            "2270768d8557466e9097b7fb8fa8ac48",
            "1bd571d6578a4a88afb7cab010b765b9",
            "c004c7e91ec4422786aa1383d8eea92e",
            "3175660fb0b341a1a7b41566426965d5",
            "257e4700563d4a08a7e105fec7a4be75",
            "f68f58a93b5e47dd8b4a02742287aa6f",
            "924983c7730446f0a3612088cb9d1383",
            "1df67c3afa6d4716bd389df983e74951",
            "e5a7714048de4c35b5e383a07fd162c8",
            "61362efe754f40cf86c19e3efbda1677",
            "74ab1881e4c64c8fbca2bed049fc15cd",
            "0d167f1497cb44fe9e07d3c43bc920e6",
            "38b39ba224bd4606a68ac9754ec5b984",
            "6d18640710054f3bb756be527c65c620",
            "259a5448eade494f9103047f413916fb",
            "d4b9e467c0194b2f8392937fb8292e24",
            "2445d668b0924bbab69dd96ebf0cc484",
            "c5c361d064db4bf2955af8e0224a4369",
            "4c94f1fb94024eceb98377c9a203015d",
            "9db92c5415aa458b8e50d2e932710173",
            "c05b8c4e017d4d11a49ac1e5851e09cf",
            "ac8ea29361c440608fb459b29a1f690f",
            "be3bdfcc0650459289f86c4b87404100",
            "33e64c5d0ad94bcdaf25331639801552",
            "44ae95124048427188899b3c799dc0c6",
            "72cbf5c7e73a4c888c49fc6f1bfac9e9",
            "e13088c9df874ab0910767f91c5a87e7",
            "f5b9378674aa4d1a9601a6613ef3e6ea",
            "f161144c11d945148685d09ae29c02e3",
            "ae1b80efc8404f4f8d42833e845b685c",
            "b2670a0e490e46e4a178579e63496b5e",
            "b716cd08f5d34333be5c661d1a6b7ed7",
            "550dc8672b7c4ec6a44fd7b56c1ab184",
            "dca4937b1a664952b85198dc3980359b",
            "08104c40193842f6a3cee690358abc12",
            "2c411550a1304d3f9fbe10113018bc27",
            "0bf5d9653a424675be79807fc6f37f4a",
            "93310ce19d604ebd9578cc5431af1944",
            "14a42398574c4fa9b87e56955bc6ea02",
            "f45b38fd785d4169b35b6bea6c0ca646",
            "7f7309e82bd04978b5b77c88de59ed8c"
          ]
        },
        "id": "BnL9n4VbhpEa",
        "outputId": "af52a6e7-6ea9-40a8-e519-226bf12a13a5"
      },
      "outputs": [
        {
          "output_type": "stream",
          "name": "stdout",
          "text": [
            "Downloading and preparing dataset 80.23 MiB (download: 80.23 MiB, generated: Unknown size, total: 80.23 MiB) to /root/tensorflow_datasets/imdb_reviews/plain_text/1.0.0...\n"
          ]
        },
        {
          "output_type": "display_data",
          "data": {
            "text/plain": [
              "Dl Completed...: 0 url [00:00, ? url/s]"
            ],
            "application/vnd.jupyter.widget-view+json": {
              "version_major": 2,
              "version_minor": 0,
              "model_id": "1d28bebd3ebe4c34bdbaccd6ff428f30"
            }
          },
          "metadata": {}
        },
        {
          "output_type": "display_data",
          "data": {
            "text/plain": [
              "Dl Size...: 0 MiB [00:00, ? MiB/s]"
            ],
            "application/vnd.jupyter.widget-view+json": {
              "version_major": 2,
              "version_minor": 0,
              "model_id": "047536395adf4bfd9596ebc696856dc9"
            }
          },
          "metadata": {}
        },
        {
          "output_type": "display_data",
          "data": {
            "text/plain": [
              "Generating splits...:   0%|          | 0/3 [00:00<?, ? splits/s]"
            ],
            "application/vnd.jupyter.widget-view+json": {
              "version_major": 2,
              "version_minor": 0,
              "model_id": "31cef85f4b5142ddad257264e6c8daf2"
            }
          },
          "metadata": {}
        },
        {
          "output_type": "display_data",
          "data": {
            "text/plain": [
              "Generating train examples...:   0%|          | 0/25000 [00:00<?, ? examples/s]"
            ],
            "application/vnd.jupyter.widget-view+json": {
              "version_major": 2,
              "version_minor": 0,
              "model_id": "eb2280aa356e4c0fb9df36ba138711d9"
            }
          },
          "metadata": {}
        },
        {
          "output_type": "display_data",
          "data": {
            "text/plain": [
              "Shuffling /root/tensorflow_datasets/imdb_reviews/plain_text/incomplete.RZ33Z0_1.0.0/imdb_reviews-train.tfrecor…"
            ],
            "application/vnd.jupyter.widget-view+json": {
              "version_major": 2,
              "version_minor": 0,
              "model_id": "7783fc41691b4aaf8219f3fff7a91260"
            }
          },
          "metadata": {}
        },
        {
          "output_type": "display_data",
          "data": {
            "text/plain": [
              "Generating test examples...:   0%|          | 0/25000 [00:00<?, ? examples/s]"
            ],
            "application/vnd.jupyter.widget-view+json": {
              "version_major": 2,
              "version_minor": 0,
              "model_id": "9e2556d19cba42638995838e9ae20090"
            }
          },
          "metadata": {}
        },
        {
          "output_type": "display_data",
          "data": {
            "text/plain": [
              "Shuffling /root/tensorflow_datasets/imdb_reviews/plain_text/incomplete.RZ33Z0_1.0.0/imdb_reviews-test.tfrecord…"
            ],
            "application/vnd.jupyter.widget-view+json": {
              "version_major": 2,
              "version_minor": 0,
              "model_id": "e5a7714048de4c35b5e383a07fd162c8"
            }
          },
          "metadata": {}
        },
        {
          "output_type": "display_data",
          "data": {
            "text/plain": [
              "Generating unsupervised examples...:   0%|          | 0/50000 [00:00<?, ? examples/s]"
            ],
            "application/vnd.jupyter.widget-view+json": {
              "version_major": 2,
              "version_minor": 0,
              "model_id": "9db92c5415aa458b8e50d2e932710173"
            }
          },
          "metadata": {}
        },
        {
          "output_type": "display_data",
          "data": {
            "text/plain": [
              "Shuffling /root/tensorflow_datasets/imdb_reviews/plain_text/incomplete.RZ33Z0_1.0.0/imdb_reviews-unsupervised.…"
            ],
            "application/vnd.jupyter.widget-view+json": {
              "version_major": 2,
              "version_minor": 0,
              "model_id": "b2670a0e490e46e4a178579e63496b5e"
            }
          },
          "metadata": {}
        },
        {
          "output_type": "stream",
          "name": "stdout",
          "text": [
            "Dataset imdb_reviews downloaded and prepared to /root/tensorflow_datasets/imdb_reviews/plain_text/1.0.0. Subsequent calls will reuse this data.\n"
          ]
        }
      ],
      "source": [
        "import tensorflow_datasets as tfds\n",
        "\n",
        "raw_train_set, raw_valid_set, raw_test_set = tfds.load(\n",
        "    name=\"imdb_reviews\",\n",
        "    split=[\"train[:90%]\", \"train[90%:]\", \"test\"],\n",
        "    as_supervised=True\n",
        ")\n",
        "tf.random.set_seed(42)\n",
        "train_set = raw_train_set.shuffle(5000, seed=42).batch(32).prefetch(1)\n",
        "valid_set = raw_valid_set.batch(32).prefetch(1)\n",
        "test_set = raw_test_set.batch(32).prefetch(1)"
      ]
    },
    {
      "cell_type": "code",
      "execution_count": 37,
      "metadata": {
        "colab": {
          "base_uri": "https://localhost:8080/"
        },
        "id": "Mf4KFr2dhrSL",
        "outputId": "b2d873f6-46da-41a9-d6d4-a1654d7c97c0"
      },
      "outputs": [
        {
          "output_type": "stream",
          "name": "stdout",
          "text": [
            "b\"This was an absolutely terrible movie. Don't be lured in by Christopher Walken or Michael Ironside. Both are great actors, but this must simply be their worst role in history. Even their great acting \" ...\n",
            "Label: 0\n",
            "b'I have been known to fall asleep during films, but this is usually due to a combination of things including, really tired, being warm and comfortable on the sette and having just eaten a lot. However ' ...\n",
            "Label: 0\n",
            "b'Mann photographs the Alberta Rocky Mountains in a superb fashion, and Jimmy Stewart and Walter Brennan give enjoyable performances as they always seem to do. <br /><br />But come on Hollywood - a Moun' ...\n",
            "Label: 0\n",
            "b'This is the kind of film for a snowy Sunday afternoon when the rest of the world can go ahead with its own business as you descend into a big arm-chair and mellow for a couple of hours. Wonderful perf' ...\n",
            "Label: 1\n"
          ]
        }
      ],
      "source": [
        "for review, label in raw_train_set.take(4):\n",
        "    print(review.numpy()[:200], \"...\")\n",
        "    print(\"Label:\", label.numpy())"
      ]
    },
    {
      "cell_type": "code",
      "execution_count": 38,
      "metadata": {
        "id": "0HKWlvsThw3Y"
      },
      "outputs": [],
      "source": [
        "\n",
        "vocab_size = 1000\n",
        "text_vec_layer = tf.keras.layers.TextVectorization(max_tokens=vocab_size)\n",
        "text_vec_layer.adapt(train_set.map(lambda reviews, labels: reviews))"
      ]
    },
    {
      "cell_type": "code",
      "execution_count": 39,
      "metadata": {
        "colab": {
          "base_uri": "https://localhost:8080/"
        },
        "id": "T0x-JgvmrO_B",
        "outputId": "76768151-7a12-4b22-aeec-2b818e80f198"
      },
      "outputs": [
        {
          "output_type": "stream",
          "name": "stderr",
          "text": [
            "WARNING:tensorflow:Layer gru_2 will not use cuDNN kernels since it doesn't meet the criteria. It will use a generic GPU kernel as fallback when running on GPU.\n"
          ]
        },
        {
          "output_type": "stream",
          "name": "stdout",
          "text": [
            "Epoch 1/2\n",
            "704/704 [==============================] - 1170s 2s/step - loss: 0.6934 - accuracy: 0.5013 - val_loss: 0.6930 - val_accuracy: 0.5024\n",
            "Epoch 2/2\n",
            "704/704 [==============================] - 1100s 2s/step - loss: 0.6934 - accuracy: 0.5039 - val_loss: 0.7143 - val_accuracy: 0.4992\n"
          ]
        }
      ],
      "source": [
        "embed_size = 128\n",
        "tf.random.set_seed(42)\n",
        "model = tf.keras.Sequential([\n",
        "    text_vec_layer,\n",
        "    tf.keras.layers.Embedding(vocab_size, embed_size),\n",
        "    tf.keras.layers.GRU(128),\n",
        "    tf.keras.layers.Dense(1, activation=\"sigmoid\")\n",
        "])\n",
        "model.compile(loss=\"binary_crossentropy\", optimizer=\"nadam\",\n",
        "              metrics=[\"accuracy\"])\n",
        "history = model.fit(train_set, validation_data=valid_set, epochs=2)"
      ]
    },
    {
      "cell_type": "markdown",
      "metadata": {
        "id": "3pqbddZerRXn"
      },
      "source": [
        "# Masking"
      ]
    },
    {
      "cell_type": "code",
      "execution_count": null,
      "metadata": {
        "id": "E5-Hg014rXih",
        "colab": {
          "base_uri": "https://localhost:8080/"
        },
        "outputId": "1d25e45b-e6b2-4f73-d3d9-02d7ecc517c2"
      },
      "outputs": [
        {
          "output_type": "stream",
          "name": "stderr",
          "text": [
            "WARNING:tensorflow:Layer gru_3 will not use cuDNN kernels since it doesn't meet the criteria. It will use a generic GPU kernel as fallback when running on GPU.\n"
          ]
        },
        {
          "output_type": "stream",
          "name": "stdout",
          "text": [
            "Epoch 1/5\n",
            "704/704 [==============================] - 1480s 2s/step - loss: 0.5164 - accuracy: 0.7336 - val_loss: 0.6718 - val_accuracy: 0.7296\n",
            "Epoch 2/5\n",
            "114/704 [===>..........................] - ETA: 23:11 - loss: 0.3800 - accuracy: 0.8418"
          ]
        }
      ],
      "source": [
        "embed_size = 128\n",
        "tf.random.set_seed(42)\n",
        "model = tf.keras.Sequential([\n",
        "    text_vec_layer,\n",
        "    tf.keras.layers.Embedding(vocab_size, embed_size, mask_zero=True),\n",
        "    tf.keras.layers.GRU(128),\n",
        "    tf.keras.layers.Dense(1, activation=\"sigmoid\")\n",
        "])\n",
        "model.compile(loss=\"binary_crossentropy\", optimizer=\"nadam\",\n",
        "              metrics=[\"accuracy\"])\n",
        "history = model.fit(train_set, validation_data=valid_set, epochs=5)"
      ]
    },
    {
      "cell_type": "code",
      "execution_count": null,
      "metadata": {
        "id": "DU6iczePrb5p"
      },
      "outputs": [],
      "source": [
        "tf.random.set_seed(42)  # extra code – ensures reproducibility on the CPU\n",
        "inputs = tf.keras.layers.Input(shape=[], dtype=tf.string)\n",
        "token_ids = text_vec_layer(inputs)\n",
        "mask = tf.math.not_equal(token_ids, 0)\n",
        "Z = tf.keras.layers.Embedding(vocab_size, embed_size)(token_ids)\n",
        "Z = tf.keras.layers.GRU(128, dropout=0.2)(Z, mask=mask)\n",
        "outputs = tf.keras.layers.Dense(1, activation=\"sigmoid\")(Z)\n",
        "model = tf.keras.Model(inputs=[inputs], outputs=[outputs])"
      ]
    },
    {
      "cell_type": "code",
      "execution_count": null,
      "metadata": {
        "id": "CMUJ_mj5rdGQ"
      },
      "outputs": [],
      "source": [
        "# extra code – compiles and trains the model, as usual\n",
        "model.compile(loss=\"binary_crossentropy\", optimizer=\"nadam\",\n",
        "              metrics=[\"accuracy\"])\n",
        "history = model.fit(train_set, validation_data=valid_set, epochs=5)"
      ]
    },
    {
      "cell_type": "code",
      "execution_count": null,
      "metadata": {
        "id": "zQTylvw6rlde"
      },
      "outputs": [],
      "source": [
        "\n",
        "text_vec_layer_ragged = tf.keras.layers.TextVectorization(\n",
        "    max_tokens=vocab_size, ragged=True)\n",
        "text_vec_layer_ragged.adapt(train_set.map(lambda reviews, labels: reviews))\n",
        "text_vec_layer_ragged([\"Great movie!\", \"This is DiCaprio's best role.\"])"
      ]
    },
    {
      "cell_type": "code",
      "execution_count": null,
      "metadata": {
        "id": "nuzDgxP_rnLt"
      },
      "outputs": [],
      "source": [
        "\n",
        "text_vec_layer([\"Great movie!\", \"This is DiCaprio's best role.\"])"
      ]
    },
    {
      "cell_type": "code",
      "execution_count": null,
      "metadata": {
        "id": "gEWgrCemro-C"
      },
      "outputs": [],
      "source": [
        "embed_size = 128\n",
        "tf.random.set_seed(42)\n",
        "model = tf.keras.Sequential([\n",
        "    text_vec_layer_ragged,\n",
        "    tf.keras.layers.Embedding(vocab_size, embed_size),\n",
        "    tf.keras.layers.GRU(128),\n",
        "    tf.keras.layers.Dense(1, activation=\"sigmoid\")\n",
        "])\n",
        "model.compile(loss=\"binary_crossentropy\", optimizer=\"nadam\",\n",
        "              metrics=[\"accuracy\"])\n",
        "history = model.fit(train_set, validation_data=valid_set, epochs=5)"
      ]
    },
    {
      "cell_type": "markdown",
      "metadata": {
        "id": "epom8VpnrulH"
      },
      "source": [
        "# Reusing Pretrained Embeddings and Language Models"
      ]
    },
    {
      "cell_type": "code",
      "execution_count": null,
      "metadata": {
        "colab": {
          "background_save": true
        },
        "id": "tyu9gb9YrxOk"
      },
      "outputs": [],
      "source": [
        "import os\n",
        "import tensorflow_hub as hub\n",
        "\n",
        "os.environ[\"TFHUB_CACHE_DIR\"] = \"my_tfhub_cache\"\n",
        "tf.random.set_seed(42)  # extra code – ensures reproducibility on CPU\n",
        "model = tf.keras.Sequential([\n",
        "    hub.KerasLayer(\"https://tfhub.dev/google/universal-sentence-encoder/4\",\n",
        "                   trainable=True, dtype=tf.string, input_shape=[]),\n",
        "    tf.keras.layers.Dense(64, activation=\"relu\"),\n",
        "    tf.keras.layers.Dense(1, activation=\"sigmoid\")\n",
        "])\n",
        "model.compile(loss=\"binary_crossentropy\", optimizer=\"nadam\",\n",
        "              metrics=[\"accuracy\"])\n",
        "model.fit(train_set, validation_data=valid_set, epochs=10)"
      ]
    },
    {
      "cell_type": "markdown",
      "metadata": {
        "id": "mbZdtwW2Guez"
      },
      "source": [
        "# An Encoder–Decoder Network for Neural Machine Translation"
      ]
    },
    {
      "cell_type": "code",
      "execution_count": null,
      "metadata": {
        "id": "GpJeFGRnGvge"
      },
      "outputs": [],
      "source": [
        "url = \"https://storage.googleapis.com/download.tensorflow.org/data/spa-eng.zip\"\n",
        "path = tf.keras.utils.get_file(\"spa-eng.zip\", origin=url, cache_dir=\"datasets\",\n",
        "                               extract=True)\n",
        "text = (Path(path).with_name(\"spa-eng\") / \"spa.txt\").read_text()"
      ]
    },
    {
      "cell_type": "code",
      "execution_count": null,
      "metadata": {
        "id": "pwi8RXb6G0b6"
      },
      "outputs": [],
      "source": [
        "import numpy as np\n",
        "\n",
        "text = text.replace(\"¡\", \"\").replace(\"¿\", \"\")\n",
        "pairs = [line.split(\"\\t\") for line in text.splitlines()]\n",
        "np.random.seed(42)  # extra code – ensures reproducibility on CPU\n",
        "np.random.shuffle(pairs)\n",
        "sentences_en, sentences_es = zip(*pairs)"
      ]
    },
    {
      "cell_type": "code",
      "execution_count": null,
      "metadata": {
        "id": "bsQdqhb-G-PY"
      },
      "outputs": [],
      "source": [
        "for i in range(3):\n",
        "    print(sentences_en[i], \"=>\", sentences_es[i])"
      ]
    },
    {
      "cell_type": "code",
      "execution_count": null,
      "metadata": {
        "id": "9_6dq2ZlHCon"
      },
      "outputs": [],
      "source": [
        "vocab_size = 1000\n",
        "max_length = 50\n",
        "text_vec_layer_en = tf.keras.layers.TextVectorization(\n",
        "    vocab_size, output_sequence_length=max_length)\n",
        "text_vec_layer_es = tf.keras.layers.TextVectorization(\n",
        "    vocab_size, output_sequence_length=max_length)\n",
        "text_vec_layer_en.adapt(sentences_en)\n",
        "text_vec_layer_es.adapt([f\"startofseq {s} endofseq\" for s in sentences_es])"
      ]
    },
    {
      "cell_type": "code",
      "execution_count": null,
      "metadata": {
        "id": "8KLHE_f9HMHm"
      },
      "outputs": [],
      "source": [
        "text_vec_layer_en.get_vocabulary()[:10]"
      ]
    },
    {
      "cell_type": "code",
      "execution_count": null,
      "metadata": {
        "id": "YMsBF2g1HsLk"
      },
      "outputs": [],
      "source": [
        "text_vec_layer_es.get_vocabulary()[:10]"
      ]
    },
    {
      "cell_type": "code",
      "execution_count": null,
      "metadata": {
        "id": "uwmfdTwXIISJ"
      },
      "outputs": [],
      "source": [
        "X_train = tf.constant(sentences_en[:100_000])\n",
        "X_valid = tf.constant(sentences_en[100_000:])\n",
        "X_train_dec = tf.constant([f\"startofseq {s}\" for s in sentences_es[:100_000]])\n",
        "X_valid_dec = tf.constant([f\"startofseq {s}\" for s in sentences_es[100_000:]])\n",
        "Y_train = text_vec_layer_es([f\"{s} endofseq\" for s in sentences_es[:100_000]])\n",
        "Y_valid = text_vec_layer_es([f\"{s} endofseq\" for s in sentences_es[100_000:]])"
      ]
    },
    {
      "cell_type": "code",
      "execution_count": null,
      "metadata": {
        "id": "rRIUT2gZMumz"
      },
      "outputs": [],
      "source": [
        "\n",
        "tf.random.set_seed(42)  # extra code – ensures reproducibility on CPU\n",
        "encoder_inputs = tf.keras.layers.Input(shape=[], dtype=tf.string)\n",
        "decoder_inputs = tf.keras.layers.Input(shape=[], dtype=tf.string)"
      ]
    },
    {
      "cell_type": "code",
      "execution_count": null,
      "metadata": {
        "id": "PfZgUpr4M2UV"
      },
      "outputs": [],
      "source": [
        "embed_size = 128\n",
        "encoder_input_ids = text_vec_layer_en(encoder_inputs)\n",
        "decoder_input_ids = text_vec_layer_es(decoder_inputs)\n",
        "encoder_embedding_layer = tf.keras.layers.Embedding(vocab_size, embed_size,\n",
        "                                                    mask_zero=True)\n",
        "decoder_embedding_layer = tf.keras.layers.Embedding(vocab_size, embed_size,\n",
        "                                                    mask_zero=True)\n",
        "encoder_embeddings = encoder_embedding_layer(encoder_input_ids)\n",
        "decoder_embeddings = decoder_embedding_layer(decoder_input_ids)"
      ]
    },
    {
      "cell_type": "code",
      "execution_count": null,
      "metadata": {
        "id": "3t3rt4S3M4NC"
      },
      "outputs": [],
      "source": [
        "encoder = tf.keras.layers.LSTM(512, return_state=True)\n",
        "encoder_outputs, *encoder_state = encoder(encoder_embeddings)"
      ]
    },
    {
      "cell_type": "code",
      "execution_count": null,
      "metadata": {
        "id": "WK6PPLIZFd7G"
      },
      "outputs": [],
      "source": [
        "decoder = tf.keras.layers.LSTM(512, return_sequences=True)\n",
        "decoder_outputs = decoder(decoder_embeddings, initial_state=encoder_state)"
      ]
    },
    {
      "cell_type": "code",
      "execution_count": null,
      "metadata": {
        "id": "8cuq12sNFh57"
      },
      "outputs": [],
      "source": [
        "output_layer = tf.keras.layers.Dense(vocab_size, activation=\"softmax\")\n",
        "Y_proba = output_layer(decoder_outputs)"
      ]
    },
    {
      "cell_type": "code",
      "execution_count": null,
      "metadata": {
        "id": "VT4z200vFj0N"
      },
      "outputs": [],
      "source": [
        "model = tf.keras.Model(inputs=[encoder_inputs, decoder_inputs],\n",
        "                       outputs=[Y_proba])\n",
        "model.compile(loss=\"sparse_categorical_crossentropy\", optimizer=\"nadam\",\n",
        "              metrics=[\"accuracy\"])\n",
        "model.fit((X_train, X_train_dec), Y_train, epochs=10,\n",
        "          validation_data=((X_valid, X_valid_dec), Y_valid))"
      ]
    },
    {
      "cell_type": "code",
      "execution_count": null,
      "metadata": {
        "id": "dVYAEgH1FoP8"
      },
      "outputs": [],
      "source": [
        "def translate(sentence_en):\n",
        "    translation = \"\"\n",
        "    for word_idx in range(max_length):\n",
        "        X = np.array([sentence_en])  # encoder input\n",
        "        X_dec = np.array([\"startofseq \" + translation])  # decoder input\n",
        "        y_proba = model.predict((X, X_dec))[0, word_idx]  # last token's probas\n",
        "        predicted_word_id = np.argmax(y_proba)\n",
        "        predicted_word = text_vec_layer_es.get_vocabulary()[predicted_word_id]\n",
        "        if predicted_word == \"endofseq\":\n",
        "            break\n",
        "        translation += \" \" + predicted_word\n",
        "    return translation.strip()"
      ]
    },
    {
      "cell_type": "code",
      "execution_count": null,
      "metadata": {
        "id": "cwzu1RKoFqIF"
      },
      "outputs": [],
      "source": [
        "translate(\"I like soccer\")"
      ]
    },
    {
      "cell_type": "code",
      "execution_count": null,
      "metadata": {
        "id": "LcGY_XSYFsNs"
      },
      "outputs": [],
      "source": [
        "translate(\"I like soccer and also going to the beach\")"
      ]
    },
    {
      "cell_type": "markdown",
      "source": [
        "![image.png](data:image/png;base64,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)"
      ],
      "metadata": {
        "id": "9j8VizkioNpf"
      }
    },
    {
      "cell_type": "markdown",
      "metadata": {
        "id": "W0ijjFA_FuN0"
      },
      "source": [
        "# Bidirectional RNNs"
      ]
    },
    {
      "cell_type": "code",
      "execution_count": null,
      "metadata": {
        "id": "0-L9i51tFv8P"
      },
      "outputs": [],
      "source": [
        "\n",
        "tf.random.set_seed(42)  # extra code – ensures reproducibility on CPU\n",
        "encoder = tf.keras.layers.Bidirectional(\n",
        "    tf.keras.layers.LSTM(256, return_state=True))"
      ]
    },
    {
      "cell_type": "code",
      "execution_count": null,
      "metadata": {
        "id": "vTNRmEA5F3Jz"
      },
      "outputs": [],
      "source": [
        "encoder_outputs, *encoder_state = encoder(encoder_embeddings)\n",
        "encoder_state = [tf.concat(encoder_state[::2], axis=-1),  # short-term (0 & 2)\n",
        "                 tf.concat(encoder_state[1::2], axis=-1)]  # long-term (1 & 3)"
      ]
    },
    {
      "cell_type": "code",
      "execution_count": null,
      "metadata": {
        "id": "WSMWO-4GF5rb"
      },
      "outputs": [],
      "source": [
        "# extra code — completes the model and trains it\n",
        "decoder = tf.keras.layers.LSTM(512, return_sequences=True)\n",
        "decoder_outputs = decoder(decoder_embeddings, initial_state=encoder_state)\n",
        "output_layer = tf.keras.layers.Dense(vocab_size, activation=\"softmax\")\n",
        "Y_proba = output_layer(decoder_outputs)\n",
        "model = tf.keras.Model(inputs=[encoder_inputs, decoder_inputs],\n",
        "                       outputs=[Y_proba])\n",
        "model.compile(loss=\"sparse_categorical_crossentropy\", optimizer=\"nadam\",\n",
        "              metrics=[\"accuracy\"])\n",
        "model.fit((X_train, X_train_dec), Y_train, epochs=10,\n",
        "          validation_data=((X_valid, X_valid_dec), Y_valid))"
      ]
    },
    {
      "cell_type": "code",
      "execution_count": null,
      "metadata": {
        "id": "oppi51FRF8i6"
      },
      "outputs": [],
      "source": [
        "translate(\"I like soccer\")"
      ]
    },
    {
      "cell_type": "markdown",
      "metadata": {
        "id": "Eiv_maitF-cS"
      },
      "source": [
        "# Beam Search"
      ]
    },
    {
      "cell_type": "code",
      "source": [
        "def beam_search(sentence_en, beam_width, verbose=False):\n",
        "  X = np.array([sentence_en])\n",
        "  X_dec = np.array([\"startofseq\"])\n",
        "  Y_proba = model.predict((X, X_dec))[0, 0]\n",
        "  top_k = tf.math.top_k(Y_proba, k=beam_width)\n",
        "  top_translations = [# list of best(log_proba, translation)\n",
        "      (np.log(word_prooba), text_vec_layer_es.get_vocabulary()[word_id])\n",
        "      for word_prooba, word_id in zip(top_k.values, top_k.indices)]\n",
        "\n",
        "  #extra code - displays the top first words in verbose mode\n",
        "  if verbose:\n",
        "    print(\"Top first words:\", top_translations)\n",
        "\n",
        "  for idx in range(1, max_length):\n",
        "    candidates = []\n",
        "    for log_proba, translation in top_translations:\n",
        "      if translation.endswith(\"endofseq\"):\n",
        "        candidates.append((log_proba, translation))\n",
        "        continue # translation is finished, so don't try to extend it\n",
        "      X = np.array([sentence_en]) #encoder input\n",
        "      X_dec = np.array([\"startofseq \"+ translation]) #decoder input\n",
        "      y_proba = model.predict((X, X_dec))[0, idx] #last token's proba\n",
        "      for word_id, word_proba in enumerate(y_proba):\n",
        "        word = text_vec_layer_es.get_vocabulary()[word_id]\n",
        "        candidates.append((log_proba + np.log(word_proba), f\"{translation}{word}\"))\n",
        "    top_translations = sorted(candidates, reverse=True)[:beam_width]\n",
        "    if verbose:\n",
        "      print(\"Top translations so far:\", top_translations)\n",
        "    # extra code - displays the top translations so far in verbose mode\n",
        "    if all([tr.endwith(\"endofseq\") for _, tr in top_translations]):\n",
        "      return top_translations[0][1].replace(\"endofseq\", \"\").strip()"
      ],
      "metadata": {
        "id": "G8WLx1jCNqvC"
      },
      "execution_count": null,
      "outputs": []
    },
    {
      "cell_type": "code",
      "source": [
        "sentence_en = \"I love cats and dogs\"\n",
        "translate(sentence_en)"
      ],
      "metadata": {
        "id": "egE4XWjPnHtK"
      },
      "execution_count": null,
      "outputs": []
    },
    {
      "cell_type": "code",
      "source": [
        "beam_search(sentence_en, beam_width=3, verbose=True)"
      ],
      "metadata": {
        "id": "17kUZ33tkSBe"
      },
      "execution_count": null,
      "outputs": []
    },
    {
      "cell_type": "markdown",
      "source": [
        "#Attention Mechanism"
      ],
      "metadata": {
        "id": "QEoUXryMnaww"
      }
    },
    {
      "cell_type": "code",
      "source": [
        "tf.random.set_seed(42).  #extra code-ensures reproducibility on CPU\n",
        "encoder = tf.keras.layers.Bidirectional(\n",
        "    tf.keras.layers.LSTM(256, return_sequences=True, return_state=True))\n"
      ],
      "metadata": {
        "id": "yyH7dRXtnff1"
      },
      "execution_count": null,
      "outputs": []
    },
    {
      "cell_type": "code",
      "source": [
        "encoder_outputs, *encoder_state = encoder(encoder_embeddings)\n",
        "encoder_state = [tf.concat(encoder_state[::2], axis=-1),  # short-term (0 & 2)\n",
        "                 tf.concat(encoder_state[1::2], axis=-1)]  # long-term (1 & 3)\n",
        "decoder = tf.keras.layers.LSTM(512, return_sequences=True)\n",
        "decoder_outputs = decoder(decoder_embeddings, initial_state=encoder_state)"
      ],
      "metadata": {
        "id": "HrVOYkkfBeAl"
      },
      "execution_count": null,
      "outputs": []
    },
    {
      "cell_type": "code",
      "source": [
        "attention_layer = tf.keras.layers.layers.Attention()\n",
        "attention_outputs = attention_layer([decoder_outputs, encoder_outputs])\n",
        "output_layer = tf.keras.layers.Dense(vocab_size, activation=\"softmax\")\n",
        "Y_proba = output_layer(attention_outputs)"
      ],
      "metadata": {
        "id": "fVZAdF4kCNf7"
      },
      "execution_count": null,
      "outputs": []
    },
    {
      "cell_type": "code",
      "source": [
        "model = tf.keras.Model(inputs=[encoder_inputs, decoder_inputs],\n",
        "                       outputs=[Y_proba])\n",
        "model.compile(loss=\"sparse_categorical_crossentropy\", optimizer=\"nadam\",\n",
        "              metrics=[\"accuracy\"])\n",
        "model.fit((X_train, X_train_dec), Y_train, epochs=10,\n",
        "          validation_data=((X_valid, X_valid_dec), Y_valid))"
      ],
      "metadata": {
        "id": "yW7354nyDj1b"
      },
      "execution_count": null,
      "outputs": []
    },
    {
      "cell_type": "code",
      "source": [
        "translate(\"I like soccer and also going to the beach\")"
      ],
      "metadata": {
        "id": "v4qdbgqoEuEp"
      },
      "execution_count": null,
      "outputs": []
    },
    {
      "cell_type": "code",
      "source": [
        "beam(\" I like soccer and also going to the beach\", beam_width=3, verbose=True)"
      ],
      "metadata": {
        "id": "9A24-cnsFJjR"
      },
      "execution_count": null,
      "outputs": []
    },
    {
      "cell_type": "markdown",
      "source": [
        "#Attention Is ALL You Need: The Transformer Architecture"
      ],
      "metadata": {
        "id": "njNL5pd4F9LZ"
      }
    },
    {
      "cell_type": "code",
      "source": [
        "max_length = 50 # max length in the whole traning set\n",
        "embed_size = 128\n",
        "tf.random.set_seed(42)\n",
        "pos_embed_layer = tf.keras.layers.Embedding(max_length,embed_size)\n",
        "batch_max_len_enc = tf.shape(encoder_embeddings)[1]\n",
        "encoder_in = encoder_embeddings + pos_embed_layer(tf.range(batch_max_len_enc))\n",
        "batch_max_len_dec = tf.shape(decoder_embeddings)[1]\n",
        "decoder_in = decoder_embeddings + pos_embed_layer(tf.range(batch_max_len_dec))"
      ],
      "metadata": {
        "id": "XDiqVmdqGI5p"
      },
      "execution_count": null,
      "outputs": []
    },
    {
      "cell_type": "code",
      "source": [
        "class PositionalEncoding(tf.keras.layers.Layer):\n",
        "    def __init__(self, max_length, embed_size, dtype=tf.float32, **kwargs):\n",
        "        super().__init__(dtype=dtype, **kwargs)\n",
        "        assert embed_size % 2 == 0, \"embed_size must be even\"\n",
        "        p, i = np.meshgrid(np.arange(max_length),\n",
        "                           2 * np.arange(embed_size // 2))\n",
        "        pos_emb = np.empty((1, max_length, embed_size))\n",
        "        pos_emb[0, :, ::2] = np.sin(p / 10_000 ** (i / embed_size)).T\n",
        "        pos_emb[0, :, 1::2] = np.cos(p / 10_000 ** (i / embed_size)).T\n",
        "        self.pos_encodings = tf.constant(pos_emb.astype(self.dtype))\n",
        "        self.supports_masking = True\n",
        "\n",
        "    def call(self, inputs):\n",
        "        batch_max_length = tf.shape(inputs)[1]\n",
        "        return inputs + self.pos_encodings[:, :batch_max_length]"
      ],
      "metadata": {
        "id": "zrscyEN9Hqk2"
      },
      "execution_count": null,
      "outputs": []
    },
    {
      "cell_type": "code",
      "source": [
        "pos_embed_layer = PositionalEncoding(max_length, embed_size)\n",
        "encoder_in = pos_embed_layer(encoder_embeddings)\n",
        "decoder_in = pos_embed_layer(decoder_embeddings)"
      ],
      "metadata": {
        "id": "jP6wllzcIkaq"
      },
      "execution_count": null,
      "outputs": []
    },
    {
      "cell_type": "code",
      "source": [
        "figure_max_length = 201\n",
        "figure_embed_size = 512\n",
        "pos_emb = PositionalEncoding(figure_max_length, figure_embed_size)\n",
        "zeros = np.zeros((1, figure_max_length, figure_embed_size), np.float32)\n",
        "P = pos_emb(zeros)[0].numpy()\n",
        "i1, i2, crop_i = 100, 101, 150\n",
        "p1, p2, p3 = 22, 60, 35\n",
        "fig, (ax1, ax2) = plt.subplots(nrows=2, ncols=1, sharex=True, figsize=(9, 5))\n",
        "ax1.plot([p1, p1], [-1, 1], \"k--\", label=\"$p = {}$\".format(p1))\n",
        "ax1.plot([p2, p2], [-1, 1], \"k--\", label=\"$p = {}$\".format(p2), alpha=0.5)\n",
        "ax1.plot(p3, P[p3, i1], \"bx\", label=\"$p = {}$\".format(p3))\n",
        "ax1.plot(P[:,i1], \"b-\", label=\"$i = {}$\".format(i1))\n",
        "ax1.plot(P[:,i2], \"r-\", label=\"$i = {}$\".format(i2))\n",
        "ax1.plot([p1, p2], [P[p1, i1], P[p2, i1]], \"bo\")\n",
        "ax1.plot([p1, p2], [P[p1, i2], P[p2, i2]], \"ro\")\n",
        "ax1.legend(loc=\"center right\", fontsize=14, framealpha=0.95)\n",
        "ax1.set_ylabel(\"$P_{(p,i)}$\", rotation=0, fontsize=16)\n",
        "ax1.grid(True, alpha=0.3)\n",
        "ax1.hlines(0, 0, figure_max_length - 1, color=\"k\", linewidth=1, alpha=0.3)\n",
        "ax1.axis([0, figure_max_length - 1, -1, 1])\n",
        "ax2.imshow(P.T[:crop_i], cmap=\"gray\", interpolation=\"bilinear\", aspect=\"auto\")\n",
        "ax2.hlines(i1, 0, figure_max_length - 1, color=\"b\", linewidth=3)\n",
        "cheat = 2  # need to raise the red line a bit, or else it hides the blue one\n",
        "ax2.hlines(i2+cheat, 0, figure_max_length - 1, color=\"r\", linewidth=3)\n",
        "ax2.plot([p1, p1], [0, crop_i], \"k--\")\n",
        "ax2.plot([p2, p2], [0, crop_i], \"k--\", alpha=0.5)\n",
        "ax2.plot([p1, p2], [i2+cheat, i2+cheat], \"ro\")\n",
        "ax2.plot([p1, p2], [i1, i1], \"bo\")\n",
        "ax2.axis([0, figure_max_length - 1, 0, crop_i])\n",
        "ax2.set_xlabel(\"$p$\", fontsize=16)\n",
        "ax2.set_ylabel(\"$i$\", rotation=0, fontsize=16)\n",
        "save_fig(\"positional_embedding_plot\")\n",
        "plt.show()"
      ],
      "metadata": {
        "id": "TO6UR4nnJ7PP"
      },
      "execution_count": null,
      "outputs": []
    },
    {
      "cell_type": "markdown",
      "source": [
        "#Multi-Head Attention"
      ],
      "metadata": {
        "id": "TpXb-sI6J8d1"
      }
    },
    {
      "cell_type": "code",
      "source": [
        "N =2\n",
        "num_heads = 8\n",
        "dropout_rate = 0.1\n",
        "n_units = 128\n",
        "encoder_pad_mask = tf.math.not_equal(encoder_inputs, 0)[:, tf.newaxis]\n",
        "Z = encoder_in\n",
        "\n",
        "for _ in range(N):\n",
        "  skip = Z\n",
        "  attn_layer = tf.keras.layers.MultiHeadAttention(num_heads=num_heads,\n",
        "                                                    key_dim=embed_size,\n",
        "                                                    dropout=dropout_rate)\n",
        "  Z = attn_layer(Z, value=Z, attention_mask=encoder_pad_mask)\n",
        "  Z = tf.keras.layers.LayerNormalization()(tf.keras.layers.Add()([Z, skip]))\n",
        "  skip = Z\n",
        "  Z = tf.keras.layers.Dense(n_units, activation=\"relu\")(Z)\n",
        "  Z = tf.keras.layers.Dense(embed_size)(Z)\n",
        "  Z = tf.keras.layers.Dropout(dropout_rate)(Z)\n",
        "  Z = tf.keras.layers.LayerNormalization()(tf.keras.layers.Add()([Z, skip]))"
      ],
      "metadata": {
        "id": "s9CQOQ7GKWyP"
      },
      "execution_count": null,
      "outputs": []
    },
    {
      "cell_type": "code",
      "source": [
        "decoder_pad_mask =tf.math.not_equal(encoder_inputs, 0)[:, tf.newaxis]\n",
        "encoder_pad_mask = tf.math.not_equal(encoder_inputs, 0)[:, tf.newaxis]\n",
        "causal_mask = tf.linalg.band_part(tf.ones((batch_max_len_dec, batch_max_len_dec),tf.bool),  -1, 0)"
      ],
      "metadata": {
        "id": "lc4xDWTlOg_a"
      },
      "execution_count": null,
      "outputs": []
    },
    {
      "cell_type": "code",
      "source": [
        "encoder_outputs = Z\n",
        "Z = decoder_in\n",
        "for _ in range(N):\n",
        "  skip = Z\n",
        "  attn_layer = tf.keras.layers.MultiHeadAttention(num_heads=num_heads,\n",
        "                                                    key_dim=embed_size,\n",
        "                                                    dropout=dropout_rate)\n",
        "  Z = attn_layer(Z, value=Z, attention_mask=causal_mask & decoder_pad_mask)\n",
        "  Z = tf.keras.layers.LayerNormalization()(tf.keras.layers.Add()([Z, skip]))\n",
        "  skip = Z\n",
        "  attn_layer = tf.keras.layers.MultiHeadAttention(num_heads=num_heads,\n",
        "                                                    key_dim=embed_size,\n",
        "                                                    dropout=dropout_rate)\n",
        "  Z = attn_layer(Z, value=encoder_outputs, attention_mask=encoder_pad_mask)\n",
        "  Z = tf.keras.layers.LayerNormalization()(tf.keras.layers.Add()([Z, skip]))\n",
        "  skip = Z\n",
        "  Z = tf.keras.layers.Dense(n_units, activation=\"relu\")(Z)\n",
        "  Z = tf.keras.layers.Dense(embed_size)(Z)\n",
        "  Z = tf.keras.layers.LayerNormalization()(tf.keras.layers.Add()([Z, skip]))\n",
        ""
      ],
      "metadata": {
        "id": "aaqB62EBPME4"
      },
      "execution_count": null,
      "outputs": []
    },
    {
      "cell_type": "code",
      "source": [
        "Y_proba = tf.keras.layers.Dense(vocab_size, activation=\"softmax\")(Z)\n",
        "model = tf.keras.Model(inputs=[encoder_inputs, decoder_inputs],\n",
        "                       outputs=[Y_proba])\n",
        "model.compile(loss=\"sparse_categorical_crossentropy\", optimizer=\"nadam\",\n",
        "              metrics=[\"accuracy\"])\n",
        "model.fit((X_train, X_train_dec), Y_train, epochs=10,\n",
        "          validation_data=((X_valid, X_valid_dec), Y_valid))"
      ],
      "metadata": {
        "id": "xQJR3AcwQUOt"
      },
      "execution_count": null,
      "outputs": []
    },
    {
      "cell_type": "markdown",
      "source": [
        "#HugGing FACE"
      ],
      "metadata": {
        "id": "7el1sY8DRqK-"
      }
    },
    {
      "cell_type": "code",
      "source": [
        "if \"google.colab\" in sys.modules:\n",
        "  %pip install -q -U transformers\n",
        "  %pip install -q -U sentencepiece"
      ],
      "metadata": {
        "id": "4mRv1-8KTs5c"
      },
      "execution_count": null,
      "outputs": []
    },
    {
      "cell_type": "code",
      "source": [
        "from transformers import pipeline\n",
        "\n",
        "classifier = pipeline(\"sentiment-analysis\")\n",
        "result = classifier(\"the actors were very convincing\")"
      ],
      "metadata": {
        "id": "40-mUztRTs2Y"
      },
      "execution_count": null,
      "outputs": []
    },
    {
      "cell_type": "code",
      "source": [
        "classifier([\"I am from india.\", \"I am from iraq.\"])"
      ],
      "metadata": {
        "id": "nM00_NW-X0ju"
      },
      "execution_count": null,
      "outputs": []
    },
    {
      "cell_type": "code",
      "source": [
        "model_name = \"huggingface/distilbert-base-uncased-finetuned-mnli\"\n",
        "classifier_mnli = pipeline('text-classification', model=model_name)\n",
        "classifier_mnli(\"she loves me. [SEP] she loves me too\")"
      ],
      "metadata": {
        "id": "O6sytBkXYE_F"
      },
      "execution_count": null,
      "outputs": []
    },
    {
      "cell_type": "code",
      "source": [
        "from transformers import AutoTokenizer, TFAutoModelForSequenceClassification\n",
        "\n",
        "tokenizer = AutoTokenizer.from_pretrained(model_name)\n",
        "model = TFAutoModelForSequenceClassification.from_pretrained(model_name)"
      ],
      "metadata": {
        "id": "E5HSeBuTYx-f"
      },
      "execution_count": null,
      "outputs": []
    },
    {
      "cell_type": "code",
      "source": [
        "token_ids = tokenizer(\" I like soccer. [SEP] we all love soccer!\",\n",
        "                      \"joe lived in new york\",\n",
        "                      padding="
      ],
      "metadata": {
        "id": "keOkYCSWZtyW"
      },
      "execution_count": null,
      "outputs": []
    }
  ],
  "metadata": {
    "colab": {
      "provenance": [],
      "gpuType": "T4",
      "include_colab_link": true
    },
    "kernelspec": {
      "display_name": "Python 3",
      "name": "python3"
    },
    "language_info": {
      "name": "python"
    },
    "widgets": {
      "application/vnd.jupyter.widget-state+json": {
        "1d28bebd3ebe4c34bdbaccd6ff428f30": {
          "model_module": "@jupyter-widgets/controls",
          "model_name": "HBoxModel",
          "model_module_version": "1.5.0",
          "state": {
            "_dom_classes": [],
            "_model_module": "@jupyter-widgets/controls",
            "_model_module_version": "1.5.0",
            "_model_name": "HBoxModel",
            "_view_count": null,
            "_view_module": "@jupyter-widgets/controls",
            "_view_module_version": "1.5.0",
            "_view_name": "HBoxView",
            "box_style": "",
            "children": [
              "IPY_MODEL_34659a77fbbb4caf8f6f6618d35808ba",
              "IPY_MODEL_217a88a8c5674571b1c23ab385ac36fd",
              "IPY_MODEL_06bd55562e6b4c0786440904d95fe493"
            ],
            "layout": "IPY_MODEL_5815ded85f504ef1b86324fe15836458"
          }
        },
        "34659a77fbbb4caf8f6f6618d35808ba": {
          "model_module": "@jupyter-widgets/controls",
          "model_name": "HTMLModel",
          "model_module_version": "1.5.0",
          "state": {
            "_dom_classes": [],
            "_model_module": "@jupyter-widgets/controls",
            "_model_module_version": "1.5.0",
            "_model_name": "HTMLModel",
            "_view_count": null,
            "_view_module": "@jupyter-widgets/controls",
            "_view_module_version": "1.5.0",
            "_view_name": "HTMLView",
            "description": "",
            "description_tooltip": null,
            "layout": "IPY_MODEL_1bcf6a35c08348ef9b2c3584ee2d3db3",
            "placeholder": "​",
            "style": "IPY_MODEL_c05ef6f3b36f4a30af07b52ea0adb8dc",
            "value": "Dl Completed...: 100%"
          }
        },
        "217a88a8c5674571b1c23ab385ac36fd": {
          "model_module": "@jupyter-widgets/controls",
          "model_name": "FloatProgressModel",
          "model_module_version": "1.5.0",
          "state": {
            "_dom_classes": [],
            "_model_module": "@jupyter-widgets/controls",
            "_model_module_version": "1.5.0",
            "_model_name": "FloatProgressModel",
            "_view_count": null,
            "_view_module": "@jupyter-widgets/controls",
            "_view_module_version": "1.5.0",
            "_view_name": "ProgressView",
            "bar_style": "success",
            "description": "",
            "description_tooltip": null,
            "layout": "IPY_MODEL_37b8b6f8635a42478014c6b6be13e3df",
            "max": 1,
            "min": 0,
            "orientation": "horizontal",
            "style": "IPY_MODEL_62b63a7e493846e5b59812551588e66d",
            "value": 1
          }
        },
        "06bd55562e6b4c0786440904d95fe493": {
          "model_module": "@jupyter-widgets/controls",
          "model_name": "HTMLModel",
          "model_module_version": "1.5.0",
          "state": {
            "_dom_classes": [],
            "_model_module": "@jupyter-widgets/controls",
            "_model_module_version": "1.5.0",
            "_model_name": "HTMLModel",
            "_view_count": null,
            "_view_module": "@jupyter-widgets/controls",
            "_view_module_version": "1.5.0",
            "_view_name": "HTMLView",
            "description": "",
            "description_tooltip": null,
            "layout": "IPY_MODEL_22037a9feecc4cad94c7e13d225c36e5",
            "placeholder": "​",
            "style": "IPY_MODEL_abdade4345a54aab9ef392b0067938b6",
            "value": " 1/1 [00:02&lt;00:00,  2.77s/ url]"
          }
        },
        "5815ded85f504ef1b86324fe15836458": {
          "model_module": "@jupyter-widgets/base",
          "model_name": "LayoutModel",
          "model_module_version": "1.2.0",
          "state": {
            "_model_module": "@jupyter-widgets/base",
            "_model_module_version": "1.2.0",
            "_model_name": "LayoutModel",
            "_view_count": null,
            "_view_module": "@jupyter-widgets/base",
            "_view_module_version": "1.2.0",
            "_view_name": "LayoutView",
            "align_content": null,
            "align_items": null,
            "align_self": null,
            "border": null,
            "bottom": null,
            "display": null,
            "flex": null,
            "flex_flow": null,
            "grid_area": null,
            "grid_auto_columns": null,
            "grid_auto_flow": null,
            "grid_auto_rows": null,
            "grid_column": null,
            "grid_gap": null,
            "grid_row": null,
            "grid_template_areas": null,
            "grid_template_columns": null,
            "grid_template_rows": null,
            "height": null,
            "justify_content": null,
            "justify_items": null,
            "left": null,
            "margin": null,
            "max_height": null,
            "max_width": null,
            "min_height": null,
            "min_width": null,
            "object_fit": null,
            "object_position": null,
            "order": null,
            "overflow": null,
            "overflow_x": null,
            "overflow_y": null,
            "padding": null,
            "right": null,
            "top": null,
            "visibility": null,
            "width": null
          }
        },
        "1bcf6a35c08348ef9b2c3584ee2d3db3": {
          "model_module": "@jupyter-widgets/base",
          "model_name": "LayoutModel",
          "model_module_version": "1.2.0",
          "state": {
            "_model_module": "@jupyter-widgets/base",
            "_model_module_version": "1.2.0",
            "_model_name": "LayoutModel",
            "_view_count": null,
            "_view_module": "@jupyter-widgets/base",
            "_view_module_version": "1.2.0",
            "_view_name": "LayoutView",
            "align_content": null,
            "align_items": null,
            "align_self": null,
            "border": null,
            "bottom": null,
            "display": null,
            "flex": null,
            "flex_flow": null,
            "grid_area": null,
            "grid_auto_columns": null,
            "grid_auto_flow": null,
            "grid_auto_rows": null,
            "grid_column": null,
            "grid_gap": null,
            "grid_row": null,
            "grid_template_areas": null,
            "grid_template_columns": null,
            "grid_template_rows": null,
            "height": null,
            "justify_content": null,
            "justify_items": null,
            "left": null,
            "margin": null,
            "max_height": null,
            "max_width": null,
            "min_height": null,
            "min_width": null,
            "object_fit": null,
            "object_position": null,
            "order": null,
            "overflow": null,
            "overflow_x": null,
            "overflow_y": null,
            "padding": null,
            "right": null,
            "top": null,
            "visibility": null,
            "width": null
          }
        },
        "c05ef6f3b36f4a30af07b52ea0adb8dc": {
          "model_module": "@jupyter-widgets/controls",
          "model_name": "DescriptionStyleModel",
          "model_module_version": "1.5.0",
          "state": {
            "_model_module": "@jupyter-widgets/controls",
            "_model_module_version": "1.5.0",
            "_model_name": "DescriptionStyleModel",
            "_view_count": null,
            "_view_module": "@jupyter-widgets/base",
            "_view_module_version": "1.2.0",
            "_view_name": "StyleView",
            "description_width": ""
          }
        },
        "37b8b6f8635a42478014c6b6be13e3df": {
          "model_module": "@jupyter-widgets/base",
          "model_name": "LayoutModel",
          "model_module_version": "1.2.0",
          "state": {
            "_model_module": "@jupyter-widgets/base",
            "_model_module_version": "1.2.0",
            "_model_name": "LayoutModel",
            "_view_count": null,
            "_view_module": "@jupyter-widgets/base",
            "_view_module_version": "1.2.0",
            "_view_name": "LayoutView",
            "align_content": null,
            "align_items": null,
            "align_self": null,
            "border": null,
            "bottom": null,
            "display": null,
            "flex": null,
            "flex_flow": null,
            "grid_area": null,
            "grid_auto_columns": null,
            "grid_auto_flow": null,
            "grid_auto_rows": null,
            "grid_column": null,
            "grid_gap": null,
            "grid_row": null,
            "grid_template_areas": null,
            "grid_template_columns": null,
            "grid_template_rows": null,
            "height": null,
            "justify_content": null,
            "justify_items": null,
            "left": null,
            "margin": null,
            "max_height": null,
            "max_width": null,
            "min_height": null,
            "min_width": null,
            "object_fit": null,
            "object_position": null,
            "order": null,
            "overflow": null,
            "overflow_x": null,
            "overflow_y": null,
            "padding": null,
            "right": null,
            "top": null,
            "visibility": null,
            "width": "20px"
          }
        },
        "62b63a7e493846e5b59812551588e66d": {
          "model_module": "@jupyter-widgets/controls",
          "model_name": "ProgressStyleModel",
          "model_module_version": "1.5.0",
          "state": {
            "_model_module": "@jupyter-widgets/controls",
            "_model_module_version": "1.5.0",
            "_model_name": "ProgressStyleModel",
            "_view_count": null,
            "_view_module": "@jupyter-widgets/base",
            "_view_module_version": "1.2.0",
            "_view_name": "StyleView",
            "bar_color": null,
            "description_width": ""
          }
        },
        "22037a9feecc4cad94c7e13d225c36e5": {
          "model_module": "@jupyter-widgets/base",
          "model_name": "LayoutModel",
          "model_module_version": "1.2.0",
          "state": {
            "_model_module": "@jupyter-widgets/base",
            "_model_module_version": "1.2.0",
            "_model_name": "LayoutModel",
            "_view_count": null,
            "_view_module": "@jupyter-widgets/base",
            "_view_module_version": "1.2.0",
            "_view_name": "LayoutView",
            "align_content": null,
            "align_items": null,
            "align_self": null,
            "border": null,
            "bottom": null,
            "display": null,
            "flex": null,
            "flex_flow": null,
            "grid_area": null,
            "grid_auto_columns": null,
            "grid_auto_flow": null,
            "grid_auto_rows": null,
            "grid_column": null,
            "grid_gap": null,
            "grid_row": null,
            "grid_template_areas": null,
            "grid_template_columns": null,
            "grid_template_rows": null,
            "height": null,
            "justify_content": null,
            "justify_items": null,
            "left": null,
            "margin": null,
            "max_height": null,
            "max_width": null,
            "min_height": null,
            "min_width": null,
            "object_fit": null,
            "object_position": null,
            "order": null,
            "overflow": null,
            "overflow_x": null,
            "overflow_y": null,
            "padding": null,
            "right": null,
            "top": null,
            "visibility": null,
            "width": null
          }
        },
        "abdade4345a54aab9ef392b0067938b6": {
          "model_module": "@jupyter-widgets/controls",
          "model_name": "DescriptionStyleModel",
          "model_module_version": "1.5.0",
          "state": {
            "_model_module": "@jupyter-widgets/controls",
            "_model_module_version": "1.5.0",
            "_model_name": "DescriptionStyleModel",
            "_view_count": null,
            "_view_module": "@jupyter-widgets/base",
            "_view_module_version": "1.2.0",
            "_view_name": "StyleView",
            "description_width": ""
          }
        },
        "047536395adf4bfd9596ebc696856dc9": {
          "model_module": "@jupyter-widgets/controls",
          "model_name": "HBoxModel",
          "model_module_version": "1.5.0",
          "state": {
            "_dom_classes": [],
            "_model_module": "@jupyter-widgets/controls",
            "_model_module_version": "1.5.0",
            "_model_name": "HBoxModel",
            "_view_count": null,
            "_view_module": "@jupyter-widgets/controls",
            "_view_module_version": "1.5.0",
            "_view_name": "HBoxView",
            "box_style": "",
            "children": [
              "IPY_MODEL_f19e5c73b2b14d7ea3d2a595a10322d9",
              "IPY_MODEL_869a509d20394775ac533ada9b94fd5d",
              "IPY_MODEL_041705da9769411fa73b8c589d4ac471"
            ],
            "layout": "IPY_MODEL_e2c78cd1f89e4fcea8929c1de5060917"
          }
        },
        "f19e5c73b2b14d7ea3d2a595a10322d9": {
          "model_module": "@jupyter-widgets/controls",
          "model_name": "HTMLModel",
          "model_module_version": "1.5.0",
          "state": {
            "_dom_classes": [],
            "_model_module": "@jupyter-widgets/controls",
            "_model_module_version": "1.5.0",
            "_model_name": "HTMLModel",
            "_view_count": null,
            "_view_module": "@jupyter-widgets/controls",
            "_view_module_version": "1.5.0",
            "_view_name": "HTMLView",
            "description": "",
            "description_tooltip": null,
            "layout": "IPY_MODEL_eaf758a3ad8b47e8b7992b4aecede519",
            "placeholder": "​",
            "style": "IPY_MODEL_2301e39965534dc6ab3ea49d1d2faf1b",
            "value": "Dl Size...: 100%"
          }
        },
        "869a509d20394775ac533ada9b94fd5d": {
          "model_module": "@jupyter-widgets/controls",
          "model_name": "FloatProgressModel",
          "model_module_version": "1.5.0",
          "state": {
            "_dom_classes": [],
            "_model_module": "@jupyter-widgets/controls",
            "_model_module_version": "1.5.0",
            "_model_name": "FloatProgressModel",
            "_view_count": null,
            "_view_module": "@jupyter-widgets/controls",
            "_view_module_version": "1.5.0",
            "_view_name": "ProgressView",
            "bar_style": "success",
            "description": "",
            "description_tooltip": null,
            "layout": "IPY_MODEL_502156f1382a449f8d58171599ad9283",
            "max": 1,
            "min": 0,
            "orientation": "horizontal",
            "style": "IPY_MODEL_71f3625bded44ccb94d1049779f95f0b",
            "value": 1
          }
        },
        "041705da9769411fa73b8c589d4ac471": {
          "model_module": "@jupyter-widgets/controls",
          "model_name": "HTMLModel",
          "model_module_version": "1.5.0",
          "state": {
            "_dom_classes": [],
            "_model_module": "@jupyter-widgets/controls",
            "_model_module_version": "1.5.0",
            "_model_name": "HTMLModel",
            "_view_count": null,
            "_view_module": "@jupyter-widgets/controls",
            "_view_module_version": "1.5.0",
            "_view_name": "HTMLView",
            "description": "",
            "description_tooltip": null,
            "layout": "IPY_MODEL_7da872f859394af78ce97e2af9cc8434",
            "placeholder": "​",
            "style": "IPY_MODEL_748eab943dfd4ba4bffa7bf38067e4a4",
            "value": " 80/80 [00:02&lt;00:00, 30.34 MiB/s]"
          }
        },
        "e2c78cd1f89e4fcea8929c1de5060917": {
          "model_module": "@jupyter-widgets/base",
          "model_name": "LayoutModel",
          "model_module_version": "1.2.0",
          "state": {
            "_model_module": "@jupyter-widgets/base",
            "_model_module_version": "1.2.0",
            "_model_name": "LayoutModel",
            "_view_count": null,
            "_view_module": "@jupyter-widgets/base",
            "_view_module_version": "1.2.0",
            "_view_name": "LayoutView",
            "align_content": null,
            "align_items": null,
            "align_self": null,
            "border": null,
            "bottom": null,
            "display": null,
            "flex": null,
            "flex_flow": null,
            "grid_area": null,
            "grid_auto_columns": null,
            "grid_auto_flow": null,
            "grid_auto_rows": null,
            "grid_column": null,
            "grid_gap": null,
            "grid_row": null,
            "grid_template_areas": null,
            "grid_template_columns": null,
            "grid_template_rows": null,
            "height": null,
            "justify_content": null,
            "justify_items": null,
            "left": null,
            "margin": null,
            "max_height": null,
            "max_width": null,
            "min_height": null,
            "min_width": null,
            "object_fit": null,
            "object_position": null,
            "order": null,
            "overflow": null,
            "overflow_x": null,
            "overflow_y": null,
            "padding": null,
            "right": null,
            "top": null,
            "visibility": null,
            "width": null
          }
        },
        "eaf758a3ad8b47e8b7992b4aecede519": {
          "model_module": "@jupyter-widgets/base",
          "model_name": "LayoutModel",
          "model_module_version": "1.2.0",
          "state": {
            "_model_module": "@jupyter-widgets/base",
            "_model_module_version": "1.2.0",
            "_model_name": "LayoutModel",
            "_view_count": null,
            "_view_module": "@jupyter-widgets/base",
            "_view_module_version": "1.2.0",
            "_view_name": "LayoutView",
            "align_content": null,
            "align_items": null,
            "align_self": null,
            "border": null,
            "bottom": null,
            "display": null,
            "flex": null,
            "flex_flow": null,
            "grid_area": null,
            "grid_auto_columns": null,
            "grid_auto_flow": null,
            "grid_auto_rows": null,
            "grid_column": null,
            "grid_gap": null,
            "grid_row": null,
            "grid_template_areas": null,
            "grid_template_columns": null,
            "grid_template_rows": null,
            "height": null,
            "justify_content": null,
            "justify_items": null,
            "left": null,
            "margin": null,
            "max_height": null,
            "max_width": null,
            "min_height": null,
            "min_width": null,
            "object_fit": null,
            "object_position": null,
            "order": null,
            "overflow": null,
            "overflow_x": null,
            "overflow_y": null,
            "padding": null,
            "right": null,
            "top": null,
            "visibility": null,
            "width": null
          }
        },
        "2301e39965534dc6ab3ea49d1d2faf1b": {
          "model_module": "@jupyter-widgets/controls",
          "model_name": "DescriptionStyleModel",
          "model_module_version": "1.5.0",
          "state": {
            "_model_module": "@jupyter-widgets/controls",
            "_model_module_version": "1.5.0",
            "_model_name": "DescriptionStyleModel",
            "_view_count": null,
            "_view_module": "@jupyter-widgets/base",
            "_view_module_version": "1.2.0",
            "_view_name": "StyleView",
            "description_width": ""
          }
        },
        "502156f1382a449f8d58171599ad9283": {
          "model_module": "@jupyter-widgets/base",
          "model_name": "LayoutModel",
          "model_module_version": "1.2.0",
          "state": {
            "_model_module": "@jupyter-widgets/base",
            "_model_module_version": "1.2.0",
            "_model_name": "LayoutModel",
            "_view_count": null,
            "_view_module": "@jupyter-widgets/base",
            "_view_module_version": "1.2.0",
            "_view_name": "LayoutView",
            "align_content": null,
            "align_items": null,
            "align_self": null,
            "border": null,
            "bottom": null,
            "display": null,
            "flex": null,
            "flex_flow": null,
            "grid_area": null,
            "grid_auto_columns": null,
            "grid_auto_flow": null,
            "grid_auto_rows": null,
            "grid_column": null,
            "grid_gap": null,
            "grid_row": null,
            "grid_template_areas": null,
            "grid_template_columns": null,
            "grid_template_rows": null,
            "height": null,
            "justify_content": null,
            "justify_items": null,
            "left": null,
            "margin": null,
            "max_height": null,
            "max_width": null,
            "min_height": null,
            "min_width": null,
            "object_fit": null,
            "object_position": null,
            "order": null,
            "overflow": null,
            "overflow_x": null,
            "overflow_y": null,
            "padding": null,
            "right": null,
            "top": null,
            "visibility": null,
            "width": "20px"
          }
        },
        "71f3625bded44ccb94d1049779f95f0b": {
          "model_module": "@jupyter-widgets/controls",
          "model_name": "ProgressStyleModel",
          "model_module_version": "1.5.0",
          "state": {
            "_model_module": "@jupyter-widgets/controls",
            "_model_module_version": "1.5.0",
            "_model_name": "ProgressStyleModel",
            "_view_count": null,
            "_view_module": "@jupyter-widgets/base",
            "_view_module_version": "1.2.0",
            "_view_name": "StyleView",
            "bar_color": null,
            "description_width": ""
          }
        },
        "7da872f859394af78ce97e2af9cc8434": {
          "model_module": "@jupyter-widgets/base",
          "model_name": "LayoutModel",
          "model_module_version": "1.2.0",
          "state": {
            "_model_module": "@jupyter-widgets/base",
            "_model_module_version": "1.2.0",
            "_model_name": "LayoutModel",
            "_view_count": null,
            "_view_module": "@jupyter-widgets/base",
            "_view_module_version": "1.2.0",
            "_view_name": "LayoutView",
            "align_content": null,
            "align_items": null,
            "align_self": null,
            "border": null,
            "bottom": null,
            "display": null,
            "flex": null,
            "flex_flow": null,
            "grid_area": null,
            "grid_auto_columns": null,
            "grid_auto_flow": null,
            "grid_auto_rows": null,
            "grid_column": null,
            "grid_gap": null,
            "grid_row": null,
            "grid_template_areas": null,
            "grid_template_columns": null,
            "grid_template_rows": null,
            "height": null,
            "justify_content": null,
            "justify_items": null,
            "left": null,
            "margin": null,
            "max_height": null,
            "max_width": null,
            "min_height": null,
            "min_width": null,
            "object_fit": null,
            "object_position": null,
            "order": null,
            "overflow": null,
            "overflow_x": null,
            "overflow_y": null,
            "padding": null,
            "right": null,
            "top": null,
            "visibility": null,
            "width": null
          }
        },
        "748eab943dfd4ba4bffa7bf38067e4a4": {
          "model_module": "@jupyter-widgets/controls",
          "model_name": "DescriptionStyleModel",
          "model_module_version": "1.5.0",
          "state": {
            "_model_module": "@jupyter-widgets/controls",
            "_model_module_version": "1.5.0",
            "_model_name": "DescriptionStyleModel",
            "_view_count": null,
            "_view_module": "@jupyter-widgets/base",
            "_view_module_version": "1.2.0",
            "_view_name": "StyleView",
            "description_width": ""
          }
        },
        "31cef85f4b5142ddad257264e6c8daf2": {
          "model_module": "@jupyter-widgets/controls",
          "model_name": "HBoxModel",
          "model_module_version": "1.5.0",
          "state": {
            "_dom_classes": [],
            "_model_module": "@jupyter-widgets/controls",
            "_model_module_version": "1.5.0",
            "_model_name": "HBoxModel",
            "_view_count": null,
            "_view_module": "@jupyter-widgets/controls",
            "_view_module_version": "1.5.0",
            "_view_name": "HBoxView",
            "box_style": "",
            "children": [
              "IPY_MODEL_47fa24dd1fdc4f10b6b1a777f8c674a3",
              "IPY_MODEL_254a2e440b7340f891ff14a0e924c59e",
              "IPY_MODEL_78b4dc09dcca42989c486470eed44acf"
            ],
            "layout": "IPY_MODEL_d088b68512ed430c85b1929f54ed42e5"
          }
        },
        "47fa24dd1fdc4f10b6b1a777f8c674a3": {
          "model_module": "@jupyter-widgets/controls",
          "model_name": "HTMLModel",
          "model_module_version": "1.5.0",
          "state": {
            "_dom_classes": [],
            "_model_module": "@jupyter-widgets/controls",
            "_model_module_version": "1.5.0",
            "_model_name": "HTMLModel",
            "_view_count": null,
            "_view_module": "@jupyter-widgets/controls",
            "_view_module_version": "1.5.0",
            "_view_name": "HTMLView",
            "description": "",
            "description_tooltip": null,
            "layout": "IPY_MODEL_c2c7bdd26b23449b9ca755169c5ccfa3",
            "placeholder": "​",
            "style": "IPY_MODEL_00b5147b6af746d4aab2fa827c402007",
            "value": "Generating splits...: 100%"
          }
        },
        "254a2e440b7340f891ff14a0e924c59e": {
          "model_module": "@jupyter-widgets/controls",
          "model_name": "FloatProgressModel",
          "model_module_version": "1.5.0",
          "state": {
            "_dom_classes": [],
            "_model_module": "@jupyter-widgets/controls",
            "_model_module_version": "1.5.0",
            "_model_name": "FloatProgressModel",
            "_view_count": null,
            "_view_module": "@jupyter-widgets/controls",
            "_view_module_version": "1.5.0",
            "_view_name": "ProgressView",
            "bar_style": "",
            "description": "",
            "description_tooltip": null,
            "layout": "IPY_MODEL_f2737879529143d48269020d1cf72137",
            "max": 3,
            "min": 0,
            "orientation": "horizontal",
            "style": "IPY_MODEL_f72b0b8c9e5e43f39da52ed0e6818e86",
            "value": 3
          }
        },
        "78b4dc09dcca42989c486470eed44acf": {
          "model_module": "@jupyter-widgets/controls",
          "model_name": "HTMLModel",
          "model_module_version": "1.5.0",
          "state": {
            "_dom_classes": [],
            "_model_module": "@jupyter-widgets/controls",
            "_model_module_version": "1.5.0",
            "_model_name": "HTMLModel",
            "_view_count": null,
            "_view_module": "@jupyter-widgets/controls",
            "_view_module_version": "1.5.0",
            "_view_name": "HTMLView",
            "description": "",
            "description_tooltip": null,
            "layout": "IPY_MODEL_7c96cc6ad2ed4e46b12c290cdf74ae94",
            "placeholder": "​",
            "style": "IPY_MODEL_3832b4fa503847ecb463ad4a20725297",
            "value": " 3/3 [01:05&lt;00:00, 22.94s/ splits]"
          }
        },
        "d088b68512ed430c85b1929f54ed42e5": {
          "model_module": "@jupyter-widgets/base",
          "model_name": "LayoutModel",
          "model_module_version": "1.2.0",
          "state": {
            "_model_module": "@jupyter-widgets/base",
            "_model_module_version": "1.2.0",
            "_model_name": "LayoutModel",
            "_view_count": null,
            "_view_module": "@jupyter-widgets/base",
            "_view_module_version": "1.2.0",
            "_view_name": "LayoutView",
            "align_content": null,
            "align_items": null,
            "align_self": null,
            "border": null,
            "bottom": null,
            "display": null,
            "flex": null,
            "flex_flow": null,
            "grid_area": null,
            "grid_auto_columns": null,
            "grid_auto_flow": null,
            "grid_auto_rows": null,
            "grid_column": null,
            "grid_gap": null,
            "grid_row": null,
            "grid_template_areas": null,
            "grid_template_columns": null,
            "grid_template_rows": null,
            "height": null,
            "justify_content": null,
            "justify_items": null,
            "left": null,
            "margin": null,
            "max_height": null,
            "max_width": null,
            "min_height": null,
            "min_width": null,
            "object_fit": null,
            "object_position": null,
            "order": null,
            "overflow": null,
            "overflow_x": null,
            "overflow_y": null,
            "padding": null,
            "right": null,
            "top": null,
            "visibility": "hidden",
            "width": null
          }
        },
        "c2c7bdd26b23449b9ca755169c5ccfa3": {
          "model_module": "@jupyter-widgets/base",
          "model_name": "LayoutModel",
          "model_module_version": "1.2.0",
          "state": {
            "_model_module": "@jupyter-widgets/base",
            "_model_module_version": "1.2.0",
            "_model_name": "LayoutModel",
            "_view_count": null,
            "_view_module": "@jupyter-widgets/base",
            "_view_module_version": "1.2.0",
            "_view_name": "LayoutView",
            "align_content": null,
            "align_items": null,
            "align_self": null,
            "border": null,
            "bottom": null,
            "display": null,
            "flex": null,
            "flex_flow": null,
            "grid_area": null,
            "grid_auto_columns": null,
            "grid_auto_flow": null,
            "grid_auto_rows": null,
            "grid_column": null,
            "grid_gap": null,
            "grid_row": null,
            "grid_template_areas": null,
            "grid_template_columns": null,
            "grid_template_rows": null,
            "height": null,
            "justify_content": null,
            "justify_items": null,
            "left": null,
            "margin": null,
            "max_height": null,
            "max_width": null,
            "min_height": null,
            "min_width": null,
            "object_fit": null,
            "object_position": null,
            "order": null,
            "overflow": null,
            "overflow_x": null,
            "overflow_y": null,
            "padding": null,
            "right": null,
            "top": null,
            "visibility": null,
            "width": null
          }
        },
        "00b5147b6af746d4aab2fa827c402007": {
          "model_module": "@jupyter-widgets/controls",
          "model_name": "DescriptionStyleModel",
          "model_module_version": "1.5.0",
          "state": {
            "_model_module": "@jupyter-widgets/controls",
            "_model_module_version": "1.5.0",
            "_model_name": "DescriptionStyleModel",
            "_view_count": null,
            "_view_module": "@jupyter-widgets/base",
            "_view_module_version": "1.2.0",
            "_view_name": "StyleView",
            "description_width": ""
          }
        },
        "f2737879529143d48269020d1cf72137": {
          "model_module": "@jupyter-widgets/base",
          "model_name": "LayoutModel",
          "model_module_version": "1.2.0",
          "state": {
            "_model_module": "@jupyter-widgets/base",
            "_model_module_version": "1.2.0",
            "_model_name": "LayoutModel",
            "_view_count": null,
            "_view_module": "@jupyter-widgets/base",
            "_view_module_version": "1.2.0",
            "_view_name": "LayoutView",
            "align_content": null,
            "align_items": null,
            "align_self": null,
            "border": null,
            "bottom": null,
            "display": null,
            "flex": null,
            "flex_flow": null,
            "grid_area": null,
            "grid_auto_columns": null,
            "grid_auto_flow": null,
            "grid_auto_rows": null,
            "grid_column": null,
            "grid_gap": null,
            "grid_row": null,
            "grid_template_areas": null,
            "grid_template_columns": null,
            "grid_template_rows": null,
            "height": null,
            "justify_content": null,
            "justify_items": null,
            "left": null,
            "margin": null,
            "max_height": null,
            "max_width": null,
            "min_height": null,
            "min_width": null,
            "object_fit": null,
            "object_position": null,
            "order": null,
            "overflow": null,
            "overflow_x": null,
            "overflow_y": null,
            "padding": null,
            "right": null,
            "top": null,
            "visibility": null,
            "width": null
          }
        },
        "f72b0b8c9e5e43f39da52ed0e6818e86": {
          "model_module": "@jupyter-widgets/controls",
          "model_name": "ProgressStyleModel",
          "model_module_version": "1.5.0",
          "state": {
            "_model_module": "@jupyter-widgets/controls",
            "_model_module_version": "1.5.0",
            "_model_name": "ProgressStyleModel",
            "_view_count": null,
            "_view_module": "@jupyter-widgets/base",
            "_view_module_version": "1.2.0",
            "_view_name": "StyleView",
            "bar_color": null,
            "description_width": ""
          }
        },
        "7c96cc6ad2ed4e46b12c290cdf74ae94": {
          "model_module": "@jupyter-widgets/base",
          "model_name": "LayoutModel",
          "model_module_version": "1.2.0",
          "state": {
            "_model_module": "@jupyter-widgets/base",
            "_model_module_version": "1.2.0",
            "_model_name": "LayoutModel",
            "_view_count": null,
            "_view_module": "@jupyter-widgets/base",
            "_view_module_version": "1.2.0",
            "_view_name": "LayoutView",
            "align_content": null,
            "align_items": null,
            "align_self": null,
            "border": null,
            "bottom": null,
            "display": null,
            "flex": null,
            "flex_flow": null,
            "grid_area": null,
            "grid_auto_columns": null,
            "grid_auto_flow": null,
            "grid_auto_rows": null,
            "grid_column": null,
            "grid_gap": null,
            "grid_row": null,
            "grid_template_areas": null,
            "grid_template_columns": null,
            "grid_template_rows": null,
            "height": null,
            "justify_content": null,
            "justify_items": null,
            "left": null,
            "margin": null,
            "max_height": null,
            "max_width": null,
            "min_height": null,
            "min_width": null,
            "object_fit": null,
            "object_position": null,
            "order": null,
            "overflow": null,
            "overflow_x": null,
            "overflow_y": null,
            "padding": null,
            "right": null,
            "top": null,
            "visibility": null,
            "width": null
          }
        },
        "3832b4fa503847ecb463ad4a20725297": {
          "model_module": "@jupyter-widgets/controls",
          "model_name": "DescriptionStyleModel",
          "model_module_version": "1.5.0",
          "state": {
            "_model_module": "@jupyter-widgets/controls",
            "_model_module_version": "1.5.0",
            "_model_name": "DescriptionStyleModel",
            "_view_count": null,
            "_view_module": "@jupyter-widgets/base",
            "_view_module_version": "1.2.0",
            "_view_name": "StyleView",
            "description_width": ""
          }
        },
        "eb2280aa356e4c0fb9df36ba138711d9": {
          "model_module": "@jupyter-widgets/controls",
          "model_name": "HBoxModel",
          "model_module_version": "1.5.0",
          "state": {
            "_dom_classes": [],
            "_model_module": "@jupyter-widgets/controls",
            "_model_module_version": "1.5.0",
            "_model_name": "HBoxModel",
            "_view_count": null,
            "_view_module": "@jupyter-widgets/controls",
            "_view_module_version": "1.5.0",
            "_view_name": "HBoxView",
            "box_style": "",
            "children": [
              "IPY_MODEL_411a21699aae4d5480e778c673919ec5",
              "IPY_MODEL_b54885c3fe164ffcb1466dfbd67cc147",
              "IPY_MODEL_d0b225cff420424c9cf1ccff42e2f75c"
            ],
            "layout": "IPY_MODEL_5b3f8a257c9d4f39aed97a005507225b"
          }
        },
        "411a21699aae4d5480e778c673919ec5": {
          "model_module": "@jupyter-widgets/controls",
          "model_name": "HTMLModel",
          "model_module_version": "1.5.0",
          "state": {
            "_dom_classes": [],
            "_model_module": "@jupyter-widgets/controls",
            "_model_module_version": "1.5.0",
            "_model_name": "HTMLModel",
            "_view_count": null,
            "_view_module": "@jupyter-widgets/controls",
            "_view_module_version": "1.5.0",
            "_view_name": "HTMLView",
            "description": "",
            "description_tooltip": null,
            "layout": "IPY_MODEL_e0af5089d21c4b339b40e7878ab7e3aa",
            "placeholder": "​",
            "style": "IPY_MODEL_57da18e31dd14d78978e2e2f06c31264",
            "value": "Generating train examples...:  90%"
          }
        },
        "b54885c3fe164ffcb1466dfbd67cc147": {
          "model_module": "@jupyter-widgets/controls",
          "model_name": "FloatProgressModel",
          "model_module_version": "1.5.0",
          "state": {
            "_dom_classes": [],
            "_model_module": "@jupyter-widgets/controls",
            "_model_module_version": "1.5.0",
            "_model_name": "FloatProgressModel",
            "_view_count": null,
            "_view_module": "@jupyter-widgets/controls",
            "_view_module_version": "1.5.0",
            "_view_name": "ProgressView",
            "bar_style": "",
            "description": "",
            "description_tooltip": null,
            "layout": "IPY_MODEL_d0580ad6274c4549bb69adb712482082",
            "max": 25000,
            "min": 0,
            "orientation": "horizontal",
            "style": "IPY_MODEL_5a9fb9b1330241e082be751cb31a7918",
            "value": 25000
          }
        },
        "d0b225cff420424c9cf1ccff42e2f75c": {
          "model_module": "@jupyter-widgets/controls",
          "model_name": "HTMLModel",
          "model_module_version": "1.5.0",
          "state": {
            "_dom_classes": [],
            "_model_module": "@jupyter-widgets/controls",
            "_model_module_version": "1.5.0",
            "_model_name": "HTMLModel",
            "_view_count": null,
            "_view_module": "@jupyter-widgets/controls",
            "_view_module_version": "1.5.0",
            "_view_name": "HTMLView",
            "description": "",
            "description_tooltip": null,
            "layout": "IPY_MODEL_d6a196eec9fc4a3186c2a51e6003f8da",
            "placeholder": "​",
            "style": "IPY_MODEL_c9d0abcb39cf451ab4589936ada973eb",
            "value": " 22544/25000 [00:11&lt;00:00, 2893.57 examples/s]"
          }
        },
        "5b3f8a257c9d4f39aed97a005507225b": {
          "model_module": "@jupyter-widgets/base",
          "model_name": "LayoutModel",
          "model_module_version": "1.2.0",
          "state": {
            "_model_module": "@jupyter-widgets/base",
            "_model_module_version": "1.2.0",
            "_model_name": "LayoutModel",
            "_view_count": null,
            "_view_module": "@jupyter-widgets/base",
            "_view_module_version": "1.2.0",
            "_view_name": "LayoutView",
            "align_content": null,
            "align_items": null,
            "align_self": null,
            "border": null,
            "bottom": null,
            "display": null,
            "flex": null,
            "flex_flow": null,
            "grid_area": null,
            "grid_auto_columns": null,
            "grid_auto_flow": null,
            "grid_auto_rows": null,
            "grid_column": null,
            "grid_gap": null,
            "grid_row": null,
            "grid_template_areas": null,
            "grid_template_columns": null,
            "grid_template_rows": null,
            "height": null,
            "justify_content": null,
            "justify_items": null,
            "left": null,
            "margin": null,
            "max_height": null,
            "max_width": null,
            "min_height": null,
            "min_width": null,
            "object_fit": null,
            "object_position": null,
            "order": null,
            "overflow": null,
            "overflow_x": null,
            "overflow_y": null,
            "padding": null,
            "right": null,
            "top": null,
            "visibility": "hidden",
            "width": null
          }
        },
        "e0af5089d21c4b339b40e7878ab7e3aa": {
          "model_module": "@jupyter-widgets/base",
          "model_name": "LayoutModel",
          "model_module_version": "1.2.0",
          "state": {
            "_model_module": "@jupyter-widgets/base",
            "_model_module_version": "1.2.0",
            "_model_name": "LayoutModel",
            "_view_count": null,
            "_view_module": "@jupyter-widgets/base",
            "_view_module_version": "1.2.0",
            "_view_name": "LayoutView",
            "align_content": null,
            "align_items": null,
            "align_self": null,
            "border": null,
            "bottom": null,
            "display": null,
            "flex": null,
            "flex_flow": null,
            "grid_area": null,
            "grid_auto_columns": null,
            "grid_auto_flow": null,
            "grid_auto_rows": null,
            "grid_column": null,
            "grid_gap": null,
            "grid_row": null,
            "grid_template_areas": null,
            "grid_template_columns": null,
            "grid_template_rows": null,
            "height": null,
            "justify_content": null,
            "justify_items": null,
            "left": null,
            "margin": null,
            "max_height": null,
            "max_width": null,
            "min_height": null,
            "min_width": null,
            "object_fit": null,
            "object_position": null,
            "order": null,
            "overflow": null,
            "overflow_x": null,
            "overflow_y": null,
            "padding": null,
            "right": null,
            "top": null,
            "visibility": null,
            "width": null
          }
        },
        "57da18e31dd14d78978e2e2f06c31264": {
          "model_module": "@jupyter-widgets/controls",
          "model_name": "DescriptionStyleModel",
          "model_module_version": "1.5.0",
          "state": {
            "_model_module": "@jupyter-widgets/controls",
            "_model_module_version": "1.5.0",
            "_model_name": "DescriptionStyleModel",
            "_view_count": null,
            "_view_module": "@jupyter-widgets/base",
            "_view_module_version": "1.2.0",
            "_view_name": "StyleView",
            "description_width": ""
          }
        },
        "d0580ad6274c4549bb69adb712482082": {
          "model_module": "@jupyter-widgets/base",
          "model_name": "LayoutModel",
          "model_module_version": "1.2.0",
          "state": {
            "_model_module": "@jupyter-widgets/base",
            "_model_module_version": "1.2.0",
            "_model_name": "LayoutModel",
            "_view_count": null,
            "_view_module": "@jupyter-widgets/base",
            "_view_module_version": "1.2.0",
            "_view_name": "LayoutView",
            "align_content": null,
            "align_items": null,
            "align_self": null,
            "border": null,
            "bottom": null,
            "display": null,
            "flex": null,
            "flex_flow": null,
            "grid_area": null,
            "grid_auto_columns": null,
            "grid_auto_flow": null,
            "grid_auto_rows": null,
            "grid_column": null,
            "grid_gap": null,
            "grid_row": null,
            "grid_template_areas": null,
            "grid_template_columns": null,
            "grid_template_rows": null,
            "height": null,
            "justify_content": null,
            "justify_items": null,
            "left": null,
            "margin": null,
            "max_height": null,
            "max_width": null,
            "min_height": null,
            "min_width": null,
            "object_fit": null,
            "object_position": null,
            "order": null,
            "overflow": null,
            "overflow_x": null,
            "overflow_y": null,
            "padding": null,
            "right": null,
            "top": null,
            "visibility": null,
            "width": null
          }
        },
        "5a9fb9b1330241e082be751cb31a7918": {
          "model_module": "@jupyter-widgets/controls",
          "model_name": "ProgressStyleModel",
          "model_module_version": "1.5.0",
          "state": {
            "_model_module": "@jupyter-widgets/controls",
            "_model_module_version": "1.5.0",
            "_model_name": "ProgressStyleModel",
            "_view_count": null,
            "_view_module": "@jupyter-widgets/base",
            "_view_module_version": "1.2.0",
            "_view_name": "StyleView",
            "bar_color": null,
            "description_width": ""
          }
        },
        "d6a196eec9fc4a3186c2a51e6003f8da": {
          "model_module": "@jupyter-widgets/base",
          "model_name": "LayoutModel",
          "model_module_version": "1.2.0",
          "state": {
            "_model_module": "@jupyter-widgets/base",
            "_model_module_version": "1.2.0",
            "_model_name": "LayoutModel",
            "_view_count": null,
            "_view_module": "@jupyter-widgets/base",
            "_view_module_version": "1.2.0",
            "_view_name": "LayoutView",
            "align_content": null,
            "align_items": null,
            "align_self": null,
            "border": null,
            "bottom": null,
            "display": null,
            "flex": null,
            "flex_flow": null,
            "grid_area": null,
            "grid_auto_columns": null,
            "grid_auto_flow": null,
            "grid_auto_rows": null,
            "grid_column": null,
            "grid_gap": null,
            "grid_row": null,
            "grid_template_areas": null,
            "grid_template_columns": null,
            "grid_template_rows": null,
            "height": null,
            "justify_content": null,
            "justify_items": null,
            "left": null,
            "margin": null,
            "max_height": null,
            "max_width": null,
            "min_height": null,
            "min_width": null,
            "object_fit": null,
            "object_position": null,
            "order": null,
            "overflow": null,
            "overflow_x": null,
            "overflow_y": null,
            "padding": null,
            "right": null,
            "top": null,
            "visibility": null,
            "width": null
          }
        },
        "c9d0abcb39cf451ab4589936ada973eb": {
          "model_module": "@jupyter-widgets/controls",
          "model_name": "DescriptionStyleModel",
          "model_module_version": "1.5.0",
          "state": {
            "_model_module": "@jupyter-widgets/controls",
            "_model_module_version": "1.5.0",
            "_model_name": "DescriptionStyleModel",
            "_view_count": null,
            "_view_module": "@jupyter-widgets/base",
            "_view_module_version": "1.2.0",
            "_view_name": "StyleView",
            "description_width": ""
          }
        },
        "7783fc41691b4aaf8219f3fff7a91260": {
          "model_module": "@jupyter-widgets/controls",
          "model_name": "HBoxModel",
          "model_module_version": "1.5.0",
          "state": {
            "_dom_classes": [],
            "_model_module": "@jupyter-widgets/controls",
            "_model_module_version": "1.5.0",
            "_model_name": "HBoxModel",
            "_view_count": null,
            "_view_module": "@jupyter-widgets/controls",
            "_view_module_version": "1.5.0",
            "_view_name": "HBoxView",
            "box_style": "",
            "children": [
              "IPY_MODEL_95bad77bc6094f15810b91829d2b0565",
              "IPY_MODEL_227e62e9d96948a7821f7e0296df483a",
              "IPY_MODEL_bc5b887c4bc4484696792bc2368c4adc"
            ],
            "layout": "IPY_MODEL_33671689aa76442bb44d10402530d9b4"
          }
        },
        "95bad77bc6094f15810b91829d2b0565": {
          "model_module": "@jupyter-widgets/controls",
          "model_name": "HTMLModel",
          "model_module_version": "1.5.0",
          "state": {
            "_dom_classes": [],
            "_model_module": "@jupyter-widgets/controls",
            "_model_module_version": "1.5.0",
            "_model_name": "HTMLModel",
            "_view_count": null,
            "_view_module": "@jupyter-widgets/controls",
            "_view_module_version": "1.5.0",
            "_view_name": "HTMLView",
            "description": "",
            "description_tooltip": null,
            "layout": "IPY_MODEL_d1a721c5e2044f6ead0d9db0c690e3b0",
            "placeholder": "​",
            "style": "IPY_MODEL_47cba1e21f8844bf9a944ed40d13dfcf",
            "value": "Shuffling /root/tensorflow_datasets/imdb_reviews/plain_text/incomplete.RZ33Z0_1.0.0/imdb_reviews-train.tfrecord*...:   0%"
          }
        },
        "227e62e9d96948a7821f7e0296df483a": {
          "model_module": "@jupyter-widgets/controls",
          "model_name": "FloatProgressModel",
          "model_module_version": "1.5.0",
          "state": {
            "_dom_classes": [],
            "_model_module": "@jupyter-widgets/controls",
            "_model_module_version": "1.5.0",
            "_model_name": "FloatProgressModel",
            "_view_count": null,
            "_view_module": "@jupyter-widgets/controls",
            "_view_module_version": "1.5.0",
            "_view_name": "ProgressView",
            "bar_style": "",
            "description": "",
            "description_tooltip": null,
            "layout": "IPY_MODEL_d2d8d2fa4fc740e3bc0bd6009a587536",
            "max": 25000,
            "min": 0,
            "orientation": "horizontal",
            "style": "IPY_MODEL_8a3e9e30e79a4078943d376cca416cca",
            "value": 25000
          }
        },
        "bc5b887c4bc4484696792bc2368c4adc": {
          "model_module": "@jupyter-widgets/controls",
          "model_name": "HTMLModel",
          "model_module_version": "1.5.0",
          "state": {
            "_dom_classes": [],
            "_model_module": "@jupyter-widgets/controls",
            "_model_module_version": "1.5.0",
            "_model_name": "HTMLModel",
            "_view_count": null,
            "_view_module": "@jupyter-widgets/controls",
            "_view_module_version": "1.5.0",
            "_view_name": "HTMLView",
            "description": "",
            "description_tooltip": null,
            "layout": "IPY_MODEL_591adb230e29468d9e48c67ac2436eb8",
            "placeholder": "​",
            "style": "IPY_MODEL_01d4285a0e734cc888934a96ef83cb3e",
            "value": " 0/25000 [00:00&lt;?, ? examples/s]"
          }
        },
        "33671689aa76442bb44d10402530d9b4": {
          "model_module": "@jupyter-widgets/base",
          "model_name": "LayoutModel",
          "model_module_version": "1.2.0",
          "state": {
            "_model_module": "@jupyter-widgets/base",
            "_model_module_version": "1.2.0",
            "_model_name": "LayoutModel",
            "_view_count": null,
            "_view_module": "@jupyter-widgets/base",
            "_view_module_version": "1.2.0",
            "_view_name": "LayoutView",
            "align_content": null,
            "align_items": null,
            "align_self": null,
            "border": null,
            "bottom": null,
            "display": null,
            "flex": null,
            "flex_flow": null,
            "grid_area": null,
            "grid_auto_columns": null,
            "grid_auto_flow": null,
            "grid_auto_rows": null,
            "grid_column": null,
            "grid_gap": null,
            "grid_row": null,
            "grid_template_areas": null,
            "grid_template_columns": null,
            "grid_template_rows": null,
            "height": null,
            "justify_content": null,
            "justify_items": null,
            "left": null,
            "margin": null,
            "max_height": null,
            "max_width": null,
            "min_height": null,
            "min_width": null,
            "object_fit": null,
            "object_position": null,
            "order": null,
            "overflow": null,
            "overflow_x": null,
            "overflow_y": null,
            "padding": null,
            "right": null,
            "top": null,
            "visibility": "hidden",
            "width": null
          }
        },
        "d1a721c5e2044f6ead0d9db0c690e3b0": {
          "model_module": "@jupyter-widgets/base",
          "model_name": "LayoutModel",
          "model_module_version": "1.2.0",
          "state": {
            "_model_module": "@jupyter-widgets/base",
            "_model_module_version": "1.2.0",
            "_model_name": "LayoutModel",
            "_view_count": null,
            "_view_module": "@jupyter-widgets/base",
            "_view_module_version": "1.2.0",
            "_view_name": "LayoutView",
            "align_content": null,
            "align_items": null,
            "align_self": null,
            "border": null,
            "bottom": null,
            "display": null,
            "flex": null,
            "flex_flow": null,
            "grid_area": null,
            "grid_auto_columns": null,
            "grid_auto_flow": null,
            "grid_auto_rows": null,
            "grid_column": null,
            "grid_gap": null,
            "grid_row": null,
            "grid_template_areas": null,
            "grid_template_columns": null,
            "grid_template_rows": null,
            "height": null,
            "justify_content": null,
            "justify_items": null,
            "left": null,
            "margin": null,
            "max_height": null,
            "max_width": null,
            "min_height": null,
            "min_width": null,
            "object_fit": null,
            "object_position": null,
            "order": null,
            "overflow": null,
            "overflow_x": null,
            "overflow_y": null,
            "padding": null,
            "right": null,
            "top": null,
            "visibility": null,
            "width": null
          }
        },
        "47cba1e21f8844bf9a944ed40d13dfcf": {
          "model_module": "@jupyter-widgets/controls",
          "model_name": "DescriptionStyleModel",
          "model_module_version": "1.5.0",
          "state": {
            "_model_module": "@jupyter-widgets/controls",
            "_model_module_version": "1.5.0",
            "_model_name": "DescriptionStyleModel",
            "_view_count": null,
            "_view_module": "@jupyter-widgets/base",
            "_view_module_version": "1.2.0",
            "_view_name": "StyleView",
            "description_width": ""
          }
        },
        "d2d8d2fa4fc740e3bc0bd6009a587536": {
          "model_module": "@jupyter-widgets/base",
          "model_name": "LayoutModel",
          "model_module_version": "1.2.0",
          "state": {
            "_model_module": "@jupyter-widgets/base",
            "_model_module_version": "1.2.0",
            "_model_name": "LayoutModel",
            "_view_count": null,
            "_view_module": "@jupyter-widgets/base",
            "_view_module_version": "1.2.0",
            "_view_name": "LayoutView",
            "align_content": null,
            "align_items": null,
            "align_self": null,
            "border": null,
            "bottom": null,
            "display": null,
            "flex": null,
            "flex_flow": null,
            "grid_area": null,
            "grid_auto_columns": null,
            "grid_auto_flow": null,
            "grid_auto_rows": null,
            "grid_column": null,
            "grid_gap": null,
            "grid_row": null,
            "grid_template_areas": null,
            "grid_template_columns": null,
            "grid_template_rows": null,
            "height": null,
            "justify_content": null,
            "justify_items": null,
            "left": null,
            "margin": null,
            "max_height": null,
            "max_width": null,
            "min_height": null,
            "min_width": null,
            "object_fit": null,
            "object_position": null,
            "order": null,
            "overflow": null,
            "overflow_x": null,
            "overflow_y": null,
            "padding": null,
            "right": null,
            "top": null,
            "visibility": null,
            "width": null
          }
        },
        "8a3e9e30e79a4078943d376cca416cca": {
          "model_module": "@jupyter-widgets/controls",
          "model_name": "ProgressStyleModel",
          "model_module_version": "1.5.0",
          "state": {
            "_model_module": "@jupyter-widgets/controls",
            "_model_module_version": "1.5.0",
            "_model_name": "ProgressStyleModel",
            "_view_count": null,
            "_view_module": "@jupyter-widgets/base",
            "_view_module_version": "1.2.0",
            "_view_name": "StyleView",
            "bar_color": null,
            "description_width": ""
          }
        },
        "591adb230e29468d9e48c67ac2436eb8": {
          "model_module": "@jupyter-widgets/base",
          "model_name": "LayoutModel",
          "model_module_version": "1.2.0",
          "state": {
            "_model_module": "@jupyter-widgets/base",
            "_model_module_version": "1.2.0",
            "_model_name": "LayoutModel",
            "_view_count": null,
            "_view_module": "@jupyter-widgets/base",
            "_view_module_version": "1.2.0",
            "_view_name": "LayoutView",
            "align_content": null,
            "align_items": null,
            "align_self": null,
            "border": null,
            "bottom": null,
            "display": null,
            "flex": null,
            "flex_flow": null,
            "grid_area": null,
            "grid_auto_columns": null,
            "grid_auto_flow": null,
            "grid_auto_rows": null,
            "grid_column": null,
            "grid_gap": null,
            "grid_row": null,
            "grid_template_areas": null,
            "grid_template_columns": null,
            "grid_template_rows": null,
            "height": null,
            "justify_content": null,
            "justify_items": null,
            "left": null,
            "margin": null,
            "max_height": null,
            "max_width": null,
            "min_height": null,
            "min_width": null,
            "object_fit": null,
            "object_position": null,
            "order": null,
            "overflow": null,
            "overflow_x": null,
            "overflow_y": null,
            "padding": null,
            "right": null,
            "top": null,
            "visibility": null,
            "width": null
          }
        },
        "01d4285a0e734cc888934a96ef83cb3e": {
          "model_module": "@jupyter-widgets/controls",
          "model_name": "DescriptionStyleModel",
          "model_module_version": "1.5.0",
          "state": {
            "_model_module": "@jupyter-widgets/controls",
            "_model_module_version": "1.5.0",
            "_model_name": "DescriptionStyleModel",
            "_view_count": null,
            "_view_module": "@jupyter-widgets/base",
            "_view_module_version": "1.2.0",
            "_view_name": "StyleView",
            "description_width": ""
          }
        },
        "9e2556d19cba42638995838e9ae20090": {
          "model_module": "@jupyter-widgets/controls",
          "model_name": "HBoxModel",
          "model_module_version": "1.5.0",
          "state": {
            "_dom_classes": [],
            "_model_module": "@jupyter-widgets/controls",
            "_model_module_version": "1.5.0",
            "_model_name": "HBoxModel",
            "_view_count": null,
            "_view_module": "@jupyter-widgets/controls",
            "_view_module_version": "1.5.0",
            "_view_name": "HBoxView",
            "box_style": "",
            "children": [
              "IPY_MODEL_8f6ff7c37d6b4e56881f009c7d89ed3f",
              "IPY_MODEL_2a38512661c14926858d7a252d973268",
              "IPY_MODEL_2270768d8557466e9097b7fb8fa8ac48"
            ],
            "layout": "IPY_MODEL_1bd571d6578a4a88afb7cab010b765b9"
          }
        },
        "8f6ff7c37d6b4e56881f009c7d89ed3f": {
          "model_module": "@jupyter-widgets/controls",
          "model_name": "HTMLModel",
          "model_module_version": "1.5.0",
          "state": {
            "_dom_classes": [],
            "_model_module": "@jupyter-widgets/controls",
            "_model_module_version": "1.5.0",
            "_model_name": "HTMLModel",
            "_view_count": null,
            "_view_module": "@jupyter-widgets/controls",
            "_view_module_version": "1.5.0",
            "_view_name": "HTMLView",
            "description": "",
            "description_tooltip": null,
            "layout": "IPY_MODEL_c004c7e91ec4422786aa1383d8eea92e",
            "placeholder": "​",
            "style": "IPY_MODEL_3175660fb0b341a1a7b41566426965d5",
            "value": "Generating test examples...:  98%"
          }
        },
        "2a38512661c14926858d7a252d973268": {
          "model_module": "@jupyter-widgets/controls",
          "model_name": "FloatProgressModel",
          "model_module_version": "1.5.0",
          "state": {
            "_dom_classes": [],
            "_model_module": "@jupyter-widgets/controls",
            "_model_module_version": "1.5.0",
            "_model_name": "FloatProgressModel",
            "_view_count": null,
            "_view_module": "@jupyter-widgets/controls",
            "_view_module_version": "1.5.0",
            "_view_name": "ProgressView",
            "bar_style": "",
            "description": "",
            "description_tooltip": null,
            "layout": "IPY_MODEL_257e4700563d4a08a7e105fec7a4be75",
            "max": 25000,
            "min": 0,
            "orientation": "horizontal",
            "style": "IPY_MODEL_f68f58a93b5e47dd8b4a02742287aa6f",
            "value": 25000
          }
        },
        "2270768d8557466e9097b7fb8fa8ac48": {
          "model_module": "@jupyter-widgets/controls",
          "model_name": "HTMLModel",
          "model_module_version": "1.5.0",
          "state": {
            "_dom_classes": [],
            "_model_module": "@jupyter-widgets/controls",
            "_model_module_version": "1.5.0",
            "_model_name": "HTMLModel",
            "_view_count": null,
            "_view_module": "@jupyter-widgets/controls",
            "_view_module_version": "1.5.0",
            "_view_name": "HTMLView",
            "description": "",
            "description_tooltip": null,
            "layout": "IPY_MODEL_924983c7730446f0a3612088cb9d1383",
            "placeholder": "​",
            "style": "IPY_MODEL_1df67c3afa6d4716bd389df983e74951",
            "value": " 24464/25000 [00:09&lt;00:00, 3126.48 examples/s]"
          }
        },
        "1bd571d6578a4a88afb7cab010b765b9": {
          "model_module": "@jupyter-widgets/base",
          "model_name": "LayoutModel",
          "model_module_version": "1.2.0",
          "state": {
            "_model_module": "@jupyter-widgets/base",
            "_model_module_version": "1.2.0",
            "_model_name": "LayoutModel",
            "_view_count": null,
            "_view_module": "@jupyter-widgets/base",
            "_view_module_version": "1.2.0",
            "_view_name": "LayoutView",
            "align_content": null,
            "align_items": null,
            "align_self": null,
            "border": null,
            "bottom": null,
            "display": null,
            "flex": null,
            "flex_flow": null,
            "grid_area": null,
            "grid_auto_columns": null,
            "grid_auto_flow": null,
            "grid_auto_rows": null,
            "grid_column": null,
            "grid_gap": null,
            "grid_row": null,
            "grid_template_areas": null,
            "grid_template_columns": null,
            "grid_template_rows": null,
            "height": null,
            "justify_content": null,
            "justify_items": null,
            "left": null,
            "margin": null,
            "max_height": null,
            "max_width": null,
            "min_height": null,
            "min_width": null,
            "object_fit": null,
            "object_position": null,
            "order": null,
            "overflow": null,
            "overflow_x": null,
            "overflow_y": null,
            "padding": null,
            "right": null,
            "top": null,
            "visibility": "hidden",
            "width": null
          }
        },
        "c004c7e91ec4422786aa1383d8eea92e": {
          "model_module": "@jupyter-widgets/base",
          "model_name": "LayoutModel",
          "model_module_version": "1.2.0",
          "state": {
            "_model_module": "@jupyter-widgets/base",
            "_model_module_version": "1.2.0",
            "_model_name": "LayoutModel",
            "_view_count": null,
            "_view_module": "@jupyter-widgets/base",
            "_view_module_version": "1.2.0",
            "_view_name": "LayoutView",
            "align_content": null,
            "align_items": null,
            "align_self": null,
            "border": null,
            "bottom": null,
            "display": null,
            "flex": null,
            "flex_flow": null,
            "grid_area": null,
            "grid_auto_columns": null,
            "grid_auto_flow": null,
            "grid_auto_rows": null,
            "grid_column": null,
            "grid_gap": null,
            "grid_row": null,
            "grid_template_areas": null,
            "grid_template_columns": null,
            "grid_template_rows": null,
            "height": null,
            "justify_content": null,
            "justify_items": null,
            "left": null,
            "margin": null,
            "max_height": null,
            "max_width": null,
            "min_height": null,
            "min_width": null,
            "object_fit": null,
            "object_position": null,
            "order": null,
            "overflow": null,
            "overflow_x": null,
            "overflow_y": null,
            "padding": null,
            "right": null,
            "top": null,
            "visibility": null,
            "width": null
          }
        },
        "3175660fb0b341a1a7b41566426965d5": {
          "model_module": "@jupyter-widgets/controls",
          "model_name": "DescriptionStyleModel",
          "model_module_version": "1.5.0",
          "state": {
            "_model_module": "@jupyter-widgets/controls",
            "_model_module_version": "1.5.0",
            "_model_name": "DescriptionStyleModel",
            "_view_count": null,
            "_view_module": "@jupyter-widgets/base",
            "_view_module_version": "1.2.0",
            "_view_name": "StyleView",
            "description_width": ""
          }
        },
        "257e4700563d4a08a7e105fec7a4be75": {
          "model_module": "@jupyter-widgets/base",
          "model_name": "LayoutModel",
          "model_module_version": "1.2.0",
          "state": {
            "_model_module": "@jupyter-widgets/base",
            "_model_module_version": "1.2.0",
            "_model_name": "LayoutModel",
            "_view_count": null,
            "_view_module": "@jupyter-widgets/base",
            "_view_module_version": "1.2.0",
            "_view_name": "LayoutView",
            "align_content": null,
            "align_items": null,
            "align_self": null,
            "border": null,
            "bottom": null,
            "display": null,
            "flex": null,
            "flex_flow": null,
            "grid_area": null,
            "grid_auto_columns": null,
            "grid_auto_flow": null,
            "grid_auto_rows": null,
            "grid_column": null,
            "grid_gap": null,
            "grid_row": null,
            "grid_template_areas": null,
            "grid_template_columns": null,
            "grid_template_rows": null,
            "height": null,
            "justify_content": null,
            "justify_items": null,
            "left": null,
            "margin": null,
            "max_height": null,
            "max_width": null,
            "min_height": null,
            "min_width": null,
            "object_fit": null,
            "object_position": null,
            "order": null,
            "overflow": null,
            "overflow_x": null,
            "overflow_y": null,
            "padding": null,
            "right": null,
            "top": null,
            "visibility": null,
            "width": null
          }
        },
        "f68f58a93b5e47dd8b4a02742287aa6f": {
          "model_module": "@jupyter-widgets/controls",
          "model_name": "ProgressStyleModel",
          "model_module_version": "1.5.0",
          "state": {
            "_model_module": "@jupyter-widgets/controls",
            "_model_module_version": "1.5.0",
            "_model_name": "ProgressStyleModel",
            "_view_count": null,
            "_view_module": "@jupyter-widgets/base",
            "_view_module_version": "1.2.0",
            "_view_name": "StyleView",
            "bar_color": null,
            "description_width": ""
          }
        },
        "924983c7730446f0a3612088cb9d1383": {
          "model_module": "@jupyter-widgets/base",
          "model_name": "LayoutModel",
          "model_module_version": "1.2.0",
          "state": {
            "_model_module": "@jupyter-widgets/base",
            "_model_module_version": "1.2.0",
            "_model_name": "LayoutModel",
            "_view_count": null,
            "_view_module": "@jupyter-widgets/base",
            "_view_module_version": "1.2.0",
            "_view_name": "LayoutView",
            "align_content": null,
            "align_items": null,
            "align_self": null,
            "border": null,
            "bottom": null,
            "display": null,
            "flex": null,
            "flex_flow": null,
            "grid_area": null,
            "grid_auto_columns": null,
            "grid_auto_flow": null,
            "grid_auto_rows": null,
            "grid_column": null,
            "grid_gap": null,
            "grid_row": null,
            "grid_template_areas": null,
            "grid_template_columns": null,
            "grid_template_rows": null,
            "height": null,
            "justify_content": null,
            "justify_items": null,
            "left": null,
            "margin": null,
            "max_height": null,
            "max_width": null,
            "min_height": null,
            "min_width": null,
            "object_fit": null,
            "object_position": null,
            "order": null,
            "overflow": null,
            "overflow_x": null,
            "overflow_y": null,
            "padding": null,
            "right": null,
            "top": null,
            "visibility": null,
            "width": null
          }
        },
        "1df67c3afa6d4716bd389df983e74951": {
          "model_module": "@jupyter-widgets/controls",
          "model_name": "DescriptionStyleModel",
          "model_module_version": "1.5.0",
          "state": {
            "_model_module": "@jupyter-widgets/controls",
            "_model_module_version": "1.5.0",
            "_model_name": "DescriptionStyleModel",
            "_view_count": null,
            "_view_module": "@jupyter-widgets/base",
            "_view_module_version": "1.2.0",
            "_view_name": "StyleView",
            "description_width": ""
          }
        },
        "e5a7714048de4c35b5e383a07fd162c8": {
          "model_module": "@jupyter-widgets/controls",
          "model_name": "HBoxModel",
          "model_module_version": "1.5.0",
          "state": {
            "_dom_classes": [],
            "_model_module": "@jupyter-widgets/controls",
            "_model_module_version": "1.5.0",
            "_model_name": "HBoxModel",
            "_view_count": null,
            "_view_module": "@jupyter-widgets/controls",
            "_view_module_version": "1.5.0",
            "_view_name": "HBoxView",
            "box_style": "",
            "children": [
              "IPY_MODEL_61362efe754f40cf86c19e3efbda1677",
              "IPY_MODEL_74ab1881e4c64c8fbca2bed049fc15cd",
              "IPY_MODEL_0d167f1497cb44fe9e07d3c43bc920e6"
            ],
            "layout": "IPY_MODEL_38b39ba224bd4606a68ac9754ec5b984"
          }
        },
        "61362efe754f40cf86c19e3efbda1677": {
          "model_module": "@jupyter-widgets/controls",
          "model_name": "HTMLModel",
          "model_module_version": "1.5.0",
          "state": {
            "_dom_classes": [],
            "_model_module": "@jupyter-widgets/controls",
            "_model_module_version": "1.5.0",
            "_model_name": "HTMLModel",
            "_view_count": null,
            "_view_module": "@jupyter-widgets/controls",
            "_view_module_version": "1.5.0",
            "_view_name": "HTMLView",
            "description": "",
            "description_tooltip": null,
            "layout": "IPY_MODEL_6d18640710054f3bb756be527c65c620",
            "placeholder": "​",
            "style": "IPY_MODEL_259a5448eade494f9103047f413916fb",
            "value": "Shuffling /root/tensorflow_datasets/imdb_reviews/plain_text/incomplete.RZ33Z0_1.0.0/imdb_reviews-test.tfrecord*...:   0%"
          }
        },
        "74ab1881e4c64c8fbca2bed049fc15cd": {
          "model_module": "@jupyter-widgets/controls",
          "model_name": "FloatProgressModel",
          "model_module_version": "1.5.0",
          "state": {
            "_dom_classes": [],
            "_model_module": "@jupyter-widgets/controls",
            "_model_module_version": "1.5.0",
            "_model_name": "FloatProgressModel",
            "_view_count": null,
            "_view_module": "@jupyter-widgets/controls",
            "_view_module_version": "1.5.0",
            "_view_name": "ProgressView",
            "bar_style": "",
            "description": "",
            "description_tooltip": null,
            "layout": "IPY_MODEL_d4b9e467c0194b2f8392937fb8292e24",
            "max": 25000,
            "min": 0,
            "orientation": "horizontal",
            "style": "IPY_MODEL_2445d668b0924bbab69dd96ebf0cc484",
            "value": 25000
          }
        },
        "0d167f1497cb44fe9e07d3c43bc920e6": {
          "model_module": "@jupyter-widgets/controls",
          "model_name": "HTMLModel",
          "model_module_version": "1.5.0",
          "state": {
            "_dom_classes": [],
            "_model_module": "@jupyter-widgets/controls",
            "_model_module_version": "1.5.0",
            "_model_name": "HTMLModel",
            "_view_count": null,
            "_view_module": "@jupyter-widgets/controls",
            "_view_module_version": "1.5.0",
            "_view_name": "HTMLView",
            "description": "",
            "description_tooltip": null,
            "layout": "IPY_MODEL_c5c361d064db4bf2955af8e0224a4369",
            "placeholder": "​",
            "style": "IPY_MODEL_4c94f1fb94024eceb98377c9a203015d",
            "value": " 0/25000 [00:00&lt;?, ? examples/s]"
          }
        },
        "38b39ba224bd4606a68ac9754ec5b984": {
          "model_module": "@jupyter-widgets/base",
          "model_name": "LayoutModel",
          "model_module_version": "1.2.0",
          "state": {
            "_model_module": "@jupyter-widgets/base",
            "_model_module_version": "1.2.0",
            "_model_name": "LayoutModel",
            "_view_count": null,
            "_view_module": "@jupyter-widgets/base",
            "_view_module_version": "1.2.0",
            "_view_name": "LayoutView",
            "align_content": null,
            "align_items": null,
            "align_self": null,
            "border": null,
            "bottom": null,
            "display": null,
            "flex": null,
            "flex_flow": null,
            "grid_area": null,
            "grid_auto_columns": null,
            "grid_auto_flow": null,
            "grid_auto_rows": null,
            "grid_column": null,
            "grid_gap": null,
            "grid_row": null,
            "grid_template_areas": null,
            "grid_template_columns": null,
            "grid_template_rows": null,
            "height": null,
            "justify_content": null,
            "justify_items": null,
            "left": null,
            "margin": null,
            "max_height": null,
            "max_width": null,
            "min_height": null,
            "min_width": null,
            "object_fit": null,
            "object_position": null,
            "order": null,
            "overflow": null,
            "overflow_x": null,
            "overflow_y": null,
            "padding": null,
            "right": null,
            "top": null,
            "visibility": "hidden",
            "width": null
          }
        },
        "6d18640710054f3bb756be527c65c620": {
          "model_module": "@jupyter-widgets/base",
          "model_name": "LayoutModel",
          "model_module_version": "1.2.0",
          "state": {
            "_model_module": "@jupyter-widgets/base",
            "_model_module_version": "1.2.0",
            "_model_name": "LayoutModel",
            "_view_count": null,
            "_view_module": "@jupyter-widgets/base",
            "_view_module_version": "1.2.0",
            "_view_name": "LayoutView",
            "align_content": null,
            "align_items": null,
            "align_self": null,
            "border": null,
            "bottom": null,
            "display": null,
            "flex": null,
            "flex_flow": null,
            "grid_area": null,
            "grid_auto_columns": null,
            "grid_auto_flow": null,
            "grid_auto_rows": null,
            "grid_column": null,
            "grid_gap": null,
            "grid_row": null,
            "grid_template_areas": null,
            "grid_template_columns": null,
            "grid_template_rows": null,
            "height": null,
            "justify_content": null,
            "justify_items": null,
            "left": null,
            "margin": null,
            "max_height": null,
            "max_width": null,
            "min_height": null,
            "min_width": null,
            "object_fit": null,
            "object_position": null,
            "order": null,
            "overflow": null,
            "overflow_x": null,
            "overflow_y": null,
            "padding": null,
            "right": null,
            "top": null,
            "visibility": null,
            "width": null
          }
        },
        "259a5448eade494f9103047f413916fb": {
          "model_module": "@jupyter-widgets/controls",
          "model_name": "DescriptionStyleModel",
          "model_module_version": "1.5.0",
          "state": {
            "_model_module": "@jupyter-widgets/controls",
            "_model_module_version": "1.5.0",
            "_model_name": "DescriptionStyleModel",
            "_view_count": null,
            "_view_module": "@jupyter-widgets/base",
            "_view_module_version": "1.2.0",
            "_view_name": "StyleView",
            "description_width": ""
          }
        },
        "d4b9e467c0194b2f8392937fb8292e24": {
          "model_module": "@jupyter-widgets/base",
          "model_name": "LayoutModel",
          "model_module_version": "1.2.0",
          "state": {
            "_model_module": "@jupyter-widgets/base",
            "_model_module_version": "1.2.0",
            "_model_name": "LayoutModel",
            "_view_count": null,
            "_view_module": "@jupyter-widgets/base",
            "_view_module_version": "1.2.0",
            "_view_name": "LayoutView",
            "align_content": null,
            "align_items": null,
            "align_self": null,
            "border": null,
            "bottom": null,
            "display": null,
            "flex": null,
            "flex_flow": null,
            "grid_area": null,
            "grid_auto_columns": null,
            "grid_auto_flow": null,
            "grid_auto_rows": null,
            "grid_column": null,
            "grid_gap": null,
            "grid_row": null,
            "grid_template_areas": null,
            "grid_template_columns": null,
            "grid_template_rows": null,
            "height": null,
            "justify_content": null,
            "justify_items": null,
            "left": null,
            "margin": null,
            "max_height": null,
            "max_width": null,
            "min_height": null,
            "min_width": null,
            "object_fit": null,
            "object_position": null,
            "order": null,
            "overflow": null,
            "overflow_x": null,
            "overflow_y": null,
            "padding": null,
            "right": null,
            "top": null,
            "visibility": null,
            "width": null
          }
        },
        "2445d668b0924bbab69dd96ebf0cc484": {
          "model_module": "@jupyter-widgets/controls",
          "model_name": "ProgressStyleModel",
          "model_module_version": "1.5.0",
          "state": {
            "_model_module": "@jupyter-widgets/controls",
            "_model_module_version": "1.5.0",
            "_model_name": "ProgressStyleModel",
            "_view_count": null,
            "_view_module": "@jupyter-widgets/base",
            "_view_module_version": "1.2.0",
            "_view_name": "StyleView",
            "bar_color": null,
            "description_width": ""
          }
        },
        "c5c361d064db4bf2955af8e0224a4369": {
          "model_module": "@jupyter-widgets/base",
          "model_name": "LayoutModel",
          "model_module_version": "1.2.0",
          "state": {
            "_model_module": "@jupyter-widgets/base",
            "_model_module_version": "1.2.0",
            "_model_name": "LayoutModel",
            "_view_count": null,
            "_view_module": "@jupyter-widgets/base",
            "_view_module_version": "1.2.0",
            "_view_name": "LayoutView",
            "align_content": null,
            "align_items": null,
            "align_self": null,
            "border": null,
            "bottom": null,
            "display": null,
            "flex": null,
            "flex_flow": null,
            "grid_area": null,
            "grid_auto_columns": null,
            "grid_auto_flow": null,
            "grid_auto_rows": null,
            "grid_column": null,
            "grid_gap": null,
            "grid_row": null,
            "grid_template_areas": null,
            "grid_template_columns": null,
            "grid_template_rows": null,
            "height": null,
            "justify_content": null,
            "justify_items": null,
            "left": null,
            "margin": null,
            "max_height": null,
            "max_width": null,
            "min_height": null,
            "min_width": null,
            "object_fit": null,
            "object_position": null,
            "order": null,
            "overflow": null,
            "overflow_x": null,
            "overflow_y": null,
            "padding": null,
            "right": null,
            "top": null,
            "visibility": null,
            "width": null
          }
        },
        "4c94f1fb94024eceb98377c9a203015d": {
          "model_module": "@jupyter-widgets/controls",
          "model_name": "DescriptionStyleModel",
          "model_module_version": "1.5.0",
          "state": {
            "_model_module": "@jupyter-widgets/controls",
            "_model_module_version": "1.5.0",
            "_model_name": "DescriptionStyleModel",
            "_view_count": null,
            "_view_module": "@jupyter-widgets/base",
            "_view_module_version": "1.2.0",
            "_view_name": "StyleView",
            "description_width": ""
          }
        },
        "9db92c5415aa458b8e50d2e932710173": {
          "model_module": "@jupyter-widgets/controls",
          "model_name": "HBoxModel",
          "model_module_version": "1.5.0",
          "state": {
            "_dom_classes": [],
            "_model_module": "@jupyter-widgets/controls",
            "_model_module_version": "1.5.0",
            "_model_name": "HBoxModel",
            "_view_count": null,
            "_view_module": "@jupyter-widgets/controls",
            "_view_module_version": "1.5.0",
            "_view_name": "HBoxView",
            "box_style": "",
            "children": [
              "IPY_MODEL_c05b8c4e017d4d11a49ac1e5851e09cf",
              "IPY_MODEL_ac8ea29361c440608fb459b29a1f690f",
              "IPY_MODEL_be3bdfcc0650459289f86c4b87404100"
            ],
            "layout": "IPY_MODEL_33e64c5d0ad94bcdaf25331639801552"
          }
        },
        "c05b8c4e017d4d11a49ac1e5851e09cf": {
          "model_module": "@jupyter-widgets/controls",
          "model_name": "HTMLModel",
          "model_module_version": "1.5.0",
          "state": {
            "_dom_classes": [],
            "_model_module": "@jupyter-widgets/controls",
            "_model_module_version": "1.5.0",
            "_model_name": "HTMLModel",
            "_view_count": null,
            "_view_module": "@jupyter-widgets/controls",
            "_view_module_version": "1.5.0",
            "_view_name": "HTMLView",
            "description": "",
            "description_tooltip": null,
            "layout": "IPY_MODEL_44ae95124048427188899b3c799dc0c6",
            "placeholder": "​",
            "style": "IPY_MODEL_72cbf5c7e73a4c888c49fc6f1bfac9e9",
            "value": "Generating unsupervised examples...:  98%"
          }
        },
        "ac8ea29361c440608fb459b29a1f690f": {
          "model_module": "@jupyter-widgets/controls",
          "model_name": "FloatProgressModel",
          "model_module_version": "1.5.0",
          "state": {
            "_dom_classes": [],
            "_model_module": "@jupyter-widgets/controls",
            "_model_module_version": "1.5.0",
            "_model_name": "FloatProgressModel",
            "_view_count": null,
            "_view_module": "@jupyter-widgets/controls",
            "_view_module_version": "1.5.0",
            "_view_name": "ProgressView",
            "bar_style": "",
            "description": "",
            "description_tooltip": null,
            "layout": "IPY_MODEL_e13088c9df874ab0910767f91c5a87e7",
            "max": 50000,
            "min": 0,
            "orientation": "horizontal",
            "style": "IPY_MODEL_f5b9378674aa4d1a9601a6613ef3e6ea",
            "value": 50000
          }
        },
        "be3bdfcc0650459289f86c4b87404100": {
          "model_module": "@jupyter-widgets/controls",
          "model_name": "HTMLModel",
          "model_module_version": "1.5.0",
          "state": {
            "_dom_classes": [],
            "_model_module": "@jupyter-widgets/controls",
            "_model_module_version": "1.5.0",
            "_model_name": "HTMLModel",
            "_view_count": null,
            "_view_module": "@jupyter-widgets/controls",
            "_view_module_version": "1.5.0",
            "_view_name": "HTMLView",
            "description": "",
            "description_tooltip": null,
            "layout": "IPY_MODEL_f161144c11d945148685d09ae29c02e3",
            "placeholder": "​",
            "style": "IPY_MODEL_ae1b80efc8404f4f8d42833e845b685c",
            "value": " 48983/50000 [00:27&lt;00:00, 2944.03 examples/s]"
          }
        },
        "33e64c5d0ad94bcdaf25331639801552": {
          "model_module": "@jupyter-widgets/base",
          "model_name": "LayoutModel",
          "model_module_version": "1.2.0",
          "state": {
            "_model_module": "@jupyter-widgets/base",
            "_model_module_version": "1.2.0",
            "_model_name": "LayoutModel",
            "_view_count": null,
            "_view_module": "@jupyter-widgets/base",
            "_view_module_version": "1.2.0",
            "_view_name": "LayoutView",
            "align_content": null,
            "align_items": null,
            "align_self": null,
            "border": null,
            "bottom": null,
            "display": null,
            "flex": null,
            "flex_flow": null,
            "grid_area": null,
            "grid_auto_columns": null,
            "grid_auto_flow": null,
            "grid_auto_rows": null,
            "grid_column": null,
            "grid_gap": null,
            "grid_row": null,
            "grid_template_areas": null,
            "grid_template_columns": null,
            "grid_template_rows": null,
            "height": null,
            "justify_content": null,
            "justify_items": null,
            "left": null,
            "margin": null,
            "max_height": null,
            "max_width": null,
            "min_height": null,
            "min_width": null,
            "object_fit": null,
            "object_position": null,
            "order": null,
            "overflow": null,
            "overflow_x": null,
            "overflow_y": null,
            "padding": null,
            "right": null,
            "top": null,
            "visibility": "hidden",
            "width": null
          }
        },
        "44ae95124048427188899b3c799dc0c6": {
          "model_module": "@jupyter-widgets/base",
          "model_name": "LayoutModel",
          "model_module_version": "1.2.0",
          "state": {
            "_model_module": "@jupyter-widgets/base",
            "_model_module_version": "1.2.0",
            "_model_name": "LayoutModel",
            "_view_count": null,
            "_view_module": "@jupyter-widgets/base",
            "_view_module_version": "1.2.0",
            "_view_name": "LayoutView",
            "align_content": null,
            "align_items": null,
            "align_self": null,
            "border": null,
            "bottom": null,
            "display": null,
            "flex": null,
            "flex_flow": null,
            "grid_area": null,
            "grid_auto_columns": null,
            "grid_auto_flow": null,
            "grid_auto_rows": null,
            "grid_column": null,
            "grid_gap": null,
            "grid_row": null,
            "grid_template_areas": null,
            "grid_template_columns": null,
            "grid_template_rows": null,
            "height": null,
            "justify_content": null,
            "justify_items": null,
            "left": null,
            "margin": null,
            "max_height": null,
            "max_width": null,
            "min_height": null,
            "min_width": null,
            "object_fit": null,
            "object_position": null,
            "order": null,
            "overflow": null,
            "overflow_x": null,
            "overflow_y": null,
            "padding": null,
            "right": null,
            "top": null,
            "visibility": null,
            "width": null
          }
        },
        "72cbf5c7e73a4c888c49fc6f1bfac9e9": {
          "model_module": "@jupyter-widgets/controls",
          "model_name": "DescriptionStyleModel",
          "model_module_version": "1.5.0",
          "state": {
            "_model_module": "@jupyter-widgets/controls",
            "_model_module_version": "1.5.0",
            "_model_name": "DescriptionStyleModel",
            "_view_count": null,
            "_view_module": "@jupyter-widgets/base",
            "_view_module_version": "1.2.0",
            "_view_name": "StyleView",
            "description_width": ""
          }
        },
        "e13088c9df874ab0910767f91c5a87e7": {
          "model_module": "@jupyter-widgets/base",
          "model_name": "LayoutModel",
          "model_module_version": "1.2.0",
          "state": {
            "_model_module": "@jupyter-widgets/base",
            "_model_module_version": "1.2.0",
            "_model_name": "LayoutModel",
            "_view_count": null,
            "_view_module": "@jupyter-widgets/base",
            "_view_module_version": "1.2.0",
            "_view_name": "LayoutView",
            "align_content": null,
            "align_items": null,
            "align_self": null,
            "border": null,
            "bottom": null,
            "display": null,
            "flex": null,
            "flex_flow": null,
            "grid_area": null,
            "grid_auto_columns": null,
            "grid_auto_flow": null,
            "grid_auto_rows": null,
            "grid_column": null,
            "grid_gap": null,
            "grid_row": null,
            "grid_template_areas": null,
            "grid_template_columns": null,
            "grid_template_rows": null,
            "height": null,
            "justify_content": null,
            "justify_items": null,
            "left": null,
            "margin": null,
            "max_height": null,
            "max_width": null,
            "min_height": null,
            "min_width": null,
            "object_fit": null,
            "object_position": null,
            "order": null,
            "overflow": null,
            "overflow_x": null,
            "overflow_y": null,
            "padding": null,
            "right": null,
            "top": null,
            "visibility": null,
            "width": null
          }
        },
        "f5b9378674aa4d1a9601a6613ef3e6ea": {
          "model_module": "@jupyter-widgets/controls",
          "model_name": "ProgressStyleModel",
          "model_module_version": "1.5.0",
          "state": {
            "_model_module": "@jupyter-widgets/controls",
            "_model_module_version": "1.5.0",
            "_model_name": "ProgressStyleModel",
            "_view_count": null,
            "_view_module": "@jupyter-widgets/base",
            "_view_module_version": "1.2.0",
            "_view_name": "StyleView",
            "bar_color": null,
            "description_width": ""
          }
        },
        "f161144c11d945148685d09ae29c02e3": {
          "model_module": "@jupyter-widgets/base",
          "model_name": "LayoutModel",
          "model_module_version": "1.2.0",
          "state": {
            "_model_module": "@jupyter-widgets/base",
            "_model_module_version": "1.2.0",
            "_model_name": "LayoutModel",
            "_view_count": null,
            "_view_module": "@jupyter-widgets/base",
            "_view_module_version": "1.2.0",
            "_view_name": "LayoutView",
            "align_content": null,
            "align_items": null,
            "align_self": null,
            "border": null,
            "bottom": null,
            "display": null,
            "flex": null,
            "flex_flow": null,
            "grid_area": null,
            "grid_auto_columns": null,
            "grid_auto_flow": null,
            "grid_auto_rows": null,
            "grid_column": null,
            "grid_gap": null,
            "grid_row": null,
            "grid_template_areas": null,
            "grid_template_columns": null,
            "grid_template_rows": null,
            "height": null,
            "justify_content": null,
            "justify_items": null,
            "left": null,
            "margin": null,
            "max_height": null,
            "max_width": null,
            "min_height": null,
            "min_width": null,
            "object_fit": null,
            "object_position": null,
            "order": null,
            "overflow": null,
            "overflow_x": null,
            "overflow_y": null,
            "padding": null,
            "right": null,
            "top": null,
            "visibility": null,
            "width": null
          }
        },
        "ae1b80efc8404f4f8d42833e845b685c": {
          "model_module": "@jupyter-widgets/controls",
          "model_name": "DescriptionStyleModel",
          "model_module_version": "1.5.0",
          "state": {
            "_model_module": "@jupyter-widgets/controls",
            "_model_module_version": "1.5.0",
            "_model_name": "DescriptionStyleModel",
            "_view_count": null,
            "_view_module": "@jupyter-widgets/base",
            "_view_module_version": "1.2.0",
            "_view_name": "StyleView",
            "description_width": ""
          }
        },
        "b2670a0e490e46e4a178579e63496b5e": {
          "model_module": "@jupyter-widgets/controls",
          "model_name": "HBoxModel",
          "model_module_version": "1.5.0",
          "state": {
            "_dom_classes": [],
            "_model_module": "@jupyter-widgets/controls",
            "_model_module_version": "1.5.0",
            "_model_name": "HBoxModel",
            "_view_count": null,
            "_view_module": "@jupyter-widgets/controls",
            "_view_module_version": "1.5.0",
            "_view_name": "HBoxView",
            "box_style": "",
            "children": [
              "IPY_MODEL_b716cd08f5d34333be5c661d1a6b7ed7",
              "IPY_MODEL_550dc8672b7c4ec6a44fd7b56c1ab184",
              "IPY_MODEL_dca4937b1a664952b85198dc3980359b"
            ],
            "layout": "IPY_MODEL_08104c40193842f6a3cee690358abc12"
          }
        },
        "b716cd08f5d34333be5c661d1a6b7ed7": {
          "model_module": "@jupyter-widgets/controls",
          "model_name": "HTMLModel",
          "model_module_version": "1.5.0",
          "state": {
            "_dom_classes": [],
            "_model_module": "@jupyter-widgets/controls",
            "_model_module_version": "1.5.0",
            "_model_name": "HTMLModel",
            "_view_count": null,
            "_view_module": "@jupyter-widgets/controls",
            "_view_module_version": "1.5.0",
            "_view_name": "HTMLView",
            "description": "",
            "description_tooltip": null,
            "layout": "IPY_MODEL_2c411550a1304d3f9fbe10113018bc27",
            "placeholder": "​",
            "style": "IPY_MODEL_0bf5d9653a424675be79807fc6f37f4a",
            "value": "Shuffling /root/tensorflow_datasets/imdb_reviews/plain_text/incomplete.RZ33Z0_1.0.0/imdb_reviews-unsupervised.tfrecord*...:   0%"
          }
        },
        "550dc8672b7c4ec6a44fd7b56c1ab184": {
          "model_module": "@jupyter-widgets/controls",
          "model_name": "FloatProgressModel",
          "model_module_version": "1.5.0",
          "state": {
            "_dom_classes": [],
            "_model_module": "@jupyter-widgets/controls",
            "_model_module_version": "1.5.0",
            "_model_name": "FloatProgressModel",
            "_view_count": null,
            "_view_module": "@jupyter-widgets/controls",
            "_view_module_version": "1.5.0",
            "_view_name": "ProgressView",
            "bar_style": "",
            "description": "",
            "description_tooltip": null,
            "layout": "IPY_MODEL_93310ce19d604ebd9578cc5431af1944",
            "max": 50000,
            "min": 0,
            "orientation": "horizontal",
            "style": "IPY_MODEL_14a42398574c4fa9b87e56955bc6ea02",
            "value": 50000
          }
        },
        "dca4937b1a664952b85198dc3980359b": {
          "model_module": "@jupyter-widgets/controls",
          "model_name": "HTMLModel",
          "model_module_version": "1.5.0",
          "state": {
            "_dom_classes": [],
            "_model_module": "@jupyter-widgets/controls",
            "_model_module_version": "1.5.0",
            "_model_name": "HTMLModel",
            "_view_count": null,
            "_view_module": "@jupyter-widgets/controls",
            "_view_module_version": "1.5.0",
            "_view_name": "HTMLView",
            "description": "",
            "description_tooltip": null,
            "layout": "IPY_MODEL_f45b38fd785d4169b35b6bea6c0ca646",
            "placeholder": "​",
            "style": "IPY_MODEL_7f7309e82bd04978b5b77c88de59ed8c",
            "value": " 0/50000 [00:00&lt;?, ? examples/s]"
          }
        },
        "08104c40193842f6a3cee690358abc12": {
          "model_module": "@jupyter-widgets/base",
          "model_name": "LayoutModel",
          "model_module_version": "1.2.0",
          "state": {
            "_model_module": "@jupyter-widgets/base",
            "_model_module_version": "1.2.0",
            "_model_name": "LayoutModel",
            "_view_count": null,
            "_view_module": "@jupyter-widgets/base",
            "_view_module_version": "1.2.0",
            "_view_name": "LayoutView",
            "align_content": null,
            "align_items": null,
            "align_self": null,
            "border": null,
            "bottom": null,
            "display": null,
            "flex": null,
            "flex_flow": null,
            "grid_area": null,
            "grid_auto_columns": null,
            "grid_auto_flow": null,
            "grid_auto_rows": null,
            "grid_column": null,
            "grid_gap": null,
            "grid_row": null,
            "grid_template_areas": null,
            "grid_template_columns": null,
            "grid_template_rows": null,
            "height": null,
            "justify_content": null,
            "justify_items": null,
            "left": null,
            "margin": null,
            "max_height": null,
            "max_width": null,
            "min_height": null,
            "min_width": null,
            "object_fit": null,
            "object_position": null,
            "order": null,
            "overflow": null,
            "overflow_x": null,
            "overflow_y": null,
            "padding": null,
            "right": null,
            "top": null,
            "visibility": "hidden",
            "width": null
          }
        },
        "2c411550a1304d3f9fbe10113018bc27": {
          "model_module": "@jupyter-widgets/base",
          "model_name": "LayoutModel",
          "model_module_version": "1.2.0",
          "state": {
            "_model_module": "@jupyter-widgets/base",
            "_model_module_version": "1.2.0",
            "_model_name": "LayoutModel",
            "_view_count": null,
            "_view_module": "@jupyter-widgets/base",
            "_view_module_version": "1.2.0",
            "_view_name": "LayoutView",
            "align_content": null,
            "align_items": null,
            "align_self": null,
            "border": null,
            "bottom": null,
            "display": null,
            "flex": null,
            "flex_flow": null,
            "grid_area": null,
            "grid_auto_columns": null,
            "grid_auto_flow": null,
            "grid_auto_rows": null,
            "grid_column": null,
            "grid_gap": null,
            "grid_row": null,
            "grid_template_areas": null,
            "grid_template_columns": null,
            "grid_template_rows": null,
            "height": null,
            "justify_content": null,
            "justify_items": null,
            "left": null,
            "margin": null,
            "max_height": null,
            "max_width": null,
            "min_height": null,
            "min_width": null,
            "object_fit": null,
            "object_position": null,
            "order": null,
            "overflow": null,
            "overflow_x": null,
            "overflow_y": null,
            "padding": null,
            "right": null,
            "top": null,
            "visibility": null,
            "width": null
          }
        },
        "0bf5d9653a424675be79807fc6f37f4a": {
          "model_module": "@jupyter-widgets/controls",
          "model_name": "DescriptionStyleModel",
          "model_module_version": "1.5.0",
          "state": {
            "_model_module": "@jupyter-widgets/controls",
            "_model_module_version": "1.5.0",
            "_model_name": "DescriptionStyleModel",
            "_view_count": null,
            "_view_module": "@jupyter-widgets/base",
            "_view_module_version": "1.2.0",
            "_view_name": "StyleView",
            "description_width": ""
          }
        },
        "93310ce19d604ebd9578cc5431af1944": {
          "model_module": "@jupyter-widgets/base",
          "model_name": "LayoutModel",
          "model_module_version": "1.2.0",
          "state": {
            "_model_module": "@jupyter-widgets/base",
            "_model_module_version": "1.2.0",
            "_model_name": "LayoutModel",
            "_view_count": null,
            "_view_module": "@jupyter-widgets/base",
            "_view_module_version": "1.2.0",
            "_view_name": "LayoutView",
            "align_content": null,
            "align_items": null,
            "align_self": null,
            "border": null,
            "bottom": null,
            "display": null,
            "flex": null,
            "flex_flow": null,
            "grid_area": null,
            "grid_auto_columns": null,
            "grid_auto_flow": null,
            "grid_auto_rows": null,
            "grid_column": null,
            "grid_gap": null,
            "grid_row": null,
            "grid_template_areas": null,
            "grid_template_columns": null,
            "grid_template_rows": null,
            "height": null,
            "justify_content": null,
            "justify_items": null,
            "left": null,
            "margin": null,
            "max_height": null,
            "max_width": null,
            "min_height": null,
            "min_width": null,
            "object_fit": null,
            "object_position": null,
            "order": null,
            "overflow": null,
            "overflow_x": null,
            "overflow_y": null,
            "padding": null,
            "right": null,
            "top": null,
            "visibility": null,
            "width": null
          }
        },
        "14a42398574c4fa9b87e56955bc6ea02": {
          "model_module": "@jupyter-widgets/controls",
          "model_name": "ProgressStyleModel",
          "model_module_version": "1.5.0",
          "state": {
            "_model_module": "@jupyter-widgets/controls",
            "_model_module_version": "1.5.0",
            "_model_name": "ProgressStyleModel",
            "_view_count": null,
            "_view_module": "@jupyter-widgets/base",
            "_view_module_version": "1.2.0",
            "_view_name": "StyleView",
            "bar_color": null,
            "description_width": ""
          }
        },
        "f45b38fd785d4169b35b6bea6c0ca646": {
          "model_module": "@jupyter-widgets/base",
          "model_name": "LayoutModel",
          "model_module_version": "1.2.0",
          "state": {
            "_model_module": "@jupyter-widgets/base",
            "_model_module_version": "1.2.0",
            "_model_name": "LayoutModel",
            "_view_count": null,
            "_view_module": "@jupyter-widgets/base",
            "_view_module_version": "1.2.0",
            "_view_name": "LayoutView",
            "align_content": null,
            "align_items": null,
            "align_self": null,
            "border": null,
            "bottom": null,
            "display": null,
            "flex": null,
            "flex_flow": null,
            "grid_area": null,
            "grid_auto_columns": null,
            "grid_auto_flow": null,
            "grid_auto_rows": null,
            "grid_column": null,
            "grid_gap": null,
            "grid_row": null,
            "grid_template_areas": null,
            "grid_template_columns": null,
            "grid_template_rows": null,
            "height": null,
            "justify_content": null,
            "justify_items": null,
            "left": null,
            "margin": null,
            "max_height": null,
            "max_width": null,
            "min_height": null,
            "min_width": null,
            "object_fit": null,
            "object_position": null,
            "order": null,
            "overflow": null,
            "overflow_x": null,
            "overflow_y": null,
            "padding": null,
            "right": null,
            "top": null,
            "visibility": null,
            "width": null
          }
        },
        "7f7309e82bd04978b5b77c88de59ed8c": {
          "model_module": "@jupyter-widgets/controls",
          "model_name": "DescriptionStyleModel",
          "model_module_version": "1.5.0",
          "state": {
            "_model_module": "@jupyter-widgets/controls",
            "_model_module_version": "1.5.0",
            "_model_name": "DescriptionStyleModel",
            "_view_count": null,
            "_view_module": "@jupyter-widgets/base",
            "_view_module_version": "1.2.0",
            "_view_name": "StyleView",
            "description_width": ""
          }
        }
      }
    },
    "accelerator": "GPU"
  },
  "nbformat": 4,
  "nbformat_minor": 0
}