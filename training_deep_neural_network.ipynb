{
  "nbformat": 4,
  "nbformat_minor": 0,
  "metadata": {
    "colab": {
      "provenance": [],
      "authorship_tag": "ABX9TyNM9KhLuxmaXRI4/ZYU83TY",
      "include_colab_link": true
    },
    "kernelspec": {
      "name": "python3",
      "display_name": "Python 3"
    },
    "language_info": {
      "name": "python"
    }
  },
  "cells": [
    {
      "cell_type": "markdown",
      "metadata": {
        "id": "view-in-github",
        "colab_type": "text"
      },
      "source": [
        "<a href=\"https://colab.research.google.com/github/Elmir22/Data-science-ML-models-/blob/main/training_deep_neural_network.ipynb\" target=\"_parent\"><img src=\"https://colab.research.google.com/assets/colab-badge.svg\" alt=\"Open In Colab\"/></a>"
      ]
    },
    {
      "cell_type": "code",
      "execution_count": 1,
      "metadata": {
        "id": "enTCLjUuWroW"
      },
      "outputs": [],
      "source": [
        "import numpy as np\n",
        "import matplotlib.pyplot as plt\n",
        "\n",
        "def sigmoid(z):\n",
        "  return1/(1+np.exp(-z))"
      ]
    },
    {
      "cell_type": "markdown",
      "source": [
        "#Xavier and he initialization"
      ],
      "metadata": {
        "id": "rrcjwzo9XZvR"
      }
    },
    {
      "cell_type": "code",
      "source": [
        "import tensorflow as tf\n",
        "dense= tf.keras.layers.Dense(50, activation=\"relu\",\n",
        "                             kernel_initializer=\"he_normal\")"
      ],
      "metadata": {
        "id": "AT3FSzDuXfGx"
      },
      "execution_count": 2,
      "outputs": []
    },
    {
      "cell_type": "code",
      "source": [
        "he_avg_init = tf.keras.initializers.VarianceScaling(scale=2., mode='fan_avg',\n",
        "                                                    distribution='uniform')\n",
        "dense=tf.keras.layers.Dense(50, activation='sigmoid',\n",
        "                            kernel_initializer=he_avg_init)"
      ],
      "metadata": {
        "id": "OFhSHphbXwpK"
      },
      "execution_count": 3,
      "outputs": []
    },
    {
      "cell_type": "code",
      "source": [
        "def leaky_relu(z,alpha):\n",
        "  return np.maximum(alpha*z,z)"
      ],
      "metadata": {
        "id": "R3DlfchFaYXG"
      },
      "execution_count": 5,
      "outputs": []
    },
    {
      "cell_type": "code",
      "source": [
        "np.maximum"
      ],
      "metadata": {
        "colab": {
          "base_uri": "https://localhost:8080/"
        },
        "id": "rqfAWUFnar1f",
        "outputId": "f8462544-fdf5-401b-ccd3-1f1549df18f3"
      },
      "execution_count": 6,
      "outputs": [
        {
          "output_type": "execute_result",
          "data": {
            "text/plain": [
              "<ufunc 'maximum'>"
            ]
          },
          "metadata": {},
          "execution_count": 6
        }
      ]
    },
    {
      "cell_type": "code",
      "source": [
        "leaky_relu = tf.keras.layers.LeakyReLU(alpha=0.2)\n",
        "dense= tf.keras.layers.Dense(50,activation=leaky_relu,\n",
        "                             kernel_initializer='he_normal')"
      ],
      "metadata": {
        "id": "MqQHez9SawmI"
      },
      "execution_count": 7,
      "outputs": []
    },
    {
      "cell_type": "code",
      "source": [
        "model = tf.keras.models.Sequential([\n",
        "    tf.keras.layers.Dense(50,kernel_initializer='he_normal'),\n",
        "    tf.keras.layers.LeakyReLU(alpha=0.2)\n",
        "])"
      ],
      "metadata": {
        "id": "Y7uljdnIbZNZ"
      },
      "execution_count": 8,
      "outputs": []
    },
    {
      "cell_type": "markdown",
      "source": [
        "#ELU"
      ],
      "metadata": {
        "id": "eQCzavWRcSSa"
      }
    },
    {
      "cell_type": "code",
      "source": [
        "dense = tf.keras.layers.Dense(50, activation='elu',\n",
        "                              kernel_initializer='he_normal')"
      ],
      "metadata": {
        "id": "DHnsZmmmcUB3"
      },
      "execution_count": 9,
      "outputs": []
    },
    {
      "cell_type": "code",
      "source": [
        "dense = tf.keras.layers.Dense(50, activation='selu',\n",
        "                              kernel_initializer='lecun_normal')"
      ],
      "metadata": {
        "id": "MsDJu1pNdE12"
      },
      "execution_count": 10,
      "outputs": []
    },
    {
      "cell_type": "code",
      "source": [
        "tf.random.set_seed(42)\n",
        "model =tf.keras.Sequential()\n",
        "model.add(tf.keras.layers.Flatten(input_shape=[28,28]))\n",
        "for layer in range(100):\n",
        "  model.add(tf.keras.layers.Dense(100, activation='selu',\n",
        "                                  kernel_initializer='lecun_normal'))\n",
        "model.add(tf.keras.layers.Dense(10, activation='softmax'))"
      ],
      "metadata": {
        "id": "uPcrpuDHdWxg"
      },
      "execution_count": 11,
      "outputs": []
    },
    {
      "cell_type": "code",
      "source": [
        "model.compile(loss=\"sparse_categorical_crossentropy\",\n",
        "              optimizer=tf.keras.optimizers.SGD(learning_rate=0.001),\n",
        "              metrics=[\"accuracy\"])"
      ],
      "metadata": {
        "id": "OOBsMUvoeNCr"
      },
      "execution_count": 12,
      "outputs": []
    },
    {
      "cell_type": "code",
      "source": [
        "fashion_mnist = tf.keras.datasets.fashion_mnist.load_data()\n",
        "(X_train_full, y_train_full), (X_test, y_test) = fashion_mnist\n",
        "X_train, y_train =X_train_full[:-5000], y_train_full[:-5000]\n",
        "X_valid, y_valid =X_train_full[-5000:], y_train_full[-5000:]\n",
        "X_train, X_valid, X_test = X_train/255, X_valid / 255 , X_test /255"
      ],
      "metadata": {
        "id": "ar2XJss0ewRI",
        "colab": {
          "base_uri": "https://localhost:8080/"
        },
        "outputId": "baf6aaf8-0fea-460e-bcd2-4934c92c1c0d"
      },
      "execution_count": 13,
      "outputs": [
        {
          "output_type": "stream",
          "name": "stdout",
          "text": [
            "Downloading data from https://storage.googleapis.com/tensorflow/tf-keras-datasets/train-labels-idx1-ubyte.gz\n",
            "29515/29515 [==============================] - 0s 0us/step\n",
            "Downloading data from https://storage.googleapis.com/tensorflow/tf-keras-datasets/train-images-idx3-ubyte.gz\n",
            "26421880/26421880 [==============================] - 0s 0us/step\n",
            "Downloading data from https://storage.googleapis.com/tensorflow/tf-keras-datasets/t10k-labels-idx1-ubyte.gz\n",
            "5148/5148 [==============================] - 0s 0us/step\n",
            "Downloading data from https://storage.googleapis.com/tensorflow/tf-keras-datasets/t10k-images-idx3-ubyte.gz\n",
            "4422102/4422102 [==============================] - 0s 0us/step\n"
          ]
        }
      ]
    },
    {
      "cell_type": "code",
      "source": [
        "class_names = ['T-shirt/top', 'Trouser', 'Pullover', 'Dress', 'Coat',\n",
        "               'Sandal', 'Shirt', 'Sneaker', 'Bag', 'Ankle boot']"
      ],
      "metadata": {
        "id": "J2pIaZg4fvd-"
      },
      "execution_count": 14,
      "outputs": []
    },
    {
      "cell_type": "code",
      "source": [
        "pixel_means = X_train.mean(axis=0, keepdims=True)\n",
        "pixels_stds = X_train.std(axis=0, keepdims=True)\n",
        "X_train_scaled = (X_train - pixel_means) / pixels_stds\n",
        "X_valid_scaled = (X_valid - pixel_means) / pixels_stds\n",
        "X_test_scaled = (X_test - pixel_means) / pixels_stds"
      ],
      "metadata": {
        "id": "hAYf_jxPf8qN"
      },
      "execution_count": 15,
      "outputs": []
    },
    {
      "cell_type": "code",
      "source": [
        "history = model.fit(X_train_scaled, y_train, epochs=5,\n",
        "                    validation_data=(X_valid_scaled, y_valid))"
      ],
      "metadata": {
        "colab": {
          "base_uri": "https://localhost:8080/"
        },
        "id": "4rV3DVUCid_U",
        "outputId": "f77b8017-2d3b-40e8-b2c9-6ee802aa348f"
      },
      "execution_count": 16,
      "outputs": [
        {
          "output_type": "stream",
          "name": "stdout",
          "text": [
            "Epoch 1/5\n",
            "1719/1719 [==============================] - 39s 18ms/step - loss: 1.0997 - accuracy: 0.5761 - val_loss: 0.7531 - val_accuracy: 0.7272\n",
            "Epoch 2/5\n",
            "1719/1719 [==============================] - 30s 17ms/step - loss: 0.7176 - accuracy: 0.7414 - val_loss: 0.7194 - val_accuracy: 0.7534\n",
            "Epoch 3/5\n",
            "1719/1719 [==============================] - 29s 17ms/step - loss: 0.6174 - accuracy: 0.7820 - val_loss: 0.5700 - val_accuracy: 0.8050\n",
            "Epoch 4/5\n",
            "1719/1719 [==============================] - 29s 17ms/step - loss: 0.5576 - accuracy: 0.8053 - val_loss: 0.5237 - val_accuracy: 0.8268\n",
            "Epoch 5/5\n",
            "1719/1719 [==============================] - 29s 17ms/step - loss: 0.5120 - accuracy: 0.8226 - val_loss: 0.5198 - val_accuracy: 0.8186\n"
          ]
        }
      ]
    },
    {
      "cell_type": "code",
      "source": [
        "tf.random.set_seed(42)"
      ],
      "metadata": {
        "id": "AqN-q1K1iybo"
      },
      "execution_count": 17,
      "outputs": []
    },
    {
      "cell_type": "code",
      "source": [],
      "metadata": {
        "id": "Xktd_ipuoIF1"
      },
      "execution_count": 17,
      "outputs": []
    },
    {
      "cell_type": "code",
      "source": [],
      "metadata": {
        "id": "mcvhZPaRoITd"
      },
      "execution_count": 17,
      "outputs": []
    },
    {
      "cell_type": "code",
      "source": [
        "model = tf.keras.Sequential()\n",
        "model.add(tf.keras.layers.Flatten(input_shape=[28,28]))\n",
        "for layer in range(100):\n",
        "  model.add(tf.keras.layers.Dense(100, activation=\"relu\",\n",
        "                                  kernel_initializer=\"he_normal\"))\n",
        "model.add(tf.keras.layers.Dense(10, activation=\"softmax\"))"
      ],
      "metadata": {
        "id": "VgpaVNbyi7E5"
      },
      "execution_count": 18,
      "outputs": []
    },
    {
      "cell_type": "code",
      "source": [
        "model.compile(loss=\"sparse_categorical_crossentropy\",\n",
        "              optimizer=tf.keras.optimizers.SGD(learning_rate=0.001),\n",
        "              metrics=[\"accuracy\"])"
      ],
      "metadata": {
        "id": "5avDiTUgmvFL"
      },
      "execution_count": 19,
      "outputs": []
    },
    {
      "cell_type": "code",
      "source": [
        "history = model.fit(X_train_scaled, y_train, epochs=5,\n",
        "                    validation_data=(X_valid_scaled, y_valid))"
      ],
      "metadata": {
        "colab": {
          "base_uri": "https://localhost:8080/"
        },
        "id": "qyjCruGqmxLC",
        "outputId": "537a4f6d-2d48-433a-99bc-93ea1feccd45"
      },
      "execution_count": 20,
      "outputs": [
        {
          "output_type": "stream",
          "name": "stdout",
          "text": [
            "Epoch 1/5\n",
            "1719/1719 [==============================] - 35s 16ms/step - loss: 1.9331 - accuracy: 0.2334 - val_loss: 1.8224 - val_accuracy: 0.2584\n",
            "Epoch 2/5\n",
            "1719/1719 [==============================] - 27s 16ms/step - loss: 1.5073 - accuracy: 0.3640 - val_loss: 1.1005 - val_accuracy: 0.5174\n",
            "Epoch 3/5\n",
            "1719/1719 [==============================] - 28s 16ms/step - loss: 1.1107 - accuracy: 0.5184 - val_loss: 1.3539 - val_accuracy: 0.4654\n",
            "Epoch 4/5\n",
            "1719/1719 [==============================] - 30s 17ms/step - loss: 0.9393 - accuracy: 0.6113 - val_loss: 0.7685 - val_accuracy: 0.6852\n",
            "Epoch 5/5\n",
            "1719/1719 [==============================] - 28s 16ms/step - loss: 0.8280 - accuracy: 0.6649 - val_loss: 0.7606 - val_accuracy: 0.6926\n"
          ]
        }
      ]
    },
    {
      "cell_type": "code",
      "source": [
        "def swish(z, beta=1):\n",
        "  return z*sigmoid(beta * z)\n",
        "\n",
        "def approx_gelu(z):\n",
        "  return swish(z, beta=1.702)\n",
        "\n",
        "def soft_plus(z):\n",
        "  return np.log(1+np.exp(z))\n",
        "\n",
        "def mish(z):\n",
        "  return z * np.tanh(solfplus(z))"
      ],
      "metadata": {
        "id": "so37I1pGn_NU"
      },
      "execution_count": 21,
      "outputs": []
    },
    {
      "cell_type": "markdown",
      "source": [
        "#batch Nomalization"
      ],
      "metadata": {
        "id": "5DK3qIBdyIys"
      }
    },
    {
      "cell_type": "code",
      "source": [
        "tf.keras.backend.clear_session()\n",
        "tf.random.set_seed(42)"
      ],
      "metadata": {
        "id": "OMCtnxUCyVFq"
      },
      "execution_count": 22,
      "outputs": []
    },
    {
      "cell_type": "code",
      "source": [
        "model= tf.keras.Sequential([\n",
        "    tf.keras.layers.Flatten(input_shape=[28,28]),\n",
        "    tf.keras.layers.BatchNormalization(),\n",
        "    tf.keras.layers.Dense(300, activation=\"relu\",\n",
        "                          kernel_initializer=\"he_normal\"),\n",
        "    tf.keras.layers.BatchNormalization(),\n",
        "    tf.keras.layers.Dense(100, activation=\"relu\",\n",
        "                          kernel_initializer=\"he_normal\"),\n",
        "    tf.keras.layers.BatchNormalization(),\n",
        "    tf.keras.layers.Dense(10, activation=\"softmax\")\n",
        "])"
      ],
      "metadata": {
        "id": "BDs__pjHyet0"
      },
      "execution_count": 23,
      "outputs": []
    },
    {
      "cell_type": "code",
      "source": [
        "[(var.name, var.trainable) for var in model.layers[1].variables]"
      ],
      "metadata": {
        "colab": {
          "base_uri": "https://localhost:8080/"
        },
        "id": "ynirsKDF0avJ",
        "outputId": "d13a9e89-3956-47f2-dc57-d6e121bb7bb5"
      },
      "execution_count": 24,
      "outputs": [
        {
          "output_type": "execute_result",
          "data": {
            "text/plain": [
              "[('batch_normalization/gamma:0', True),\n",
              " ('batch_normalization/beta:0', True),\n",
              " ('batch_normalization/moving_mean:0', False),\n",
              " ('batch_normalization/moving_variance:0', False)]"
            ]
          },
          "metadata": {},
          "execution_count": 24
        }
      ]
    },
    {
      "cell_type": "code",
      "source": [
        "model.compile(loss=\"sparse_categorical_crossentropy\", optimizer=\"sgd\",\n",
        "              metrics=\"accuracy\")\n",
        "model.fit(X_train, y_train, epochs=2,validation_data=(X_valid, y_valid))"
      ],
      "metadata": {
        "colab": {
          "base_uri": "https://localhost:8080/"
        },
        "id": "WzalAbIT14ud",
        "outputId": "e459e6fc-e949-4b3b-d678-3dc50ceaad36"
      },
      "execution_count": 26,
      "outputs": [
        {
          "output_type": "stream",
          "name": "stdout",
          "text": [
            "Epoch 1/2\n",
            "1719/1719 [==============================] - 12s 6ms/step - loss: 0.5469 - accuracy: 0.8088 - val_loss: 0.3934 - val_accuracy: 0.8536\n",
            "Epoch 2/2\n",
            "1719/1719 [==============================] - 11s 6ms/step - loss: 0.4054 - accuracy: 0.8560 - val_loss: 0.3632 - val_accuracy: 0.8680\n"
          ]
        },
        {
          "output_type": "execute_result",
          "data": {
            "text/plain": [
              "<keras.src.callbacks.History at 0x7e8a2024dcc0>"
            ]
          },
          "metadata": {},
          "execution_count": 26
        }
      ]
    },
    {
      "cell_type": "code",
      "source": [
        "tf.keras.backend.clear_session()\n",
        "tf.random.set_seed(42)"
      ],
      "metadata": {
        "id": "NCHAcudZ2alG"
      },
      "execution_count": 27,
      "outputs": []
    },
    {
      "cell_type": "code",
      "source": [
        "model= tf.keras.Sequential([\n",
        "    tf.keras.layers.Flatten(input_shape=[28,28]),\n",
        "    tf.keras.layers.BatchNormalization(),\n",
        "    tf.keras.layers.Dense(300, kernel_initializer=\"he_normal\", use_bias=False),\n",
        "    tf.keras.layers.BatchNormalization(),\n",
        "    tf.keras.layers.Activation(\"relu\"),\n",
        "    tf.keras.layers.Dense(100,kernel_initializer=\"he_normal\", use_bias=False),\n",
        "    tf.keras.layers.BatchNormalization(),\n",
        "    tf.keras.layers.Activation(\"relu\"),\n",
        "    tf.keras.layers.Dense(10, activation=\"softmax\")\n",
        "])"
      ],
      "metadata": {
        "id": "RIDoInGJ2mFF"
      },
      "execution_count": 29,
      "outputs": []
    },
    {
      "cell_type": "code",
      "source": [
        "model.compile(loss=\"spase_categorical_crossentropy\", optimizer=\"sgd\",\n",
        "              metrics=\"accuracy\")\n",
        "model.fit(X_train, y_train, epochs=2,validation_data=(X_valid, y_valid))"
      ],
      "metadata": {
        "colab": {
          "base_uri": "https://localhost:8080/",
          "height": 790
        },
        "id": "-EeM7DwJ3aCm",
        "outputId": "bcb2b855-90e2-43f7-f2a6-4fd5c5918946"
      },
      "execution_count": 31,
      "outputs": [
        {
          "output_type": "stream",
          "name": "stdout",
          "text": [
            "Epoch 1/2\n"
          ]
        },
        {
          "output_type": "error",
          "ename": "ValueError",
          "evalue": "in user code:\n\n    File \"/usr/local/lib/python3.10/dist-packages/keras/src/engine/training.py\", line 1401, in train_function  *\n        return step_function(self, iterator)\n    File \"/usr/local/lib/python3.10/dist-packages/keras/src/engine/training.py\", line 1384, in step_function  **\n        outputs = model.distribute_strategy.run(run_step, args=(data,))\n    File \"/usr/local/lib/python3.10/dist-packages/keras/src/engine/training.py\", line 1373, in run_step  **\n        outputs = model.train_step(data)\n    File \"/usr/local/lib/python3.10/dist-packages/keras/src/engine/training.py\", line 1151, in train_step\n        loss = self.compute_loss(x, y, y_pred, sample_weight)\n    File \"/usr/local/lib/python3.10/dist-packages/keras/src/engine/training.py\", line 1209, in compute_loss\n        return self.compiled_loss(\n    File \"/usr/local/lib/python3.10/dist-packages/keras/src/engine/compile_utils.py\", line 252, in __call__\n        self.build(y_pred)\n    File \"/usr/local/lib/python3.10/dist-packages/keras/src/engine/compile_utils.py\", line 194, in build\n        self._losses = tf.nest.map_structure(\n    File \"/usr/local/lib/python3.10/dist-packages/keras/src/engine/compile_utils.py\", line 365, in _get_loss_object\n        loss = losses_mod.get(loss)\n    File \"/usr/local/lib/python3.10/dist-packages/keras/src/losses.py\", line 2965, in get\n        return deserialize(identifier, use_legacy_format=use_legacy_format)\n    File \"/usr/local/lib/python3.10/dist-packages/keras/src/losses.py\", line 2912, in deserialize\n        return legacy_serialization.deserialize_keras_object(\n    File \"/usr/local/lib/python3.10/dist-packages/keras/src/saving/legacy/serialization.py\", line 537, in deserialize_keras_object\n        raise ValueError(\n\n    ValueError: Unknown loss function: 'spase_categorical_crossentropy'. Please ensure you are using a `keras.utils.custom_object_scope` and that this object is included in the scope. See https://www.tensorflow.org/guide/keras/save_and_serialize#registering_the_custom_object for details.\n",
          "traceback": [
            "\u001b[0;31m---------------------------------------------------------------------------\u001b[0m",
            "\u001b[0;31mValueError\u001b[0m                                Traceback (most recent call last)",
            "\u001b[0;32m<ipython-input-31-b0f4401240f1>\u001b[0m in \u001b[0;36m<cell line: 3>\u001b[0;34m()\u001b[0m\n\u001b[1;32m      1\u001b[0m model.compile(loss=\"spase_categorical_crossentropy\", optimizer=\"sgd\",\n\u001b[1;32m      2\u001b[0m               metrics=\"accuracy\")\n\u001b[0;32m----> 3\u001b[0;31m \u001b[0mmodel\u001b[0m\u001b[0;34m.\u001b[0m\u001b[0mfit\u001b[0m\u001b[0;34m(\u001b[0m\u001b[0mX_train\u001b[0m\u001b[0;34m,\u001b[0m \u001b[0my_train\u001b[0m\u001b[0;34m,\u001b[0m \u001b[0mepochs\u001b[0m\u001b[0;34m=\u001b[0m\u001b[0;36m2\u001b[0m\u001b[0;34m,\u001b[0m\u001b[0mvalidation_data\u001b[0m\u001b[0;34m=\u001b[0m\u001b[0;34m(\u001b[0m\u001b[0mX_valid\u001b[0m\u001b[0;34m,\u001b[0m \u001b[0my_valid\u001b[0m\u001b[0;34m)\u001b[0m\u001b[0;34m)\u001b[0m\u001b[0;34m\u001b[0m\u001b[0;34m\u001b[0m\u001b[0m\n\u001b[0m",
            "\u001b[0;32m/usr/local/lib/python3.10/dist-packages/keras/src/utils/traceback_utils.py\u001b[0m in \u001b[0;36merror_handler\u001b[0;34m(*args, **kwargs)\u001b[0m\n\u001b[1;32m     68\u001b[0m             \u001b[0;31m# To get the full stack trace, call:\u001b[0m\u001b[0;34m\u001b[0m\u001b[0;34m\u001b[0m\u001b[0m\n\u001b[1;32m     69\u001b[0m             \u001b[0;31m# `tf.debugging.disable_traceback_filtering()`\u001b[0m\u001b[0;34m\u001b[0m\u001b[0;34m\u001b[0m\u001b[0m\n\u001b[0;32m---> 70\u001b[0;31m             \u001b[0;32mraise\u001b[0m \u001b[0me\u001b[0m\u001b[0;34m.\u001b[0m\u001b[0mwith_traceback\u001b[0m\u001b[0;34m(\u001b[0m\u001b[0mfiltered_tb\u001b[0m\u001b[0;34m)\u001b[0m \u001b[0;32mfrom\u001b[0m \u001b[0;32mNone\u001b[0m\u001b[0;34m\u001b[0m\u001b[0;34m\u001b[0m\u001b[0m\n\u001b[0m\u001b[1;32m     71\u001b[0m         \u001b[0;32mfinally\u001b[0m\u001b[0;34m:\u001b[0m\u001b[0;34m\u001b[0m\u001b[0;34m\u001b[0m\u001b[0m\n\u001b[1;32m     72\u001b[0m             \u001b[0;32mdel\u001b[0m \u001b[0mfiltered_tb\u001b[0m\u001b[0;34m\u001b[0m\u001b[0;34m\u001b[0m\u001b[0m\n",
            "\u001b[0;32m/usr/local/lib/python3.10/dist-packages/keras/src/engine/training.py\u001b[0m in \u001b[0;36mtf__train_function\u001b[0;34m(iterator)\u001b[0m\n\u001b[1;32m     13\u001b[0m                 \u001b[0;32mtry\u001b[0m\u001b[0;34m:\u001b[0m\u001b[0;34m\u001b[0m\u001b[0;34m\u001b[0m\u001b[0m\n\u001b[1;32m     14\u001b[0m                     \u001b[0mdo_return\u001b[0m \u001b[0;34m=\u001b[0m \u001b[0;32mTrue\u001b[0m\u001b[0;34m\u001b[0m\u001b[0;34m\u001b[0m\u001b[0m\n\u001b[0;32m---> 15\u001b[0;31m                     \u001b[0mretval_\u001b[0m \u001b[0;34m=\u001b[0m \u001b[0mag__\u001b[0m\u001b[0;34m.\u001b[0m\u001b[0mconverted_call\u001b[0m\u001b[0;34m(\u001b[0m\u001b[0mag__\u001b[0m\u001b[0;34m.\u001b[0m\u001b[0mld\u001b[0m\u001b[0;34m(\u001b[0m\u001b[0mstep_function\u001b[0m\u001b[0;34m)\u001b[0m\u001b[0;34m,\u001b[0m \u001b[0;34m(\u001b[0m\u001b[0mag__\u001b[0m\u001b[0;34m.\u001b[0m\u001b[0mld\u001b[0m\u001b[0;34m(\u001b[0m\u001b[0mself\u001b[0m\u001b[0;34m)\u001b[0m\u001b[0;34m,\u001b[0m \u001b[0mag__\u001b[0m\u001b[0;34m.\u001b[0m\u001b[0mld\u001b[0m\u001b[0;34m(\u001b[0m\u001b[0miterator\u001b[0m\u001b[0;34m)\u001b[0m\u001b[0;34m)\u001b[0m\u001b[0;34m,\u001b[0m \u001b[0;32mNone\u001b[0m\u001b[0;34m,\u001b[0m \u001b[0mfscope\u001b[0m\u001b[0;34m)\u001b[0m\u001b[0;34m\u001b[0m\u001b[0;34m\u001b[0m\u001b[0m\n\u001b[0m\u001b[1;32m     16\u001b[0m                 \u001b[0;32mexcept\u001b[0m\u001b[0;34m:\u001b[0m\u001b[0;34m\u001b[0m\u001b[0;34m\u001b[0m\u001b[0m\n\u001b[1;32m     17\u001b[0m                     \u001b[0mdo_return\u001b[0m \u001b[0;34m=\u001b[0m \u001b[0;32mFalse\u001b[0m\u001b[0;34m\u001b[0m\u001b[0;34m\u001b[0m\u001b[0m\n",
            "\u001b[0;31mValueError\u001b[0m: in user code:\n\n    File \"/usr/local/lib/python3.10/dist-packages/keras/src/engine/training.py\", line 1401, in train_function  *\n        return step_function(self, iterator)\n    File \"/usr/local/lib/python3.10/dist-packages/keras/src/engine/training.py\", line 1384, in step_function  **\n        outputs = model.distribute_strategy.run(run_step, args=(data,))\n    File \"/usr/local/lib/python3.10/dist-packages/keras/src/engine/training.py\", line 1373, in run_step  **\n        outputs = model.train_step(data)\n    File \"/usr/local/lib/python3.10/dist-packages/keras/src/engine/training.py\", line 1151, in train_step\n        loss = self.compute_loss(x, y, y_pred, sample_weight)\n    File \"/usr/local/lib/python3.10/dist-packages/keras/src/engine/training.py\", line 1209, in compute_loss\n        return self.compiled_loss(\n    File \"/usr/local/lib/python3.10/dist-packages/keras/src/engine/compile_utils.py\", line 252, in __call__\n        self.build(y_pred)\n    File \"/usr/local/lib/python3.10/dist-packages/keras/src/engine/compile_utils.py\", line 194, in build\n        self._losses = tf.nest.map_structure(\n    File \"/usr/local/lib/python3.10/dist-packages/keras/src/engine/compile_utils.py\", line 365, in _get_loss_object\n        loss = losses_mod.get(loss)\n    File \"/usr/local/lib/python3.10/dist-packages/keras/src/losses.py\", line 2965, in get\n        return deserialize(identifier, use_legacy_format=use_legacy_format)\n    File \"/usr/local/lib/python3.10/dist-packages/keras/src/losses.py\", line 2912, in deserialize\n        return legacy_serialization.deserialize_keras_object(\n    File \"/usr/local/lib/python3.10/dist-packages/keras/src/saving/legacy/serialization.py\", line 537, in deserialize_keras_object\n        raise ValueError(\n\n    ValueError: Unknown loss function: 'spase_categorical_crossentropy'. Please ensure you are using a `keras.utils.custom_object_scope` and that this object is included in the scope. See https://www.tensorflow.org/guide/keras/save_and_serialize#registering_the_custom_object for details.\n"
          ]
        }
      ]
    },
    {
      "cell_type": "markdown",
      "source": [
        "#Gradient Clipping"
      ],
      "metadata": {
        "id": "8V4YruAQ4EJb"
      }
    },
    {
      "cell_type": "code",
      "source": [
        "optimizer = tf.keras.optimizers.SGD(clipvalue=1.0)\n",
        "model.compile(loss=\"sparse_categorical_crossentropy\", optimizer=optimizer)\n",
        "\n",
        "\n"
      ],
      "metadata": {
        "id": "qm87iklA4IDJ"
      },
      "execution_count": 32,
      "outputs": []
    },
    {
      "cell_type": "code",
      "source": [
        "optimizer = tf.keras.optimizers.SGD(clipnorm=1.0)\n",
        "model.compile(loss=\"sparse_categorical_crossentropy\", optimizer=optimizer)"
      ],
      "metadata": {
        "id": "H843dKCm4dYQ"
      },
      "execution_count": 33,
      "outputs": []
    },
    {
      "cell_type": "markdown",
      "source": [
        "#Reusing Pretrained Layers Transfer learning\n"
      ],
      "metadata": {
        "id": "T_ZUDk8S5EIS"
      }
    },
    {
      "cell_type": "code",
      "source": [
        "pos_class_id = class_names.index(\"Pullover\")\n",
        "neg_class_id = class_names.index(\"T-shirt/top\")\n",
        "\n",
        "def split_dataset(X, y):\n",
        "    y_for_B = (y == pos_class_id) | (y == neg_class_id)\n",
        "    y_A = y[~y_for_B]\n",
        "    y_B = (y[y_for_B] == pos_class_id).astype(np.float32)\n",
        "    old_class_ids = list(set(range(10)) - set([neg_class_id, pos_class_id]))\n",
        "    for old_class_id, new_class_id in zip(old_class_ids, range(8)):\n",
        "        y_A[y_A == old_class_id] = new_class_id  # reorder class ids for A\n",
        "    return ((X[~y_for_B], y_A), (X[y_for_B], y_B))\n",
        "\n",
        "(X_train_A, y_train_A), (X_train_B, y_train_B) = split_dataset(X_train, y_train)\n",
        "(X_valid_A, y_valid_A), (X_valid_B, y_valid_B) = split_dataset(X_valid, y_valid)\n",
        "(X_test_A, y_test_A), (X_test_B, y_test_B) = split_dataset(X_test, y_test)\n",
        "X_train_B = X_train_B[:200]\n",
        "y_train_B = y_train_B[:200]\n",
        "\n",
        "tf.random.set_seed(42)\n",
        "\n",
        "model_A = tf.keras.Sequential([\n",
        "    tf.keras.layers.Flatten(input_shape=[28,28]),\n",
        "    tf.keras.layers.Dense(100,activation=\"relu\",\n",
        "                          kernel_initializer=\"he_normal\"),\n",
        "    tf.keras.layers.Dense(100,activation=\"relu\",\n",
        "                          kernel_initializer=\"he_normal\"),\n",
        "    tf.keras.layers.Dense(100,activation=\"relu\",\n",
        "                          kernel_initializer=\"he_normal\"),\n",
        "    tf.keras.layers.Dense(8, activation=\"softmax\")\n",
        "])\n",
        "\n",
        "model_A.compile(loss=\"sparse_categorical_crossentropy\",\n",
        "                optimizer=tf.keras.optimizers.SGD(learning_rate=0.001),\n",
        "                metrics=[\"accuracy\"])\n",
        "history = model_A.fit(X_train_A,y_train_A, epochs=20,\n",
        "                      validation_data=(X_valid_A, y_valid_A))\n",
        "model_A.save(\"my_model_A\")"
      ],
      "metadata": {
        "colab": {
          "base_uri": "https://localhost:8080/"
        },
        "id": "4wQgJGrw5KG_",
        "outputId": "1dbf012e-3892-4a66-e8e2-ff2937fb8635"
      },
      "execution_count": 35,
      "outputs": [
        {
          "output_type": "stream",
          "name": "stdout",
          "text": [
            "Epoch 1/20\n",
            "1376/1376 [==============================] - 4s 3ms/step - loss: 1.0725 - accuracy: 0.6503 - val_loss: 0.6735 - val_accuracy: 0.7654\n",
            "Epoch 2/20\n",
            "1376/1376 [==============================] - 4s 3ms/step - loss: 0.5978 - accuracy: 0.7916 - val_loss: 0.5183 - val_accuracy: 0.8283\n",
            "Epoch 3/20\n",
            "1376/1376 [==============================] - 5s 4ms/step - loss: 0.4888 - accuracy: 0.8361 - val_loss: 0.4479 - val_accuracy: 0.8538\n",
            "Epoch 4/20\n",
            "1376/1376 [==============================] - 4s 3ms/step - loss: 0.4286 - accuracy: 0.8569 - val_loss: 0.4015 - val_accuracy: 0.8714\n",
            "Epoch 5/20\n",
            "1376/1376 [==============================] - 4s 3ms/step - loss: 0.3903 - accuracy: 0.8686 - val_loss: 0.3738 - val_accuracy: 0.8782\n",
            "Epoch 6/20\n",
            "1376/1376 [==============================] - 5s 3ms/step - loss: 0.3640 - accuracy: 0.8763 - val_loss: 0.3547 - val_accuracy: 0.8832\n",
            "Epoch 7/20\n",
            "1376/1376 [==============================] - 4s 3ms/step - loss: 0.3451 - accuracy: 0.8819 - val_loss: 0.3393 - val_accuracy: 0.8859\n",
            "Epoch 8/20\n",
            "1376/1376 [==============================] - 4s 3ms/step - loss: 0.3301 - accuracy: 0.8876 - val_loss: 0.3309 - val_accuracy: 0.8874\n",
            "Epoch 9/20\n",
            "1376/1376 [==============================] - 5s 3ms/step - loss: 0.3188 - accuracy: 0.8908 - val_loss: 0.3179 - val_accuracy: 0.8920\n",
            "Epoch 10/20\n",
            "1376/1376 [==============================] - 4s 3ms/step - loss: 0.3089 - accuracy: 0.8940 - val_loss: 0.3126 - val_accuracy: 0.8925\n",
            "Epoch 11/20\n",
            "1376/1376 [==============================] - 4s 3ms/step - loss: 0.3004 - accuracy: 0.8965 - val_loss: 0.3069 - val_accuracy: 0.8950\n",
            "Epoch 12/20\n",
            "1376/1376 [==============================] - 5s 3ms/step - loss: 0.2934 - accuracy: 0.8980 - val_loss: 0.3051 - val_accuracy: 0.8960\n",
            "Epoch 13/20\n",
            "1376/1376 [==============================] - 4s 3ms/step - loss: 0.2879 - accuracy: 0.9008 - val_loss: 0.2952 - val_accuracy: 0.8992\n",
            "Epoch 14/20\n",
            "1376/1376 [==============================] - 4s 3ms/step - loss: 0.2821 - accuracy: 0.9016 - val_loss: 0.2900 - val_accuracy: 0.8990\n",
            "Epoch 15/20\n",
            "1376/1376 [==============================] - 5s 3ms/step - loss: 0.2773 - accuracy: 0.9042 - val_loss: 0.2860 - val_accuracy: 0.8995\n",
            "Epoch 16/20\n",
            "1376/1376 [==============================] - 4s 3ms/step - loss: 0.2727 - accuracy: 0.9056 - val_loss: 0.2829 - val_accuracy: 0.9022\n",
            "Epoch 17/20\n",
            "1376/1376 [==============================] - 4s 3ms/step - loss: 0.2684 - accuracy: 0.9067 - val_loss: 0.2798 - val_accuracy: 0.9017\n",
            "Epoch 18/20\n",
            "1376/1376 [==============================] - 6s 5ms/step - loss: 0.2642 - accuracy: 0.9077 - val_loss: 0.2808 - val_accuracy: 0.9017\n",
            "Epoch 19/20\n",
            "1376/1376 [==============================] - 6s 4ms/step - loss: 0.2607 - accuracy: 0.9090 - val_loss: 0.2755 - val_accuracy: 0.9052\n",
            "Epoch 20/20\n",
            "1376/1376 [==============================] - 7s 5ms/step - loss: 0.2569 - accuracy: 0.9107 - val_loss: 0.2761 - val_accuracy: 0.9042\n"
          ]
        }
      ]
    },
    {
      "cell_type": "code",
      "source": [
        "tf.random.set_seed(42)\n",
        "model_B = tf.keras.Sequential([\n",
        "    tf.keras.layers.Flatten(input_shape=[28,28]),\n",
        "    tf.keras.layers.Dense(100,activation=\"relu\",\n",
        "                          kernel_initializer=\"he_normal\"),\n",
        "    tf.keras.layers.Dense(100,activation=\"relu\",\n",
        "                          kernel_initializer=\"he_normal\"),\n",
        "    tf.keras.layers.Dense(100,activation=\"relu\",\n",
        "                          kernel_initializer=\"he_normal\"),\n",
        "    tf.keras.layers.Dense(1, activation=\"sigmoid\")\n",
        "])\n",
        "\n",
        "model_B.compile(loss=\"binary_crossentropy\",\n",
        "                optimizer=tf.keras.optimizers.SGD(learning_rate=0.001),\n",
        "                metrics=[\"accuracy\"])\n",
        "history = model_B.fit(X_train_B, y_train_B, epochs=20,\n",
        "                      validation_data=(X_valid_B, y_valid_B))\n",
        "model_B.evaluate(X_test_B, y_test_B)"
      ],
      "metadata": {
        "colab": {
          "base_uri": "https://localhost:8080/"
        },
        "id": "xewiOW_Q8U94",
        "outputId": "fecd4c51-1783-4e33-8d2a-eac62157f5fe"
      },
      "execution_count": 38,
      "outputs": [
        {
          "output_type": "stream",
          "name": "stdout",
          "text": [
            "Epoch 1/20\n",
            "7/7 [==============================] - 1s 45ms/step - loss: 0.6898 - accuracy: 0.5550 - val_loss: 0.6923 - val_accuracy: 0.5223\n",
            "Epoch 2/20\n",
            "7/7 [==============================] - 0s 17ms/step - loss: 0.6699 - accuracy: 0.5750 - val_loss: 0.6759 - val_accuracy: 0.5519\n",
            "Epoch 3/20\n",
            "7/7 [==============================] - 0s 32ms/step - loss: 0.6539 - accuracy: 0.5750 - val_loss: 0.6615 - val_accuracy: 0.5658\n",
            "Epoch 4/20\n",
            "7/7 [==============================] - 0s 24ms/step - loss: 0.6376 - accuracy: 0.6100 - val_loss: 0.6480 - val_accuracy: 0.5945\n",
            "Epoch 5/20\n",
            "7/7 [==============================] - 0s 34ms/step - loss: 0.6240 - accuracy: 0.6550 - val_loss: 0.6341 - val_accuracy: 0.6380\n",
            "Epoch 6/20\n",
            "7/7 [==============================] - 0s 23ms/step - loss: 0.6102 - accuracy: 0.7100 - val_loss: 0.6210 - val_accuracy: 0.6924\n",
            "Epoch 7/20\n",
            "7/7 [==============================] - 0s 22ms/step - loss: 0.5970 - accuracy: 0.7650 - val_loss: 0.6087 - val_accuracy: 0.7596\n",
            "Epoch 8/20\n",
            "7/7 [==============================] - 0s 33ms/step - loss: 0.5861 - accuracy: 0.8250 - val_loss: 0.5975 - val_accuracy: 0.7903\n",
            "Epoch 9/20\n",
            "7/7 [==============================] - 0s 21ms/step - loss: 0.5740 - accuracy: 0.8450 - val_loss: 0.5870 - val_accuracy: 0.8111\n",
            "Epoch 10/20\n",
            "7/7 [==============================] - 0s 34ms/step - loss: 0.5634 - accuracy: 0.8750 - val_loss: 0.5767 - val_accuracy: 0.8239\n",
            "Epoch 11/20\n",
            "7/7 [==============================] - 0s 35ms/step - loss: 0.5526 - accuracy: 0.8900 - val_loss: 0.5664 - val_accuracy: 0.8398\n",
            "Epoch 12/20\n",
            "7/7 [==============================] - 0s 35ms/step - loss: 0.5420 - accuracy: 0.9050 - val_loss: 0.5559 - val_accuracy: 0.8586\n",
            "Epoch 13/20\n",
            "7/7 [==============================] - 0s 34ms/step - loss: 0.5313 - accuracy: 0.9100 - val_loss: 0.5464 - val_accuracy: 0.8645\n",
            "Epoch 14/20\n",
            "7/7 [==============================] - 0s 24ms/step - loss: 0.5212 - accuracy: 0.9200 - val_loss: 0.5367 - val_accuracy: 0.8744\n",
            "Epoch 15/20\n",
            "7/7 [==============================] - 0s 18ms/step - loss: 0.5112 - accuracy: 0.9200 - val_loss: 0.5267 - val_accuracy: 0.8961\n",
            "Epoch 16/20\n",
            "7/7 [==============================] - 0s 17ms/step - loss: 0.5006 - accuracy: 0.9300 - val_loss: 0.5168 - val_accuracy: 0.9041\n",
            "Epoch 17/20\n",
            "7/7 [==============================] - 0s 17ms/step - loss: 0.4904 - accuracy: 0.9300 - val_loss: 0.5074 - val_accuracy: 0.9110\n",
            "Epoch 18/20\n",
            "7/7 [==============================] - 0s 16ms/step - loss: 0.4808 - accuracy: 0.9400 - val_loss: 0.4971 - val_accuracy: 0.9199\n",
            "Epoch 19/20\n",
            "7/7 [==============================] - 0s 17ms/step - loss: 0.4702 - accuracy: 0.9500 - val_loss: 0.4878 - val_accuracy: 0.9248\n",
            "Epoch 20/20\n",
            "7/7 [==============================] - 0s 16ms/step - loss: 0.4611 - accuracy: 0.9500 - val_loss: 0.4793 - val_accuracy: 0.9238\n",
            "63/63 [==============================] - 0s 2ms/step - loss: 0.4851 - accuracy: 0.9125\n"
          ]
        },
        {
          "output_type": "execute_result",
          "data": {
            "text/plain": [
              "[0.4851333200931549, 0.9125000238418579]"
            ]
          },
          "metadata": {},
          "execution_count": 38
        }
      ]
    },
    {
      "cell_type": "code",
      "source": [
        "model_A =tf.keras.models.load_model(\"my_model_A\")\n",
        "model_B_on_A = tf.keras.Sequential(model_A.layers[:-1])\n",
        "model_B_on_A.add(tf.keras.layers.Dense(1, activation=\"sigmoid\"))"
      ],
      "metadata": {
        "id": "AhReFF8U-Ay4"
      },
      "execution_count": 40,
      "outputs": []
    },
    {
      "cell_type": "code",
      "source": [
        "tf.random.set_seed(42)"
      ],
      "metadata": {
        "id": "0IG8hXzx-ow-"
      },
      "execution_count": 42,
      "outputs": []
    },
    {
      "cell_type": "code",
      "source": [
        "model_A_clone = tf.keras.models.clone_model(model_A)\n",
        "model_A_clone.set_weights(model_A.get_weights())"
      ],
      "metadata": {
        "id": "XEjpi4Tx-voi"
      },
      "execution_count": 43,
      "outputs": []
    },
    {
      "cell_type": "code",
      "source": [
        "model_B_on_A = tf.keras.Sequential(model_A_clone.layers[:-1])\n",
        "model_B_on_A.add(tf.keras.layers.Dense(1, activation=\"sigmoid\"))"
      ],
      "metadata": {
        "id": "cNF9u8s2_odg"
      },
      "execution_count": 44,
      "outputs": []
    },
    {
      "cell_type": "code",
      "source": [
        "for layer in model_B_on_A.layers[:-1]:\n",
        "  layer.trainable = False\n",
        "optimizer = tf.keras.optimizers.SGD(learning_rate=0.001)\n",
        "model_B_on_A.compile(loss=\"binary_crossentropy\", optimizer=optimizer,\n",
        "                     metrics=[\"accuracy\"])"
      ],
      "metadata": {
        "id": "sDjutvMq_1di"
      },
      "execution_count": 46,
      "outputs": []
    },
    {
      "cell_type": "code",
      "source": [
        "history = model_B_on_A.fit(X_train_B, y_train_B, epochs=4,\n",
        "                           validation_data=(X_valid_B, y_valid_B))\n",
        "\n",
        "for layer in model_B_on_A.layers[:-1]:\n",
        "  layer.trainable =True\n",
        "\n",
        "optimizer = tf.keras.optimizers.SGD(learning_rate=0.001)\n",
        "model_B_on_A.compile(loss=\"binary_crossentropy\", optimizer=optimizer,\n",
        "                     metrics=[\"accuracy\"])\n",
        "history = model_B_on_A.fit(X_train_B, y_train_B, epochs=16,\n",
        "                           validation_data=(X_valid_B, y_valid_B))"
      ],
      "metadata": {
        "colab": {
          "base_uri": "https://localhost:8080/"
        },
        "id": "P90UgwQzB4D5",
        "outputId": "ccf63497-8c5c-4e1c-da83-a9f5455fd5c7"
      },
      "execution_count": 49,
      "outputs": [
        {
          "output_type": "stream",
          "name": "stdout",
          "text": [
            "Epoch 1/4\n",
            "7/7 [==============================] - 0s 23ms/step - loss: 0.6564 - accuracy: 0.5950 - val_loss: 0.6866 - val_accuracy: 0.5974\n",
            "Epoch 2/4\n",
            "7/7 [==============================] - 0s 15ms/step - loss: 0.6469 - accuracy: 0.6250 - val_loss: 0.6741 - val_accuracy: 0.6113\n",
            "Epoch 3/4\n",
            "7/7 [==============================] - 0s 20ms/step - loss: 0.6357 - accuracy: 0.6400 - val_loss: 0.6683 - val_accuracy: 0.5776\n",
            "Epoch 4/4\n",
            "7/7 [==============================] - 0s 20ms/step - loss: 0.6209 - accuracy: 0.6400 - val_loss: 0.6548 - val_accuracy: 0.6202\n",
            "Epoch 1/16\n",
            "7/7 [==============================] - 1s 44ms/step - loss: 0.5958 - accuracy: 0.6900 - val_loss: 0.6155 - val_accuracy: 0.6924\n",
            "Epoch 2/16\n",
            "7/7 [==============================] - 0s 18ms/step - loss: 0.5462 - accuracy: 0.7800 - val_loss: 0.5488 - val_accuracy: 0.8081\n",
            "Epoch 3/16\n",
            "7/7 [==============================] - 0s 15ms/step - loss: 0.4945 - accuracy: 0.8600 - val_loss: 0.5182 - val_accuracy: 0.8012\n",
            "Epoch 4/16\n",
            "7/7 [==============================] - 0s 17ms/step - loss: 0.4539 - accuracy: 0.8800 - val_loss: 0.4796 - val_accuracy: 0.8684\n",
            "Epoch 5/16\n",
            "7/7 [==============================] - 0s 16ms/step - loss: 0.4266 - accuracy: 0.9050 - val_loss: 0.4572 - val_accuracy: 0.8714\n",
            "Epoch 6/16\n",
            "7/7 [==============================] - 0s 17ms/step - loss: 0.4036 - accuracy: 0.9200 - val_loss: 0.4302 - val_accuracy: 0.8971\n",
            "Epoch 7/16\n",
            "7/7 [==============================] - 0s 15ms/step - loss: 0.3751 - accuracy: 0.9250 - val_loss: 0.4364 - val_accuracy: 0.8536\n",
            "Epoch 8/16\n",
            "7/7 [==============================] - 0s 17ms/step - loss: 0.3677 - accuracy: 0.9350 - val_loss: 0.3954 - val_accuracy: 0.9031\n",
            "Epoch 9/16\n",
            "7/7 [==============================] - 0s 18ms/step - loss: 0.3391 - accuracy: 0.9350 - val_loss: 0.3782 - val_accuracy: 0.9179\n",
            "Epoch 10/16\n",
            "7/7 [==============================] - 0s 17ms/step - loss: 0.3243 - accuracy: 0.9400 - val_loss: 0.3660 - val_accuracy: 0.9288\n",
            "Epoch 11/16\n",
            "7/7 [==============================] - 0s 15ms/step - loss: 0.3126 - accuracy: 0.9350 - val_loss: 0.3527 - val_accuracy: 0.9318\n",
            "Epoch 12/16\n",
            "7/7 [==============================] - 0s 17ms/step - loss: 0.3008 - accuracy: 0.9350 - val_loss: 0.3412 - val_accuracy: 0.9337\n",
            "Epoch 13/16\n",
            "7/7 [==============================] - 0s 17ms/step - loss: 0.2884 - accuracy: 0.9400 - val_loss: 0.3325 - val_accuracy: 0.9357\n",
            "Epoch 14/16\n",
            "7/7 [==============================] - 0s 17ms/step - loss: 0.2821 - accuracy: 0.9500 - val_loss: 0.3247 - val_accuracy: 0.9357\n",
            "Epoch 15/16\n",
            "7/7 [==============================] - 0s 17ms/step - loss: 0.2734 - accuracy: 0.9500 - val_loss: 0.3149 - val_accuracy: 0.9377\n",
            "Epoch 16/16\n",
            "7/7 [==============================] - 0s 15ms/step - loss: 0.2638 - accuracy: 0.9500 - val_loss: 0.3091 - val_accuracy: 0.9357\n"
          ]
        }
      ]
    },
    {
      "cell_type": "code",
      "source": [
        "model_B_on_A.evaluate(X_test_B, y_test_B)"
      ],
      "metadata": {
        "colab": {
          "base_uri": "https://localhost:8080/"
        },
        "id": "sIQh2I1THYXw",
        "outputId": "d065c368-116e-47fb-e223-411d6ac7dbbf"
      },
      "execution_count": 52,
      "outputs": [
        {
          "output_type": "stream",
          "name": "stdout",
          "text": [
            "63/63 [==============================] - 0s 3ms/step - loss: 0.3265 - accuracy: 0.9150\n"
          ]
        },
        {
          "output_type": "execute_result",
          "data": {
            "text/plain": [
              "[0.3265470266342163, 0.9150000214576721]"
            ]
          },
          "metadata": {},
          "execution_count": 52
        }
      ]
    },
    {
      "cell_type": "code",
      "source": [
        "(1-(100-91.95)/(100-91.50))*100"
      ],
      "metadata": {
        "colab": {
          "base_uri": "https://localhost:8080/"
        },
        "id": "m8GoURx_HsEa",
        "outputId": "409e0b34-bd33-4f79-a3d2-49993cacca34"
      },
      "execution_count": 56,
      "outputs": [
        {
          "output_type": "execute_result",
          "data": {
            "text/plain": [
              "5.29411764705886"
            ]
          },
          "metadata": {},
          "execution_count": 56
        }
      ]
    },
    {
      "cell_type": "code",
      "source": [
        "def build_model(seed=42):\n",
        "  tf.random.set_seed(seed)\n",
        "  return tf.keras.Sequential([\n",
        "    tf.keras.layers.Flatten(input_shape=[28,28]),\n",
        "    tf.keras.layers.Dense(100,activation=\"relu\",\n",
        "                          kernel_initializer=\"he_normal\"),\n",
        "    tf.keras.layers.Dense(100,activation=\"relu\",\n",
        "                          kernel_initializer=\"he_normal\"),\n",
        "    tf.keras.layers.Dense(100,activation=\"relu\",\n",
        "                          kernel_initializer=\"he_normal\"),\n",
        "    tf.keras.layers.Dense(10, activation=\"sigmoid\")\n",
        "  ])\n",
        "def build_and_train_model(optimizer):\n",
        "  model=build_model()\n",
        "  model.compile(loss=\"sparse_categorical_crossentropy\", optimizer=optimizer,\n",
        "                metrics=[\"accuracy\"])\n",
        "  return model.fit(X_train, y_train, epochs=10,\n",
        "                   validation_data=(X_valid, y_valid))"
      ],
      "metadata": {
        "id": "qXimplIfIjuY"
      },
      "execution_count": 57,
      "outputs": []
    },
    {
      "cell_type": "markdown",
      "source": [
        "#Momentum optimization"
      ],
      "metadata": {
        "id": "9zU8LZhsJ-wO"
      }
    },
    {
      "cell_type": "code",
      "source": [
        "optimizer = tf.keras.optimizers.SGD(learning_rate=0.001, momentum=0.9)"
      ],
      "metadata": {
        "id": "cpy_b_F_KCcr"
      },
      "execution_count": 58,
      "outputs": []
    },
    {
      "cell_type": "code",
      "source": [
        "history_sgd = build_and_train_model(optimizer)"
      ],
      "metadata": {
        "colab": {
          "base_uri": "https://localhost:8080/"
        },
        "id": "lZUykyztKNbk",
        "outputId": "b25dd79f-bb92-4a6f-ce6b-ad5543028908"
      },
      "execution_count": 59,
      "outputs": [
        {
          "output_type": "stream",
          "name": "stdout",
          "text": [
            "Epoch 1/10\n",
            "1719/1719 [==============================] - 6s 3ms/step - loss: 0.7128 - accuracy: 0.7584 - val_loss: 0.5222 - val_accuracy: 0.8126\n",
            "Epoch 2/10\n",
            "1719/1719 [==============================] - 5s 3ms/step - loss: 0.4746 - accuracy: 0.8329 - val_loss: 0.4403 - val_accuracy: 0.8408\n",
            "Epoch 3/10\n",
            "1719/1719 [==============================] - 6s 3ms/step - loss: 0.4268 - accuracy: 0.8487 - val_loss: 0.4199 - val_accuracy: 0.8528\n",
            "Epoch 4/10\n",
            "1719/1719 [==============================] - 5s 3ms/step - loss: 0.4002 - accuracy: 0.8592 - val_loss: 0.3914 - val_accuracy: 0.8626\n",
            "Epoch 5/10\n",
            "1719/1719 [==============================] - 6s 3ms/step - loss: 0.3782 - accuracy: 0.8660 - val_loss: 0.3736 - val_accuracy: 0.8688\n",
            "Epoch 6/10\n",
            "1719/1719 [==============================] - 5s 3ms/step - loss: 0.3643 - accuracy: 0.8704 - val_loss: 0.3764 - val_accuracy: 0.8702\n",
            "Epoch 7/10\n",
            "1719/1719 [==============================] - 6s 3ms/step - loss: 0.3476 - accuracy: 0.8761 - val_loss: 0.3807 - val_accuracy: 0.8632\n",
            "Epoch 8/10\n",
            "1719/1719 [==============================] - 6s 3ms/step - loss: 0.3382 - accuracy: 0.8784 - val_loss: 0.3524 - val_accuracy: 0.8744\n",
            "Epoch 9/10\n",
            "1719/1719 [==============================] - 5s 3ms/step - loss: 0.3284 - accuracy: 0.8824 - val_loss: 0.3664 - val_accuracy: 0.8684\n",
            "Epoch 10/10\n",
            "1719/1719 [==============================] - 6s 4ms/step - loss: 0.3185 - accuracy: 0.8854 - val_loss: 0.3720 - val_accuracy: 0.8698\n"
          ]
        }
      ]
    },
    {
      "cell_type": "markdown",
      "source": [
        "#Nesterov accelerated gradient"
      ],
      "metadata": {
        "id": "8PqY2NgVL3Fd"
      }
    },
    {
      "cell_type": "code",
      "source": [
        "optimizer = tf.keras.optimizers.SGD(learning_rate=0.001, momentum=0.9,\n",
        "                                    nesterov= True)"
      ],
      "metadata": {
        "id": "Dl4rpmflL9_p"
      },
      "execution_count": 60,
      "outputs": []
    },
    {
      "cell_type": "code",
      "source": [
        "history_nesterov = build_and_train_model(optimizer)"
      ],
      "metadata": {
        "colab": {
          "base_uri": "https://localhost:8080/"
        },
        "id": "kaY8A1q9MOsY",
        "outputId": "6ad58b89-0f18-4cd5-ef6b-5736076c760e"
      },
      "execution_count": 62,
      "outputs": [
        {
          "output_type": "stream",
          "name": "stdout",
          "text": [
            "Epoch 1/10\n",
            "1719/1719 [==============================] - 7s 4ms/step - loss: 0.6826 - accuracy: 0.7688 - val_loss: 0.4863 - val_accuracy: 0.8268\n",
            "Epoch 2/10\n",
            "1719/1719 [==============================] - 6s 4ms/step - loss: 0.4561 - accuracy: 0.8407 - val_loss: 0.4274 - val_accuracy: 0.8466\n",
            "Epoch 3/10\n",
            "1719/1719 [==============================] - 6s 4ms/step - loss: 0.4147 - accuracy: 0.8542 - val_loss: 0.3942 - val_accuracy: 0.8584\n",
            "Epoch 4/10\n",
            "1719/1719 [==============================] - 5s 3ms/step - loss: 0.3887 - accuracy: 0.8642 - val_loss: 0.3768 - val_accuracy: 0.8660\n",
            "Epoch 5/10\n",
            "1719/1719 [==============================] - 6s 3ms/step - loss: 0.3692 - accuracy: 0.8707 - val_loss: 0.3647 - val_accuracy: 0.8662\n",
            "Epoch 6/10\n",
            "1719/1719 [==============================] - 6s 3ms/step - loss: 0.3548 - accuracy: 0.8736 - val_loss: 0.3813 - val_accuracy: 0.8646\n",
            "Epoch 7/10\n",
            "1719/1719 [==============================] - 5s 3ms/step - loss: 0.3402 - accuracy: 0.8784 - val_loss: 0.3735 - val_accuracy: 0.8652\n",
            "Epoch 8/10\n",
            "1719/1719 [==============================] - 6s 4ms/step - loss: 0.3302 - accuracy: 0.8812 - val_loss: 0.3560 - val_accuracy: 0.8694\n",
            "Epoch 9/10\n",
            "1719/1719 [==============================] - 6s 3ms/step - loss: 0.3213 - accuracy: 0.8846 - val_loss: 0.3506 - val_accuracy: 0.8692\n",
            "Epoch 10/10\n",
            "1719/1719 [==============================] - 8s 5ms/step - loss: 0.3107 - accuracy: 0.8884 - val_loss: 0.3587 - val_accuracy: 0.8678\n"
          ]
        }
      ]
    },
    {
      "cell_type": "markdown",
      "source": [
        "#Adagrad"
      ],
      "metadata": {
        "id": "2JOAA27wMWyE"
      }
    },
    {
      "cell_type": "code",
      "source": [
        "optimizer = tf.keras.optimizers.Adagrad(learning_rate=0.001)\n"
      ],
      "metadata": {
        "id": "JLYLgAo9NV3t"
      },
      "execution_count": 63,
      "outputs": []
    },
    {
      "cell_type": "code",
      "source": [
        "history_adagrad = build_and_train_model(optimizer)"
      ],
      "metadata": {
        "colab": {
          "base_uri": "https://localhost:8080/"
        },
        "id": "EVavtkOcNfvv",
        "outputId": "2cb30d9d-f8a7-4015-8bda-d174a472a502"
      },
      "execution_count": 64,
      "outputs": [
        {
          "output_type": "stream",
          "name": "stdout",
          "text": [
            "Epoch 1/10\n",
            "1719/1719 [==============================] - 7s 4ms/step - loss: 1.0035 - accuracy: 0.6686 - val_loss: 0.7047 - val_accuracy: 0.7636\n",
            "Epoch 2/10\n",
            "1719/1719 [==============================] - 5s 3ms/step - loss: 0.6541 - accuracy: 0.7819 - val_loss: 0.5962 - val_accuracy: 0.7994\n",
            "Epoch 3/10\n",
            "1719/1719 [==============================] - 6s 4ms/step - loss: 0.5789 - accuracy: 0.8057 - val_loss: 0.5469 - val_accuracy: 0.8122\n",
            "Epoch 4/10\n",
            "1719/1719 [==============================] - 5s 3ms/step - loss: 0.5394 - accuracy: 0.8171 - val_loss: 0.5206 - val_accuracy: 0.8210\n",
            "Epoch 5/10\n",
            "1719/1719 [==============================] - 7s 4ms/step - loss: 0.5145 - accuracy: 0.8246 - val_loss: 0.5007 - val_accuracy: 0.8268\n",
            "Epoch 6/10\n",
            "1719/1719 [==============================] - 6s 3ms/step - loss: 0.4970 - accuracy: 0.8300 - val_loss: 0.4885 - val_accuracy: 0.8282\n",
            "Epoch 7/10\n",
            "1719/1719 [==============================] - 6s 4ms/step - loss: 0.4837 - accuracy: 0.8340 - val_loss: 0.4782 - val_accuracy: 0.8312\n",
            "Epoch 8/10\n",
            "1719/1719 [==============================] - 5s 3ms/step - loss: 0.4733 - accuracy: 0.8371 - val_loss: 0.4680 - val_accuracy: 0.8336\n",
            "Epoch 9/10\n",
            "1719/1719 [==============================] - 6s 3ms/step - loss: 0.4645 - accuracy: 0.8401 - val_loss: 0.4622 - val_accuracy: 0.8360\n",
            "Epoch 10/10\n",
            "1719/1719 [==============================] - 6s 4ms/step - loss: 0.4567 - accuracy: 0.8430 - val_loss: 0.4551 - val_accuracy: 0.8382\n"
          ]
        }
      ]
    },
    {
      "cell_type": "markdown",
      "source": [
        "#RMSPROP"
      ],
      "metadata": {
        "id": "nyvn_WU2N0Li"
      }
    },
    {
      "cell_type": "code",
      "source": [
        "optimizer = tf.keras.optimizers.RMSprop(learning_rate=0.001, rho=0.9)\n"
      ],
      "metadata": {
        "id": "zTzHm2-2N47b"
      },
      "execution_count": 67,
      "outputs": []
    },
    {
      "cell_type": "code",
      "source": [
        "history_rmsprop = build_and_train_model(optimizer)"
      ],
      "metadata": {
        "colab": {
          "base_uri": "https://localhost:8080/"
        },
        "id": "-XnJRgq8OB0g",
        "outputId": "7fb390aa-4d30-4f55-b233-12ee0439a86a"
      },
      "execution_count": 68,
      "outputs": [
        {
          "output_type": "stream",
          "name": "stdout",
          "text": [
            "Epoch 1/10\n",
            "1719/1719 [==============================] - 7s 4ms/step - loss: 0.5177 - accuracy: 0.8130 - val_loss: 0.4324 - val_accuracy: 0.8336\n",
            "Epoch 2/10\n",
            "1719/1719 [==============================] - 6s 4ms/step - loss: 0.3952 - accuracy: 0.8587 - val_loss: 0.4733 - val_accuracy: 0.8312\n",
            "Epoch 3/10\n",
            "1719/1719 [==============================] - 7s 4ms/step - loss: 0.3652 - accuracy: 0.8690 - val_loss: 0.4253 - val_accuracy: 0.8570\n",
            "Epoch 4/10\n",
            "1719/1719 [==============================] - 6s 4ms/step - loss: 0.3559 - accuracy: 0.8762 - val_loss: 0.3956 - val_accuracy: 0.8686\n",
            "Epoch 5/10\n",
            "1719/1719 [==============================] - 6s 4ms/step - loss: 0.3513 - accuracy: 0.8774 - val_loss: 0.4083 - val_accuracy: 0.8638\n",
            "Epoch 6/10\n",
            "1719/1719 [==============================] - 6s 3ms/step - loss: 0.3452 - accuracy: 0.8804 - val_loss: 0.4618 - val_accuracy: 0.8568\n",
            "Epoch 7/10\n",
            "1719/1719 [==============================] - 7s 4ms/step - loss: 0.3482 - accuracy: 0.8799 - val_loss: 0.4562 - val_accuracy: 0.8568\n",
            "Epoch 8/10\n",
            "1719/1719 [==============================] - 6s 3ms/step - loss: 0.3429 - accuracy: 0.8821 - val_loss: 0.4202 - val_accuracy: 0.8616\n",
            "Epoch 9/10\n",
            "1719/1719 [==============================] - 6s 4ms/step - loss: 0.3387 - accuracy: 0.8843 - val_loss: 0.4571 - val_accuracy: 0.8768\n",
            "Epoch 10/10\n",
            "1719/1719 [==============================] - 6s 3ms/step - loss: 0.3349 - accuracy: 0.8854 - val_loss: 0.6261 - val_accuracy: 0.8454\n"
          ]
        }
      ]
    },
    {
      "cell_type": "markdown",
      "source": [
        "#Adam Optimization"
      ],
      "metadata": {
        "id": "mPMxxwOdOIM7"
      }
    },
    {
      "cell_type": "code",
      "source": [
        "optimizer = tf.keras.optimizers.Adam(learning_rate=0.001, beta_1=0.9,\n",
        "                                     beta_2=0.999)\n",
        "history_adam = build_and_train_model(optimizer)"
      ],
      "metadata": {
        "colab": {
          "base_uri": "https://localhost:8080/"
        },
        "id": "-BzA_RAiO_vK",
        "outputId": "1a71df94-1faa-429c-a0e8-c5589b2ff90f"
      },
      "execution_count": 69,
      "outputs": [
        {
          "output_type": "stream",
          "name": "stdout",
          "text": [
            "Epoch 1/10\n",
            "1719/1719 [==============================] - 9s 5ms/step - loss: 0.5017 - accuracy: 0.8202 - val_loss: 0.4128 - val_accuracy: 0.8376\n",
            "Epoch 2/10\n",
            "1719/1719 [==============================] - 6s 4ms/step - loss: 0.3766 - accuracy: 0.8620 - val_loss: 0.3942 - val_accuracy: 0.8490\n",
            "Epoch 3/10\n",
            "1719/1719 [==============================] - 7s 4ms/step - loss: 0.3425 - accuracy: 0.8731 - val_loss: 0.3636 - val_accuracy: 0.8696\n",
            "Epoch 4/10\n",
            "1719/1719 [==============================] - 6s 4ms/step - loss: 0.3170 - accuracy: 0.8835 - val_loss: 0.3485 - val_accuracy: 0.8718\n",
            "Epoch 5/10\n",
            "1719/1719 [==============================] - 7s 4ms/step - loss: 0.2992 - accuracy: 0.8882 - val_loss: 0.3201 - val_accuracy: 0.8776\n",
            "Epoch 6/10\n",
            "1719/1719 [==============================] - 6s 4ms/step - loss: 0.2843 - accuracy: 0.8943 - val_loss: 0.3474 - val_accuracy: 0.8806\n",
            "Epoch 7/10\n",
            "1719/1719 [==============================] - 7s 4ms/step - loss: 0.2719 - accuracy: 0.8979 - val_loss: 0.3627 - val_accuracy: 0.8738\n",
            "Epoch 8/10\n",
            "1719/1719 [==============================] - 7s 4ms/step - loss: 0.2623 - accuracy: 0.9008 - val_loss: 0.3330 - val_accuracy: 0.8858\n",
            "Epoch 9/10\n",
            "1719/1719 [==============================] - 7s 4ms/step - loss: 0.2518 - accuracy: 0.9050 - val_loss: 0.3600 - val_accuracy: 0.8732\n",
            "Epoch 10/10\n",
            "1719/1719 [==============================] - 7s 4ms/step - loss: 0.2427 - accuracy: 0.9082 - val_loss: 0.3461 - val_accuracy: 0.8854\n"
          ]
        }
      ]
    },
    {
      "cell_type": "markdown",
      "source": [
        "#Adamax Optimizers"
      ],
      "metadata": {
        "id": "lvwoYJ0cP8OM"
      }
    },
    {
      "cell_type": "code",
      "source": [
        "optimizer = tf.keras.optimizers.Adamax(learning_rate=0.001, beta_1=0.9,\n",
        "                                       beta_2=0.999)\n",
        "history_adamax = build_and_train_model(optimizer)"
      ],
      "metadata": {
        "colab": {
          "base_uri": "https://localhost:8080/"
        },
        "id": "zOhX-5-4QAaq",
        "outputId": "19dc078b-dbf3-43f6-a100-59f8c2d60228"
      },
      "execution_count": 70,
      "outputs": [
        {
          "output_type": "stream",
          "name": "stdout",
          "text": [
            "Epoch 1/10\n",
            "1719/1719 [==============================] - 8s 4ms/step - loss: 0.5352 - accuracy: 0.8147 - val_loss: 0.4407 - val_accuracy: 0.8388\n",
            "Epoch 2/10\n",
            "1719/1719 [==============================] - 7s 4ms/step - loss: 0.3951 - accuracy: 0.8593 - val_loss: 0.3900 - val_accuracy: 0.8540\n",
            "Epoch 3/10\n",
            "1719/1719 [==============================] - 6s 4ms/step - loss: 0.3570 - accuracy: 0.8712 - val_loss: 0.3657 - val_accuracy: 0.8722\n",
            "Epoch 4/10\n",
            "1719/1719 [==============================] - 8s 5ms/step - loss: 0.3333 - accuracy: 0.8795 - val_loss: 0.3353 - val_accuracy: 0.8756\n",
            "Epoch 5/10\n",
            "1719/1719 [==============================] - 7s 4ms/step - loss: 0.3125 - accuracy: 0.8853 - val_loss: 0.3286 - val_accuracy: 0.8810\n",
            "Epoch 6/10\n",
            "1719/1719 [==============================] - 9s 5ms/step - loss: 0.3001 - accuracy: 0.8913 - val_loss: 0.3338 - val_accuracy: 0.8732\n",
            "Epoch 7/10\n",
            "1719/1719 [==============================] - 8s 5ms/step - loss: 0.2874 - accuracy: 0.8940 - val_loss: 0.3434 - val_accuracy: 0.8756\n",
            "Epoch 8/10\n",
            "1719/1719 [==============================] - 9s 5ms/step - loss: 0.2771 - accuracy: 0.8969 - val_loss: 0.3093 - val_accuracy: 0.8864\n",
            "Epoch 9/10\n",
            "1719/1719 [==============================] - 8s 5ms/step - loss: 0.2681 - accuracy: 0.9001 - val_loss: 0.3340 - val_accuracy: 0.8738\n",
            "Epoch 10/10\n",
            "1719/1719 [==============================] - 7s 4ms/step - loss: 0.2572 - accuracy: 0.9044 - val_loss: 0.3607 - val_accuracy: 0.8714\n"
          ]
        }
      ]
    },
    {
      "cell_type": "markdown",
      "source": [
        "#AdamW Optimization"
      ],
      "metadata": {
        "id": "DE1FGYaDQaaT"
      }
    },
    {
      "cell_type": "code",
      "source": [
        "optimizer = tf.keras.optimizers.AdamW(weight_decay = 1e-5, learning_rate=0.001,\n",
        "                                      beta_1=0.9, beta_2=0.999)\n",
        "history_adamw = build_and_train_model(optimizer)"
      ],
      "metadata": {
        "colab": {
          "base_uri": "https://localhost:8080/"
        },
        "id": "7KFBL2ihQgSw",
        "outputId": "3e09c90d-b67d-442d-98d5-737afe5957d2"
      },
      "execution_count": 71,
      "outputs": [
        {
          "output_type": "stream",
          "name": "stdout",
          "text": [
            "Epoch 1/10\n",
            "1719/1719 [==============================] - 7s 4ms/step - loss: 0.5047 - accuracy: 0.8197 - val_loss: 0.4109 - val_accuracy: 0.8442\n",
            "Epoch 2/10\n",
            "1719/1719 [==============================] - 7s 4ms/step - loss: 0.3759 - accuracy: 0.8617 - val_loss: 0.4173 - val_accuracy: 0.8412\n",
            "Epoch 3/10\n",
            "1719/1719 [==============================] - 7s 4ms/step - loss: 0.3432 - accuracy: 0.8744 - val_loss: 0.3469 - val_accuracy: 0.8746\n",
            "Epoch 4/10\n",
            "1719/1719 [==============================] - 6s 4ms/step - loss: 0.3171 - accuracy: 0.8837 - val_loss: 0.3356 - val_accuracy: 0.8756\n",
            "Epoch 5/10\n",
            "1719/1719 [==============================] - 7s 4ms/step - loss: 0.2990 - accuracy: 0.8885 - val_loss: 0.3226 - val_accuracy: 0.8752\n",
            "Epoch 6/10\n",
            "1719/1719 [==============================] - 7s 4ms/step - loss: 0.2849 - accuracy: 0.8938 - val_loss: 0.3636 - val_accuracy: 0.8760\n",
            "Epoch 7/10\n",
            "1719/1719 [==============================] - 7s 4ms/step - loss: 0.2711 - accuracy: 0.8974 - val_loss: 0.3399 - val_accuracy: 0.8808\n",
            "Epoch 8/10\n",
            "1719/1719 [==============================] - 6s 3ms/step - loss: 0.2613 - accuracy: 0.9006 - val_loss: 0.3200 - val_accuracy: 0.8846\n",
            "Epoch 9/10\n",
            "1719/1719 [==============================] - 7s 4ms/step - loss: 0.2519 - accuracy: 0.9059 - val_loss: 0.3704 - val_accuracy: 0.8732\n",
            "Epoch 10/10\n",
            "1719/1719 [==============================] - 6s 3ms/step - loss: 0.2424 - accuracy: 0.9085 - val_loss: 0.3740 - val_accuracy: 0.8786\n"
          ]
        }
      ]
    },
    {
      "cell_type": "markdown",
      "source": [
        "#Learning RAte scheduling"
      ],
      "metadata": {
        "id": "ahXhwQ0xSekt"
      }
    },
    {
      "cell_type": "code",
      "source": [
        "# DEPRECAT\n",
        "optimizer = tf.keras.optimizers.legacy.SGD(learning_rate=0.001, decay=1e-4)\n"
      ],
      "metadata": {
        "id": "ekgmwwsBSlA9"
      },
      "execution_count": 73,
      "outputs": []
    },
    {
      "cell_type": "code",
      "source": [
        "#REcommended\n",
        "lr_schedule = tf.keras.optimizers.schedules.InverseTimeDecay(\n",
        "    initial_learning_rate=0.001,\n",
        "    decay_steps = 10_000,\n",
        "    decay_rate=1.0,\n",
        "    staircase=False\n",
        ")\n",
        "optimizer = tf.keras.optimizers.SGD(learning_rate=lr_schedule)"
      ],
      "metadata": {
        "id": "B8XljU-RTBPN"
      },
      "execution_count": 75,
      "outputs": []
    },
    {
      "cell_type": "code",
      "source": [
        "history_power_scheduling = build_and_train_model(optimizer)"
      ],
      "metadata": {
        "colab": {
          "base_uri": "https://localhost:8080/"
        },
        "id": "t6avDb8bTw-b",
        "outputId": "43a8311c-446c-46ca-f63c-9e9592c061c4"
      },
      "execution_count": 76,
      "outputs": [
        {
          "output_type": "stream",
          "name": "stdout",
          "text": [
            "Epoch 1/10\n",
            "1719/1719 [==============================] - 6s 3ms/step - loss: 1.2663 - accuracy: 0.6027 - val_loss: 0.8468 - val_accuracy: 0.7332\n",
            "Epoch 2/10\n",
            "1719/1719 [==============================] - 6s 3ms/step - loss: 0.7737 - accuracy: 0.7421 - val_loss: 0.6929 - val_accuracy: 0.7710\n",
            "Epoch 3/10\n",
            "1719/1719 [==============================] - 5s 3ms/step - loss: 0.6726 - accuracy: 0.7738 - val_loss: 0.6255 - val_accuracy: 0.7846\n",
            "Epoch 4/10\n",
            "1719/1719 [==============================] - 6s 3ms/step - loss: 0.6196 - accuracy: 0.7917 - val_loss: 0.5873 - val_accuracy: 0.8006\n",
            "Epoch 5/10\n",
            "1719/1719 [==============================] - 5s 3ms/step - loss: 0.5852 - accuracy: 0.8016 - val_loss: 0.5614 - val_accuracy: 0.8052\n",
            "Epoch 6/10\n",
            "1719/1719 [==============================] - 7s 4ms/step - loss: 0.5615 - accuracy: 0.8087 - val_loss: 0.5443 - val_accuracy: 0.8110\n",
            "Epoch 7/10\n",
            "1719/1719 [==============================] - 5s 3ms/step - loss: 0.5440 - accuracy: 0.8134 - val_loss: 0.5292 - val_accuracy: 0.8158\n",
            "Epoch 8/10\n",
            "1719/1719 [==============================] - 5s 3ms/step - loss: 0.5308 - accuracy: 0.8189 - val_loss: 0.5176 - val_accuracy: 0.8160\n",
            "Epoch 9/10\n",
            "1719/1719 [==============================] - 6s 3ms/step - loss: 0.5198 - accuracy: 0.8213 - val_loss: 0.5110 - val_accuracy: 0.8188\n",
            "Epoch 10/10\n",
            "1719/1719 [==============================] - 5s 3ms/step - loss: 0.5107 - accuracy: 0.8252 - val_loss: 0.5015 - val_accuracy: 0.8232\n"
          ]
        }
      ]
    }
  ]
}